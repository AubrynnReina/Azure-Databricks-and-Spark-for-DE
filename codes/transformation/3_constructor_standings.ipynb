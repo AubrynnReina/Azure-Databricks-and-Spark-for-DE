{
 "cells": [
  {
   "cell_type": "markdown",
   "metadata": {
    "application/vnd.databricks.v1+cell": {
     "cellMetadata": {
      "byteLimit": 2048000,
      "rowLimit": 10000
     },
     "inputWidgets": {},
     "nuid": "6a0420ad-6d79-42ce-856b-ae1576d36899",
     "showTitle": false,
     "title": ""
    }
   },
   "source": [
    "# 0. Prepare configurations and race_results table"
   ]
  },
  {
   "cell_type": "code",
   "execution_count": 0,
   "metadata": {
    "application/vnd.databricks.v1+cell": {
     "cellMetadata": {
      "byteLimit": 2048000,
      "rowLimit": 10000
     },
     "inputWidgets": {},
     "nuid": "92809f50-81d4-4370-bdd4-96409ce3a681",
     "showTitle": false,
     "title": ""
    }
   },
   "outputs": [],
   "source": [
    "%run \"../includes/configuration\""
   ]
  },
  {
   "cell_type": "code",
   "execution_count": 0,
   "metadata": {
    "application/vnd.databricks.v1+cell": {
     "cellMetadata": {
      "byteLimit": 2048000,
      "rowLimit": 10000
     },
     "inputWidgets": {},
     "nuid": "36175906-101d-4445-9274-5664c2506d65",
     "showTitle": false,
     "title": ""
    }
   },
   "outputs": [
    {
     "output_type": "execute_result",
     "data": {
      "text/plain": [
       "['race_year',\n",
       " 'race_name',\n",
       " 'race_date',\n",
       " 'circuit_location',\n",
       " 'driver_name',\n",
       " 'driver_number',\n",
       " 'driver_nationality',\n",
       " 'team',\n",
       " 'grid',\n",
       " 'fastest_lap',\n",
       " 'race_time',\n",
       " 'points',\n",
       " 'position',\n",
       " 'created_date']"
      ]
     },
     "execution_count": 2,
     "metadata": {},
     "output_type": "execute_result"
    }
   ],
   "source": [
    "race_results_df = spark.read.parquet(f'{presentation_folder_path}/race_results')\n",
    "race_results_df.columns"
   ]
  },
  {
   "cell_type": "markdown",
   "metadata": {
    "application/vnd.databricks.v1+cell": {
     "cellMetadata": {
      "byteLimit": 2048000,
      "rowLimit": 10000
     },
     "inputWidgets": {},
     "nuid": "5f025c48-15d0-4069-9068-a70dddb415db",
     "showTitle": false,
     "title": ""
    }
   },
   "source": [
    "# 1. Get driver standing with their corresponding year, team and nationality"
   ]
  },
  {
   "cell_type": "code",
   "execution_count": 0,
   "metadata": {
    "application/vnd.databricks.v1+cell": {
     "cellMetadata": {
      "byteLimit": 2048000,
      "rowLimit": 10000
     },
     "inputWidgets": {},
     "nuid": "1eab3985-2d73-4780-8516-04bc9c0f63c3",
     "showTitle": false,
     "title": ""
    }
   },
   "outputs": [],
   "source": [
    "from pyspark.sql.functions import sum, count, when, rank, desc\n",
    "from pyspark.sql.window import Window"
   ]
  },
  {
   "cell_type": "code",
   "execution_count": 0,
   "metadata": {
    "application/vnd.databricks.v1+cell": {
     "cellMetadata": {
      "byteLimit": 2048000,
      "rowLimit": 10000
     },
     "inputWidgets": {},
     "nuid": "d5ee7c68-4c27-4e84-823b-829ca428e3b4",
     "showTitle": false,
     "title": ""
    }
   },
   "outputs": [],
   "source": [
    "constructor_rank_spec = Window.partitionBy('race_year').orderBy(desc('points'), desc('wins'))\n",
    "\n",
    "constructor_standings_df = race_results_df\\\n",
    "    .groupBy('team', 'race_year')\\\n",
    "    .agg(\n",
    "        sum('points').alias('points'),\n",
    "        count(when(race_results_df.position == 1, True)).alias('wins')\n",
    "    )\\\n",
    "    .withColumn('rank', rank().over(constructor_rank_spec))\\\n",
    "    .select('*')"
   ]
  },
  {
   "cell_type": "code",
   "execution_count": 0,
   "metadata": {
    "application/vnd.databricks.v1+cell": {
     "cellMetadata": {
      "byteLimit": 2048000,
      "rowLimit": 10000
     },
     "inputWidgets": {},
     "nuid": "74984be8-26cb-4cff-a951-05d41cb49cf3",
     "showTitle": false,
     "title": ""
    }
   },
   "outputs": [
    {
     "output_type": "display_data",
     "data": {
      "text/html": [
       "<style scoped>\n",
       "  .table-result-container {\n",
       "    max-height: 300px;\n",
       "    overflow: auto;\n",
       "  }\n",
       "  table, th, td {\n",
       "    border: 1px solid black;\n",
       "    border-collapse: collapse;\n",
       "  }\n",
       "  th, td {\n",
       "    padding: 5px;\n",
       "  }\n",
       "  th {\n",
       "    text-align: left;\n",
       "  }\n",
       "</style><div class='table-result-container'><table class='table-result'><thead style='background-color: white'><tr><th>team</th><th>race_year</th><th>points</th><th>wins</th><th>rank</th></tr></thead><tbody><tr><td>Mercedes</td><td>2020</td><td>573.0</td><td>13</td><td>1</td></tr><tr><td>Red Bull</td><td>2020</td><td>319.0</td><td>2</td><td>2</td></tr><tr><td>Racing Point</td><td>2020</td><td>210.0</td><td>1</td><td>3</td></tr><tr><td>McLaren</td><td>2020</td><td>202.0</td><td>0</td><td>4</td></tr><tr><td>Renault</td><td>2020</td><td>181.0</td><td>0</td><td>5</td></tr><tr><td>Ferrari</td><td>2020</td><td>131.0</td><td>0</td><td>6</td></tr><tr><td>AlphaTauri</td><td>2020</td><td>107.0</td><td>1</td><td>7</td></tr><tr><td>Alfa Romeo</td><td>2020</td><td>8.0</td><td>0</td><td>8</td></tr><tr><td>Haas F1 Team</td><td>2020</td><td>3.0</td><td>0</td><td>9</td></tr><tr><td>Williams</td><td>2020</td><td>0.0</td><td>0</td><td>10</td></tr></tbody></table></div>"
      ]
     },
     "metadata": {
      "application/vnd.databricks.v1+output": {
       "addedWidgets": {},
       "aggData": [],
       "aggError": "",
       "aggOverflow": false,
       "aggSchema": [],
       "aggSeriesLimitReached": false,
       "aggType": "",
       "arguments": {},
       "columnCustomDisplayInfos": {},
       "data": [
        [
         "Mercedes",
         2020,
         573.0,
         13,
         1
        ],
        [
         "Red Bull",
         2020,
         319.0,
         2,
         2
        ],
        [
         "Racing Point",
         2020,
         210.0,
         1,
         3
        ],
        [
         "McLaren",
         2020,
         202.0,
         0,
         4
        ],
        [
         "Renault",
         2020,
         181.0,
         0,
         5
        ],
        [
         "Ferrari",
         2020,
         131.0,
         0,
         6
        ],
        [
         "AlphaTauri",
         2020,
         107.0,
         1,
         7
        ],
        [
         "Alfa Romeo",
         2020,
         8.0,
         0,
         8
        ],
        [
         "Haas F1 Team",
         2020,
         3.0,
         0,
         9
        ],
        [
         "Williams",
         2020,
         0.0,
         0,
         10
        ]
       ],
       "datasetInfos": [],
       "dbfsResultPath": null,
       "isJsonSchema": true,
       "metadata": {},
       "overflow": false,
       "plotOptions": {
        "customPlotOptions": {},
        "displayType": "table",
        "pivotAggregation": null,
        "pivotColumns": null,
        "xColumns": null,
        "yColumns": null
       },
       "removedWidgets": [],
       "schema": [
        {
         "metadata": "{}",
         "name": "team",
         "type": "\"string\""
        },
        {
         "metadata": "{}",
         "name": "race_year",
         "type": "\"integer\""
        },
        {
         "metadata": "{}",
         "name": "points",
         "type": "\"double\""
        },
        {
         "metadata": "{}",
         "name": "wins",
         "type": "\"long\""
        },
        {
         "metadata": "{}",
         "name": "rank",
         "type": "\"integer\""
        }
       ],
       "type": "table"
      }
     },
     "output_type": "display_data"
    }
   ],
   "source": [
    "constructor_standings_df.filter('race_year = 2020').display()"
   ]
  },
  {
   "cell_type": "markdown",
   "metadata": {
    "application/vnd.databricks.v1+cell": {
     "cellMetadata": {
      "byteLimit": 2048000,
      "rowLimit": 10000
     },
     "inputWidgets": {},
     "nuid": "aa48120f-d389-4934-8b53-744d4ef35496",
     "showTitle": false,
     "title": ""
    }
   },
   "source": [
    "#2. Save to parquet in presentation folder"
   ]
  },
  {
   "cell_type": "code",
   "execution_count": 0,
   "metadata": {
    "application/vnd.databricks.v1+cell": {
     "cellMetadata": {
      "byteLimit": 2048000,
      "rowLimit": 10000
     },
     "inputWidgets": {},
     "nuid": "1ee78406-1ef7-4d93-9cf2-8835ad6da52d",
     "showTitle": false,
     "title": ""
    }
   },
   "outputs": [],
   "source": [
    "driver_standings_df.write.mode('overwrite').parquet(f'{presentation_folder_path}/driver_standings')"
   ]
  },
  {
   "cell_type": "code",
   "execution_count": 0,
   "metadata": {
    "application/vnd.databricks.v1+cell": {
     "cellMetadata": {
      "byteLimit": 2048000,
      "rowLimit": 10000
     },
     "inputWidgets": {},
     "nuid": "af7b4145-6cc1-4744-923b-5bc97a3e1d59",
     "showTitle": false,
     "title": ""
    }
   },
   "outputs": [],
   "source": []
  }
 ],
 "metadata": {
  "application/vnd.databricks.v1+notebook": {
   "dashboards": [],
   "environmentMetadata": {
    "base_environment": "",
    "client": "1"
   },
   "language": "python",
   "notebookMetadata": {
    "pythonIndentUnit": 4
   },
   "notebookName": "3_constructor_standings",
   "widgets": {}
  }
 },
 "nbformat": 4,
 "nbformat_minor": 0
}
