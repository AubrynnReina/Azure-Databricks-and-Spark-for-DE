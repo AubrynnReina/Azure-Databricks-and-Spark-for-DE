{
 "cells": [
  {
   "cell_type": "markdown",
   "metadata": {
    "application/vnd.databricks.v1+cell": {
     "cellMetadata": {
      "byteLimit": 2048000,
      "rowLimit": 10000
     },
     "inputWidgets": {},
     "nuid": "6a0420ad-6d79-42ce-856b-ae1576d36899",
     "showTitle": false,
     "title": ""
    }
   },
   "source": [
    "# 0. Prepare configurations and tables"
   ]
  },
  {
   "cell_type": "code",
   "execution_count": 0,
   "metadata": {
    "application/vnd.databricks.v1+cell": {
     "cellMetadata": {
      "byteLimit": 2048000,
      "rowLimit": 10000
     },
     "inputWidgets": {},
     "nuid": "92809f50-81d4-4370-bdd4-96409ce3a681",
     "showTitle": false,
     "title": ""
    }
   },
   "outputs": [],
   "source": [
    "%run \"../includes/configuration\""
   ]
  },
  {
   "cell_type": "code",
   "execution_count": 0,
   "metadata": {
    "application/vnd.databricks.v1+cell": {
     "cellMetadata": {
      "byteLimit": 2048000,
      "rowLimit": 10000
     },
     "inputWidgets": {},
     "nuid": "61e0802c-ca3c-4b50-98ad-02ff9f527960",
     "showTitle": false,
     "title": ""
    }
   },
   "outputs": [],
   "source": [
    "%run \"../includes/common_functions\""
   ]
  },
  {
   "cell_type": "code",
   "execution_count": 0,
   "metadata": {
    "application/vnd.databricks.v1+cell": {
     "cellMetadata": {
      "byteLimit": 2048000,
      "rowLimit": 10000
     },
     "inputWidgets": {},
     "nuid": "2b0f171a-7020-434d-adcf-8cdd2000c487",
     "showTitle": false,
     "title": ""
    }
   },
   "outputs": [],
   "source": [
    "dbutils.widgets.text('p_file_date', '2021-03-21')\n",
    "param_file_date = dbutils.widgets.get('p_file_date')"
   ]
  },
  {
   "cell_type": "code",
   "execution_count": 0,
   "metadata": {
    "application/vnd.databricks.v1+cell": {
     "cellMetadata": {
      "byteLimit": 2048000,
      "rowLimit": 10000
     },
     "inputWidgets": {},
     "nuid": "0f530156-836e-4876-b6fe-b84f8bed7cb7",
     "showTitle": false,
     "title": ""
    }
   },
   "outputs": [
    {
     "output_type": "execute_result",
     "data": {
      "text/plain": [
       "['race_id',\n",
       " 'race_year',\n",
       " 'round',\n",
       " 'circuit_id',\n",
       " 'name',\n",
       " 'ingestion_date',\n",
       " 'race_timestamp',\n",
       " 'data_source',\n",
       " 'file_date']"
      ]
     },
     "execution_count": 88,
     "metadata": {},
     "output_type": "execute_result"
    }
   ],
   "source": [
    "races_df = spark.read.table('f1_processed.races')\n",
    "races_df.columns"
   ]
  },
  {
   "cell_type": "code",
   "execution_count": 0,
   "metadata": {
    "application/vnd.databricks.v1+cell": {
     "cellMetadata": {
      "byteLimit": 2048000,
      "rowLimit": 10000
     },
     "inputWidgets": {},
     "nuid": "c07881bf-52d1-45a3-a156-76b6752ed810",
     "showTitle": false,
     "title": ""
    }
   },
   "outputs": [
    {
     "output_type": "execute_result",
     "data": {
      "text/plain": [
       "['circuit_id',\n",
       " 'circuit_ref',\n",
       " 'name',\n",
       " 'location',\n",
       " 'country',\n",
       " 'latitude',\n",
       " 'longitude',\n",
       " 'altitude',\n",
       " 'data_source',\n",
       " 'file_date',\n",
       " 'ingestion_date']"
      ]
     },
     "execution_count": 89,
     "metadata": {},
     "output_type": "execute_result"
    }
   ],
   "source": [
    "circuits_df = spark.read.table('f1_processed.circuits')\n",
    "circuits_df.columns"
   ]
  },
  {
   "cell_type": "code",
   "execution_count": 0,
   "metadata": {
    "application/vnd.databricks.v1+cell": {
     "cellMetadata": {
      "byteLimit": 2048000,
      "rowLimit": 10000
     },
     "inputWidgets": {},
     "nuid": "8daa4c5a-df39-495f-9d3d-6c635d97ec79",
     "showTitle": false,
     "title": ""
    }
   },
   "outputs": [
    {
     "output_type": "execute_result",
     "data": {
      "text/plain": [
       "['driver_id',\n",
       " 'driver_ref',\n",
       " 'number',\n",
       " 'code',\n",
       " 'name',\n",
       " 'dob',\n",
       " 'nationality',\n",
       " 'data_source',\n",
       " 'file_date',\n",
       " 'ingestion_date']"
      ]
     },
     "execution_count": 90,
     "metadata": {},
     "output_type": "execute_result"
    }
   ],
   "source": [
    "drivers_df = spark.read.table('f1_processed.drivers')\n",
    "drivers_df.columns"
   ]
  },
  {
   "cell_type": "code",
   "execution_count": 0,
   "metadata": {
    "application/vnd.databricks.v1+cell": {
     "cellMetadata": {
      "byteLimit": 2048000,
      "rowLimit": 10000
     },
     "inputWidgets": {},
     "nuid": "dc8d5f06-6893-4231-a5b9-0b4b0de22f30",
     "showTitle": false,
     "title": ""
    }
   },
   "outputs": [
    {
     "output_type": "execute_result",
     "data": {
      "text/plain": [
       "['constructor_id',\n",
       " 'constructor_ref',\n",
       " 'name',\n",
       " 'nationality',\n",
       " 'data_source',\n",
       " 'file_date',\n",
       " 'ingestion_date']"
      ]
     },
     "execution_count": 91,
     "metadata": {},
     "output_type": "execute_result"
    }
   ],
   "source": [
    "constructors_df = spark.read.table('f1_processed.constructors')\n",
    "constructors_df.columns"
   ]
  },
  {
   "cell_type": "code",
   "execution_count": 0,
   "metadata": {
    "application/vnd.databricks.v1+cell": {
     "cellMetadata": {
      "byteLimit": 2048000,
      "rowLimit": 10000
     },
     "inputWidgets": {},
     "nuid": "36175906-101d-4445-9274-5664c2506d65",
     "showTitle": false,
     "title": ""
    }
   },
   "outputs": [
    {
     "output_type": "execute_result",
     "data": {
      "text/plain": [
       "['result_id',\n",
       " 'race_id',\n",
       " 'driver_id',\n",
       " 'constructor_id',\n",
       " 'number',\n",
       " 'grid',\n",
       " 'position',\n",
       " 'position_text',\n",
       " 'position_order',\n",
       " 'points',\n",
       " 'laps',\n",
       " 'time',\n",
       " 'milliseconds',\n",
       " 'fastest_lap',\n",
       " 'rank',\n",
       " 'fastest_lap_time',\n",
       " 'fastest_lap_speed',\n",
       " 'data_source',\n",
       " 'file_date',\n",
       " 'ingestion_date']"
      ]
     },
     "execution_count": 92,
     "metadata": {},
     "output_type": "execute_result"
    }
   ],
   "source": [
    "results_df = spark.read\\\n",
    "    .table('f1_processed.results')\\\n",
    "    .filter(f\"file_date = '{param_file_date}'\")\n",
    "results_df.columns"
   ]
  },
  {
   "cell_type": "markdown",
   "metadata": {
    "application/vnd.databricks.v1+cell": {
     "cellMetadata": {
      "byteLimit": 2048000,
      "rowLimit": 10000
     },
     "inputWidgets": {},
     "nuid": "5f025c48-15d0-4069-9068-a70dddb415db",
     "showTitle": false,
     "title": ""
    }
   },
   "source": [
    "# 1. Get the required joined table"
   ]
  },
  {
   "cell_type": "code",
   "execution_count": 0,
   "metadata": {
    "application/vnd.databricks.v1+cell": {
     "cellMetadata": {
      "byteLimit": 2048000,
      "rowLimit": 10000
     },
     "inputWidgets": {},
     "nuid": "1eab3985-2d73-4780-8516-04bc9c0f63c3",
     "showTitle": false,
     "title": ""
    }
   },
   "outputs": [],
   "source": [
    "from pyspark.sql.functions import current_timestamp, lit"
   ]
  },
  {
   "cell_type": "code",
   "execution_count": 0,
   "metadata": {
    "application/vnd.databricks.v1+cell": {
     "cellMetadata": {
      "byteLimit": 2048000,
      "rowLimit": 10000
     },
     "inputWidgets": {},
     "nuid": "d5ee7c68-4c27-4e84-823b-829ca428e3b4",
     "showTitle": false,
     "title": ""
    }
   },
   "outputs": [
    {
     "output_type": "display_data",
     "data": {
      "text/html": [
       "<style scoped>\n",
       "  .table-result-container {\n",
       "    max-height: 300px;\n",
       "    overflow: auto;\n",
       "  }\n",
       "  table, th, td {\n",
       "    border: 1px solid black;\n",
       "    border-collapse: collapse;\n",
       "  }\n",
       "  th, td {\n",
       "    padding: 5px;\n",
       "  }\n",
       "  th {\n",
       "    text-align: left;\n",
       "  }\n",
       "</style><div class='table-result-container'><table class='table-result'><thead style='background-color: white'><tr><th>race_id</th><th>race_year</th><th>race_name</th><th>race_date</th><th>circuit_location</th><th>driver_name</th><th>driver_number</th><th>driver_nationality</th><th>team</th><th>grid</th><th>fastest_lap</th><th>race_time</th><th>points</th><th>position</th><th>created_date</th><th>file_date</th></tr></thead><tbody><tr><td>1053</td><td>2021</td><td>Emilia Romagna Grand Prix</td><td>2021-04-18T13:00:00Z</td><td>Imola</td><td>Lewis Hamilton</td><td>44</td><td>British</td><td>Mercedes</td><td>1</td><td>60</td><td>+22.000</td><td>19.0</td><td>2</td><td>2024-09-06T09:18:11.09Z</td><td>2021-04-18</td></tr><tr><td>1053</td><td>2021</td><td>Emilia Romagna Grand Prix</td><td>2021-04-18T13:00:00Z</td><td>Imola</td><td>Fernando Alonso</td><td>14</td><td>Spanish</td><td>Alpine F1 Team</td><td>15</td><td>62</td><td>+66.561</td><td>1.0</td><td>10</td><td>2024-09-06T09:18:11.09Z</td><td>2021-04-18</td></tr><tr><td>1053</td><td>2021</td><td>Emilia Romagna Grand Prix</td><td>2021-04-18T13:00:00Z</td><td>Imola</td><td>Kimi Räikkönen</td><td>7</td><td>Finnish</td><td>Alfa Romeo</td><td>16</td><td>62</td><td>+94.773</td><td>0.0</td><td>13</td><td>2024-09-06T09:18:11.09Z</td><td>2021-04-18</td></tr><tr><td>1053</td><td>2021</td><td>Emilia Romagna Grand Prix</td><td>2021-04-18T13:00:00Z</td><td>Imola</td><td>Sebastian Vettel</td><td>5</td><td>German</td><td>Aston Martin</td><td>0</td><td>59</td><td>\\N</td><td>0.0</td><td>15</td><td>2024-09-06T09:18:11.09Z</td><td>2021-04-18</td></tr><tr><td>1053</td><td>2021</td><td>Emilia Romagna Grand Prix</td><td>2021-04-18T13:00:00Z</td><td>Imola</td><td>Sergio Pérez</td><td>11</td><td>Mexican</td><td>Red Bull</td><td>2</td><td>62</td><td>+67.151</td><td>0.0</td><td>11</td><td>2024-09-06T09:18:11.09Z</td><td>2021-04-18</td></tr><tr><td>1053</td><td>2021</td><td>Emilia Romagna Grand Prix</td><td>2021-04-18T13:00:00Z</td><td>Imola</td><td>Daniel Ricciardo</td><td>3</td><td>Australian</td><td>McLaren</td><td>6</td><td>54</td><td>+51.220</td><td>8.0</td><td>6</td><td>2024-09-06T09:18:11.09Z</td><td>2021-04-18</td></tr><tr><td>1053</td><td>2021</td><td>Emilia Romagna Grand Prix</td><td>2021-04-18T13:00:00Z</td><td>Imola</td><td>Valtteri Bottas</td><td>77</td><td>Finnish</td><td>Mercedes</td><td>8</td><td>30</td><td>\\N</td><td>0.0</td><td>null</td><td>2024-09-06T09:18:11.09Z</td><td>2021-04-18</td></tr><tr><td>1053</td><td>2021</td><td>Emilia Romagna Grand Prix</td><td>2021-04-18T13:00:00Z</td><td>Imola</td><td>Max Verstappen</td><td>33</td><td>Dutch</td><td>Red Bull</td><td>3</td><td>60</td><td>2:02:34.598</td><td>25.0</td><td>1</td><td>2024-09-06T09:18:11.09Z</td><td>2021-04-18</td></tr><tr><td>1053</td><td>2021</td><td>Emilia Romagna Grand Prix</td><td>2021-04-18T13:00:00Z</td><td>Imola</td><td>Carlos Sainz</td><td>55</td><td>Spanish</td><td>Ferrari</td><td>11</td><td>60</td><td>+27.036</td><td>10.0</td><td>5</td><td>2024-09-06T09:18:11.09Z</td><td>2021-04-18</td></tr><tr><td>1053</td><td>2021</td><td>Emilia Romagna Grand Prix</td><td>2021-04-18T13:00:00Z</td><td>Imola</td><td>Esteban Ocon</td><td>31</td><td>French</td><td>Alpine F1 Team</td><td>9</td><td>62</td><td>+65.704</td><td>2.0</td><td>9</td><td>2024-09-06T09:18:11.09Z</td><td>2021-04-18</td></tr></tbody></table></div>"
      ]
     },
     "metadata": {
      "application/vnd.databricks.v1+output": {
       "addedWidgets": {},
       "aggData": [],
       "aggError": "",
       "aggOverflow": false,
       "aggSchema": [],
       "aggSeriesLimitReached": false,
       "aggType": "",
       "arguments": {},
       "columnCustomDisplayInfos": {},
       "data": [
        [
         1053,
         2021,
         "Emilia Romagna Grand Prix",
         "2021-04-18T13:00:00Z",
         "Imola",
         "Lewis Hamilton",
         44,
         "British",
         "Mercedes",
         1,
         60,
         "+22.000",
         19.0,
         2,
         "2024-09-06T09:18:11.09Z",
         "2021-04-18"
        ],
        [
         1053,
         2021,
         "Emilia Romagna Grand Prix",
         "2021-04-18T13:00:00Z",
         "Imola",
         "Fernando Alonso",
         14,
         "Spanish",
         "Alpine F1 Team",
         15,
         62,
         "+66.561",
         1.0,
         10,
         "2024-09-06T09:18:11.09Z",
         "2021-04-18"
        ],
        [
         1053,
         2021,
         "Emilia Romagna Grand Prix",
         "2021-04-18T13:00:00Z",
         "Imola",
         "Kimi Räikkönen",
         7,
         "Finnish",
         "Alfa Romeo",
         16,
         62,
         "+94.773",
         0.0,
         13,
         "2024-09-06T09:18:11.09Z",
         "2021-04-18"
        ],
        [
         1053,
         2021,
         "Emilia Romagna Grand Prix",
         "2021-04-18T13:00:00Z",
         "Imola",
         "Sebastian Vettel",
         5,
         "German",
         "Aston Martin",
         0,
         59,
         "\\N",
         0.0,
         15,
         "2024-09-06T09:18:11.09Z",
         "2021-04-18"
        ],
        [
         1053,
         2021,
         "Emilia Romagna Grand Prix",
         "2021-04-18T13:00:00Z",
         "Imola",
         "Sergio Pérez",
         11,
         "Mexican",
         "Red Bull",
         2,
         62,
         "+67.151",
         0.0,
         11,
         "2024-09-06T09:18:11.09Z",
         "2021-04-18"
        ],
        [
         1053,
         2021,
         "Emilia Romagna Grand Prix",
         "2021-04-18T13:00:00Z",
         "Imola",
         "Daniel Ricciardo",
         3,
         "Australian",
         "McLaren",
         6,
         54,
         "+51.220",
         8.0,
         6,
         "2024-09-06T09:18:11.09Z",
         "2021-04-18"
        ],
        [
         1053,
         2021,
         "Emilia Romagna Grand Prix",
         "2021-04-18T13:00:00Z",
         "Imola",
         "Valtteri Bottas",
         77,
         "Finnish",
         "Mercedes",
         8,
         30,
         "\\N",
         0.0,
         null,
         "2024-09-06T09:18:11.09Z",
         "2021-04-18"
        ],
        [
         1053,
         2021,
         "Emilia Romagna Grand Prix",
         "2021-04-18T13:00:00Z",
         "Imola",
         "Max Verstappen",
         33,
         "Dutch",
         "Red Bull",
         3,
         60,
         "2:02:34.598",
         25.0,
         1,
         "2024-09-06T09:18:11.09Z",
         "2021-04-18"
        ],
        [
         1053,
         2021,
         "Emilia Romagna Grand Prix",
         "2021-04-18T13:00:00Z",
         "Imola",
         "Carlos Sainz",
         55,
         "Spanish",
         "Ferrari",
         11,
         60,
         "+27.036",
         10.0,
         5,
         "2024-09-06T09:18:11.09Z",
         "2021-04-18"
        ],
        [
         1053,
         2021,
         "Emilia Romagna Grand Prix",
         "2021-04-18T13:00:00Z",
         "Imola",
         "Esteban Ocon",
         31,
         "French",
         "Alpine F1 Team",
         9,
         62,
         "+65.704",
         2.0,
         9,
         "2024-09-06T09:18:11.09Z",
         "2021-04-18"
        ]
       ],
       "datasetInfos": [],
       "dbfsResultPath": null,
       "isJsonSchema": true,
       "metadata": {},
       "overflow": false,
       "plotOptions": {
        "customPlotOptions": {},
        "displayType": "table",
        "pivotAggregation": null,
        "pivotColumns": null,
        "xColumns": null,
        "yColumns": null
       },
       "removedWidgets": [],
       "schema": [
        {
         "metadata": "{}",
         "name": "race_id",
         "type": "\"integer\""
        },
        {
         "metadata": "{}",
         "name": "race_year",
         "type": "\"integer\""
        },
        {
         "metadata": "{}",
         "name": "race_name",
         "type": "\"string\""
        },
        {
         "metadata": "{}",
         "name": "race_date",
         "type": "\"timestamp\""
        },
        {
         "metadata": "{}",
         "name": "circuit_location",
         "type": "\"string\""
        },
        {
         "metadata": "{}",
         "name": "driver_name",
         "type": "\"string\""
        },
        {
         "metadata": "{}",
         "name": "driver_number",
         "type": "\"integer\""
        },
        {
         "metadata": "{}",
         "name": "driver_nationality",
         "type": "\"string\""
        },
        {
         "metadata": "{}",
         "name": "team",
         "type": "\"string\""
        },
        {
         "metadata": "{}",
         "name": "grid",
         "type": "\"integer\""
        },
        {
         "metadata": "{}",
         "name": "fastest_lap",
         "type": "\"integer\""
        },
        {
         "metadata": "{}",
         "name": "race_time",
         "type": "\"string\""
        },
        {
         "metadata": "{}",
         "name": "points",
         "type": "\"float\""
        },
        {
         "metadata": "{}",
         "name": "position",
         "type": "\"integer\""
        },
        {
         "metadata": "{}",
         "name": "created_date",
         "type": "\"timestamp\""
        },
        {
         "metadata": "{}",
         "name": "file_date",
         "type": "\"string\""
        }
       ],
       "type": "table"
      }
     },
     "output_type": "display_data"
    }
   ],
   "source": [
    "final_df = results_df\\\n",
    "    .join(constructors_df, on='constructor_id', how='inner')\\\n",
    "    .join(drivers_df, on='driver_id', how='inner')\\\n",
    "    .join(races_df, on=('race_id'), how='inner')\\\n",
    "    .join(circuits_df, on='circuit_id', how='inner')\\\n",
    "    .select(\n",
    "        results_df.race_id.alias('race_id'),\n",
    "        races_df.race_year.alias('race_year'),\n",
    "        races_df.name.alias('race_name'),\n",
    "        races_df.race_timestamp.alias('race_date'),\n",
    "        circuits_df.location.alias('circuit_location'),\n",
    "        drivers_df.name.alias('driver_name'),\n",
    "        drivers_df.number.alias('driver_number'),\n",
    "        drivers_df.nationality.alias('driver_nationality'),\n",
    "        constructors_df.name.alias('team'),\n",
    "        results_df.grid.alias('grid'),\n",
    "        results_df.fastest_lap.alias('fastest_lap'),\n",
    "        results_df.time.alias('race_time'),\n",
    "        results_df.points.alias('points'),\n",
    "        results_df.position.alias('position')\n",
    "    )\\\n",
    "    .withColumn('created_date', current_timestamp())\\\n",
    "    .withColumn('file_date', lit(param_file_date))\n",
    "\n",
    "final_df.limit(10).display()\n"
   ]
  },
  {
   "cell_type": "code",
   "execution_count": 0,
   "metadata": {
    "application/vnd.databricks.v1+cell": {
     "cellMetadata": {
      "byteLimit": 2048000,
      "rowLimit": 10000
     },
     "inputWidgets": {},
     "nuid": "f9245459-5fb9-48e0-98da-d83404c0f0a8",
     "showTitle": false,
     "title": ""
    }
   },
   "outputs": [
    {
     "output_type": "display_data",
     "data": {
      "text/html": [
       "<style scoped>\n",
       "  .table-result-container {\n",
       "    max-height: 300px;\n",
       "    overflow: auto;\n",
       "  }\n",
       "  table, th, td {\n",
       "    border: 1px solid black;\n",
       "    border-collapse: collapse;\n",
       "  }\n",
       "  th, td {\n",
       "    padding: 5px;\n",
       "  }\n",
       "  th {\n",
       "    text-align: left;\n",
       "  }\n",
       "</style><div class='table-result-container'><table class='table-result'><thead style='background-color: white'><tr><th>race_id</th><th>race_year</th><th>race_name</th><th>race_date</th><th>circuit_location</th><th>driver_name</th><th>driver_number</th><th>driver_nationality</th><th>team</th><th>grid</th><th>fastest_lap</th><th>race_time</th><th>points</th><th>position</th><th>created_date</th><th>file_date</th></tr></thead><tbody></tbody></table></div>"
      ]
     },
     "metadata": {
      "application/vnd.databricks.v1+output": {
       "addedWidgets": {},
       "aggData": [],
       "aggError": "",
       "aggOverflow": false,
       "aggSchema": [],
       "aggSeriesLimitReached": false,
       "aggType": "",
       "arguments": {},
       "columnCustomDisplayInfos": {},
       "data": [],
       "datasetInfos": [],
       "dbfsResultPath": null,
       "isJsonSchema": true,
       "metadata": {},
       "overflow": false,
       "plotOptions": {
        "customPlotOptions": {},
        "displayType": "table",
        "pivotAggregation": null,
        "pivotColumns": null,
        "xColumns": null,
        "yColumns": null
       },
       "removedWidgets": [],
       "schema": [
        {
         "metadata": "{}",
         "name": "race_id",
         "type": "\"integer\""
        },
        {
         "metadata": "{}",
         "name": "race_year",
         "type": "\"integer\""
        },
        {
         "metadata": "{}",
         "name": "race_name",
         "type": "\"string\""
        },
        {
         "metadata": "{}",
         "name": "race_date",
         "type": "\"timestamp\""
        },
        {
         "metadata": "{}",
         "name": "circuit_location",
         "type": "\"string\""
        },
        {
         "metadata": "{}",
         "name": "driver_name",
         "type": "\"string\""
        },
        {
         "metadata": "{}",
         "name": "driver_number",
         "type": "\"integer\""
        },
        {
         "metadata": "{}",
         "name": "driver_nationality",
         "type": "\"string\""
        },
        {
         "metadata": "{}",
         "name": "team",
         "type": "\"string\""
        },
        {
         "metadata": "{}",
         "name": "grid",
         "type": "\"integer\""
        },
        {
         "metadata": "{}",
         "name": "fastest_lap",
         "type": "\"integer\""
        },
        {
         "metadata": "{}",
         "name": "race_time",
         "type": "\"string\""
        },
        {
         "metadata": "{}",
         "name": "points",
         "type": "\"float\""
        },
        {
         "metadata": "{}",
         "name": "position",
         "type": "\"integer\""
        },
        {
         "metadata": "{}",
         "name": "created_date",
         "type": "\"timestamp\""
        },
        {
         "metadata": "{}",
         "name": "file_date",
         "type": "\"string\""
        }
       ],
       "type": "table"
      }
     },
     "output_type": "display_data"
    }
   ],
   "source": [
    "display(final_df.filter(\"race_year = 2020 and race_name ='Abu Dhabi Grand Prix'\").orderBy(final_df.points.desc()))"
   ]
  },
  {
   "cell_type": "code",
   "execution_count": 0,
   "metadata": {
    "application/vnd.databricks.v1+cell": {
     "cellMetadata": {
      "byteLimit": 2048000,
      "rowLimit": 10000
     },
     "inputWidgets": {},
     "nuid": "d1f45b54-6a27-4e2e-a4af-bf66858b44ab",
     "showTitle": false,
     "title": ""
    }
   },
   "outputs": [
    {
     "output_type": "display_data",
     "data": {
      "text/html": [
       "<style scoped>\n",
       "  .table-result-container {\n",
       "    max-height: 300px;\n",
       "    overflow: auto;\n",
       "  }\n",
       "  table, th, td {\n",
       "    border: 1px solid black;\n",
       "    border-collapse: collapse;\n",
       "  }\n",
       "  th, td {\n",
       "    padding: 5px;\n",
       "  }\n",
       "  th {\n",
       "    text-align: left;\n",
       "  }\n",
       "</style><div class='table-result-container'><table class='table-result'><thead style='background-color: white'><tr><th>race_id</th><th>race_year</th><th>race_name</th><th>race_date</th><th>circuit_location</th><th>driver_name</th><th>driver_number</th><th>driver_nationality</th><th>team</th><th>grid</th><th>fastest_lap</th><th>race_time</th><th>points</th><th>position</th><th>created_date</th><th>file_date</th></tr></thead><tbody><tr><td>1053</td><td>2021</td><td>Emilia Romagna Grand Prix</td><td>2021-04-18T13:00:00Z</td><td>Imola</td><td>Lewis Hamilton</td><td>44</td><td>British</td><td>Mercedes</td><td>1</td><td>60</td><td>+22.000</td><td>19.0</td><td>2</td><td>2024-09-06T09:18:12.73Z</td><td>2021-04-18</td></tr><tr><td>1053</td><td>2021</td><td>Emilia Romagna Grand Prix</td><td>2021-04-18T13:00:00Z</td><td>Imola</td><td>Fernando Alonso</td><td>14</td><td>Spanish</td><td>Alpine F1 Team</td><td>15</td><td>62</td><td>+66.561</td><td>1.0</td><td>10</td><td>2024-09-06T09:18:12.73Z</td><td>2021-04-18</td></tr><tr><td>1053</td><td>2021</td><td>Emilia Romagna Grand Prix</td><td>2021-04-18T13:00:00Z</td><td>Imola</td><td>Kimi Räikkönen</td><td>7</td><td>Finnish</td><td>Alfa Romeo</td><td>16</td><td>62</td><td>+94.773</td><td>0.0</td><td>13</td><td>2024-09-06T09:18:12.73Z</td><td>2021-04-18</td></tr><tr><td>1053</td><td>2021</td><td>Emilia Romagna Grand Prix</td><td>2021-04-18T13:00:00Z</td><td>Imola</td><td>Sebastian Vettel</td><td>5</td><td>German</td><td>Aston Martin</td><td>0</td><td>59</td><td>\\N</td><td>0.0</td><td>15</td><td>2024-09-06T09:18:12.73Z</td><td>2021-04-18</td></tr><tr><td>1053</td><td>2021</td><td>Emilia Romagna Grand Prix</td><td>2021-04-18T13:00:00Z</td><td>Imola</td><td>Sergio Pérez</td><td>11</td><td>Mexican</td><td>Red Bull</td><td>2</td><td>62</td><td>+67.151</td><td>0.0</td><td>11</td><td>2024-09-06T09:18:12.73Z</td><td>2021-04-18</td></tr><tr><td>1053</td><td>2021</td><td>Emilia Romagna Grand Prix</td><td>2021-04-18T13:00:00Z</td><td>Imola</td><td>Daniel Ricciardo</td><td>3</td><td>Australian</td><td>McLaren</td><td>6</td><td>54</td><td>+51.220</td><td>8.0</td><td>6</td><td>2024-09-06T09:18:12.73Z</td><td>2021-04-18</td></tr><tr><td>1053</td><td>2021</td><td>Emilia Romagna Grand Prix</td><td>2021-04-18T13:00:00Z</td><td>Imola</td><td>Valtteri Bottas</td><td>77</td><td>Finnish</td><td>Mercedes</td><td>8</td><td>30</td><td>\\N</td><td>0.0</td><td>null</td><td>2024-09-06T09:18:12.73Z</td><td>2021-04-18</td></tr><tr><td>1053</td><td>2021</td><td>Emilia Romagna Grand Prix</td><td>2021-04-18T13:00:00Z</td><td>Imola</td><td>Max Verstappen</td><td>33</td><td>Dutch</td><td>Red Bull</td><td>3</td><td>60</td><td>2:02:34.598</td><td>25.0</td><td>1</td><td>2024-09-06T09:18:12.73Z</td><td>2021-04-18</td></tr><tr><td>1053</td><td>2021</td><td>Emilia Romagna Grand Prix</td><td>2021-04-18T13:00:00Z</td><td>Imola</td><td>Carlos Sainz</td><td>55</td><td>Spanish</td><td>Ferrari</td><td>11</td><td>60</td><td>+27.036</td><td>10.0</td><td>5</td><td>2024-09-06T09:18:12.73Z</td><td>2021-04-18</td></tr><tr><td>1053</td><td>2021</td><td>Emilia Romagna Grand Prix</td><td>2021-04-18T13:00:00Z</td><td>Imola</td><td>Esteban Ocon</td><td>31</td><td>French</td><td>Alpine F1 Team</td><td>9</td><td>62</td><td>+65.704</td><td>2.0</td><td>9</td><td>2024-09-06T09:18:12.73Z</td><td>2021-04-18</td></tr><tr><td>1053</td><td>2021</td><td>Emilia Romagna Grand Prix</td><td>2021-04-18T13:00:00Z</td><td>Imola</td><td>Lance Stroll</td><td>18</td><td>Canadian</td><td>Aston Martin</td><td>10</td><td>59</td><td>+56.909</td><td>4.0</td><td>8</td><td>2024-09-06T09:18:12.73Z</td><td>2021-04-18</td></tr><tr><td>1053</td><td>2021</td><td>Emilia Romagna Grand Prix</td><td>2021-04-18T13:00:00Z</td><td>Imola</td><td>Antonio Giovinazzi</td><td>99</td><td>Italian</td><td>Alfa Romeo</td><td>17</td><td>57</td><td>\\N</td><td>0.0</td><td>14</td><td>2024-09-06T09:18:12.73Z</td><td>2021-04-18</td></tr><tr><td>1053</td><td>2021</td><td>Emilia Romagna Grand Prix</td><td>2021-04-18T13:00:00Z</td><td>Imola</td><td>Pierre Gasly</td><td>10</td><td>French</td><td>AlphaTauri</td><td>5</td><td>52</td><td>+52.818</td><td>6.0</td><td>7</td><td>2024-09-06T09:18:12.73Z</td><td>2021-04-18</td></tr><tr><td>1053</td><td>2021</td><td>Emilia Romagna Grand Prix</td><td>2021-04-18T13:00:00Z</td><td>Imola</td><td>Charles Leclerc</td><td>16</td><td>Monegasque</td><td>Ferrari</td><td>4</td><td>60</td><td>+25.579</td><td>12.0</td><td>4</td><td>2024-09-06T09:18:12.73Z</td><td>2021-04-18</td></tr><tr><td>1053</td><td>2021</td><td>Emilia Romagna Grand Prix</td><td>2021-04-18T13:00:00Z</td><td>Imola</td><td>Lando Norris</td><td>4</td><td>British</td><td>McLaren</td><td>7</td><td>63</td><td>+23.702</td><td>15.0</td><td>3</td><td>2024-09-06T09:18:12.73Z</td><td>2021-04-18</td></tr><tr><td>1053</td><td>2021</td><td>Emilia Romagna Grand Prix</td><td>2021-04-18T13:00:00Z</td><td>Imola</td><td>George Russell</td><td>63</td><td>British</td><td>Williams</td><td>12</td><td>28</td><td>\\N</td><td>0.0</td><td>null</td><td>2024-09-06T09:18:12.73Z</td><td>2021-04-18</td></tr><tr><td>1053</td><td>2021</td><td>Emilia Romagna Grand Prix</td><td>2021-04-18T13:00:00Z</td><td>Imola</td><td>Nicholas Latifi</td><td>6</td><td>Canadian</td><td>Williams</td><td>14</td><td>null</td><td>\\N</td><td>0.0</td><td>null</td><td>2024-09-06T09:18:12.73Z</td><td>2021-04-18</td></tr><tr><td>1053</td><td>2021</td><td>Emilia Romagna Grand Prix</td><td>2021-04-18T13:00:00Z</td><td>Imola</td><td>Yuki Tsunoda</td><td>null</td><td>Japanese</td><td>AlphaTauri</td><td>20</td><td>49</td><td>+73.184</td><td>0.0</td><td>12</td><td>2024-09-06T09:18:12.73Z</td><td>2021-04-18</td></tr><tr><td>1053</td><td>2021</td><td>Emilia Romagna Grand Prix</td><td>2021-04-18T13:00:00Z</td><td>Imola</td><td>Nikita Mazepin</td><td>null</td><td>Russian</td><td>Haas F1 Team</td><td>19</td><td>55</td><td>\\N</td><td>0.0</td><td>17</td><td>2024-09-06T09:18:12.73Z</td><td>2021-04-18</td></tr><tr><td>1053</td><td>2021</td><td>Emilia Romagna Grand Prix</td><td>2021-04-18T13:00:00Z</td><td>Imola</td><td>Mick Schumacher</td><td>null</td><td>German</td><td>Haas F1 Team</td><td>18</td><td>58</td><td>\\N</td><td>0.0</td><td>16</td><td>2024-09-06T09:18:12.73Z</td><td>2021-04-18</td></tr></tbody></table></div>"
      ]
     },
     "metadata": {
      "application/vnd.databricks.v1+output": {
       "addedWidgets": {},
       "aggData": [],
       "aggError": "",
       "aggOverflow": false,
       "aggSchema": [],
       "aggSeriesLimitReached": false,
       "aggType": "",
       "arguments": {},
       "columnCustomDisplayInfos": {},
       "data": [
        [
         1053,
         2021,
         "Emilia Romagna Grand Prix",
         "2021-04-18T13:00:00Z",
         "Imola",
         "Lewis Hamilton",
         44,
         "British",
         "Mercedes",
         1,
         60,
         "+22.000",
         19.0,
         2,
         "2024-09-06T09:18:12.73Z",
         "2021-04-18"
        ],
        [
         1053,
         2021,
         "Emilia Romagna Grand Prix",
         "2021-04-18T13:00:00Z",
         "Imola",
         "Fernando Alonso",
         14,
         "Spanish",
         "Alpine F1 Team",
         15,
         62,
         "+66.561",
         1.0,
         10,
         "2024-09-06T09:18:12.73Z",
         "2021-04-18"
        ],
        [
         1053,
         2021,
         "Emilia Romagna Grand Prix",
         "2021-04-18T13:00:00Z",
         "Imola",
         "Kimi Räikkönen",
         7,
         "Finnish",
         "Alfa Romeo",
         16,
         62,
         "+94.773",
         0.0,
         13,
         "2024-09-06T09:18:12.73Z",
         "2021-04-18"
        ],
        [
         1053,
         2021,
         "Emilia Romagna Grand Prix",
         "2021-04-18T13:00:00Z",
         "Imola",
         "Sebastian Vettel",
         5,
         "German",
         "Aston Martin",
         0,
         59,
         "\\N",
         0.0,
         15,
         "2024-09-06T09:18:12.73Z",
         "2021-04-18"
        ],
        [
         1053,
         2021,
         "Emilia Romagna Grand Prix",
         "2021-04-18T13:00:00Z",
         "Imola",
         "Sergio Pérez",
         11,
         "Mexican",
         "Red Bull",
         2,
         62,
         "+67.151",
         0.0,
         11,
         "2024-09-06T09:18:12.73Z",
         "2021-04-18"
        ],
        [
         1053,
         2021,
         "Emilia Romagna Grand Prix",
         "2021-04-18T13:00:00Z",
         "Imola",
         "Daniel Ricciardo",
         3,
         "Australian",
         "McLaren",
         6,
         54,
         "+51.220",
         8.0,
         6,
         "2024-09-06T09:18:12.73Z",
         "2021-04-18"
        ],
        [
         1053,
         2021,
         "Emilia Romagna Grand Prix",
         "2021-04-18T13:00:00Z",
         "Imola",
         "Valtteri Bottas",
         77,
         "Finnish",
         "Mercedes",
         8,
         30,
         "\\N",
         0.0,
         null,
         "2024-09-06T09:18:12.73Z",
         "2021-04-18"
        ],
        [
         1053,
         2021,
         "Emilia Romagna Grand Prix",
         "2021-04-18T13:00:00Z",
         "Imola",
         "Max Verstappen",
         33,
         "Dutch",
         "Red Bull",
         3,
         60,
         "2:02:34.598",
         25.0,
         1,
         "2024-09-06T09:18:12.73Z",
         "2021-04-18"
        ],
        [
         1053,
         2021,
         "Emilia Romagna Grand Prix",
         "2021-04-18T13:00:00Z",
         "Imola",
         "Carlos Sainz",
         55,
         "Spanish",
         "Ferrari",
         11,
         60,
         "+27.036",
         10.0,
         5,
         "2024-09-06T09:18:12.73Z",
         "2021-04-18"
        ],
        [
         1053,
         2021,
         "Emilia Romagna Grand Prix",
         "2021-04-18T13:00:00Z",
         "Imola",
         "Esteban Ocon",
         31,
         "French",
         "Alpine F1 Team",
         9,
         62,
         "+65.704",
         2.0,
         9,
         "2024-09-06T09:18:12.73Z",
         "2021-04-18"
        ],
        [
         1053,
         2021,
         "Emilia Romagna Grand Prix",
         "2021-04-18T13:00:00Z",
         "Imola",
         "Lance Stroll",
         18,
         "Canadian",
         "Aston Martin",
         10,
         59,
         "+56.909",
         4.0,
         8,
         "2024-09-06T09:18:12.73Z",
         "2021-04-18"
        ],
        [
         1053,
         2021,
         "Emilia Romagna Grand Prix",
         "2021-04-18T13:00:00Z",
         "Imola",
         "Antonio Giovinazzi",
         99,
         "Italian",
         "Alfa Romeo",
         17,
         57,
         "\\N",
         0.0,
         14,
         "2024-09-06T09:18:12.73Z",
         "2021-04-18"
        ],
        [
         1053,
         2021,
         "Emilia Romagna Grand Prix",
         "2021-04-18T13:00:00Z",
         "Imola",
         "Pierre Gasly",
         10,
         "French",
         "AlphaTauri",
         5,
         52,
         "+52.818",
         6.0,
         7,
         "2024-09-06T09:18:12.73Z",
         "2021-04-18"
        ],
        [
         1053,
         2021,
         "Emilia Romagna Grand Prix",
         "2021-04-18T13:00:00Z",
         "Imola",
         "Charles Leclerc",
         16,
         "Monegasque",
         "Ferrari",
         4,
         60,
         "+25.579",
         12.0,
         4,
         "2024-09-06T09:18:12.73Z",
         "2021-04-18"
        ],
        [
         1053,
         2021,
         "Emilia Romagna Grand Prix",
         "2021-04-18T13:00:00Z",
         "Imola",
         "Lando Norris",
         4,
         "British",
         "McLaren",
         7,
         63,
         "+23.702",
         15.0,
         3,
         "2024-09-06T09:18:12.73Z",
         "2021-04-18"
        ],
        [
         1053,
         2021,
         "Emilia Romagna Grand Prix",
         "2021-04-18T13:00:00Z",
         "Imola",
         "George Russell",
         63,
         "British",
         "Williams",
         12,
         28,
         "\\N",
         0.0,
         null,
         "2024-09-06T09:18:12.73Z",
         "2021-04-18"
        ],
        [
         1053,
         2021,
         "Emilia Romagna Grand Prix",
         "2021-04-18T13:00:00Z",
         "Imola",
         "Nicholas Latifi",
         6,
         "Canadian",
         "Williams",
         14,
         null,
         "\\N",
         0.0,
         null,
         "2024-09-06T09:18:12.73Z",
         "2021-04-18"
        ],
        [
         1053,
         2021,
         "Emilia Romagna Grand Prix",
         "2021-04-18T13:00:00Z",
         "Imola",
         "Yuki Tsunoda",
         null,
         "Japanese",
         "AlphaTauri",
         20,
         49,
         "+73.184",
         0.0,
         12,
         "2024-09-06T09:18:12.73Z",
         "2021-04-18"
        ],
        [
         1053,
         2021,
         "Emilia Romagna Grand Prix",
         "2021-04-18T13:00:00Z",
         "Imola",
         "Nikita Mazepin",
         null,
         "Russian",
         "Haas F1 Team",
         19,
         55,
         "\\N",
         0.0,
         17,
         "2024-09-06T09:18:12.73Z",
         "2021-04-18"
        ],
        [
         1053,
         2021,
         "Emilia Romagna Grand Prix",
         "2021-04-18T13:00:00Z",
         "Imola",
         "Mick Schumacher",
         null,
         "German",
         "Haas F1 Team",
         18,
         58,
         "\\N",
         0.0,
         16,
         "2024-09-06T09:18:12.73Z",
         "2021-04-18"
        ]
       ],
       "datasetInfos": [],
       "dbfsResultPath": null,
       "isJsonSchema": true,
       "metadata": {},
       "overflow": false,
       "plotOptions": {
        "customPlotOptions": {},
        "displayType": "table",
        "pivotAggregation": null,
        "pivotColumns": null,
        "xColumns": null,
        "yColumns": null
       },
       "removedWidgets": [],
       "schema": [
        {
         "metadata": "{}",
         "name": "race_id",
         "type": "\"integer\""
        },
        {
         "metadata": "{}",
         "name": "race_year",
         "type": "\"integer\""
        },
        {
         "metadata": "{}",
         "name": "race_name",
         "type": "\"string\""
        },
        {
         "metadata": "{}",
         "name": "race_date",
         "type": "\"timestamp\""
        },
        {
         "metadata": "{}",
         "name": "circuit_location",
         "type": "\"string\""
        },
        {
         "metadata": "{}",
         "name": "driver_name",
         "type": "\"string\""
        },
        {
         "metadata": "{}",
         "name": "driver_number",
         "type": "\"integer\""
        },
        {
         "metadata": "{}",
         "name": "driver_nationality",
         "type": "\"string\""
        },
        {
         "metadata": "{}",
         "name": "team",
         "type": "\"string\""
        },
        {
         "metadata": "{}",
         "name": "grid",
         "type": "\"integer\""
        },
        {
         "metadata": "{}",
         "name": "fastest_lap",
         "type": "\"integer\""
        },
        {
         "metadata": "{}",
         "name": "race_time",
         "type": "\"string\""
        },
        {
         "metadata": "{}",
         "name": "points",
         "type": "\"float\""
        },
        {
         "metadata": "{}",
         "name": "position",
         "type": "\"integer\""
        },
        {
         "metadata": "{}",
         "name": "created_date",
         "type": "\"timestamp\""
        },
        {
         "metadata": "{}",
         "name": "file_date",
         "type": "\"string\""
        }
       ],
       "type": "table"
      }
     },
     "output_type": "display_data"
    }
   ],
   "source": [
    "display(final_df.filter(\"race_year = 2021\"))"
   ]
  },
  {
   "cell_type": "markdown",
   "metadata": {
    "application/vnd.databricks.v1+cell": {
     "cellMetadata": {
      "byteLimit": 2048000,
      "rowLimit": 10000
     },
     "inputWidgets": {},
     "nuid": "aa48120f-d389-4934-8b53-744d4ef35496",
     "showTitle": false,
     "title": ""
    }
   },
   "source": [
    "#2. Save to parquet in presentation folder"
   ]
  },
  {
   "cell_type": "code",
   "execution_count": 0,
   "metadata": {
    "application/vnd.databricks.v1+cell": {
     "cellMetadata": {
      "byteLimit": 2048000,
      "rowLimit": 10000
     },
     "inputWidgets": {},
     "nuid": "7185e3ca-6140-4df4-b1d3-804c037da061",
     "showTitle": false,
     "title": ""
    }
   },
   "outputs": [],
   "source": [
    "merge_condition = 'target.driver_name = source.driver_name and\\\n",
    "                   target.race_id = source.race_id'\n",
    "upsert_to_delta_table('f1_presentation', 'race_results', presentation_folder_path, final_df, merge_condition, 'race_id')"
   ]
  },
  {
   "cell_type": "code",
   "execution_count": 0,
   "metadata": {
    "application/vnd.databricks.v1+cell": {
     "cellMetadata": {
      "byteLimit": 2048000,
      "rowLimit": 10000
     },
     "inputWidgets": {},
     "nuid": "9b64811c-9915-411f-aa18-8f1cb889b0bf",
     "showTitle": false,
     "title": ""
    }
   },
   "outputs": [
    {
     "output_type": "display_data",
     "data": {
      "text/plain": [
       "20"
      ]
     },
     "metadata": {},
     "output_type": "display_data"
    }
   ],
   "source": [
    "final_df = spark.read.table('f1_presentation.race_results')\n",
    "display(final_df.filter(f\"file_date = '{param_file_date}'\").count())"
   ]
  }
 ],
 "metadata": {
  "application/vnd.databricks.v1+notebook": {
   "dashboards": [],
   "environmentMetadata": {
    "base_environment": "",
    "client": "1"
   },
   "language": "python",
   "notebookMetadata": {
    "pythonIndentUnit": 4
   },
   "notebookName": "1_race_results",
   "widgets": {
    "p_file_date": {
     "currentValue": "2021-04-18",
     "nuid": "a59fdfea-625d-4b1c-ab54-4b87a90d6fdc",
     "typedWidgetInfo": {
      "autoCreated": false,
      "defaultValue": "2021-03-21",
      "label": null,
      "name": "p_file_date",
      "options": {
       "widgetDisplayType": "Text",
       "validationRegex": null
      },
      "parameterDataType": "String"
     },
     "widgetInfo": {
      "widgetType": "text",
      "defaultValue": "2021-03-21",
      "label": null,
      "name": "p_file_date",
      "options": {
       "widgetType": "text",
       "autoCreated": null,
       "validationRegex": null
      }
     }
    }
   }
  }
 },
 "nbformat": 4,
 "nbformat_minor": 0
}
