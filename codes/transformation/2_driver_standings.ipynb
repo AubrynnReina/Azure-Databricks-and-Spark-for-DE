{
 "cells": [
  {
   "cell_type": "markdown",
   "metadata": {
    "application/vnd.databricks.v1+cell": {
     "cellMetadata": {
      "byteLimit": 2048000,
      "rowLimit": 10000
     },
     "inputWidgets": {},
     "nuid": "6a0420ad-6d79-42ce-856b-ae1576d36899",
     "showTitle": false,
     "title": ""
    }
   },
   "source": [
    "# 0. Prepare configurations and race_results table"
   ]
  },
  {
   "cell_type": "code",
   "execution_count": 0,
   "metadata": {
    "application/vnd.databricks.v1+cell": {
     "cellMetadata": {
      "byteLimit": 2048000,
      "rowLimit": 10000
     },
     "inputWidgets": {},
     "nuid": "92809f50-81d4-4370-bdd4-96409ce3a681",
     "showTitle": false,
     "title": ""
    }
   },
   "outputs": [],
   "source": [
    "%run \"../includes/configuration\""
   ]
  },
  {
   "cell_type": "code",
   "execution_count": 0,
   "metadata": {
    "application/vnd.databricks.v1+cell": {
     "cellMetadata": {
      "byteLimit": 2048000,
      "rowLimit": 10000
     },
     "inputWidgets": {},
     "nuid": "f398d4b1-875c-490d-bf5d-d06a98134c40",
     "showTitle": false,
     "title": ""
    }
   },
   "outputs": [],
   "source": [
    "%run \"../includes/common_functions\""
   ]
  },
  {
   "cell_type": "code",
   "execution_count": 0,
   "metadata": {
    "application/vnd.databricks.v1+cell": {
     "cellMetadata": {
      "byteLimit": 2048000,
      "rowLimit": 10000
     },
     "inputWidgets": {},
     "nuid": "cd2bc2e0-e5e3-4adc-8732-c1e6dbb73173",
     "showTitle": false,
     "title": ""
    }
   },
   "outputs": [],
   "source": [
    "dbutils.widgets.text('p_file_date', '2021-03-21')\n",
    "param_file_date = dbutils.widgets.get('p_file_date')"
   ]
  },
  {
   "cell_type": "code",
   "execution_count": 0,
   "metadata": {
    "application/vnd.databricks.v1+cell": {
     "cellMetadata": {
      "byteLimit": 2048000,
      "rowLimit": 10000
     },
     "inputWidgets": {},
     "nuid": "36175906-101d-4445-9274-5664c2506d65",
     "showTitle": false,
     "title": ""
    }
   },
   "outputs": [
    {
     "output_type": "execute_result",
     "data": {
      "text/plain": [
       "['race_id',\n",
       " 'race_year',\n",
       " 'race_name',\n",
       " 'race_date',\n",
       " 'circuit_location',\n",
       " 'driver_name',\n",
       " 'driver_number',\n",
       " 'driver_nationality',\n",
       " 'team',\n",
       " 'grid',\n",
       " 'fastest_lap',\n",
       " 'race_time',\n",
       " 'points',\n",
       " 'position',\n",
       " 'created_date',\n",
       " 'file_date']"
      ]
     },
     "execution_count": 63,
     "metadata": {},
     "output_type": "execute_result"
    }
   ],
   "source": [
    "race_results_df = spark.read\\\n",
    "    .table('f1_presentation.race_results')\\\n",
    "    .filter(f\"file_date <= '{param_file_date}'\")\n",
    "race_results_df.columns"
   ]
  },
  {
   "cell_type": "markdown",
   "metadata": {
    "application/vnd.databricks.v1+cell": {
     "cellMetadata": {
      "byteLimit": 2048000,
      "rowLimit": 10000
     },
     "inputWidgets": {},
     "nuid": "5f025c48-15d0-4069-9068-a70dddb415db",
     "showTitle": false,
     "title": ""
    }
   },
   "source": [
    "# 1. Get driver standing with their corresponding year, team and nationality"
   ]
  },
  {
   "cell_type": "code",
   "execution_count": 0,
   "metadata": {
    "application/vnd.databricks.v1+cell": {
     "cellMetadata": {
      "byteLimit": 2048000,
      "rowLimit": 10000
     },
     "inputWidgets": {},
     "nuid": "1eab3985-2d73-4780-8516-04bc9c0f63c3",
     "showTitle": false,
     "title": ""
    }
   },
   "outputs": [],
   "source": [
    "from pyspark.sql.functions import sum, count, when, rank, desc, lit\n",
    "from pyspark.sql.window import Window"
   ]
  },
  {
   "cell_type": "code",
   "execution_count": 0,
   "metadata": {
    "application/vnd.databricks.v1+cell": {
     "cellMetadata": {
      "byteLimit": 2048000,
      "rowLimit": 10000
     },
     "inputWidgets": {},
     "nuid": "d5ee7c68-4c27-4e84-823b-829ca428e3b4",
     "showTitle": false,
     "title": ""
    }
   },
   "outputs": [],
   "source": [
    "driver_rank_spec = Window.partitionBy('race_year').orderBy(desc('points'), desc('wins'))\n",
    "\n",
    "driver_standings_df = race_results_df\\\n",
    "    .groupBy('driver_name', 'race_year', 'driver_nationality')\\\n",
    "    .agg(\n",
    "        sum('points').alias('points'),\n",
    "        count(when(race_results_df.position == 1, True)).alias('wins')\n",
    "    )\\\n",
    "    .withColumn('rank', rank().over(driver_rank_spec))\\\n",
    "    .withColumn('file_date', lit(param_file_date))\\\n",
    "    .select('*')"
   ]
  },
  {
   "cell_type": "code",
   "execution_count": 0,
   "metadata": {
    "application/vnd.databricks.v1+cell": {
     "cellMetadata": {
      "byteLimit": 2048000,
      "rowLimit": 10000
     },
     "inputWidgets": {},
     "nuid": "74984be8-26cb-4cff-a951-05d41cb49cf3",
     "showTitle": false,
     "title": ""
    }
   },
   "outputs": [
    {
     "output_type": "display_data",
     "data": {
      "text/html": [
       "<style scoped>\n",
       "  .table-result-container {\n",
       "    max-height: 300px;\n",
       "    overflow: auto;\n",
       "  }\n",
       "  table, th, td {\n",
       "    border: 1px solid black;\n",
       "    border-collapse: collapse;\n",
       "  }\n",
       "  th, td {\n",
       "    padding: 5px;\n",
       "  }\n",
       "  th {\n",
       "    text-align: left;\n",
       "  }\n",
       "</style><div class='table-result-container'><table class='table-result'><thead style='background-color: white'><tr><th>driver_name</th><th>race_year</th><th>driver_nationality</th><th>points</th><th>wins</th><th>rank</th><th>file_date</th></tr></thead><tbody><tr><td>Lewis Hamilton</td><td>2021</td><td>British</td><td>44.0</td><td>1</td><td>1</td><td>2021-04-18</td></tr><tr><td>Max Verstappen</td><td>2021</td><td>Dutch</td><td>43.0</td><td>1</td><td>2</td><td>2021-04-18</td></tr><tr><td>Lando Norris</td><td>2021</td><td>British</td><td>27.0</td><td>0</td><td>3</td><td>2021-04-18</td></tr><tr><td>Charles Leclerc</td><td>2021</td><td>Monegasque</td><td>20.0</td><td>0</td><td>4</td><td>2021-04-18</td></tr><tr><td>Valtteri Bottas</td><td>2021</td><td>Finnish</td><td>16.0</td><td>0</td><td>5</td><td>2021-04-18</td></tr><tr><td>Carlos Sainz</td><td>2021</td><td>Spanish</td><td>14.0</td><td>0</td><td>6</td><td>2021-04-18</td></tr><tr><td>Daniel Ricciardo</td><td>2021</td><td>Australian</td><td>14.0</td><td>0</td><td>6</td><td>2021-04-18</td></tr><tr><td>Sergio Pérez</td><td>2021</td><td>Mexican</td><td>10.0</td><td>0</td><td>8</td><td>2021-04-18</td></tr><tr><td>Pierre Gasly</td><td>2021</td><td>French</td><td>6.0</td><td>0</td><td>9</td><td>2021-04-18</td></tr><tr><td>Lance Stroll</td><td>2021</td><td>Canadian</td><td>5.0</td><td>0</td><td>10</td><td>2021-04-18</td></tr><tr><td>Esteban Ocon</td><td>2021</td><td>French</td><td>2.0</td><td>0</td><td>11</td><td>2021-04-18</td></tr><tr><td>Yuki Tsunoda</td><td>2021</td><td>Japanese</td><td>2.0</td><td>0</td><td>11</td><td>2021-04-18</td></tr><tr><td>Fernando Alonso</td><td>2021</td><td>Spanish</td><td>1.0</td><td>0</td><td>13</td><td>2021-04-18</td></tr><tr><td>Nikita Mazepin</td><td>2021</td><td>Russian</td><td>0.0</td><td>0</td><td>14</td><td>2021-04-18</td></tr><tr><td>Antonio Giovinazzi</td><td>2021</td><td>Italian</td><td>0.0</td><td>0</td><td>14</td><td>2021-04-18</td></tr><tr><td>George Russell</td><td>2021</td><td>British</td><td>0.0</td><td>0</td><td>14</td><td>2021-04-18</td></tr><tr><td>Kimi Räikkönen</td><td>2021</td><td>Finnish</td><td>0.0</td><td>0</td><td>14</td><td>2021-04-18</td></tr><tr><td>Sebastian Vettel</td><td>2021</td><td>German</td><td>0.0</td><td>0</td><td>14</td><td>2021-04-18</td></tr><tr><td>Nicholas Latifi</td><td>2021</td><td>Canadian</td><td>0.0</td><td>0</td><td>14</td><td>2021-04-18</td></tr><tr><td>Mick Schumacher</td><td>2021</td><td>German</td><td>0.0</td><td>0</td><td>14</td><td>2021-04-18</td></tr></tbody></table></div>"
      ]
     },
     "metadata": {
      "application/vnd.databricks.v1+output": {
       "addedWidgets": {},
       "aggData": [],
       "aggError": "",
       "aggOverflow": false,
       "aggSchema": [],
       "aggSeriesLimitReached": false,
       "aggType": "",
       "arguments": {},
       "columnCustomDisplayInfos": {},
       "data": [
        [
         "Lewis Hamilton",
         2021,
         "British",
         44.0,
         1,
         1,
         "2021-04-18"
        ],
        [
         "Max Verstappen",
         2021,
         "Dutch",
         43.0,
         1,
         2,
         "2021-04-18"
        ],
        [
         "Lando Norris",
         2021,
         "British",
         27.0,
         0,
         3,
         "2021-04-18"
        ],
        [
         "Charles Leclerc",
         2021,
         "Monegasque",
         20.0,
         0,
         4,
         "2021-04-18"
        ],
        [
         "Valtteri Bottas",
         2021,
         "Finnish",
         16.0,
         0,
         5,
         "2021-04-18"
        ],
        [
         "Carlos Sainz",
         2021,
         "Spanish",
         14.0,
         0,
         6,
         "2021-04-18"
        ],
        [
         "Daniel Ricciardo",
         2021,
         "Australian",
         14.0,
         0,
         6,
         "2021-04-18"
        ],
        [
         "Sergio Pérez",
         2021,
         "Mexican",
         10.0,
         0,
         8,
         "2021-04-18"
        ],
        [
         "Pierre Gasly",
         2021,
         "French",
         6.0,
         0,
         9,
         "2021-04-18"
        ],
        [
         "Lance Stroll",
         2021,
         "Canadian",
         5.0,
         0,
         10,
         "2021-04-18"
        ],
        [
         "Esteban Ocon",
         2021,
         "French",
         2.0,
         0,
         11,
         "2021-04-18"
        ],
        [
         "Yuki Tsunoda",
         2021,
         "Japanese",
         2.0,
         0,
         11,
         "2021-04-18"
        ],
        [
         "Fernando Alonso",
         2021,
         "Spanish",
         1.0,
         0,
         13,
         "2021-04-18"
        ],
        [
         "Nikita Mazepin",
         2021,
         "Russian",
         0.0,
         0,
         14,
         "2021-04-18"
        ],
        [
         "Antonio Giovinazzi",
         2021,
         "Italian",
         0.0,
         0,
         14,
         "2021-04-18"
        ],
        [
         "George Russell",
         2021,
         "British",
         0.0,
         0,
         14,
         "2021-04-18"
        ],
        [
         "Kimi Räikkönen",
         2021,
         "Finnish",
         0.0,
         0,
         14,
         "2021-04-18"
        ],
        [
         "Sebastian Vettel",
         2021,
         "German",
         0.0,
         0,
         14,
         "2021-04-18"
        ],
        [
         "Nicholas Latifi",
         2021,
         "Canadian",
         0.0,
         0,
         14,
         "2021-04-18"
        ],
        [
         "Mick Schumacher",
         2021,
         "German",
         0.0,
         0,
         14,
         "2021-04-18"
        ]
       ],
       "datasetInfos": [],
       "dbfsResultPath": null,
       "isJsonSchema": true,
       "metadata": {},
       "overflow": false,
       "plotOptions": {
        "customPlotOptions": {},
        "displayType": "table",
        "pivotAggregation": null,
        "pivotColumns": null,
        "xColumns": null,
        "yColumns": null
       },
       "removedWidgets": [],
       "schema": [
        {
         "metadata": "{}",
         "name": "driver_name",
         "type": "\"string\""
        },
        {
         "metadata": "{}",
         "name": "race_year",
         "type": "\"integer\""
        },
        {
         "metadata": "{}",
         "name": "driver_nationality",
         "type": "\"string\""
        },
        {
         "metadata": "{}",
         "name": "points",
         "type": "\"double\""
        },
        {
         "metadata": "{}",
         "name": "wins",
         "type": "\"long\""
        },
        {
         "metadata": "{}",
         "name": "rank",
         "type": "\"integer\""
        },
        {
         "metadata": "{}",
         "name": "file_date",
         "type": "\"string\""
        }
       ],
       "type": "table"
      }
     },
     "output_type": "display_data"
    }
   ],
   "source": [
    "driver_standings_df.filter('race_year = 2021').display()"
   ]
  },
  {
   "cell_type": "markdown",
   "metadata": {
    "application/vnd.databricks.v1+cell": {
     "cellMetadata": {
      "byteLimit": 2048000,
      "rowLimit": 10000
     },
     "inputWidgets": {},
     "nuid": "aa48120f-d389-4934-8b53-744d4ef35496",
     "showTitle": false,
     "title": ""
    }
   },
   "source": [
    "#2. Save to parquet in presentation folder"
   ]
  },
  {
   "cell_type": "code",
   "execution_count": 0,
   "metadata": {
    "application/vnd.databricks.v1+cell": {
     "cellMetadata": {
      "byteLimit": 2048000,
      "rowLimit": 10000
     },
     "inputWidgets": {},
     "nuid": "1310a718-2e73-4e4b-a2ae-a16f7f1ae0e8",
     "showTitle": false,
     "title": ""
    }
   },
   "outputs": [],
   "source": [
    "merge_condition = 'target.driver_name = source.driver_name and\\\n",
    "                   target.race_year = source.race_year'\n",
    "upsert_to_delta_table('f1_presentation', 'driver_standings', presentation_folder_path, driver_standings_df, merge_condition, 'race_year')"
   ]
  },
  {
   "cell_type": "code",
   "execution_count": 0,
   "metadata": {
    "application/vnd.databricks.v1+cell": {
     "cellMetadata": {
      "byteLimit": 2048000,
      "rowLimit": 10000
     },
     "inputWidgets": {},
     "nuid": "3d0a0589-dadc-4980-949a-29ab58401030",
     "showTitle": false,
     "title": ""
    }
   },
   "outputs": [
    {
     "output_type": "display_data",
     "data": {
      "text/html": [
       "<style scoped>\n",
       "  .table-result-container {\n",
       "    max-height: 300px;\n",
       "    overflow: auto;\n",
       "  }\n",
       "  table, th, td {\n",
       "    border: 1px solid black;\n",
       "    border-collapse: collapse;\n",
       "  }\n",
       "  th, td {\n",
       "    padding: 5px;\n",
       "  }\n",
       "  th {\n",
       "    text-align: left;\n",
       "  }\n",
       "</style><div class='table-result-container'><table class='table-result'><thead style='background-color: white'><tr><th>driver_name</th><th>race_year</th><th>driver_nationality</th><th>points</th><th>wins</th><th>rank</th><th>file_date</th></tr></thead><tbody><tr><td>Alberto Ascari</td><td>1952</td><td>Italian</td><td>53.5</td><td>6</td><td>1</td><td>2021-04-18</td></tr><tr><td>Nino Farina</td><td>1952</td><td>Italian</td><td>27.0</td><td>0</td><td>2</td><td>2021-04-18</td></tr><tr><td>Piero Taruffi</td><td>1952</td><td>Italian</td><td>22.0</td><td>1</td><td>3</td><td>2021-04-18</td></tr><tr><td>Rudi Fischer</td><td>1952</td><td>Swiss</td><td>10.0</td><td>0</td><td>4</td><td>2021-04-18</td></tr><tr><td>Mike Hawthorn</td><td>1952</td><td>British</td><td>10.0</td><td>0</td><td>4</td><td>2021-04-18</td></tr><tr><td>Robert Manzon</td><td>1952</td><td>French</td><td>9.0</td><td>0</td><td>6</td><td>2021-04-18</td></tr><tr><td>Troy Ruttman</td><td>1952</td><td>American</td><td>8.0</td><td>1</td><td>7</td><td>2021-04-18</td></tr><tr><td>Luigi Villoresi</td><td>1952</td><td>Italian</td><td>8.0</td><td>0</td><td>8</td><td>2021-04-18</td></tr><tr><td>José Froilán González</td><td>1952</td><td>Argentine</td><td>6.5</td><td>0</td><td>9</td><td>2021-04-18</td></tr><tr><td>Jim Rathmann</td><td>1952</td><td>American</td><td>6.0</td><td>0</td><td>10</td><td>2021-04-18</td></tr></tbody></table></div>"
      ]
     },
     "metadata": {
      "application/vnd.databricks.v1+output": {
       "addedWidgets": {},
       "aggData": [],
       "aggError": "",
       "aggOverflow": false,
       "aggSchema": [],
       "aggSeriesLimitReached": false,
       "aggType": "",
       "arguments": {},
       "columnCustomDisplayInfos": {},
       "data": [
        [
         "Alberto Ascari",
         1952,
         "Italian",
         53.5,
         6,
         1,
         "2021-04-18"
        ],
        [
         "Nino Farina",
         1952,
         "Italian",
         27.0,
         0,
         2,
         "2021-04-18"
        ],
        [
         "Piero Taruffi",
         1952,
         "Italian",
         22.0,
         1,
         3,
         "2021-04-18"
        ],
        [
         "Rudi Fischer",
         1952,
         "Swiss",
         10.0,
         0,
         4,
         "2021-04-18"
        ],
        [
         "Mike Hawthorn",
         1952,
         "British",
         10.0,
         0,
         4,
         "2021-04-18"
        ],
        [
         "Robert Manzon",
         1952,
         "French",
         9.0,
         0,
         6,
         "2021-04-18"
        ],
        [
         "Troy Ruttman",
         1952,
         "American",
         8.0,
         1,
         7,
         "2021-04-18"
        ],
        [
         "Luigi Villoresi",
         1952,
         "Italian",
         8.0,
         0,
         8,
         "2021-04-18"
        ],
        [
         "José Froilán González",
         1952,
         "Argentine",
         6.5,
         0,
         9,
         "2021-04-18"
        ],
        [
         "Jim Rathmann",
         1952,
         "American",
         6.0,
         0,
         10,
         "2021-04-18"
        ]
       ],
       "datasetInfos": [],
       "dbfsResultPath": null,
       "isJsonSchema": true,
       "metadata": {},
       "overflow": false,
       "plotOptions": {
        "customPlotOptions": {},
        "displayType": "table",
        "pivotAggregation": null,
        "pivotColumns": null,
        "xColumns": null,
        "yColumns": null
       },
       "removedWidgets": [],
       "schema": [
        {
         "metadata": "{}",
         "name": "driver_name",
         "type": "\"string\""
        },
        {
         "metadata": "{}",
         "name": "race_year",
         "type": "\"integer\""
        },
        {
         "metadata": "{}",
         "name": "driver_nationality",
         "type": "\"string\""
        },
        {
         "metadata": "{}",
         "name": "points",
         "type": "\"double\""
        },
        {
         "metadata": "{}",
         "name": "wins",
         "type": "\"long\""
        },
        {
         "metadata": "{}",
         "name": "rank",
         "type": "\"integer\""
        },
        {
         "metadata": "{}",
         "name": "file_date",
         "type": "\"string\""
        }
       ],
       "type": "table"
      }
     },
     "output_type": "display_data"
    }
   ],
   "source": [
    "driver_standings_df = spark.read.table('f1_presentation.driver_standings')\n",
    "display(driver_standings_df.filter(f\"file_date = '{param_file_date}'\").limit(10))"
   ]
  },
  {
   "cell_type": "code",
   "execution_count": 0,
   "metadata": {
    "application/vnd.databricks.v1+cell": {
     "cellMetadata": {
      "byteLimit": 2048000,
      "rowLimit": 10000
     },
     "inputWidgets": {},
     "nuid": "8cfed770-58de-489d-b3f2-c6acbe87131c",
     "showTitle": false,
     "title": ""
    }
   },
   "outputs": [],
   "source": []
  }
 ],
 "metadata": {
  "application/vnd.databricks.v1+notebook": {
   "dashboards": [],
   "environmentMetadata": {
    "base_environment": "",
    "client": "1"
   },
   "language": "python",
   "notebookMetadata": {
    "mostRecentlyExecutedCommandWithImplicitDF": {
     "commandId": 52716263768522,
     "dataframes": [
      "_sqldf"
     ]
    },
    "pythonIndentUnit": 4
   },
   "notebookName": "2_driver_standings",
   "widgets": {
    "p_file_date": {
     "currentValue": "2021-04-18",
     "nuid": "2e03d0c8-e3ce-4c28-a841-5d3cb61235fc",
     "typedWidgetInfo": {
      "autoCreated": false,
      "defaultValue": "2021-03-21",
      "label": null,
      "name": "p_file_date",
      "options": {
       "widgetDisplayType": "Text",
       "validationRegex": null
      },
      "parameterDataType": "String"
     },
     "widgetInfo": {
      "widgetType": "text",
      "defaultValue": "2021-03-21",
      "label": null,
      "name": "p_file_date",
      "options": {
       "widgetType": "text",
       "autoCreated": null,
       "validationRegex": null
      }
     }
    }
   }
  }
 },
 "nbformat": 4,
 "nbformat_minor": 0
}
