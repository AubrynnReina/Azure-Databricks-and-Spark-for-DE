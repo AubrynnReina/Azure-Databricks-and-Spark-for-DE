{
 "cells": [
  {
   "cell_type": "markdown",
   "metadata": {
    "application/vnd.databricks.v1+cell": {
     "cellMetadata": {
      "byteLimit": 2048000,
      "rowLimit": 10000
     },
     "inputWidgets": {},
     "nuid": "6a0420ad-6d79-42ce-856b-ae1576d36899",
     "showTitle": false,
     "title": ""
    }
   },
   "source": [
    "# 0. Prepare configurations and race_results table"
   ]
  },
  {
   "cell_type": "code",
   "execution_count": 0,
   "metadata": {
    "application/vnd.databricks.v1+cell": {
     "cellMetadata": {
      "byteLimit": 2048000,
      "rowLimit": 10000
     },
     "inputWidgets": {},
     "nuid": "92809f50-81d4-4370-bdd4-96409ce3a681",
     "showTitle": false,
     "title": ""
    }
   },
   "outputs": [],
   "source": [
    "%run \"../includes/configuration\""
   ]
  },
  {
   "cell_type": "code",
   "execution_count": 0,
   "metadata": {
    "application/vnd.databricks.v1+cell": {
     "cellMetadata": {
      "byteLimit": 2048000,
      "rowLimit": 10000
     },
     "inputWidgets": {},
     "nuid": "36175906-101d-4445-9274-5664c2506d65",
     "showTitle": false,
     "title": ""
    }
   },
   "outputs": [
    {
     "output_type": "execute_result",
     "data": {
      "text/plain": [
       "['race_year',\n",
       " 'race_name',\n",
       " 'race_date',\n",
       " 'circuit_location',\n",
       " 'driver_name',\n",
       " 'driver_number',\n",
       " 'driver_nationality',\n",
       " 'team',\n",
       " 'grid',\n",
       " 'fastest_lap',\n",
       " 'race_time',\n",
       " 'points',\n",
       " 'position',\n",
       " 'created_date']"
      ]
     },
     "execution_count": 3,
     "metadata": {},
     "output_type": "execute_result"
    }
   ],
   "source": [
    "race_results_df = spark.read.parquet(f'{presentation_folder_path}/race_results')\n",
    "race_results_df.columns"
   ]
  },
  {
   "cell_type": "markdown",
   "metadata": {
    "application/vnd.databricks.v1+cell": {
     "cellMetadata": {
      "byteLimit": 2048000,
      "rowLimit": 10000
     },
     "inputWidgets": {},
     "nuid": "5f025c48-15d0-4069-9068-a70dddb415db",
     "showTitle": false,
     "title": ""
    }
   },
   "source": [
    "# 1. Get driver standing with their corresponding year, team and nationality"
   ]
  },
  {
   "cell_type": "code",
   "execution_count": 0,
   "metadata": {
    "application/vnd.databricks.v1+cell": {
     "cellMetadata": {
      "byteLimit": 2048000,
      "rowLimit": 10000
     },
     "inputWidgets": {},
     "nuid": "1eab3985-2d73-4780-8516-04bc9c0f63c3",
     "showTitle": false,
     "title": ""
    }
   },
   "outputs": [],
   "source": [
    "from pyspark.sql.functions import sum, count, when, rank, desc\n",
    "from pyspark.sql.window import Window"
   ]
  },
  {
   "cell_type": "code",
   "execution_count": 0,
   "metadata": {
    "application/vnd.databricks.v1+cell": {
     "cellMetadata": {
      "byteLimit": 2048000,
      "rowLimit": 10000
     },
     "inputWidgets": {},
     "nuid": "d5ee7c68-4c27-4e84-823b-829ca428e3b4",
     "showTitle": false,
     "title": ""
    }
   },
   "outputs": [],
   "source": [
    "driver_rank_spec = Window.partitionBy('race_year').orderBy(desc('points'), desc('wins'))\n",
    "\n",
    "driver_standings_df = race_results_df\\\n",
    "    .groupBy('driver_name', 'race_year', 'team', 'driver_nationality')\\\n",
    "    .agg(\n",
    "        sum('points').alias('points'),\n",
    "        count(when(race_results_df.position == 1, True)).alias('wins')\n",
    "    )\\\n",
    "    .withColumn('rank', rank().over(driver_rank_spec))\\\n",
    "    .select('*')"
   ]
  },
  {
   "cell_type": "code",
   "execution_count": 0,
   "metadata": {
    "application/vnd.databricks.v1+cell": {
     "cellMetadata": {
      "byteLimit": 2048000,
      "rowLimit": 10000
     },
     "inputWidgets": {},
     "nuid": "74984be8-26cb-4cff-a951-05d41cb49cf3",
     "showTitle": false,
     "title": ""
    }
   },
   "outputs": [
    {
     "output_type": "display_data",
     "data": {
      "text/html": [
       "<style scoped>\n",
       "  .table-result-container {\n",
       "    max-height: 300px;\n",
       "    overflow: auto;\n",
       "  }\n",
       "  table, th, td {\n",
       "    border: 1px solid black;\n",
       "    border-collapse: collapse;\n",
       "  }\n",
       "  th, td {\n",
       "    padding: 5px;\n",
       "  }\n",
       "  th {\n",
       "    text-align: left;\n",
       "  }\n",
       "</style><div class='table-result-container'><table class='table-result'><thead style='background-color: white'><tr><th>driver_name</th><th>race_year</th><th>team</th><th>driver_nationality</th><th>points</th><th>wins</th><th>rank</th></tr></thead><tbody><tr><td>Lewis Hamilton</td><td>2020</td><td>Mercedes</td><td>British</td><td>347.0</td><td>11</td><td>1</td></tr><tr><td>Valtteri Bottas</td><td>2020</td><td>Mercedes</td><td>Finnish</td><td>223.0</td><td>2</td><td>2</td></tr><tr><td>Max Verstappen</td><td>2020</td><td>Red Bull</td><td>Dutch</td><td>214.0</td><td>2</td><td>3</td></tr><tr><td>Sergio Pérez</td><td>2020</td><td>Racing Point</td><td>Mexican</td><td>125.0</td><td>1</td><td>4</td></tr><tr><td>Daniel Ricciardo</td><td>2020</td><td>Renault</td><td>Australian</td><td>119.0</td><td>0</td><td>5</td></tr><tr><td>Carlos Sainz</td><td>2020</td><td>McLaren</td><td>Spanish</td><td>105.0</td><td>0</td><td>6</td></tr><tr><td>Alexander Albon</td><td>2020</td><td>Red Bull</td><td>Thai</td><td>105.0</td><td>0</td><td>6</td></tr><tr><td>Charles Leclerc</td><td>2020</td><td>Ferrari</td><td>Monegasque</td><td>98.0</td><td>0</td><td>8</td></tr><tr><td>Lando Norris</td><td>2020</td><td>McLaren</td><td>British</td><td>97.0</td><td>0</td><td>9</td></tr><tr><td>Pierre Gasly</td><td>2020</td><td>AlphaTauri</td><td>French</td><td>75.0</td><td>1</td><td>10</td></tr><tr><td>Lance Stroll</td><td>2020</td><td>Racing Point</td><td>Canadian</td><td>75.0</td><td>0</td><td>11</td></tr><tr><td>Esteban Ocon</td><td>2020</td><td>Renault</td><td>French</td><td>62.0</td><td>0</td><td>12</td></tr><tr><td>Sebastian Vettel</td><td>2020</td><td>Ferrari</td><td>German</td><td>33.0</td><td>0</td><td>13</td></tr><tr><td>Daniil Kvyat</td><td>2020</td><td>AlphaTauri</td><td>Russian</td><td>32.0</td><td>0</td><td>14</td></tr><tr><td>Nico Hülkenberg</td><td>2020</td><td>Racing Point</td><td>German</td><td>10.0</td><td>0</td><td>15</td></tr><tr><td>Antonio Giovinazzi</td><td>2020</td><td>Alfa Romeo</td><td>Italian</td><td>4.0</td><td>0</td><td>16</td></tr><tr><td>Kimi Räikkönen</td><td>2020</td><td>Alfa Romeo</td><td>Finnish</td><td>4.0</td><td>0</td><td>16</td></tr><tr><td>George Russell</td><td>2020</td><td>Mercedes</td><td>British</td><td>3.0</td><td>0</td><td>18</td></tr><tr><td>Romain Grosjean</td><td>2020</td><td>Haas F1 Team</td><td>French</td><td>2.0</td><td>0</td><td>19</td></tr><tr><td>Kevin Magnussen</td><td>2020</td><td>Haas F1 Team</td><td>Danish</td><td>1.0</td><td>0</td><td>20</td></tr><tr><td>Nicholas Latifi</td><td>2020</td><td>Williams</td><td>Canadian</td><td>0.0</td><td>0</td><td>21</td></tr><tr><td>George Russell</td><td>2020</td><td>Williams</td><td>British</td><td>0.0</td><td>0</td><td>21</td></tr><tr><td>Pietro Fittipaldi</td><td>2020</td><td>Haas F1 Team</td><td>Brazilian</td><td>0.0</td><td>0</td><td>21</td></tr><tr><td>Jack Aitken</td><td>2020</td><td>Williams</td><td>British</td><td>0.0</td><td>0</td><td>21</td></tr></tbody></table></div>"
      ]
     },
     "metadata": {
      "application/vnd.databricks.v1+output": {
       "addedWidgets": {},
       "aggData": [],
       "aggError": "",
       "aggOverflow": false,
       "aggSchema": [],
       "aggSeriesLimitReached": false,
       "aggType": "",
       "arguments": {},
       "columnCustomDisplayInfos": {},
       "data": [
        [
         "Lewis Hamilton",
         2020,
         "Mercedes",
         "British",
         347.0,
         11,
         1
        ],
        [
         "Valtteri Bottas",
         2020,
         "Mercedes",
         "Finnish",
         223.0,
         2,
         2
        ],
        [
         "Max Verstappen",
         2020,
         "Red Bull",
         "Dutch",
         214.0,
         2,
         3
        ],
        [
         "Sergio Pérez",
         2020,
         "Racing Point",
         "Mexican",
         125.0,
         1,
         4
        ],
        [
         "Daniel Ricciardo",
         2020,
         "Renault",
         "Australian",
         119.0,
         0,
         5
        ],
        [
         "Carlos Sainz",
         2020,
         "McLaren",
         "Spanish",
         105.0,
         0,
         6
        ],
        [
         "Alexander Albon",
         2020,
         "Red Bull",
         "Thai",
         105.0,
         0,
         6
        ],
        [
         "Charles Leclerc",
         2020,
         "Ferrari",
         "Monegasque",
         98.0,
         0,
         8
        ],
        [
         "Lando Norris",
         2020,
         "McLaren",
         "British",
         97.0,
         0,
         9
        ],
        [
         "Pierre Gasly",
         2020,
         "AlphaTauri",
         "French",
         75.0,
         1,
         10
        ],
        [
         "Lance Stroll",
         2020,
         "Racing Point",
         "Canadian",
         75.0,
         0,
         11
        ],
        [
         "Esteban Ocon",
         2020,
         "Renault",
         "French",
         62.0,
         0,
         12
        ],
        [
         "Sebastian Vettel",
         2020,
         "Ferrari",
         "German",
         33.0,
         0,
         13
        ],
        [
         "Daniil Kvyat",
         2020,
         "AlphaTauri",
         "Russian",
         32.0,
         0,
         14
        ],
        [
         "Nico Hülkenberg",
         2020,
         "Racing Point",
         "German",
         10.0,
         0,
         15
        ],
        [
         "Antonio Giovinazzi",
         2020,
         "Alfa Romeo",
         "Italian",
         4.0,
         0,
         16
        ],
        [
         "Kimi Räikkönen",
         2020,
         "Alfa Romeo",
         "Finnish",
         4.0,
         0,
         16
        ],
        [
         "George Russell",
         2020,
         "Mercedes",
         "British",
         3.0,
         0,
         18
        ],
        [
         "Romain Grosjean",
         2020,
         "Haas F1 Team",
         "French",
         2.0,
         0,
         19
        ],
        [
         "Kevin Magnussen",
         2020,
         "Haas F1 Team",
         "Danish",
         1.0,
         0,
         20
        ],
        [
         "Nicholas Latifi",
         2020,
         "Williams",
         "Canadian",
         0.0,
         0,
         21
        ],
        [
         "George Russell",
         2020,
         "Williams",
         "British",
         0.0,
         0,
         21
        ],
        [
         "Pietro Fittipaldi",
         2020,
         "Haas F1 Team",
         "Brazilian",
         0.0,
         0,
         21
        ],
        [
         "Jack Aitken",
         2020,
         "Williams",
         "British",
         0.0,
         0,
         21
        ]
       ],
       "datasetInfos": [],
       "dbfsResultPath": null,
       "isJsonSchema": true,
       "metadata": {},
       "overflow": false,
       "plotOptions": {
        "customPlotOptions": {},
        "displayType": "table",
        "pivotAggregation": null,
        "pivotColumns": null,
        "xColumns": null,
        "yColumns": null
       },
       "removedWidgets": [],
       "schema": [
        {
         "metadata": "{}",
         "name": "driver_name",
         "type": "\"string\""
        },
        {
         "metadata": "{}",
         "name": "race_year",
         "type": "\"integer\""
        },
        {
         "metadata": "{}",
         "name": "team",
         "type": "\"string\""
        },
        {
         "metadata": "{}",
         "name": "driver_nationality",
         "type": "\"string\""
        },
        {
         "metadata": "{}",
         "name": "points",
         "type": "\"double\""
        },
        {
         "metadata": "{}",
         "name": "wins",
         "type": "\"long\""
        },
        {
         "metadata": "{}",
         "name": "rank",
         "type": "\"integer\""
        }
       ],
       "type": "table"
      }
     },
     "output_type": "display_data"
    }
   ],
   "source": [
    "driver_standings_df.filter('race_year = 2020').display()"
   ]
  },
  {
   "cell_type": "markdown",
   "metadata": {
    "application/vnd.databricks.v1+cell": {
     "cellMetadata": {
      "byteLimit": 2048000,
      "rowLimit": 10000
     },
     "inputWidgets": {},
     "nuid": "aa48120f-d389-4934-8b53-744d4ef35496",
     "showTitle": false,
     "title": ""
    }
   },
   "source": [
    "#2. Save to parquet in presentation folder"
   ]
  },
  {
   "cell_type": "code",
   "execution_count": 0,
   "metadata": {
    "application/vnd.databricks.v1+cell": {
     "cellMetadata": {
      "byteLimit": 2048000,
      "rowLimit": 10000
     },
     "inputWidgets": {},
     "nuid": "1ee78406-1ef7-4d93-9cf2-8835ad6da52d",
     "showTitle": false,
     "title": ""
    }
   },
   "outputs": [],
   "source": [
    "driver_standings_df.write.mode('overwrite').parquet(f'{presentation_folder_path}/driver_standings')"
   ]
  },
  {
   "cell_type": "code",
   "execution_count": 0,
   "metadata": {
    "application/vnd.databricks.v1+cell": {
     "cellMetadata": {
      "byteLimit": 2048000,
      "rowLimit": 10000
     },
     "inputWidgets": {},
     "nuid": "af7b4145-6cc1-4744-923b-5bc97a3e1d59",
     "showTitle": false,
     "title": ""
    }
   },
   "outputs": [],
   "source": []
  }
 ],
 "metadata": {
  "application/vnd.databricks.v1+notebook": {
   "dashboards": [],
   "environmentMetadata": {
    "base_environment": "",
    "client": "1"
   },
   "language": "python",
   "notebookMetadata": {
    "pythonIndentUnit": 4
   },
   "notebookName": "2_driver_standings",
   "widgets": {}
  }
 },
 "nbformat": 4,
 "nbformat_minor": 0
}
