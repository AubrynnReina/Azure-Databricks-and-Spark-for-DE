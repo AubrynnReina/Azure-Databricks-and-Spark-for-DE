{
 "cells": [
  {
   "cell_type": "markdown",
   "metadata": {
    "application/vnd.databricks.v1+cell": {
     "cellMetadata": {},
     "inputWidgets": {},
     "nuid": "c2f0b2cb-ffed-459e-b91b-c54b4ba72424",
     "showTitle": false,
     "title": ""
    }
   },
   "source": [
    "# 0. Setting up"
   ]
  },
  {
   "cell_type": "code",
   "execution_count": 0,
   "metadata": {
    "application/vnd.databricks.v1+cell": {
     "cellMetadata": {
      "byteLimit": 2048000,
      "rowLimit": 10000
     },
     "inputWidgets": {},
     "nuid": "95673a68-68e5-42d6-9054-215221bef168",
     "showTitle": false,
     "title": ""
    }
   },
   "outputs": [],
   "source": [
    "%run \"../includes/configuration\""
   ]
  },
  {
   "cell_type": "code",
   "execution_count": 0,
   "metadata": {
    "application/vnd.databricks.v1+cell": {
     "cellMetadata": {
      "byteLimit": 2048000,
      "rowLimit": 10000
     },
     "inputWidgets": {},
     "nuid": "59161815-2c81-4a2f-9b2c-4e1658902456",
     "showTitle": false,
     "title": ""
    }
   },
   "outputs": [],
   "source": [
    "races_df = spark.read.parquet(f'{processed_folder_path}/races')"
   ]
  },
  {
   "cell_type": "code",
   "execution_count": 0,
   "metadata": {
    "application/vnd.databricks.v1+cell": {
     "cellMetadata": {
      "byteLimit": 2048000,
      "rowLimit": 10000
     },
     "inputWidgets": {},
     "nuid": "43574729-0990-4964-9272-51a73576fa78",
     "showTitle": false,
     "title": ""
    }
   },
   "outputs": [
    {
     "output_type": "display_data",
     "data": {
      "text/html": [
       "<style scoped>\n",
       "  .table-result-container {\n",
       "    max-height: 300px;\n",
       "    overflow: auto;\n",
       "  }\n",
       "  table, th, td {\n",
       "    border: 1px solid black;\n",
       "    border-collapse: collapse;\n",
       "  }\n",
       "  th, td {\n",
       "    padding: 5px;\n",
       "  }\n",
       "  th {\n",
       "    text-align: left;\n",
       "  }\n",
       "</style><div class='table-result-container'><table class='table-result'><thead style='background-color: white'><tr><th>race_id</th><th>race_year</th><th>round</th><th>circuit_id</th><th>name</th><th>ingestion_date</th><th>race_timestamp</th><th>data_source</th></tr></thead><tbody><tr><td>1</td><td>2009</td><td>1</td><td>1</td><td>Australian Grand Prix</td><td>2024-09-04T07:34:19.593Z</td><td>2009-03-29T06:00:00Z</td><td>Ergast API</td></tr><tr><td>2</td><td>2009</td><td>2</td><td>2</td><td>Malaysian Grand Prix</td><td>2024-09-04T07:34:19.593Z</td><td>2009-04-05T09:00:00Z</td><td>Ergast API</td></tr><tr><td>3</td><td>2009</td><td>3</td><td>17</td><td>Chinese Grand Prix</td><td>2024-09-04T07:34:19.593Z</td><td>2009-04-19T07:00:00Z</td><td>Ergast API</td></tr><tr><td>4</td><td>2009</td><td>4</td><td>3</td><td>Bahrain Grand Prix</td><td>2024-09-04T07:34:19.593Z</td><td>2009-04-26T12:00:00Z</td><td>Ergast API</td></tr><tr><td>5</td><td>2009</td><td>5</td><td>4</td><td>Spanish Grand Prix</td><td>2024-09-04T07:34:19.593Z</td><td>2009-05-10T12:00:00Z</td><td>Ergast API</td></tr><tr><td>6</td><td>2009</td><td>6</td><td>6</td><td>Monaco Grand Prix</td><td>2024-09-04T07:34:19.593Z</td><td>2009-05-24T12:00:00Z</td><td>Ergast API</td></tr><tr><td>7</td><td>2009</td><td>7</td><td>5</td><td>Turkish Grand Prix</td><td>2024-09-04T07:34:19.593Z</td><td>2009-06-07T12:00:00Z</td><td>Ergast API</td></tr><tr><td>8</td><td>2009</td><td>8</td><td>9</td><td>British Grand Prix</td><td>2024-09-04T07:34:19.593Z</td><td>2009-06-21T12:00:00Z</td><td>Ergast API</td></tr><tr><td>9</td><td>2009</td><td>9</td><td>20</td><td>German Grand Prix</td><td>2024-09-04T07:34:19.593Z</td><td>2009-07-12T12:00:00Z</td><td>Ergast API</td></tr><tr><td>10</td><td>2009</td><td>10</td><td>11</td><td>Hungarian Grand Prix</td><td>2024-09-04T07:34:19.593Z</td><td>2009-07-26T12:00:00Z</td><td>Ergast API</td></tr></tbody></table></div>"
      ]
     },
     "metadata": {
      "application/vnd.databricks.v1+output": {
       "addedWidgets": {},
       "aggData": [],
       "aggError": "",
       "aggOverflow": false,
       "aggSchema": [],
       "aggSeriesLimitReached": false,
       "aggType": "",
       "arguments": {},
       "columnCustomDisplayInfos": {},
       "data": [
        [
         1,
         2009,
         1,
         1,
         "Australian Grand Prix",
         "2024-09-04T07:34:19.593Z",
         "2009-03-29T06:00:00Z",
         "Ergast API"
        ],
        [
         2,
         2009,
         2,
         2,
         "Malaysian Grand Prix",
         "2024-09-04T07:34:19.593Z",
         "2009-04-05T09:00:00Z",
         "Ergast API"
        ],
        [
         3,
         2009,
         3,
         17,
         "Chinese Grand Prix",
         "2024-09-04T07:34:19.593Z",
         "2009-04-19T07:00:00Z",
         "Ergast API"
        ],
        [
         4,
         2009,
         4,
         3,
         "Bahrain Grand Prix",
         "2024-09-04T07:34:19.593Z",
         "2009-04-26T12:00:00Z",
         "Ergast API"
        ],
        [
         5,
         2009,
         5,
         4,
         "Spanish Grand Prix",
         "2024-09-04T07:34:19.593Z",
         "2009-05-10T12:00:00Z",
         "Ergast API"
        ],
        [
         6,
         2009,
         6,
         6,
         "Monaco Grand Prix",
         "2024-09-04T07:34:19.593Z",
         "2009-05-24T12:00:00Z",
         "Ergast API"
        ],
        [
         7,
         2009,
         7,
         5,
         "Turkish Grand Prix",
         "2024-09-04T07:34:19.593Z",
         "2009-06-07T12:00:00Z",
         "Ergast API"
        ],
        [
         8,
         2009,
         8,
         9,
         "British Grand Prix",
         "2024-09-04T07:34:19.593Z",
         "2009-06-21T12:00:00Z",
         "Ergast API"
        ],
        [
         9,
         2009,
         9,
         20,
         "German Grand Prix",
         "2024-09-04T07:34:19.593Z",
         "2009-07-12T12:00:00Z",
         "Ergast API"
        ],
        [
         10,
         2009,
         10,
         11,
         "Hungarian Grand Prix",
         "2024-09-04T07:34:19.593Z",
         "2009-07-26T12:00:00Z",
         "Ergast API"
        ]
       ],
       "datasetInfos": [],
       "dbfsResultPath": null,
       "isJsonSchema": true,
       "metadata": {},
       "overflow": false,
       "plotOptions": {
        "customPlotOptions": {},
        "displayType": "table",
        "pivotAggregation": null,
        "pivotColumns": null,
        "xColumns": null,
        "yColumns": null
       },
       "removedWidgets": [],
       "schema": [
        {
         "metadata": "{}",
         "name": "race_id",
         "type": "\"integer\""
        },
        {
         "metadata": "{}",
         "name": "race_year",
         "type": "\"integer\""
        },
        {
         "metadata": "{}",
         "name": "round",
         "type": "\"integer\""
        },
        {
         "metadata": "{}",
         "name": "circuit_id",
         "type": "\"integer\""
        },
        {
         "metadata": "{}",
         "name": "name",
         "type": "\"string\""
        },
        {
         "metadata": "{}",
         "name": "ingestion_date",
         "type": "\"timestamp\""
        },
        {
         "metadata": "{}",
         "name": "race_timestamp",
         "type": "\"timestamp\""
        },
        {
         "metadata": "{}",
         "name": "data_source",
         "type": "\"string\""
        }
       ],
       "type": "table"
      }
     },
     "output_type": "display_data"
    }
   ],
   "source": [
    "races_df.limit(10).display()"
   ]
  },
  {
   "cell_type": "code",
   "execution_count": 0,
   "metadata": {
    "application/vnd.databricks.v1+cell": {
     "cellMetadata": {
      "byteLimit": 2048000,
      "rowLimit": 10000
     },
     "inputWidgets": {},
     "nuid": "fb89930e-9530-4cda-bc14-30b1d805bf7b",
     "showTitle": false,
     "title": ""
    }
   },
   "outputs": [
    {
     "output_type": "display_data",
     "data": {
      "text/html": [
       "<style scoped>\n",
       "  .table-result-container {\n",
       "    max-height: 300px;\n",
       "    overflow: auto;\n",
       "  }\n",
       "  table, th, td {\n",
       "    border: 1px solid black;\n",
       "    border-collapse: collapse;\n",
       "  }\n",
       "  th, td {\n",
       "    padding: 5px;\n",
       "  }\n",
       "  th {\n",
       "    text-align: left;\n",
       "  }\n",
       "</style><div class='table-result-container'><table class='table-result'><thead style='background-color: white'><tr><th>race_id</th><th>race_year</th><th>round</th><th>circuit_id</th><th>name</th><th>ingestion_date</th><th>race_timestamp</th><th>data_source</th></tr></thead><tbody><tr><td>1010</td><td>2019</td><td>1</td><td>1</td><td>Australian Grand Prix</td><td>2024-09-04T07:34:19.593Z</td><td>2019-03-17T05:10:00Z</td><td>Ergast API</td></tr><tr><td>1011</td><td>2019</td><td>2</td><td>3</td><td>Bahrain Grand Prix</td><td>2024-09-04T07:34:19.593Z</td><td>2019-03-31T15:10:00Z</td><td>Ergast API</td></tr><tr><td>1012</td><td>2019</td><td>3</td><td>17</td><td>Chinese Grand Prix</td><td>2024-09-04T07:34:19.593Z</td><td>2019-04-14T06:10:00Z</td><td>Ergast API</td></tr><tr><td>1013</td><td>2019</td><td>4</td><td>73</td><td>Azerbaijan Grand Prix</td><td>2024-09-04T07:34:19.593Z</td><td>2019-04-28T12:10:00Z</td><td>Ergast API</td></tr><tr><td>1014</td><td>2019</td><td>5</td><td>4</td><td>Spanish Grand Prix</td><td>2024-09-04T07:34:19.593Z</td><td>2019-05-12T13:10:00Z</td><td>Ergast API</td></tr><tr><td>1015</td><td>2019</td><td>6</td><td>6</td><td>Monaco Grand Prix</td><td>2024-09-04T07:34:19.593Z</td><td>2019-05-26T13:10:00Z</td><td>Ergast API</td></tr><tr><td>1016</td><td>2019</td><td>7</td><td>7</td><td>Canadian Grand Prix</td><td>2024-09-04T07:34:19.593Z</td><td>2019-06-09T18:10:00Z</td><td>Ergast API</td></tr><tr><td>1017</td><td>2019</td><td>8</td><td>34</td><td>French Grand Prix</td><td>2024-09-04T07:34:19.593Z</td><td>2019-06-23T13:10:00Z</td><td>Ergast API</td></tr><tr><td>1018</td><td>2019</td><td>9</td><td>70</td><td>Austrian Grand Prix</td><td>2024-09-04T07:34:19.593Z</td><td>2019-06-30T13:10:00Z</td><td>Ergast API</td></tr><tr><td>1019</td><td>2019</td><td>10</td><td>9</td><td>British Grand Prix</td><td>2024-09-04T07:34:19.593Z</td><td>2019-07-14T13:10:00Z</td><td>Ergast API</td></tr></tbody></table></div>"
      ]
     },
     "metadata": {
      "application/vnd.databricks.v1+output": {
       "addedWidgets": {},
       "aggData": [],
       "aggError": "",
       "aggOverflow": false,
       "aggSchema": [],
       "aggSeriesLimitReached": false,
       "aggType": "",
       "arguments": {},
       "columnCustomDisplayInfos": {},
       "data": [
        [
         1010,
         2019,
         1,
         1,
         "Australian Grand Prix",
         "2024-09-04T07:34:19.593Z",
         "2019-03-17T05:10:00Z",
         "Ergast API"
        ],
        [
         1011,
         2019,
         2,
         3,
         "Bahrain Grand Prix",
         "2024-09-04T07:34:19.593Z",
         "2019-03-31T15:10:00Z",
         "Ergast API"
        ],
        [
         1012,
         2019,
         3,
         17,
         "Chinese Grand Prix",
         "2024-09-04T07:34:19.593Z",
         "2019-04-14T06:10:00Z",
         "Ergast API"
        ],
        [
         1013,
         2019,
         4,
         73,
         "Azerbaijan Grand Prix",
         "2024-09-04T07:34:19.593Z",
         "2019-04-28T12:10:00Z",
         "Ergast API"
        ],
        [
         1014,
         2019,
         5,
         4,
         "Spanish Grand Prix",
         "2024-09-04T07:34:19.593Z",
         "2019-05-12T13:10:00Z",
         "Ergast API"
        ],
        [
         1015,
         2019,
         6,
         6,
         "Monaco Grand Prix",
         "2024-09-04T07:34:19.593Z",
         "2019-05-26T13:10:00Z",
         "Ergast API"
        ],
        [
         1016,
         2019,
         7,
         7,
         "Canadian Grand Prix",
         "2024-09-04T07:34:19.593Z",
         "2019-06-09T18:10:00Z",
         "Ergast API"
        ],
        [
         1017,
         2019,
         8,
         34,
         "French Grand Prix",
         "2024-09-04T07:34:19.593Z",
         "2019-06-23T13:10:00Z",
         "Ergast API"
        ],
        [
         1018,
         2019,
         9,
         70,
         "Austrian Grand Prix",
         "2024-09-04T07:34:19.593Z",
         "2019-06-30T13:10:00Z",
         "Ergast API"
        ],
        [
         1019,
         2019,
         10,
         9,
         "British Grand Prix",
         "2024-09-04T07:34:19.593Z",
         "2019-07-14T13:10:00Z",
         "Ergast API"
        ]
       ],
       "datasetInfos": [],
       "dbfsResultPath": null,
       "isJsonSchema": true,
       "metadata": {},
       "overflow": false,
       "plotOptions": {
        "customPlotOptions": {},
        "displayType": "table",
        "pivotAggregation": null,
        "pivotColumns": null,
        "xColumns": null,
        "yColumns": null
       },
       "removedWidgets": [],
       "schema": [
        {
         "metadata": "{}",
         "name": "race_id",
         "type": "\"integer\""
        },
        {
         "metadata": "{}",
         "name": "race_year",
         "type": "\"integer\""
        },
        {
         "metadata": "{}",
         "name": "round",
         "type": "\"integer\""
        },
        {
         "metadata": "{}",
         "name": "circuit_id",
         "type": "\"integer\""
        },
        {
         "metadata": "{}",
         "name": "name",
         "type": "\"string\""
        },
        {
         "metadata": "{}",
         "name": "ingestion_date",
         "type": "\"timestamp\""
        },
        {
         "metadata": "{}",
         "name": "race_timestamp",
         "type": "\"timestamp\""
        },
        {
         "metadata": "{}",
         "name": "data_source",
         "type": "\"string\""
        }
       ],
       "type": "table"
      }
     },
     "output_type": "display_data"
    }
   ],
   "source": [
    "filtered_races_df = races_df.filter('race_year = 2019')\n",
    "filtered_races_df.limit(10).display()"
   ]
  },
  {
   "cell_type": "code",
   "execution_count": 0,
   "metadata": {
    "application/vnd.databricks.v1+cell": {
     "cellMetadata": {
      "byteLimit": 2048000,
      "rowLimit": 10000
     },
     "inputWidgets": {},
     "nuid": "b2cd23d9-7d4b-43b0-9a74-b57cc1981fe5",
     "showTitle": false,
     "title": ""
    }
   },
   "outputs": [
    {
     "output_type": "display_data",
     "data": {
      "text/html": [
       "<style scoped>\n",
       "  .table-result-container {\n",
       "    max-height: 300px;\n",
       "    overflow: auto;\n",
       "  }\n",
       "  table, th, td {\n",
       "    border: 1px solid black;\n",
       "    border-collapse: collapse;\n",
       "  }\n",
       "  th, td {\n",
       "    padding: 5px;\n",
       "  }\n",
       "  th {\n",
       "    text-align: left;\n",
       "  }\n",
       "</style><div class='table-result-container'><table class='table-result'><thead style='background-color: white'><tr><th>race_id</th><th>race_year</th><th>round</th><th>circuit_id</th><th>name</th><th>ingestion_date</th><th>race_timestamp</th><th>data_source</th></tr></thead><tbody><tr><td>1010</td><td>2019</td><td>1</td><td>1</td><td>Australian Grand Prix</td><td>2024-09-04T07:34:19.593Z</td><td>2019-03-17T05:10:00Z</td><td>Ergast API</td></tr><tr><td>1011</td><td>2019</td><td>2</td><td>3</td><td>Bahrain Grand Prix</td><td>2024-09-04T07:34:19.593Z</td><td>2019-03-31T15:10:00Z</td><td>Ergast API</td></tr><tr><td>1012</td><td>2019</td><td>3</td><td>17</td><td>Chinese Grand Prix</td><td>2024-09-04T07:34:19.593Z</td><td>2019-04-14T06:10:00Z</td><td>Ergast API</td></tr><tr><td>1013</td><td>2019</td><td>4</td><td>73</td><td>Azerbaijan Grand Prix</td><td>2024-09-04T07:34:19.593Z</td><td>2019-04-28T12:10:00Z</td><td>Ergast API</td></tr><tr><td>1014</td><td>2019</td><td>5</td><td>4</td><td>Spanish Grand Prix</td><td>2024-09-04T07:34:19.593Z</td><td>2019-05-12T13:10:00Z</td><td>Ergast API</td></tr><tr><td>1015</td><td>2019</td><td>6</td><td>6</td><td>Monaco Grand Prix</td><td>2024-09-04T07:34:19.593Z</td><td>2019-05-26T13:10:00Z</td><td>Ergast API</td></tr><tr><td>1016</td><td>2019</td><td>7</td><td>7</td><td>Canadian Grand Prix</td><td>2024-09-04T07:34:19.593Z</td><td>2019-06-09T18:10:00Z</td><td>Ergast API</td></tr><tr><td>1017</td><td>2019</td><td>8</td><td>34</td><td>French Grand Prix</td><td>2024-09-04T07:34:19.593Z</td><td>2019-06-23T13:10:00Z</td><td>Ergast API</td></tr><tr><td>1018</td><td>2019</td><td>9</td><td>70</td><td>Austrian Grand Prix</td><td>2024-09-04T07:34:19.593Z</td><td>2019-06-30T13:10:00Z</td><td>Ergast API</td></tr><tr><td>1019</td><td>2019</td><td>10</td><td>9</td><td>British Grand Prix</td><td>2024-09-04T07:34:19.593Z</td><td>2019-07-14T13:10:00Z</td><td>Ergast API</td></tr></tbody></table></div>"
      ]
     },
     "metadata": {
      "application/vnd.databricks.v1+output": {
       "addedWidgets": {},
       "aggData": [],
       "aggError": "",
       "aggOverflow": false,
       "aggSchema": [],
       "aggSeriesLimitReached": false,
       "aggType": "",
       "arguments": {},
       "columnCustomDisplayInfos": {},
       "data": [
        [
         1010,
         2019,
         1,
         1,
         "Australian Grand Prix",
         "2024-09-04T07:34:19.593Z",
         "2019-03-17T05:10:00Z",
         "Ergast API"
        ],
        [
         1011,
         2019,
         2,
         3,
         "Bahrain Grand Prix",
         "2024-09-04T07:34:19.593Z",
         "2019-03-31T15:10:00Z",
         "Ergast API"
        ],
        [
         1012,
         2019,
         3,
         17,
         "Chinese Grand Prix",
         "2024-09-04T07:34:19.593Z",
         "2019-04-14T06:10:00Z",
         "Ergast API"
        ],
        [
         1013,
         2019,
         4,
         73,
         "Azerbaijan Grand Prix",
         "2024-09-04T07:34:19.593Z",
         "2019-04-28T12:10:00Z",
         "Ergast API"
        ],
        [
         1014,
         2019,
         5,
         4,
         "Spanish Grand Prix",
         "2024-09-04T07:34:19.593Z",
         "2019-05-12T13:10:00Z",
         "Ergast API"
        ],
        [
         1015,
         2019,
         6,
         6,
         "Monaco Grand Prix",
         "2024-09-04T07:34:19.593Z",
         "2019-05-26T13:10:00Z",
         "Ergast API"
        ],
        [
         1016,
         2019,
         7,
         7,
         "Canadian Grand Prix",
         "2024-09-04T07:34:19.593Z",
         "2019-06-09T18:10:00Z",
         "Ergast API"
        ],
        [
         1017,
         2019,
         8,
         34,
         "French Grand Prix",
         "2024-09-04T07:34:19.593Z",
         "2019-06-23T13:10:00Z",
         "Ergast API"
        ],
        [
         1018,
         2019,
         9,
         70,
         "Austrian Grand Prix",
         "2024-09-04T07:34:19.593Z",
         "2019-06-30T13:10:00Z",
         "Ergast API"
        ],
        [
         1019,
         2019,
         10,
         9,
         "British Grand Prix",
         "2024-09-04T07:34:19.593Z",
         "2019-07-14T13:10:00Z",
         "Ergast API"
        ]
       ],
       "datasetInfos": [],
       "dbfsResultPath": null,
       "isJsonSchema": true,
       "metadata": {},
       "overflow": false,
       "plotOptions": {
        "customPlotOptions": {},
        "displayType": "table",
        "pivotAggregation": null,
        "pivotColumns": null,
        "xColumns": null,
        "yColumns": null
       },
       "removedWidgets": [],
       "schema": [
        {
         "metadata": "{}",
         "name": "race_id",
         "type": "\"integer\""
        },
        {
         "metadata": "{}",
         "name": "race_year",
         "type": "\"integer\""
        },
        {
         "metadata": "{}",
         "name": "round",
         "type": "\"integer\""
        },
        {
         "metadata": "{}",
         "name": "circuit_id",
         "type": "\"integer\""
        },
        {
         "metadata": "{}",
         "name": "name",
         "type": "\"string\""
        },
        {
         "metadata": "{}",
         "name": "ingestion_date",
         "type": "\"timestamp\""
        },
        {
         "metadata": "{}",
         "name": "race_timestamp",
         "type": "\"timestamp\""
        },
        {
         "metadata": "{}",
         "name": "data_source",
         "type": "\"string\""
        }
       ],
       "type": "table"
      }
     },
     "output_type": "display_data"
    }
   ],
   "source": [
    "filtered_races_df = races_df.filter(races_df['race_year'] == 2019)\n",
    "filtered_races_df.limit(10).display()"
   ]
  },
  {
   "cell_type": "code",
   "execution_count": 0,
   "metadata": {
    "application/vnd.databricks.v1+cell": {
     "cellMetadata": {
      "byteLimit": 2048000,
      "rowLimit": 10000
     },
     "inputWidgets": {},
     "nuid": "de90ea26-78fc-418b-b3e7-576d8a193992",
     "showTitle": false,
     "title": ""
    }
   },
   "outputs": [
    {
     "output_type": "display_data",
     "data": {
      "text/html": [
       "<style scoped>\n",
       "  .table-result-container {\n",
       "    max-height: 300px;\n",
       "    overflow: auto;\n",
       "  }\n",
       "  table, th, td {\n",
       "    border: 1px solid black;\n",
       "    border-collapse: collapse;\n",
       "  }\n",
       "  th, td {\n",
       "    padding: 5px;\n",
       "  }\n",
       "  th {\n",
       "    text-align: left;\n",
       "  }\n",
       "</style><div class='table-result-container'><table class='table-result'><thead style='background-color: white'><tr><th>race_id</th><th>race_year</th><th>round</th><th>circuit_id</th><th>name</th><th>ingestion_date</th><th>race_timestamp</th><th>data_source</th></tr></thead><tbody><tr><td>1010</td><td>2019</td><td>1</td><td>1</td><td>Australian Grand Prix</td><td>2024-09-04T07:34:19.593Z</td><td>2019-03-17T05:10:00Z</td><td>Ergast API</td></tr><tr><td>1011</td><td>2019</td><td>2</td><td>3</td><td>Bahrain Grand Prix</td><td>2024-09-04T07:34:19.593Z</td><td>2019-03-31T15:10:00Z</td><td>Ergast API</td></tr><tr><td>1012</td><td>2019</td><td>3</td><td>17</td><td>Chinese Grand Prix</td><td>2024-09-04T07:34:19.593Z</td><td>2019-04-14T06:10:00Z</td><td>Ergast API</td></tr><tr><td>1013</td><td>2019</td><td>4</td><td>73</td><td>Azerbaijan Grand Prix</td><td>2024-09-04T07:34:19.593Z</td><td>2019-04-28T12:10:00Z</td><td>Ergast API</td></tr><tr><td>1014</td><td>2019</td><td>5</td><td>4</td><td>Spanish Grand Prix</td><td>2024-09-04T07:34:19.593Z</td><td>2019-05-12T13:10:00Z</td><td>Ergast API</td></tr></tbody></table></div>"
      ]
     },
     "metadata": {
      "application/vnd.databricks.v1+output": {
       "addedWidgets": {},
       "aggData": [],
       "aggError": "",
       "aggOverflow": false,
       "aggSchema": [],
       "aggSeriesLimitReached": false,
       "aggType": "",
       "arguments": {},
       "columnCustomDisplayInfos": {},
       "data": [
        [
         1010,
         2019,
         1,
         1,
         "Australian Grand Prix",
         "2024-09-04T07:34:19.593Z",
         "2019-03-17T05:10:00Z",
         "Ergast API"
        ],
        [
         1011,
         2019,
         2,
         3,
         "Bahrain Grand Prix",
         "2024-09-04T07:34:19.593Z",
         "2019-03-31T15:10:00Z",
         "Ergast API"
        ],
        [
         1012,
         2019,
         3,
         17,
         "Chinese Grand Prix",
         "2024-09-04T07:34:19.593Z",
         "2019-04-14T06:10:00Z",
         "Ergast API"
        ],
        [
         1013,
         2019,
         4,
         73,
         "Azerbaijan Grand Prix",
         "2024-09-04T07:34:19.593Z",
         "2019-04-28T12:10:00Z",
         "Ergast API"
        ],
        [
         1014,
         2019,
         5,
         4,
         "Spanish Grand Prix",
         "2024-09-04T07:34:19.593Z",
         "2019-05-12T13:10:00Z",
         "Ergast API"
        ]
       ],
       "datasetInfos": [],
       "dbfsResultPath": null,
       "isJsonSchema": true,
       "metadata": {},
       "overflow": false,
       "plotOptions": {
        "customPlotOptions": {},
        "displayType": "table",
        "pivotAggregation": null,
        "pivotColumns": null,
        "xColumns": null,
        "yColumns": null
       },
       "removedWidgets": [],
       "schema": [
        {
         "metadata": "{}",
         "name": "race_id",
         "type": "\"integer\""
        },
        {
         "metadata": "{}",
         "name": "race_year",
         "type": "\"integer\""
        },
        {
         "metadata": "{}",
         "name": "round",
         "type": "\"integer\""
        },
        {
         "metadata": "{}",
         "name": "circuit_id",
         "type": "\"integer\""
        },
        {
         "metadata": "{}",
         "name": "name",
         "type": "\"string\""
        },
        {
         "metadata": "{}",
         "name": "ingestion_date",
         "type": "\"timestamp\""
        },
        {
         "metadata": "{}",
         "name": "race_timestamp",
         "type": "\"timestamp\""
        },
        {
         "metadata": "{}",
         "name": "data_source",
         "type": "\"string\""
        }
       ],
       "type": "table"
      }
     },
     "output_type": "display_data"
    }
   ],
   "source": [
    "filtered_races_df = races_df.filter(\n",
    "    'race_year = 2019 AND round <= 5'\n",
    ")\n",
    "filtered_races_df.limit(10).display()"
   ]
  },
  {
   "cell_type": "code",
   "execution_count": 0,
   "metadata": {
    "application/vnd.databricks.v1+cell": {
     "cellMetadata": {
      "byteLimit": 2048000,
      "rowLimit": 10000
     },
     "inputWidgets": {},
     "nuid": "5a85302d-83bf-4f7a-9dfc-672fc7f72dad",
     "showTitle": false,
     "title": ""
    }
   },
   "outputs": [
    {
     "output_type": "display_data",
     "data": {
      "text/html": [
       "<style scoped>\n",
       "  .table-result-container {\n",
       "    max-height: 300px;\n",
       "    overflow: auto;\n",
       "  }\n",
       "  table, th, td {\n",
       "    border: 1px solid black;\n",
       "    border-collapse: collapse;\n",
       "  }\n",
       "  th, td {\n",
       "    padding: 5px;\n",
       "  }\n",
       "  th {\n",
       "    text-align: left;\n",
       "  }\n",
       "</style><div class='table-result-container'><table class='table-result'><thead style='background-color: white'><tr><th>race_id</th><th>race_year</th><th>round</th><th>circuit_id</th><th>name</th><th>ingestion_date</th><th>race_timestamp</th><th>data_source</th></tr></thead><tbody><tr><td>1010</td><td>2019</td><td>1</td><td>1</td><td>Australian Grand Prix</td><td>2024-09-04T07:34:19.593Z</td><td>2019-03-17T05:10:00Z</td><td>Ergast API</td></tr><tr><td>1011</td><td>2019</td><td>2</td><td>3</td><td>Bahrain Grand Prix</td><td>2024-09-04T07:34:19.593Z</td><td>2019-03-31T15:10:00Z</td><td>Ergast API</td></tr><tr><td>1012</td><td>2019</td><td>3</td><td>17</td><td>Chinese Grand Prix</td><td>2024-09-04T07:34:19.593Z</td><td>2019-04-14T06:10:00Z</td><td>Ergast API</td></tr><tr><td>1013</td><td>2019</td><td>4</td><td>73</td><td>Azerbaijan Grand Prix</td><td>2024-09-04T07:34:19.593Z</td><td>2019-04-28T12:10:00Z</td><td>Ergast API</td></tr><tr><td>1014</td><td>2019</td><td>5</td><td>4</td><td>Spanish Grand Prix</td><td>2024-09-04T07:34:19.593Z</td><td>2019-05-12T13:10:00Z</td><td>Ergast API</td></tr></tbody></table></div>"
      ]
     },
     "metadata": {
      "application/vnd.databricks.v1+output": {
       "addedWidgets": {},
       "aggData": [],
       "aggError": "",
       "aggOverflow": false,
       "aggSchema": [],
       "aggSeriesLimitReached": false,
       "aggType": "",
       "arguments": {},
       "columnCustomDisplayInfos": {},
       "data": [
        [
         1010,
         2019,
         1,
         1,
         "Australian Grand Prix",
         "2024-09-04T07:34:19.593Z",
         "2019-03-17T05:10:00Z",
         "Ergast API"
        ],
        [
         1011,
         2019,
         2,
         3,
         "Bahrain Grand Prix",
         "2024-09-04T07:34:19.593Z",
         "2019-03-31T15:10:00Z",
         "Ergast API"
        ],
        [
         1012,
         2019,
         3,
         17,
         "Chinese Grand Prix",
         "2024-09-04T07:34:19.593Z",
         "2019-04-14T06:10:00Z",
         "Ergast API"
        ],
        [
         1013,
         2019,
         4,
         73,
         "Azerbaijan Grand Prix",
         "2024-09-04T07:34:19.593Z",
         "2019-04-28T12:10:00Z",
         "Ergast API"
        ],
        [
         1014,
         2019,
         5,
         4,
         "Spanish Grand Prix",
         "2024-09-04T07:34:19.593Z",
         "2019-05-12T13:10:00Z",
         "Ergast API"
        ]
       ],
       "datasetInfos": [],
       "dbfsResultPath": null,
       "isJsonSchema": true,
       "metadata": {},
       "overflow": false,
       "plotOptions": {
        "customPlotOptions": {},
        "displayType": "table",
        "pivotAggregation": null,
        "pivotColumns": null,
        "xColumns": null,
        "yColumns": null
       },
       "removedWidgets": [],
       "schema": [
        {
         "metadata": "{}",
         "name": "race_id",
         "type": "\"integer\""
        },
        {
         "metadata": "{}",
         "name": "race_year",
         "type": "\"integer\""
        },
        {
         "metadata": "{}",
         "name": "round",
         "type": "\"integer\""
        },
        {
         "metadata": "{}",
         "name": "circuit_id",
         "type": "\"integer\""
        },
        {
         "metadata": "{}",
         "name": "name",
         "type": "\"string\""
        },
        {
         "metadata": "{}",
         "name": "ingestion_date",
         "type": "\"timestamp\""
        },
        {
         "metadata": "{}",
         "name": "race_timestamp",
         "type": "\"timestamp\""
        },
        {
         "metadata": "{}",
         "name": "data_source",
         "type": "\"string\""
        }
       ],
       "type": "table"
      }
     },
     "output_type": "display_data"
    }
   ],
   "source": [
    "filtered_races_df = races_df.filter(\n",
    "    (races_df['race_year'] == 2019) &\n",
    "    (races_df['round'] <= 5)\n",
    ")\n",
    "filtered_races_df.limit(10).display()"
   ]
  },
  {
   "cell_type": "code",
   "execution_count": 0,
   "metadata": {
    "application/vnd.databricks.v1+cell": {
     "cellMetadata": {},
     "inputWidgets": {},
     "nuid": "c3f2a725-d958-4f69-be66-4726e84afdf6",
     "showTitle": false,
     "title": ""
    }
   },
   "outputs": [],
   "source": []
  }
 ],
 "metadata": {
  "application/vnd.databricks.v1+notebook": {
   "dashboards": [],
   "environmentMetadata": {
    "base_environment": "",
    "client": "1"
   },
   "language": "python",
   "notebookMetadata": {
    "pythonIndentUnit": 4
   },
   "notebookName": "1_filter",
   "widgets": {}
  }
 },
 "nbformat": 4,
 "nbformat_minor": 0
}
