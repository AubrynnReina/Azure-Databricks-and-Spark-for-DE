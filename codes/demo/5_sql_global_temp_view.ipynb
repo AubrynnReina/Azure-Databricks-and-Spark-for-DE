{
 "cells": [
  {
   "cell_type": "markdown",
   "metadata": {
    "application/vnd.databricks.v1+cell": {
     "cellMetadata": {
      "byteLimit": 2048000,
      "rowLimit": 10000
     },
     "inputWidgets": {},
     "nuid": "9a912b0b-e504-41e5-b9cc-17c727b9a6c0",
     "showTitle": false,
     "title": ""
    }
   },
   "source": [
    "# 0. Setting up"
   ]
  },
  {
   "cell_type": "code",
   "execution_count": 0,
   "metadata": {
    "application/vnd.databricks.v1+cell": {
     "cellMetadata": {
      "byteLimit": 2048000,
      "rowLimit": 10000
     },
     "inputWidgets": {},
     "nuid": "4c987f9e-a96c-4604-bfc3-f0171cfc61d6",
     "showTitle": false,
     "title": ""
    }
   },
   "outputs": [],
   "source": [
    "%run \"../includes/configuration\""
   ]
  },
  {
   "cell_type": "code",
   "execution_count": 0,
   "metadata": {
    "application/vnd.databricks.v1+cell": {
     "cellMetadata": {
      "byteLimit": 2048000,
      "rowLimit": 10000
     },
     "inputWidgets": {},
     "nuid": "1800003f-d0c2-43af-8d48-bbd73b6af9f8",
     "showTitle": false,
     "title": ""
    }
   },
   "outputs": [
    {
     "output_type": "display_data",
     "data": {
      "text/html": [
       "<style scoped>\n",
       "  .table-result-container {\n",
       "    max-height: 300px;\n",
       "    overflow: auto;\n",
       "  }\n",
       "  table, th, td {\n",
       "    border: 1px solid black;\n",
       "    border-collapse: collapse;\n",
       "  }\n",
       "  th, td {\n",
       "    padding: 5px;\n",
       "  }\n",
       "  th {\n",
       "    text-align: left;\n",
       "  }\n",
       "</style><div class='table-result-container'><table class='table-result'><thead style='background-color: white'><tr><th>race_year</th><th>race_name</th><th>race_date</th><th>circuit_location</th><th>driver_name</th><th>driver_number</th><th>driver_nationality</th><th>team</th><th>grid</th><th>fastest_lap</th><th>race_time</th><th>points</th><th>position</th><th>created_date</th></tr></thead><tbody><tr><td>2014</td><td>United States Grand Prix</td><td>2014-11-02T20:00:00Z</td><td>Austin</td><td>Lewis Hamilton</td><td>44</td><td>British</td><td>Mercedes</td><td>2</td><td>49</td><td>1:40:04.785</td><td>25.0</td><td>1</td><td>2024-09-05T02:06:46.463Z</td></tr><tr><td>2014</td><td>United States Grand Prix</td><td>2014-11-02T20:00:00Z</td><td>Austin</td><td>Nico Rosberg</td><td>6</td><td>German</td><td>Mercedes</td><td>1</td><td>48</td><td>+4.314</td><td>18.0</td><td>2</td><td>2024-09-05T02:06:46.463Z</td></tr><tr><td>2014</td><td>United States Grand Prix</td><td>2014-11-02T20:00:00Z</td><td>Austin</td><td>Daniel Ricciardo</td><td>3</td><td>Australian</td><td>Red Bull</td><td>5</td><td>33</td><td>+25.560</td><td>15.0</td><td>3</td><td>2024-09-05T02:06:46.463Z</td></tr><tr><td>2014</td><td>United States Grand Prix</td><td>2014-11-02T20:00:00Z</td><td>Austin</td><td>Felipe Massa</td><td>19</td><td>Brazilian</td><td>Williams</td><td>4</td><td>50</td><td>+26.924</td><td>12.0</td><td>4</td><td>2024-09-05T02:06:46.463Z</td></tr><tr><td>2014</td><td>United States Grand Prix</td><td>2014-11-02T20:00:00Z</td><td>Austin</td><td>Valtteri Bottas</td><td>77</td><td>Finnish</td><td>Williams</td><td>3</td><td>55</td><td>+30.992</td><td>10.0</td><td>5</td><td>2024-09-05T02:06:46.463Z</td></tr><tr><td>2014</td><td>United States Grand Prix</td><td>2014-11-02T20:00:00Z</td><td>Austin</td><td>Fernando Alonso</td><td>14</td><td>Spanish</td><td>Ferrari</td><td>6</td><td>47</td><td>+1:35.231</td><td>8.0</td><td>6</td><td>2024-09-05T02:06:46.463Z</td></tr><tr><td>2014</td><td>United States Grand Prix</td><td>2014-11-02T20:00:00Z</td><td>Austin</td><td>Sebastian Vettel</td><td>5</td><td>German</td><td>Red Bull</td><td>18</td><td>50</td><td>+1:35.734</td><td>6.0</td><td>7</td><td>2024-09-05T02:06:46.463Z</td></tr><tr><td>2014</td><td>United States Grand Prix</td><td>2014-11-02T20:00:00Z</td><td>Austin</td><td>Kevin Magnussen</td><td>20</td><td>Danish</td><td>McLaren</td><td>7</td><td>29</td><td>+1:40.682</td><td>4.0</td><td>8</td><td>2024-09-05T02:06:46.463Z</td></tr><tr><td>2014</td><td>United States Grand Prix</td><td>2014-11-02T20:00:00Z</td><td>Austin</td><td>Jean-Éric Vergne</td><td>25</td><td>French</td><td>Toro Rosso</td><td>14</td><td>17</td><td>+1:48.863</td><td>1.0</td><td>10</td><td>2024-09-05T02:06:46.463Z</td></tr><tr><td>2014</td><td>United States Grand Prix</td><td>2014-11-02T20:00:00Z</td><td>Austin</td><td>Pastor Maldonado</td><td>13</td><td>Venezuelan</td><td>Lotus F1</td><td>10</td><td>38</td><td>+1:47.870</td><td>2.0</td><td>9</td><td>2024-09-05T02:06:46.463Z</td></tr></tbody></table></div>"
      ]
     },
     "metadata": {
      "application/vnd.databricks.v1+output": {
       "addedWidgets": {},
       "aggData": [],
       "aggError": "",
       "aggOverflow": false,
       "aggSchema": [],
       "aggSeriesLimitReached": false,
       "aggType": "",
       "arguments": {},
       "columnCustomDisplayInfos": {},
       "data": [
        [
         2014,
         "United States Grand Prix",
         "2014-11-02T20:00:00Z",
         "Austin",
         "Lewis Hamilton",
         44,
         "British",
         "Mercedes",
         2,
         49,
         "1:40:04.785",
         25.0,
         1,
         "2024-09-05T02:06:46.463Z"
        ],
        [
         2014,
         "United States Grand Prix",
         "2014-11-02T20:00:00Z",
         "Austin",
         "Nico Rosberg",
         6,
         "German",
         "Mercedes",
         1,
         48,
         "+4.314",
         18.0,
         2,
         "2024-09-05T02:06:46.463Z"
        ],
        [
         2014,
         "United States Grand Prix",
         "2014-11-02T20:00:00Z",
         "Austin",
         "Daniel Ricciardo",
         3,
         "Australian",
         "Red Bull",
         5,
         33,
         "+25.560",
         15.0,
         3,
         "2024-09-05T02:06:46.463Z"
        ],
        [
         2014,
         "United States Grand Prix",
         "2014-11-02T20:00:00Z",
         "Austin",
         "Felipe Massa",
         19,
         "Brazilian",
         "Williams",
         4,
         50,
         "+26.924",
         12.0,
         4,
         "2024-09-05T02:06:46.463Z"
        ],
        [
         2014,
         "United States Grand Prix",
         "2014-11-02T20:00:00Z",
         "Austin",
         "Valtteri Bottas",
         77,
         "Finnish",
         "Williams",
         3,
         55,
         "+30.992",
         10.0,
         5,
         "2024-09-05T02:06:46.463Z"
        ],
        [
         2014,
         "United States Grand Prix",
         "2014-11-02T20:00:00Z",
         "Austin",
         "Fernando Alonso",
         14,
         "Spanish",
         "Ferrari",
         6,
         47,
         "+1:35.231",
         8.0,
         6,
         "2024-09-05T02:06:46.463Z"
        ],
        [
         2014,
         "United States Grand Prix",
         "2014-11-02T20:00:00Z",
         "Austin",
         "Sebastian Vettel",
         5,
         "German",
         "Red Bull",
         18,
         50,
         "+1:35.734",
         6.0,
         7,
         "2024-09-05T02:06:46.463Z"
        ],
        [
         2014,
         "United States Grand Prix",
         "2014-11-02T20:00:00Z",
         "Austin",
         "Kevin Magnussen",
         20,
         "Danish",
         "McLaren",
         7,
         29,
         "+1:40.682",
         4.0,
         8,
         "2024-09-05T02:06:46.463Z"
        ],
        [
         2014,
         "United States Grand Prix",
         "2014-11-02T20:00:00Z",
         "Austin",
         "Jean-Éric Vergne",
         25,
         "French",
         "Toro Rosso",
         14,
         17,
         "+1:48.863",
         1.0,
         10,
         "2024-09-05T02:06:46.463Z"
        ],
        [
         2014,
         "United States Grand Prix",
         "2014-11-02T20:00:00Z",
         "Austin",
         "Pastor Maldonado",
         13,
         "Venezuelan",
         "Lotus F1",
         10,
         38,
         "+1:47.870",
         2.0,
         9,
         "2024-09-05T02:06:46.463Z"
        ]
       ],
       "datasetInfos": [],
       "dbfsResultPath": null,
       "isJsonSchema": true,
       "metadata": {},
       "overflow": false,
       "plotOptions": {
        "customPlotOptions": {},
        "displayType": "table",
        "pivotAggregation": null,
        "pivotColumns": null,
        "xColumns": null,
        "yColumns": null
       },
       "removedWidgets": [],
       "schema": [
        {
         "metadata": "{}",
         "name": "race_year",
         "type": "\"integer\""
        },
        {
         "metadata": "{}",
         "name": "race_name",
         "type": "\"string\""
        },
        {
         "metadata": "{}",
         "name": "race_date",
         "type": "\"timestamp\""
        },
        {
         "metadata": "{}",
         "name": "circuit_location",
         "type": "\"string\""
        },
        {
         "metadata": "{}",
         "name": "driver_name",
         "type": "\"string\""
        },
        {
         "metadata": "{}",
         "name": "driver_number",
         "type": "\"integer\""
        },
        {
         "metadata": "{}",
         "name": "driver_nationality",
         "type": "\"string\""
        },
        {
         "metadata": "{}",
         "name": "team",
         "type": "\"string\""
        },
        {
         "metadata": "{}",
         "name": "grid",
         "type": "\"integer\""
        },
        {
         "metadata": "{}",
         "name": "fastest_lap",
         "type": "\"integer\""
        },
        {
         "metadata": "{}",
         "name": "race_time",
         "type": "\"string\""
        },
        {
         "metadata": "{}",
         "name": "points",
         "type": "\"float\""
        },
        {
         "metadata": "{}",
         "name": "position",
         "type": "\"integer\""
        },
        {
         "metadata": "{}",
         "name": "created_date",
         "type": "\"timestamp\""
        }
       ],
       "type": "table"
      }
     },
     "output_type": "display_data"
    }
   ],
   "source": [
    "race_results_df = spark.read.parquet(f'{presentation_folder_path}/race_results')\n",
    "race_results_df.limit(10).display()"
   ]
  },
  {
   "cell_type": "markdown",
   "metadata": {
    "application/vnd.databricks.v1+cell": {
     "cellMetadata": {
      "byteLimit": 2048000,
      "rowLimit": 10000
     },
     "inputWidgets": {},
     "nuid": "36de8b3c-418f-4097-8039-cc9e2992d4d9",
     "showTitle": false,
     "title": ""
    }
   },
   "source": [
    "# 1. Make a view"
   ]
  },
  {
   "cell_type": "code",
   "execution_count": 0,
   "metadata": {
    "application/vnd.databricks.v1+cell": {
     "cellMetadata": {
      "byteLimit": 2048000,
      "rowLimit": 10000
     },
     "inputWidgets": {},
     "nuid": "9ed51424-5670-4bcb-9ce4-ede2b71d1167",
     "showTitle": false,
     "title": ""
    }
   },
   "outputs": [],
   "source": [
    "race_results_df.createOrReplaceGlobalTempView('race_results_view')"
   ]
  },
  {
   "cell_type": "markdown",
   "metadata": {
    "application/vnd.databricks.v1+cell": {
     "cellMetadata": {
      "byteLimit": 2048000,
      "rowLimit": 10000
     },
     "inputWidgets": {},
     "nuid": "f156d891-017a-4d3f-a8ee-f8aff1d99c63",
     "showTitle": false,
     "title": ""
    }
   },
   "source": [
    "## a. Access using SQL"
   ]
  },
  {
   "cell_type": "code",
   "execution_count": 0,
   "metadata": {
    "application/vnd.databricks.v1+cell": {
     "cellMetadata": {
      "byteLimit": 2048000,
      "implicitDf": true,
      "rowLimit": 10000
     },
     "inputWidgets": {},
     "nuid": "2fa73a42-076e-48c0-966d-72a1ed6e9b40",
     "showTitle": false,
     "title": ""
    }
   },
   "outputs": [
    {
     "output_type": "display_data",
     "data": {
      "text/html": [
       "<style scoped>\n",
       "  .table-result-container {\n",
       "    max-height: 300px;\n",
       "    overflow: auto;\n",
       "  }\n",
       "  table, th, td {\n",
       "    border: 1px solid black;\n",
       "    border-collapse: collapse;\n",
       "  }\n",
       "  th, td {\n",
       "    padding: 5px;\n",
       "  }\n",
       "  th {\n",
       "    text-align: left;\n",
       "  }\n",
       "</style><div class='table-result-container'><table class='table-result'><thead style='background-color: white'><tr><th>race_year</th><th>race_name</th><th>race_date</th><th>circuit_location</th><th>driver_name</th><th>driver_number</th><th>driver_nationality</th><th>team</th><th>grid</th><th>fastest_lap</th><th>race_time</th><th>points</th><th>position</th><th>created_date</th></tr></thead><tbody><tr><td>2014</td><td>United States Grand Prix</td><td>2014-11-02T20:00:00Z</td><td>Austin</td><td>Lewis Hamilton</td><td>44</td><td>British</td><td>Mercedes</td><td>2</td><td>49</td><td>1:40:04.785</td><td>25.0</td><td>1</td><td>2024-09-05T02:06:46.463Z</td></tr><tr><td>2014</td><td>United States Grand Prix</td><td>2014-11-02T20:00:00Z</td><td>Austin</td><td>Nico Rosberg</td><td>6</td><td>German</td><td>Mercedes</td><td>1</td><td>48</td><td>+4.314</td><td>18.0</td><td>2</td><td>2024-09-05T02:06:46.463Z</td></tr><tr><td>2014</td><td>United States Grand Prix</td><td>2014-11-02T20:00:00Z</td><td>Austin</td><td>Daniel Ricciardo</td><td>3</td><td>Australian</td><td>Red Bull</td><td>5</td><td>33</td><td>+25.560</td><td>15.0</td><td>3</td><td>2024-09-05T02:06:46.463Z</td></tr><tr><td>2014</td><td>United States Grand Prix</td><td>2014-11-02T20:00:00Z</td><td>Austin</td><td>Felipe Massa</td><td>19</td><td>Brazilian</td><td>Williams</td><td>4</td><td>50</td><td>+26.924</td><td>12.0</td><td>4</td><td>2024-09-05T02:06:46.463Z</td></tr><tr><td>2014</td><td>United States Grand Prix</td><td>2014-11-02T20:00:00Z</td><td>Austin</td><td>Valtteri Bottas</td><td>77</td><td>Finnish</td><td>Williams</td><td>3</td><td>55</td><td>+30.992</td><td>10.0</td><td>5</td><td>2024-09-05T02:06:46.463Z</td></tr><tr><td>2014</td><td>United States Grand Prix</td><td>2014-11-02T20:00:00Z</td><td>Austin</td><td>Fernando Alonso</td><td>14</td><td>Spanish</td><td>Ferrari</td><td>6</td><td>47</td><td>+1:35.231</td><td>8.0</td><td>6</td><td>2024-09-05T02:06:46.463Z</td></tr><tr><td>2014</td><td>United States Grand Prix</td><td>2014-11-02T20:00:00Z</td><td>Austin</td><td>Sebastian Vettel</td><td>5</td><td>German</td><td>Red Bull</td><td>18</td><td>50</td><td>+1:35.734</td><td>6.0</td><td>7</td><td>2024-09-05T02:06:46.463Z</td></tr><tr><td>2014</td><td>United States Grand Prix</td><td>2014-11-02T20:00:00Z</td><td>Austin</td><td>Kevin Magnussen</td><td>20</td><td>Danish</td><td>McLaren</td><td>7</td><td>29</td><td>+1:40.682</td><td>4.0</td><td>8</td><td>2024-09-05T02:06:46.463Z</td></tr><tr><td>2014</td><td>United States Grand Prix</td><td>2014-11-02T20:00:00Z</td><td>Austin</td><td>Jean-Éric Vergne</td><td>25</td><td>French</td><td>Toro Rosso</td><td>14</td><td>17</td><td>+1:48.863</td><td>1.0</td><td>10</td><td>2024-09-05T02:06:46.463Z</td></tr><tr><td>2014</td><td>United States Grand Prix</td><td>2014-11-02T20:00:00Z</td><td>Austin</td><td>Pastor Maldonado</td><td>13</td><td>Venezuelan</td><td>Lotus F1</td><td>10</td><td>38</td><td>+1:47.870</td><td>2.0</td><td>9</td><td>2024-09-05T02:06:46.463Z</td></tr><tr><td>2014</td><td>United States Grand Prix</td><td>2014-11-02T20:00:00Z</td><td>Austin</td><td>Romain Grosjean</td><td>8</td><td>French</td><td>Lotus F1</td><td>16</td><td>51</td><td>\\N</td><td>0.0</td><td>11</td><td>2024-09-05T02:06:46.463Z</td></tr><tr><td>2014</td><td>United States Grand Prix</td><td>2014-11-02T20:00:00Z</td><td>Austin</td><td>Jenson Button</td><td>22</td><td>British</td><td>McLaren</td><td>12</td><td>33</td><td>\\N</td><td>0.0</td><td>12</td><td>2024-09-05T02:06:46.463Z</td></tr><tr><td>2014</td><td>United States Grand Prix</td><td>2014-11-02T20:00:00Z</td><td>Austin</td><td>Kimi Räikkönen</td><td>7</td><td>Finnish</td><td>Ferrari</td><td>8</td><td>54</td><td>\\N</td><td>0.0</td><td>13</td><td>2024-09-05T02:06:46.463Z</td></tr><tr><td>2014</td><td>United States Grand Prix</td><td>2014-11-02T20:00:00Z</td><td>Austin</td><td>Esteban Gutiérrez</td><td>21</td><td>Mexican</td><td>Sauber</td><td>15</td><td>47</td><td>\\N</td><td>0.0</td><td>14</td><td>2024-09-05T02:06:46.463Z</td></tr><tr><td>2014</td><td>United States Grand Prix</td><td>2014-11-02T20:00:00Z</td><td>Austin</td><td>Daniil Kvyat</td><td>26</td><td>Russian</td><td>Toro Rosso</td><td>17</td><td>53</td><td>\\N</td><td>0.0</td><td>15</td><td>2024-09-05T02:06:46.463Z</td></tr><tr><td>2014</td><td>United States Grand Prix</td><td>2014-11-02T20:00:00Z</td><td>Austin</td><td>Nico Hülkenberg</td><td>27</td><td>German</td><td>Force India</td><td>13</td><td>15</td><td>\\N</td><td>0.0</td><td>null</td><td>2024-09-05T02:06:46.463Z</td></tr><tr><td>2014</td><td>United States Grand Prix</td><td>2014-11-02T20:00:00Z</td><td>Austin</td><td>Sergio Pérez</td><td>11</td><td>Mexican</td><td>Force India</td><td>11</td><td>null</td><td>\\N</td><td>0.0</td><td>null</td><td>2024-09-05T02:06:46.463Z</td></tr><tr><td>2014</td><td>United States Grand Prix</td><td>2014-11-02T20:00:00Z</td><td>Austin</td><td>Adrian Sutil</td><td>99</td><td>German</td><td>Sauber</td><td>9</td><td>null</td><td>\\N</td><td>0.0</td><td>null</td><td>2024-09-05T02:06:46.463Z</td></tr><tr><td>2005</td><td>Monaco Grand Prix</td><td>2005-05-22T14:00:00Z</td><td>Monte-Carlo</td><td>Kimi Räikkönen</td><td>7</td><td>Finnish</td><td>McLaren</td><td>1</td><td>41</td><td>1:45:15.556</td><td>10.0</td><td>1</td><td>2024-09-05T02:06:46.463Z</td></tr><tr><td>2005</td><td>Monaco Grand Prix</td><td>2005-05-22T14:00:00Z</td><td>Monte-Carlo</td><td>Nick Heidfeld</td><td>null</td><td>German</td><td>Williams</td><td>6</td><td>15</td><td>+13.877</td><td>8.0</td><td>2</td><td>2024-09-05T02:06:46.463Z</td></tr></tbody></table></div>"
      ]
     },
     "metadata": {
      "application/vnd.databricks.v1+output": {
       "addedWidgets": {},
       "aggData": [],
       "aggError": "",
       "aggOverflow": false,
       "aggSchema": [],
       "aggSeriesLimitReached": false,
       "aggType": "",
       "arguments": {},
       "columnCustomDisplayInfos": {},
       "data": [
        [
         2014,
         "United States Grand Prix",
         "2014-11-02T20:00:00Z",
         "Austin",
         "Lewis Hamilton",
         44,
         "British",
         "Mercedes",
         2,
         49,
         "1:40:04.785",
         25.0,
         1,
         "2024-09-05T02:06:46.463Z"
        ],
        [
         2014,
         "United States Grand Prix",
         "2014-11-02T20:00:00Z",
         "Austin",
         "Nico Rosberg",
         6,
         "German",
         "Mercedes",
         1,
         48,
         "+4.314",
         18.0,
         2,
         "2024-09-05T02:06:46.463Z"
        ],
        [
         2014,
         "United States Grand Prix",
         "2014-11-02T20:00:00Z",
         "Austin",
         "Daniel Ricciardo",
         3,
         "Australian",
         "Red Bull",
         5,
         33,
         "+25.560",
         15.0,
         3,
         "2024-09-05T02:06:46.463Z"
        ],
        [
         2014,
         "United States Grand Prix",
         "2014-11-02T20:00:00Z",
         "Austin",
         "Felipe Massa",
         19,
         "Brazilian",
         "Williams",
         4,
         50,
         "+26.924",
         12.0,
         4,
         "2024-09-05T02:06:46.463Z"
        ],
        [
         2014,
         "United States Grand Prix",
         "2014-11-02T20:00:00Z",
         "Austin",
         "Valtteri Bottas",
         77,
         "Finnish",
         "Williams",
         3,
         55,
         "+30.992",
         10.0,
         5,
         "2024-09-05T02:06:46.463Z"
        ],
        [
         2014,
         "United States Grand Prix",
         "2014-11-02T20:00:00Z",
         "Austin",
         "Fernando Alonso",
         14,
         "Spanish",
         "Ferrari",
         6,
         47,
         "+1:35.231",
         8.0,
         6,
         "2024-09-05T02:06:46.463Z"
        ],
        [
         2014,
         "United States Grand Prix",
         "2014-11-02T20:00:00Z",
         "Austin",
         "Sebastian Vettel",
         5,
         "German",
         "Red Bull",
         18,
         50,
         "+1:35.734",
         6.0,
         7,
         "2024-09-05T02:06:46.463Z"
        ],
        [
         2014,
         "United States Grand Prix",
         "2014-11-02T20:00:00Z",
         "Austin",
         "Kevin Magnussen",
         20,
         "Danish",
         "McLaren",
         7,
         29,
         "+1:40.682",
         4.0,
         8,
         "2024-09-05T02:06:46.463Z"
        ],
        [
         2014,
         "United States Grand Prix",
         "2014-11-02T20:00:00Z",
         "Austin",
         "Jean-Éric Vergne",
         25,
         "French",
         "Toro Rosso",
         14,
         17,
         "+1:48.863",
         1.0,
         10,
         "2024-09-05T02:06:46.463Z"
        ],
        [
         2014,
         "United States Grand Prix",
         "2014-11-02T20:00:00Z",
         "Austin",
         "Pastor Maldonado",
         13,
         "Venezuelan",
         "Lotus F1",
         10,
         38,
         "+1:47.870",
         2.0,
         9,
         "2024-09-05T02:06:46.463Z"
        ],
        [
         2014,
         "United States Grand Prix",
         "2014-11-02T20:00:00Z",
         "Austin",
         "Romain Grosjean",
         8,
         "French",
         "Lotus F1",
         16,
         51,
         "\\N",
         0.0,
         11,
         "2024-09-05T02:06:46.463Z"
        ],
        [
         2014,
         "United States Grand Prix",
         "2014-11-02T20:00:00Z",
         "Austin",
         "Jenson Button",
         22,
         "British",
         "McLaren",
         12,
         33,
         "\\N",
         0.0,
         12,
         "2024-09-05T02:06:46.463Z"
        ],
        [
         2014,
         "United States Grand Prix",
         "2014-11-02T20:00:00Z",
         "Austin",
         "Kimi Räikkönen",
         7,
         "Finnish",
         "Ferrari",
         8,
         54,
         "\\N",
         0.0,
         13,
         "2024-09-05T02:06:46.463Z"
        ],
        [
         2014,
         "United States Grand Prix",
         "2014-11-02T20:00:00Z",
         "Austin",
         "Esteban Gutiérrez",
         21,
         "Mexican",
         "Sauber",
         15,
         47,
         "\\N",
         0.0,
         14,
         "2024-09-05T02:06:46.463Z"
        ],
        [
         2014,
         "United States Grand Prix",
         "2014-11-02T20:00:00Z",
         "Austin",
         "Daniil Kvyat",
         26,
         "Russian",
         "Toro Rosso",
         17,
         53,
         "\\N",
         0.0,
         15,
         "2024-09-05T02:06:46.463Z"
        ],
        [
         2014,
         "United States Grand Prix",
         "2014-11-02T20:00:00Z",
         "Austin",
         "Nico Hülkenberg",
         27,
         "German",
         "Force India",
         13,
         15,
         "\\N",
         0.0,
         null,
         "2024-09-05T02:06:46.463Z"
        ],
        [
         2014,
         "United States Grand Prix",
         "2014-11-02T20:00:00Z",
         "Austin",
         "Sergio Pérez",
         11,
         "Mexican",
         "Force India",
         11,
         null,
         "\\N",
         0.0,
         null,
         "2024-09-05T02:06:46.463Z"
        ],
        [
         2014,
         "United States Grand Prix",
         "2014-11-02T20:00:00Z",
         "Austin",
         "Adrian Sutil",
         99,
         "German",
         "Sauber",
         9,
         null,
         "\\N",
         0.0,
         null,
         "2024-09-05T02:06:46.463Z"
        ],
        [
         2005,
         "Monaco Grand Prix",
         "2005-05-22T14:00:00Z",
         "Monte-Carlo",
         "Kimi Räikkönen",
         7,
         "Finnish",
         "McLaren",
         1,
         41,
         "1:45:15.556",
         10.0,
         1,
         "2024-09-05T02:06:46.463Z"
        ],
        [
         2005,
         "Monaco Grand Prix",
         "2005-05-22T14:00:00Z",
         "Monte-Carlo",
         "Nick Heidfeld",
         null,
         "German",
         "Williams",
         6,
         15,
         "+13.877",
         8.0,
         2,
         "2024-09-05T02:06:46.463Z"
        ]
       ],
       "datasetInfos": [],
       "dbfsResultPath": null,
       "isJsonSchema": true,
       "metadata": {
        "dataframeName": "_sqldf",
        "executionCount": 6
       },
       "overflow": false,
       "plotOptions": {
        "customPlotOptions": {},
        "displayType": "table",
        "pivotAggregation": null,
        "pivotColumns": null,
        "xColumns": null,
        "yColumns": null
       },
       "removedWidgets": [],
       "schema": [
        {
         "metadata": "{}",
         "name": "race_year",
         "type": "\"integer\""
        },
        {
         "metadata": "{}",
         "name": "race_name",
         "type": "\"string\""
        },
        {
         "metadata": "{}",
         "name": "race_date",
         "type": "\"timestamp\""
        },
        {
         "metadata": "{}",
         "name": "circuit_location",
         "type": "\"string\""
        },
        {
         "metadata": "{}",
         "name": "driver_name",
         "type": "\"string\""
        },
        {
         "metadata": "{}",
         "name": "driver_number",
         "type": "\"integer\""
        },
        {
         "metadata": "{}",
         "name": "driver_nationality",
         "type": "\"string\""
        },
        {
         "metadata": "{}",
         "name": "team",
         "type": "\"string\""
        },
        {
         "metadata": "{}",
         "name": "grid",
         "type": "\"integer\""
        },
        {
         "metadata": "{}",
         "name": "fastest_lap",
         "type": "\"integer\""
        },
        {
         "metadata": "{}",
         "name": "race_time",
         "type": "\"string\""
        },
        {
         "metadata": "{}",
         "name": "points",
         "type": "\"float\""
        },
        {
         "metadata": "{}",
         "name": "position",
         "type": "\"integer\""
        },
        {
         "metadata": "{}",
         "name": "created_date",
         "type": "\"timestamp\""
        }
       ],
       "type": "table"
      }
     },
     "output_type": "display_data"
    }
   ],
   "source": [
    "%sql\n",
    "SELECT * FROM global_temp.race_results_view LIMIT 20"
   ]
  },
  {
   "cell_type": "markdown",
   "metadata": {
    "application/vnd.databricks.v1+cell": {
     "cellMetadata": {
      "byteLimit": 2048000,
      "rowLimit": 10000
     },
     "inputWidgets": {},
     "nuid": "5eba3d09-7504-4c41-b7ef-a95f9c5b264d",
     "showTitle": false,
     "title": ""
    }
   },
   "source": [
    "## b. Access using Spark SQL API"
   ]
  },
  {
   "cell_type": "code",
   "execution_count": 0,
   "metadata": {
    "application/vnd.databricks.v1+cell": {
     "cellMetadata": {
      "byteLimit": 2048000,
      "rowLimit": 10000
     },
     "inputWidgets": {},
     "nuid": "79060b3f-bd41-4fa4-abba-5e6502c182af",
     "showTitle": false,
     "title": ""
    }
   },
   "outputs": [
    {
     "output_type": "display_data",
     "data": {
      "text/html": [
       "<style scoped>\n",
       "  .table-result-container {\n",
       "    max-height: 300px;\n",
       "    overflow: auto;\n",
       "  }\n",
       "  table, th, td {\n",
       "    border: 1px solid black;\n",
       "    border-collapse: collapse;\n",
       "  }\n",
       "  th, td {\n",
       "    padding: 5px;\n",
       "  }\n",
       "  th {\n",
       "    text-align: left;\n",
       "  }\n",
       "</style><div class='table-result-container'><table class='table-result'><thead style='background-color: white'><tr><th>race_year</th><th>race_name</th><th>race_date</th><th>circuit_location</th><th>driver_name</th><th>driver_number</th><th>driver_nationality</th><th>team</th><th>grid</th><th>fastest_lap</th><th>race_time</th><th>points</th><th>position</th><th>created_date</th></tr></thead><tbody><tr><td>2014</td><td>United States Grand Prix</td><td>2014-11-02T20:00:00Z</td><td>Austin</td><td>Lewis Hamilton</td><td>44</td><td>British</td><td>Mercedes</td><td>2</td><td>49</td><td>1:40:04.785</td><td>25.0</td><td>1</td><td>2024-09-05T02:06:46.463Z</td></tr><tr><td>2014</td><td>United States Grand Prix</td><td>2014-11-02T20:00:00Z</td><td>Austin</td><td>Nico Rosberg</td><td>6</td><td>German</td><td>Mercedes</td><td>1</td><td>48</td><td>+4.314</td><td>18.0</td><td>2</td><td>2024-09-05T02:06:46.463Z</td></tr><tr><td>2014</td><td>United States Grand Prix</td><td>2014-11-02T20:00:00Z</td><td>Austin</td><td>Daniel Ricciardo</td><td>3</td><td>Australian</td><td>Red Bull</td><td>5</td><td>33</td><td>+25.560</td><td>15.0</td><td>3</td><td>2024-09-05T02:06:46.463Z</td></tr><tr><td>2014</td><td>United States Grand Prix</td><td>2014-11-02T20:00:00Z</td><td>Austin</td><td>Felipe Massa</td><td>19</td><td>Brazilian</td><td>Williams</td><td>4</td><td>50</td><td>+26.924</td><td>12.0</td><td>4</td><td>2024-09-05T02:06:46.463Z</td></tr><tr><td>2014</td><td>United States Grand Prix</td><td>2014-11-02T20:00:00Z</td><td>Austin</td><td>Valtteri Bottas</td><td>77</td><td>Finnish</td><td>Williams</td><td>3</td><td>55</td><td>+30.992</td><td>10.0</td><td>5</td><td>2024-09-05T02:06:46.463Z</td></tr><tr><td>2014</td><td>United States Grand Prix</td><td>2014-11-02T20:00:00Z</td><td>Austin</td><td>Fernando Alonso</td><td>14</td><td>Spanish</td><td>Ferrari</td><td>6</td><td>47</td><td>+1:35.231</td><td>8.0</td><td>6</td><td>2024-09-05T02:06:46.463Z</td></tr><tr><td>2014</td><td>United States Grand Prix</td><td>2014-11-02T20:00:00Z</td><td>Austin</td><td>Sebastian Vettel</td><td>5</td><td>German</td><td>Red Bull</td><td>18</td><td>50</td><td>+1:35.734</td><td>6.0</td><td>7</td><td>2024-09-05T02:06:46.463Z</td></tr><tr><td>2014</td><td>United States Grand Prix</td><td>2014-11-02T20:00:00Z</td><td>Austin</td><td>Kevin Magnussen</td><td>20</td><td>Danish</td><td>McLaren</td><td>7</td><td>29</td><td>+1:40.682</td><td>4.0</td><td>8</td><td>2024-09-05T02:06:46.463Z</td></tr><tr><td>2014</td><td>United States Grand Prix</td><td>2014-11-02T20:00:00Z</td><td>Austin</td><td>Jean-Éric Vergne</td><td>25</td><td>French</td><td>Toro Rosso</td><td>14</td><td>17</td><td>+1:48.863</td><td>1.0</td><td>10</td><td>2024-09-05T02:06:46.463Z</td></tr><tr><td>2014</td><td>United States Grand Prix</td><td>2014-11-02T20:00:00Z</td><td>Austin</td><td>Pastor Maldonado</td><td>13</td><td>Venezuelan</td><td>Lotus F1</td><td>10</td><td>38</td><td>+1:47.870</td><td>2.0</td><td>9</td><td>2024-09-05T02:06:46.463Z</td></tr><tr><td>2014</td><td>United States Grand Prix</td><td>2014-11-02T20:00:00Z</td><td>Austin</td><td>Romain Grosjean</td><td>8</td><td>French</td><td>Lotus F1</td><td>16</td><td>51</td><td>\\N</td><td>0.0</td><td>11</td><td>2024-09-05T02:06:46.463Z</td></tr><tr><td>2014</td><td>United States Grand Prix</td><td>2014-11-02T20:00:00Z</td><td>Austin</td><td>Jenson Button</td><td>22</td><td>British</td><td>McLaren</td><td>12</td><td>33</td><td>\\N</td><td>0.0</td><td>12</td><td>2024-09-05T02:06:46.463Z</td></tr><tr><td>2014</td><td>United States Grand Prix</td><td>2014-11-02T20:00:00Z</td><td>Austin</td><td>Kimi Räikkönen</td><td>7</td><td>Finnish</td><td>Ferrari</td><td>8</td><td>54</td><td>\\N</td><td>0.0</td><td>13</td><td>2024-09-05T02:06:46.463Z</td></tr><tr><td>2014</td><td>United States Grand Prix</td><td>2014-11-02T20:00:00Z</td><td>Austin</td><td>Esteban Gutiérrez</td><td>21</td><td>Mexican</td><td>Sauber</td><td>15</td><td>47</td><td>\\N</td><td>0.0</td><td>14</td><td>2024-09-05T02:06:46.463Z</td></tr><tr><td>2014</td><td>United States Grand Prix</td><td>2014-11-02T20:00:00Z</td><td>Austin</td><td>Daniil Kvyat</td><td>26</td><td>Russian</td><td>Toro Rosso</td><td>17</td><td>53</td><td>\\N</td><td>0.0</td><td>15</td><td>2024-09-05T02:06:46.463Z</td></tr><tr><td>2014</td><td>United States Grand Prix</td><td>2014-11-02T20:00:00Z</td><td>Austin</td><td>Nico Hülkenberg</td><td>27</td><td>German</td><td>Force India</td><td>13</td><td>15</td><td>\\N</td><td>0.0</td><td>null</td><td>2024-09-05T02:06:46.463Z</td></tr><tr><td>2014</td><td>United States Grand Prix</td><td>2014-11-02T20:00:00Z</td><td>Austin</td><td>Sergio Pérez</td><td>11</td><td>Mexican</td><td>Force India</td><td>11</td><td>null</td><td>\\N</td><td>0.0</td><td>null</td><td>2024-09-05T02:06:46.463Z</td></tr><tr><td>2014</td><td>United States Grand Prix</td><td>2014-11-02T20:00:00Z</td><td>Austin</td><td>Adrian Sutil</td><td>99</td><td>German</td><td>Sauber</td><td>9</td><td>null</td><td>\\N</td><td>0.0</td><td>null</td><td>2024-09-05T02:06:46.463Z</td></tr><tr><td>2005</td><td>Monaco Grand Prix</td><td>2005-05-22T14:00:00Z</td><td>Monte-Carlo</td><td>Kimi Räikkönen</td><td>7</td><td>Finnish</td><td>McLaren</td><td>1</td><td>41</td><td>1:45:15.556</td><td>10.0</td><td>1</td><td>2024-09-05T02:06:46.463Z</td></tr><tr><td>2005</td><td>Monaco Grand Prix</td><td>2005-05-22T14:00:00Z</td><td>Monte-Carlo</td><td>Nick Heidfeld</td><td>null</td><td>German</td><td>Williams</td><td>6</td><td>15</td><td>+13.877</td><td>8.0</td><td>2</td><td>2024-09-05T02:06:46.463Z</td></tr></tbody></table></div>"
      ]
     },
     "metadata": {
      "application/vnd.databricks.v1+output": {
       "addedWidgets": {},
       "aggData": [],
       "aggError": "",
       "aggOverflow": false,
       "aggSchema": [],
       "aggSeriesLimitReached": false,
       "aggType": "",
       "arguments": {},
       "columnCustomDisplayInfos": {},
       "data": [
        [
         2014,
         "United States Grand Prix",
         "2014-11-02T20:00:00Z",
         "Austin",
         "Lewis Hamilton",
         44,
         "British",
         "Mercedes",
         2,
         49,
         "1:40:04.785",
         25.0,
         1,
         "2024-09-05T02:06:46.463Z"
        ],
        [
         2014,
         "United States Grand Prix",
         "2014-11-02T20:00:00Z",
         "Austin",
         "Nico Rosberg",
         6,
         "German",
         "Mercedes",
         1,
         48,
         "+4.314",
         18.0,
         2,
         "2024-09-05T02:06:46.463Z"
        ],
        [
         2014,
         "United States Grand Prix",
         "2014-11-02T20:00:00Z",
         "Austin",
         "Daniel Ricciardo",
         3,
         "Australian",
         "Red Bull",
         5,
         33,
         "+25.560",
         15.0,
         3,
         "2024-09-05T02:06:46.463Z"
        ],
        [
         2014,
         "United States Grand Prix",
         "2014-11-02T20:00:00Z",
         "Austin",
         "Felipe Massa",
         19,
         "Brazilian",
         "Williams",
         4,
         50,
         "+26.924",
         12.0,
         4,
         "2024-09-05T02:06:46.463Z"
        ],
        [
         2014,
         "United States Grand Prix",
         "2014-11-02T20:00:00Z",
         "Austin",
         "Valtteri Bottas",
         77,
         "Finnish",
         "Williams",
         3,
         55,
         "+30.992",
         10.0,
         5,
         "2024-09-05T02:06:46.463Z"
        ],
        [
         2014,
         "United States Grand Prix",
         "2014-11-02T20:00:00Z",
         "Austin",
         "Fernando Alonso",
         14,
         "Spanish",
         "Ferrari",
         6,
         47,
         "+1:35.231",
         8.0,
         6,
         "2024-09-05T02:06:46.463Z"
        ],
        [
         2014,
         "United States Grand Prix",
         "2014-11-02T20:00:00Z",
         "Austin",
         "Sebastian Vettel",
         5,
         "German",
         "Red Bull",
         18,
         50,
         "+1:35.734",
         6.0,
         7,
         "2024-09-05T02:06:46.463Z"
        ],
        [
         2014,
         "United States Grand Prix",
         "2014-11-02T20:00:00Z",
         "Austin",
         "Kevin Magnussen",
         20,
         "Danish",
         "McLaren",
         7,
         29,
         "+1:40.682",
         4.0,
         8,
         "2024-09-05T02:06:46.463Z"
        ],
        [
         2014,
         "United States Grand Prix",
         "2014-11-02T20:00:00Z",
         "Austin",
         "Jean-Éric Vergne",
         25,
         "French",
         "Toro Rosso",
         14,
         17,
         "+1:48.863",
         1.0,
         10,
         "2024-09-05T02:06:46.463Z"
        ],
        [
         2014,
         "United States Grand Prix",
         "2014-11-02T20:00:00Z",
         "Austin",
         "Pastor Maldonado",
         13,
         "Venezuelan",
         "Lotus F1",
         10,
         38,
         "+1:47.870",
         2.0,
         9,
         "2024-09-05T02:06:46.463Z"
        ],
        [
         2014,
         "United States Grand Prix",
         "2014-11-02T20:00:00Z",
         "Austin",
         "Romain Grosjean",
         8,
         "French",
         "Lotus F1",
         16,
         51,
         "\\N",
         0.0,
         11,
         "2024-09-05T02:06:46.463Z"
        ],
        [
         2014,
         "United States Grand Prix",
         "2014-11-02T20:00:00Z",
         "Austin",
         "Jenson Button",
         22,
         "British",
         "McLaren",
         12,
         33,
         "\\N",
         0.0,
         12,
         "2024-09-05T02:06:46.463Z"
        ],
        [
         2014,
         "United States Grand Prix",
         "2014-11-02T20:00:00Z",
         "Austin",
         "Kimi Räikkönen",
         7,
         "Finnish",
         "Ferrari",
         8,
         54,
         "\\N",
         0.0,
         13,
         "2024-09-05T02:06:46.463Z"
        ],
        [
         2014,
         "United States Grand Prix",
         "2014-11-02T20:00:00Z",
         "Austin",
         "Esteban Gutiérrez",
         21,
         "Mexican",
         "Sauber",
         15,
         47,
         "\\N",
         0.0,
         14,
         "2024-09-05T02:06:46.463Z"
        ],
        [
         2014,
         "United States Grand Prix",
         "2014-11-02T20:00:00Z",
         "Austin",
         "Daniil Kvyat",
         26,
         "Russian",
         "Toro Rosso",
         17,
         53,
         "\\N",
         0.0,
         15,
         "2024-09-05T02:06:46.463Z"
        ],
        [
         2014,
         "United States Grand Prix",
         "2014-11-02T20:00:00Z",
         "Austin",
         "Nico Hülkenberg",
         27,
         "German",
         "Force India",
         13,
         15,
         "\\N",
         0.0,
         null,
         "2024-09-05T02:06:46.463Z"
        ],
        [
         2014,
         "United States Grand Prix",
         "2014-11-02T20:00:00Z",
         "Austin",
         "Sergio Pérez",
         11,
         "Mexican",
         "Force India",
         11,
         null,
         "\\N",
         0.0,
         null,
         "2024-09-05T02:06:46.463Z"
        ],
        [
         2014,
         "United States Grand Prix",
         "2014-11-02T20:00:00Z",
         "Austin",
         "Adrian Sutil",
         99,
         "German",
         "Sauber",
         9,
         null,
         "\\N",
         0.0,
         null,
         "2024-09-05T02:06:46.463Z"
        ],
        [
         2005,
         "Monaco Grand Prix",
         "2005-05-22T14:00:00Z",
         "Monte-Carlo",
         "Kimi Räikkönen",
         7,
         "Finnish",
         "McLaren",
         1,
         41,
         "1:45:15.556",
         10.0,
         1,
         "2024-09-05T02:06:46.463Z"
        ],
        [
         2005,
         "Monaco Grand Prix",
         "2005-05-22T14:00:00Z",
         "Monte-Carlo",
         "Nick Heidfeld",
         null,
         "German",
         "Williams",
         6,
         15,
         "+13.877",
         8.0,
         2,
         "2024-09-05T02:06:46.463Z"
        ]
       ],
       "datasetInfos": [],
       "dbfsResultPath": null,
       "isJsonSchema": true,
       "metadata": {},
       "overflow": false,
       "plotOptions": {
        "customPlotOptions": {},
        "displayType": "table",
        "pivotAggregation": null,
        "pivotColumns": null,
        "xColumns": null,
        "yColumns": null
       },
       "removedWidgets": [],
       "schema": [
        {
         "metadata": "{}",
         "name": "race_year",
         "type": "\"integer\""
        },
        {
         "metadata": "{}",
         "name": "race_name",
         "type": "\"string\""
        },
        {
         "metadata": "{}",
         "name": "race_date",
         "type": "\"timestamp\""
        },
        {
         "metadata": "{}",
         "name": "circuit_location",
         "type": "\"string\""
        },
        {
         "metadata": "{}",
         "name": "driver_name",
         "type": "\"string\""
        },
        {
         "metadata": "{}",
         "name": "driver_number",
         "type": "\"integer\""
        },
        {
         "metadata": "{}",
         "name": "driver_nationality",
         "type": "\"string\""
        },
        {
         "metadata": "{}",
         "name": "team",
         "type": "\"string\""
        },
        {
         "metadata": "{}",
         "name": "grid",
         "type": "\"integer\""
        },
        {
         "metadata": "{}",
         "name": "fastest_lap",
         "type": "\"integer\""
        },
        {
         "metadata": "{}",
         "name": "race_time",
         "type": "\"string\""
        },
        {
         "metadata": "{}",
         "name": "points",
         "type": "\"float\""
        },
        {
         "metadata": "{}",
         "name": "position",
         "type": "\"integer\""
        },
        {
         "metadata": "{}",
         "name": "created_date",
         "type": "\"timestamp\""
        }
       ],
       "type": "table"
      }
     },
     "output_type": "display_data"
    }
   ],
   "source": [
    "demo_df = spark.sql(\n",
    "    '''\n",
    "    SELECT * FROM global_temp.race_results_view\n",
    "    LIMIT 20\n",
    "    '''\n",
    ")\n",
    "\n",
    "demo_df.display()"
   ]
  },
  {
   "cell_type": "code",
   "execution_count": 0,
   "metadata": {
    "application/vnd.databricks.v1+cell": {
     "cellMetadata": {
      "byteLimit": 2048000,
      "rowLimit": 10000
     },
     "inputWidgets": {},
     "nuid": "05e13cb1-09d1-4c65-8e51-4c325fe0f365",
     "showTitle": false,
     "title": ""
    }
   },
   "outputs": [],
   "source": []
  }
 ],
 "metadata": {
  "application/vnd.databricks.v1+notebook": {
   "dashboards": [],
   "environmentMetadata": {
    "base_environment": "",
    "client": "1"
   },
   "language": "python",
   "notebookMetadata": {
    "mostRecentlyExecutedCommandWithImplicitDF": {
     "commandId": 52716263768572,
     "dataframes": [
      "_sqldf"
     ]
    },
    "pythonIndentUnit": 4
   },
   "notebookName": "5_sql_global_temp_view",
   "widgets": {}
  }
 },
 "nbformat": 4,
 "nbformat_minor": 0
}
