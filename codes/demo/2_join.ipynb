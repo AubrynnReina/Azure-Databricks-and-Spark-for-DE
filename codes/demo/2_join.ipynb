{
 "cells": [
  {
   "cell_type": "markdown",
   "metadata": {
    "application/vnd.databricks.v1+cell": {
     "cellMetadata": {},
     "inputWidgets": {},
     "nuid": "181ecb41-8ac2-490a-93c3-1b4a48c4cf0a",
     "showTitle": false,
     "title": ""
    }
   },
   "source": [
    "# 0. Setting up"
   ]
  },
  {
   "cell_type": "code",
   "execution_count": 0,
   "metadata": {
    "application/vnd.databricks.v1+cell": {
     "cellMetadata": {
      "byteLimit": 2048000,
      "rowLimit": 10000
     },
     "inputWidgets": {},
     "nuid": "839601ab-c55e-4e79-8f7e-d33f8db70f02",
     "showTitle": false,
     "title": ""
    }
   },
   "outputs": [],
   "source": [
    "%run \"../includes/configuration\""
   ]
  },
  {
   "cell_type": "code",
   "execution_count": 0,
   "metadata": {
    "application/vnd.databricks.v1+cell": {
     "cellMetadata": {
      "byteLimit": 2048000,
      "rowLimit": 10000
     },
     "inputWidgets": {},
     "nuid": "926ab635-1332-4ec8-9a26-cc8ad345d0bc",
     "showTitle": false,
     "title": ""
    }
   },
   "outputs": [],
   "source": [
    "races_df = spark.read.parquet(f'{processed_folder_path}/races')"
   ]
  },
  {
   "cell_type": "code",
   "execution_count": 0,
   "metadata": {
    "application/vnd.databricks.v1+cell": {
     "cellMetadata": {
      "byteLimit": 2048000,
      "rowLimit": 10000
     },
     "inputWidgets": {},
     "nuid": "1498c31c-15ea-4a1e-ae56-8b4a59a54fbc",
     "showTitle": false,
     "title": ""
    }
   },
   "outputs": [],
   "source": [
    "circuits_df = spark.read.parquet(f'{processed_folder_path}/circuits')"
   ]
  },
  {
   "cell_type": "markdown",
   "metadata": {
    "application/vnd.databricks.v1+cell": {
     "cellMetadata": {},
     "inputWidgets": {},
     "nuid": "f540447e-742f-4a45-af5b-51d9dd0a5f9a",
     "showTitle": false,
     "title": ""
    }
   },
   "source": [
    "# 1. Inner Join"
   ]
  },
  {
   "cell_type": "code",
   "execution_count": 0,
   "metadata": {
    "application/vnd.databricks.v1+cell": {
     "cellMetadata": {
      "byteLimit": 2048000,
      "rowLimit": 10000
     },
     "inputWidgets": {},
     "nuid": "132fd9a7-ff55-4052-8ef8-df0fb841e957",
     "showTitle": false,
     "title": ""
    }
   },
   "outputs": [
    {
     "output_type": "execute_result",
     "data": {
      "text/plain": [
       "1058"
      ]
     },
     "execution_count": 9,
     "metadata": {},
     "output_type": "execute_result"
    }
   ],
   "source": [
    "race_circuit_df = races_df\\\n",
    "    .join(circuits_df, on='circuit_id', how='inner')\\\n",
    "    .select(\n",
    "        circuits_df.name.alias('circuit_name'),\n",
    "        circuits_df.location.alias('circuit_location'),\n",
    "        circuits_df.country.alias('circuit_country'),\n",
    "        races_df.name.alias('race_name'),\n",
    "        races_df.round.alias('race_round')\n",
    "    )\n",
    "race_circuit_df.count()"
   ]
  },
  {
   "cell_type": "code",
   "execution_count": 0,
   "metadata": {
    "application/vnd.databricks.v1+cell": {
     "cellMetadata": {
      "byteLimit": 2048000,
      "rowLimit": 10000
     },
     "inputWidgets": {},
     "nuid": "558482f0-e472-4005-adef-ee9bc96a1b8b",
     "showTitle": false,
     "title": ""
    }
   },
   "outputs": [
    {
     "output_type": "display_data",
     "data": {
      "text/html": [
       "<style scoped>\n",
       "  .table-result-container {\n",
       "    max-height: 300px;\n",
       "    overflow: auto;\n",
       "  }\n",
       "  table, th, td {\n",
       "    border: 1px solid black;\n",
       "    border-collapse: collapse;\n",
       "  }\n",
       "  th, td {\n",
       "    padding: 5px;\n",
       "  }\n",
       "  th {\n",
       "    text-align: left;\n",
       "  }\n",
       "</style><div class='table-result-container'><table class='table-result'><thead style='background-color: white'><tr><th>circuit_name</th><th>circuit_location</th><th>circuit_country</th><th>race_name</th><th>race_round</th></tr></thead><tbody><tr><td>Albert Park Grand Prix Circuit</td><td>Melbourne</td><td>Australia</td><td>Australian Grand Prix</td><td>1</td></tr><tr><td>Sepang International Circuit</td><td>Kuala Lumpur</td><td>Malaysia</td><td>Malaysian Grand Prix</td><td>2</td></tr><tr><td>Shanghai International Circuit</td><td>Shanghai</td><td>China</td><td>Chinese Grand Prix</td><td>3</td></tr><tr><td>Bahrain International Circuit</td><td>Sakhir</td><td>Bahrain</td><td>Bahrain Grand Prix</td><td>4</td></tr><tr><td>Circuit de Barcelona-Catalunya</td><td>Montmeló</td><td>Spain</td><td>Spanish Grand Prix</td><td>5</td></tr><tr><td>Circuit de Monaco</td><td>Monte-Carlo</td><td>Monaco</td><td>Monaco Grand Prix</td><td>6</td></tr><tr><td>Istanbul Park</td><td>Istanbul</td><td>Turkey</td><td>Turkish Grand Prix</td><td>7</td></tr><tr><td>Silverstone Circuit</td><td>Silverstone</td><td>UK</td><td>British Grand Prix</td><td>8</td></tr><tr><td>Nürburgring</td><td>Nürburg</td><td>Germany</td><td>German Grand Prix</td><td>9</td></tr><tr><td>Hungaroring</td><td>Budapest</td><td>Hungary</td><td>Hungarian Grand Prix</td><td>10</td></tr></tbody></table></div>"
      ]
     },
     "metadata": {
      "application/vnd.databricks.v1+output": {
       "addedWidgets": {},
       "aggData": [],
       "aggError": "",
       "aggOverflow": false,
       "aggSchema": [],
       "aggSeriesLimitReached": false,
       "aggType": "",
       "arguments": {},
       "columnCustomDisplayInfos": {},
       "data": [
        [
         "Albert Park Grand Prix Circuit",
         "Melbourne",
         "Australia",
         "Australian Grand Prix",
         1
        ],
        [
         "Sepang International Circuit",
         "Kuala Lumpur",
         "Malaysia",
         "Malaysian Grand Prix",
         2
        ],
        [
         "Shanghai International Circuit",
         "Shanghai",
         "China",
         "Chinese Grand Prix",
         3
        ],
        [
         "Bahrain International Circuit",
         "Sakhir",
         "Bahrain",
         "Bahrain Grand Prix",
         4
        ],
        [
         "Circuit de Barcelona-Catalunya",
         "Montmeló",
         "Spain",
         "Spanish Grand Prix",
         5
        ],
        [
         "Circuit de Monaco",
         "Monte-Carlo",
         "Monaco",
         "Monaco Grand Prix",
         6
        ],
        [
         "Istanbul Park",
         "Istanbul",
         "Turkey",
         "Turkish Grand Prix",
         7
        ],
        [
         "Silverstone Circuit",
         "Silverstone",
         "UK",
         "British Grand Prix",
         8
        ],
        [
         "Nürburgring",
         "Nürburg",
         "Germany",
         "German Grand Prix",
         9
        ],
        [
         "Hungaroring",
         "Budapest",
         "Hungary",
         "Hungarian Grand Prix",
         10
        ]
       ],
       "datasetInfos": [],
       "dbfsResultPath": null,
       "isJsonSchema": true,
       "metadata": {},
       "overflow": false,
       "plotOptions": {
        "customPlotOptions": {},
        "displayType": "table",
        "pivotAggregation": null,
        "pivotColumns": null,
        "xColumns": null,
        "yColumns": null
       },
       "removedWidgets": [],
       "schema": [
        {
         "metadata": "{}",
         "name": "circuit_name",
         "type": "\"string\""
        },
        {
         "metadata": "{}",
         "name": "circuit_location",
         "type": "\"string\""
        },
        {
         "metadata": "{}",
         "name": "circuit_country",
         "type": "\"string\""
        },
        {
         "metadata": "{}",
         "name": "race_name",
         "type": "\"string\""
        },
        {
         "metadata": "{}",
         "name": "race_round",
         "type": "\"integer\""
        }
       ],
       "type": "table"
      }
     },
     "output_type": "display_data"
    }
   ],
   "source": [
    "race_circuit_df.limit(10).display()"
   ]
  },
  {
   "cell_type": "markdown",
   "metadata": {
    "application/vnd.databricks.v1+cell": {
     "cellMetadata": {},
     "inputWidgets": {},
     "nuid": "9a305cd8-56c0-42a8-8d51-594bd158c582",
     "showTitle": false,
     "title": ""
    }
   },
   "source": [
    "# 2. Outer Join"
   ]
  },
  {
   "cell_type": "markdown",
   "metadata": {
    "application/vnd.databricks.v1+cell": {
     "cellMetadata": {},
     "inputWidgets": {},
     "nuid": "745fea29-7f75-4c9f-ab05-b89150b9352c",
     "showTitle": false,
     "title": ""
    }
   },
   "source": [
    "## a. Left Outer Join"
   ]
  },
  {
   "cell_type": "code",
   "execution_count": 0,
   "metadata": {
    "application/vnd.databricks.v1+cell": {
     "cellMetadata": {
      "byteLimit": 2048000,
      "rowLimit": 10000
     },
     "inputWidgets": {},
     "nuid": "11cfed13-2a80-4cec-8356-deb2a698a906",
     "showTitle": false,
     "title": ""
    }
   },
   "outputs": [
    {
     "output_type": "execute_result",
     "data": {
      "text/plain": [
       "1060"
      ]
     },
     "execution_count": 12,
     "metadata": {},
     "output_type": "execute_result"
    }
   ],
   "source": [
    "race_circuit_df = circuits_df\\\n",
    "    .join(races_df, on='circuit_id', how='left')\\\n",
    "    .select(\n",
    "        circuits_df.name.alias('circuit_name'),\n",
    "        circuits_df.location.alias('circuit_location'),\n",
    "        circuits_df.country.alias('circuit_country'),\n",
    "        races_df.name.alias('race_name'),\n",
    "        races_df.round.alias('race_round')\n",
    "    )\n",
    "race_circuit_df.count()"
   ]
  },
  {
   "cell_type": "code",
   "execution_count": 0,
   "metadata": {
    "application/vnd.databricks.v1+cell": {
     "cellMetadata": {
      "byteLimit": 2048000,
      "rowLimit": 10000
     },
     "inputWidgets": {},
     "nuid": "5996e1d6-d2b0-40db-9200-b8df0d9554fa",
     "showTitle": false,
     "title": ""
    }
   },
   "outputs": [
    {
     "output_type": "display_data",
     "data": {
      "text/html": [
       "<style scoped>\n",
       "  .table-result-container {\n",
       "    max-height: 300px;\n",
       "    overflow: auto;\n",
       "  }\n",
       "  table, th, td {\n",
       "    border: 1px solid black;\n",
       "    border-collapse: collapse;\n",
       "  }\n",
       "  th, td {\n",
       "    padding: 5px;\n",
       "  }\n",
       "  th {\n",
       "    text-align: left;\n",
       "  }\n",
       "</style><div class='table-result-container'><table class='table-result'><thead style='background-color: white'><tr><th>circuit_name</th><th>circuit_location</th><th>circuit_country</th><th>race_name</th><th>race_round</th></tr></thead><tbody><tr><td>Albert Park Grand Prix Circuit</td><td>Melbourne</td><td>Australia</td><td>Australian Grand Prix</td><td>21</td></tr><tr><td>Albert Park Grand Prix Circuit</td><td>Melbourne</td><td>Australia</td><td>Australian Grand Prix</td><td>1</td></tr><tr><td>Albert Park Grand Prix Circuit</td><td>Melbourne</td><td>Australia</td><td>Australian Grand Prix</td><td>1</td></tr><tr><td>Albert Park Grand Prix Circuit</td><td>Melbourne</td><td>Australia</td><td>Australian Grand Prix</td><td>1</td></tr><tr><td>Albert Park Grand Prix Circuit</td><td>Melbourne</td><td>Australia</td><td>Australian Grand Prix</td><td>1</td></tr><tr><td>Albert Park Grand Prix Circuit</td><td>Melbourne</td><td>Australia</td><td>Australian Grand Prix</td><td>1</td></tr><tr><td>Albert Park Grand Prix Circuit</td><td>Melbourne</td><td>Australia</td><td>Australian Grand Prix</td><td>1</td></tr><tr><td>Albert Park Grand Prix Circuit</td><td>Melbourne</td><td>Australia</td><td>Australian Grand Prix</td><td>1</td></tr><tr><td>Albert Park Grand Prix Circuit</td><td>Melbourne</td><td>Australia</td><td>Australian Grand Prix</td><td>1</td></tr><tr><td>Albert Park Grand Prix Circuit</td><td>Melbourne</td><td>Australia</td><td>Australian Grand Prix</td><td>1</td></tr><tr><td>Albert Park Grand Prix Circuit</td><td>Melbourne</td><td>Australia</td><td>Australian Grand Prix</td><td>2</td></tr><tr><td>Albert Park Grand Prix Circuit</td><td>Melbourne</td><td>Australia</td><td>Australian Grand Prix</td><td>1</td></tr><tr><td>Albert Park Grand Prix Circuit</td><td>Melbourne</td><td>Australia</td><td>Australian Grand Prix</td><td>1</td></tr><tr><td>Albert Park Grand Prix Circuit</td><td>Melbourne</td><td>Australia</td><td>Australian Grand Prix</td><td>1</td></tr><tr><td>Albert Park Grand Prix Circuit</td><td>Melbourne</td><td>Australia</td><td>Australian Grand Prix</td><td>1</td></tr><tr><td>Albert Park Grand Prix Circuit</td><td>Melbourne</td><td>Australia</td><td>Australian Grand Prix</td><td>1</td></tr><tr><td>Albert Park Grand Prix Circuit</td><td>Melbourne</td><td>Australia</td><td>Australian Grand Prix</td><td>1</td></tr><tr><td>Albert Park Grand Prix Circuit</td><td>Melbourne</td><td>Australia</td><td>Australian Grand Prix</td><td>1</td></tr><tr><td>Albert Park Grand Prix Circuit</td><td>Melbourne</td><td>Australia</td><td>Australian Grand Prix</td><td>1</td></tr><tr><td>Albert Park Grand Prix Circuit</td><td>Melbourne</td><td>Australia</td><td>Australian Grand Prix</td><td>1</td></tr><tr><td>Albert Park Grand Prix Circuit</td><td>Melbourne</td><td>Australia</td><td>Australian Grand Prix</td><td>1</td></tr><tr><td>Albert Park Grand Prix Circuit</td><td>Melbourne</td><td>Australia</td><td>Australian Grand Prix</td><td>3</td></tr><tr><td>Albert Park Grand Prix Circuit</td><td>Melbourne</td><td>Australia</td><td>Australian Grand Prix</td><td>1</td></tr><tr><td>Albert Park Grand Prix Circuit</td><td>Melbourne</td><td>Australia</td><td>Australian Grand Prix</td><td>1</td></tr><tr><td>Albert Park Grand Prix Circuit</td><td>Melbourne</td><td>Australia</td><td>Australian Grand Prix</td><td>1</td></tr><tr><td>Sepang International Circuit</td><td>Kuala Lumpur</td><td>Malaysia</td><td>Malaysian Grand Prix</td><td>15</td></tr><tr><td>Sepang International Circuit</td><td>Kuala Lumpur</td><td>Malaysia</td><td>Malaysian Grand Prix</td><td>16</td></tr><tr><td>Sepang International Circuit</td><td>Kuala Lumpur</td><td>Malaysia</td><td>Malaysian Grand Prix</td><td>2</td></tr><tr><td>Sepang International Circuit</td><td>Kuala Lumpur</td><td>Malaysia</td><td>Malaysian Grand Prix</td><td>2</td></tr><tr><td>Sepang International Circuit</td><td>Kuala Lumpur</td><td>Malaysia</td><td>Malaysian Grand Prix</td><td>2</td></tr><tr><td>Sepang International Circuit</td><td>Kuala Lumpur</td><td>Malaysia</td><td>Malaysian Grand Prix</td><td>2</td></tr><tr><td>Sepang International Circuit</td><td>Kuala Lumpur</td><td>Malaysia</td><td>Malaysian Grand Prix</td><td>2</td></tr><tr><td>Sepang International Circuit</td><td>Kuala Lumpur</td><td>Malaysia</td><td>Malaysian Grand Prix</td><td>3</td></tr><tr><td>Sepang International Circuit</td><td>Kuala Lumpur</td><td>Malaysia</td><td>Malaysian Grand Prix</td><td>15</td></tr><tr><td>Sepang International Circuit</td><td>Kuala Lumpur</td><td>Malaysia</td><td>Malaysian Grand Prix</td><td>17</td></tr><tr><td>Sepang International Circuit</td><td>Kuala Lumpur</td><td>Malaysia</td><td>Malaysian Grand Prix</td><td>2</td></tr><tr><td>Sepang International Circuit</td><td>Kuala Lumpur</td><td>Malaysia</td><td>Malaysian Grand Prix</td><td>2</td></tr><tr><td>Sepang International Circuit</td><td>Kuala Lumpur</td><td>Malaysia</td><td>Malaysian Grand Prix</td><td>2</td></tr><tr><td>Sepang International Circuit</td><td>Kuala Lumpur</td><td>Malaysia</td><td>Malaysian Grand Prix</td><td>2</td></tr><tr><td>Sepang International Circuit</td><td>Kuala Lumpur</td><td>Malaysia</td><td>Malaysian Grand Prix</td><td>2</td></tr><tr><td>Sepang International Circuit</td><td>Kuala Lumpur</td><td>Malaysia</td><td>Malaysian Grand Prix</td><td>2</td></tr><tr><td>Sepang International Circuit</td><td>Kuala Lumpur</td><td>Malaysia</td><td>Malaysian Grand Prix</td><td>2</td></tr><tr><td>Sepang International Circuit</td><td>Kuala Lumpur</td><td>Malaysia</td><td>Malaysian Grand Prix</td><td>2</td></tr><tr><td>Sepang International Circuit</td><td>Kuala Lumpur</td><td>Malaysia</td><td>Malaysian Grand Prix</td><td>2</td></tr><tr><td>Bahrain International Circuit</td><td>Sakhir</td><td>Bahrain</td><td>Bahrain Grand Prix</td><td>1</td></tr><tr><td>Bahrain International Circuit</td><td>Sakhir</td><td>Bahrain</td><td>Sakhir Grand Prix</td><td>16</td></tr><tr><td>Bahrain International Circuit</td><td>Sakhir</td><td>Bahrain</td><td>Bahrain Grand Prix</td><td>15</td></tr><tr><td>Bahrain International Circuit</td><td>Sakhir</td><td>Bahrain</td><td>Bahrain Grand Prix</td><td>2</td></tr><tr><td>Bahrain International Circuit</td><td>Sakhir</td><td>Bahrain</td><td>Bahrain Grand Prix</td><td>2</td></tr><tr><td>Bahrain International Circuit</td><td>Sakhir</td><td>Bahrain</td><td>Bahrain Grand Prix</td><td>3</td></tr><tr><td>Bahrain International Circuit</td><td>Sakhir</td><td>Bahrain</td><td>Bahrain Grand Prix</td><td>2</td></tr><tr><td>Bahrain International Circuit</td><td>Sakhir</td><td>Bahrain</td><td>Bahrain Grand Prix</td><td>4</td></tr><tr><td>Bahrain International Circuit</td><td>Sakhir</td><td>Bahrain</td><td>Bahrain Grand Prix</td><td>3</td></tr><tr><td>Bahrain International Circuit</td><td>Sakhir</td><td>Bahrain</td><td>Bahrain Grand Prix</td><td>4</td></tr><tr><td>Bahrain International Circuit</td><td>Sakhir</td><td>Bahrain</td><td>Bahrain Grand Prix</td><td>4</td></tr><tr><td>Bahrain International Circuit</td><td>Sakhir</td><td>Bahrain</td><td>Bahrain Grand Prix</td><td>1</td></tr><tr><td>Bahrain International Circuit</td><td>Sakhir</td><td>Bahrain</td><td>Bahrain Grand Prix</td><td>3</td></tr><tr><td>Bahrain International Circuit</td><td>Sakhir</td><td>Bahrain</td><td>Bahrain Grand Prix</td><td>3</td></tr><tr><td>Bahrain International Circuit</td><td>Sakhir</td><td>Bahrain</td><td>Bahrain Grand Prix</td><td>1</td></tr><tr><td>Bahrain International Circuit</td><td>Sakhir</td><td>Bahrain</td><td>Bahrain Grand Prix</td><td>3</td></tr><tr><td>Bahrain International Circuit</td><td>Sakhir</td><td>Bahrain</td><td>Bahrain Grand Prix</td><td>3</td></tr><tr><td>Bahrain International Circuit</td><td>Sakhir</td><td>Bahrain</td><td>Bahrain Grand Prix</td><td>4</td></tr><tr><td>Circuit de Barcelona-Catalunya</td><td>Montmeló</td><td>Spain</td><td>Spanish Grand Prix</td><td>4</td></tr><tr><td>Circuit de Barcelona-Catalunya</td><td>Montmeló</td><td>Spain</td><td>Spanish Grand Prix</td><td>6</td></tr><tr><td>Circuit de Barcelona-Catalunya</td><td>Montmeló</td><td>Spain</td><td>Spanish Grand Prix</td><td>5</td></tr><tr><td>Circuit de Barcelona-Catalunya</td><td>Montmeló</td><td>Spain</td><td>Spanish Grand Prix</td><td>5</td></tr><tr><td>Circuit de Barcelona-Catalunya</td><td>Montmeló</td><td>Spain</td><td>Spanish Grand Prix</td><td>5</td></tr><tr><td>Circuit de Barcelona-Catalunya</td><td>Montmeló</td><td>Spain</td><td>Spanish Grand Prix</td><td>5</td></tr><tr><td>Circuit de Barcelona-Catalunya</td><td>Montmeló</td><td>Spain</td><td>Spanish Grand Prix</td><td>5</td></tr><tr><td>Circuit de Barcelona-Catalunya</td><td>Montmeló</td><td>Spain</td><td>Spanish Grand Prix</td><td>5</td></tr><tr><td>Circuit de Barcelona-Catalunya</td><td>Montmeló</td><td>Spain</td><td>Spanish Grand Prix</td><td>5</td></tr><tr><td>Circuit de Barcelona-Catalunya</td><td>Montmeló</td><td>Spain</td><td>Spanish Grand Prix</td><td>5</td></tr><tr><td>Circuit de Barcelona-Catalunya</td><td>Montmeló</td><td>Spain</td><td>Spanish Grand Prix</td><td>5</td></tr><tr><td>Circuit de Barcelona-Catalunya</td><td>Montmeló</td><td>Spain</td><td>Spanish Grand Prix</td><td>5</td></tr><tr><td>Circuit de Barcelona-Catalunya</td><td>Montmeló</td><td>Spain</td><td>Spanish Grand Prix</td><td>14</td></tr><tr><td>Circuit de Barcelona-Catalunya</td><td>Montmeló</td><td>Spain</td><td>Spanish Grand Prix</td><td>4</td></tr><tr><td>Circuit de Barcelona-Catalunya</td><td>Montmeló</td><td>Spain</td><td>Spanish Grand Prix</td><td>5</td></tr><tr><td>Circuit de Barcelona-Catalunya</td><td>Montmeló</td><td>Spain</td><td>Spanish Grand Prix</td><td>5</td></tr><tr><td>Circuit de Barcelona-Catalunya</td><td>Montmeló</td><td>Spain</td><td>Spanish Grand Prix</td><td>4</td></tr><tr><td>Circuit de Barcelona-Catalunya</td><td>Montmeló</td><td>Spain</td><td>Spanish Grand Prix</td><td>7</td></tr><tr><td>Circuit de Barcelona-Catalunya</td><td>Montmeló</td><td>Spain</td><td>Spanish Grand Prix</td><td>6</td></tr><tr><td>Circuit de Barcelona-Catalunya</td><td>Montmeló</td><td>Spain</td><td>Spanish Grand Prix</td><td>5</td></tr><tr><td>Circuit de Barcelona-Catalunya</td><td>Montmeló</td><td>Spain</td><td>Spanish Grand Prix</td><td>5</td></tr><tr><td>Circuit de Barcelona-Catalunya</td><td>Montmeló</td><td>Spain</td><td>Spanish Grand Prix</td><td>5</td></tr><tr><td>Circuit de Barcelona-Catalunya</td><td>Montmeló</td><td>Spain</td><td>Spanish Grand Prix</td><td>5</td></tr><tr><td>Circuit de Barcelona-Catalunya</td><td>Montmeló</td><td>Spain</td><td>Spanish Grand Prix</td><td>5</td></tr><tr><td>Circuit de Barcelona-Catalunya</td><td>Montmeló</td><td>Spain</td><td>Spanish Grand Prix</td><td>5</td></tr><tr><td>Circuit de Barcelona-Catalunya</td><td>Montmeló</td><td>Spain</td><td>Spanish Grand Prix</td><td>5</td></tr><tr><td>Circuit de Barcelona-Catalunya</td><td>Montmeló</td><td>Spain</td><td>Spanish Grand Prix</td><td>5</td></tr><tr><td>Circuit de Barcelona-Catalunya</td><td>Montmeló</td><td>Spain</td><td>Spanish Grand Prix</td><td>6</td></tr><tr><td>Circuit de Barcelona-Catalunya</td><td>Montmeló</td><td>Spain</td><td>Spanish Grand Prix</td><td>4</td></tr><tr><td>Circuit de Barcelona-Catalunya</td><td>Montmeló</td><td>Spain</td><td>Spanish Grand Prix</td><td>4</td></tr><tr><td>Circuit de Barcelona-Catalunya</td><td>Montmeló</td><td>Spain</td><td>Spanish Grand Prix</td><td>5</td></tr><tr><td>Istanbul Park</td><td>Istanbul</td><td>Turkey</td><td>Turkish Grand Prix</td><td>14</td></tr><tr><td>Istanbul Park</td><td>Istanbul</td><td>Turkey</td><td>Turkish Grand Prix</td><td>4</td></tr><tr><td>Istanbul Park</td><td>Istanbul</td><td>Turkey</td><td>Turkish Grand Prix</td><td>7</td></tr><tr><td>Istanbul Park</td><td>Istanbul</td><td>Turkey</td><td>Turkish Grand Prix</td><td>14</td></tr><tr><td>Istanbul Park</td><td>Istanbul</td><td>Turkey</td><td>Turkish Grand Prix</td><td>14</td></tr><tr><td>Istanbul Park</td><td>Istanbul</td><td>Turkey</td><td>Turkish Grand Prix</td><td>12</td></tr><tr><td>Istanbul Park</td><td>Istanbul</td><td>Turkey</td><td>Turkish Grand Prix</td><td>5</td></tr><tr><td>Istanbul Park</td><td>Istanbul</td><td>Turkey</td><td>Turkish Grand Prix</td><td>7</td></tr><tr><td>Circuit de Monaco</td><td>Monte-Carlo</td><td>Monaco</td><td>Monaco Grand Prix</td><td>5</td></tr><tr><td>Circuit de Monaco</td><td>Monte-Carlo</td><td>Monaco</td><td>Monaco Grand Prix</td><td>6</td></tr><tr><td>Circuit de Monaco</td><td>Monte-Carlo</td><td>Monaco</td><td>Monaco Grand Prix</td><td>6</td></tr><tr><td>Circuit de Monaco</td><td>Monte-Carlo</td><td>Monaco</td><td>Monaco Grand Prix</td><td>6</td></tr><tr><td>Circuit de Monaco</td><td>Monte-Carlo</td><td>Monaco</td><td>Monaco Grand Prix</td><td>6</td></tr><tr><td>Circuit de Monaco</td><td>Monte-Carlo</td><td>Monaco</td><td>Monaco Grand Prix</td><td>6</td></tr><tr><td>Circuit de Monaco</td><td>Monte-Carlo</td><td>Monaco</td><td>Monaco Grand Prix</td><td>6</td></tr><tr><td>Circuit de Monaco</td><td>Monte-Carlo</td><td>Monaco</td><td>Monaco Grand Prix</td><td>6</td></tr><tr><td>Circuit de Monaco</td><td>Monte-Carlo</td><td>Monaco</td><td>Monaco Grand Prix</td><td>6</td></tr><tr><td>Circuit de Monaco</td><td>Monte-Carlo</td><td>Monaco</td><td>Monaco Grand Prix</td><td>6</td></tr><tr><td>Circuit de Monaco</td><td>Monte-Carlo</td><td>Monaco</td><td>Monaco Grand Prix</td><td>2</td></tr><tr><td>Circuit de Monaco</td><td>Monte-Carlo</td><td>Monaco</td><td>Monaco Grand Prix</td><td>2</td></tr><tr><td>Circuit de Monaco</td><td>Monte-Carlo</td><td>Monaco</td><td>Monaco Grand Prix</td><td>2</td></tr><tr><td>Circuit de Monaco</td><td>Monte-Carlo</td><td>Monaco</td><td>Monaco Grand Prix</td><td>2</td></tr><tr><td>Circuit de Monaco</td><td>Monte-Carlo</td><td>Monaco</td><td>Monaco Grand Prix</td><td>2</td></tr><tr><td>Circuit de Monaco</td><td>Monte-Carlo</td><td>Monaco</td><td>Monaco Grand Prix</td><td>1</td></tr><tr><td>Circuit de Monaco</td><td>Monte-Carlo</td><td>Monaco</td><td>Monaco Grand Prix</td><td>2</td></tr><tr><td>Circuit de Monaco</td><td>Monte-Carlo</td><td>Monaco</td><td>Monaco Grand Prix</td><td>1</td></tr><tr><td>Circuit de Monaco</td><td>Monte-Carlo</td><td>Monaco</td><td>Monaco Grand Prix</td><td>2</td></tr><tr><td>Circuit de Monaco</td><td>Monte-Carlo</td><td>Monaco</td><td>Monaco Grand Prix</td><td>1</td></tr><tr><td>Circuit de Monaco</td><td>Monte-Carlo</td><td>Monaco</td><td>Monaco Grand Prix</td><td>1</td></tr><tr><td>Circuit de Monaco</td><td>Monte-Carlo</td><td>Monaco</td><td>Monaco Grand Prix</td><td>2</td></tr><tr><td>Circuit de Monaco</td><td>Monte-Carlo</td><td>Monaco</td><td>Monaco Grand Prix</td><td>1</td></tr><tr><td>Circuit de Monaco</td><td>Monte-Carlo</td><td>Monaco</td><td>Monaco Grand Prix</td><td>2</td></tr><tr><td>Circuit de Monaco</td><td>Monte-Carlo</td><td>Monaco</td><td>Monaco Grand Prix</td><td>3</td></tr><tr><td>Circuit de Monaco</td><td>Monte-Carlo</td><td>Monaco</td><td>Monaco Grand Prix</td><td>3</td></tr><tr><td>Circuit de Monaco</td><td>Monte-Carlo</td><td>Monaco</td><td>Monaco Grand Prix</td><td>3</td></tr><tr><td>Circuit de Monaco</td><td>Monte-Carlo</td><td>Monaco</td><td>Monaco Grand Prix</td><td>3</td></tr><tr><td>Circuit de Monaco</td><td>Monte-Carlo</td><td>Monaco</td><td>Monaco Grand Prix</td><td>4</td></tr><tr><td>Circuit de Monaco</td><td>Monte-Carlo</td><td>Monaco</td><td>Monaco Grand Prix</td><td>6</td></tr><tr><td>Circuit de Monaco</td><td>Monte-Carlo</td><td>Monaco</td><td>Monaco Grand Prix</td><td>6</td></tr><tr><td>Circuit de Monaco</td><td>Monte-Carlo</td><td>Monaco</td><td>Monaco Grand Prix</td><td>5</td></tr><tr><td>Circuit de Monaco</td><td>Monte-Carlo</td><td>Monaco</td><td>Monaco Grand Prix</td><td>6</td></tr><tr><td>Circuit de Monaco</td><td>Monte-Carlo</td><td>Monaco</td><td>Monaco Grand Prix</td><td>6</td></tr><tr><td>Circuit de Monaco</td><td>Monte-Carlo</td><td>Monaco</td><td>Monaco Grand Prix</td><td>5</td></tr><tr><td>Circuit de Monaco</td><td>Monte-Carlo</td><td>Monaco</td><td>Monaco Grand Prix</td><td>7</td></tr><tr><td>Circuit de Monaco</td><td>Monte-Carlo</td><td>Monaco</td><td>Monaco Grand Prix</td><td>6</td></tr><tr><td>Circuit de Monaco</td><td>Monte-Carlo</td><td>Monaco</td><td>Monaco Grand Prix</td><td>6</td></tr><tr><td>Circuit de Monaco</td><td>Monte-Carlo</td><td>Monaco</td><td>Monaco Grand Prix</td><td>6</td></tr><tr><td>Circuit de Monaco</td><td>Monte-Carlo</td><td>Monaco</td><td>Monaco Grand Prix</td><td>5</td></tr><tr><td>Circuit de Monaco</td><td>Monte-Carlo</td><td>Monaco</td><td>Monaco Grand Prix</td><td>6</td></tr><tr><td>Circuit de Monaco</td><td>Monte-Carlo</td><td>Monaco</td><td>Monaco Grand Prix</td><td>4</td></tr><tr><td>Circuit de Monaco</td><td>Monte-Carlo</td><td>Monaco</td><td>Monaco Grand Prix</td><td>4</td></tr><tr><td>Circuit de Monaco</td><td>Monte-Carlo</td><td>Monaco</td><td>Monaco Grand Prix</td><td>4</td></tr><tr><td>Circuit de Monaco</td><td>Monte-Carlo</td><td>Monaco</td><td>Monaco Grand Prix</td><td>3</td></tr><tr><td>Circuit de Monaco</td><td>Monte-Carlo</td><td>Monaco</td><td>Monaco Grand Prix</td><td>3</td></tr><tr><td>Circuit de Monaco</td><td>Monte-Carlo</td><td>Monaco</td><td>Monaco Grand Prix</td><td>6</td></tr><tr><td>Circuit de Monaco</td><td>Monte-Carlo</td><td>Monaco</td><td>Monaco Grand Prix</td><td>4</td></tr><tr><td>Circuit de Monaco</td><td>Monte-Carlo</td><td>Monaco</td><td>Monaco Grand Prix</td><td>4</td></tr><tr><td>Circuit de Monaco</td><td>Monte-Carlo</td><td>Monaco</td><td>Monaco Grand Prix</td><td>6</td></tr><tr><td>Circuit de Monaco</td><td>Monte-Carlo</td><td>Monaco</td><td>Monaco Grand Prix</td><td>6</td></tr><tr><td>Circuit de Monaco</td><td>Monte-Carlo</td><td>Monaco</td><td>Monaco Grand Prix</td><td>4</td></tr><tr><td>Circuit de Monaco</td><td>Monte-Carlo</td><td>Monaco</td><td>Monaco Grand Prix</td><td>5</td></tr><tr><td>Circuit de Monaco</td><td>Monte-Carlo</td><td>Monaco</td><td>Monaco Grand Prix</td><td>6</td></tr><tr><td>Circuit de Monaco</td><td>Monte-Carlo</td><td>Monaco</td><td>Monaco Grand Prix</td><td>5</td></tr><tr><td>Circuit de Monaco</td><td>Monte-Carlo</td><td>Monaco</td><td>Monaco Grand Prix</td><td>6</td></tr><tr><td>Circuit de Monaco</td><td>Monte-Carlo</td><td>Monaco</td><td>Monaco Grand Prix</td><td>4</td></tr><tr><td>Circuit de Monaco</td><td>Monte-Carlo</td><td>Monaco</td><td>Monaco Grand Prix</td><td>7</td></tr><tr><td>Circuit de Monaco</td><td>Monte-Carlo</td><td>Monaco</td><td>Monaco Grand Prix</td><td>7</td></tr><tr><td>Circuit de Monaco</td><td>Monte-Carlo</td><td>Monaco</td><td>Monaco Grand Prix</td><td>7</td></tr><tr><td>Circuit de Monaco</td><td>Monte-Carlo</td><td>Monaco</td><td>Monaco Grand Prix</td><td>7</td></tr><tr><td>Circuit de Monaco</td><td>Monte-Carlo</td><td>Monaco</td><td>Monaco Grand Prix</td><td>6</td></tr><tr><td>Circuit de Monaco</td><td>Monte-Carlo</td><td>Monaco</td><td>Monaco Grand Prix</td><td>6</td></tr><tr><td>Circuit de Monaco</td><td>Monte-Carlo</td><td>Monaco</td><td>Monaco Grand Prix</td><td>7</td></tr><tr><td>Circuit de Monaco</td><td>Monte-Carlo</td><td>Monaco</td><td>Monaco Grand Prix</td><td>5</td></tr><tr><td>Circuit de Monaco</td><td>Monte-Carlo</td><td>Monaco</td><td>Monaco Grand Prix</td><td>6</td></tr><tr><td>Circuit de Monaco</td><td>Monte-Carlo</td><td>Monaco</td><td>Monaco Grand Prix</td><td>6</td></tr><tr><td>Circuit Gilles Villeneuve</td><td>Montreal</td><td>Canada</td><td>Canadian Grand Prix</td><td>7</td></tr><tr><td>Circuit Gilles Villeneuve</td><td>Montreal</td><td>Canada</td><td>Canadian Grand Prix</td><td>7</td></tr><tr><td>Circuit Gilles Villeneuve</td><td>Montreal</td><td>Canada</td><td>Canadian Grand Prix</td><td>7</td></tr><tr><td>Circuit Gilles Villeneuve</td><td>Montreal</td><td>Canada</td><td>Canadian Grand Prix</td><td>7</td></tr><tr><td>Circuit Gilles Villeneuve</td><td>Montreal</td><td>Canada</td><td>Canadian Grand Prix</td><td>7</td></tr><tr><td>Circuit Gilles Villeneuve</td><td>Montreal</td><td>Canada</td><td>Canadian Grand Prix</td><td>7</td></tr><tr><td>Circuit Gilles Villeneuve</td><td>Montreal</td><td>Canada</td><td>Canadian Grand Prix</td><td>7</td></tr><tr><td>Circuit Gilles Villeneuve</td><td>Montreal</td><td>Canada</td><td>Canadian Grand Prix</td><td>7</td></tr><tr><td>Circuit Gilles Villeneuve</td><td>Montreal</td><td>Canada</td><td>Canadian Grand Prix</td><td>7</td></tr><tr><td>Circuit Gilles Villeneuve</td><td>Montreal</td><td>Canada</td><td>Canadian Grand Prix</td><td>7</td></tr><tr><td>Circuit Gilles Villeneuve</td><td>Montreal</td><td>Canada</td><td>Canadian Grand Prix</td><td>16</td></tr><tr><td>Circuit Gilles Villeneuve</td><td>Montreal</td><td>Canada</td><td>Canadian Grand Prix</td><td>14</td></tr><tr><td>Circuit Gilles Villeneuve</td><td>Montreal</td><td>Canada</td><td>Canadian Grand Prix</td><td>13</td></tr><tr><td>Circuit Gilles Villeneuve</td><td>Montreal</td><td>Canada</td><td>Canadian Grand Prix</td><td>14</td></tr><tr><td>Circuit Gilles Villeneuve</td><td>Montreal</td><td>Canada</td><td>Canadian Grand Prix</td><td>8</td></tr><tr><td>Circuit Gilles Villeneuve</td><td>Montreal</td><td>Canada</td><td>Canadian Grand Prix</td><td>8</td></tr><tr><td>Circuit Gilles Villeneuve</td><td>Montreal</td><td>Canada</td><td>Canadian Grand Prix</td><td>7</td></tr><tr><td>Circuit Gilles Villeneuve</td><td>Montreal</td><td>Canada</td><td>Canadian Grand Prix</td><td>5</td></tr><tr><td>Circuit Gilles Villeneuve</td><td>Montreal</td><td>Canada</td><td>Canadian Grand Prix</td><td>6</td></tr><tr><td>Circuit Gilles Villeneuve</td><td>Montreal</td><td>Canada</td><td>Canadian Grand Prix</td><td>5</td></tr><tr><td>Circuit Gilles Villeneuve</td><td>Montreal</td><td>Canada</td><td>Canadian Grand Prix</td><td>6</td></tr><tr><td>Circuit Gilles Villeneuve</td><td>Montreal</td><td>Canada</td><td>Canadian Grand Prix</td><td>8</td></tr><tr><td>Circuit Gilles Villeneuve</td><td>Montreal</td><td>Canada</td><td>Canadian Grand Prix</td><td>5</td></tr><tr><td>Circuit Gilles Villeneuve</td><td>Montreal</td><td>Canada</td><td>Canadian Grand Prix</td><td>5</td></tr><tr><td>Circuit Gilles Villeneuve</td><td>Montreal</td><td>Canada</td><td>Canadian Grand Prix</td><td>7</td></tr><tr><td>Circuit Gilles Villeneuve</td><td>Montreal</td><td>Canada</td><td>Canadian Grand Prix</td><td>7</td></tr><tr><td>Circuit Gilles Villeneuve</td><td>Montreal</td><td>Canada</td><td>Canadian Grand Prix</td><td>6</td></tr><tr><td>Circuit Gilles Villeneuve</td><td>Montreal</td><td>Canada</td><td>Canadian Grand Prix</td><td>6</td></tr><tr><td>Circuit Gilles Villeneuve</td><td>Montreal</td><td>Canada</td><td>Canadian Grand Prix</td><td>8</td></tr><tr><td>Circuit Gilles Villeneuve</td><td>Montreal</td><td>Canada</td><td>Canadian Grand Prix</td><td>7</td></tr><tr><td>Circuit Gilles Villeneuve</td><td>Montreal</td><td>Canada</td><td>Canadian Grand Prix</td><td>7</td></tr><tr><td>Circuit Gilles Villeneuve</td><td>Montreal</td><td>Canada</td><td>Canadian Grand Prix</td><td>6</td></tr><tr><td>Circuit Gilles Villeneuve</td><td>Montreal</td><td>Canada</td><td>Canadian Grand Prix</td><td>8</td></tr><tr><td>Circuit Gilles Villeneuve</td><td>Montreal</td><td>Canada</td><td>Canadian Grand Prix</td><td>8</td></tr><tr><td>Circuit Gilles Villeneuve</td><td>Montreal</td><td>Canada</td><td>Canadian Grand Prix</td><td>8</td></tr><tr><td>Circuit Gilles Villeneuve</td><td>Montreal</td><td>Canada</td><td>Canadian Grand Prix</td><td>8</td></tr><tr><td>Circuit Gilles Villeneuve</td><td>Montreal</td><td>Canada</td><td>Canadian Grand Prix</td><td>8</td></tr><tr><td>Circuit Gilles Villeneuve</td><td>Montreal</td><td>Canada</td><td>Canadian Grand Prix</td><td>8</td></tr><tr><td>Circuit Gilles Villeneuve</td><td>Montreal</td><td>Canada</td><td>Canadian Grand Prix</td><td>9</td></tr><tr><td>Circuit Gilles Villeneuve</td><td>Montreal</td><td>Canada</td><td>Canadian Grand Prix</td><td>6</td></tr><tr><td>Circuit Gilles Villeneuve</td><td>Montreal</td><td>Canada</td><td>Canadian Grand Prix</td><td>7</td></tr><tr><td>Circuit de Nevers Magny-Cours</td><td>Magny Cours</td><td>France</td><td>French Grand Prix</td><td>7</td></tr><tr><td>Circuit de Nevers Magny-Cours</td><td>Magny Cours</td><td>France</td><td>French Grand Prix</td><td>8</td></tr><tr><td>Circuit de Nevers Magny-Cours</td><td>Magny Cours</td><td>France</td><td>French Grand Prix</td><td>8</td></tr><tr><td>Circuit de Nevers Magny-Cours</td><td>Magny Cours</td><td>France</td><td>French Grand Prix</td><td>7</td></tr><tr><td>Circuit de Nevers Magny-Cours</td><td>Magny Cours</td><td>France</td><td>French Grand Prix</td><td>7</td></tr><tr><td>Circuit de Nevers Magny-Cours</td><td>Magny Cours</td><td>France</td><td>French Grand Prix</td><td>9</td></tr><tr><td>Circuit de Nevers Magny-Cours</td><td>Magny Cours</td><td>France</td><td>French Grand Prix</td><td>8</td></tr><tr><td>Circuit de Nevers Magny-Cours</td><td>Magny Cours</td><td>France</td><td>French Grand Prix</td><td>8</td></tr><tr><td>Circuit de Nevers Magny-Cours</td><td>Magny Cours</td><td>France</td><td>French Grand Prix</td><td>7</td></tr><tr><td>Circuit de Nevers Magny-Cours</td><td>Magny Cours</td><td>France</td><td>French Grand Prix</td><td>9</td></tr><tr><td>Circuit de Nevers Magny-Cours</td><td>Magny Cours</td><td>France</td><td>French Grand Prix</td><td>10</td></tr><tr><td>Circuit de Nevers Magny-Cours</td><td>Magny Cours</td><td>France</td><td>French Grand Prix</td><td>11</td></tr><tr><td>Circuit de Nevers Magny-Cours</td><td>Magny Cours</td><td>France</td><td>French Grand Prix</td><td>10</td></tr><tr><td>Circuit de Nevers Magny-Cours</td><td>Magny Cours</td><td>France</td><td>French Grand Prix</td><td>10</td></tr><tr><td>Circuit de Nevers Magny-Cours</td><td>Magny Cours</td><td>France</td><td>French Grand Prix</td><td>10</td></tr><tr><td>Circuit de Nevers Magny-Cours</td><td>Magny Cours</td><td>France</td><td>French Grand Prix</td><td>11</td></tr><tr><td>Circuit de Nevers Magny-Cours</td><td>Magny Cours</td><td>France</td><td>French Grand Prix</td><td>8</td></tr><tr><td>Circuit de Nevers Magny-Cours</td><td>Magny Cours</td><td>France</td><td>French Grand Prix</td><td>8</td></tr><tr><td>Silverstone Circuit</td><td>Silverstone</td><td>UK</td><td>British Grand Prix</td><td>10</td></tr><tr><td>Silverstone Circuit</td><td>Silverstone</td><td>UK</td><td>70th Anniversary Grand Prix</td><td>5</td></tr><tr><td>Silverstone Circuit</td><td>Silverstone</td><td>UK</td><td>British Grand Prix</td><td>4</td></tr><tr><td>Silverstone Circuit</td><td>Silverstone</td><td>UK</td><td>British Grand Prix</td><td>10</td></tr><tr><td>Silverstone Circuit</td><td>Silverstone</td><td>UK</td><td>British Grand Prix</td><td>10</td></tr><tr><td>Silverstone Circuit</td><td>Silverstone</td><td>UK</td><td>British Grand Prix</td><td>10</td></tr><tr><td>Silverstone Circuit</td><td>Silverstone</td><td>UK</td><td>British Grand Prix</td><td>10</td></tr><tr><td>Silverstone Circuit</td><td>Silverstone</td><td>UK</td><td>British Grand Prix</td><td>9</td></tr><tr><td>Silverstone Circuit</td><td>Silverstone</td><td>UK</td><td>British Grand Prix</td><td>9</td></tr><tr><td>Silverstone Circuit</td><td>Silverstone</td><td>UK</td><td>British Grand Prix</td><td>8</td></tr><tr><td>Silverstone Circuit</td><td>Silverstone</td><td>UK</td><td>British Grand Prix</td><td>9</td></tr><tr><td>Silverstone Circuit</td><td>Silverstone</td><td>UK</td><td>British Grand Prix</td><td>9</td></tr><tr><td>Silverstone Circuit</td><td>Silverstone</td><td>UK</td><td>British Grand Prix</td><td>1</td></tr><tr><td>Silverstone Circuit</td><td>Silverstone</td><td>UK</td><td>British Grand Prix</td><td>5</td></tr><tr><td>Silverstone Circuit</td><td>Silverstone</td><td>UK</td><td>British Grand Prix</td><td>5</td></tr><tr><td>Silverstone Circuit</td><td>Silverstone</td><td>UK</td><td>British Grand Prix</td><td>6</td></tr><tr><td>Silverstone Circuit</td><td>Silverstone</td><td>UK</td><td>British Grand Prix</td><td>5</td></tr><tr><td>Silverstone Circuit</td><td>Silverstone</td><td>UK</td><td>British Grand Prix</td><td>6</td></tr><tr><td>Silverstone Circuit</td><td>Silverstone</td><td>UK</td><td>British Grand Prix</td><td>7</td></tr><tr><td>Silverstone Circuit</td><td>Silverstone</td><td>UK</td><td>British Grand Prix</td><td>7</td></tr><tr><td>Silverstone Circuit</td><td>Silverstone</td><td>UK</td><td>British Grand Prix</td><td>5</td></tr><tr><td>Silverstone Circuit</td><td>Silverstone</td><td>UK</td><td>British Grand Prix</td><td>5</td></tr><tr><td>Silverstone Circuit</td><td>Silverstone</td><td>UK</td><td>British Grand Prix</td><td>6</td></tr><tr><td>Silverstone Circuit</td><td>Silverstone</td><td>UK</td><td>British Grand Prix</td><td>6</td></tr><tr><td>Silverstone Circuit</td><td>Silverstone</td><td>UK</td><td>British Grand Prix</td><td>6</td></tr><tr><td>Silverstone Circuit</td><td>Silverstone</td><td>UK</td><td>British Grand Prix</td><td>9</td></tr><tr><td>Silverstone Circuit</td><td>Silverstone</td><td>UK</td><td>British Grand Prix</td><td>10</td></tr><tr><td>Silverstone Circuit</td><td>Silverstone</td><td>UK</td><td>British Grand Prix</td><td>10</td></tr><tr><td>Silverstone Circuit</td><td>Silverstone</td><td>UK</td><td>British Grand Prix</td><td>9</td></tr><tr><td>Silverstone Circuit</td><td>Silverstone</td><td>UK</td><td>British Grand Prix</td><td>9</td></tr><tr><td>Silverstone Circuit</td><td>Silverstone</td><td>UK</td><td>British Grand Prix</td><td>9</td></tr><tr><td>Silverstone Circuit</td><td>Silverstone</td><td>UK</td><td>British Grand Prix</td><td>8</td></tr><tr><td>Silverstone Circuit</td><td>Silverstone</td><td>UK</td><td>British Grand Prix</td><td>7</td></tr><tr><td>Silverstone Circuit</td><td>Silverstone</td><td>UK</td><td>British Grand Prix</td><td>8</td></tr><tr><td>Silverstone Circuit</td><td>Silverstone</td><td>UK</td><td>British Grand Prix</td><td>8</td></tr><tr><td>Silverstone Circuit</td><td>Silverstone</td><td>UK</td><td>British Grand Prix</td><td>10</td></tr><tr><td>Silverstone Circuit</td><td>Silverstone</td><td>UK</td><td>British Grand Prix</td><td>8</td></tr><tr><td>Silverstone Circuit</td><td>Silverstone</td><td>UK</td><td>British Grand Prix</td><td>8</td></tr><tr><td>Silverstone Circuit</td><td>Silverstone</td><td>UK</td><td>British Grand Prix</td><td>9</td></tr><tr><td>Silverstone Circuit</td><td>Silverstone</td><td>UK</td><td>British Grand Prix</td><td>9</td></tr><tr><td>Silverstone Circuit</td><td>Silverstone</td><td>UK</td><td>British Grand Prix</td><td>8</td></tr><tr><td>Silverstone Circuit</td><td>Silverstone</td><td>UK</td><td>British Grand Prix</td><td>8</td></tr><tr><td>Silverstone Circuit</td><td>Silverstone</td><td>UK</td><td>British Grand Prix</td><td>10</td></tr><tr><td>Silverstone Circuit</td><td>Silverstone</td><td>UK</td><td>British Grand Prix</td><td>9</td></tr><tr><td>Silverstone Circuit</td><td>Silverstone</td><td>UK</td><td>British Grand Prix</td><td>9</td></tr><tr><td>Silverstone Circuit</td><td>Silverstone</td><td>UK</td><td>British Grand Prix</td><td>8</td></tr><tr><td>Silverstone Circuit</td><td>Silverstone</td><td>UK</td><td>British Grand Prix</td><td>4</td></tr><tr><td>Silverstone Circuit</td><td>Silverstone</td><td>UK</td><td>British Grand Prix</td><td>11</td></tr><tr><td>Silverstone Circuit</td><td>Silverstone</td><td>UK</td><td>British Grand Prix</td><td>10</td></tr><tr><td>Silverstone Circuit</td><td>Silverstone</td><td>UK</td><td>British Grand Prix</td><td>11</td></tr><tr><td>Silverstone Circuit</td><td>Silverstone</td><td>UK</td><td>British Grand Prix</td><td>11</td></tr><tr><td>Silverstone Circuit</td><td>Silverstone</td><td>UK</td><td>British Grand Prix</td><td>11</td></tr><tr><td>Silverstone Circuit</td><td>Silverstone</td><td>UK</td><td>British Grand Prix</td><td>8</td></tr><tr><td>Silverstone Circuit</td><td>Silverstone</td><td>UK</td><td>British Grand Prix</td><td>9</td></tr><tr><td>Silverstone Circuit</td><td>Silverstone</td><td>UK</td><td>British Grand Prix</td><td>9</td></tr><tr><td>Silverstone Circuit</td><td>Silverstone</td><td>UK</td><td>British Grand Prix</td><td>8</td></tr><tr><td>Hockenheimring</td><td>Hockenheim</td><td>Germany</td><td>German Grand Prix</td><td>11</td></tr><tr><td>Hockenheimring</td><td>Hockenheim</td><td>Germany</td><td>German Grand Prix</td><td>11</td></tr><tr><td>Hockenheimring</td><td>Hockenheim</td><td>Germany</td><td>German Grand Prix</td><td>12</td></tr><tr><td>Hockenheimring</td><td>Hockenheim</td><td>Germany</td><td>German Grand Prix</td><td>10</td></tr><tr><td>Hockenheimring</td><td>Hockenheim</td><td>Germany</td><td>German Grand Prix</td><td>10</td></tr><tr><td>Hockenheimring</td><td>Hockenheim</td><td>Germany</td><td>German Grand Prix</td><td>8</td></tr><tr><td>Hockenheimring</td><td>Hockenheim</td><td>Germany</td><td>German Grand Prix</td><td>11</td></tr><tr><td>Hockenheimring</td><td>Hockenheim</td><td>Germany</td><td>German Grand Prix</td><td>11</td></tr><tr><td>Hockenheimring</td><td>Hockenheim</td><td>Germany</td><td>German Grand Prix</td><td>10</td></tr><tr><td>Hockenheimring</td><td>Hockenheim</td><td>Germany</td><td>German Grand Prix</td><td>9</td></tr><tr><td>Hockenheimring</td><td>Hockenheim</td><td>Germany</td><td>German Grand Prix</td><td>10</td></tr><tr><td>Hockenheimring</td><td>Hockenheim</td><td>Germany</td><td>German Grand Prix</td><td>12</td></tr><tr><td>Hockenheimring</td><td>Hockenheim</td><td>Germany</td><td>German Grand Prix</td><td>10</td></tr><tr><td>Hockenheimring</td><td>Hockenheim</td><td>Germany</td><td>German Grand Prix</td><td>11</td></tr><tr><td>Hockenheimring</td><td>Hockenheim</td><td>Germany</td><td>German Grand Prix</td><td>10</td></tr><tr><td>Hockenheimring</td><td>Hockenheim</td><td>Germany</td><td>German Grand Prix</td><td>8</td></tr><tr><td>Hockenheimring</td><td>Hockenheim</td><td>Germany</td><td>German Grand Prix</td><td>9</td></tr><tr><td>Hockenheimring</td><td>Hockenheim</td><td>Germany</td><td>German Grand Prix</td><td>9</td></tr><tr><td>Hockenheimring</td><td>Hockenheim</td><td>Germany</td><td>German Grand Prix</td><td>11</td></tr><tr><td>Hockenheimring</td><td>Hockenheim</td><td>Germany</td><td>German Grand Prix</td><td>9</td></tr><tr><td>Hockenheimring</td><td>Hockenheim</td><td>Germany</td><td>German Grand Prix</td><td>9</td></tr><tr><td>Hockenheimring</td><td>Hockenheim</td><td>Germany</td><td>German Grand Prix</td><td>10</td></tr><tr><td>Hockenheimring</td><td>Hockenheim</td><td>Germany</td><td>German Grand Prix</td><td>10</td></tr><tr><td>Hockenheimring</td><td>Hockenheim</td><td>Germany</td><td>German Grand Prix</td><td>9</td></tr><tr><td>Hockenheimring</td><td>Hockenheim</td><td>Germany</td><td>German Grand Prix</td><td>9</td></tr><tr><td>Hockenheimring</td><td>Hockenheim</td><td>Germany</td><td>German Grand Prix</td><td>11</td></tr><tr><td>Hockenheimring</td><td>Hockenheim</td><td>Germany</td><td>German Grand Prix</td><td>10</td></tr><tr><td>Hockenheimring</td><td>Hockenheim</td><td>Germany</td><td>German Grand Prix</td><td>11</td></tr><tr><td>Hockenheimring</td><td>Hockenheim</td><td>Germany</td><td>German Grand Prix</td><td>10</td></tr><tr><td>Hockenheimring</td><td>Hockenheim</td><td>Germany</td><td>German Grand Prix</td><td>11</td></tr><tr><td>Hockenheimring</td><td>Hockenheim</td><td>Germany</td><td>German Grand Prix</td><td>12</td></tr><tr><td>Hockenheimring</td><td>Hockenheim</td><td>Germany</td><td>German Grand Prix</td><td>12</td></tr><tr><td>Hockenheimring</td><td>Hockenheim</td><td>Germany</td><td>German Grand Prix</td><td>12</td></tr><tr><td>Hockenheimring</td><td>Hockenheim</td><td>Germany</td><td>German Grand Prix</td><td>12</td></tr><tr><td>Hockenheimring</td><td>Hockenheim</td><td>Germany</td><td>German Grand Prix</td><td>12</td></tr><tr><td>Hockenheimring</td><td>Hockenheim</td><td>Germany</td><td>German Grand Prix</td><td>12</td></tr><tr><td>Hockenheimring</td><td>Hockenheim</td><td>Germany</td><td>German Grand Prix</td><td>10</td></tr><tr><td>Hungaroring</td><td>Budapest</td><td>Hungary</td><td>Hungarian Grand Prix</td><td>11</td></tr><tr><td>Hungaroring</td><td>Budapest</td><td>Hungary</td><td>Hungarian Grand Prix</td><td>3</td></tr><tr><td>Hungaroring</td><td>Budapest</td><td>Hungary</td><td>Hungarian Grand Prix</td><td>12</td></tr><tr><td>Hungaroring</td><td>Budapest</td><td>Hungary</td><td>Hungarian Grand Prix</td><td>12</td></tr><tr><td>Hungaroring</td><td>Budapest</td><td>Hungary</td><td>Hungarian Grand Prix</td><td>11</td></tr><tr><td>Hungaroring</td><td>Budapest</td><td>Hungary</td><td>Hungarian Grand Prix</td><td>11</td></tr><tr><td>Hungaroring</td><td>Budapest</td><td>Hungary</td><td>Hungarian Grand Prix</td><td>10</td></tr><tr><td>Hungaroring</td><td>Budapest</td><td>Hungary</td><td>Hungarian Grand Prix</td><td>11</td></tr><tr><td>Hungaroring</td><td>Budapest</td><td>Hungary</td><td>Hungarian Grand Prix</td><td>10</td></tr><tr><td>Hungaroring</td><td>Budapest</td><td>Hungary</td><td>Hungarian Grand Prix</td><td>11</td></tr><tr><td>Hungaroring</td><td>Budapest</td><td>Hungary</td><td>Hungarian Grand Prix</td><td>11</td></tr><tr><td>Hungaroring</td><td>Budapest</td><td>Hungary</td><td>Hungarian Grand Prix</td><td>11</td></tr><tr><td>Hungaroring</td><td>Budapest</td><td>Hungary</td><td>Hungarian Grand Prix</td><td>9</td></tr><tr><td>Hungaroring</td><td>Budapest</td><td>Hungary</td><td>Hungarian Grand Prix</td><td>10</td></tr><tr><td>Hungaroring</td><td>Budapest</td><td>Hungary</td><td>Hungarian Grand Prix</td><td>10</td></tr><tr><td>Hungaroring</td><td>Budapest</td><td>Hungary</td><td>Hungarian Grand Prix</td><td>12</td></tr><tr><td>Hungaroring</td><td>Budapest</td><td>Hungary</td><td>Hungarian Grand Prix</td><td>10</td></tr><tr><td>Hungaroring</td><td>Budapest</td><td>Hungary</td><td>Hungarian Grand Prix</td><td>10</td></tr><tr><td>Hungaroring</td><td>Budapest</td><td>Hungary</td><td>Hungarian Grand Prix</td><td>11</td></tr><tr><td>Hungaroring</td><td>Budapest</td><td>Hungary</td><td>Hungarian Grand Prix</td><td>11</td></tr><tr><td>Hungaroring</td><td>Budapest</td><td>Hungary</td><td>Hungarian Grand Prix</td><td>10</td></tr><tr><td>Hungaroring</td><td>Budapest</td><td>Hungary</td><td>Hungarian Grand Prix</td><td>10</td></tr><tr><td>Hungaroring</td><td>Budapest</td><td>Hungary</td><td>Hungarian Grand Prix</td><td>12</td></tr><tr><td>Hungaroring</td><td>Budapest</td><td>Hungary</td><td>Hungarian Grand Prix</td><td>11</td></tr><tr><td>Hungaroring</td><td>Budapest</td><td>Hungary</td><td>Hungarian Grand Prix</td><td>12</td></tr><tr><td>Hungaroring</td><td>Budapest</td><td>Hungary</td><td>Hungarian Grand Prix</td><td>11</td></tr><tr><td>Hungaroring</td><td>Budapest</td><td>Hungary</td><td>Hungarian Grand Prix</td><td>12</td></tr><tr><td>Hungaroring</td><td>Budapest</td><td>Hungary</td><td>Hungarian Grand Prix</td><td>13</td></tr><tr><td>Hungaroring</td><td>Budapest</td><td>Hungary</td><td>Hungarian Grand Prix</td><td>13</td></tr><tr><td>Hungaroring</td><td>Budapest</td><td>Hungary</td><td>Hungarian Grand Prix</td><td>13</td></tr><tr><td>Hungaroring</td><td>Budapest</td><td>Hungary</td><td>Hungarian Grand Prix</td><td>13</td></tr><tr><td>Hungaroring</td><td>Budapest</td><td>Hungary</td><td>Hungarian Grand Prix</td><td>13</td></tr><tr><td>Hungaroring</td><td>Budapest</td><td>Hungary</td><td>Hungarian Grand Prix</td><td>13</td></tr><tr><td>Hungaroring</td><td>Budapest</td><td>Hungary</td><td>Hungarian Grand Prix</td><td>11</td></tr><tr><td>Hungaroring</td><td>Budapest</td><td>Hungary</td><td>Hungarian Grand Prix</td><td>11</td></tr><tr><td>Hungaroring</td><td>Budapest</td><td>Hungary</td><td>Hungarian Grand Prix</td><td>10</td></tr><tr><td>Valencia Street Circuit</td><td>Valencia</td><td>Spain</td><td>European Grand Prix</td><td>8</td></tr><tr><td>Valencia Street Circuit</td><td>Valencia</td><td>Spain</td><td>European Grand Prix</td><td>8</td></tr><tr><td>Valencia Street Circuit</td><td>Valencia</td><td>Spain</td><td>European Grand Prix</td><td>9</td></tr><tr><td>Valencia Street Circuit</td><td>Valencia</td><td>Spain</td><td>European Grand Prix</td><td>12</td></tr><tr><td>Valencia Street Circuit</td><td>Valencia</td><td>Spain</td><td>European Grand Prix</td><td>11</td></tr><tr><td>Circuit de Spa-Francorchamps</td><td>Spa</td><td>Belgium</td><td>Belgian Grand Prix</td><td>12</td></tr><tr><td>Circuit de Spa-Francorchamps</td><td>Spa</td><td>Belgium</td><td>Belgian Grand Prix</td><td>7</td></tr><tr><td>Circuit de Spa-Francorchamps</td><td>Spa</td><td>Belgium</td><td>Belgian Grand Prix</td><td>13</td></tr><tr><td>Circuit de Spa-Francorchamps</td><td>Spa</td><td>Belgium</td><td>Belgian Grand Prix</td><td>13</td></tr><tr><td>Circuit de Spa-Francorchamps</td><td>Spa</td><td>Belgium</td><td>Belgian Grand Prix</td><td>12</td></tr><tr><td>Circuit de Spa-Francorchamps</td><td>Spa</td><td>Belgium</td><td>Belgian Grand Prix</td><td>13</td></tr><tr><td>Circuit de Spa-Francorchamps</td><td>Spa</td><td>Belgium</td><td>Belgian Grand Prix</td><td>11</td></tr><tr><td>Circuit de Spa-Francorchamps</td><td>Spa</td><td>Belgium</td><td>Belgian Grand Prix</td><td>12</td></tr><tr><td>Circuit de Spa-Francorchamps</td><td>Spa</td><td>Belgium</td><td>Belgian Grand Prix</td><td>11</td></tr><tr><td>Circuit de Spa-Francorchamps</td><td>Spa</td><td>Belgium</td><td>Belgian Grand Prix</td><td>12</td></tr><tr><td>Circuit de Spa-Francorchamps</td><td>Spa</td><td>Belgium</td><td>Belgian Grand Prix</td><td>12</td></tr><tr><td>Circuit de Spa-Francorchamps</td><td>Spa</td><td>Belgium</td><td>Belgian Grand Prix</td><td>5</td></tr><tr><td>Circuit de Spa-Francorchamps</td><td>Spa</td><td>Belgium</td><td>Belgian Grand Prix</td><td>3</td></tr><tr><td>Circuit de Spa-Francorchamps</td><td>Spa</td><td>Belgium</td><td>Belgian Grand Prix</td><td>3</td></tr><tr><td>Circuit de Spa-Francorchamps</td><td>Spa</td><td>Belgium</td><td>Belgian Grand Prix</td><td>4</td></tr><tr><td>Circuit de Spa-Francorchamps</td><td>Spa</td><td>Belgium</td><td>Belgian Grand Prix</td><td>3</td></tr><tr><td>Circuit de Spa-Francorchamps</td><td>Spa</td><td>Belgium</td><td>Belgian Grand Prix</td><td>4</td></tr><tr><td>Circuit de Spa-Francorchamps</td><td>Spa</td><td>Belgium</td><td>Belgian Grand Prix</td><td>4</td></tr><tr><td>Circuit de Spa-Francorchamps</td><td>Spa</td><td>Belgium</td><td>Belgian Grand Prix</td><td>5</td></tr><tr><td>Circuit de Spa-Francorchamps</td><td>Spa</td><td>Belgium</td><td>Belgian Grand Prix</td><td>5</td></tr><tr><td>Circuit de Spa-Francorchamps</td><td>Spa</td><td>Belgium</td><td>Belgian Grand Prix</td><td>3</td></tr><tr><td>Circuit de Spa-Francorchamps</td><td>Spa</td><td>Belgium</td><td>Belgian Grand Prix</td><td>3</td></tr><tr><td>Circuit de Spa-Francorchamps</td><td>Spa</td><td>Belgium</td><td>Belgian Grand Prix</td><td>2</td></tr><tr><td>Circuit de Spa-Francorchamps</td><td>Spa</td><td>Belgium</td><td>Belgian Grand Prix</td><td>3</td></tr><tr><td>Circuit de Spa-Francorchamps</td><td>Spa</td><td>Belgium</td><td>Belgian Grand Prix</td><td>3</td></tr><tr><td>Circuit de Spa-Francorchamps</td><td>Spa</td><td>Belgium</td><td>Belgian Grand Prix</td><td>2</td></tr><tr><td>Circuit de Spa-Francorchamps</td><td>Spa</td><td>Belgium</td><td>Belgian Grand Prix</td><td>4</td></tr><tr><td>Circuit de Spa-Francorchamps</td><td>Spa</td><td>Belgium</td><td>Belgian Grand Prix</td><td>4</td></tr><tr><td>Circuit de Spa-Francorchamps</td><td>Spa</td><td>Belgium</td><td>Belgian Grand Prix</td><td>4</td></tr><tr><td>Circuit de Spa-Francorchamps</td><td>Spa</td><td>Belgium</td><td>Belgian Grand Prix</td><td>6</td></tr><tr><td>Circuit de Spa-Francorchamps</td><td>Spa</td><td>Belgium</td><td>Belgian Grand Prix</td><td>13</td></tr><tr><td>Circuit de Spa-Francorchamps</td><td>Spa</td><td>Belgium</td><td>Belgian Grand Prix</td><td>5</td></tr><tr><td>Circuit de Spa-Francorchamps</td><td>Spa</td><td>Belgium</td><td>Belgian Grand Prix</td><td>3</td></tr><tr><td>Circuit de Spa-Francorchamps</td><td>Spa</td><td>Belgium</td><td>Belgian Grand Prix</td><td>11</td></tr><tr><td>Circuit de Spa-Francorchamps</td><td>Spa</td><td>Belgium</td><td>Belgian Grand Prix</td><td>11</td></tr><tr><td>Circuit de Spa-Francorchamps</td><td>Spa</td><td>Belgium</td><td>Belgian Grand Prix</td><td>13</td></tr><tr><td>Circuit de Spa-Francorchamps</td><td>Spa</td><td>Belgium</td><td>Belgian Grand Prix</td><td>11</td></tr><tr><td>Circuit de Spa-Francorchamps</td><td>Spa</td><td>Belgium</td><td>Belgian Grand Prix</td><td>11</td></tr><tr><td>Circuit de Spa-Francorchamps</td><td>Spa</td><td>Belgium</td><td>Belgian Grand Prix</td><td>12</td></tr><tr><td>Circuit de Spa-Francorchamps</td><td>Spa</td><td>Belgium</td><td>Belgian Grand Prix</td><td>12</td></tr><tr><td>Circuit de Spa-Francorchamps</td><td>Spa</td><td>Belgium</td><td>Belgian Grand Prix</td><td>11</td></tr><tr><td>Circuit de Spa-Francorchamps</td><td>Spa</td><td>Belgium</td><td>Belgian Grand Prix</td><td>11</td></tr><tr><td>Circuit de Spa-Francorchamps</td><td>Spa</td><td>Belgium</td><td>Belgian Grand Prix</td><td>13</td></tr><tr><td>Circuit de Spa-Francorchamps</td><td>Spa</td><td>Belgium</td><td>Belgian Grand Prix</td><td>12</td></tr><tr><td>Circuit de Spa-Francorchamps</td><td>Spa</td><td>Belgium</td><td>Belgian Grand Prix</td><td>13</td></tr><tr><td>Circuit de Spa-Francorchamps</td><td>Spa</td><td>Belgium</td><td>Belgian Grand Prix</td><td>12</td></tr><tr><td>Circuit de Spa-Francorchamps</td><td>Spa</td><td>Belgium</td><td>Belgian Grand Prix</td><td>13</td></tr><tr><td>Circuit de Spa-Francorchamps</td><td>Spa</td><td>Belgium</td><td>Belgian Grand Prix</td><td>14</td></tr><tr><td>Circuit de Spa-Francorchamps</td><td>Spa</td><td>Belgium</td><td>Belgian Grand Prix</td><td>14</td></tr><tr><td>Circuit de Spa-Francorchamps</td><td>Spa</td><td>Belgium</td><td>Belgian Grand Prix</td><td>14</td></tr><tr><td>Circuit de Spa-Francorchamps</td><td>Spa</td><td>Belgium</td><td>Belgian Grand Prix</td><td>16</td></tr><tr><td>Circuit de Spa-Francorchamps</td><td>Spa</td><td>Belgium</td><td>Belgian Grand Prix</td><td>14</td></tr><tr><td>Circuit de Spa-Francorchamps</td><td>Spa</td><td>Belgium</td><td>Belgian Grand Prix</td><td>13</td></tr><tr><td>Circuit de Spa-Francorchamps</td><td>Spa</td><td>Belgium</td><td>Belgian Grand Prix</td><td>12</td></tr><tr><td>Autodromo Nazionale di Monza</td><td>Monza</td><td>Italy</td><td>Italian Grand Prix</td><td>14</td></tr><tr><td>Autodromo Nazionale di Monza</td><td>Monza</td><td>Italy</td><td>Italian Grand Prix</td><td>8</td></tr><tr><td>Autodromo Nazionale di Monza</td><td>Monza</td><td>Italy</td><td>Italian Grand Prix</td><td>14</td></tr><tr><td>Autodromo Nazionale di Monza</td><td>Monza</td><td>Italy</td><td>Italian Grand Prix</td><td>14</td></tr><tr><td>Autodromo Nazionale di Monza</td><td>Monza</td><td>Italy</td><td>Italian Grand Prix</td><td>13</td></tr><tr><td>Autodromo Nazionale di Monza</td><td>Monza</td><td>Italy</td><td>Italian Grand Prix</td><td>14</td></tr><tr><td>Autodromo Nazionale di Monza</td><td>Monza</td><td>Italy</td><td>Italian Grand Prix</td><td>12</td></tr><tr><td>Autodromo Nazionale di Monza</td><td>Monza</td><td>Italy</td><td>Italian Grand Prix</td><td>13</td></tr><tr><td>Autodromo Nazionale di Monza</td><td>Monza</td><td>Italy</td><td>Italian Grand Prix</td><td>12</td></tr><tr><td>Autodromo Nazionale di Monza</td><td>Monza</td><td>Italy</td><td>Italian Grand Prix</td><td>13</td></tr><tr><td>Autodromo Nazionale di Monza</td><td>Monza</td><td>Italy</td><td>Italian Grand Prix</td><td>13</td></tr><tr><td>Autodromo Nazionale di Monza</td><td>Monza</td><td>Italy</td><td>Italian Grand Prix</td><td>7</td></tr><tr><td>Autodromo Nazionale di Monza</td><td>Monza</td><td>Italy</td><td>Italian Grand Prix</td><td>7</td></tr><tr><td>Autodromo Nazionale di Monza</td><td>Monza</td><td>Italy</td><td>Italian Grand Prix</td><td>8</td></tr><tr><td>Autodromo Nazionale di Monza</td><td>Monza</td><td>Italy</td><td>Italian Grand Prix</td><td>9</td></tr><tr><td>Autodromo Nazionale di Monza</td><td>Monza</td><td>Italy</td><td>Italian Grand Prix</td><td>8</td></tr><tr><td>Autodromo Nazionale di Monza</td><td>Monza</td><td>Italy</td><td>Italian Grand Prix</td><td>7</td></tr><tr><td>Autodromo Nazionale di Monza</td><td>Monza</td><td>Italy</td><td>Italian Grand Prix</td><td>8</td></tr><tr><td>Autodromo Nazionale di Monza</td><td>Monza</td><td>Italy</td><td>Italian Grand Prix</td><td>8</td></tr><tr><td>Autodromo Nazionale di Monza</td><td>Monza</td><td>Italy</td><td>Italian Grand Prix</td><td>10</td></tr><tr><td>Autodromo Nazionale di Monza</td><td>Monza</td><td>Italy</td><td>Italian Grand Prix</td><td>8</td></tr><tr><td>Autodromo Nazionale di Monza</td><td>Monza</td><td>Italy</td><td>Italian Grand Prix</td><td>9</td></tr><tr><td>Autodromo Nazionale di Monza</td><td>Monza</td><td>Italy</td><td>Italian Grand Prix</td><td>7</td></tr><tr><td>Autodromo Nazionale di Monza</td><td>Monza</td><td>Italy</td><td>Italian Grand Prix</td><td>7</td></tr><tr><td>Autodromo Nazionale di Monza</td><td>Monza</td><td>Italy</td><td>Italian Grand Prix</td><td>7</td></tr><tr><td>Autodromo Nazionale di Monza</td><td>Monza</td><td>Italy</td><td>Italian Grand Prix</td><td>8</td></tr><tr><td>Autodromo Nazionale di Monza</td><td>Monza</td><td>Italy</td><td>Italian Grand Prix</td><td>8</td></tr><tr><td>Autodromo Nazionale di Monza</td><td>Monza</td><td>Italy</td><td>Italian Grand Prix</td><td>7</td></tr><tr><td>Autodromo Nazionale di Monza</td><td>Monza</td><td>Italy</td><td>Italian Grand Prix</td><td>9</td></tr><tr><td>Autodromo Nazionale di Monza</td><td>Monza</td><td>Italy</td><td>Italian Grand Prix</td><td>9</td></tr><tr><td>Autodromo Nazionale di Monza</td><td>Monza</td><td>Italy</td><td>Italian Grand Prix</td><td>8</td></tr><tr><td>Autodromo Nazionale di Monza</td><td>Monza</td><td>Italy</td><td>Italian Grand Prix</td><td>10</td></tr><tr><td>Autodromo Nazionale di Monza</td><td>Monza</td><td>Italy</td><td>Italian Grand Prix</td><td>9</td></tr><tr><td>Autodromo Nazionale di Monza</td><td>Monza</td><td>Italy</td><td>Italian Grand Prix</td><td>10</td></tr><tr><td>Autodromo Nazionale di Monza</td><td>Monza</td><td>Italy</td><td>Italian Grand Prix</td><td>13</td></tr><tr><td>Autodromo Nazionale di Monza</td><td>Monza</td><td>Italy</td><td>Italian Grand Prix</td><td>13</td></tr><tr><td>Autodromo Nazionale di Monza</td><td>Monza</td><td>Italy</td><td>Italian Grand Prix</td><td>13</td></tr><tr><td>Autodromo Nazionale di Monza</td><td>Monza</td><td>Italy</td><td>Italian Grand Prix</td><td>13</td></tr><tr><td>Autodromo Nazionale di Monza</td><td>Monza</td><td>Italy</td><td>Italian Grand Prix</td><td>14</td></tr><tr><td>Autodromo Nazionale di Monza</td><td>Monza</td><td>Italy</td><td>Italian Grand Prix</td><td>14</td></tr><tr><td>Autodromo Nazionale di Monza</td><td>Monza</td><td>Italy</td><td>Italian Grand Prix</td><td>13</td></tr><tr><td>Autodromo Nazionale di Monza</td><td>Monza</td><td>Italy</td><td>Italian Grand Prix</td><td>13</td></tr><tr><td>Autodromo Nazionale di Monza</td><td>Monza</td><td>Italy</td><td>Italian Grand Prix</td><td>15</td></tr><tr><td>Autodromo Nazionale di Monza</td><td>Monza</td><td>Italy</td><td>Italian Grand Prix</td><td>13</td></tr><tr><td>Autodromo Nazionale di Monza</td><td>Monza</td><td>Italy</td><td>Italian Grand Prix</td><td>14</td></tr><tr><td>Autodromo Nazionale di Monza</td><td>Monza</td><td>Italy</td><td>Italian Grand Prix</td><td>12</td></tr><tr><td>Autodromo Nazionale di Monza</td><td>Monza</td><td>Italy</td><td>Italian Grand Prix</td><td>13</td></tr><tr><td>Autodromo Nazionale di Monza</td><td>Monza</td><td>Italy</td><td>Italian Grand Prix</td><td>11</td></tr><tr><td>Autodromo Nazionale di Monza</td><td>Monza</td><td>Italy</td><td>Italian Grand Prix</td><td>12</td></tr><tr><td>Autodromo Nazionale di Monza</td><td>Monza</td><td>Italy</td><td>Italian Grand Prix</td><td>12</td></tr><tr><td>Autodromo Nazionale di Monza</td><td>Monza</td><td>Italy</td><td>Italian Grand Prix</td><td>14</td></tr><tr><td>Autodromo Nazionale di Monza</td><td>Monza</td><td>Italy</td><td>Italian Grand Prix</td><td>12</td></tr><tr><td>Autodromo Nazionale di Monza</td><td>Monza</td><td>Italy</td><td>Italian Grand Prix</td><td>12</td></tr><tr><td>Autodromo Nazionale di Monza</td><td>Monza</td><td>Italy</td><td>Italian Grand Prix</td><td>13</td></tr><tr><td>Autodromo Nazionale di Monza</td><td>Monza</td><td>Italy</td><td>Italian Grand Prix</td><td>13</td></tr><tr><td>Autodromo Nazionale di Monza</td><td>Monza</td><td>Italy</td><td>Italian Grand Prix</td><td>12</td></tr><tr><td>Autodromo Nazionale di Monza</td><td>Monza</td><td>Italy</td><td>Italian Grand Prix</td><td>12</td></tr><tr><td>Autodromo Nazionale di Monza</td><td>Monza</td><td>Italy</td><td>Italian Grand Prix</td><td>14</td></tr><tr><td>Autodromo Nazionale di Monza</td><td>Monza</td><td>Italy</td><td>Italian Grand Prix</td><td>13</td></tr><tr><td>Autodromo Nazionale di Monza</td><td>Monza</td><td>Italy</td><td>Italian Grand Prix</td><td>14</td></tr><tr><td>Autodromo Nazionale di Monza</td><td>Monza</td><td>Italy</td><td>Italian Grand Prix</td><td>13</td></tr><tr><td>Autodromo Nazionale di Monza</td><td>Monza</td><td>Italy</td><td>Italian Grand Prix</td><td>14</td></tr><tr><td>Autodromo Nazionale di Monza</td><td>Monza</td><td>Italy</td><td>Italian Grand Prix</td><td>15</td></tr><tr><td>Autodromo Nazionale di Monza</td><td>Monza</td><td>Italy</td><td>Italian Grand Prix</td><td>15</td></tr><tr><td>Autodromo Nazionale di Monza</td><td>Monza</td><td>Italy</td><td>Italian Grand Prix</td><td>14</td></tr><tr><td>Autodromo Nazionale di Monza</td><td>Monza</td><td>Italy</td><td>Italian Grand Prix</td><td>15</td></tr><tr><td>Autodromo Nazionale di Monza</td><td>Monza</td><td>Italy</td><td>Italian Grand Prix</td><td>15</td></tr><tr><td>Autodromo Nazionale di Monza</td><td>Monza</td><td>Italy</td><td>Italian Grand Prix</td><td>15</td></tr><tr><td>Autodromo Nazionale di Monza</td><td>Monza</td><td>Italy</td><td>Italian Grand Prix</td><td>13</td></tr><tr><td>Autodromo Nazionale di Monza</td><td>Monza</td><td>Italy</td><td>Italian Grand Prix</td><td>14</td></tr><tr><td>Autodromo Nazionale di Monza</td><td>Monza</td><td>Italy</td><td>Italian Grand Prix</td><td>13</td></tr><tr><td>Marina Bay Street Circuit</td><td>Marina Bay</td><td>Singapore</td><td>Singapore Grand Prix</td><td>16</td></tr><tr><td>Marina Bay Street Circuit</td><td>Marina Bay</td><td>Singapore</td><td>Singapore Grand Prix</td><td>15</td></tr><tr><td>Marina Bay Street Circuit</td><td>Marina Bay</td><td>Singapore</td><td>Singapore Grand Prix</td><td>15</td></tr><tr><td>Marina Bay Street Circuit</td><td>Marina Bay</td><td>Singapore</td><td>Singapore Grand Prix</td><td>14</td></tr><tr><td>Marina Bay Street Circuit</td><td>Marina Bay</td><td>Singapore</td><td>Singapore Grand Prix</td><td>15</td></tr><tr><td>Marina Bay Street Circuit</td><td>Marina Bay</td><td>Singapore</td><td>Singapore Grand Prix</td><td>13</td></tr><tr><td>Marina Bay Street Circuit</td><td>Marina Bay</td><td>Singapore</td><td>Singapore Grand Prix</td><td>14</td></tr><tr><td>Marina Bay Street Circuit</td><td>Marina Bay</td><td>Singapore</td><td>Singapore Grand Prix</td><td>13</td></tr><tr><td>Marina Bay Street Circuit</td><td>Marina Bay</td><td>Singapore</td><td>Singapore Grand Prix</td><td>14</td></tr><tr><td>Marina Bay Street Circuit</td><td>Marina Bay</td><td>Singapore</td><td>Singapore Grand Prix</td><td>14</td></tr><tr><td>Marina Bay Street Circuit</td><td>Marina Bay</td><td>Singapore</td><td>Singapore Grand Prix</td><td>15</td></tr><tr><td>Marina Bay Street Circuit</td><td>Marina Bay</td><td>Singapore</td><td>Singapore Grand Prix</td><td>15</td></tr><tr><td>Marina Bay Street Circuit</td><td>Marina Bay</td><td>Singapore</td><td>Singapore Grand Prix</td><td>14</td></tr><tr><td>Fuji Speedway</td><td>Oyama</td><td>Japan</td><td>Japanese Grand Prix</td><td>16</td></tr><tr><td>Fuji Speedway</td><td>Oyama</td><td>Japan</td><td>Japanese Grand Prix</td><td>17</td></tr><tr><td>Fuji Speedway</td><td>Oyama</td><td>Japan</td><td>Japanese Grand Prix</td><td>15</td></tr><tr><td>Fuji Speedway</td><td>Oyama</td><td>Japan</td><td>Japanese Grand Prix</td><td>16</td></tr><tr><td>Shanghai International Circuit</td><td>Shanghai</td><td>China</td><td>Chinese Grand Prix</td><td>3</td></tr><tr><td>Shanghai International Circuit</td><td>Shanghai</td><td>China</td><td>Chinese Grand Prix</td><td>3</td></tr><tr><td>Shanghai International Circuit</td><td>Shanghai</td><td>China</td><td>Chinese Grand Prix</td><td>2</td></tr><tr><td>Shanghai International Circuit</td><td>Shanghai</td><td>China</td><td>Chinese Grand Prix</td><td>3</td></tr><tr><td>Shanghai International Circuit</td><td>Shanghai</td><td>China</td><td>Chinese Grand Prix</td><td>3</td></tr><tr><td>Shanghai International Circuit</td><td>Shanghai</td><td>China</td><td>Chinese Grand Prix</td><td>4</td></tr><tr><td>Shanghai International Circuit</td><td>Shanghai</td><td>China</td><td>Chinese Grand Prix</td><td>3</td></tr><tr><td>Shanghai International Circuit</td><td>Shanghai</td><td>China</td><td>Chinese Grand Prix</td><td>3</td></tr><tr><td>Shanghai International Circuit</td><td>Shanghai</td><td>China</td><td>Chinese Grand Prix</td><td>3</td></tr><tr><td>Shanghai International Circuit</td><td>Shanghai</td><td>China</td><td>Chinese Grand Prix</td><td>4</td></tr><tr><td>Shanghai International Circuit</td><td>Shanghai</td><td>China</td><td>Chinese Grand Prix</td><td>16</td></tr><tr><td>Shanghai International Circuit</td><td>Shanghai</td><td>China</td><td>Chinese Grand Prix</td><td>19</td></tr><tr><td>Shanghai International Circuit</td><td>Shanghai</td><td>China</td><td>Chinese Grand Prix</td><td>16</td></tr><tr><td>Shanghai International Circuit</td><td>Shanghai</td><td>China</td><td>Chinese Grand Prix</td><td>16</td></tr><tr><td>Shanghai International Circuit</td><td>Shanghai</td><td>China</td><td>Chinese Grand Prix</td><td>17</td></tr><tr><td>Shanghai International Circuit</td><td>Shanghai</td><td>China</td><td>Chinese Grand Prix</td><td>3</td></tr><tr><td>Autódromo José Carlos Pace</td><td>São Paulo</td><td>Brazil</td><td>Brazilian Grand Prix</td><td>20</td></tr><tr><td>Autódromo José Carlos Pace</td><td>São Paulo</td><td>Brazil</td><td>Brazilian Grand Prix</td><td>20</td></tr><tr><td>Autódromo José Carlos Pace</td><td>São Paulo</td><td>Brazil</td><td>Brazilian Grand Prix</td><td>20</td></tr><tr><td>Autódromo José Carlos Pace</td><td>São Paulo</td><td>Brazil</td><td>Brazilian Grand Prix</td><td>19</td></tr><tr><td>Autódromo José Carlos Pace</td><td>São Paulo</td><td>Brazil</td><td>Brazilian Grand Prix</td><td>20</td></tr><tr><td>Autódromo José Carlos Pace</td><td>São Paulo</td><td>Brazil</td><td>Brazilian Grand Prix</td><td>18</td></tr><tr><td>Autódromo José Carlos Pace</td><td>São Paulo</td><td>Brazil</td><td>Brazilian Grand Prix</td><td>18</td></tr><tr><td>Autódromo José Carlos Pace</td><td>São Paulo</td><td>Brazil</td><td>Brazilian Grand Prix</td><td>19</td></tr><tr><td>Autódromo José Carlos Pace</td><td>São Paulo</td><td>Brazil</td><td>Brazilian Grand Prix</td><td>20</td></tr><tr><td>Autódromo José Carlos Pace</td><td>São Paulo</td><td>Brazil</td><td>Brazilian Grand Prix</td><td>19</td></tr><tr><td>Autódromo José Carlos Pace</td><td>São Paulo</td><td>Brazil</td><td>Brazilian Grand Prix</td><td>2</td></tr><tr><td>Autódromo José Carlos Pace</td><td>São Paulo</td><td>Brazil</td><td>Brazilian Grand Prix</td><td>2</td></tr><tr><td>Autódromo José Carlos Pace</td><td>São Paulo</td><td>Brazil</td><td>Brazilian Grand Prix</td><td>2</td></tr><tr><td>Autódromo José Carlos Pace</td><td>São Paulo</td><td>Brazil</td><td>Brazilian Grand Prix</td><td>1</td></tr><tr><td>Autódromo José Carlos Pace</td><td>São Paulo</td><td>Brazil</td><td>Brazilian Grand Prix</td><td>2</td></tr><tr><td>Autódromo José Carlos Pace</td><td>São Paulo</td><td>Brazil</td><td>Brazilian Grand Prix</td><td>2</td></tr><tr><td>Autódromo José Carlos Pace</td><td>São Paulo</td><td>Brazil</td><td>Brazilian Grand Prix</td><td>2</td></tr><tr><td>Autódromo José Carlos Pace</td><td>São Paulo</td><td>Brazil</td><td>Brazilian Grand Prix</td><td>18</td></tr><tr><td>Autódromo José Carlos Pace</td><td>São Paulo</td><td>Brazil</td><td>Brazilian Grand Prix</td><td>2</td></tr><tr><td>Autódromo José Carlos Pace</td><td>São Paulo</td><td>Brazil</td><td>Brazilian Grand Prix</td><td>2</td></tr><tr><td>Autódromo José Carlos Pace</td><td>São Paulo</td><td>Brazil</td><td>Brazilian Grand Prix</td><td>3</td></tr><tr><td>Autódromo José Carlos Pace</td><td>São Paulo</td><td>Brazil</td><td>Brazilian Grand Prix</td><td>2</td></tr><tr><td>Autódromo José Carlos Pace</td><td>São Paulo</td><td>Brazil</td><td>Brazilian Grand Prix</td><td>1</td></tr><tr><td>Autódromo José Carlos Pace</td><td>São Paulo</td><td>Brazil</td><td>Brazilian Grand Prix</td><td>1</td></tr><tr><td>Autódromo José Carlos Pace</td><td>São Paulo</td><td>Brazil</td><td>Brazilian Grand Prix</td><td>2</td></tr><tr><td>Autódromo José Carlos Pace</td><td>São Paulo</td><td>Brazil</td><td>Brazilian Grand Prix</td><td>2</td></tr><tr><td>Autódromo José Carlos Pace</td><td>São Paulo</td><td>Brazil</td><td>Brazilian Grand Prix</td><td>2</td></tr><tr><td>Autódromo José Carlos Pace</td><td>São Paulo</td><td>Brazil</td><td>Brazilian Grand Prix</td><td>2</td></tr><tr><td>Autódromo José Carlos Pace</td><td>São Paulo</td><td>Brazil</td><td>Brazilian Grand Prix</td><td>2</td></tr><tr><td>Autódromo José Carlos Pace</td><td>São Paulo</td><td>Brazil</td><td>Brazilian Grand Prix</td><td>3</td></tr><tr><td>Autódromo José Carlos Pace</td><td>São Paulo</td><td>Brazil</td><td>Brazilian Grand Prix</td><td>3</td></tr><tr><td>Autódromo José Carlos Pace</td><td>São Paulo</td><td>Brazil</td><td>Brazilian Grand Prix</td><td>3</td></tr><tr><td>Autódromo José Carlos Pace</td><td>São Paulo</td><td>Brazil</td><td>Brazilian Grand Prix</td><td>18</td></tr><tr><td>Autódromo José Carlos Pace</td><td>São Paulo</td><td>Brazil</td><td>Brazilian Grand Prix</td><td>17</td></tr><tr><td>Autódromo José Carlos Pace</td><td>São Paulo</td><td>Brazil</td><td>Brazilian Grand Prix</td><td>18</td></tr><tr><td>Autódromo José Carlos Pace</td><td>São Paulo</td><td>Brazil</td><td>Brazilian Grand Prix</td><td>17</td></tr><tr><td>Autódromo José Carlos Pace</td><td>São Paulo</td><td>Brazil</td><td>Brazilian Grand Prix</td><td>18</td></tr><tr><td>Autódromo José Carlos Pace</td><td>São Paulo</td><td>Brazil</td><td>Brazilian Grand Prix</td><td>16</td></tr><tr><td>Indianapolis Motor Speedway</td><td>Indianapolis</td><td>USA</td><td>Indianapolis 500</td><td>3</td></tr><tr><td>Indianapolis Motor Speedway</td><td>Indianapolis</td><td>USA</td><td>Indianapolis 500</td><td>2</td></tr><tr><td>Indianapolis Motor Speedway</td><td>Indianapolis</td><td>USA</td><td>Indianapolis 500</td><td>2</td></tr><tr><td>Indianapolis Motor Speedway</td><td>Indianapolis</td><td>USA</td><td>Indianapolis 500</td><td>2</td></tr><tr><td>Indianapolis Motor Speedway</td><td>Indianapolis</td><td>USA</td><td>Indianapolis 500</td><td>2</td></tr><tr><td>Indianapolis Motor Speedway</td><td>Indianapolis</td><td>USA</td><td>Indianapolis 500</td><td>3</td></tr><tr><td>Indianapolis Motor Speedway</td><td>Indianapolis</td><td>USA</td><td>Indianapolis 500</td><td>3</td></tr><tr><td>Indianapolis Motor Speedway</td><td>Indianapolis</td><td>USA</td><td>Indianapolis 500</td><td>3</td></tr><tr><td>Indianapolis Motor Speedway</td><td>Indianapolis</td><td>USA</td><td>Indianapolis 500</td><td>4</td></tr><tr><td>Indianapolis Motor Speedway</td><td>Indianapolis</td><td>USA</td><td>Indianapolis 500</td><td>2</td></tr><tr><td>Indianapolis Motor Speedway</td><td>Indianapolis</td><td>USA</td><td>Indianapolis 500</td><td>3</td></tr><tr><td>Indianapolis Motor Speedway</td><td>Indianapolis</td><td>USA</td><td>United States Grand Prix</td><td>15</td></tr><tr><td>Indianapolis Motor Speedway</td><td>Indianapolis</td><td>USA</td><td>United States Grand Prix</td><td>16</td></tr><tr><td>Indianapolis Motor Speedway</td><td>Indianapolis</td><td>USA</td><td>United States Grand Prix</td><td>16</td></tr><tr><td>Indianapolis Motor Speedway</td><td>Indianapolis</td><td>USA</td><td>United States Grand Prix</td><td>15</td></tr><tr><td>Indianapolis Motor Speedway</td><td>Indianapolis</td><td>USA</td><td>United States Grand Prix</td><td>9</td></tr><tr><td>Indianapolis Motor Speedway</td><td>Indianapolis</td><td>USA</td><td>United States Grand Prix</td><td>9</td></tr><tr><td>Indianapolis Motor Speedway</td><td>Indianapolis</td><td>USA</td><td>United States Grand Prix</td><td>10</td></tr><tr><td>Indianapolis Motor Speedway</td><td>Indianapolis</td><td>USA</td><td>United States Grand Prix</td><td>7</td></tr><tr><td>Nürburgring</td><td>Nürburg</td><td>Germany</td><td>TBC</td><td>3</td></tr><tr><td>Nürburgring</td><td>Nürburg</td><td>Germany</td><td>Eifel Grand Prix</td><td>11</td></tr><tr><td>Nürburgring</td><td>Nürburg</td><td>Germany</td><td>German Grand Prix</td><td>9</td></tr><tr><td>Nürburgring</td><td>Nürburg</td><td>Germany</td><td>German Grand Prix</td><td>10</td></tr><tr><td>Nürburgring</td><td>Nürburg</td><td>Germany</td><td>German Grand Prix</td><td>6</td></tr><tr><td>Nürburgring</td><td>Nürburg</td><td>Germany</td><td>German Grand Prix</td><td>6</td></tr><tr><td>Nürburgring</td><td>Nürburg</td><td>Germany</td><td>German Grand Prix</td><td>7</td></tr><tr><td>Nürburgring</td><td>Nürburg</td><td>Germany</td><td>German Grand Prix</td><td>6</td></tr><tr><td>Nürburgring</td><td>Nürburg</td><td>Germany</td><td>German Grand Prix</td><td>7</td></tr><tr><td>Nürburgring</td><td>Nürburg</td><td>Germany</td><td>German Grand Prix</td><td>6</td></tr><tr><td>Nürburgring</td><td>Nürburg</td><td>Germany</td><td>German Grand Prix</td><td>8</td></tr><tr><td>Nürburgring</td><td>Nürburg</td><td>Germany</td><td>German Grand Prix</td><td>6</td></tr><tr><td>Nürburgring</td><td>Nürburg</td><td>Germany</td><td>German Grand Prix</td><td>6</td></tr><tr><td>Nürburgring</td><td>Nürburg</td><td>Germany</td><td>German Grand Prix</td><td>6</td></tr><tr><td>Nürburgring</td><td>Nürburg</td><td>Germany</td><td>German Grand Prix</td><td>6</td></tr><tr><td>Nürburgring</td><td>Nürburg</td><td>Germany</td><td>German Grand Prix</td><td>7</td></tr><tr><td>Nürburgring</td><td>Nürburg</td><td>Germany</td><td>German Grand Prix</td><td>6</td></tr><tr><td>Nürburgring</td><td>Nürburg</td><td>Germany</td><td>German Grand Prix</td><td>7</td></tr><tr><td>Nürburgring</td><td>Nürburg</td><td>Germany</td><td>German Grand Prix</td><td>8</td></tr><tr><td>Nürburgring</td><td>Nürburg</td><td>Germany</td><td>German Grand Prix</td><td>7</td></tr><tr><td>Nürburgring</td><td>Nürburg</td><td>Germany</td><td>German Grand Prix</td><td>7</td></tr><tr><td>Nürburgring</td><td>Nürburg</td><td>Germany</td><td>German Grand Prix</td><td>8</td></tr><tr><td>Nürburgring</td><td>Nürburg</td><td>Germany</td><td>German Grand Prix</td><td>11</td></tr><tr><td>Nürburgring</td><td>Nürburg</td><td>Germany</td><td>German Grand Prix</td><td>11</td></tr><tr><td>Nürburgring</td><td>Nürburg</td><td>Germany</td><td>German Grand Prix</td><td>11</td></tr><tr><td>Nürburgring</td><td>Nürburg</td><td>Germany</td><td>German Grand Prix</td><td>10</td></tr><tr><td>Nürburgring</td><td>Nürburg</td><td>Germany</td><td>European Grand Prix</td><td>15</td></tr><tr><td>Nürburgring</td><td>Nürburg</td><td>Germany</td><td>German Grand Prix</td><td>9</td></tr><tr><td>Nürburgring</td><td>Nürburg</td><td>Germany</td><td>European Grand Prix</td><td>14</td></tr><tr><td>Nürburgring</td><td>Nürburg</td><td>Germany</td><td>European Grand Prix</td><td>4</td></tr><tr><td>Nürburgring</td><td>Nürburg</td><td>Germany</td><td>Luxembourg Grand Prix</td><td>15</td></tr><tr><td>Nürburgring</td><td>Nürburg</td><td>Germany</td><td>Luxembourg Grand Prix</td><td>15</td></tr><tr><td>Nürburgring</td><td>Nürburg</td><td>Germany</td><td>European Grand Prix</td><td>14</td></tr><tr><td>Nürburgring</td><td>Nürburg</td><td>Germany</td><td>European Grand Prix</td><td>6</td></tr><tr><td>Nürburgring</td><td>Nürburg</td><td>Germany</td><td>European Grand Prix</td><td>9</td></tr><tr><td>Nürburgring</td><td>Nürburg</td><td>Germany</td><td>European Grand Prix</td><td>9</td></tr><tr><td>Nürburgring</td><td>Nürburg</td><td>Germany</td><td>European Grand Prix</td><td>9</td></tr><tr><td>Nürburgring</td><td>Nürburg</td><td>Germany</td><td>European Grand Prix</td><td>7</td></tr><tr><td>Nürburgring</td><td>Nürburg</td><td>Germany</td><td>European Grand Prix</td><td>7</td></tr><tr><td>Nürburgring</td><td>Nürburg</td><td>Germany</td><td>European Grand Prix</td><td>5</td></tr><tr><td>Nürburgring</td><td>Nürburg</td><td>Germany</td><td>European Grand Prix</td><td>10</td></tr><tr><td>Nürburgring</td><td>Nürburg</td><td>Germany</td><td>German Grand Prix</td><td>9</td></tr><tr><td>Autodromo Enzo e Dino Ferrari</td><td>Imola</td><td>Italy</td><td>Emilia Romagna Grand Prix</td><td>2</td></tr><tr><td>Autodromo Enzo e Dino Ferrari</td><td>Imola</td><td>Italy</td><td>Emilia Romagna Grand Prix</td><td>13</td></tr><tr><td>Autodromo Enzo e Dino Ferrari</td><td>Imola</td><td>Italy</td><td>Italian Grand Prix</td><td>12</td></tr><tr><td>Autodromo Enzo e Dino Ferrari</td><td>Imola</td><td>Italy</td><td>San Marino Grand Prix</td><td>4</td></tr><tr><td>Autodromo Enzo e Dino Ferrari</td><td>Imola</td><td>Italy</td><td>San Marino Grand Prix</td><td>4</td></tr><tr><td>Autodromo Enzo e Dino Ferrari</td><td>Imola</td><td>Italy</td><td>San Marino Grand Prix</td><td>4</td></tr><tr><td>Autodromo Enzo e Dino Ferrari</td><td>Imola</td><td>Italy</td><td>San Marino Grand Prix</td><td>4</td></tr><tr><td>Autodromo Enzo e Dino Ferrari</td><td>Imola</td><td>Italy</td><td>San Marino Grand Prix</td><td>3</td></tr><tr><td>Autodromo Enzo e Dino Ferrari</td><td>Imola</td><td>Italy</td><td>San Marino Grand Prix</td><td>3</td></tr><tr><td>Autodromo Enzo e Dino Ferrari</td><td>Imola</td><td>Italy</td><td>San Marino Grand Prix</td><td>2</td></tr><tr><td>Autodromo Enzo e Dino Ferrari</td><td>Imola</td><td>Italy</td><td>San Marino Grand Prix</td><td>2</td></tr><tr><td>Autodromo Enzo e Dino Ferrari</td><td>Imola</td><td>Italy</td><td>San Marino Grand Prix</td><td>2</td></tr><tr><td>Autodromo Enzo e Dino Ferrari</td><td>Imola</td><td>Italy</td><td>San Marino Grand Prix</td><td>3</td></tr><tr><td>Autodromo Enzo e Dino Ferrari</td><td>Imola</td><td>Italy</td><td>San Marino Grand Prix</td><td>3</td></tr><tr><td>Autodromo Enzo e Dino Ferrari</td><td>Imola</td><td>Italy</td><td>San Marino Grand Prix</td><td>5</td></tr><tr><td>Autodromo Enzo e Dino Ferrari</td><td>Imola</td><td>Italy</td><td>San Marino Grand Prix</td><td>4</td></tr><tr><td>Autodromo Enzo e Dino Ferrari</td><td>Imola</td><td>Italy</td><td>San Marino Grand Prix</td><td>3</td></tr><tr><td>Autodromo Enzo e Dino Ferrari</td><td>Imola</td><td>Italy</td><td>San Marino Grand Prix</td><td>3</td></tr><tr><td>Autodromo Enzo e Dino Ferrari</td><td>Imola</td><td>Italy</td><td>San Marino Grand Prix</td><td>5</td></tr><tr><td>Autodromo Enzo e Dino Ferrari</td><td>Imola</td><td>Italy</td><td>San Marino Grand Prix</td><td>4</td></tr><tr><td>Autodromo Enzo e Dino Ferrari</td><td>Imola</td><td>Italy</td><td>San Marino Grand Prix</td><td>4</td></tr><tr><td>Autodromo Enzo e Dino Ferrari</td><td>Imola</td><td>Italy</td><td>San Marino Grand Prix</td><td>3</td></tr><tr><td>Autodromo Enzo e Dino Ferrari</td><td>Imola</td><td>Italy</td><td>San Marino Grand Prix</td><td>3</td></tr><tr><td>Autodromo Enzo e Dino Ferrari</td><td>Imola</td><td>Italy</td><td>San Marino Grand Prix</td><td>4</td></tr><tr><td>Autodromo Enzo e Dino Ferrari</td><td>Imola</td><td>Italy</td><td>San Marino Grand Prix</td><td>4</td></tr><tr><td>Autodromo Enzo e Dino Ferrari</td><td>Imola</td><td>Italy</td><td>San Marino Grand Prix</td><td>4</td></tr><tr><td>Autodromo Enzo e Dino Ferrari</td><td>Imola</td><td>Italy</td><td>San Marino Grand Prix</td><td>4</td></tr><tr><td>Autodromo Enzo e Dino Ferrari</td><td>Imola</td><td>Italy</td><td>San Marino Grand Prix</td><td>4</td></tr><tr><td>Autodromo Enzo e Dino Ferrari</td><td>Imola</td><td>Italy</td><td>San Marino Grand Prix</td><td>4</td></tr><tr><td>Suzuka Circuit</td><td>Suzuka</td><td>Japan</td><td>Japanese Grand Prix</td><td>17</td></tr><tr><td>Suzuka Circuit</td><td>Suzuka</td><td>Japan</td><td>Japanese Grand Prix</td><td>17</td></tr><tr><td>Suzuka Circuit</td><td>Suzuka</td><td>Japan</td><td>Japanese Grand Prix</td><td>17</td></tr><tr><td>Suzuka Circuit</td><td>Suzuka</td><td>Japan</td><td>Japanese Grand Prix</td><td>16</td></tr><tr><td>Suzuka Circuit</td><td>Suzuka</td><td>Japan</td><td>Japanese Grand Prix</td><td>17</td></tr><tr><td>Suzuka Circuit</td><td>Suzuka</td><td>Japan</td><td>Japanese Grand Prix</td><td>14</td></tr><tr><td>Suzuka Circuit</td><td>Suzuka</td><td>Japan</td><td>Japanese Grand Prix</td><td>15</td></tr><tr><td>Suzuka Circuit</td><td>Suzuka</td><td>Japan</td><td>Japanese Grand Prix</td><td>15</td></tr><tr><td>Suzuka Circuit</td><td>Suzuka</td><td>Japan</td><td>Japanese Grand Prix</td><td>15</td></tr><tr><td>Suzuka Circuit</td><td>Suzuka</td><td>Japan</td><td>Japanese Grand Prix</td><td>15</td></tr><tr><td>Suzuka Circuit</td><td>Suzuka</td><td>Japan</td><td>Japanese Grand Prix</td><td>15</td></tr><tr><td>Suzuka Circuit</td><td>Suzuka</td><td>Japan</td><td>Japanese Grand Prix</td><td>15</td></tr><tr><td>Suzuka Circuit</td><td>Suzuka</td><td>Japan</td><td>Japanese Grand Prix</td><td>15</td></tr><tr><td>Suzuka Circuit</td><td>Suzuka</td><td>Japan</td><td>Japanese Grand Prix</td><td>16</td></tr><tr><td>Suzuka Circuit</td><td>Suzuka</td><td>Japan</td><td>Japanese Grand Prix</td><td>15</td></tr><tr><td>Suzuka Circuit</td><td>Suzuka</td><td>Japan</td><td>Japanese Grand Prix</td><td>15</td></tr><tr><td>Suzuka Circuit</td><td>Suzuka</td><td>Japan</td><td>Japanese Grand Prix</td><td>15</td></tr><tr><td>Suzuka Circuit</td><td>Suzuka</td><td>Japan</td><td>Japanese Grand Prix</td><td>15</td></tr><tr><td>Suzuka Circuit</td><td>Suzuka</td><td>Japan</td><td>Japanese Grand Prix</td><td>15</td></tr><tr><td>Suzuka Circuit</td><td>Suzuka</td><td>Japan</td><td>Japanese Grand Prix</td><td>16</td></tr><tr><td>Suzuka Circuit</td><td>Suzuka</td><td>Japan</td><td>Japanese Grand Prix</td><td>16</td></tr><tr><td>Suzuka Circuit</td><td>Suzuka</td><td>Japan</td><td>Japanese Grand Prix</td><td>16</td></tr><tr><td>Suzuka Circuit</td><td>Suzuka</td><td>Japan</td><td>Japanese Grand Prix</td><td>16</td></tr><tr><td>Suzuka Circuit</td><td>Suzuka</td><td>Japan</td><td>Japanese Grand Prix</td><td>16</td></tr><tr><td>Suzuka Circuit</td><td>Suzuka</td><td>Japan</td><td>Japanese Grand Prix</td><td>16</td></tr><tr><td>Suzuka Circuit</td><td>Suzuka</td><td>Japan</td><td>Japanese Grand Prix</td><td>17</td></tr><tr><td>Suzuka Circuit</td><td>Suzuka</td><td>Japan</td><td>Japanese Grand Prix</td><td>17</td></tr><tr><td>Suzuka Circuit</td><td>Suzuka</td><td>Japan</td><td>Japanese Grand Prix</td><td>16</td></tr><tr><td>Suzuka Circuit</td><td>Suzuka</td><td>Japan</td><td>Japanese Grand Prix</td><td>17</td></tr><tr><td>Suzuka Circuit</td><td>Suzuka</td><td>Japan</td><td>Japanese Grand Prix</td><td>18</td></tr><tr><td>Suzuka Circuit</td><td>Suzuka</td><td>Japan</td><td>Japanese Grand Prix</td><td>17</td></tr><tr><td>Suzuka Circuit</td><td>Suzuka</td><td>Japan</td><td>Japanese Grand Prix</td><td>15</td></tr><tr><td>A1-Ring</td><td>Spielburg</td><td>Austria</td><td>Austrian Grand Prix</td><td>9</td></tr><tr><td>A1-Ring</td><td>Spielburg</td><td>Austria</td><td>Austrian Grand Prix</td><td>8</td></tr><tr><td>A1-Ring</td><td>Spielburg</td><td>Austria</td><td>Austrian Grand Prix</td><td>9</td></tr><tr><td>A1-Ring</td><td>Spielburg</td><td>Austria</td><td>Austrian Grand Prix</td><td>12</td></tr><tr><td>A1-Ring</td><td>Spielburg</td><td>Austria</td><td>Austrian Grand Prix</td><td>12</td></tr><tr><td>A1-Ring</td><td>Spielburg</td><td>Austria</td><td>Austrian Grand Prix</td><td>12</td></tr><tr><td>A1-Ring</td><td>Spielburg</td><td>Austria</td><td>Austrian Grand Prix</td><td>11</td></tr><tr><td>A1-Ring</td><td>Spielburg</td><td>Austria</td><td>Austrian Grand Prix</td><td>12</td></tr><tr><td>A1-Ring</td><td>Spielburg</td><td>Austria</td><td>Austrian Grand Prix</td><td>12</td></tr><tr><td>A1-Ring</td><td>Spielburg</td><td>Austria</td><td>Austrian Grand Prix</td><td>11</td></tr><tr><td>A1-Ring</td><td>Spielburg</td><td>Austria</td><td>Austrian Grand Prix</td><td>10</td></tr><tr><td>A1-Ring</td><td>Spielburg</td><td>Austria</td><td>Austrian Grand Prix</td><td>11</td></tr><tr><td>A1-Ring</td><td>Spielburg</td><td>Austria</td><td>Austrian Grand Prix</td><td>13</td></tr><tr><td>A1-Ring</td><td>Spielburg</td><td>Austria</td><td>Austrian Grand Prix</td><td>11</td></tr><tr><td>A1-Ring</td><td>Spielburg</td><td>Austria</td><td>Austrian Grand Prix</td><td>12</td></tr><tr><td>A1-Ring</td><td>Spielburg</td><td>Austria</td><td>Austrian Grand Prix</td><td>10</td></tr><tr><td>A1-Ring</td><td>Spielburg</td><td>Austria</td><td>Austrian Grand Prix</td><td>12</td></tr><tr><td>A1-Ring</td><td>Spielburg</td><td>Austria</td><td>Austrian Grand Prix</td><td>10</td></tr><tr><td>A1-Ring</td><td>Spielburg</td><td>Austria</td><td>Austrian Grand Prix</td><td>14</td></tr><tr><td>A1-Ring</td><td>Spielburg</td><td>Austria</td><td>Austrian Grand Prix</td><td>10</td></tr><tr><td>A1-Ring</td><td>Spielburg</td><td>Austria</td><td>Austrian Grand Prix</td><td>9</td></tr><tr><td>A1-Ring</td><td>Spielburg</td><td>Austria</td><td>Austrian Grand Prix</td><td>10</td></tr><tr><td>A1-Ring</td><td>Spielburg</td><td>Austria</td><td>Austrian Grand Prix</td><td>6</td></tr><tr><td>A1-Ring</td><td>Spielburg</td><td>Austria</td><td>Austrian Grand Prix</td><td>6</td></tr><tr><td>A1-Ring</td><td>Spielburg</td><td>Austria</td><td>Austrian Grand Prix</td><td>6</td></tr><tr><td>Yas Marina Circuit</td><td>Abu Dhabi</td><td>UAE</td><td>Abu Dhabi Grand Prix</td><td>23</td></tr><tr><td>Yas Marina Circuit</td><td>Abu Dhabi</td><td>UAE</td><td>Abu Dhabi Grand Prix</td><td>17</td></tr><tr><td>Yas Marina Circuit</td><td>Abu Dhabi</td><td>UAE</td><td>Abu Dhabi Grand Prix</td><td>21</td></tr><tr><td>Yas Marina Circuit</td><td>Abu Dhabi</td><td>UAE</td><td>Abu Dhabi Grand Prix</td><td>21</td></tr><tr><td>Yas Marina Circuit</td><td>Abu Dhabi</td><td>UAE</td><td>Abu Dhabi Grand Prix</td><td>20</td></tr><tr><td>Yas Marina Circuit</td><td>Abu Dhabi</td><td>UAE</td><td>Abu Dhabi Grand Prix</td><td>21</td></tr><tr><td>Yas Marina Circuit</td><td>Abu Dhabi</td><td>UAE</td><td>Abu Dhabi Grand Prix</td><td>19</td></tr><tr><td>Yas Marina Circuit</td><td>Abu Dhabi</td><td>UAE</td><td>Abu Dhabi Grand Prix</td><td>19</td></tr><tr><td>Yas Marina Circuit</td><td>Abu Dhabi</td><td>UAE</td><td>Abu Dhabi Grand Prix</td><td>17</td></tr><tr><td>Yas Marina Circuit</td><td>Abu Dhabi</td><td>UAE</td><td>Abu Dhabi Grand Prix</td><td>18</td></tr><tr><td>Yas Marina Circuit</td><td>Abu Dhabi</td><td>UAE</td><td>Abu Dhabi Grand Prix</td><td>18</td></tr><tr><td>Yas Marina Circuit</td><td>Abu Dhabi</td><td>UAE</td><td>Abu Dhabi Grand Prix</td><td>19</td></tr><tr><td>Yas Marina Circuit</td><td>Abu Dhabi</td><td>UAE</td><td>Abu Dhabi Grand Prix</td><td>17</td></tr><tr><td>Autódromo Juan y Oscar Gálvez</td><td>Buenos Aires</td><td>Argentina</td><td>Argentine Grand Prix</td><td>1</td></tr><tr><td>Autódromo Juan y Oscar Gálvez</td><td>Buenos Aires</td><td>Argentina</td><td>Argentine Grand Prix</td><td>1</td></tr><tr><td>Autódromo Juan y Oscar Gálvez</td><td>Buenos Aires</td><td>Argentina</td><td>Argentine Grand Prix</td><td>1</td></tr><tr><td>Autódromo Juan y Oscar Gálvez</td><td>Buenos Aires</td><td>Argentina</td><td>Argentine Grand Prix</td><td>1</td></tr><tr><td>Autódromo Juan y Oscar Gálvez</td><td>Buenos Aires</td><td>Argentina</td><td>Argentine Grand Prix</td><td>1</td></tr><tr><td>Autódromo Juan y Oscar Gálvez</td><td>Buenos Aires</td><td>Argentina</td><td>Argentine Grand Prix</td><td>1</td></tr><tr><td>Autódromo Juan y Oscar Gálvez</td><td>Buenos Aires</td><td>Argentina</td><td>Argentine Grand Prix</td><td>1</td></tr><tr><td>Autódromo Juan y Oscar Gálvez</td><td>Buenos Aires</td><td>Argentina</td><td>Argentine Grand Prix</td><td>1</td></tr><tr><td>Autódromo Juan y Oscar Gálvez</td><td>Buenos Aires</td><td>Argentina</td><td>Argentine Grand Prix</td><td>1</td></tr><tr><td>Autódromo Juan y Oscar Gálvez</td><td>Buenos Aires</td><td>Argentina</td><td>Argentine Grand Prix</td><td>1</td></tr><tr><td>Autódromo Juan y Oscar Gálvez</td><td>Buenos Aires</td><td>Argentina</td><td>Argentine Grand Prix</td><td>1</td></tr><tr><td>Autódromo Juan y Oscar Gálvez</td><td>Buenos Aires</td><td>Argentina</td><td>Argentine Grand Prix</td><td>1</td></tr><tr><td>Autódromo Juan y Oscar Gálvez</td><td>Buenos Aires</td><td>Argentina</td><td>Argentine Grand Prix</td><td>1</td></tr><tr><td>Autódromo Juan y Oscar Gálvez</td><td>Buenos Aires</td><td>Argentina</td><td>Argentine Grand Prix</td><td>1</td></tr><tr><td>Autódromo Juan y Oscar Gálvez</td><td>Buenos Aires</td><td>Argentina</td><td>Argentine Grand Prix</td><td>1</td></tr><tr><td>Autódromo Juan y Oscar Gálvez</td><td>Buenos Aires</td><td>Argentina</td><td>Argentine Grand Prix</td><td>3</td></tr><tr><td>Autódromo Juan y Oscar Gálvez</td><td>Buenos Aires</td><td>Argentina</td><td>Argentine Grand Prix</td><td>2</td></tr><tr><td>Autódromo Juan y Oscar Gálvez</td><td>Buenos Aires</td><td>Argentina</td><td>Argentine Grand Prix</td><td>3</td></tr><tr><td>Autódromo Juan y Oscar Gálvez</td><td>Buenos Aires</td><td>Argentina</td><td>Argentine Grand Prix</td><td>3</td></tr><tr><td>Autódromo Juan y Oscar Gálvez</td><td>Buenos Aires</td><td>Argentina</td><td>Argentine Grand Prix</td><td>3</td></tr><tr><td>Circuito de Jerez</td><td>Jerez de la Frontera</td><td>Spain</td><td>Spanish Grand Prix</td><td>2</td></tr><tr><td>Circuito de Jerez</td><td>Jerez de la Frontera</td><td>Spain</td><td>Spanish Grand Prix</td><td>13</td></tr><tr><td>Circuito de Jerez</td><td>Jerez de la Frontera</td><td>Spain</td><td>Spanish Grand Prix</td><td>14</td></tr><tr><td>Circuito de Jerez</td><td>Jerez de la Frontera</td><td>Spain</td><td>Spanish Grand Prix</td><td>14</td></tr><tr><td>Circuito de Jerez</td><td>Jerez de la Frontera</td><td>Spain</td><td>Spanish Grand Prix</td><td>14</td></tr><tr><td>Circuito de Jerez</td><td>Jerez de la Frontera</td><td>Spain</td><td>European Grand Prix</td><td>14</td></tr><tr><td>Circuito de Jerez</td><td>Jerez de la Frontera</td><td>Spain</td><td>European Grand Prix</td><td>17</td></tr><tr><td>Autódromo do Estoril</td><td>Estoril</td><td>Portugal</td><td>Portuguese Grand Prix</td><td>16</td></tr><tr><td>Autódromo do Estoril</td><td>Estoril</td><td>Portugal</td><td>Portuguese Grand Prix</td><td>2</td></tr><tr><td>Autódromo do Estoril</td><td>Estoril</td><td>Portugal</td><td>Portuguese Grand Prix</td><td>14</td></tr><tr><td>Autódromo do Estoril</td><td>Estoril</td><td>Portugal</td><td>Portuguese Grand Prix</td><td>12</td></tr><tr><td>Autódromo do Estoril</td><td>Estoril</td><td>Portugal</td><td>Portuguese Grand Prix</td><td>13</td></tr><tr><td>Autódromo do Estoril</td><td>Estoril</td><td>Portugal</td><td>Portuguese Grand Prix</td><td>13</td></tr><tr><td>Autódromo do Estoril</td><td>Estoril</td><td>Portugal</td><td>Portuguese Grand Prix</td><td>13</td></tr><tr><td>Autódromo do Estoril</td><td>Estoril</td><td>Portugal</td><td>Portuguese Grand Prix</td><td>13</td></tr><tr><td>Autódromo do Estoril</td><td>Estoril</td><td>Portugal</td><td>Portuguese Grand Prix</td><td>14</td></tr><tr><td>Autódromo do Estoril</td><td>Estoril</td><td>Portugal</td><td>Portuguese Grand Prix</td><td>14</td></tr><tr><td>Autódromo do Estoril</td><td>Estoril</td><td>Portugal</td><td>Portuguese Grand Prix</td><td>13</td></tr><tr><td>Autódromo do Estoril</td><td>Estoril</td><td>Portugal</td><td>Portuguese Grand Prix</td><td>13</td></tr><tr><td>Autódromo do Estoril</td><td>Estoril</td><td>Portugal</td><td>Portuguese Grand Prix</td><td>15</td></tr><tr><td>Okayama International Circuit</td><td>Okayama</td><td>Japan</td><td>Pacific Grand Prix</td><td>2</td></tr><tr><td>Okayama International Circuit</td><td>Okayama</td><td>Japan</td><td>Pacific Grand Prix</td><td>15</td></tr><tr><td>Adelaide Street Circuit</td><td>Adelaide</td><td>Australia</td><td>Australian Grand Prix</td><td>16</td></tr><tr><td>Adelaide Street Circuit</td><td>Adelaide</td><td>Australia</td><td>Australian Grand Prix</td><td>16</td></tr><tr><td>Adelaide Street Circuit</td><td>Adelaide</td><td>Australia</td><td>Australian Grand Prix</td><td>16</td></tr><tr><td>Adelaide Street Circuit</td><td>Adelaide</td><td>Australia</td><td>Australian Grand Prix</td><td>16</td></tr><tr><td>Adelaide Street Circuit</td><td>Adelaide</td><td>Australia</td><td>Australian Grand Prix</td><td>16</td></tr><tr><td>Adelaide Street Circuit</td><td>Adelaide</td><td>Australia</td><td>Australian Grand Prix</td><td>16</td></tr><tr><td>Adelaide Street Circuit</td><td>Adelaide</td><td>Australia</td><td>Australian Grand Prix</td><td>16</td></tr><tr><td>Adelaide Street Circuit</td><td>Adelaide</td><td>Australia</td><td>Australian Grand Prix</td><td>16</td></tr><tr><td>Adelaide Street Circuit</td><td>Adelaide</td><td>Australia</td><td>Australian Grand Prix</td><td>16</td></tr><tr><td>Adelaide Street Circuit</td><td>Adelaide</td><td>Australia</td><td>Australian Grand Prix</td><td>16</td></tr><tr><td>Adelaide Street Circuit</td><td>Adelaide</td><td>Australia</td><td>Australian Grand Prix</td><td>17</td></tr><tr><td>Kyalami</td><td>Midrand</td><td>South Africa</td><td>South African Grand Prix</td><td>1</td></tr><tr><td>Kyalami</td><td>Midrand</td><td>South Africa</td><td>South African Grand Prix</td><td>1</td></tr><tr><td>Kyalami</td><td>Midrand</td><td>South Africa</td><td>South African Grand Prix</td><td>1</td></tr><tr><td>Kyalami</td><td>Midrand</td><td>South Africa</td><td>South African Grand Prix</td><td>1</td></tr><tr><td>Kyalami</td><td>Midrand</td><td>South Africa</td><td>South African Grand Prix</td><td>1</td></tr><tr><td>Kyalami</td><td>Midrand</td><td>South Africa</td><td>South African Grand Prix</td><td>2</td></tr><tr><td>Kyalami</td><td>Midrand</td><td>South Africa</td><td>South African Grand Prix</td><td>3</td></tr><tr><td>Kyalami</td><td>Midrand</td><td>South Africa</td><td>South African Grand Prix</td><td>3</td></tr><tr><td>Kyalami</td><td>Midrand</td><td>South Africa</td><td>South African Grand Prix</td><td>3</td></tr><tr><td>Kyalami</td><td>Midrand</td><td>South Africa</td><td>South African Grand Prix</td><td>2</td></tr><tr><td>Kyalami</td><td>Midrand</td><td>South Africa</td><td>South African Grand Prix</td><td>3</td></tr><tr><td>Kyalami</td><td>Midrand</td><td>South Africa</td><td>South African Grand Prix</td><td>3</td></tr><tr><td>Kyalami</td><td>Midrand</td><td>South Africa</td><td>South African Grand Prix</td><td>3</td></tr><tr><td>Kyalami</td><td>Midrand</td><td>South Africa</td><td>South African Grand Prix</td><td>3</td></tr><tr><td>Kyalami</td><td>Midrand</td><td>South Africa</td><td>South African Grand Prix</td><td>1</td></tr><tr><td>Kyalami</td><td>Midrand</td><td>South Africa</td><td>South African Grand Prix</td><td>15</td></tr><tr><td>Kyalami</td><td>Midrand</td><td>South Africa</td><td>South African Grand Prix</td><td>2</td></tr><tr><td>Kyalami</td><td>Midrand</td><td>South Africa</td><td>South African Grand Prix</td><td>15</td></tr><tr><td>Kyalami</td><td>Midrand</td><td>South Africa</td><td>South African Grand Prix</td><td>1</td></tr><tr><td>Kyalami</td><td>Midrand</td><td>South Africa</td><td>South African Grand Prix</td><td>1</td></tr><tr><td>Donington Park</td><td>Castle Donington</td><td>UK</td><td>European Grand Prix</td><td>3</td></tr><tr><td>Autódromo Hermanos Rodríguez</td><td>Mexico City</td><td>Mexico</td><td>Mexico City Grand Prix</td><td>19</td></tr><tr><td>Autódromo Hermanos Rodríguez</td><td>Mexico City</td><td>Mexico</td><td>Mexican Grand Prix</td><td>18</td></tr><tr><td>Autódromo Hermanos Rodríguez</td><td>Mexico City</td><td>Mexico</td><td>Mexican Grand Prix</td><td>19</td></tr><tr><td>Autódromo Hermanos Rodríguez</td><td>Mexico City</td><td>Mexico</td><td>Mexican Grand Prix</td><td>18</td></tr><tr><td>Autódromo Hermanos Rodríguez</td><td>Mexico City</td><td>Mexico</td><td>Mexican Grand Prix</td><td>19</td></tr><tr><td>Autódromo Hermanos Rodríguez</td><td>Mexico City</td><td>Mexico</td><td>Mexican Grand Prix</td><td>17</td></tr><tr><td>Autódromo Hermanos Rodríguez</td><td>Mexico City</td><td>Mexico</td><td>Mexican Grand Prix</td><td>9</td></tr><tr><td>Autódromo Hermanos Rodríguez</td><td>Mexico City</td><td>Mexico</td><td>Mexican Grand Prix</td><td>10</td></tr><tr><td>Autódromo Hermanos Rodríguez</td><td>Mexico City</td><td>Mexico</td><td>Mexican Grand Prix</td><td>10</td></tr><tr><td>Autódromo Hermanos Rodríguez</td><td>Mexico City</td><td>Mexico</td><td>Mexican Grand Prix</td><td>9</td></tr><tr><td>Autódromo Hermanos Rodríguez</td><td>Mexico City</td><td>Mexico</td><td>Mexican Grand Prix</td><td>11</td></tr><tr><td>Autódromo Hermanos Rodríguez</td><td>Mexico City</td><td>Mexico</td><td>Mexican Grand Prix</td><td>12</td></tr><tr><td>Autódromo Hermanos Rodríguez</td><td>Mexico City</td><td>Mexico</td><td>Mexican Grand Prix</td><td>11</td></tr><tr><td>Autódromo Hermanos Rodríguez</td><td>Mexico City</td><td>Mexico</td><td>Mexican Grand Prix</td><td>13</td></tr><tr><td>Autódromo Hermanos Rodríguez</td><td>Mexico City</td><td>Mexico</td><td>Mexican Grand Prix</td><td>15</td></tr><tr><td>Autódromo Hermanos Rodríguez</td><td>Mexico City</td><td>Mexico</td><td>Mexican Grand Prix</td><td>14</td></tr><tr><td>Autódromo Hermanos Rodríguez</td><td>Mexico City</td><td>Mexico</td><td>Mexican Grand Prix</td><td>4</td></tr><tr><td>Autódromo Hermanos Rodríguez</td><td>Mexico City</td><td>Mexico</td><td>Mexican Grand Prix</td><td>4</td></tr><tr><td>Autódromo Hermanos Rodríguez</td><td>Mexico City</td><td>Mexico</td><td>Mexican Grand Prix</td><td>6</td></tr><tr><td>Autódromo Hermanos Rodríguez</td><td>Mexico City</td><td>Mexico</td><td>Mexican Grand Prix</td><td>6</td></tr><tr><td>Autódromo Hermanos Rodríguez</td><td>Mexico City</td><td>Mexico</td><td>Mexican Grand Prix</td><td>2</td></tr><tr><td>Phoenix street circuit</td><td>Phoenix</td><td>USA</td><td>United States Grand Prix</td><td>5</td></tr><tr><td>Phoenix street circuit</td><td>Phoenix</td><td>USA</td><td>United States Grand Prix</td><td>1</td></tr><tr><td>Phoenix street circuit</td><td>Phoenix</td><td>USA</td><td>United States Grand Prix</td><td>1</td></tr><tr><td>Circuit Paul Ricard</td><td>Le Castellet</td><td>France</td><td>French Grand Prix</td><td>8</td></tr><tr><td>Circuit Paul Ricard</td><td>Le Castellet</td><td>France</td><td>French Grand Prix</td><td>8</td></tr><tr><td>Circuit Paul Ricard</td><td>Le Castellet</td><td>France</td><td>French Grand Prix</td><td>8</td></tr><tr><td>Circuit Paul Ricard</td><td>Le Castellet</td><td>France</td><td>French Grand Prix</td><td>5</td></tr><tr><td>Circuit Paul Ricard</td><td>Le Castellet</td><td>France</td><td>French Grand Prix</td><td>8</td></tr><tr><td>Circuit Paul Ricard</td><td>Le Castellet</td><td>France</td><td>French Grand Prix</td><td>9</td></tr><tr><td>Circuit Paul Ricard</td><td>Le Castellet</td><td>France</td><td>French Grand Prix</td><td>8</td></tr><tr><td>Circuit Paul Ricard</td><td>Le Castellet</td><td>France</td><td>French Grand Prix</td><td>9</td></tr><tr><td>Circuit Paul Ricard</td><td>Le Castellet</td><td>France</td><td>French Grand Prix</td><td>7</td></tr><tr><td>Circuit Paul Ricard</td><td>Le Castellet</td><td>France</td><td>French Grand Prix</td><td>11</td></tr><tr><td>Circuit Paul Ricard</td><td>Le Castellet</td><td>France</td><td>French Grand Prix</td><td>3</td></tr><tr><td>Circuit Paul Ricard</td><td>Le Castellet</td><td>France</td><td>French Grand Prix</td><td>7</td></tr><tr><td>Circuit Paul Ricard</td><td>Le Castellet</td><td>France</td><td>French Grand Prix</td><td>8</td></tr><tr><td>Circuit Paul Ricard</td><td>Le Castellet</td><td>France</td><td>French Grand Prix</td><td>6</td></tr><tr><td>Circuit Paul Ricard</td><td>Le Castellet</td><td>France</td><td>French Grand Prix</td><td>7</td></tr><tr><td>Circuit Paul Ricard</td><td>Le Castellet</td><td>France</td><td>French Grand Prix</td><td>7</td></tr><tr><td>Circuit Paul Ricard</td><td>Le Castellet</td><td>France</td><td>French Grand Prix</td><td>7</td></tr><tr><td>Korean International Circuit</td><td>Yeongam County</td><td>Korea</td><td>Korean Grand Prix</td><td>14</td></tr><tr><td>Korean International Circuit</td><td>Yeongam County</td><td>Korea</td><td>Korean Grand Prix</td><td>16</td></tr><tr><td>Korean International Circuit</td><td>Yeongam County</td><td>Korea</td><td>Korean Grand Prix</td><td>16</td></tr><tr><td>Korean International Circuit</td><td>Yeongam County</td><td>Korea</td><td>Korean Grand Prix</td><td>17</td></tr><tr><td>Autódromo Internacional Nelson Piquet</td><td>Rio de Janeiro</td><td>Brazil</td><td>Brazilian Grand Prix</td><td>2</td></tr><tr><td>Autódromo Internacional Nelson Piquet</td><td>Rio de Janeiro</td><td>Brazil</td><td>Brazilian Grand Prix</td><td>2</td></tr><tr><td>Autódromo Internacional Nelson Piquet</td><td>Rio de Janeiro</td><td>Brazil</td><td>Brazilian Grand Prix</td><td>2</td></tr><tr><td>Autódromo Internacional Nelson Piquet</td><td>Rio de Janeiro</td><td>Brazil</td><td>Brazilian Grand Prix</td><td>1</td></tr><tr><td>Autódromo Internacional Nelson Piquet</td><td>Rio de Janeiro</td><td>Brazil</td><td>Brazilian Grand Prix</td><td>1</td></tr><tr><td>Autódromo Internacional Nelson Piquet</td><td>Rio de Janeiro</td><td>Brazil</td><td>Brazilian Grand Prix</td><td>1</td></tr><tr><td>Autódromo Internacional Nelson Piquet</td><td>Rio de Janeiro</td><td>Brazil</td><td>Brazilian Grand Prix</td><td>1</td></tr><tr><td>Autódromo Internacional Nelson Piquet</td><td>Rio de Janeiro</td><td>Brazil</td><td>Brazilian Grand Prix</td><td>1</td></tr><tr><td>Autódromo Internacional Nelson Piquet</td><td>Rio de Janeiro</td><td>Brazil</td><td>Brazilian Grand Prix</td><td>1</td></tr><tr><td>Autódromo Internacional Nelson Piquet</td><td>Rio de Janeiro</td><td>Brazil</td><td>Brazilian Grand Prix</td><td>1</td></tr><tr><td>Detroit Street Circuit</td><td>Detroit</td><td>USA</td><td>Detroit Grand Prix</td><td>7</td></tr><tr><td>Detroit Street Circuit</td><td>Detroit</td><td>USA</td><td>Detroit Grand Prix</td><td>7</td></tr><tr><td>Detroit Street Circuit</td><td>Detroit</td><td>USA</td><td>Detroit Grand Prix</td><td>8</td></tr><tr><td>Detroit Street Circuit</td><td>Detroit</td><td>USA</td><td>Detroit Grand Prix</td><td>6</td></tr><tr><td>Detroit Street Circuit</td><td>Detroit</td><td>USA</td><td>Detroit Grand Prix</td><td>7</td></tr><tr><td>Detroit Street Circuit</td><td>Detroit</td><td>USA</td><td>Detroit Grand Prix</td><td>5</td></tr><tr><td>Detroit Street Circuit</td><td>Detroit</td><td>USA</td><td>Detroit Grand Prix</td><td>6</td></tr><tr><td>Brands Hatch</td><td>Kent</td><td>UK</td><td>British Grand Prix</td><td>5</td></tr><tr><td>Brands Hatch</td><td>Kent</td><td>UK</td><td>British Grand Prix</td><td>4</td></tr><tr><td>Brands Hatch</td><td>Kent</td><td>UK</td><td>British Grand Prix</td><td>7</td></tr><tr><td>Brands Hatch</td><td>Kent</td><td>UK</td><td>British Grand Prix</td><td>7</td></tr><tr><td>Brands Hatch</td><td>Kent</td><td>UK</td><td>British Grand Prix</td><td>7</td></tr><tr><td>Brands Hatch</td><td>Kent</td><td>UK</td><td>British Grand Prix</td><td>10</td></tr><tr><td>Brands Hatch</td><td>Kent</td><td>UK</td><td>British Grand Prix</td><td>9</td></tr><tr><td>Brands Hatch</td><td>Kent</td><td>UK</td><td>British Grand Prix</td><td>10</td></tr><tr><td>Brands Hatch</td><td>Kent</td><td>UK</td><td>British Grand Prix</td><td>8</td></tr><tr><td>Brands Hatch</td><td>Kent</td><td>UK</td><td>British Grand Prix</td><td>10</td></tr><tr><td>Brands Hatch</td><td>Kent</td><td>UK</td><td>European Grand Prix</td><td>14</td></tr><tr><td>Brands Hatch</td><td>Kent</td><td>UK</td><td>British Grand Prix</td><td>10</td></tr><tr><td>Brands Hatch</td><td>Kent</td><td>UK</td><td>European Grand Prix</td><td>14</td></tr><tr><td>Brands Hatch</td><td>Kent</td><td>UK</td><td>British Grand Prix</td><td>9</td></tr><tr><td>Circuit Park Zandvoort</td><td>Zandvoort</td><td>Netherlands</td><td>Dutch Grand Prix</td><td>13</td></tr><tr><td>Circuit Park Zandvoort</td><td>Zandvoort</td><td>Netherlands</td><td>Dutch Grand Prix</td><td>7</td></tr><tr><td>Circuit Park Zandvoort</td><td>Zandvoort</td><td>Netherlands</td><td>Dutch Grand Prix</td><td>3</td></tr><tr><td>Circuit Park Zandvoort</td><td>Zandvoort</td><td>Netherlands</td><td>Dutch Grand Prix</td><td>5</td></tr><tr><td>Circuit Park Zandvoort</td><td>Zandvoort</td><td>Netherlands</td><td>Dutch Grand Prix</td><td>3</td></tr><tr><td>Circuit Park Zandvoort</td><td>Zandvoort</td><td>Netherlands</td><td>Dutch Grand Prix</td><td>3</td></tr><tr><td>Circuit Park Zandvoort</td><td>Zandvoort</td><td>Netherlands</td><td>Dutch Grand Prix</td><td>4</td></tr><tr><td>Circuit Park Zandvoort</td><td>Zandvoort</td><td>Netherlands</td><td>Dutch Grand Prix</td><td>2</td></tr><tr><td>Circuit Park Zandvoort</td><td>Zandvoort</td><td>Netherlands</td><td>Dutch Grand Prix</td><td>1</td></tr><tr><td>Circuit Park Zandvoort</td><td>Zandvoort</td><td>Netherlands</td><td>Dutch Grand Prix</td><td>3</td></tr><tr><td>Circuit Park Zandvoort</td><td>Zandvoort</td><td>Netherlands</td><td>Dutch Grand Prix</td><td>2</td></tr><tr><td>Circuit Park Zandvoort</td><td>Zandvoort</td><td>Netherlands</td><td>Dutch Grand Prix</td><td>6</td></tr><tr><td>Circuit Park Zandvoort</td><td>Zandvoort</td><td>Netherlands</td><td>Dutch Grand Prix</td><td>5</td></tr><tr><td>Circuit Park Zandvoort</td><td>Zandvoort</td><td>Netherlands</td><td>Dutch Grand Prix</td><td>3</td></tr><tr><td>Circuit Park Zandvoort</td><td>Zandvoort</td><td>Netherlands</td><td>Dutch Grand Prix</td><td>5</td></tr><tr><td>Circuit Park Zandvoort</td><td>Zandvoort</td><td>Netherlands</td><td>Dutch Grand Prix</td><td>4</td></tr><tr><td>Circuit Park Zandvoort</td><td>Zandvoort</td><td>Netherlands</td><td>Dutch Grand Prix</td><td>5</td></tr><tr><td>Circuit Park Zandvoort</td><td>Zandvoort</td><td>Netherlands</td><td>Dutch Grand Prix</td><td>4</td></tr><tr><td>Circuit Park Zandvoort</td><td>Zandvoort</td><td>Netherlands</td><td>Dutch Grand Prix</td><td>10</td></tr><tr><td>Circuit Park Zandvoort</td><td>Zandvoort</td><td>Netherlands</td><td>Dutch Grand Prix</td><td>8</td></tr><tr><td>Circuit Park Zandvoort</td><td>Zandvoort</td><td>Netherlands</td><td>Dutch Grand Prix</td><td>8</td></tr><tr><td>Circuit Park Zandvoort</td><td>Zandvoort</td><td>Netherlands</td><td>Dutch Grand Prix</td><td>12</td></tr><tr><td>Circuit Park Zandvoort</td><td>Zandvoort</td><td>Netherlands</td><td>Dutch Grand Prix</td><td>13</td></tr><tr><td>Circuit Park Zandvoort</td><td>Zandvoort</td><td>Netherlands</td><td>Dutch Grand Prix</td><td>13</td></tr><tr><td>Circuit Park Zandvoort</td><td>Zandvoort</td><td>Netherlands</td><td>Dutch Grand Prix</td><td>12</td></tr><tr><td>Circuit Park Zandvoort</td><td>Zandvoort</td><td>Netherlands</td><td>Dutch Grand Prix</td><td>11</td></tr><tr><td>Circuit Park Zandvoort</td><td>Zandvoort</td><td>Netherlands</td><td>Dutch Grand Prix</td><td>12</td></tr><tr><td>Circuit Park Zandvoort</td><td>Zandvoort</td><td>Netherlands</td><td>Dutch Grand Prix</td><td>9</td></tr><tr><td>Circuit Park Zandvoort</td><td>Zandvoort</td><td>Netherlands</td><td>Dutch Grand Prix</td><td>12</td></tr><tr><td>Circuit Park Zandvoort</td><td>Zandvoort</td><td>Netherlands</td><td>Dutch Grand Prix</td><td>13</td></tr><tr><td>Circuit Park Zandvoort</td><td>Zandvoort</td><td>Netherlands</td><td>Dutch Grand Prix</td><td>11</td></tr><tr><td>Zolder</td><td>Heusden-Zolder</td><td>Belgium</td><td>Belgian Grand Prix</td><td>5</td></tr><tr><td>Zolder</td><td>Heusden-Zolder</td><td>Belgium</td><td>Belgian Grand Prix</td><td>6</td></tr><tr><td>Zolder</td><td>Heusden-Zolder</td><td>Belgium</td><td>Belgian Grand Prix</td><td>5</td></tr><tr><td>Zolder</td><td>Heusden-Zolder</td><td>Belgium</td><td>Belgian Grand Prix</td><td>7</td></tr><tr><td>Zolder</td><td>Heusden-Zolder</td><td>Belgium</td><td>Belgian Grand Prix</td><td>6</td></tr><tr><td>Zolder</td><td>Heusden-Zolder</td><td>Belgium</td><td>Belgian Grand Prix</td><td>6</td></tr><tr><td>Zolder</td><td>Heusden-Zolder</td><td>Belgium</td><td>Belgian Grand Prix</td><td>5</td></tr><tr><td>Zolder</td><td>Heusden-Zolder</td><td>Belgium</td><td>Belgian Grand Prix</td><td>5</td></tr><tr><td>Zolder</td><td>Heusden-Zolder</td><td>Belgium</td><td>Belgian Grand Prix</td><td>5</td></tr><tr><td>Zolder</td><td>Heusden-Zolder</td><td>Belgium</td><td>Belgian Grand Prix</td><td>3</td></tr><tr><td>Dijon-Prenois</td><td>Dijon</td><td>France</td><td>French Grand Prix</td><td>9</td></tr><tr><td>Dijon-Prenois</td><td>Dijon</td><td>France</td><td>French Grand Prix</td><td>9</td></tr><tr><td>Dijon-Prenois</td><td>Dijon</td><td>France</td><td>French Grand Prix</td><td>8</td></tr><tr><td>Dijon-Prenois</td><td>Dijon</td><td>France</td><td>French Grand Prix</td><td>8</td></tr><tr><td>Dijon-Prenois</td><td>Dijon</td><td>France</td><td>Swiss Grand Prix</td><td>14</td></tr><tr><td>Dijon-Prenois</td><td>Dijon</td><td>France</td><td>French Grand Prix</td><td>5</td></tr><tr><td>Fair Park</td><td>Dallas</td><td>USA</td><td>Dallas Grand Prix</td><td>9</td></tr><tr><td>Long Beach</td><td>California</td><td>USA</td><td>United States Grand Prix West</td><td>3</td></tr><tr><td>Long Beach</td><td>California</td><td>USA</td><td>United States Grand Prix West</td><td>4</td></tr><tr><td>Long Beach</td><td>California</td><td>USA</td><td>United States Grand Prix West</td><td>4</td></tr><tr><td>Long Beach</td><td>California</td><td>USA</td><td>United States Grand Prix West</td><td>4</td></tr><tr><td>Long Beach</td><td>California</td><td>USA</td><td>United States Grand Prix West</td><td>4</td></tr><tr><td>Long Beach</td><td>California</td><td>USA</td><td>United States Grand Prix West</td><td>1</td></tr><tr><td>Long Beach</td><td>California</td><td>USA</td><td>United States Grand Prix West</td><td>3</td></tr><tr><td>Long Beach</td><td>California</td><td>USA</td><td>United States Grand Prix West</td><td>2</td></tr><tr><td>Las Vegas Street Circuit</td><td>Nevada</td><td>USA</td><td>Caesars Palace Grand Prix</td><td>15</td></tr><tr><td>Las Vegas Street Circuit</td><td>Nevada</td><td>USA</td><td>Caesars Palace Grand Prix</td><td>16</td></tr><tr><td>Jarama</td><td>Madrid</td><td>Spain</td><td>Spanish Grand Prix</td><td>2</td></tr><tr><td>Jarama</td><td>Madrid</td><td>Spain</td><td>Spanish Grand Prix</td><td>2</td></tr><tr><td>Jarama</td><td>Madrid</td><td>Spain</td><td>Spanish Grand Prix</td><td>3</td></tr><tr><td>Jarama</td><td>Madrid</td><td>Spain</td><td>Spanish Grand Prix</td><td>4</td></tr><tr><td>Jarama</td><td>Madrid</td><td>Spain</td><td>Spanish Grand Prix</td><td>4</td></tr><tr><td>Jarama</td><td>Madrid</td><td>Spain</td><td>Spanish Grand Prix</td><td>5</td></tr><tr><td>Jarama</td><td>Madrid</td><td>Spain</td><td>Spanish Grand Prix</td><td>7</td></tr><tr><td>Jarama</td><td>Madrid</td><td>Spain</td><td>Spanish Grand Prix</td><td>5</td></tr><tr><td>Jarama</td><td>Madrid</td><td>Spain</td><td>Spanish Grand Prix</td><td>7</td></tr><tr><td>Watkins Glen</td><td>New York State</td><td>USA</td><td>United States Grand Prix</td><td>8</td></tr><tr><td>Watkins Glen</td><td>New York State</td><td>USA</td><td>United States Grand Prix</td><td>8</td></tr><tr><td>Watkins Glen</td><td>New York State</td><td>USA</td><td>United States Grand Prix</td><td>8</td></tr><tr><td>Watkins Glen</td><td>New York State</td><td>USA</td><td>United States Grand Prix</td><td>9</td></tr><tr><td>Watkins Glen</td><td>New York State</td><td>USA</td><td>United States Grand Prix</td><td>9</td></tr><tr><td>Watkins Glen</td><td>New York State</td><td>USA</td><td>United States Grand Prix</td><td>8</td></tr><tr><td>Watkins Glen</td><td>New York State</td><td>USA</td><td>United States Grand Prix</td><td>10</td></tr><tr><td>Watkins Glen</td><td>New York State</td><td>USA</td><td>United States Grand Prix</td><td>11</td></tr><tr><td>Watkins Glen</td><td>New York State</td><td>USA</td><td>United States Grand Prix</td><td>10</td></tr><tr><td>Watkins Glen</td><td>New York State</td><td>USA</td><td>United States Grand Prix</td><td>12</td></tr><tr><td>Watkins Glen</td><td>New York State</td><td>USA</td><td>United States Grand Prix</td><td>11</td></tr><tr><td>Watkins Glen</td><td>New York State</td><td>USA</td><td>United States Grand Prix</td><td>12</td></tr><tr><td>Watkins Glen</td><td>New York State</td><td>USA</td><td>United States Grand Prix</td><td>15</td></tr><tr><td>Watkins Glen</td><td>New York State</td><td>USA</td><td>United States Grand Prix</td><td>15</td></tr><tr><td>Watkins Glen</td><td>New York State</td><td>USA</td><td>United States Grand Prix</td><td>14</td></tr><tr><td>Watkins Glen</td><td>New York State</td><td>USA</td><td>United States Grand Prix</td><td>15</td></tr><tr><td>Watkins Glen</td><td>New York State</td><td>USA</td><td>United States Grand Prix</td><td>15</td></tr><tr><td>Watkins Glen</td><td>New York State</td><td>USA</td><td>United States Grand Prix</td><td>15</td></tr><tr><td>Watkins Glen</td><td>New York State</td><td>USA</td><td>United States Grand Prix</td><td>15</td></tr><tr><td>Watkins Glen</td><td>New York State</td><td>USA</td><td>United States Grand Prix</td><td>14</td></tr><tr><td>Scandinavian Raceway</td><td>Anderstorp</td><td>Sweden</td><td>Swedish Grand Prix</td><td>7</td></tr><tr><td>Scandinavian Raceway</td><td>Anderstorp</td><td>Sweden</td><td>Swedish Grand Prix</td><td>7</td></tr><tr><td>Scandinavian Raceway</td><td>Anderstorp</td><td>Sweden</td><td>Swedish Grand Prix</td><td>7</td></tr><tr><td>Scandinavian Raceway</td><td>Anderstorp</td><td>Sweden</td><td>Swedish Grand Prix</td><td>7</td></tr><tr><td>Scandinavian Raceway</td><td>Anderstorp</td><td>Sweden</td><td>Swedish Grand Prix</td><td>8</td></tr><tr><td>Scandinavian Raceway</td><td>Anderstorp</td><td>Sweden</td><td>Swedish Grand Prix</td><td>8</td></tr><tr><td>Mosport International Raceway</td><td>Ontario</td><td>Canada</td><td>Canadian Grand Prix</td><td>8</td></tr><tr><td>Mosport International Raceway</td><td>Ontario</td><td>Canada</td><td>Canadian Grand Prix</td><td>9</td></tr><tr><td>Mosport International Raceway</td><td>Ontario</td><td>Canada</td><td>Canadian Grand Prix</td><td>10</td></tr><tr><td>Mosport International Raceway</td><td>Ontario</td><td>Canada</td><td>Canadian Grand Prix</td><td>11</td></tr><tr><td>Mosport International Raceway</td><td>Ontario</td><td>Canada</td><td>Canadian Grand Prix</td><td>14</td></tr><tr><td>Mosport International Raceway</td><td>Ontario</td><td>Canada</td><td>Canadian Grand Prix</td><td>14</td></tr><tr><td>Mosport International Raceway</td><td>Ontario</td><td>Canada</td><td>Canadian Grand Prix</td><td>14</td></tr><tr><td>Mosport International Raceway</td><td>Ontario</td><td>Canada</td><td>Canadian Grand Prix</td><td>16</td></tr><tr><td>Montjuïc</td><td>Barcelona</td><td>Spain</td><td>Spanish Grand Prix</td><td>2</td></tr><tr><td>Montjuïc</td><td>Barcelona</td><td>Spain</td><td>Spanish Grand Prix</td><td>2</td></tr><tr><td>Montjuïc</td><td>Barcelona</td><td>Spain</td><td>Spanish Grand Prix</td><td>4</td></tr><tr><td>Montjuïc</td><td>Barcelona</td><td>Spain</td><td>Spanish Grand Prix</td><td>4</td></tr><tr><td>Nivelles-Baulers</td><td>Brussels</td><td>Belgium</td><td>Belgian Grand Prix</td><td>5</td></tr><tr><td>Nivelles-Baulers</td><td>Brussels</td><td>Belgium</td><td>Belgian Grand Prix</td><td>5</td></tr><tr><td>Charade Circuit</td><td>Clermont-Ferrand</td><td>France</td><td>French Grand Prix</td><td>4</td></tr><tr><td>Charade Circuit</td><td>Clermont-Ferrand</td><td>France</td><td>French Grand Prix</td><td>5</td></tr><tr><td>Charade Circuit</td><td>Clermont-Ferrand</td><td>France</td><td>French Grand Prix</td><td>6</td></tr><tr><td>Charade Circuit</td><td>Clermont-Ferrand</td><td>France</td><td>French Grand Prix</td><td>6</td></tr><tr><td>Circuit Mont-Tremblant</td><td>Quebec</td><td>Canada</td><td>Canadian Grand Prix</td><td>10</td></tr><tr><td>Circuit Mont-Tremblant</td><td>Quebec</td><td>Canada</td><td>Canadian Grand Prix</td><td>11</td></tr><tr><td>Rouen-Les-Essarts</td><td>Rouen</td><td>France</td><td>French Grand Prix</td><td>4</td></tr><tr><td>Rouen-Les-Essarts</td><td>Rouen</td><td>France</td><td>French Grand Prix</td><td>4</td></tr><tr><td>Rouen-Les-Essarts</td><td>Rouen</td><td>France</td><td>French Grand Prix</td><td>4</td></tr><tr><td>Rouen-Les-Essarts</td><td>Rouen</td><td>France</td><td>French Grand Prix</td><td>4</td></tr><tr><td>Rouen-Les-Essarts</td><td>Rouen</td><td>France</td><td>French Grand Prix</td><td>6</td></tr><tr><td>Le Mans</td><td>Le Mans</td><td>France</td><td>French Grand Prix</td><td>5</td></tr><tr><td>Reims-Gueux</td><td>Reims</td><td>France</td><td>French Grand Prix</td><td>6</td></tr><tr><td>Reims-Gueux</td><td>Reims</td><td>France</td><td>French Grand Prix</td><td>4</td></tr><tr><td>Reims-Gueux</td><td>Reims</td><td>France</td><td>French Grand Prix</td><td>5</td></tr><tr><td>Reims-Gueux</td><td>Reims</td><td>France</td><td>French Grand Prix</td><td>4</td></tr><tr><td>Reims-Gueux</td><td>Reims</td><td>France</td><td>French Grand Prix</td><td>5</td></tr><tr><td>Reims-Gueux</td><td>Reims</td><td>France</td><td>French Grand Prix</td><td>6</td></tr><tr><td>Reims-Gueux</td><td>Reims</td><td>France</td><td>French Grand Prix</td><td>4</td></tr><tr><td>Reims-Gueux</td><td>Reims</td><td>France</td><td>French Grand Prix</td><td>6</td></tr><tr><td>Reims-Gueux</td><td>Reims</td><td>France</td><td>French Grand Prix</td><td>4</td></tr><tr><td>Reims-Gueux</td><td>Reims</td><td>France</td><td>French Grand Prix</td><td>4</td></tr><tr><td>Reims-Gueux</td><td>Reims</td><td>France</td><td>French Grand Prix</td><td>3</td></tr><tr><td>Prince George Circuit</td><td>Eastern Cape Province</td><td>South Africa</td><td>South African Grand Prix</td><td>9</td></tr><tr><td>Prince George Circuit</td><td>Eastern Cape Province</td><td>South Africa</td><td>South African Grand Prix</td><td>10</td></tr><tr><td>Prince George Circuit</td><td>Eastern Cape Province</td><td>South Africa</td><td>South African Grand Prix</td><td>1</td></tr><tr><td>Zeltweg</td><td>Styria</td><td>Austria</td><td>Austrian Grand Prix</td><td>7</td></tr><tr><td>Aintree</td><td>Liverpool</td><td>UK</td><td>British Grand Prix</td><td>6</td></tr><tr><td>Aintree</td><td>Liverpool</td><td>UK</td><td>British Grand Prix</td><td>5</td></tr><tr><td>Aintree</td><td>Liverpool</td><td>UK</td><td>British Grand Prix</td><td>5</td></tr><tr><td>Aintree</td><td>Liverpool</td><td>UK</td><td>British Grand Prix</td><td>5</td></tr><tr><td>Aintree</td><td>Liverpool</td><td>UK</td><td>British Grand Prix</td><td>5</td></tr><tr><td>Circuito da Boavista</td><td>Oporto</td><td>Portugal</td><td>Portuguese Grand Prix</td><td>9</td></tr><tr><td>Circuito da Boavista</td><td>Oporto</td><td>Portugal</td><td>Portuguese Grand Prix</td><td>8</td></tr><tr><td>Riverside International Raceway</td><td>California</td><td>USA</td><td>United States Grand Prix</td><td>10</td></tr><tr><td>AVUS</td><td>Berlin</td><td>Germany</td><td>German Grand Prix</td><td>6</td></tr><tr><td>Monsanto Park Circuit</td><td>Lisbon</td><td>Portugal</td><td>Portuguese Grand Prix</td><td>7</td></tr><tr><td>Sebring International Raceway</td><td>Florida</td><td>USA</td><td>United States Grand Prix</td><td>9</td></tr><tr><td>Ain Diab</td><td>Casablanca</td><td>Morocco</td><td>Moroccan Grand Prix</td><td>11</td></tr><tr><td>Pescara Circuit</td><td>Pescara</td><td>Italy</td><td>Pescara Grand Prix</td><td>7</td></tr><tr><td>Circuit Bremgarten</td><td>Bern</td><td>Switzerland</td><td>Swiss Grand Prix</td><td>4</td></tr><tr><td>Circuit Bremgarten</td><td>Bern</td><td>Switzerland</td><td>Swiss Grand Prix</td><td>1</td></tr><tr><td>Circuit Bremgarten</td><td>Bern</td><td>Switzerland</td><td>Swiss Grand Prix</td><td>1</td></tr><tr><td>Circuit Bremgarten</td><td>Bern</td><td>Switzerland</td><td>Swiss Grand Prix</td><td>8</td></tr><tr><td>Circuit Bremgarten</td><td>Bern</td><td>Switzerland</td><td>Swiss Grand Prix</td><td>7</td></tr><tr><td>Circuit de Pedralbes</td><td>Barcelona</td><td>Spain</td><td>Spanish Grand Prix</td><td>8</td></tr><tr><td>Circuit de Pedralbes</td><td>Barcelona</td><td>Spain</td><td>Spanish Grand Prix</td><td>9</td></tr><tr><td>Buddh International Circuit</td><td>Uttar Pradesh</td><td>India</td><td>Indian Grand Prix</td><td>16</td></tr><tr><td>Buddh International Circuit</td><td>Uttar Pradesh</td><td>India</td><td>Indian Grand Prix</td><td>17</td></tr><tr><td>Buddh International Circuit</td><td>Uttar Pradesh</td><td>India</td><td>Indian Grand Prix</td><td>17</td></tr><tr><td>Circuit of the Americas</td><td>Austin</td><td>USA</td><td>United States Grand Prix</td><td>18</td></tr><tr><td>Circuit of the Americas</td><td>Austin</td><td>USA</td><td>United States Grand Prix</td><td>19</td></tr><tr><td>Circuit of the Americas</td><td>Austin</td><td>USA</td><td>United States Grand Prix</td><td>18</td></tr><tr><td>Circuit of the Americas</td><td>Austin</td><td>USA</td><td>United States Grand Prix</td><td>17</td></tr><tr><td>Circuit of the Americas</td><td>Austin</td><td>USA</td><td>United States Grand Prix</td><td>18</td></tr><tr><td>Circuit of the Americas</td><td>Austin</td><td>USA</td><td>United States Grand Prix</td><td>16</td></tr><tr><td>Circuit of the Americas</td><td>Austin</td><td>USA</td><td>United States Grand Prix</td><td>17</td></tr><tr><td>Circuit of the Americas</td><td>Austin</td><td>USA</td><td>United States Grand Prix</td><td>18</td></tr><tr><td>Circuit of the Americas</td><td>Austin</td><td>USA</td><td>United States Grand Prix</td><td>19</td></tr><tr><td>Red Bull Ring</td><td>Spielburg</td><td>Austria</td><td>Austrian Grand Prix</td><td>9</td></tr><tr><td>Red Bull Ring</td><td>Spielburg</td><td>Austria</td><td>Styrian Grand Prix</td><td>2</td></tr><tr><td>Red Bull Ring</td><td>Spielburg</td><td>Austria</td><td>Austrian Grand Prix</td><td>1</td></tr><tr><td>Red Bull Ring</td><td>Spielburg</td><td>Austria</td><td>Austrian Grand Prix</td><td>9</td></tr><tr><td>Red Bull Ring</td><td>Spielburg</td><td>Austria</td><td>Austrian Grand Prix</td><td>9</td></tr><tr><td>Red Bull Ring</td><td>Spielburg</td><td>Austria</td><td>Austrian Grand Prix</td><td>9</td></tr><tr><td>Red Bull Ring</td><td>Spielburg</td><td>Austria</td><td>Austrian Grand Prix</td><td>9</td></tr><tr><td>Red Bull Ring</td><td>Spielburg</td><td>Austria</td><td>Austrian Grand Prix</td><td>8</td></tr><tr><td>Red Bull Ring</td><td>Spielburg</td><td>Austria</td><td>Austrian Grand Prix</td><td>8</td></tr><tr><td>Sochi Autodrom</td><td>Sochi</td><td>Russia</td><td>Russian Grand Prix</td><td>15</td></tr><tr><td>Sochi Autodrom</td><td>Sochi</td><td>Russia</td><td>Russian Grand Prix</td><td>10</td></tr><tr><td>Sochi Autodrom</td><td>Sochi</td><td>Russia</td><td>Russian Grand Prix</td><td>16</td></tr><tr><td>Sochi Autodrom</td><td>Sochi</td><td>Russia</td><td>Russian Grand Prix</td><td>16</td></tr><tr><td>Sochi Autodrom</td><td>Sochi</td><td>Russia</td><td>Russian Grand Prix</td><td>4</td></tr><tr><td>Sochi Autodrom</td><td>Sochi</td><td>Russia</td><td>Russian Grand Prix</td><td>4</td></tr><tr><td>Sochi Autodrom</td><td>Sochi</td><td>Russia</td><td>Russian Grand Prix</td><td>15</td></tr><tr><td>Sochi Autodrom</td><td>Sochi</td><td>Russia</td><td>Russian Grand Prix</td><td>16</td></tr><tr><td>Port Imperial Street Circuit</td><td>New Jersey</td><td>USA</td><td>null</td><td>null</td></tr><tr><td>Baku City Circuit</td><td>Baku</td><td>Azerbaijan</td><td>Azerbaijan Grand Prix</td><td>6</td></tr><tr><td>Baku City Circuit</td><td>Baku</td><td>Azerbaijan</td><td>Azerbaijan Grand Prix</td><td>4</td></tr><tr><td>Baku City Circuit</td><td>Baku</td><td>Azerbaijan</td><td>Azerbaijan Grand Prix</td><td>4</td></tr><tr><td>Baku City Circuit</td><td>Baku</td><td>Azerbaijan</td><td>Azerbaijan Grand Prix</td><td>8</td></tr><tr><td>Baku City Circuit</td><td>Baku</td><td>Azerbaijan</td><td>European Grand Prix</td><td>8</td></tr><tr><td>Hanoi Street Circuit</td><td>Hanoi</td><td>Vietnam</td><td>null</td><td>null</td></tr><tr><td>Autódromo Internacional do Algarve</td><td>Portimão</td><td>Portugal</td><td>Portuguese Grand Prix</td><td>12</td></tr><tr><td>Autodromo Internazionale del Mugello</td><td>Mugello</td><td>Italy</td><td>Tuscan Grand Prix</td><td>9</td></tr><tr><td>Jeddah Street Circuit</td><td>Jeddah</td><td>Saudi Arabia</td><td>Saudi Arabian Grand Prix</td><td>22</td></tr></tbody></table></div>"
      ]
     },
     "metadata": {
      "application/vnd.databricks.v1+output": {
       "addedWidgets": {},
       "aggData": [],
       "aggError": "",
       "aggOverflow": false,
       "aggSchema": [],
       "aggSeriesLimitReached": false,
       "aggType": "",
       "arguments": {},
       "columnCustomDisplayInfos": {},
       "data": [
        [
         "Albert Park Grand Prix Circuit",
         "Melbourne",
         "Australia",
         "Australian Grand Prix",
         21
        ],
        [
         "Albert Park Grand Prix Circuit",
         "Melbourne",
         "Australia",
         "Australian Grand Prix",
         1
        ],
        [
         "Albert Park Grand Prix Circuit",
         "Melbourne",
         "Australia",
         "Australian Grand Prix",
         1
        ],
        [
         "Albert Park Grand Prix Circuit",
         "Melbourne",
         "Australia",
         "Australian Grand Prix",
         1
        ],
        [
         "Albert Park Grand Prix Circuit",
         "Melbourne",
         "Australia",
         "Australian Grand Prix",
         1
        ],
        [
         "Albert Park Grand Prix Circuit",
         "Melbourne",
         "Australia",
         "Australian Grand Prix",
         1
        ],
        [
         "Albert Park Grand Prix Circuit",
         "Melbourne",
         "Australia",
         "Australian Grand Prix",
         1
        ],
        [
         "Albert Park Grand Prix Circuit",
         "Melbourne",
         "Australia",
         "Australian Grand Prix",
         1
        ],
        [
         "Albert Park Grand Prix Circuit",
         "Melbourne",
         "Australia",
         "Australian Grand Prix",
         1
        ],
        [
         "Albert Park Grand Prix Circuit",
         "Melbourne",
         "Australia",
         "Australian Grand Prix",
         1
        ],
        [
         "Albert Park Grand Prix Circuit",
         "Melbourne",
         "Australia",
         "Australian Grand Prix",
         2
        ],
        [
         "Albert Park Grand Prix Circuit",
         "Melbourne",
         "Australia",
         "Australian Grand Prix",
         1
        ],
        [
         "Albert Park Grand Prix Circuit",
         "Melbourne",
         "Australia",
         "Australian Grand Prix",
         1
        ],
        [
         "Albert Park Grand Prix Circuit",
         "Melbourne",
         "Australia",
         "Australian Grand Prix",
         1
        ],
        [
         "Albert Park Grand Prix Circuit",
         "Melbourne",
         "Australia",
         "Australian Grand Prix",
         1
        ],
        [
         "Albert Park Grand Prix Circuit",
         "Melbourne",
         "Australia",
         "Australian Grand Prix",
         1
        ],
        [
         "Albert Park Grand Prix Circuit",
         "Melbourne",
         "Australia",
         "Australian Grand Prix",
         1
        ],
        [
         "Albert Park Grand Prix Circuit",
         "Melbourne",
         "Australia",
         "Australian Grand Prix",
         1
        ],
        [
         "Albert Park Grand Prix Circuit",
         "Melbourne",
         "Australia",
         "Australian Grand Prix",
         1
        ],
        [
         "Albert Park Grand Prix Circuit",
         "Melbourne",
         "Australia",
         "Australian Grand Prix",
         1
        ],
        [
         "Albert Park Grand Prix Circuit",
         "Melbourne",
         "Australia",
         "Australian Grand Prix",
         1
        ],
        [
         "Albert Park Grand Prix Circuit",
         "Melbourne",
         "Australia",
         "Australian Grand Prix",
         3
        ],
        [
         "Albert Park Grand Prix Circuit",
         "Melbourne",
         "Australia",
         "Australian Grand Prix",
         1
        ],
        [
         "Albert Park Grand Prix Circuit",
         "Melbourne",
         "Australia",
         "Australian Grand Prix",
         1
        ],
        [
         "Albert Park Grand Prix Circuit",
         "Melbourne",
         "Australia",
         "Australian Grand Prix",
         1
        ],
        [
         "Sepang International Circuit",
         "Kuala Lumpur",
         "Malaysia",
         "Malaysian Grand Prix",
         15
        ],
        [
         "Sepang International Circuit",
         "Kuala Lumpur",
         "Malaysia",
         "Malaysian Grand Prix",
         16
        ],
        [
         "Sepang International Circuit",
         "Kuala Lumpur",
         "Malaysia",
         "Malaysian Grand Prix",
         2
        ],
        [
         "Sepang International Circuit",
         "Kuala Lumpur",
         "Malaysia",
         "Malaysian Grand Prix",
         2
        ],
        [
         "Sepang International Circuit",
         "Kuala Lumpur",
         "Malaysia",
         "Malaysian Grand Prix",
         2
        ],
        [
         "Sepang International Circuit",
         "Kuala Lumpur",
         "Malaysia",
         "Malaysian Grand Prix",
         2
        ],
        [
         "Sepang International Circuit",
         "Kuala Lumpur",
         "Malaysia",
         "Malaysian Grand Prix",
         2
        ],
        [
         "Sepang International Circuit",
         "Kuala Lumpur",
         "Malaysia",
         "Malaysian Grand Prix",
         3
        ],
        [
         "Sepang International Circuit",
         "Kuala Lumpur",
         "Malaysia",
         "Malaysian Grand Prix",
         15
        ],
        [
         "Sepang International Circuit",
         "Kuala Lumpur",
         "Malaysia",
         "Malaysian Grand Prix",
         17
        ],
        [
         "Sepang International Circuit",
         "Kuala Lumpur",
         "Malaysia",
         "Malaysian Grand Prix",
         2
        ],
        [
         "Sepang International Circuit",
         "Kuala Lumpur",
         "Malaysia",
         "Malaysian Grand Prix",
         2
        ],
        [
         "Sepang International Circuit",
         "Kuala Lumpur",
         "Malaysia",
         "Malaysian Grand Prix",
         2
        ],
        [
         "Sepang International Circuit",
         "Kuala Lumpur",
         "Malaysia",
         "Malaysian Grand Prix",
         2
        ],
        [
         "Sepang International Circuit",
         "Kuala Lumpur",
         "Malaysia",
         "Malaysian Grand Prix",
         2
        ],
        [
         "Sepang International Circuit",
         "Kuala Lumpur",
         "Malaysia",
         "Malaysian Grand Prix",
         2
        ],
        [
         "Sepang International Circuit",
         "Kuala Lumpur",
         "Malaysia",
         "Malaysian Grand Prix",
         2
        ],
        [
         "Sepang International Circuit",
         "Kuala Lumpur",
         "Malaysia",
         "Malaysian Grand Prix",
         2
        ],
        [
         "Sepang International Circuit",
         "Kuala Lumpur",
         "Malaysia",
         "Malaysian Grand Prix",
         2
        ],
        [
         "Bahrain International Circuit",
         "Sakhir",
         "Bahrain",
         "Bahrain Grand Prix",
         1
        ],
        [
         "Bahrain International Circuit",
         "Sakhir",
         "Bahrain",
         "Sakhir Grand Prix",
         16
        ],
        [
         "Bahrain International Circuit",
         "Sakhir",
         "Bahrain",
         "Bahrain Grand Prix",
         15
        ],
        [
         "Bahrain International Circuit",
         "Sakhir",
         "Bahrain",
         "Bahrain Grand Prix",
         2
        ],
        [
         "Bahrain International Circuit",
         "Sakhir",
         "Bahrain",
         "Bahrain Grand Prix",
         2
        ],
        [
         "Bahrain International Circuit",
         "Sakhir",
         "Bahrain",
         "Bahrain Grand Prix",
         3
        ],
        [
         "Bahrain International Circuit",
         "Sakhir",
         "Bahrain",
         "Bahrain Grand Prix",
         2
        ],
        [
         "Bahrain International Circuit",
         "Sakhir",
         "Bahrain",
         "Bahrain Grand Prix",
         4
        ],
        [
         "Bahrain International Circuit",
         "Sakhir",
         "Bahrain",
         "Bahrain Grand Prix",
         3
        ],
        [
         "Bahrain International Circuit",
         "Sakhir",
         "Bahrain",
         "Bahrain Grand Prix",
         4
        ],
        [
         "Bahrain International Circuit",
         "Sakhir",
         "Bahrain",
         "Bahrain Grand Prix",
         4
        ],
        [
         "Bahrain International Circuit",
         "Sakhir",
         "Bahrain",
         "Bahrain Grand Prix",
         1
        ],
        [
         "Bahrain International Circuit",
         "Sakhir",
         "Bahrain",
         "Bahrain Grand Prix",
         3
        ],
        [
         "Bahrain International Circuit",
         "Sakhir",
         "Bahrain",
         "Bahrain Grand Prix",
         3
        ],
        [
         "Bahrain International Circuit",
         "Sakhir",
         "Bahrain",
         "Bahrain Grand Prix",
         1
        ],
        [
         "Bahrain International Circuit",
         "Sakhir",
         "Bahrain",
         "Bahrain Grand Prix",
         3
        ],
        [
         "Bahrain International Circuit",
         "Sakhir",
         "Bahrain",
         "Bahrain Grand Prix",
         3
        ],
        [
         "Bahrain International Circuit",
         "Sakhir",
         "Bahrain",
         "Bahrain Grand Prix",
         4
        ],
        [
         "Circuit de Barcelona-Catalunya",
         "Montmeló",
         "Spain",
         "Spanish Grand Prix",
         4
        ],
        [
         "Circuit de Barcelona-Catalunya",
         "Montmeló",
         "Spain",
         "Spanish Grand Prix",
         6
        ],
        [
         "Circuit de Barcelona-Catalunya",
         "Montmeló",
         "Spain",
         "Spanish Grand Prix",
         5
        ],
        [
         "Circuit de Barcelona-Catalunya",
         "Montmeló",
         "Spain",
         "Spanish Grand Prix",
         5
        ],
        [
         "Circuit de Barcelona-Catalunya",
         "Montmeló",
         "Spain",
         "Spanish Grand Prix",
         5
        ],
        [
         "Circuit de Barcelona-Catalunya",
         "Montmeló",
         "Spain",
         "Spanish Grand Prix",
         5
        ],
        [
         "Circuit de Barcelona-Catalunya",
         "Montmeló",
         "Spain",
         "Spanish Grand Prix",
         5
        ],
        [
         "Circuit de Barcelona-Catalunya",
         "Montmeló",
         "Spain",
         "Spanish Grand Prix",
         5
        ],
        [
         "Circuit de Barcelona-Catalunya",
         "Montmeló",
         "Spain",
         "Spanish Grand Prix",
         5
        ],
        [
         "Circuit de Barcelona-Catalunya",
         "Montmeló",
         "Spain",
         "Spanish Grand Prix",
         5
        ],
        [
         "Circuit de Barcelona-Catalunya",
         "Montmeló",
         "Spain",
         "Spanish Grand Prix",
         5
        ],
        [
         "Circuit de Barcelona-Catalunya",
         "Montmeló",
         "Spain",
         "Spanish Grand Prix",
         5
        ],
        [
         "Circuit de Barcelona-Catalunya",
         "Montmeló",
         "Spain",
         "Spanish Grand Prix",
         14
        ],
        [
         "Circuit de Barcelona-Catalunya",
         "Montmeló",
         "Spain",
         "Spanish Grand Prix",
         4
        ],
        [
         "Circuit de Barcelona-Catalunya",
         "Montmeló",
         "Spain",
         "Spanish Grand Prix",
         5
        ],
        [
         "Circuit de Barcelona-Catalunya",
         "Montmeló",
         "Spain",
         "Spanish Grand Prix",
         5
        ],
        [
         "Circuit de Barcelona-Catalunya",
         "Montmeló",
         "Spain",
         "Spanish Grand Prix",
         4
        ],
        [
         "Circuit de Barcelona-Catalunya",
         "Montmeló",
         "Spain",
         "Spanish Grand Prix",
         7
        ],
        [
         "Circuit de Barcelona-Catalunya",
         "Montmeló",
         "Spain",
         "Spanish Grand Prix",
         6
        ],
        [
         "Circuit de Barcelona-Catalunya",
         "Montmeló",
         "Spain",
         "Spanish Grand Prix",
         5
        ],
        [
         "Circuit de Barcelona-Catalunya",
         "Montmeló",
         "Spain",
         "Spanish Grand Prix",
         5
        ],
        [
         "Circuit de Barcelona-Catalunya",
         "Montmeló",
         "Spain",
         "Spanish Grand Prix",
         5
        ],
        [
         "Circuit de Barcelona-Catalunya",
         "Montmeló",
         "Spain",
         "Spanish Grand Prix",
         5
        ],
        [
         "Circuit de Barcelona-Catalunya",
         "Montmeló",
         "Spain",
         "Spanish Grand Prix",
         5
        ],
        [
         "Circuit de Barcelona-Catalunya",
         "Montmeló",
         "Spain",
         "Spanish Grand Prix",
         5
        ],
        [
         "Circuit de Barcelona-Catalunya",
         "Montmeló",
         "Spain",
         "Spanish Grand Prix",
         5
        ],
        [
         "Circuit de Barcelona-Catalunya",
         "Montmeló",
         "Spain",
         "Spanish Grand Prix",
         5
        ],
        [
         "Circuit de Barcelona-Catalunya",
         "Montmeló",
         "Spain",
         "Spanish Grand Prix",
         6
        ],
        [
         "Circuit de Barcelona-Catalunya",
         "Montmeló",
         "Spain",
         "Spanish Grand Prix",
         4
        ],
        [
         "Circuit de Barcelona-Catalunya",
         "Montmeló",
         "Spain",
         "Spanish Grand Prix",
         4
        ],
        [
         "Circuit de Barcelona-Catalunya",
         "Montmeló",
         "Spain",
         "Spanish Grand Prix",
         5
        ],
        [
         "Istanbul Park",
         "Istanbul",
         "Turkey",
         "Turkish Grand Prix",
         14
        ],
        [
         "Istanbul Park",
         "Istanbul",
         "Turkey",
         "Turkish Grand Prix",
         4
        ],
        [
         "Istanbul Park",
         "Istanbul",
         "Turkey",
         "Turkish Grand Prix",
         7
        ],
        [
         "Istanbul Park",
         "Istanbul",
         "Turkey",
         "Turkish Grand Prix",
         14
        ],
        [
         "Istanbul Park",
         "Istanbul",
         "Turkey",
         "Turkish Grand Prix",
         14
        ],
        [
         "Istanbul Park",
         "Istanbul",
         "Turkey",
         "Turkish Grand Prix",
         12
        ],
        [
         "Istanbul Park",
         "Istanbul",
         "Turkey",
         "Turkish Grand Prix",
         5
        ],
        [
         "Istanbul Park",
         "Istanbul",
         "Turkey",
         "Turkish Grand Prix",
         7
        ],
        [
         "Circuit de Monaco",
         "Monte-Carlo",
         "Monaco",
         "Monaco Grand Prix",
         5
        ],
        [
         "Circuit de Monaco",
         "Monte-Carlo",
         "Monaco",
         "Monaco Grand Prix",
         6
        ],
        [
         "Circuit de Monaco",
         "Monte-Carlo",
         "Monaco",
         "Monaco Grand Prix",
         6
        ],
        [
         "Circuit de Monaco",
         "Monte-Carlo",
         "Monaco",
         "Monaco Grand Prix",
         6
        ],
        [
         "Circuit de Monaco",
         "Monte-Carlo",
         "Monaco",
         "Monaco Grand Prix",
         6
        ],
        [
         "Circuit de Monaco",
         "Monte-Carlo",
         "Monaco",
         "Monaco Grand Prix",
         6
        ],
        [
         "Circuit de Monaco",
         "Monte-Carlo",
         "Monaco",
         "Monaco Grand Prix",
         6
        ],
        [
         "Circuit de Monaco",
         "Monte-Carlo",
         "Monaco",
         "Monaco Grand Prix",
         6
        ],
        [
         "Circuit de Monaco",
         "Monte-Carlo",
         "Monaco",
         "Monaco Grand Prix",
         6
        ],
        [
         "Circuit de Monaco",
         "Monte-Carlo",
         "Monaco",
         "Monaco Grand Prix",
         6
        ],
        [
         "Circuit de Monaco",
         "Monte-Carlo",
         "Monaco",
         "Monaco Grand Prix",
         2
        ],
        [
         "Circuit de Monaco",
         "Monte-Carlo",
         "Monaco",
         "Monaco Grand Prix",
         2
        ],
        [
         "Circuit de Monaco",
         "Monte-Carlo",
         "Monaco",
         "Monaco Grand Prix",
         2
        ],
        [
         "Circuit de Monaco",
         "Monte-Carlo",
         "Monaco",
         "Monaco Grand Prix",
         2
        ],
        [
         "Circuit de Monaco",
         "Monte-Carlo",
         "Monaco",
         "Monaco Grand Prix",
         2
        ],
        [
         "Circuit de Monaco",
         "Monte-Carlo",
         "Monaco",
         "Monaco Grand Prix",
         1
        ],
        [
         "Circuit de Monaco",
         "Monte-Carlo",
         "Monaco",
         "Monaco Grand Prix",
         2
        ],
        [
         "Circuit de Monaco",
         "Monte-Carlo",
         "Monaco",
         "Monaco Grand Prix",
         1
        ],
        [
         "Circuit de Monaco",
         "Monte-Carlo",
         "Monaco",
         "Monaco Grand Prix",
         2
        ],
        [
         "Circuit de Monaco",
         "Monte-Carlo",
         "Monaco",
         "Monaco Grand Prix",
         1
        ],
        [
         "Circuit de Monaco",
         "Monte-Carlo",
         "Monaco",
         "Monaco Grand Prix",
         1
        ],
        [
         "Circuit de Monaco",
         "Monte-Carlo",
         "Monaco",
         "Monaco Grand Prix",
         2
        ],
        [
         "Circuit de Monaco",
         "Monte-Carlo",
         "Monaco",
         "Monaco Grand Prix",
         1
        ],
        [
         "Circuit de Monaco",
         "Monte-Carlo",
         "Monaco",
         "Monaco Grand Prix",
         2
        ],
        [
         "Circuit de Monaco",
         "Monte-Carlo",
         "Monaco",
         "Monaco Grand Prix",
         3
        ],
        [
         "Circuit de Monaco",
         "Monte-Carlo",
         "Monaco",
         "Monaco Grand Prix",
         3
        ],
        [
         "Circuit de Monaco",
         "Monte-Carlo",
         "Monaco",
         "Monaco Grand Prix",
         3
        ],
        [
         "Circuit de Monaco",
         "Monte-Carlo",
         "Monaco",
         "Monaco Grand Prix",
         3
        ],
        [
         "Circuit de Monaco",
         "Monte-Carlo",
         "Monaco",
         "Monaco Grand Prix",
         4
        ],
        [
         "Circuit de Monaco",
         "Monte-Carlo",
         "Monaco",
         "Monaco Grand Prix",
         6
        ],
        [
         "Circuit de Monaco",
         "Monte-Carlo",
         "Monaco",
         "Monaco Grand Prix",
         6
        ],
        [
         "Circuit de Monaco",
         "Monte-Carlo",
         "Monaco",
         "Monaco Grand Prix",
         5
        ],
        [
         "Circuit de Monaco",
         "Monte-Carlo",
         "Monaco",
         "Monaco Grand Prix",
         6
        ],
        [
         "Circuit de Monaco",
         "Monte-Carlo",
         "Monaco",
         "Monaco Grand Prix",
         6
        ],
        [
         "Circuit de Monaco",
         "Monte-Carlo",
         "Monaco",
         "Monaco Grand Prix",
         5
        ],
        [
         "Circuit de Monaco",
         "Monte-Carlo",
         "Monaco",
         "Monaco Grand Prix",
         7
        ],
        [
         "Circuit de Monaco",
         "Monte-Carlo",
         "Monaco",
         "Monaco Grand Prix",
         6
        ],
        [
         "Circuit de Monaco",
         "Monte-Carlo",
         "Monaco",
         "Monaco Grand Prix",
         6
        ],
        [
         "Circuit de Monaco",
         "Monte-Carlo",
         "Monaco",
         "Monaco Grand Prix",
         6
        ],
        [
         "Circuit de Monaco",
         "Monte-Carlo",
         "Monaco",
         "Monaco Grand Prix",
         5
        ],
        [
         "Circuit de Monaco",
         "Monte-Carlo",
         "Monaco",
         "Monaco Grand Prix",
         6
        ],
        [
         "Circuit de Monaco",
         "Monte-Carlo",
         "Monaco",
         "Monaco Grand Prix",
         4
        ],
        [
         "Circuit de Monaco",
         "Monte-Carlo",
         "Monaco",
         "Monaco Grand Prix",
         4
        ],
        [
         "Circuit de Monaco",
         "Monte-Carlo",
         "Monaco",
         "Monaco Grand Prix",
         4
        ],
        [
         "Circuit de Monaco",
         "Monte-Carlo",
         "Monaco",
         "Monaco Grand Prix",
         3
        ],
        [
         "Circuit de Monaco",
         "Monte-Carlo",
         "Monaco",
         "Monaco Grand Prix",
         3
        ],
        [
         "Circuit de Monaco",
         "Monte-Carlo",
         "Monaco",
         "Monaco Grand Prix",
         6
        ],
        [
         "Circuit de Monaco",
         "Monte-Carlo",
         "Monaco",
         "Monaco Grand Prix",
         4
        ],
        [
         "Circuit de Monaco",
         "Monte-Carlo",
         "Monaco",
         "Monaco Grand Prix",
         4
        ],
        [
         "Circuit de Monaco",
         "Monte-Carlo",
         "Monaco",
         "Monaco Grand Prix",
         6
        ],
        [
         "Circuit de Monaco",
         "Monte-Carlo",
         "Monaco",
         "Monaco Grand Prix",
         6
        ],
        [
         "Circuit de Monaco",
         "Monte-Carlo",
         "Monaco",
         "Monaco Grand Prix",
         4
        ],
        [
         "Circuit de Monaco",
         "Monte-Carlo",
         "Monaco",
         "Monaco Grand Prix",
         5
        ],
        [
         "Circuit de Monaco",
         "Monte-Carlo",
         "Monaco",
         "Monaco Grand Prix",
         6
        ],
        [
         "Circuit de Monaco",
         "Monte-Carlo",
         "Monaco",
         "Monaco Grand Prix",
         5
        ],
        [
         "Circuit de Monaco",
         "Monte-Carlo",
         "Monaco",
         "Monaco Grand Prix",
         6
        ],
        [
         "Circuit de Monaco",
         "Monte-Carlo",
         "Monaco",
         "Monaco Grand Prix",
         4
        ],
        [
         "Circuit de Monaco",
         "Monte-Carlo",
         "Monaco",
         "Monaco Grand Prix",
         7
        ],
        [
         "Circuit de Monaco",
         "Monte-Carlo",
         "Monaco",
         "Monaco Grand Prix",
         7
        ],
        [
         "Circuit de Monaco",
         "Monte-Carlo",
         "Monaco",
         "Monaco Grand Prix",
         7
        ],
        [
         "Circuit de Monaco",
         "Monte-Carlo",
         "Monaco",
         "Monaco Grand Prix",
         7
        ],
        [
         "Circuit de Monaco",
         "Monte-Carlo",
         "Monaco",
         "Monaco Grand Prix",
         6
        ],
        [
         "Circuit de Monaco",
         "Monte-Carlo",
         "Monaco",
         "Monaco Grand Prix",
         6
        ],
        [
         "Circuit de Monaco",
         "Monte-Carlo",
         "Monaco",
         "Monaco Grand Prix",
         7
        ],
        [
         "Circuit de Monaco",
         "Monte-Carlo",
         "Monaco",
         "Monaco Grand Prix",
         5
        ],
        [
         "Circuit de Monaco",
         "Monte-Carlo",
         "Monaco",
         "Monaco Grand Prix",
         6
        ],
        [
         "Circuit de Monaco",
         "Monte-Carlo",
         "Monaco",
         "Monaco Grand Prix",
         6
        ],
        [
         "Circuit Gilles Villeneuve",
         "Montreal",
         "Canada",
         "Canadian Grand Prix",
         7
        ],
        [
         "Circuit Gilles Villeneuve",
         "Montreal",
         "Canada",
         "Canadian Grand Prix",
         7
        ],
        [
         "Circuit Gilles Villeneuve",
         "Montreal",
         "Canada",
         "Canadian Grand Prix",
         7
        ],
        [
         "Circuit Gilles Villeneuve",
         "Montreal",
         "Canada",
         "Canadian Grand Prix",
         7
        ],
        [
         "Circuit Gilles Villeneuve",
         "Montreal",
         "Canada",
         "Canadian Grand Prix",
         7
        ],
        [
         "Circuit Gilles Villeneuve",
         "Montreal",
         "Canada",
         "Canadian Grand Prix",
         7
        ],
        [
         "Circuit Gilles Villeneuve",
         "Montreal",
         "Canada",
         "Canadian Grand Prix",
         7
        ],
        [
         "Circuit Gilles Villeneuve",
         "Montreal",
         "Canada",
         "Canadian Grand Prix",
         7
        ],
        [
         "Circuit Gilles Villeneuve",
         "Montreal",
         "Canada",
         "Canadian Grand Prix",
         7
        ],
        [
         "Circuit Gilles Villeneuve",
         "Montreal",
         "Canada",
         "Canadian Grand Prix",
         7
        ],
        [
         "Circuit Gilles Villeneuve",
         "Montreal",
         "Canada",
         "Canadian Grand Prix",
         16
        ],
        [
         "Circuit Gilles Villeneuve",
         "Montreal",
         "Canada",
         "Canadian Grand Prix",
         14
        ],
        [
         "Circuit Gilles Villeneuve",
         "Montreal",
         "Canada",
         "Canadian Grand Prix",
         13
        ],
        [
         "Circuit Gilles Villeneuve",
         "Montreal",
         "Canada",
         "Canadian Grand Prix",
         14
        ],
        [
         "Circuit Gilles Villeneuve",
         "Montreal",
         "Canada",
         "Canadian Grand Prix",
         8
        ],
        [
         "Circuit Gilles Villeneuve",
         "Montreal",
         "Canada",
         "Canadian Grand Prix",
         8
        ],
        [
         "Circuit Gilles Villeneuve",
         "Montreal",
         "Canada",
         "Canadian Grand Prix",
         7
        ],
        [
         "Circuit Gilles Villeneuve",
         "Montreal",
         "Canada",
         "Canadian Grand Prix",
         5
        ],
        [
         "Circuit Gilles Villeneuve",
         "Montreal",
         "Canada",
         "Canadian Grand Prix",
         6
        ],
        [
         "Circuit Gilles Villeneuve",
         "Montreal",
         "Canada",
         "Canadian Grand Prix",
         5
        ],
        [
         "Circuit Gilles Villeneuve",
         "Montreal",
         "Canada",
         "Canadian Grand Prix",
         6
        ],
        [
         "Circuit Gilles Villeneuve",
         "Montreal",
         "Canada",
         "Canadian Grand Prix",
         8
        ],
        [
         "Circuit Gilles Villeneuve",
         "Montreal",
         "Canada",
         "Canadian Grand Prix",
         5
        ],
        [
         "Circuit Gilles Villeneuve",
         "Montreal",
         "Canada",
         "Canadian Grand Prix",
         5
        ],
        [
         "Circuit Gilles Villeneuve",
         "Montreal",
         "Canada",
         "Canadian Grand Prix",
         7
        ],
        [
         "Circuit Gilles Villeneuve",
         "Montreal",
         "Canada",
         "Canadian Grand Prix",
         7
        ],
        [
         "Circuit Gilles Villeneuve",
         "Montreal",
         "Canada",
         "Canadian Grand Prix",
         6
        ],
        [
         "Circuit Gilles Villeneuve",
         "Montreal",
         "Canada",
         "Canadian Grand Prix",
         6
        ],
        [
         "Circuit Gilles Villeneuve",
         "Montreal",
         "Canada",
         "Canadian Grand Prix",
         8
        ],
        [
         "Circuit Gilles Villeneuve",
         "Montreal",
         "Canada",
         "Canadian Grand Prix",
         7
        ],
        [
         "Circuit Gilles Villeneuve",
         "Montreal",
         "Canada",
         "Canadian Grand Prix",
         7
        ],
        [
         "Circuit Gilles Villeneuve",
         "Montreal",
         "Canada",
         "Canadian Grand Prix",
         6
        ],
        [
         "Circuit Gilles Villeneuve",
         "Montreal",
         "Canada",
         "Canadian Grand Prix",
         8
        ],
        [
         "Circuit Gilles Villeneuve",
         "Montreal",
         "Canada",
         "Canadian Grand Prix",
         8
        ],
        [
         "Circuit Gilles Villeneuve",
         "Montreal",
         "Canada",
         "Canadian Grand Prix",
         8
        ],
        [
         "Circuit Gilles Villeneuve",
         "Montreal",
         "Canada",
         "Canadian Grand Prix",
         8
        ],
        [
         "Circuit Gilles Villeneuve",
         "Montreal",
         "Canada",
         "Canadian Grand Prix",
         8
        ],
        [
         "Circuit Gilles Villeneuve",
         "Montreal",
         "Canada",
         "Canadian Grand Prix",
         8
        ],
        [
         "Circuit Gilles Villeneuve",
         "Montreal",
         "Canada",
         "Canadian Grand Prix",
         9
        ],
        [
         "Circuit Gilles Villeneuve",
         "Montreal",
         "Canada",
         "Canadian Grand Prix",
         6
        ],
        [
         "Circuit Gilles Villeneuve",
         "Montreal",
         "Canada",
         "Canadian Grand Prix",
         7
        ],
        [
         "Circuit de Nevers Magny-Cours",
         "Magny Cours",
         "France",
         "French Grand Prix",
         7
        ],
        [
         "Circuit de Nevers Magny-Cours",
         "Magny Cours",
         "France",
         "French Grand Prix",
         8
        ],
        [
         "Circuit de Nevers Magny-Cours",
         "Magny Cours",
         "France",
         "French Grand Prix",
         8
        ],
        [
         "Circuit de Nevers Magny-Cours",
         "Magny Cours",
         "France",
         "French Grand Prix",
         7
        ],
        [
         "Circuit de Nevers Magny-Cours",
         "Magny Cours",
         "France",
         "French Grand Prix",
         7
        ],
        [
         "Circuit de Nevers Magny-Cours",
         "Magny Cours",
         "France",
         "French Grand Prix",
         9
        ],
        [
         "Circuit de Nevers Magny-Cours",
         "Magny Cours",
         "France",
         "French Grand Prix",
         8
        ],
        [
         "Circuit de Nevers Magny-Cours",
         "Magny Cours",
         "France",
         "French Grand Prix",
         8
        ],
        [
         "Circuit de Nevers Magny-Cours",
         "Magny Cours",
         "France",
         "French Grand Prix",
         7
        ],
        [
         "Circuit de Nevers Magny-Cours",
         "Magny Cours",
         "France",
         "French Grand Prix",
         9
        ],
        [
         "Circuit de Nevers Magny-Cours",
         "Magny Cours",
         "France",
         "French Grand Prix",
         10
        ],
        [
         "Circuit de Nevers Magny-Cours",
         "Magny Cours",
         "France",
         "French Grand Prix",
         11
        ],
        [
         "Circuit de Nevers Magny-Cours",
         "Magny Cours",
         "France",
         "French Grand Prix",
         10
        ],
        [
         "Circuit de Nevers Magny-Cours",
         "Magny Cours",
         "France",
         "French Grand Prix",
         10
        ],
        [
         "Circuit de Nevers Magny-Cours",
         "Magny Cours",
         "France",
         "French Grand Prix",
         10
        ],
        [
         "Circuit de Nevers Magny-Cours",
         "Magny Cours",
         "France",
         "French Grand Prix",
         11
        ],
        [
         "Circuit de Nevers Magny-Cours",
         "Magny Cours",
         "France",
         "French Grand Prix",
         8
        ],
        [
         "Circuit de Nevers Magny-Cours",
         "Magny Cours",
         "France",
         "French Grand Prix",
         8
        ],
        [
         "Silverstone Circuit",
         "Silverstone",
         "UK",
         "British Grand Prix",
         10
        ],
        [
         "Silverstone Circuit",
         "Silverstone",
         "UK",
         "70th Anniversary Grand Prix",
         5
        ],
        [
         "Silverstone Circuit",
         "Silverstone",
         "UK",
         "British Grand Prix",
         4
        ],
        [
         "Silverstone Circuit",
         "Silverstone",
         "UK",
         "British Grand Prix",
         10
        ],
        [
         "Silverstone Circuit",
         "Silverstone",
         "UK",
         "British Grand Prix",
         10
        ],
        [
         "Silverstone Circuit",
         "Silverstone",
         "UK",
         "British Grand Prix",
         10
        ],
        [
         "Silverstone Circuit",
         "Silverstone",
         "UK",
         "British Grand Prix",
         10
        ],
        [
         "Silverstone Circuit",
         "Silverstone",
         "UK",
         "British Grand Prix",
         9
        ],
        [
         "Silverstone Circuit",
         "Silverstone",
         "UK",
         "British Grand Prix",
         9
        ],
        [
         "Silverstone Circuit",
         "Silverstone",
         "UK",
         "British Grand Prix",
         8
        ],
        [
         "Silverstone Circuit",
         "Silverstone",
         "UK",
         "British Grand Prix",
         9
        ],
        [
         "Silverstone Circuit",
         "Silverstone",
         "UK",
         "British Grand Prix",
         9
        ],
        [
         "Silverstone Circuit",
         "Silverstone",
         "UK",
         "British Grand Prix",
         1
        ],
        [
         "Silverstone Circuit",
         "Silverstone",
         "UK",
         "British Grand Prix",
         5
        ],
        [
         "Silverstone Circuit",
         "Silverstone",
         "UK",
         "British Grand Prix",
         5
        ],
        [
         "Silverstone Circuit",
         "Silverstone",
         "UK",
         "British Grand Prix",
         6
        ],
        [
         "Silverstone Circuit",
         "Silverstone",
         "UK",
         "British Grand Prix",
         5
        ],
        [
         "Silverstone Circuit",
         "Silverstone",
         "UK",
         "British Grand Prix",
         6
        ],
        [
         "Silverstone Circuit",
         "Silverstone",
         "UK",
         "British Grand Prix",
         7
        ],
        [
         "Silverstone Circuit",
         "Silverstone",
         "UK",
         "British Grand Prix",
         7
        ],
        [
         "Silverstone Circuit",
         "Silverstone",
         "UK",
         "British Grand Prix",
         5
        ],
        [
         "Silverstone Circuit",
         "Silverstone",
         "UK",
         "British Grand Prix",
         5
        ],
        [
         "Silverstone Circuit",
         "Silverstone",
         "UK",
         "British Grand Prix",
         6
        ],
        [
         "Silverstone Circuit",
         "Silverstone",
         "UK",
         "British Grand Prix",
         6
        ],
        [
         "Silverstone Circuit",
         "Silverstone",
         "UK",
         "British Grand Prix",
         6
        ],
        [
         "Silverstone Circuit",
         "Silverstone",
         "UK",
         "British Grand Prix",
         9
        ],
        [
         "Silverstone Circuit",
         "Silverstone",
         "UK",
         "British Grand Prix",
         10
        ],
        [
         "Silverstone Circuit",
         "Silverstone",
         "UK",
         "British Grand Prix",
         10
        ],
        [
         "Silverstone Circuit",
         "Silverstone",
         "UK",
         "British Grand Prix",
         9
        ],
        [
         "Silverstone Circuit",
         "Silverstone",
         "UK",
         "British Grand Prix",
         9
        ],
        [
         "Silverstone Circuit",
         "Silverstone",
         "UK",
         "British Grand Prix",
         9
        ],
        [
         "Silverstone Circuit",
         "Silverstone",
         "UK",
         "British Grand Prix",
         8
        ],
        [
         "Silverstone Circuit",
         "Silverstone",
         "UK",
         "British Grand Prix",
         7
        ],
        [
         "Silverstone Circuit",
         "Silverstone",
         "UK",
         "British Grand Prix",
         8
        ],
        [
         "Silverstone Circuit",
         "Silverstone",
         "UK",
         "British Grand Prix",
         8
        ],
        [
         "Silverstone Circuit",
         "Silverstone",
         "UK",
         "British Grand Prix",
         10
        ],
        [
         "Silverstone Circuit",
         "Silverstone",
         "UK",
         "British Grand Prix",
         8
        ],
        [
         "Silverstone Circuit",
         "Silverstone",
         "UK",
         "British Grand Prix",
         8
        ],
        [
         "Silverstone Circuit",
         "Silverstone",
         "UK",
         "British Grand Prix",
         9
        ],
        [
         "Silverstone Circuit",
         "Silverstone",
         "UK",
         "British Grand Prix",
         9
        ],
        [
         "Silverstone Circuit",
         "Silverstone",
         "UK",
         "British Grand Prix",
         8
        ],
        [
         "Silverstone Circuit",
         "Silverstone",
         "UK",
         "British Grand Prix",
         8
        ],
        [
         "Silverstone Circuit",
         "Silverstone",
         "UK",
         "British Grand Prix",
         10
        ],
        [
         "Silverstone Circuit",
         "Silverstone",
         "UK",
         "British Grand Prix",
         9
        ],
        [
         "Silverstone Circuit",
         "Silverstone",
         "UK",
         "British Grand Prix",
         9
        ],
        [
         "Silverstone Circuit",
         "Silverstone",
         "UK",
         "British Grand Prix",
         8
        ],
        [
         "Silverstone Circuit",
         "Silverstone",
         "UK",
         "British Grand Prix",
         4
        ],
        [
         "Silverstone Circuit",
         "Silverstone",
         "UK",
         "British Grand Prix",
         11
        ],
        [
         "Silverstone Circuit",
         "Silverstone",
         "UK",
         "British Grand Prix",
         10
        ],
        [
         "Silverstone Circuit",
         "Silverstone",
         "UK",
         "British Grand Prix",
         11
        ],
        [
         "Silverstone Circuit",
         "Silverstone",
         "UK",
         "British Grand Prix",
         11
        ],
        [
         "Silverstone Circuit",
         "Silverstone",
         "UK",
         "British Grand Prix",
         11
        ],
        [
         "Silverstone Circuit",
         "Silverstone",
         "UK",
         "British Grand Prix",
         8
        ],
        [
         "Silverstone Circuit",
         "Silverstone",
         "UK",
         "British Grand Prix",
         9
        ],
        [
         "Silverstone Circuit",
         "Silverstone",
         "UK",
         "British Grand Prix",
         9
        ],
        [
         "Silverstone Circuit",
         "Silverstone",
         "UK",
         "British Grand Prix",
         8
        ],
        [
         "Hockenheimring",
         "Hockenheim",
         "Germany",
         "German Grand Prix",
         11
        ],
        [
         "Hockenheimring",
         "Hockenheim",
         "Germany",
         "German Grand Prix",
         11
        ],
        [
         "Hockenheimring",
         "Hockenheim",
         "Germany",
         "German Grand Prix",
         12
        ],
        [
         "Hockenheimring",
         "Hockenheim",
         "Germany",
         "German Grand Prix",
         10
        ],
        [
         "Hockenheimring",
         "Hockenheim",
         "Germany",
         "German Grand Prix",
         10
        ],
        [
         "Hockenheimring",
         "Hockenheim",
         "Germany",
         "German Grand Prix",
         8
        ],
        [
         "Hockenheimring",
         "Hockenheim",
         "Germany",
         "German Grand Prix",
         11
        ],
        [
         "Hockenheimring",
         "Hockenheim",
         "Germany",
         "German Grand Prix",
         11
        ],
        [
         "Hockenheimring",
         "Hockenheim",
         "Germany",
         "German Grand Prix",
         10
        ],
        [
         "Hockenheimring",
         "Hockenheim",
         "Germany",
         "German Grand Prix",
         9
        ],
        [
         "Hockenheimring",
         "Hockenheim",
         "Germany",
         "German Grand Prix",
         10
        ],
        [
         "Hockenheimring",
         "Hockenheim",
         "Germany",
         "German Grand Prix",
         12
        ],
        [
         "Hockenheimring",
         "Hockenheim",
         "Germany",
         "German Grand Prix",
         10
        ],
        [
         "Hockenheimring",
         "Hockenheim",
         "Germany",
         "German Grand Prix",
         11
        ],
        [
         "Hockenheimring",
         "Hockenheim",
         "Germany",
         "German Grand Prix",
         10
        ],
        [
         "Hockenheimring",
         "Hockenheim",
         "Germany",
         "German Grand Prix",
         8
        ],
        [
         "Hockenheimring",
         "Hockenheim",
         "Germany",
         "German Grand Prix",
         9
        ],
        [
         "Hockenheimring",
         "Hockenheim",
         "Germany",
         "German Grand Prix",
         9
        ],
        [
         "Hockenheimring",
         "Hockenheim",
         "Germany",
         "German Grand Prix",
         11
        ],
        [
         "Hockenheimring",
         "Hockenheim",
         "Germany",
         "German Grand Prix",
         9
        ],
        [
         "Hockenheimring",
         "Hockenheim",
         "Germany",
         "German Grand Prix",
         9
        ],
        [
         "Hockenheimring",
         "Hockenheim",
         "Germany",
         "German Grand Prix",
         10
        ],
        [
         "Hockenheimring",
         "Hockenheim",
         "Germany",
         "German Grand Prix",
         10
        ],
        [
         "Hockenheimring",
         "Hockenheim",
         "Germany",
         "German Grand Prix",
         9
        ],
        [
         "Hockenheimring",
         "Hockenheim",
         "Germany",
         "German Grand Prix",
         9
        ],
        [
         "Hockenheimring",
         "Hockenheim",
         "Germany",
         "German Grand Prix",
         11
        ],
        [
         "Hockenheimring",
         "Hockenheim",
         "Germany",
         "German Grand Prix",
         10
        ],
        [
         "Hockenheimring",
         "Hockenheim",
         "Germany",
         "German Grand Prix",
         11
        ],
        [
         "Hockenheimring",
         "Hockenheim",
         "Germany",
         "German Grand Prix",
         10
        ],
        [
         "Hockenheimring",
         "Hockenheim",
         "Germany",
         "German Grand Prix",
         11
        ],
        [
         "Hockenheimring",
         "Hockenheim",
         "Germany",
         "German Grand Prix",
         12
        ],
        [
         "Hockenheimring",
         "Hockenheim",
         "Germany",
         "German Grand Prix",
         12
        ],
        [
         "Hockenheimring",
         "Hockenheim",
         "Germany",
         "German Grand Prix",
         12
        ],
        [
         "Hockenheimring",
         "Hockenheim",
         "Germany",
         "German Grand Prix",
         12
        ],
        [
         "Hockenheimring",
         "Hockenheim",
         "Germany",
         "German Grand Prix",
         12
        ],
        [
         "Hockenheimring",
         "Hockenheim",
         "Germany",
         "German Grand Prix",
         12
        ],
        [
         "Hockenheimring",
         "Hockenheim",
         "Germany",
         "German Grand Prix",
         10
        ],
        [
         "Hungaroring",
         "Budapest",
         "Hungary",
         "Hungarian Grand Prix",
         11
        ],
        [
         "Hungaroring",
         "Budapest",
         "Hungary",
         "Hungarian Grand Prix",
         3
        ],
        [
         "Hungaroring",
         "Budapest",
         "Hungary",
         "Hungarian Grand Prix",
         12
        ],
        [
         "Hungaroring",
         "Budapest",
         "Hungary",
         "Hungarian Grand Prix",
         12
        ],
        [
         "Hungaroring",
         "Budapest",
         "Hungary",
         "Hungarian Grand Prix",
         11
        ],
        [
         "Hungaroring",
         "Budapest",
         "Hungary",
         "Hungarian Grand Prix",
         11
        ],
        [
         "Hungaroring",
         "Budapest",
         "Hungary",
         "Hungarian Grand Prix",
         10
        ],
        [
         "Hungaroring",
         "Budapest",
         "Hungary",
         "Hungarian Grand Prix",
         11
        ],
        [
         "Hungaroring",
         "Budapest",
         "Hungary",
         "Hungarian Grand Prix",
         10
        ],
        [
         "Hungaroring",
         "Budapest",
         "Hungary",
         "Hungarian Grand Prix",
         11
        ],
        [
         "Hungaroring",
         "Budapest",
         "Hungary",
         "Hungarian Grand Prix",
         11
        ],
        [
         "Hungaroring",
         "Budapest",
         "Hungary",
         "Hungarian Grand Prix",
         11
        ],
        [
         "Hungaroring",
         "Budapest",
         "Hungary",
         "Hungarian Grand Prix",
         9
        ],
        [
         "Hungaroring",
         "Budapest",
         "Hungary",
         "Hungarian Grand Prix",
         10
        ],
        [
         "Hungaroring",
         "Budapest",
         "Hungary",
         "Hungarian Grand Prix",
         10
        ],
        [
         "Hungaroring",
         "Budapest",
         "Hungary",
         "Hungarian Grand Prix",
         12
        ],
        [
         "Hungaroring",
         "Budapest",
         "Hungary",
         "Hungarian Grand Prix",
         10
        ],
        [
         "Hungaroring",
         "Budapest",
         "Hungary",
         "Hungarian Grand Prix",
         10
        ],
        [
         "Hungaroring",
         "Budapest",
         "Hungary",
         "Hungarian Grand Prix",
         11
        ],
        [
         "Hungaroring",
         "Budapest",
         "Hungary",
         "Hungarian Grand Prix",
         11
        ],
        [
         "Hungaroring",
         "Budapest",
         "Hungary",
         "Hungarian Grand Prix",
         10
        ],
        [
         "Hungaroring",
         "Budapest",
         "Hungary",
         "Hungarian Grand Prix",
         10
        ],
        [
         "Hungaroring",
         "Budapest",
         "Hungary",
         "Hungarian Grand Prix",
         12
        ],
        [
         "Hungaroring",
         "Budapest",
         "Hungary",
         "Hungarian Grand Prix",
         11
        ],
        [
         "Hungaroring",
         "Budapest",
         "Hungary",
         "Hungarian Grand Prix",
         12
        ],
        [
         "Hungaroring",
         "Budapest",
         "Hungary",
         "Hungarian Grand Prix",
         11
        ],
        [
         "Hungaroring",
         "Budapest",
         "Hungary",
         "Hungarian Grand Prix",
         12
        ],
        [
         "Hungaroring",
         "Budapest",
         "Hungary",
         "Hungarian Grand Prix",
         13
        ],
        [
         "Hungaroring",
         "Budapest",
         "Hungary",
         "Hungarian Grand Prix",
         13
        ],
        [
         "Hungaroring",
         "Budapest",
         "Hungary",
         "Hungarian Grand Prix",
         13
        ],
        [
         "Hungaroring",
         "Budapest",
         "Hungary",
         "Hungarian Grand Prix",
         13
        ],
        [
         "Hungaroring",
         "Budapest",
         "Hungary",
         "Hungarian Grand Prix",
         13
        ],
        [
         "Hungaroring",
         "Budapest",
         "Hungary",
         "Hungarian Grand Prix",
         13
        ],
        [
         "Hungaroring",
         "Budapest",
         "Hungary",
         "Hungarian Grand Prix",
         11
        ],
        [
         "Hungaroring",
         "Budapest",
         "Hungary",
         "Hungarian Grand Prix",
         11
        ],
        [
         "Hungaroring",
         "Budapest",
         "Hungary",
         "Hungarian Grand Prix",
         10
        ],
        [
         "Valencia Street Circuit",
         "Valencia",
         "Spain",
         "European Grand Prix",
         8
        ],
        [
         "Valencia Street Circuit",
         "Valencia",
         "Spain",
         "European Grand Prix",
         8
        ],
        [
         "Valencia Street Circuit",
         "Valencia",
         "Spain",
         "European Grand Prix",
         9
        ],
        [
         "Valencia Street Circuit",
         "Valencia",
         "Spain",
         "European Grand Prix",
         12
        ],
        [
         "Valencia Street Circuit",
         "Valencia",
         "Spain",
         "European Grand Prix",
         11
        ],
        [
         "Circuit de Spa-Francorchamps",
         "Spa",
         "Belgium",
         "Belgian Grand Prix",
         12
        ],
        [
         "Circuit de Spa-Francorchamps",
         "Spa",
         "Belgium",
         "Belgian Grand Prix",
         7
        ],
        [
         "Circuit de Spa-Francorchamps",
         "Spa",
         "Belgium",
         "Belgian Grand Prix",
         13
        ],
        [
         "Circuit de Spa-Francorchamps",
         "Spa",
         "Belgium",
         "Belgian Grand Prix",
         13
        ],
        [
         "Circuit de Spa-Francorchamps",
         "Spa",
         "Belgium",
         "Belgian Grand Prix",
         12
        ],
        [
         "Circuit de Spa-Francorchamps",
         "Spa",
         "Belgium",
         "Belgian Grand Prix",
         13
        ],
        [
         "Circuit de Spa-Francorchamps",
         "Spa",
         "Belgium",
         "Belgian Grand Prix",
         11
        ],
        [
         "Circuit de Spa-Francorchamps",
         "Spa",
         "Belgium",
         "Belgian Grand Prix",
         12
        ],
        [
         "Circuit de Spa-Francorchamps",
         "Spa",
         "Belgium",
         "Belgian Grand Prix",
         11
        ],
        [
         "Circuit de Spa-Francorchamps",
         "Spa",
         "Belgium",
         "Belgian Grand Prix",
         12
        ],
        [
         "Circuit de Spa-Francorchamps",
         "Spa",
         "Belgium",
         "Belgian Grand Prix",
         12
        ],
        [
         "Circuit de Spa-Francorchamps",
         "Spa",
         "Belgium",
         "Belgian Grand Prix",
         5
        ],
        [
         "Circuit de Spa-Francorchamps",
         "Spa",
         "Belgium",
         "Belgian Grand Prix",
         3
        ],
        [
         "Circuit de Spa-Francorchamps",
         "Spa",
         "Belgium",
         "Belgian Grand Prix",
         3
        ],
        [
         "Circuit de Spa-Francorchamps",
         "Spa",
         "Belgium",
         "Belgian Grand Prix",
         4
        ],
        [
         "Circuit de Spa-Francorchamps",
         "Spa",
         "Belgium",
         "Belgian Grand Prix",
         3
        ],
        [
         "Circuit de Spa-Francorchamps",
         "Spa",
         "Belgium",
         "Belgian Grand Prix",
         4
        ],
        [
         "Circuit de Spa-Francorchamps",
         "Spa",
         "Belgium",
         "Belgian Grand Prix",
         4
        ],
        [
         "Circuit de Spa-Francorchamps",
         "Spa",
         "Belgium",
         "Belgian Grand Prix",
         5
        ],
        [
         "Circuit de Spa-Francorchamps",
         "Spa",
         "Belgium",
         "Belgian Grand Prix",
         5
        ],
        [
         "Circuit de Spa-Francorchamps",
         "Spa",
         "Belgium",
         "Belgian Grand Prix",
         3
        ],
        [
         "Circuit de Spa-Francorchamps",
         "Spa",
         "Belgium",
         "Belgian Grand Prix",
         3
        ],
        [
         "Circuit de Spa-Francorchamps",
         "Spa",
         "Belgium",
         "Belgian Grand Prix",
         2
        ],
        [
         "Circuit de Spa-Francorchamps",
         "Spa",
         "Belgium",
         "Belgian Grand Prix",
         3
        ],
        [
         "Circuit de Spa-Francorchamps",
         "Spa",
         "Belgium",
         "Belgian Grand Prix",
         3
        ],
        [
         "Circuit de Spa-Francorchamps",
         "Spa",
         "Belgium",
         "Belgian Grand Prix",
         2
        ],
        [
         "Circuit de Spa-Francorchamps",
         "Spa",
         "Belgium",
         "Belgian Grand Prix",
         4
        ],
        [
         "Circuit de Spa-Francorchamps",
         "Spa",
         "Belgium",
         "Belgian Grand Prix",
         4
        ],
        [
         "Circuit de Spa-Francorchamps",
         "Spa",
         "Belgium",
         "Belgian Grand Prix",
         4
        ],
        [
         "Circuit de Spa-Francorchamps",
         "Spa",
         "Belgium",
         "Belgian Grand Prix",
         6
        ],
        [
         "Circuit de Spa-Francorchamps",
         "Spa",
         "Belgium",
         "Belgian Grand Prix",
         13
        ],
        [
         "Circuit de Spa-Francorchamps",
         "Spa",
         "Belgium",
         "Belgian Grand Prix",
         5
        ],
        [
         "Circuit de Spa-Francorchamps",
         "Spa",
         "Belgium",
         "Belgian Grand Prix",
         3
        ],
        [
         "Circuit de Spa-Francorchamps",
         "Spa",
         "Belgium",
         "Belgian Grand Prix",
         11
        ],
        [
         "Circuit de Spa-Francorchamps",
         "Spa",
         "Belgium",
         "Belgian Grand Prix",
         11
        ],
        [
         "Circuit de Spa-Francorchamps",
         "Spa",
         "Belgium",
         "Belgian Grand Prix",
         13
        ],
        [
         "Circuit de Spa-Francorchamps",
         "Spa",
         "Belgium",
         "Belgian Grand Prix",
         11
        ],
        [
         "Circuit de Spa-Francorchamps",
         "Spa",
         "Belgium",
         "Belgian Grand Prix",
         11
        ],
        [
         "Circuit de Spa-Francorchamps",
         "Spa",
         "Belgium",
         "Belgian Grand Prix",
         12
        ],
        [
         "Circuit de Spa-Francorchamps",
         "Spa",
         "Belgium",
         "Belgian Grand Prix",
         12
        ],
        [
         "Circuit de Spa-Francorchamps",
         "Spa",
         "Belgium",
         "Belgian Grand Prix",
         11
        ],
        [
         "Circuit de Spa-Francorchamps",
         "Spa",
         "Belgium",
         "Belgian Grand Prix",
         11
        ],
        [
         "Circuit de Spa-Francorchamps",
         "Spa",
         "Belgium",
         "Belgian Grand Prix",
         13
        ],
        [
         "Circuit de Spa-Francorchamps",
         "Spa",
         "Belgium",
         "Belgian Grand Prix",
         12
        ],
        [
         "Circuit de Spa-Francorchamps",
         "Spa",
         "Belgium",
         "Belgian Grand Prix",
         13
        ],
        [
         "Circuit de Spa-Francorchamps",
         "Spa",
         "Belgium",
         "Belgian Grand Prix",
         12
        ],
        [
         "Circuit de Spa-Francorchamps",
         "Spa",
         "Belgium",
         "Belgian Grand Prix",
         13
        ],
        [
         "Circuit de Spa-Francorchamps",
         "Spa",
         "Belgium",
         "Belgian Grand Prix",
         14
        ],
        [
         "Circuit de Spa-Francorchamps",
         "Spa",
         "Belgium",
         "Belgian Grand Prix",
         14
        ],
        [
         "Circuit de Spa-Francorchamps",
         "Spa",
         "Belgium",
         "Belgian Grand Prix",
         14
        ],
        [
         "Circuit de Spa-Francorchamps",
         "Spa",
         "Belgium",
         "Belgian Grand Prix",
         16
        ],
        [
         "Circuit de Spa-Francorchamps",
         "Spa",
         "Belgium",
         "Belgian Grand Prix",
         14
        ],
        [
         "Circuit de Spa-Francorchamps",
         "Spa",
         "Belgium",
         "Belgian Grand Prix",
         13
        ],
        [
         "Circuit de Spa-Francorchamps",
         "Spa",
         "Belgium",
         "Belgian Grand Prix",
         12
        ],
        [
         "Autodromo Nazionale di Monza",
         "Monza",
         "Italy",
         "Italian Grand Prix",
         14
        ],
        [
         "Autodromo Nazionale di Monza",
         "Monza",
         "Italy",
         "Italian Grand Prix",
         8
        ],
        [
         "Autodromo Nazionale di Monza",
         "Monza",
         "Italy",
         "Italian Grand Prix",
         14
        ],
        [
         "Autodromo Nazionale di Monza",
         "Monza",
         "Italy",
         "Italian Grand Prix",
         14
        ],
        [
         "Autodromo Nazionale di Monza",
         "Monza",
         "Italy",
         "Italian Grand Prix",
         13
        ],
        [
         "Autodromo Nazionale di Monza",
         "Monza",
         "Italy",
         "Italian Grand Prix",
         14
        ],
        [
         "Autodromo Nazionale di Monza",
         "Monza",
         "Italy",
         "Italian Grand Prix",
         12
        ],
        [
         "Autodromo Nazionale di Monza",
         "Monza",
         "Italy",
         "Italian Grand Prix",
         13
        ],
        [
         "Autodromo Nazionale di Monza",
         "Monza",
         "Italy",
         "Italian Grand Prix",
         12
        ],
        [
         "Autodromo Nazionale di Monza",
         "Monza",
         "Italy",
         "Italian Grand Prix",
         13
        ],
        [
         "Autodromo Nazionale di Monza",
         "Monza",
         "Italy",
         "Italian Grand Prix",
         13
        ],
        [
         "Autodromo Nazionale di Monza",
         "Monza",
         "Italy",
         "Italian Grand Prix",
         7
        ],
        [
         "Autodromo Nazionale di Monza",
         "Monza",
         "Italy",
         "Italian Grand Prix",
         7
        ],
        [
         "Autodromo Nazionale di Monza",
         "Monza",
         "Italy",
         "Italian Grand Prix",
         8
        ],
        [
         "Autodromo Nazionale di Monza",
         "Monza",
         "Italy",
         "Italian Grand Prix",
         9
        ],
        [
         "Autodromo Nazionale di Monza",
         "Monza",
         "Italy",
         "Italian Grand Prix",
         8
        ],
        [
         "Autodromo Nazionale di Monza",
         "Monza",
         "Italy",
         "Italian Grand Prix",
         7
        ],
        [
         "Autodromo Nazionale di Monza",
         "Monza",
         "Italy",
         "Italian Grand Prix",
         8
        ],
        [
         "Autodromo Nazionale di Monza",
         "Monza",
         "Italy",
         "Italian Grand Prix",
         8
        ],
        [
         "Autodromo Nazionale di Monza",
         "Monza",
         "Italy",
         "Italian Grand Prix",
         10
        ],
        [
         "Autodromo Nazionale di Monza",
         "Monza",
         "Italy",
         "Italian Grand Prix",
         8
        ],
        [
         "Autodromo Nazionale di Monza",
         "Monza",
         "Italy",
         "Italian Grand Prix",
         9
        ],
        [
         "Autodromo Nazionale di Monza",
         "Monza",
         "Italy",
         "Italian Grand Prix",
         7
        ],
        [
         "Autodromo Nazionale di Monza",
         "Monza",
         "Italy",
         "Italian Grand Prix",
         7
        ],
        [
         "Autodromo Nazionale di Monza",
         "Monza",
         "Italy",
         "Italian Grand Prix",
         7
        ],
        [
         "Autodromo Nazionale di Monza",
         "Monza",
         "Italy",
         "Italian Grand Prix",
         8
        ],
        [
         "Autodromo Nazionale di Monza",
         "Monza",
         "Italy",
         "Italian Grand Prix",
         8
        ],
        [
         "Autodromo Nazionale di Monza",
         "Monza",
         "Italy",
         "Italian Grand Prix",
         7
        ],
        [
         "Autodromo Nazionale di Monza",
         "Monza",
         "Italy",
         "Italian Grand Prix",
         9
        ],
        [
         "Autodromo Nazionale di Monza",
         "Monza",
         "Italy",
         "Italian Grand Prix",
         9
        ],
        [
         "Autodromo Nazionale di Monza",
         "Monza",
         "Italy",
         "Italian Grand Prix",
         8
        ],
        [
         "Autodromo Nazionale di Monza",
         "Monza",
         "Italy",
         "Italian Grand Prix",
         10
        ],
        [
         "Autodromo Nazionale di Monza",
         "Monza",
         "Italy",
         "Italian Grand Prix",
         9
        ],
        [
         "Autodromo Nazionale di Monza",
         "Monza",
         "Italy",
         "Italian Grand Prix",
         10
        ],
        [
         "Autodromo Nazionale di Monza",
         "Monza",
         "Italy",
         "Italian Grand Prix",
         13
        ],
        [
         "Autodromo Nazionale di Monza",
         "Monza",
         "Italy",
         "Italian Grand Prix",
         13
        ],
        [
         "Autodromo Nazionale di Monza",
         "Monza",
         "Italy",
         "Italian Grand Prix",
         13
        ],
        [
         "Autodromo Nazionale di Monza",
         "Monza",
         "Italy",
         "Italian Grand Prix",
         13
        ],
        [
         "Autodromo Nazionale di Monza",
         "Monza",
         "Italy",
         "Italian Grand Prix",
         14
        ],
        [
         "Autodromo Nazionale di Monza",
         "Monza",
         "Italy",
         "Italian Grand Prix",
         14
        ],
        [
         "Autodromo Nazionale di Monza",
         "Monza",
         "Italy",
         "Italian Grand Prix",
         13
        ],
        [
         "Autodromo Nazionale di Monza",
         "Monza",
         "Italy",
         "Italian Grand Prix",
         13
        ],
        [
         "Autodromo Nazionale di Monza",
         "Monza",
         "Italy",
         "Italian Grand Prix",
         15
        ],
        [
         "Autodromo Nazionale di Monza",
         "Monza",
         "Italy",
         "Italian Grand Prix",
         13
        ],
        [
         "Autodromo Nazionale di Monza",
         "Monza",
         "Italy",
         "Italian Grand Prix",
         14
        ],
        [
         "Autodromo Nazionale di Monza",
         "Monza",
         "Italy",
         "Italian Grand Prix",
         12
        ],
        [
         "Autodromo Nazionale di Monza",
         "Monza",
         "Italy",
         "Italian Grand Prix",
         13
        ],
        [
         "Autodromo Nazionale di Monza",
         "Monza",
         "Italy",
         "Italian Grand Prix",
         11
        ],
        [
         "Autodromo Nazionale di Monza",
         "Monza",
         "Italy",
         "Italian Grand Prix",
         12
        ],
        [
         "Autodromo Nazionale di Monza",
         "Monza",
         "Italy",
         "Italian Grand Prix",
         12
        ],
        [
         "Autodromo Nazionale di Monza",
         "Monza",
         "Italy",
         "Italian Grand Prix",
         14
        ],
        [
         "Autodromo Nazionale di Monza",
         "Monza",
         "Italy",
         "Italian Grand Prix",
         12
        ],
        [
         "Autodromo Nazionale di Monza",
         "Monza",
         "Italy",
         "Italian Grand Prix",
         12
        ],
        [
         "Autodromo Nazionale di Monza",
         "Monza",
         "Italy",
         "Italian Grand Prix",
         13
        ],
        [
         "Autodromo Nazionale di Monza",
         "Monza",
         "Italy",
         "Italian Grand Prix",
         13
        ],
        [
         "Autodromo Nazionale di Monza",
         "Monza",
         "Italy",
         "Italian Grand Prix",
         12
        ],
        [
         "Autodromo Nazionale di Monza",
         "Monza",
         "Italy",
         "Italian Grand Prix",
         12
        ],
        [
         "Autodromo Nazionale di Monza",
         "Monza",
         "Italy",
         "Italian Grand Prix",
         14
        ],
        [
         "Autodromo Nazionale di Monza",
         "Monza",
         "Italy",
         "Italian Grand Prix",
         13
        ],
        [
         "Autodromo Nazionale di Monza",
         "Monza",
         "Italy",
         "Italian Grand Prix",
         14
        ],
        [
         "Autodromo Nazionale di Monza",
         "Monza",
         "Italy",
         "Italian Grand Prix",
         13
        ],
        [
         "Autodromo Nazionale di Monza",
         "Monza",
         "Italy",
         "Italian Grand Prix",
         14
        ],
        [
         "Autodromo Nazionale di Monza",
         "Monza",
         "Italy",
         "Italian Grand Prix",
         15
        ],
        [
         "Autodromo Nazionale di Monza",
         "Monza",
         "Italy",
         "Italian Grand Prix",
         15
        ],
        [
         "Autodromo Nazionale di Monza",
         "Monza",
         "Italy",
         "Italian Grand Prix",
         14
        ],
        [
         "Autodromo Nazionale di Monza",
         "Monza",
         "Italy",
         "Italian Grand Prix",
         15
        ],
        [
         "Autodromo Nazionale di Monza",
         "Monza",
         "Italy",
         "Italian Grand Prix",
         15
        ],
        [
         "Autodromo Nazionale di Monza",
         "Monza",
         "Italy",
         "Italian Grand Prix",
         15
        ],
        [
         "Autodromo Nazionale di Monza",
         "Monza",
         "Italy",
         "Italian Grand Prix",
         13
        ],
        [
         "Autodromo Nazionale di Monza",
         "Monza",
         "Italy",
         "Italian Grand Prix",
         14
        ],
        [
         "Autodromo Nazionale di Monza",
         "Monza",
         "Italy",
         "Italian Grand Prix",
         13
        ],
        [
         "Marina Bay Street Circuit",
         "Marina Bay",
         "Singapore",
         "Singapore Grand Prix",
         16
        ],
        [
         "Marina Bay Street Circuit",
         "Marina Bay",
         "Singapore",
         "Singapore Grand Prix",
         15
        ],
        [
         "Marina Bay Street Circuit",
         "Marina Bay",
         "Singapore",
         "Singapore Grand Prix",
         15
        ],
        [
         "Marina Bay Street Circuit",
         "Marina Bay",
         "Singapore",
         "Singapore Grand Prix",
         14
        ],
        [
         "Marina Bay Street Circuit",
         "Marina Bay",
         "Singapore",
         "Singapore Grand Prix",
         15
        ],
        [
         "Marina Bay Street Circuit",
         "Marina Bay",
         "Singapore",
         "Singapore Grand Prix",
         13
        ],
        [
         "Marina Bay Street Circuit",
         "Marina Bay",
         "Singapore",
         "Singapore Grand Prix",
         14
        ],
        [
         "Marina Bay Street Circuit",
         "Marina Bay",
         "Singapore",
         "Singapore Grand Prix",
         13
        ],
        [
         "Marina Bay Street Circuit",
         "Marina Bay",
         "Singapore",
         "Singapore Grand Prix",
         14
        ],
        [
         "Marina Bay Street Circuit",
         "Marina Bay",
         "Singapore",
         "Singapore Grand Prix",
         14
        ],
        [
         "Marina Bay Street Circuit",
         "Marina Bay",
         "Singapore",
         "Singapore Grand Prix",
         15
        ],
        [
         "Marina Bay Street Circuit",
         "Marina Bay",
         "Singapore",
         "Singapore Grand Prix",
         15
        ],
        [
         "Marina Bay Street Circuit",
         "Marina Bay",
         "Singapore",
         "Singapore Grand Prix",
         14
        ],
        [
         "Fuji Speedway",
         "Oyama",
         "Japan",
         "Japanese Grand Prix",
         16
        ],
        [
         "Fuji Speedway",
         "Oyama",
         "Japan",
         "Japanese Grand Prix",
         17
        ],
        [
         "Fuji Speedway",
         "Oyama",
         "Japan",
         "Japanese Grand Prix",
         15
        ],
        [
         "Fuji Speedway",
         "Oyama",
         "Japan",
         "Japanese Grand Prix",
         16
        ],
        [
         "Shanghai International Circuit",
         "Shanghai",
         "China",
         "Chinese Grand Prix",
         3
        ],
        [
         "Shanghai International Circuit",
         "Shanghai",
         "China",
         "Chinese Grand Prix",
         3
        ],
        [
         "Shanghai International Circuit",
         "Shanghai",
         "China",
         "Chinese Grand Prix",
         2
        ],
        [
         "Shanghai International Circuit",
         "Shanghai",
         "China",
         "Chinese Grand Prix",
         3
        ],
        [
         "Shanghai International Circuit",
         "Shanghai",
         "China",
         "Chinese Grand Prix",
         3
        ],
        [
         "Shanghai International Circuit",
         "Shanghai",
         "China",
         "Chinese Grand Prix",
         4
        ],
        [
         "Shanghai International Circuit",
         "Shanghai",
         "China",
         "Chinese Grand Prix",
         3
        ],
        [
         "Shanghai International Circuit",
         "Shanghai",
         "China",
         "Chinese Grand Prix",
         3
        ],
        [
         "Shanghai International Circuit",
         "Shanghai",
         "China",
         "Chinese Grand Prix",
         3
        ],
        [
         "Shanghai International Circuit",
         "Shanghai",
         "China",
         "Chinese Grand Prix",
         4
        ],
        [
         "Shanghai International Circuit",
         "Shanghai",
         "China",
         "Chinese Grand Prix",
         16
        ],
        [
         "Shanghai International Circuit",
         "Shanghai",
         "China",
         "Chinese Grand Prix",
         19
        ],
        [
         "Shanghai International Circuit",
         "Shanghai",
         "China",
         "Chinese Grand Prix",
         16
        ],
        [
         "Shanghai International Circuit",
         "Shanghai",
         "China",
         "Chinese Grand Prix",
         16
        ],
        [
         "Shanghai International Circuit",
         "Shanghai",
         "China",
         "Chinese Grand Prix",
         17
        ],
        [
         "Shanghai International Circuit",
         "Shanghai",
         "China",
         "Chinese Grand Prix",
         3
        ],
        [
         "Autódromo José Carlos Pace",
         "São Paulo",
         "Brazil",
         "Brazilian Grand Prix",
         20
        ],
        [
         "Autódromo José Carlos Pace",
         "São Paulo",
         "Brazil",
         "Brazilian Grand Prix",
         20
        ],
        [
         "Autódromo José Carlos Pace",
         "São Paulo",
         "Brazil",
         "Brazilian Grand Prix",
         20
        ],
        [
         "Autódromo José Carlos Pace",
         "São Paulo",
         "Brazil",
         "Brazilian Grand Prix",
         19
        ],
        [
         "Autódromo José Carlos Pace",
         "São Paulo",
         "Brazil",
         "Brazilian Grand Prix",
         20
        ],
        [
         "Autódromo José Carlos Pace",
         "São Paulo",
         "Brazil",
         "Brazilian Grand Prix",
         18
        ],
        [
         "Autódromo José Carlos Pace",
         "São Paulo",
         "Brazil",
         "Brazilian Grand Prix",
         18
        ],
        [
         "Autódromo José Carlos Pace",
         "São Paulo",
         "Brazil",
         "Brazilian Grand Prix",
         19
        ],
        [
         "Autódromo José Carlos Pace",
         "São Paulo",
         "Brazil",
         "Brazilian Grand Prix",
         20
        ],
        [
         "Autódromo José Carlos Pace",
         "São Paulo",
         "Brazil",
         "Brazilian Grand Prix",
         19
        ],
        [
         "Autódromo José Carlos Pace",
         "São Paulo",
         "Brazil",
         "Brazilian Grand Prix",
         2
        ],
        [
         "Autódromo José Carlos Pace",
         "São Paulo",
         "Brazil",
         "Brazilian Grand Prix",
         2
        ],
        [
         "Autódromo José Carlos Pace",
         "São Paulo",
         "Brazil",
         "Brazilian Grand Prix",
         2
        ],
        [
         "Autódromo José Carlos Pace",
         "São Paulo",
         "Brazil",
         "Brazilian Grand Prix",
         1
        ],
        [
         "Autódromo José Carlos Pace",
         "São Paulo",
         "Brazil",
         "Brazilian Grand Prix",
         2
        ],
        [
         "Autódromo José Carlos Pace",
         "São Paulo",
         "Brazil",
         "Brazilian Grand Prix",
         2
        ],
        [
         "Autódromo José Carlos Pace",
         "São Paulo",
         "Brazil",
         "Brazilian Grand Prix",
         2
        ],
        [
         "Autódromo José Carlos Pace",
         "São Paulo",
         "Brazil",
         "Brazilian Grand Prix",
         18
        ],
        [
         "Autódromo José Carlos Pace",
         "São Paulo",
         "Brazil",
         "Brazilian Grand Prix",
         2
        ],
        [
         "Autódromo José Carlos Pace",
         "São Paulo",
         "Brazil",
         "Brazilian Grand Prix",
         2
        ],
        [
         "Autódromo José Carlos Pace",
         "São Paulo",
         "Brazil",
         "Brazilian Grand Prix",
         3
        ],
        [
         "Autódromo José Carlos Pace",
         "São Paulo",
         "Brazil",
         "Brazilian Grand Prix",
         2
        ],
        [
         "Autódromo José Carlos Pace",
         "São Paulo",
         "Brazil",
         "Brazilian Grand Prix",
         1
        ],
        [
         "Autódromo José Carlos Pace",
         "São Paulo",
         "Brazil",
         "Brazilian Grand Prix",
         1
        ],
        [
         "Autódromo José Carlos Pace",
         "São Paulo",
         "Brazil",
         "Brazilian Grand Prix",
         2
        ],
        [
         "Autódromo José Carlos Pace",
         "São Paulo",
         "Brazil",
         "Brazilian Grand Prix",
         2
        ],
        [
         "Autódromo José Carlos Pace",
         "São Paulo",
         "Brazil",
         "Brazilian Grand Prix",
         2
        ],
        [
         "Autódromo José Carlos Pace",
         "São Paulo",
         "Brazil",
         "Brazilian Grand Prix",
         2
        ],
        [
         "Autódromo José Carlos Pace",
         "São Paulo",
         "Brazil",
         "Brazilian Grand Prix",
         2
        ],
        [
         "Autódromo José Carlos Pace",
         "São Paulo",
         "Brazil",
         "Brazilian Grand Prix",
         3
        ],
        [
         "Autódromo José Carlos Pace",
         "São Paulo",
         "Brazil",
         "Brazilian Grand Prix",
         3
        ],
        [
         "Autódromo José Carlos Pace",
         "São Paulo",
         "Brazil",
         "Brazilian Grand Prix",
         3
        ],
        [
         "Autódromo José Carlos Pace",
         "São Paulo",
         "Brazil",
         "Brazilian Grand Prix",
         18
        ],
        [
         "Autódromo José Carlos Pace",
         "São Paulo",
         "Brazil",
         "Brazilian Grand Prix",
         17
        ],
        [
         "Autódromo José Carlos Pace",
         "São Paulo",
         "Brazil",
         "Brazilian Grand Prix",
         18
        ],
        [
         "Autódromo José Carlos Pace",
         "São Paulo",
         "Brazil",
         "Brazilian Grand Prix",
         17
        ],
        [
         "Autódromo José Carlos Pace",
         "São Paulo",
         "Brazil",
         "Brazilian Grand Prix",
         18
        ],
        [
         "Autódromo José Carlos Pace",
         "São Paulo",
         "Brazil",
         "Brazilian Grand Prix",
         16
        ],
        [
         "Indianapolis Motor Speedway",
         "Indianapolis",
         "USA",
         "Indianapolis 500",
         3
        ],
        [
         "Indianapolis Motor Speedway",
         "Indianapolis",
         "USA",
         "Indianapolis 500",
         2
        ],
        [
         "Indianapolis Motor Speedway",
         "Indianapolis",
         "USA",
         "Indianapolis 500",
         2
        ],
        [
         "Indianapolis Motor Speedway",
         "Indianapolis",
         "USA",
         "Indianapolis 500",
         2
        ],
        [
         "Indianapolis Motor Speedway",
         "Indianapolis",
         "USA",
         "Indianapolis 500",
         2
        ],
        [
         "Indianapolis Motor Speedway",
         "Indianapolis",
         "USA",
         "Indianapolis 500",
         3
        ],
        [
         "Indianapolis Motor Speedway",
         "Indianapolis",
         "USA",
         "Indianapolis 500",
         3
        ],
        [
         "Indianapolis Motor Speedway",
         "Indianapolis",
         "USA",
         "Indianapolis 500",
         3
        ],
        [
         "Indianapolis Motor Speedway",
         "Indianapolis",
         "USA",
         "Indianapolis 500",
         4
        ],
        [
         "Indianapolis Motor Speedway",
         "Indianapolis",
         "USA",
         "Indianapolis 500",
         2
        ],
        [
         "Indianapolis Motor Speedway",
         "Indianapolis",
         "USA",
         "Indianapolis 500",
         3
        ],
        [
         "Indianapolis Motor Speedway",
         "Indianapolis",
         "USA",
         "United States Grand Prix",
         15
        ],
        [
         "Indianapolis Motor Speedway",
         "Indianapolis",
         "USA",
         "United States Grand Prix",
         16
        ],
        [
         "Indianapolis Motor Speedway",
         "Indianapolis",
         "USA",
         "United States Grand Prix",
         16
        ],
        [
         "Indianapolis Motor Speedway",
         "Indianapolis",
         "USA",
         "United States Grand Prix",
         15
        ],
        [
         "Indianapolis Motor Speedway",
         "Indianapolis",
         "USA",
         "United States Grand Prix",
         9
        ],
        [
         "Indianapolis Motor Speedway",
         "Indianapolis",
         "USA",
         "United States Grand Prix",
         9
        ],
        [
         "Indianapolis Motor Speedway",
         "Indianapolis",
         "USA",
         "United States Grand Prix",
         10
        ],
        [
         "Indianapolis Motor Speedway",
         "Indianapolis",
         "USA",
         "United States Grand Prix",
         7
        ],
        [
         "Nürburgring",
         "Nürburg",
         "Germany",
         "TBC",
         3
        ],
        [
         "Nürburgring",
         "Nürburg",
         "Germany",
         "Eifel Grand Prix",
         11
        ],
        [
         "Nürburgring",
         "Nürburg",
         "Germany",
         "German Grand Prix",
         9
        ],
        [
         "Nürburgring",
         "Nürburg",
         "Germany",
         "German Grand Prix",
         10
        ],
        [
         "Nürburgring",
         "Nürburg",
         "Germany",
         "German Grand Prix",
         6
        ],
        [
         "Nürburgring",
         "Nürburg",
         "Germany",
         "German Grand Prix",
         6
        ],
        [
         "Nürburgring",
         "Nürburg",
         "Germany",
         "German Grand Prix",
         7
        ],
        [
         "Nürburgring",
         "Nürburg",
         "Germany",
         "German Grand Prix",
         6
        ],
        [
         "Nürburgring",
         "Nürburg",
         "Germany",
         "German Grand Prix",
         7
        ],
        [
         "Nürburgring",
         "Nürburg",
         "Germany",
         "German Grand Prix",
         6
        ],
        [
         "Nürburgring",
         "Nürburg",
         "Germany",
         "German Grand Prix",
         8
        ],
        [
         "Nürburgring",
         "Nürburg",
         "Germany",
         "German Grand Prix",
         6
        ],
        [
         "Nürburgring",
         "Nürburg",
         "Germany",
         "German Grand Prix",
         6
        ],
        [
         "Nürburgring",
         "Nürburg",
         "Germany",
         "German Grand Prix",
         6
        ],
        [
         "Nürburgring",
         "Nürburg",
         "Germany",
         "German Grand Prix",
         6
        ],
        [
         "Nürburgring",
         "Nürburg",
         "Germany",
         "German Grand Prix",
         7
        ],
        [
         "Nürburgring",
         "Nürburg",
         "Germany",
         "German Grand Prix",
         6
        ],
        [
         "Nürburgring",
         "Nürburg",
         "Germany",
         "German Grand Prix",
         7
        ],
        [
         "Nürburgring",
         "Nürburg",
         "Germany",
         "German Grand Prix",
         8
        ],
        [
         "Nürburgring",
         "Nürburg",
         "Germany",
         "German Grand Prix",
         7
        ],
        [
         "Nürburgring",
         "Nürburg",
         "Germany",
         "German Grand Prix",
         7
        ],
        [
         "Nürburgring",
         "Nürburg",
         "Germany",
         "German Grand Prix",
         8
        ],
        [
         "Nürburgring",
         "Nürburg",
         "Germany",
         "German Grand Prix",
         11
        ],
        [
         "Nürburgring",
         "Nürburg",
         "Germany",
         "German Grand Prix",
         11
        ],
        [
         "Nürburgring",
         "Nürburg",
         "Germany",
         "German Grand Prix",
         11
        ],
        [
         "Nürburgring",
         "Nürburg",
         "Germany",
         "German Grand Prix",
         10
        ],
        [
         "Nürburgring",
         "Nürburg",
         "Germany",
         "European Grand Prix",
         15
        ],
        [
         "Nürburgring",
         "Nürburg",
         "Germany",
         "German Grand Prix",
         9
        ],
        [
         "Nürburgring",
         "Nürburg",
         "Germany",
         "European Grand Prix",
         14
        ],
        [
         "Nürburgring",
         "Nürburg",
         "Germany",
         "European Grand Prix",
         4
        ],
        [
         "Nürburgring",
         "Nürburg",
         "Germany",
         "Luxembourg Grand Prix",
         15
        ],
        [
         "Nürburgring",
         "Nürburg",
         "Germany",
         "Luxembourg Grand Prix",
         15
        ],
        [
         "Nürburgring",
         "Nürburg",
         "Germany",
         "European Grand Prix",
         14
        ],
        [
         "Nürburgring",
         "Nürburg",
         "Germany",
         "European Grand Prix",
         6
        ],
        [
         "Nürburgring",
         "Nürburg",
         "Germany",
         "European Grand Prix",
         9
        ],
        [
         "Nürburgring",
         "Nürburg",
         "Germany",
         "European Grand Prix",
         9
        ],
        [
         "Nürburgring",
         "Nürburg",
         "Germany",
         "European Grand Prix",
         9
        ],
        [
         "Nürburgring",
         "Nürburg",
         "Germany",
         "European Grand Prix",
         7
        ],
        [
         "Nürburgring",
         "Nürburg",
         "Germany",
         "European Grand Prix",
         7
        ],
        [
         "Nürburgring",
         "Nürburg",
         "Germany",
         "European Grand Prix",
         5
        ],
        [
         "Nürburgring",
         "Nürburg",
         "Germany",
         "European Grand Prix",
         10
        ],
        [
         "Nürburgring",
         "Nürburg",
         "Germany",
         "German Grand Prix",
         9
        ],
        [
         "Autodromo Enzo e Dino Ferrari",
         "Imola",
         "Italy",
         "Emilia Romagna Grand Prix",
         2
        ],
        [
         "Autodromo Enzo e Dino Ferrari",
         "Imola",
         "Italy",
         "Emilia Romagna Grand Prix",
         13
        ],
        [
         "Autodromo Enzo e Dino Ferrari",
         "Imola",
         "Italy",
         "Italian Grand Prix",
         12
        ],
        [
         "Autodromo Enzo e Dino Ferrari",
         "Imola",
         "Italy",
         "San Marino Grand Prix",
         4
        ],
        [
         "Autodromo Enzo e Dino Ferrari",
         "Imola",
         "Italy",
         "San Marino Grand Prix",
         4
        ],
        [
         "Autodromo Enzo e Dino Ferrari",
         "Imola",
         "Italy",
         "San Marino Grand Prix",
         4
        ],
        [
         "Autodromo Enzo e Dino Ferrari",
         "Imola",
         "Italy",
         "San Marino Grand Prix",
         4
        ],
        [
         "Autodromo Enzo e Dino Ferrari",
         "Imola",
         "Italy",
         "San Marino Grand Prix",
         3
        ],
        [
         "Autodromo Enzo e Dino Ferrari",
         "Imola",
         "Italy",
         "San Marino Grand Prix",
         3
        ],
        [
         "Autodromo Enzo e Dino Ferrari",
         "Imola",
         "Italy",
         "San Marino Grand Prix",
         2
        ],
        [
         "Autodromo Enzo e Dino Ferrari",
         "Imola",
         "Italy",
         "San Marino Grand Prix",
         2
        ],
        [
         "Autodromo Enzo e Dino Ferrari",
         "Imola",
         "Italy",
         "San Marino Grand Prix",
         2
        ],
        [
         "Autodromo Enzo e Dino Ferrari",
         "Imola",
         "Italy",
         "San Marino Grand Prix",
         3
        ],
        [
         "Autodromo Enzo e Dino Ferrari",
         "Imola",
         "Italy",
         "San Marino Grand Prix",
         3
        ],
        [
         "Autodromo Enzo e Dino Ferrari",
         "Imola",
         "Italy",
         "San Marino Grand Prix",
         5
        ],
        [
         "Autodromo Enzo e Dino Ferrari",
         "Imola",
         "Italy",
         "San Marino Grand Prix",
         4
        ],
        [
         "Autodromo Enzo e Dino Ferrari",
         "Imola",
         "Italy",
         "San Marino Grand Prix",
         3
        ],
        [
         "Autodromo Enzo e Dino Ferrari",
         "Imola",
         "Italy",
         "San Marino Grand Prix",
         3
        ],
        [
         "Autodromo Enzo e Dino Ferrari",
         "Imola",
         "Italy",
         "San Marino Grand Prix",
         5
        ],
        [
         "Autodromo Enzo e Dino Ferrari",
         "Imola",
         "Italy",
         "San Marino Grand Prix",
         4
        ],
        [
         "Autodromo Enzo e Dino Ferrari",
         "Imola",
         "Italy",
         "San Marino Grand Prix",
         4
        ],
        [
         "Autodromo Enzo e Dino Ferrari",
         "Imola",
         "Italy",
         "San Marino Grand Prix",
         3
        ],
        [
         "Autodromo Enzo e Dino Ferrari",
         "Imola",
         "Italy",
         "San Marino Grand Prix",
         3
        ],
        [
         "Autodromo Enzo e Dino Ferrari",
         "Imola",
         "Italy",
         "San Marino Grand Prix",
         4
        ],
        [
         "Autodromo Enzo e Dino Ferrari",
         "Imola",
         "Italy",
         "San Marino Grand Prix",
         4
        ],
        [
         "Autodromo Enzo e Dino Ferrari",
         "Imola",
         "Italy",
         "San Marino Grand Prix",
         4
        ],
        [
         "Autodromo Enzo e Dino Ferrari",
         "Imola",
         "Italy",
         "San Marino Grand Prix",
         4
        ],
        [
         "Autodromo Enzo e Dino Ferrari",
         "Imola",
         "Italy",
         "San Marino Grand Prix",
         4
        ],
        [
         "Autodromo Enzo e Dino Ferrari",
         "Imola",
         "Italy",
         "San Marino Grand Prix",
         4
        ],
        [
         "Suzuka Circuit",
         "Suzuka",
         "Japan",
         "Japanese Grand Prix",
         17
        ],
        [
         "Suzuka Circuit",
         "Suzuka",
         "Japan",
         "Japanese Grand Prix",
         17
        ],
        [
         "Suzuka Circuit",
         "Suzuka",
         "Japan",
         "Japanese Grand Prix",
         17
        ],
        [
         "Suzuka Circuit",
         "Suzuka",
         "Japan",
         "Japanese Grand Prix",
         16
        ],
        [
         "Suzuka Circuit",
         "Suzuka",
         "Japan",
         "Japanese Grand Prix",
         17
        ],
        [
         "Suzuka Circuit",
         "Suzuka",
         "Japan",
         "Japanese Grand Prix",
         14
        ],
        [
         "Suzuka Circuit",
         "Suzuka",
         "Japan",
         "Japanese Grand Prix",
         15
        ],
        [
         "Suzuka Circuit",
         "Suzuka",
         "Japan",
         "Japanese Grand Prix",
         15
        ],
        [
         "Suzuka Circuit",
         "Suzuka",
         "Japan",
         "Japanese Grand Prix",
         15
        ],
        [
         "Suzuka Circuit",
         "Suzuka",
         "Japan",
         "Japanese Grand Prix",
         15
        ],
        [
         "Suzuka Circuit",
         "Suzuka",
         "Japan",
         "Japanese Grand Prix",
         15
        ],
        [
         "Suzuka Circuit",
         "Suzuka",
         "Japan",
         "Japanese Grand Prix",
         15
        ],
        [
         "Suzuka Circuit",
         "Suzuka",
         "Japan",
         "Japanese Grand Prix",
         15
        ],
        [
         "Suzuka Circuit",
         "Suzuka",
         "Japan",
         "Japanese Grand Prix",
         16
        ],
        [
         "Suzuka Circuit",
         "Suzuka",
         "Japan",
         "Japanese Grand Prix",
         15
        ],
        [
         "Suzuka Circuit",
         "Suzuka",
         "Japan",
         "Japanese Grand Prix",
         15
        ],
        [
         "Suzuka Circuit",
         "Suzuka",
         "Japan",
         "Japanese Grand Prix",
         15
        ],
        [
         "Suzuka Circuit",
         "Suzuka",
         "Japan",
         "Japanese Grand Prix",
         15
        ],
        [
         "Suzuka Circuit",
         "Suzuka",
         "Japan",
         "Japanese Grand Prix",
         15
        ],
        [
         "Suzuka Circuit",
         "Suzuka",
         "Japan",
         "Japanese Grand Prix",
         16
        ],
        [
         "Suzuka Circuit",
         "Suzuka",
         "Japan",
         "Japanese Grand Prix",
         16
        ],
        [
         "Suzuka Circuit",
         "Suzuka",
         "Japan",
         "Japanese Grand Prix",
         16
        ],
        [
         "Suzuka Circuit",
         "Suzuka",
         "Japan",
         "Japanese Grand Prix",
         16
        ],
        [
         "Suzuka Circuit",
         "Suzuka",
         "Japan",
         "Japanese Grand Prix",
         16
        ],
        [
         "Suzuka Circuit",
         "Suzuka",
         "Japan",
         "Japanese Grand Prix",
         16
        ],
        [
         "Suzuka Circuit",
         "Suzuka",
         "Japan",
         "Japanese Grand Prix",
         17
        ],
        [
         "Suzuka Circuit",
         "Suzuka",
         "Japan",
         "Japanese Grand Prix",
         17
        ],
        [
         "Suzuka Circuit",
         "Suzuka",
         "Japan",
         "Japanese Grand Prix",
         16
        ],
        [
         "Suzuka Circuit",
         "Suzuka",
         "Japan",
         "Japanese Grand Prix",
         17
        ],
        [
         "Suzuka Circuit",
         "Suzuka",
         "Japan",
         "Japanese Grand Prix",
         18
        ],
        [
         "Suzuka Circuit",
         "Suzuka",
         "Japan",
         "Japanese Grand Prix",
         17
        ],
        [
         "Suzuka Circuit",
         "Suzuka",
         "Japan",
         "Japanese Grand Prix",
         15
        ],
        [
         "A1-Ring",
         "Spielburg",
         "Austria",
         "Austrian Grand Prix",
         9
        ],
        [
         "A1-Ring",
         "Spielburg",
         "Austria",
         "Austrian Grand Prix",
         8
        ],
        [
         "A1-Ring",
         "Spielburg",
         "Austria",
         "Austrian Grand Prix",
         9
        ],
        [
         "A1-Ring",
         "Spielburg",
         "Austria",
         "Austrian Grand Prix",
         12
        ],
        [
         "A1-Ring",
         "Spielburg",
         "Austria",
         "Austrian Grand Prix",
         12
        ],
        [
         "A1-Ring",
         "Spielburg",
         "Austria",
         "Austrian Grand Prix",
         12
        ],
        [
         "A1-Ring",
         "Spielburg",
         "Austria",
         "Austrian Grand Prix",
         11
        ],
        [
         "A1-Ring",
         "Spielburg",
         "Austria",
         "Austrian Grand Prix",
         12
        ],
        [
         "A1-Ring",
         "Spielburg",
         "Austria",
         "Austrian Grand Prix",
         12
        ],
        [
         "A1-Ring",
         "Spielburg",
         "Austria",
         "Austrian Grand Prix",
         11
        ],
        [
         "A1-Ring",
         "Spielburg",
         "Austria",
         "Austrian Grand Prix",
         10
        ],
        [
         "A1-Ring",
         "Spielburg",
         "Austria",
         "Austrian Grand Prix",
         11
        ],
        [
         "A1-Ring",
         "Spielburg",
         "Austria",
         "Austrian Grand Prix",
         13
        ],
        [
         "A1-Ring",
         "Spielburg",
         "Austria",
         "Austrian Grand Prix",
         11
        ],
        [
         "A1-Ring",
         "Spielburg",
         "Austria",
         "Austrian Grand Prix",
         12
        ],
        [
         "A1-Ring",
         "Spielburg",
         "Austria",
         "Austrian Grand Prix",
         10
        ],
        [
         "A1-Ring",
         "Spielburg",
         "Austria",
         "Austrian Grand Prix",
         12
        ],
        [
         "A1-Ring",
         "Spielburg",
         "Austria",
         "Austrian Grand Prix",
         10
        ],
        [
         "A1-Ring",
         "Spielburg",
         "Austria",
         "Austrian Grand Prix",
         14
        ],
        [
         "A1-Ring",
         "Spielburg",
         "Austria",
         "Austrian Grand Prix",
         10
        ],
        [
         "A1-Ring",
         "Spielburg",
         "Austria",
         "Austrian Grand Prix",
         9
        ],
        [
         "A1-Ring",
         "Spielburg",
         "Austria",
         "Austrian Grand Prix",
         10
        ],
        [
         "A1-Ring",
         "Spielburg",
         "Austria",
         "Austrian Grand Prix",
         6
        ],
        [
         "A1-Ring",
         "Spielburg",
         "Austria",
         "Austrian Grand Prix",
         6
        ],
        [
         "A1-Ring",
         "Spielburg",
         "Austria",
         "Austrian Grand Prix",
         6
        ],
        [
         "Yas Marina Circuit",
         "Abu Dhabi",
         "UAE",
         "Abu Dhabi Grand Prix",
         23
        ],
        [
         "Yas Marina Circuit",
         "Abu Dhabi",
         "UAE",
         "Abu Dhabi Grand Prix",
         17
        ],
        [
         "Yas Marina Circuit",
         "Abu Dhabi",
         "UAE",
         "Abu Dhabi Grand Prix",
         21
        ],
        [
         "Yas Marina Circuit",
         "Abu Dhabi",
         "UAE",
         "Abu Dhabi Grand Prix",
         21
        ],
        [
         "Yas Marina Circuit",
         "Abu Dhabi",
         "UAE",
         "Abu Dhabi Grand Prix",
         20
        ],
        [
         "Yas Marina Circuit",
         "Abu Dhabi",
         "UAE",
         "Abu Dhabi Grand Prix",
         21
        ],
        [
         "Yas Marina Circuit",
         "Abu Dhabi",
         "UAE",
         "Abu Dhabi Grand Prix",
         19
        ],
        [
         "Yas Marina Circuit",
         "Abu Dhabi",
         "UAE",
         "Abu Dhabi Grand Prix",
         19
        ],
        [
         "Yas Marina Circuit",
         "Abu Dhabi",
         "UAE",
         "Abu Dhabi Grand Prix",
         17
        ],
        [
         "Yas Marina Circuit",
         "Abu Dhabi",
         "UAE",
         "Abu Dhabi Grand Prix",
         18
        ],
        [
         "Yas Marina Circuit",
         "Abu Dhabi",
         "UAE",
         "Abu Dhabi Grand Prix",
         18
        ],
        [
         "Yas Marina Circuit",
         "Abu Dhabi",
         "UAE",
         "Abu Dhabi Grand Prix",
         19
        ],
        [
         "Yas Marina Circuit",
         "Abu Dhabi",
         "UAE",
         "Abu Dhabi Grand Prix",
         17
        ],
        [
         "Autódromo Juan y Oscar Gálvez",
         "Buenos Aires",
         "Argentina",
         "Argentine Grand Prix",
         1
        ],
        [
         "Autódromo Juan y Oscar Gálvez",
         "Buenos Aires",
         "Argentina",
         "Argentine Grand Prix",
         1
        ],
        [
         "Autódromo Juan y Oscar Gálvez",
         "Buenos Aires",
         "Argentina",
         "Argentine Grand Prix",
         1
        ],
        [
         "Autódromo Juan y Oscar Gálvez",
         "Buenos Aires",
         "Argentina",
         "Argentine Grand Prix",
         1
        ],
        [
         "Autódromo Juan y Oscar Gálvez",
         "Buenos Aires",
         "Argentina",
         "Argentine Grand Prix",
         1
        ],
        [
         "Autódromo Juan y Oscar Gálvez",
         "Buenos Aires",
         "Argentina",
         "Argentine Grand Prix",
         1
        ],
        [
         "Autódromo Juan y Oscar Gálvez",
         "Buenos Aires",
         "Argentina",
         "Argentine Grand Prix",
         1
        ],
        [
         "Autódromo Juan y Oscar Gálvez",
         "Buenos Aires",
         "Argentina",
         "Argentine Grand Prix",
         1
        ],
        [
         "Autódromo Juan y Oscar Gálvez",
         "Buenos Aires",
         "Argentina",
         "Argentine Grand Prix",
         1
        ],
        [
         "Autódromo Juan y Oscar Gálvez",
         "Buenos Aires",
         "Argentina",
         "Argentine Grand Prix",
         1
        ],
        [
         "Autódromo Juan y Oscar Gálvez",
         "Buenos Aires",
         "Argentina",
         "Argentine Grand Prix",
         1
        ],
        [
         "Autódromo Juan y Oscar Gálvez",
         "Buenos Aires",
         "Argentina",
         "Argentine Grand Prix",
         1
        ],
        [
         "Autódromo Juan y Oscar Gálvez",
         "Buenos Aires",
         "Argentina",
         "Argentine Grand Prix",
         1
        ],
        [
         "Autódromo Juan y Oscar Gálvez",
         "Buenos Aires",
         "Argentina",
         "Argentine Grand Prix",
         1
        ],
        [
         "Autódromo Juan y Oscar Gálvez",
         "Buenos Aires",
         "Argentina",
         "Argentine Grand Prix",
         1
        ],
        [
         "Autódromo Juan y Oscar Gálvez",
         "Buenos Aires",
         "Argentina",
         "Argentine Grand Prix",
         3
        ],
        [
         "Autódromo Juan y Oscar Gálvez",
         "Buenos Aires",
         "Argentina",
         "Argentine Grand Prix",
         2
        ],
        [
         "Autódromo Juan y Oscar Gálvez",
         "Buenos Aires",
         "Argentina",
         "Argentine Grand Prix",
         3
        ],
        [
         "Autódromo Juan y Oscar Gálvez",
         "Buenos Aires",
         "Argentina",
         "Argentine Grand Prix",
         3
        ],
        [
         "Autódromo Juan y Oscar Gálvez",
         "Buenos Aires",
         "Argentina",
         "Argentine Grand Prix",
         3
        ],
        [
         "Circuito de Jerez",
         "Jerez de la Frontera",
         "Spain",
         "Spanish Grand Prix",
         2
        ],
        [
         "Circuito de Jerez",
         "Jerez de la Frontera",
         "Spain",
         "Spanish Grand Prix",
         13
        ],
        [
         "Circuito de Jerez",
         "Jerez de la Frontera",
         "Spain",
         "Spanish Grand Prix",
         14
        ],
        [
         "Circuito de Jerez",
         "Jerez de la Frontera",
         "Spain",
         "Spanish Grand Prix",
         14
        ],
        [
         "Circuito de Jerez",
         "Jerez de la Frontera",
         "Spain",
         "Spanish Grand Prix",
         14
        ],
        [
         "Circuito de Jerez",
         "Jerez de la Frontera",
         "Spain",
         "European Grand Prix",
         14
        ],
        [
         "Circuito de Jerez",
         "Jerez de la Frontera",
         "Spain",
         "European Grand Prix",
         17
        ],
        [
         "Autódromo do Estoril",
         "Estoril",
         "Portugal",
         "Portuguese Grand Prix",
         16
        ],
        [
         "Autódromo do Estoril",
         "Estoril",
         "Portugal",
         "Portuguese Grand Prix",
         2
        ],
        [
         "Autódromo do Estoril",
         "Estoril",
         "Portugal",
         "Portuguese Grand Prix",
         14
        ],
        [
         "Autódromo do Estoril",
         "Estoril",
         "Portugal",
         "Portuguese Grand Prix",
         12
        ],
        [
         "Autódromo do Estoril",
         "Estoril",
         "Portugal",
         "Portuguese Grand Prix",
         13
        ],
        [
         "Autódromo do Estoril",
         "Estoril",
         "Portugal",
         "Portuguese Grand Prix",
         13
        ],
        [
         "Autódromo do Estoril",
         "Estoril",
         "Portugal",
         "Portuguese Grand Prix",
         13
        ],
        [
         "Autódromo do Estoril",
         "Estoril",
         "Portugal",
         "Portuguese Grand Prix",
         13
        ],
        [
         "Autódromo do Estoril",
         "Estoril",
         "Portugal",
         "Portuguese Grand Prix",
         14
        ],
        [
         "Autódromo do Estoril",
         "Estoril",
         "Portugal",
         "Portuguese Grand Prix",
         14
        ],
        [
         "Autódromo do Estoril",
         "Estoril",
         "Portugal",
         "Portuguese Grand Prix",
         13
        ],
        [
         "Autódromo do Estoril",
         "Estoril",
         "Portugal",
         "Portuguese Grand Prix",
         13
        ],
        [
         "Autódromo do Estoril",
         "Estoril",
         "Portugal",
         "Portuguese Grand Prix",
         15
        ],
        [
         "Okayama International Circuit",
         "Okayama",
         "Japan",
         "Pacific Grand Prix",
         2
        ],
        [
         "Okayama International Circuit",
         "Okayama",
         "Japan",
         "Pacific Grand Prix",
         15
        ],
        [
         "Adelaide Street Circuit",
         "Adelaide",
         "Australia",
         "Australian Grand Prix",
         16
        ],
        [
         "Adelaide Street Circuit",
         "Adelaide",
         "Australia",
         "Australian Grand Prix",
         16
        ],
        [
         "Adelaide Street Circuit",
         "Adelaide",
         "Australia",
         "Australian Grand Prix",
         16
        ],
        [
         "Adelaide Street Circuit",
         "Adelaide",
         "Australia",
         "Australian Grand Prix",
         16
        ],
        [
         "Adelaide Street Circuit",
         "Adelaide",
         "Australia",
         "Australian Grand Prix",
         16
        ],
        [
         "Adelaide Street Circuit",
         "Adelaide",
         "Australia",
         "Australian Grand Prix",
         16
        ],
        [
         "Adelaide Street Circuit",
         "Adelaide",
         "Australia",
         "Australian Grand Prix",
         16
        ],
        [
         "Adelaide Street Circuit",
         "Adelaide",
         "Australia",
         "Australian Grand Prix",
         16
        ],
        [
         "Adelaide Street Circuit",
         "Adelaide",
         "Australia",
         "Australian Grand Prix",
         16
        ],
        [
         "Adelaide Street Circuit",
         "Adelaide",
         "Australia",
         "Australian Grand Prix",
         16
        ],
        [
         "Adelaide Street Circuit",
         "Adelaide",
         "Australia",
         "Australian Grand Prix",
         17
        ],
        [
         "Kyalami",
         "Midrand",
         "South Africa",
         "South African Grand Prix",
         1
        ],
        [
         "Kyalami",
         "Midrand",
         "South Africa",
         "South African Grand Prix",
         1
        ],
        [
         "Kyalami",
         "Midrand",
         "South Africa",
         "South African Grand Prix",
         1
        ],
        [
         "Kyalami",
         "Midrand",
         "South Africa",
         "South African Grand Prix",
         1
        ],
        [
         "Kyalami",
         "Midrand",
         "South Africa",
         "South African Grand Prix",
         1
        ],
        [
         "Kyalami",
         "Midrand",
         "South Africa",
         "South African Grand Prix",
         2
        ],
        [
         "Kyalami",
         "Midrand",
         "South Africa",
         "South African Grand Prix",
         3
        ],
        [
         "Kyalami",
         "Midrand",
         "South Africa",
         "South African Grand Prix",
         3
        ],
        [
         "Kyalami",
         "Midrand",
         "South Africa",
         "South African Grand Prix",
         3
        ],
        [
         "Kyalami",
         "Midrand",
         "South Africa",
         "South African Grand Prix",
         2
        ],
        [
         "Kyalami",
         "Midrand",
         "South Africa",
         "South African Grand Prix",
         3
        ],
        [
         "Kyalami",
         "Midrand",
         "South Africa",
         "South African Grand Prix",
         3
        ],
        [
         "Kyalami",
         "Midrand",
         "South Africa",
         "South African Grand Prix",
         3
        ],
        [
         "Kyalami",
         "Midrand",
         "South Africa",
         "South African Grand Prix",
         3
        ],
        [
         "Kyalami",
         "Midrand",
         "South Africa",
         "South African Grand Prix",
         1
        ],
        [
         "Kyalami",
         "Midrand",
         "South Africa",
         "South African Grand Prix",
         15
        ],
        [
         "Kyalami",
         "Midrand",
         "South Africa",
         "South African Grand Prix",
         2
        ],
        [
         "Kyalami",
         "Midrand",
         "South Africa",
         "South African Grand Prix",
         15
        ],
        [
         "Kyalami",
         "Midrand",
         "South Africa",
         "South African Grand Prix",
         1
        ],
        [
         "Kyalami",
         "Midrand",
         "South Africa",
         "South African Grand Prix",
         1
        ],
        [
         "Donington Park",
         "Castle Donington",
         "UK",
         "European Grand Prix",
         3
        ],
        [
         "Autódromo Hermanos Rodríguez",
         "Mexico City",
         "Mexico",
         "Mexico City Grand Prix",
         19
        ],
        [
         "Autódromo Hermanos Rodríguez",
         "Mexico City",
         "Mexico",
         "Mexican Grand Prix",
         18
        ],
        [
         "Autódromo Hermanos Rodríguez",
         "Mexico City",
         "Mexico",
         "Mexican Grand Prix",
         19
        ],
        [
         "Autódromo Hermanos Rodríguez",
         "Mexico City",
         "Mexico",
         "Mexican Grand Prix",
         18
        ],
        [
         "Autódromo Hermanos Rodríguez",
         "Mexico City",
         "Mexico",
         "Mexican Grand Prix",
         19
        ],
        [
         "Autódromo Hermanos Rodríguez",
         "Mexico City",
         "Mexico",
         "Mexican Grand Prix",
         17
        ],
        [
         "Autódromo Hermanos Rodríguez",
         "Mexico City",
         "Mexico",
         "Mexican Grand Prix",
         9
        ],
        [
         "Autódromo Hermanos Rodríguez",
         "Mexico City",
         "Mexico",
         "Mexican Grand Prix",
         10
        ],
        [
         "Autódromo Hermanos Rodríguez",
         "Mexico City",
         "Mexico",
         "Mexican Grand Prix",
         10
        ],
        [
         "Autódromo Hermanos Rodríguez",
         "Mexico City",
         "Mexico",
         "Mexican Grand Prix",
         9
        ],
        [
         "Autódromo Hermanos Rodríguez",
         "Mexico City",
         "Mexico",
         "Mexican Grand Prix",
         11
        ],
        [
         "Autódromo Hermanos Rodríguez",
         "Mexico City",
         "Mexico",
         "Mexican Grand Prix",
         12
        ],
        [
         "Autódromo Hermanos Rodríguez",
         "Mexico City",
         "Mexico",
         "Mexican Grand Prix",
         11
        ],
        [
         "Autódromo Hermanos Rodríguez",
         "Mexico City",
         "Mexico",
         "Mexican Grand Prix",
         13
        ],
        [
         "Autódromo Hermanos Rodríguez",
         "Mexico City",
         "Mexico",
         "Mexican Grand Prix",
         15
        ],
        [
         "Autódromo Hermanos Rodríguez",
         "Mexico City",
         "Mexico",
         "Mexican Grand Prix",
         14
        ],
        [
         "Autódromo Hermanos Rodríguez",
         "Mexico City",
         "Mexico",
         "Mexican Grand Prix",
         4
        ],
        [
         "Autódromo Hermanos Rodríguez",
         "Mexico City",
         "Mexico",
         "Mexican Grand Prix",
         4
        ],
        [
         "Autódromo Hermanos Rodríguez",
         "Mexico City",
         "Mexico",
         "Mexican Grand Prix",
         6
        ],
        [
         "Autódromo Hermanos Rodríguez",
         "Mexico City",
         "Mexico",
         "Mexican Grand Prix",
         6
        ],
        [
         "Autódromo Hermanos Rodríguez",
         "Mexico City",
         "Mexico",
         "Mexican Grand Prix",
         2
        ],
        [
         "Phoenix street circuit",
         "Phoenix",
         "USA",
         "United States Grand Prix",
         5
        ],
        [
         "Phoenix street circuit",
         "Phoenix",
         "USA",
         "United States Grand Prix",
         1
        ],
        [
         "Phoenix street circuit",
         "Phoenix",
         "USA",
         "United States Grand Prix",
         1
        ],
        [
         "Circuit Paul Ricard",
         "Le Castellet",
         "France",
         "French Grand Prix",
         8
        ],
        [
         "Circuit Paul Ricard",
         "Le Castellet",
         "France",
         "French Grand Prix",
         8
        ],
        [
         "Circuit Paul Ricard",
         "Le Castellet",
         "France",
         "French Grand Prix",
         8
        ],
        [
         "Circuit Paul Ricard",
         "Le Castellet",
         "France",
         "French Grand Prix",
         5
        ],
        [
         "Circuit Paul Ricard",
         "Le Castellet",
         "France",
         "French Grand Prix",
         8
        ],
        [
         "Circuit Paul Ricard",
         "Le Castellet",
         "France",
         "French Grand Prix",
         9
        ],
        [
         "Circuit Paul Ricard",
         "Le Castellet",
         "France",
         "French Grand Prix",
         8
        ],
        [
         "Circuit Paul Ricard",
         "Le Castellet",
         "France",
         "French Grand Prix",
         9
        ],
        [
         "Circuit Paul Ricard",
         "Le Castellet",
         "France",
         "French Grand Prix",
         7
        ],
        [
         "Circuit Paul Ricard",
         "Le Castellet",
         "France",
         "French Grand Prix",
         11
        ],
        [
         "Circuit Paul Ricard",
         "Le Castellet",
         "France",
         "French Grand Prix",
         3
        ],
        [
         "Circuit Paul Ricard",
         "Le Castellet",
         "France",
         "French Grand Prix",
         7
        ],
        [
         "Circuit Paul Ricard",
         "Le Castellet",
         "France",
         "French Grand Prix",
         8
        ],
        [
         "Circuit Paul Ricard",
         "Le Castellet",
         "France",
         "French Grand Prix",
         6
        ],
        [
         "Circuit Paul Ricard",
         "Le Castellet",
         "France",
         "French Grand Prix",
         7
        ],
        [
         "Circuit Paul Ricard",
         "Le Castellet",
         "France",
         "French Grand Prix",
         7
        ],
        [
         "Circuit Paul Ricard",
         "Le Castellet",
         "France",
         "French Grand Prix",
         7
        ],
        [
         "Korean International Circuit",
         "Yeongam County",
         "Korea",
         "Korean Grand Prix",
         14
        ],
        [
         "Korean International Circuit",
         "Yeongam County",
         "Korea",
         "Korean Grand Prix",
         16
        ],
        [
         "Korean International Circuit",
         "Yeongam County",
         "Korea",
         "Korean Grand Prix",
         16
        ],
        [
         "Korean International Circuit",
         "Yeongam County",
         "Korea",
         "Korean Grand Prix",
         17
        ],
        [
         "Autódromo Internacional Nelson Piquet",
         "Rio de Janeiro",
         "Brazil",
         "Brazilian Grand Prix",
         2
        ],
        [
         "Autódromo Internacional Nelson Piquet",
         "Rio de Janeiro",
         "Brazil",
         "Brazilian Grand Prix",
         2
        ],
        [
         "Autódromo Internacional Nelson Piquet",
         "Rio de Janeiro",
         "Brazil",
         "Brazilian Grand Prix",
         2
        ],
        [
         "Autódromo Internacional Nelson Piquet",
         "Rio de Janeiro",
         "Brazil",
         "Brazilian Grand Prix",
         1
        ],
        [
         "Autódromo Internacional Nelson Piquet",
         "Rio de Janeiro",
         "Brazil",
         "Brazilian Grand Prix",
         1
        ],
        [
         "Autódromo Internacional Nelson Piquet",
         "Rio de Janeiro",
         "Brazil",
         "Brazilian Grand Prix",
         1
        ],
        [
         "Autódromo Internacional Nelson Piquet",
         "Rio de Janeiro",
         "Brazil",
         "Brazilian Grand Prix",
         1
        ],
        [
         "Autódromo Internacional Nelson Piquet",
         "Rio de Janeiro",
         "Brazil",
         "Brazilian Grand Prix",
         1
        ],
        [
         "Autódromo Internacional Nelson Piquet",
         "Rio de Janeiro",
         "Brazil",
         "Brazilian Grand Prix",
         1
        ],
        [
         "Autódromo Internacional Nelson Piquet",
         "Rio de Janeiro",
         "Brazil",
         "Brazilian Grand Prix",
         1
        ],
        [
         "Detroit Street Circuit",
         "Detroit",
         "USA",
         "Detroit Grand Prix",
         7
        ],
        [
         "Detroit Street Circuit",
         "Detroit",
         "USA",
         "Detroit Grand Prix",
         7
        ],
        [
         "Detroit Street Circuit",
         "Detroit",
         "USA",
         "Detroit Grand Prix",
         8
        ],
        [
         "Detroit Street Circuit",
         "Detroit",
         "USA",
         "Detroit Grand Prix",
         6
        ],
        [
         "Detroit Street Circuit",
         "Detroit",
         "USA",
         "Detroit Grand Prix",
         7
        ],
        [
         "Detroit Street Circuit",
         "Detroit",
         "USA",
         "Detroit Grand Prix",
         5
        ],
        [
         "Detroit Street Circuit",
         "Detroit",
         "USA",
         "Detroit Grand Prix",
         6
        ],
        [
         "Brands Hatch",
         "Kent",
         "UK",
         "British Grand Prix",
         5
        ],
        [
         "Brands Hatch",
         "Kent",
         "UK",
         "British Grand Prix",
         4
        ],
        [
         "Brands Hatch",
         "Kent",
         "UK",
         "British Grand Prix",
         7
        ],
        [
         "Brands Hatch",
         "Kent",
         "UK",
         "British Grand Prix",
         7
        ],
        [
         "Brands Hatch",
         "Kent",
         "UK",
         "British Grand Prix",
         7
        ],
        [
         "Brands Hatch",
         "Kent",
         "UK",
         "British Grand Prix",
         10
        ],
        [
         "Brands Hatch",
         "Kent",
         "UK",
         "British Grand Prix",
         9
        ],
        [
         "Brands Hatch",
         "Kent",
         "UK",
         "British Grand Prix",
         10
        ],
        [
         "Brands Hatch",
         "Kent",
         "UK",
         "British Grand Prix",
         8
        ],
        [
         "Brands Hatch",
         "Kent",
         "UK",
         "British Grand Prix",
         10
        ],
        [
         "Brands Hatch",
         "Kent",
         "UK",
         "European Grand Prix",
         14
        ],
        [
         "Brands Hatch",
         "Kent",
         "UK",
         "British Grand Prix",
         10
        ],
        [
         "Brands Hatch",
         "Kent",
         "UK",
         "European Grand Prix",
         14
        ],
        [
         "Brands Hatch",
         "Kent",
         "UK",
         "British Grand Prix",
         9
        ],
        [
         "Circuit Park Zandvoort",
         "Zandvoort",
         "Netherlands",
         "Dutch Grand Prix",
         13
        ],
        [
         "Circuit Park Zandvoort",
         "Zandvoort",
         "Netherlands",
         "Dutch Grand Prix",
         7
        ],
        [
         "Circuit Park Zandvoort",
         "Zandvoort",
         "Netherlands",
         "Dutch Grand Prix",
         3
        ],
        [
         "Circuit Park Zandvoort",
         "Zandvoort",
         "Netherlands",
         "Dutch Grand Prix",
         5
        ],
        [
         "Circuit Park Zandvoort",
         "Zandvoort",
         "Netherlands",
         "Dutch Grand Prix",
         3
        ],
        [
         "Circuit Park Zandvoort",
         "Zandvoort",
         "Netherlands",
         "Dutch Grand Prix",
         3
        ],
        [
         "Circuit Park Zandvoort",
         "Zandvoort",
         "Netherlands",
         "Dutch Grand Prix",
         4
        ],
        [
         "Circuit Park Zandvoort",
         "Zandvoort",
         "Netherlands",
         "Dutch Grand Prix",
         2
        ],
        [
         "Circuit Park Zandvoort",
         "Zandvoort",
         "Netherlands",
         "Dutch Grand Prix",
         1
        ],
        [
         "Circuit Park Zandvoort",
         "Zandvoort",
         "Netherlands",
         "Dutch Grand Prix",
         3
        ],
        [
         "Circuit Park Zandvoort",
         "Zandvoort",
         "Netherlands",
         "Dutch Grand Prix",
         2
        ],
        [
         "Circuit Park Zandvoort",
         "Zandvoort",
         "Netherlands",
         "Dutch Grand Prix",
         6
        ],
        [
         "Circuit Park Zandvoort",
         "Zandvoort",
         "Netherlands",
         "Dutch Grand Prix",
         5
        ],
        [
         "Circuit Park Zandvoort",
         "Zandvoort",
         "Netherlands",
         "Dutch Grand Prix",
         3
        ],
        [
         "Circuit Park Zandvoort",
         "Zandvoort",
         "Netherlands",
         "Dutch Grand Prix",
         5
        ],
        [
         "Circuit Park Zandvoort",
         "Zandvoort",
         "Netherlands",
         "Dutch Grand Prix",
         4
        ],
        [
         "Circuit Park Zandvoort",
         "Zandvoort",
         "Netherlands",
         "Dutch Grand Prix",
         5
        ],
        [
         "Circuit Park Zandvoort",
         "Zandvoort",
         "Netherlands",
         "Dutch Grand Prix",
         4
        ],
        [
         "Circuit Park Zandvoort",
         "Zandvoort",
         "Netherlands",
         "Dutch Grand Prix",
         10
        ],
        [
         "Circuit Park Zandvoort",
         "Zandvoort",
         "Netherlands",
         "Dutch Grand Prix",
         8
        ],
        [
         "Circuit Park Zandvoort",
         "Zandvoort",
         "Netherlands",
         "Dutch Grand Prix",
         8
        ],
        [
         "Circuit Park Zandvoort",
         "Zandvoort",
         "Netherlands",
         "Dutch Grand Prix",
         12
        ],
        [
         "Circuit Park Zandvoort",
         "Zandvoort",
         "Netherlands",
         "Dutch Grand Prix",
         13
        ],
        [
         "Circuit Park Zandvoort",
         "Zandvoort",
         "Netherlands",
         "Dutch Grand Prix",
         13
        ],
        [
         "Circuit Park Zandvoort",
         "Zandvoort",
         "Netherlands",
         "Dutch Grand Prix",
         12
        ],
        [
         "Circuit Park Zandvoort",
         "Zandvoort",
         "Netherlands",
         "Dutch Grand Prix",
         11
        ],
        [
         "Circuit Park Zandvoort",
         "Zandvoort",
         "Netherlands",
         "Dutch Grand Prix",
         12
        ],
        [
         "Circuit Park Zandvoort",
         "Zandvoort",
         "Netherlands",
         "Dutch Grand Prix",
         9
        ],
        [
         "Circuit Park Zandvoort",
         "Zandvoort",
         "Netherlands",
         "Dutch Grand Prix",
         12
        ],
        [
         "Circuit Park Zandvoort",
         "Zandvoort",
         "Netherlands",
         "Dutch Grand Prix",
         13
        ],
        [
         "Circuit Park Zandvoort",
         "Zandvoort",
         "Netherlands",
         "Dutch Grand Prix",
         11
        ],
        [
         "Zolder",
         "Heusden-Zolder",
         "Belgium",
         "Belgian Grand Prix",
         5
        ],
        [
         "Zolder",
         "Heusden-Zolder",
         "Belgium",
         "Belgian Grand Prix",
         6
        ],
        [
         "Zolder",
         "Heusden-Zolder",
         "Belgium",
         "Belgian Grand Prix",
         5
        ],
        [
         "Zolder",
         "Heusden-Zolder",
         "Belgium",
         "Belgian Grand Prix",
         7
        ],
        [
         "Zolder",
         "Heusden-Zolder",
         "Belgium",
         "Belgian Grand Prix",
         6
        ],
        [
         "Zolder",
         "Heusden-Zolder",
         "Belgium",
         "Belgian Grand Prix",
         6
        ],
        [
         "Zolder",
         "Heusden-Zolder",
         "Belgium",
         "Belgian Grand Prix",
         5
        ],
        [
         "Zolder",
         "Heusden-Zolder",
         "Belgium",
         "Belgian Grand Prix",
         5
        ],
        [
         "Zolder",
         "Heusden-Zolder",
         "Belgium",
         "Belgian Grand Prix",
         5
        ],
        [
         "Zolder",
         "Heusden-Zolder",
         "Belgium",
         "Belgian Grand Prix",
         3
        ],
        [
         "Dijon-Prenois",
         "Dijon",
         "France",
         "French Grand Prix",
         9
        ],
        [
         "Dijon-Prenois",
         "Dijon",
         "France",
         "French Grand Prix",
         9
        ],
        [
         "Dijon-Prenois",
         "Dijon",
         "France",
         "French Grand Prix",
         8
        ],
        [
         "Dijon-Prenois",
         "Dijon",
         "France",
         "French Grand Prix",
         8
        ],
        [
         "Dijon-Prenois",
         "Dijon",
         "France",
         "Swiss Grand Prix",
         14
        ],
        [
         "Dijon-Prenois",
         "Dijon",
         "France",
         "French Grand Prix",
         5
        ],
        [
         "Fair Park",
         "Dallas",
         "USA",
         "Dallas Grand Prix",
         9
        ],
        [
         "Long Beach",
         "California",
         "USA",
         "United States Grand Prix West",
         3
        ],
        [
         "Long Beach",
         "California",
         "USA",
         "United States Grand Prix West",
         4
        ],
        [
         "Long Beach",
         "California",
         "USA",
         "United States Grand Prix West",
         4
        ],
        [
         "Long Beach",
         "California",
         "USA",
         "United States Grand Prix West",
         4
        ],
        [
         "Long Beach",
         "California",
         "USA",
         "United States Grand Prix West",
         4
        ],
        [
         "Long Beach",
         "California",
         "USA",
         "United States Grand Prix West",
         1
        ],
        [
         "Long Beach",
         "California",
         "USA",
         "United States Grand Prix West",
         3
        ],
        [
         "Long Beach",
         "California",
         "USA",
         "United States Grand Prix West",
         2
        ],
        [
         "Las Vegas Street Circuit",
         "Nevada",
         "USA",
         "Caesars Palace Grand Prix",
         15
        ],
        [
         "Las Vegas Street Circuit",
         "Nevada",
         "USA",
         "Caesars Palace Grand Prix",
         16
        ],
        [
         "Jarama",
         "Madrid",
         "Spain",
         "Spanish Grand Prix",
         2
        ],
        [
         "Jarama",
         "Madrid",
         "Spain",
         "Spanish Grand Prix",
         2
        ],
        [
         "Jarama",
         "Madrid",
         "Spain",
         "Spanish Grand Prix",
         3
        ],
        [
         "Jarama",
         "Madrid",
         "Spain",
         "Spanish Grand Prix",
         4
        ],
        [
         "Jarama",
         "Madrid",
         "Spain",
         "Spanish Grand Prix",
         4
        ],
        [
         "Jarama",
         "Madrid",
         "Spain",
         "Spanish Grand Prix",
         5
        ],
        [
         "Jarama",
         "Madrid",
         "Spain",
         "Spanish Grand Prix",
         7
        ],
        [
         "Jarama",
         "Madrid",
         "Spain",
         "Spanish Grand Prix",
         5
        ],
        [
         "Jarama",
         "Madrid",
         "Spain",
         "Spanish Grand Prix",
         7
        ],
        [
         "Watkins Glen",
         "New York State",
         "USA",
         "United States Grand Prix",
         8
        ],
        [
         "Watkins Glen",
         "New York State",
         "USA",
         "United States Grand Prix",
         8
        ],
        [
         "Watkins Glen",
         "New York State",
         "USA",
         "United States Grand Prix",
         8
        ],
        [
         "Watkins Glen",
         "New York State",
         "USA",
         "United States Grand Prix",
         9
        ],
        [
         "Watkins Glen",
         "New York State",
         "USA",
         "United States Grand Prix",
         9
        ],
        [
         "Watkins Glen",
         "New York State",
         "USA",
         "United States Grand Prix",
         8
        ],
        [
         "Watkins Glen",
         "New York State",
         "USA",
         "United States Grand Prix",
         10
        ],
        [
         "Watkins Glen",
         "New York State",
         "USA",
         "United States Grand Prix",
         11
        ],
        [
         "Watkins Glen",
         "New York State",
         "USA",
         "United States Grand Prix",
         10
        ],
        [
         "Watkins Glen",
         "New York State",
         "USA",
         "United States Grand Prix",
         12
        ],
        [
         "Watkins Glen",
         "New York State",
         "USA",
         "United States Grand Prix",
         11
        ],
        [
         "Watkins Glen",
         "New York State",
         "USA",
         "United States Grand Prix",
         12
        ],
        [
         "Watkins Glen",
         "New York State",
         "USA",
         "United States Grand Prix",
         15
        ],
        [
         "Watkins Glen",
         "New York State",
         "USA",
         "United States Grand Prix",
         15
        ],
        [
         "Watkins Glen",
         "New York State",
         "USA",
         "United States Grand Prix",
         14
        ],
        [
         "Watkins Glen",
         "New York State",
         "USA",
         "United States Grand Prix",
         15
        ],
        [
         "Watkins Glen",
         "New York State",
         "USA",
         "United States Grand Prix",
         15
        ],
        [
         "Watkins Glen",
         "New York State",
         "USA",
         "United States Grand Prix",
         15
        ],
        [
         "Watkins Glen",
         "New York State",
         "USA",
         "United States Grand Prix",
         15
        ],
        [
         "Watkins Glen",
         "New York State",
         "USA",
         "United States Grand Prix",
         14
        ],
        [
         "Scandinavian Raceway",
         "Anderstorp",
         "Sweden",
         "Swedish Grand Prix",
         7
        ],
        [
         "Scandinavian Raceway",
         "Anderstorp",
         "Sweden",
         "Swedish Grand Prix",
         7
        ],
        [
         "Scandinavian Raceway",
         "Anderstorp",
         "Sweden",
         "Swedish Grand Prix",
         7
        ],
        [
         "Scandinavian Raceway",
         "Anderstorp",
         "Sweden",
         "Swedish Grand Prix",
         7
        ],
        [
         "Scandinavian Raceway",
         "Anderstorp",
         "Sweden",
         "Swedish Grand Prix",
         8
        ],
        [
         "Scandinavian Raceway",
         "Anderstorp",
         "Sweden",
         "Swedish Grand Prix",
         8
        ],
        [
         "Mosport International Raceway",
         "Ontario",
         "Canada",
         "Canadian Grand Prix",
         8
        ],
        [
         "Mosport International Raceway",
         "Ontario",
         "Canada",
         "Canadian Grand Prix",
         9
        ],
        [
         "Mosport International Raceway",
         "Ontario",
         "Canada",
         "Canadian Grand Prix",
         10
        ],
        [
         "Mosport International Raceway",
         "Ontario",
         "Canada",
         "Canadian Grand Prix",
         11
        ],
        [
         "Mosport International Raceway",
         "Ontario",
         "Canada",
         "Canadian Grand Prix",
         14
        ],
        [
         "Mosport International Raceway",
         "Ontario",
         "Canada",
         "Canadian Grand Prix",
         14
        ],
        [
         "Mosport International Raceway",
         "Ontario",
         "Canada",
         "Canadian Grand Prix",
         14
        ],
        [
         "Mosport International Raceway",
         "Ontario",
         "Canada",
         "Canadian Grand Prix",
         16
        ],
        [
         "Montjuïc",
         "Barcelona",
         "Spain",
         "Spanish Grand Prix",
         2
        ],
        [
         "Montjuïc",
         "Barcelona",
         "Spain",
         "Spanish Grand Prix",
         2
        ],
        [
         "Montjuïc",
         "Barcelona",
         "Spain",
         "Spanish Grand Prix",
         4
        ],
        [
         "Montjuïc",
         "Barcelona",
         "Spain",
         "Spanish Grand Prix",
         4
        ],
        [
         "Nivelles-Baulers",
         "Brussels",
         "Belgium",
         "Belgian Grand Prix",
         5
        ],
        [
         "Nivelles-Baulers",
         "Brussels",
         "Belgium",
         "Belgian Grand Prix",
         5
        ],
        [
         "Charade Circuit",
         "Clermont-Ferrand",
         "France",
         "French Grand Prix",
         4
        ],
        [
         "Charade Circuit",
         "Clermont-Ferrand",
         "France",
         "French Grand Prix",
         5
        ],
        [
         "Charade Circuit",
         "Clermont-Ferrand",
         "France",
         "French Grand Prix",
         6
        ],
        [
         "Charade Circuit",
         "Clermont-Ferrand",
         "France",
         "French Grand Prix",
         6
        ],
        [
         "Circuit Mont-Tremblant",
         "Quebec",
         "Canada",
         "Canadian Grand Prix",
         10
        ],
        [
         "Circuit Mont-Tremblant",
         "Quebec",
         "Canada",
         "Canadian Grand Prix",
         11
        ],
        [
         "Rouen-Les-Essarts",
         "Rouen",
         "France",
         "French Grand Prix",
         4
        ],
        [
         "Rouen-Les-Essarts",
         "Rouen",
         "France",
         "French Grand Prix",
         4
        ],
        [
         "Rouen-Les-Essarts",
         "Rouen",
         "France",
         "French Grand Prix",
         4
        ],
        [
         "Rouen-Les-Essarts",
         "Rouen",
         "France",
         "French Grand Prix",
         4
        ],
        [
         "Rouen-Les-Essarts",
         "Rouen",
         "France",
         "French Grand Prix",
         6
        ],
        [
         "Le Mans",
         "Le Mans",
         "France",
         "French Grand Prix",
         5
        ],
        [
         "Reims-Gueux",
         "Reims",
         "France",
         "French Grand Prix",
         6
        ],
        [
         "Reims-Gueux",
         "Reims",
         "France",
         "French Grand Prix",
         4
        ],
        [
         "Reims-Gueux",
         "Reims",
         "France",
         "French Grand Prix",
         5
        ],
        [
         "Reims-Gueux",
         "Reims",
         "France",
         "French Grand Prix",
         4
        ],
        [
         "Reims-Gueux",
         "Reims",
         "France",
         "French Grand Prix",
         5
        ],
        [
         "Reims-Gueux",
         "Reims",
         "France",
         "French Grand Prix",
         6
        ],
        [
         "Reims-Gueux",
         "Reims",
         "France",
         "French Grand Prix",
         4
        ],
        [
         "Reims-Gueux",
         "Reims",
         "France",
         "French Grand Prix",
         6
        ],
        [
         "Reims-Gueux",
         "Reims",
         "France",
         "French Grand Prix",
         4
        ],
        [
         "Reims-Gueux",
         "Reims",
         "France",
         "French Grand Prix",
         4
        ],
        [
         "Reims-Gueux",
         "Reims",
         "France",
         "French Grand Prix",
         3
        ],
        [
         "Prince George Circuit",
         "Eastern Cape Province",
         "South Africa",
         "South African Grand Prix",
         9
        ],
        [
         "Prince George Circuit",
         "Eastern Cape Province",
         "South Africa",
         "South African Grand Prix",
         10
        ],
        [
         "Prince George Circuit",
         "Eastern Cape Province",
         "South Africa",
         "South African Grand Prix",
         1
        ],
        [
         "Zeltweg",
         "Styria",
         "Austria",
         "Austrian Grand Prix",
         7
        ],
        [
         "Aintree",
         "Liverpool",
         "UK",
         "British Grand Prix",
         6
        ],
        [
         "Aintree",
         "Liverpool",
         "UK",
         "British Grand Prix",
         5
        ],
        [
         "Aintree",
         "Liverpool",
         "UK",
         "British Grand Prix",
         5
        ],
        [
         "Aintree",
         "Liverpool",
         "UK",
         "British Grand Prix",
         5
        ],
        [
         "Aintree",
         "Liverpool",
         "UK",
         "British Grand Prix",
         5
        ],
        [
         "Circuito da Boavista",
         "Oporto",
         "Portugal",
         "Portuguese Grand Prix",
         9
        ],
        [
         "Circuito da Boavista",
         "Oporto",
         "Portugal",
         "Portuguese Grand Prix",
         8
        ],
        [
         "Riverside International Raceway",
         "California",
         "USA",
         "United States Grand Prix",
         10
        ],
        [
         "AVUS",
         "Berlin",
         "Germany",
         "German Grand Prix",
         6
        ],
        [
         "Monsanto Park Circuit",
         "Lisbon",
         "Portugal",
         "Portuguese Grand Prix",
         7
        ],
        [
         "Sebring International Raceway",
         "Florida",
         "USA",
         "United States Grand Prix",
         9
        ],
        [
         "Ain Diab",
         "Casablanca",
         "Morocco",
         "Moroccan Grand Prix",
         11
        ],
        [
         "Pescara Circuit",
         "Pescara",
         "Italy",
         "Pescara Grand Prix",
         7
        ],
        [
         "Circuit Bremgarten",
         "Bern",
         "Switzerland",
         "Swiss Grand Prix",
         4
        ],
        [
         "Circuit Bremgarten",
         "Bern",
         "Switzerland",
         "Swiss Grand Prix",
         1
        ],
        [
         "Circuit Bremgarten",
         "Bern",
         "Switzerland",
         "Swiss Grand Prix",
         1
        ],
        [
         "Circuit Bremgarten",
         "Bern",
         "Switzerland",
         "Swiss Grand Prix",
         8
        ],
        [
         "Circuit Bremgarten",
         "Bern",
         "Switzerland",
         "Swiss Grand Prix",
         7
        ],
        [
         "Circuit de Pedralbes",
         "Barcelona",
         "Spain",
         "Spanish Grand Prix",
         8
        ],
        [
         "Circuit de Pedralbes",
         "Barcelona",
         "Spain",
         "Spanish Grand Prix",
         9
        ],
        [
         "Buddh International Circuit",
         "Uttar Pradesh",
         "India",
         "Indian Grand Prix",
         16
        ],
        [
         "Buddh International Circuit",
         "Uttar Pradesh",
         "India",
         "Indian Grand Prix",
         17
        ],
        [
         "Buddh International Circuit",
         "Uttar Pradesh",
         "India",
         "Indian Grand Prix",
         17
        ],
        [
         "Circuit of the Americas",
         "Austin",
         "USA",
         "United States Grand Prix",
         18
        ],
        [
         "Circuit of the Americas",
         "Austin",
         "USA",
         "United States Grand Prix",
         19
        ],
        [
         "Circuit of the Americas",
         "Austin",
         "USA",
         "United States Grand Prix",
         18
        ],
        [
         "Circuit of the Americas",
         "Austin",
         "USA",
         "United States Grand Prix",
         17
        ],
        [
         "Circuit of the Americas",
         "Austin",
         "USA",
         "United States Grand Prix",
         18
        ],
        [
         "Circuit of the Americas",
         "Austin",
         "USA",
         "United States Grand Prix",
         16
        ],
        [
         "Circuit of the Americas",
         "Austin",
         "USA",
         "United States Grand Prix",
         17
        ],
        [
         "Circuit of the Americas",
         "Austin",
         "USA",
         "United States Grand Prix",
         18
        ],
        [
         "Circuit of the Americas",
         "Austin",
         "USA",
         "United States Grand Prix",
         19
        ],
        [
         "Red Bull Ring",
         "Spielburg",
         "Austria",
         "Austrian Grand Prix",
         9
        ],
        [
         "Red Bull Ring",
         "Spielburg",
         "Austria",
         "Styrian Grand Prix",
         2
        ],
        [
         "Red Bull Ring",
         "Spielburg",
         "Austria",
         "Austrian Grand Prix",
         1
        ],
        [
         "Red Bull Ring",
         "Spielburg",
         "Austria",
         "Austrian Grand Prix",
         9
        ],
        [
         "Red Bull Ring",
         "Spielburg",
         "Austria",
         "Austrian Grand Prix",
         9
        ],
        [
         "Red Bull Ring",
         "Spielburg",
         "Austria",
         "Austrian Grand Prix",
         9
        ],
        [
         "Red Bull Ring",
         "Spielburg",
         "Austria",
         "Austrian Grand Prix",
         9
        ],
        [
         "Red Bull Ring",
         "Spielburg",
         "Austria",
         "Austrian Grand Prix",
         8
        ],
        [
         "Red Bull Ring",
         "Spielburg",
         "Austria",
         "Austrian Grand Prix",
         8
        ],
        [
         "Sochi Autodrom",
         "Sochi",
         "Russia",
         "Russian Grand Prix",
         15
        ],
        [
         "Sochi Autodrom",
         "Sochi",
         "Russia",
         "Russian Grand Prix",
         10
        ],
        [
         "Sochi Autodrom",
         "Sochi",
         "Russia",
         "Russian Grand Prix",
         16
        ],
        [
         "Sochi Autodrom",
         "Sochi",
         "Russia",
         "Russian Grand Prix",
         16
        ],
        [
         "Sochi Autodrom",
         "Sochi",
         "Russia",
         "Russian Grand Prix",
         4
        ],
        [
         "Sochi Autodrom",
         "Sochi",
         "Russia",
         "Russian Grand Prix",
         4
        ],
        [
         "Sochi Autodrom",
         "Sochi",
         "Russia",
         "Russian Grand Prix",
         15
        ],
        [
         "Sochi Autodrom",
         "Sochi",
         "Russia",
         "Russian Grand Prix",
         16
        ],
        [
         "Port Imperial Street Circuit",
         "New Jersey",
         "USA",
         null,
         null
        ],
        [
         "Baku City Circuit",
         "Baku",
         "Azerbaijan",
         "Azerbaijan Grand Prix",
         6
        ],
        [
         "Baku City Circuit",
         "Baku",
         "Azerbaijan",
         "Azerbaijan Grand Prix",
         4
        ],
        [
         "Baku City Circuit",
         "Baku",
         "Azerbaijan",
         "Azerbaijan Grand Prix",
         4
        ],
        [
         "Baku City Circuit",
         "Baku",
         "Azerbaijan",
         "Azerbaijan Grand Prix",
         8
        ],
        [
         "Baku City Circuit",
         "Baku",
         "Azerbaijan",
         "European Grand Prix",
         8
        ],
        [
         "Hanoi Street Circuit",
         "Hanoi",
         "Vietnam",
         null,
         null
        ],
        [
         "Autódromo Internacional do Algarve",
         "Portimão",
         "Portugal",
         "Portuguese Grand Prix",
         12
        ],
        [
         "Autodromo Internazionale del Mugello",
         "Mugello",
         "Italy",
         "Tuscan Grand Prix",
         9
        ],
        [
         "Jeddah Street Circuit",
         "Jeddah",
         "Saudi Arabia",
         "Saudi Arabian Grand Prix",
         22
        ]
       ],
       "datasetInfos": [],
       "dbfsResultPath": null,
       "isJsonSchema": true,
       "metadata": {},
       "overflow": false,
       "plotOptions": {
        "customPlotOptions": {},
        "displayType": "table",
        "pivotAggregation": null,
        "pivotColumns": null,
        "xColumns": null,
        "yColumns": null
       },
       "removedWidgets": [],
       "schema": [
        {
         "metadata": "{}",
         "name": "circuit_name",
         "type": "\"string\""
        },
        {
         "metadata": "{}",
         "name": "circuit_location",
         "type": "\"string\""
        },
        {
         "metadata": "{}",
         "name": "circuit_country",
         "type": "\"string\""
        },
        {
         "metadata": "{}",
         "name": "race_name",
         "type": "\"string\""
        },
        {
         "metadata": "{}",
         "name": "race_round",
         "type": "\"integer\""
        }
       ],
       "type": "table"
      }
     },
     "output_type": "display_data"
    }
   ],
   "source": [
    "race_circuit_df.display()"
   ]
  },
  {
   "cell_type": "markdown",
   "metadata": {
    "application/vnd.databricks.v1+cell": {
     "cellMetadata": {},
     "inputWidgets": {},
     "nuid": "3cad8bfe-85fc-4cb6-a17e-a2597d40a257",
     "showTitle": false,
     "title": ""
    }
   },
   "source": [
    "## b. Right Outer Join"
   ]
  },
  {
   "cell_type": "code",
   "execution_count": 0,
   "metadata": {
    "application/vnd.databricks.v1+cell": {
     "cellMetadata": {
      "byteLimit": 2048000,
      "rowLimit": 10000
     },
     "inputWidgets": {},
     "nuid": "feac2114-e4aa-4324-b5b0-8e9f925bade9",
     "showTitle": false,
     "title": ""
    }
   },
   "outputs": [
    {
     "output_type": "execute_result",
     "data": {
      "text/plain": [
       "1058"
      ]
     },
     "execution_count": 15,
     "metadata": {},
     "output_type": "execute_result"
    }
   ],
   "source": [
    "race_circuit_df = circuits_df\\\n",
    "    .join(races_df, on='circuit_id', how='right')\\\n",
    "    .select(\n",
    "        circuits_df.name.alias('circuit_name'),\n",
    "        circuits_df.location.alias('circuit_location'),\n",
    "        circuits_df.country.alias('circuit_country'),\n",
    "        races_df.name.alias('race_name'),\n",
    "        races_df.round.alias('race_round')\n",
    "    )\n",
    "race_circuit_df.count()"
   ]
  },
  {
   "cell_type": "code",
   "execution_count": 0,
   "metadata": {
    "application/vnd.databricks.v1+cell": {
     "cellMetadata": {
      "byteLimit": 2048000,
      "rowLimit": 10000
     },
     "inputWidgets": {},
     "nuid": "f2a5582d-e931-47ae-be3f-a1cae6ce0037",
     "showTitle": false,
     "title": ""
    }
   },
   "outputs": [
    {
     "output_type": "display_data",
     "data": {
      "text/html": [
       "<style scoped>\n",
       "  .table-result-container {\n",
       "    max-height: 300px;\n",
       "    overflow: auto;\n",
       "  }\n",
       "  table, th, td {\n",
       "    border: 1px solid black;\n",
       "    border-collapse: collapse;\n",
       "  }\n",
       "  th, td {\n",
       "    padding: 5px;\n",
       "  }\n",
       "  th {\n",
       "    text-align: left;\n",
       "  }\n",
       "</style><div class='table-result-container'><table class='table-result'><thead style='background-color: white'><tr><th>circuit_name</th><th>circuit_location</th><th>circuit_country</th><th>race_name</th><th>race_round</th></tr></thead><tbody><tr><td>Albert Park Grand Prix Circuit</td><td>Melbourne</td><td>Australia</td><td>Australian Grand Prix</td><td>1</td></tr><tr><td>Sepang International Circuit</td><td>Kuala Lumpur</td><td>Malaysia</td><td>Malaysian Grand Prix</td><td>2</td></tr><tr><td>Shanghai International Circuit</td><td>Shanghai</td><td>China</td><td>Chinese Grand Prix</td><td>3</td></tr><tr><td>Bahrain International Circuit</td><td>Sakhir</td><td>Bahrain</td><td>Bahrain Grand Prix</td><td>4</td></tr><tr><td>Circuit de Barcelona-Catalunya</td><td>Montmeló</td><td>Spain</td><td>Spanish Grand Prix</td><td>5</td></tr><tr><td>Circuit de Monaco</td><td>Monte-Carlo</td><td>Monaco</td><td>Monaco Grand Prix</td><td>6</td></tr><tr><td>Istanbul Park</td><td>Istanbul</td><td>Turkey</td><td>Turkish Grand Prix</td><td>7</td></tr><tr><td>Silverstone Circuit</td><td>Silverstone</td><td>UK</td><td>British Grand Prix</td><td>8</td></tr><tr><td>Nürburgring</td><td>Nürburg</td><td>Germany</td><td>German Grand Prix</td><td>9</td></tr><tr><td>Hungaroring</td><td>Budapest</td><td>Hungary</td><td>Hungarian Grand Prix</td><td>10</td></tr><tr><td>Valencia Street Circuit</td><td>Valencia</td><td>Spain</td><td>European Grand Prix</td><td>11</td></tr><tr><td>Circuit de Spa-Francorchamps</td><td>Spa</td><td>Belgium</td><td>Belgian Grand Prix</td><td>12</td></tr><tr><td>Autodromo Nazionale di Monza</td><td>Monza</td><td>Italy</td><td>Italian Grand Prix</td><td>13</td></tr><tr><td>Marina Bay Street Circuit</td><td>Marina Bay</td><td>Singapore</td><td>Singapore Grand Prix</td><td>14</td></tr><tr><td>Suzuka Circuit</td><td>Suzuka</td><td>Japan</td><td>Japanese Grand Prix</td><td>15</td></tr><tr><td>Autódromo José Carlos Pace</td><td>São Paulo</td><td>Brazil</td><td>Brazilian Grand Prix</td><td>16</td></tr><tr><td>Yas Marina Circuit</td><td>Abu Dhabi</td><td>UAE</td><td>Abu Dhabi Grand Prix</td><td>17</td></tr><tr><td>Albert Park Grand Prix Circuit</td><td>Melbourne</td><td>Australia</td><td>Australian Grand Prix</td><td>1</td></tr><tr><td>Sepang International Circuit</td><td>Kuala Lumpur</td><td>Malaysia</td><td>Malaysian Grand Prix</td><td>2</td></tr><tr><td>Bahrain International Circuit</td><td>Sakhir</td><td>Bahrain</td><td>Bahrain Grand Prix</td><td>3</td></tr><tr><td>Circuit de Barcelona-Catalunya</td><td>Montmeló</td><td>Spain</td><td>Spanish Grand Prix</td><td>4</td></tr><tr><td>Istanbul Park</td><td>Istanbul</td><td>Turkey</td><td>Turkish Grand Prix</td><td>5</td></tr><tr><td>Circuit de Monaco</td><td>Monte-Carlo</td><td>Monaco</td><td>Monaco Grand Prix</td><td>6</td></tr><tr><td>Circuit Gilles Villeneuve</td><td>Montreal</td><td>Canada</td><td>Canadian Grand Prix</td><td>7</td></tr><tr><td>Circuit de Nevers Magny-Cours</td><td>Magny Cours</td><td>France</td><td>French Grand Prix</td><td>8</td></tr><tr><td>Silverstone Circuit</td><td>Silverstone</td><td>UK</td><td>British Grand Prix</td><td>9</td></tr><tr><td>Hockenheimring</td><td>Hockenheim</td><td>Germany</td><td>German Grand Prix</td><td>10</td></tr><tr><td>Hungaroring</td><td>Budapest</td><td>Hungary</td><td>Hungarian Grand Prix</td><td>11</td></tr><tr><td>Valencia Street Circuit</td><td>Valencia</td><td>Spain</td><td>European Grand Prix</td><td>12</td></tr><tr><td>Circuit de Spa-Francorchamps</td><td>Spa</td><td>Belgium</td><td>Belgian Grand Prix</td><td>13</td></tr><tr><td>Autodromo Nazionale di Monza</td><td>Monza</td><td>Italy</td><td>Italian Grand Prix</td><td>14</td></tr><tr><td>Marina Bay Street Circuit</td><td>Marina Bay</td><td>Singapore</td><td>Singapore Grand Prix</td><td>15</td></tr><tr><td>Fuji Speedway</td><td>Oyama</td><td>Japan</td><td>Japanese Grand Prix</td><td>16</td></tr><tr><td>Shanghai International Circuit</td><td>Shanghai</td><td>China</td><td>Chinese Grand Prix</td><td>17</td></tr><tr><td>Autódromo José Carlos Pace</td><td>São Paulo</td><td>Brazil</td><td>Brazilian Grand Prix</td><td>18</td></tr><tr><td>Albert Park Grand Prix Circuit</td><td>Melbourne</td><td>Australia</td><td>Australian Grand Prix</td><td>1</td></tr><tr><td>Sepang International Circuit</td><td>Kuala Lumpur</td><td>Malaysia</td><td>Malaysian Grand Prix</td><td>2</td></tr><tr><td>Bahrain International Circuit</td><td>Sakhir</td><td>Bahrain</td><td>Bahrain Grand Prix</td><td>3</td></tr><tr><td>Circuit de Barcelona-Catalunya</td><td>Montmeló</td><td>Spain</td><td>Spanish Grand Prix</td><td>4</td></tr><tr><td>Circuit de Monaco</td><td>Monte-Carlo</td><td>Monaco</td><td>Monaco Grand Prix</td><td>5</td></tr><tr><td>Circuit Gilles Villeneuve</td><td>Montreal</td><td>Canada</td><td>Canadian Grand Prix</td><td>6</td></tr><tr><td>Indianapolis Motor Speedway</td><td>Indianapolis</td><td>USA</td><td>United States Grand Prix</td><td>7</td></tr><tr><td>Circuit de Nevers Magny-Cours</td><td>Magny Cours</td><td>France</td><td>French Grand Prix</td><td>8</td></tr><tr><td>Silverstone Circuit</td><td>Silverstone</td><td>UK</td><td>British Grand Prix</td><td>9</td></tr><tr><td>Nürburgring</td><td>Nürburg</td><td>Germany</td><td>European Grand Prix</td><td>10</td></tr><tr><td>Hungaroring</td><td>Budapest</td><td>Hungary</td><td>Hungarian Grand Prix</td><td>11</td></tr><tr><td>Istanbul Park</td><td>Istanbul</td><td>Turkey</td><td>Turkish Grand Prix</td><td>12</td></tr><tr><td>Autodromo Nazionale di Monza</td><td>Monza</td><td>Italy</td><td>Italian Grand Prix</td><td>13</td></tr><tr><td>Circuit de Spa-Francorchamps</td><td>Spa</td><td>Belgium</td><td>Belgian Grand Prix</td><td>14</td></tr><tr><td>Fuji Speedway</td><td>Oyama</td><td>Japan</td><td>Japanese Grand Prix</td><td>15</td></tr><tr><td>Shanghai International Circuit</td><td>Shanghai</td><td>China</td><td>Chinese Grand Prix</td><td>16</td></tr><tr><td>Autódromo José Carlos Pace</td><td>São Paulo</td><td>Brazil</td><td>Brazilian Grand Prix</td><td>17</td></tr><tr><td>Bahrain International Circuit</td><td>Sakhir</td><td>Bahrain</td><td>Bahrain Grand Prix</td><td>1</td></tr><tr><td>Sepang International Circuit</td><td>Kuala Lumpur</td><td>Malaysia</td><td>Malaysian Grand Prix</td><td>2</td></tr><tr><td>Albert Park Grand Prix Circuit</td><td>Melbourne</td><td>Australia</td><td>Australian Grand Prix</td><td>3</td></tr><tr><td>Autodromo Enzo e Dino Ferrari</td><td>Imola</td><td>Italy</td><td>San Marino Grand Prix</td><td>4</td></tr><tr><td>Nürburgring</td><td>Nürburg</td><td>Germany</td><td>European Grand Prix</td><td>5</td></tr><tr><td>Circuit de Barcelona-Catalunya</td><td>Montmeló</td><td>Spain</td><td>Spanish Grand Prix</td><td>6</td></tr><tr><td>Circuit de Monaco</td><td>Monte-Carlo</td><td>Monaco</td><td>Monaco Grand Prix</td><td>7</td></tr><tr><td>Silverstone Circuit</td><td>Silverstone</td><td>UK</td><td>British Grand Prix</td><td>8</td></tr><tr><td>Circuit Gilles Villeneuve</td><td>Montreal</td><td>Canada</td><td>Canadian Grand Prix</td><td>9</td></tr><tr><td>Indianapolis Motor Speedway</td><td>Indianapolis</td><td>USA</td><td>United States Grand Prix</td><td>10</td></tr><tr><td>Circuit de Nevers Magny-Cours</td><td>Magny Cours</td><td>France</td><td>French Grand Prix</td><td>11</td></tr><tr><td>Hockenheimring</td><td>Hockenheim</td><td>Germany</td><td>German Grand Prix</td><td>12</td></tr><tr><td>Hungaroring</td><td>Budapest</td><td>Hungary</td><td>Hungarian Grand Prix</td><td>13</td></tr><tr><td>Istanbul Park</td><td>Istanbul</td><td>Turkey</td><td>Turkish Grand Prix</td><td>14</td></tr><tr><td>Autodromo Nazionale di Monza</td><td>Monza</td><td>Italy</td><td>Italian Grand Prix</td><td>15</td></tr><tr><td>Shanghai International Circuit</td><td>Shanghai</td><td>China</td><td>Chinese Grand Prix</td><td>16</td></tr><tr><td>Suzuka Circuit</td><td>Suzuka</td><td>Japan</td><td>Japanese Grand Prix</td><td>17</td></tr><tr><td>Autódromo José Carlos Pace</td><td>São Paulo</td><td>Brazil</td><td>Brazilian Grand Prix</td><td>18</td></tr><tr><td>Albert Park Grand Prix Circuit</td><td>Melbourne</td><td>Australia</td><td>Australian Grand Prix</td><td>1</td></tr><tr><td>Sepang International Circuit</td><td>Kuala Lumpur</td><td>Malaysia</td><td>Malaysian Grand Prix</td><td>2</td></tr><tr><td>Bahrain International Circuit</td><td>Sakhir</td><td>Bahrain</td><td>Bahrain Grand Prix</td><td>3</td></tr><tr><td>Autodromo Enzo e Dino Ferrari</td><td>Imola</td><td>Italy</td><td>San Marino Grand Prix</td><td>4</td></tr><tr><td>Circuit de Barcelona-Catalunya</td><td>Montmeló</td><td>Spain</td><td>Spanish Grand Prix</td><td>5</td></tr><tr><td>Circuit de Monaco</td><td>Monte-Carlo</td><td>Monaco</td><td>Monaco Grand Prix</td><td>6</td></tr><tr><td>Nürburgring</td><td>Nürburg</td><td>Germany</td><td>European Grand Prix</td><td>7</td></tr><tr><td>Circuit Gilles Villeneuve</td><td>Montreal</td><td>Canada</td><td>Canadian Grand Prix</td><td>8</td></tr><tr><td>Indianapolis Motor Speedway</td><td>Indianapolis</td><td>USA</td><td>United States Grand Prix</td><td>9</td></tr><tr><td>Circuit de Nevers Magny-Cours</td><td>Magny Cours</td><td>France</td><td>French Grand Prix</td><td>10</td></tr><tr><td>Silverstone Circuit</td><td>Silverstone</td><td>UK</td><td>British Grand Prix</td><td>11</td></tr><tr><td>Hockenheimring</td><td>Hockenheim</td><td>Germany</td><td>German Grand Prix</td><td>12</td></tr><tr><td>Hungaroring</td><td>Budapest</td><td>Hungary</td><td>Hungarian Grand Prix</td><td>13</td></tr><tr><td>Istanbul Park</td><td>Istanbul</td><td>Turkey</td><td>Turkish Grand Prix</td><td>14</td></tr><tr><td>Autodromo Nazionale di Monza</td><td>Monza</td><td>Italy</td><td>Italian Grand Prix</td><td>15</td></tr><tr><td>Circuit de Spa-Francorchamps</td><td>Spa</td><td>Belgium</td><td>Belgian Grand Prix</td><td>16</td></tr><tr><td>Autódromo José Carlos Pace</td><td>São Paulo</td><td>Brazil</td><td>Brazilian Grand Prix</td><td>17</td></tr><tr><td>Suzuka Circuit</td><td>Suzuka</td><td>Japan</td><td>Japanese Grand Prix</td><td>18</td></tr><tr><td>Shanghai International Circuit</td><td>Shanghai</td><td>China</td><td>Chinese Grand Prix</td><td>19</td></tr><tr><td>Albert Park Grand Prix Circuit</td><td>Melbourne</td><td>Australia</td><td>Australian Grand Prix</td><td>1</td></tr><tr><td>Sepang International Circuit</td><td>Kuala Lumpur</td><td>Malaysia</td><td>Malaysian Grand Prix</td><td>2</td></tr><tr><td>Bahrain International Circuit</td><td>Sakhir</td><td>Bahrain</td><td>Bahrain Grand Prix</td><td>3</td></tr><tr><td>Autodromo Enzo e Dino Ferrari</td><td>Imola</td><td>Italy</td><td>San Marino Grand Prix</td><td>4</td></tr><tr><td>Circuit de Barcelona-Catalunya</td><td>Montmeló</td><td>Spain</td><td>Spanish Grand Prix</td><td>5</td></tr><tr><td>Circuit de Monaco</td><td>Monte-Carlo</td><td>Monaco</td><td>Monaco Grand Prix</td><td>6</td></tr><tr><td>Nürburgring</td><td>Nürburg</td><td>Germany</td><td>European Grand Prix</td><td>7</td></tr><tr><td>Circuit Gilles Villeneuve</td><td>Montreal</td><td>Canada</td><td>Canadian Grand Prix</td><td>8</td></tr><tr><td>Indianapolis Motor Speedway</td><td>Indianapolis</td><td>USA</td><td>United States Grand Prix</td><td>9</td></tr><tr><td>Circuit de Nevers Magny-Cours</td><td>Magny Cours</td><td>France</td><td>French Grand Prix</td><td>10</td></tr><tr><td>Silverstone Circuit</td><td>Silverstone</td><td>UK</td><td>British Grand Prix</td><td>11</td></tr><tr><td>Hockenheimring</td><td>Hockenheim</td><td>Germany</td><td>German Grand Prix</td><td>12</td></tr><tr><td>Hungaroring</td><td>Budapest</td><td>Hungary</td><td>Hungarian Grand Prix</td><td>13</td></tr><tr><td>Circuit de Spa-Francorchamps</td><td>Spa</td><td>Belgium</td><td>Belgian Grand Prix</td><td>14</td></tr><tr><td>Autodromo Nazionale di Monza</td><td>Monza</td><td>Italy</td><td>Italian Grand Prix</td><td>15</td></tr><tr><td>Shanghai International Circuit</td><td>Shanghai</td><td>China</td><td>Chinese Grand Prix</td><td>16</td></tr><tr><td>Suzuka Circuit</td><td>Suzuka</td><td>Japan</td><td>Japanese Grand Prix</td><td>17</td></tr><tr><td>Autódromo José Carlos Pace</td><td>São Paulo</td><td>Brazil</td><td>Brazilian Grand Prix</td><td>18</td></tr><tr><td>Albert Park Grand Prix Circuit</td><td>Melbourne</td><td>Australia</td><td>Australian Grand Prix</td><td>1</td></tr><tr><td>Sepang International Circuit</td><td>Kuala Lumpur</td><td>Malaysia</td><td>Malaysian Grand Prix</td><td>2</td></tr><tr><td>Autódromo José Carlos Pace</td><td>São Paulo</td><td>Brazil</td><td>Brazilian Grand Prix</td><td>3</td></tr><tr><td>Autodromo Enzo e Dino Ferrari</td><td>Imola</td><td>Italy</td><td>San Marino Grand Prix</td><td>4</td></tr><tr><td>Circuit de Barcelona-Catalunya</td><td>Montmeló</td><td>Spain</td><td>Spanish Grand Prix</td><td>5</td></tr><tr><td>A1-Ring</td><td>Spielburg</td><td>Austria</td><td>Austrian Grand Prix</td><td>6</td></tr><tr><td>Circuit de Monaco</td><td>Monte-Carlo</td><td>Monaco</td><td>Monaco Grand Prix</td><td>7</td></tr><tr><td>Circuit Gilles Villeneuve</td><td>Montreal</td><td>Canada</td><td>Canadian Grand Prix</td><td>8</td></tr><tr><td>Nürburgring</td><td>Nürburg</td><td>Germany</td><td>European Grand Prix</td><td>9</td></tr><tr><td>Circuit de Nevers Magny-Cours</td><td>Magny Cours</td><td>France</td><td>French Grand Prix</td><td>10</td></tr><tr><td>Silverstone Circuit</td><td>Silverstone</td><td>UK</td><td>British Grand Prix</td><td>11</td></tr><tr><td>Hockenheimring</td><td>Hockenheim</td><td>Germany</td><td>German Grand Prix</td><td>12</td></tr><tr><td>Hungaroring</td><td>Budapest</td><td>Hungary</td><td>Hungarian Grand Prix</td><td>13</td></tr><tr><td>Autodromo Nazionale di Monza</td><td>Monza</td><td>Italy</td><td>Italian Grand Prix</td><td>14</td></tr><tr><td>Indianapolis Motor Speedway</td><td>Indianapolis</td><td>USA</td><td>United States Grand Prix</td><td>15</td></tr><tr><td>Suzuka Circuit</td><td>Suzuka</td><td>Japan</td><td>Japanese Grand Prix</td><td>16</td></tr><tr><td>Albert Park Grand Prix Circuit</td><td>Melbourne</td><td>Australia</td><td>Australian Grand Prix</td><td>1</td></tr><tr><td>Sepang International Circuit</td><td>Kuala Lumpur</td><td>Malaysia</td><td>Malaysian Grand Prix</td><td>2</td></tr><tr><td>Autódromo José Carlos Pace</td><td>São Paulo</td><td>Brazil</td><td>Brazilian Grand Prix</td><td>3</td></tr><tr><td>Autodromo Enzo e Dino Ferrari</td><td>Imola</td><td>Italy</td><td>San Marino Grand Prix</td><td>4</td></tr><tr><td>Circuit de Barcelona-Catalunya</td><td>Montmeló</td><td>Spain</td><td>Spanish Grand Prix</td><td>5</td></tr><tr><td>A1-Ring</td><td>Spielburg</td><td>Austria</td><td>Austrian Grand Prix</td><td>6</td></tr><tr><td>Circuit de Monaco</td><td>Monte-Carlo</td><td>Monaco</td><td>Monaco Grand Prix</td><td>7</td></tr><tr><td>Circuit Gilles Villeneuve</td><td>Montreal</td><td>Canada</td><td>Canadian Grand Prix</td><td>8</td></tr><tr><td>Nürburgring</td><td>Nürburg</td><td>Germany</td><td>European Grand Prix</td><td>9</td></tr><tr><td>Silverstone Circuit</td><td>Silverstone</td><td>UK</td><td>British Grand Prix</td><td>10</td></tr><tr><td>Circuit de Nevers Magny-Cours</td><td>Magny Cours</td><td>France</td><td>French Grand Prix</td><td>11</td></tr><tr><td>Hockenheimring</td><td>Hockenheim</td><td>Germany</td><td>German Grand Prix</td><td>12</td></tr><tr><td>Hungaroring</td><td>Budapest</td><td>Hungary</td><td>Hungarian Grand Prix</td><td>13</td></tr><tr><td>Circuit de Spa-Francorchamps</td><td>Spa</td><td>Belgium</td><td>Belgian Grand Prix</td><td>14</td></tr><tr><td>Autodromo Nazionale di Monza</td><td>Monza</td><td>Italy</td><td>Italian Grand Prix</td><td>15</td></tr><tr><td>Indianapolis Motor Speedway</td><td>Indianapolis</td><td>USA</td><td>United States Grand Prix</td><td>16</td></tr><tr><td>Suzuka Circuit</td><td>Suzuka</td><td>Japan</td><td>Japanese Grand Prix</td><td>17</td></tr><tr><td>Albert Park Grand Prix Circuit</td><td>Melbourne</td><td>Australia</td><td>Australian Grand Prix</td><td>1</td></tr><tr><td>Sepang International Circuit</td><td>Kuala Lumpur</td><td>Malaysia</td><td>Malaysian Grand Prix</td><td>2</td></tr><tr><td>Autódromo José Carlos Pace</td><td>São Paulo</td><td>Brazil</td><td>Brazilian Grand Prix</td><td>3</td></tr><tr><td>Autodromo Enzo e Dino Ferrari</td><td>Imola</td><td>Italy</td><td>San Marino Grand Prix</td><td>4</td></tr><tr><td>Circuit de Barcelona-Catalunya</td><td>Montmeló</td><td>Spain</td><td>Spanish Grand Prix</td><td>5</td></tr><tr><td>A1-Ring</td><td>Spielburg</td><td>Austria</td><td>Austrian Grand Prix</td><td>6</td></tr><tr><td>Circuit de Monaco</td><td>Monte-Carlo</td><td>Monaco</td><td>Monaco Grand Prix</td><td>7</td></tr><tr><td>Circuit Gilles Villeneuve</td><td>Montreal</td><td>Canada</td><td>Canadian Grand Prix</td><td>8</td></tr><tr><td>Nürburgring</td><td>Nürburg</td><td>Germany</td><td>European Grand Prix</td><td>9</td></tr><tr><td>Circuit de Nevers Magny-Cours</td><td>Magny Cours</td><td>France</td><td>French Grand Prix</td><td>10</td></tr><tr><td>Silverstone Circuit</td><td>Silverstone</td><td>UK</td><td>British Grand Prix</td><td>11</td></tr><tr><td>Hockenheimring</td><td>Hockenheim</td><td>Germany</td><td>German Grand Prix</td><td>12</td></tr><tr><td>Hungaroring</td><td>Budapest</td><td>Hungary</td><td>Hungarian Grand Prix</td><td>13</td></tr><tr><td>Circuit de Spa-Francorchamps</td><td>Spa</td><td>Belgium</td><td>Belgian Grand Prix</td><td>14</td></tr><tr><td>Autodromo Nazionale di Monza</td><td>Monza</td><td>Italy</td><td>Italian Grand Prix</td><td>15</td></tr><tr><td>Indianapolis Motor Speedway</td><td>Indianapolis</td><td>USA</td><td>United States Grand Prix</td><td>16</td></tr><tr><td>Suzuka Circuit</td><td>Suzuka</td><td>Japan</td><td>Japanese Grand Prix</td><td>17</td></tr><tr><td>Albert Park Grand Prix Circuit</td><td>Melbourne</td><td>Australia</td><td>Australian Grand Prix</td><td>1</td></tr><tr><td>Autódromo José Carlos Pace</td><td>São Paulo</td><td>Brazil</td><td>Brazilian Grand Prix</td><td>2</td></tr><tr><td>Autodromo Enzo e Dino Ferrari</td><td>Imola</td><td>Italy</td><td>San Marino Grand Prix</td><td>3</td></tr><tr><td>Silverstone Circuit</td><td>Silverstone</td><td>UK</td><td>British Grand Prix</td><td>4</td></tr><tr><td>Circuit de Barcelona-Catalunya</td><td>Montmeló</td><td>Spain</td><td>Spanish Grand Prix</td><td>5</td></tr><tr><td>Nürburgring</td><td>Nürburg</td><td>Germany</td><td>European Grand Prix</td><td>6</td></tr><tr><td>Circuit de Monaco</td><td>Monte-Carlo</td><td>Monaco</td><td>Monaco Grand Prix</td><td>7</td></tr><tr><td>Circuit Gilles Villeneuve</td><td>Montreal</td><td>Canada</td><td>Canadian Grand Prix</td><td>8</td></tr><tr><td>Circuit de Nevers Magny-Cours</td><td>Magny Cours</td><td>France</td><td>French Grand Prix</td><td>9</td></tr><tr><td>A1-Ring</td><td>Spielburg</td><td>Austria</td><td>Austrian Grand Prix</td><td>10</td></tr><tr><td>Hockenheimring</td><td>Hockenheim</td><td>Germany</td><td>German Grand Prix</td><td>11</td></tr><tr><td>Hungaroring</td><td>Budapest</td><td>Hungary</td><td>Hungarian Grand Prix</td><td>12</td></tr><tr><td>Circuit de Spa-Francorchamps</td><td>Spa</td><td>Belgium</td><td>Belgian Grand Prix</td><td>13</td></tr><tr><td>Autodromo Nazionale di Monza</td><td>Monza</td><td>Italy</td><td>Italian Grand Prix</td><td>14</td></tr><tr><td>Indianapolis Motor Speedway</td><td>Indianapolis</td><td>USA</td><td>United States Grand Prix</td><td>15</td></tr><tr><td>Suzuka Circuit</td><td>Suzuka</td><td>Japan</td><td>Japanese Grand Prix</td><td>16</td></tr><tr><td>Sepang International Circuit</td><td>Kuala Lumpur</td><td>Malaysia</td><td>Malaysian Grand Prix</td><td>17</td></tr><tr><td>Albert Park Grand Prix Circuit</td><td>Melbourne</td><td>Australia</td><td>Australian Grand Prix</td><td>1</td></tr><tr><td>Autódromo José Carlos Pace</td><td>São Paulo</td><td>Brazil</td><td>Brazilian Grand Prix</td><td>2</td></tr><tr><td>Autodromo Enzo e Dino Ferrari</td><td>Imola</td><td>Italy</td><td>San Marino Grand Prix</td><td>3</td></tr><tr><td>Circuit de Monaco</td><td>Monte-Carlo</td><td>Monaco</td><td>Monaco Grand Prix</td><td>4</td></tr><tr><td>Circuit de Barcelona-Catalunya</td><td>Montmeló</td><td>Spain</td><td>Spanish Grand Prix</td><td>5</td></tr><tr><td>Circuit Gilles Villeneuve</td><td>Montreal</td><td>Canada</td><td>Canadian Grand Prix</td><td>6</td></tr><tr><td>Circuit de Nevers Magny-Cours</td><td>Magny Cours</td><td>France</td><td>French Grand Prix</td><td>7</td></tr><tr><td>Silverstone Circuit</td><td>Silverstone</td><td>UK</td><td>British Grand Prix</td><td>8</td></tr><tr><td>A1-Ring</td><td>Spielburg</td><td>Austria</td><td>Austrian Grand Prix</td><td>9</td></tr><tr><td>Hockenheimring</td><td>Hockenheim</td><td>Germany</td><td>German Grand Prix</td><td>10</td></tr><tr><td>Hungaroring</td><td>Budapest</td><td>Hungary</td><td>Hungarian Grand Prix</td><td>11</td></tr><tr><td>Circuit de Spa-Francorchamps</td><td>Spa</td><td>Belgium</td><td>Belgian Grand Prix</td><td>12</td></tr><tr><td>Autodromo Nazionale di Monza</td><td>Monza</td><td>Italy</td><td>Italian Grand Prix</td><td>13</td></tr><tr><td>Nürburgring</td><td>Nürburg</td><td>Germany</td><td>European Grand Prix</td><td>14</td></tr><tr><td>Sepang International Circuit</td><td>Kuala Lumpur</td><td>Malaysia</td><td>Malaysian Grand Prix</td><td>15</td></tr><tr><td>Suzuka Circuit</td><td>Suzuka</td><td>Japan</td><td>Japanese Grand Prix</td><td>16</td></tr><tr><td>Albert Park Grand Prix Circuit</td><td>Melbourne</td><td>Australia</td><td>Australian Grand Prix</td><td>1</td></tr><tr><td>Autódromo José Carlos Pace</td><td>São Paulo</td><td>Brazil</td><td>Brazilian Grand Prix</td><td>2</td></tr><tr><td>Autódromo Juan y Oscar Gálvez</td><td>Buenos Aires</td><td>Argentina</td><td>Argentine Grand Prix</td><td>3</td></tr><tr><td>Autodromo Enzo e Dino Ferrari</td><td>Imola</td><td>Italy</td><td>San Marino Grand Prix</td><td>4</td></tr><tr><td>Circuit de Barcelona-Catalunya</td><td>Montmeló</td><td>Spain</td><td>Spanish Grand Prix</td><td>5</td></tr><tr><td>Circuit de Monaco</td><td>Monte-Carlo</td><td>Monaco</td><td>Monaco Grand Prix</td><td>6</td></tr><tr><td>Circuit Gilles Villeneuve</td><td>Montreal</td><td>Canada</td><td>Canadian Grand Prix</td><td>7</td></tr><tr><td>Circuit de Nevers Magny-Cours</td><td>Magny Cours</td><td>France</td><td>French Grand Prix</td><td>8</td></tr><tr><td>Silverstone Circuit</td><td>Silverstone</td><td>UK</td><td>British Grand Prix</td><td>9</td></tr><tr><td>A1-Ring</td><td>Spielburg</td><td>Austria</td><td>Austrian Grand Prix</td><td>10</td></tr><tr><td>Hockenheimring</td><td>Hockenheim</td><td>Germany</td><td>German Grand Prix</td><td>11</td></tr><tr><td>Hungaroring</td><td>Budapest</td><td>Hungary</td><td>Hungarian Grand Prix</td><td>12</td></tr><tr><td>Circuit de Spa-Francorchamps</td><td>Spa</td><td>Belgium</td><td>Belgian Grand Prix</td><td>13</td></tr><tr><td>Autodromo Nazionale di Monza</td><td>Monza</td><td>Italy</td><td>Italian Grand Prix</td><td>14</td></tr><tr><td>Nürburgring</td><td>Nürburg</td><td>Germany</td><td>Luxembourg Grand Prix</td><td>15</td></tr><tr><td>Suzuka Circuit</td><td>Suzuka</td><td>Japan</td><td>Japanese Grand Prix</td><td>16</td></tr><tr><td>Albert Park Grand Prix Circuit</td><td>Melbourne</td><td>Australia</td><td>Australian Grand Prix</td><td>1</td></tr><tr><td>Autódromo José Carlos Pace</td><td>São Paulo</td><td>Brazil</td><td>Brazilian Grand Prix</td><td>2</td></tr><tr><td>Autódromo Juan y Oscar Gálvez</td><td>Buenos Aires</td><td>Argentina</td><td>Argentine Grand Prix</td><td>3</td></tr><tr><td>Autodromo Enzo e Dino Ferrari</td><td>Imola</td><td>Italy</td><td>San Marino Grand Prix</td><td>4</td></tr><tr><td>Circuit de Monaco</td><td>Monte-Carlo</td><td>Monaco</td><td>Monaco Grand Prix</td><td>5</td></tr><tr><td>Circuit de Barcelona-Catalunya</td><td>Montmeló</td><td>Spain</td><td>Spanish Grand Prix</td><td>6</td></tr><tr><td>Circuit Gilles Villeneuve</td><td>Montreal</td><td>Canada</td><td>Canadian Grand Prix</td><td>7</td></tr><tr><td>Circuit de Nevers Magny-Cours</td><td>Magny Cours</td><td>France</td><td>French Grand Prix</td><td>8</td></tr><tr><td>Silverstone Circuit</td><td>Silverstone</td><td>UK</td><td>British Grand Prix</td><td>9</td></tr><tr><td>Hockenheimring</td><td>Hockenheim</td><td>Germany</td><td>German Grand Prix</td><td>10</td></tr><tr><td>Hungaroring</td><td>Budapest</td><td>Hungary</td><td>Hungarian Grand Prix</td><td>11</td></tr><tr><td>Circuit de Spa-Francorchamps</td><td>Spa</td><td>Belgium</td><td>Belgian Grand Prix</td><td>12</td></tr><tr><td>Autodromo Nazionale di Monza</td><td>Monza</td><td>Italy</td><td>Italian Grand Prix</td><td>13</td></tr><tr><td>A1-Ring</td><td>Spielburg</td><td>Austria</td><td>Austrian Grand Prix</td><td>14</td></tr><tr><td>Nürburgring</td><td>Nürburg</td><td>Germany</td><td>Luxembourg Grand Prix</td><td>15</td></tr><tr><td>Suzuka Circuit</td><td>Suzuka</td><td>Japan</td><td>Japanese Grand Prix</td><td>16</td></tr><tr><td>Circuito de Jerez</td><td>Jerez de la Frontera</td><td>Spain</td><td>European Grand Prix</td><td>17</td></tr><tr><td>Albert Park Grand Prix Circuit</td><td>Melbourne</td><td>Australia</td><td>Australian Grand Prix</td><td>1</td></tr><tr><td>Autódromo José Carlos Pace</td><td>São Paulo</td><td>Brazil</td><td>Brazilian Grand Prix</td><td>2</td></tr><tr><td>Autódromo Juan y Oscar Gálvez</td><td>Buenos Aires</td><td>Argentina</td><td>Argentine Grand Prix</td><td>3</td></tr><tr><td>Nürburgring</td><td>Nürburg</td><td>Germany</td><td>European Grand Prix</td><td>4</td></tr><tr><td>Autodromo Enzo e Dino Ferrari</td><td>Imola</td><td>Italy</td><td>San Marino Grand Prix</td><td>5</td></tr><tr><td>Circuit de Monaco</td><td>Monte-Carlo</td><td>Monaco</td><td>Monaco Grand Prix</td><td>6</td></tr><tr><td>Circuit de Barcelona-Catalunya</td><td>Montmeló</td><td>Spain</td><td>Spanish Grand Prix</td><td>7</td></tr><tr><td>Circuit Gilles Villeneuve</td><td>Montreal</td><td>Canada</td><td>Canadian Grand Prix</td><td>8</td></tr><tr><td>Circuit de Nevers Magny-Cours</td><td>Magny Cours</td><td>France</td><td>French Grand Prix</td><td>9</td></tr><tr><td>Silverstone Circuit</td><td>Silverstone</td><td>UK</td><td>British Grand Prix</td><td>10</td></tr><tr><td>Hockenheimring</td><td>Hockenheim</td><td>Germany</td><td>German Grand Prix</td><td>11</td></tr><tr><td>Hungaroring</td><td>Budapest</td><td>Hungary</td><td>Hungarian Grand Prix</td><td>12</td></tr><tr><td>Circuit de Spa-Francorchamps</td><td>Spa</td><td>Belgium</td><td>Belgian Grand Prix</td><td>13</td></tr><tr><td>Autodromo Nazionale di Monza</td><td>Monza</td><td>Italy</td><td>Italian Grand Prix</td><td>14</td></tr><tr><td>Autódromo do Estoril</td><td>Estoril</td><td>Portugal</td><td>Portuguese Grand Prix</td><td>15</td></tr><tr><td>Suzuka Circuit</td><td>Suzuka</td><td>Japan</td><td>Japanese Grand Prix</td><td>16</td></tr><tr><td>Autódromo José Carlos Pace</td><td>São Paulo</td><td>Brazil</td><td>Brazilian Grand Prix</td><td>1</td></tr><tr><td>Autódromo Juan y Oscar Gálvez</td><td>Buenos Aires</td><td>Argentina</td><td>Argentine Grand Prix</td><td>2</td></tr><tr><td>Autodromo Enzo e Dino Ferrari</td><td>Imola</td><td>Italy</td><td>San Marino Grand Prix</td><td>3</td></tr><tr><td>Circuit de Barcelona-Catalunya</td><td>Montmeló</td><td>Spain</td><td>Spanish Grand Prix</td><td>4</td></tr><tr><td>Circuit de Monaco</td><td>Monte-Carlo</td><td>Monaco</td><td>Monaco Grand Prix</td><td>5</td></tr><tr><td>Circuit Gilles Villeneuve</td><td>Montreal</td><td>Canada</td><td>Canadian Grand Prix</td><td>6</td></tr><tr><td>Circuit de Nevers Magny-Cours</td><td>Magny Cours</td><td>France</td><td>French Grand Prix</td><td>7</td></tr><tr><td>Silverstone Circuit</td><td>Silverstone</td><td>UK</td><td>British Grand Prix</td><td>8</td></tr><tr><td>Hockenheimring</td><td>Hockenheim</td><td>Germany</td><td>German Grand Prix</td><td>9</td></tr><tr><td>Hungaroring</td><td>Budapest</td><td>Hungary</td><td>Hungarian Grand Prix</td><td>10</td></tr><tr><td>Circuit de Spa-Francorchamps</td><td>Spa</td><td>Belgium</td><td>Belgian Grand Prix</td><td>11</td></tr><tr><td>Autodromo Nazionale di Monza</td><td>Monza</td><td>Italy</td><td>Italian Grand Prix</td><td>12</td></tr><tr><td>Autódromo do Estoril</td><td>Estoril</td><td>Portugal</td><td>Portuguese Grand Prix</td><td>13</td></tr><tr><td>Nürburgring</td><td>Nürburg</td><td>Germany</td><td>European Grand Prix</td><td>14</td></tr><tr><td>Okayama International Circuit</td><td>Okayama</td><td>Japan</td><td>Pacific Grand Prix</td><td>15</td></tr><tr><td>Suzuka Circuit</td><td>Suzuka</td><td>Japan</td><td>Japanese Grand Prix</td><td>16</td></tr><tr><td>Adelaide Street Circuit</td><td>Adelaide</td><td>Australia</td><td>Australian Grand Prix</td><td>17</td></tr><tr><td>Autódromo José Carlos Pace</td><td>São Paulo</td><td>Brazil</td><td>Brazilian Grand Prix</td><td>1</td></tr><tr><td>Okayama International Circuit</td><td>Okayama</td><td>Japan</td><td>Pacific Grand Prix</td><td>2</td></tr><tr><td>Autodromo Enzo e Dino Ferrari</td><td>Imola</td><td>Italy</td><td>San Marino Grand Prix</td><td>3</td></tr><tr><td>Circuit de Monaco</td><td>Monte-Carlo</td><td>Monaco</td><td>Monaco Grand Prix</td><td>4</td></tr><tr><td>Circuit de Barcelona-Catalunya</td><td>Montmeló</td><td>Spain</td><td>Spanish Grand Prix</td><td>5</td></tr><tr><td>Circuit Gilles Villeneuve</td><td>Montreal</td><td>Canada</td><td>Canadian Grand Prix</td><td>6</td></tr><tr><td>Circuit de Nevers Magny-Cours</td><td>Magny Cours</td><td>France</td><td>French Grand Prix</td><td>7</td></tr><tr><td>Silverstone Circuit</td><td>Silverstone</td><td>UK</td><td>British Grand Prix</td><td>8</td></tr><tr><td>Hockenheimring</td><td>Hockenheim</td><td>Germany</td><td>German Grand Prix</td><td>9</td></tr><tr><td>Hungaroring</td><td>Budapest</td><td>Hungary</td><td>Hungarian Grand Prix</td><td>10</td></tr><tr><td>Circuit de Spa-Francorchamps</td><td>Spa</td><td>Belgium</td><td>Belgian Grand Prix</td><td>11</td></tr><tr><td>Autodromo Nazionale di Monza</td><td>Monza</td><td>Italy</td><td>Italian Grand Prix</td><td>12</td></tr><tr><td>Autódromo do Estoril</td><td>Estoril</td><td>Portugal</td><td>Portuguese Grand Prix</td><td>13</td></tr><tr><td>Circuito de Jerez</td><td>Jerez de la Frontera</td><td>Spain</td><td>European Grand Prix</td><td>14</td></tr><tr><td>Suzuka Circuit</td><td>Suzuka</td><td>Japan</td><td>Japanese Grand Prix</td><td>15</td></tr><tr><td>Adelaide Street Circuit</td><td>Adelaide</td><td>Australia</td><td>Australian Grand Prix</td><td>16</td></tr><tr><td>Kyalami</td><td>Midrand</td><td>South Africa</td><td>South African Grand Prix</td><td>1</td></tr><tr><td>Autódromo José Carlos Pace</td><td>São Paulo</td><td>Brazil</td><td>Brazilian Grand Prix</td><td>2</td></tr><tr><td>Donington Park</td><td>Castle Donington</td><td>UK</td><td>European Grand Prix</td><td>3</td></tr><tr><td>Autodromo Enzo e Dino Ferrari</td><td>Imola</td><td>Italy</td><td>San Marino Grand Prix</td><td>4</td></tr><tr><td>Circuit de Barcelona-Catalunya</td><td>Montmeló</td><td>Spain</td><td>Spanish Grand Prix</td><td>5</td></tr><tr><td>Circuit de Monaco</td><td>Monte-Carlo</td><td>Monaco</td><td>Monaco Grand Prix</td><td>6</td></tr><tr><td>Circuit Gilles Villeneuve</td><td>Montreal</td><td>Canada</td><td>Canadian Grand Prix</td><td>7</td></tr><tr><td>Circuit de Nevers Magny-Cours</td><td>Magny Cours</td><td>France</td><td>French Grand Prix</td><td>8</td></tr><tr><td>Silverstone Circuit</td><td>Silverstone</td><td>UK</td><td>British Grand Prix</td><td>9</td></tr><tr><td>Hockenheimring</td><td>Hockenheim</td><td>Germany</td><td>German Grand Prix</td><td>10</td></tr><tr><td>Hungaroring</td><td>Budapest</td><td>Hungary</td><td>Hungarian Grand Prix</td><td>11</td></tr><tr><td>Circuit de Spa-Francorchamps</td><td>Spa</td><td>Belgium</td><td>Belgian Grand Prix</td><td>12</td></tr><tr><td>Autodromo Nazionale di Monza</td><td>Monza</td><td>Italy</td><td>Italian Grand Prix</td><td>13</td></tr><tr><td>Autódromo do Estoril</td><td>Estoril</td><td>Portugal</td><td>Portuguese Grand Prix</td><td>14</td></tr><tr><td>Suzuka Circuit</td><td>Suzuka</td><td>Japan</td><td>Japanese Grand Prix</td><td>15</td></tr><tr><td>Adelaide Street Circuit</td><td>Adelaide</td><td>Australia</td><td>Australian Grand Prix</td><td>16</td></tr><tr><td>Kyalami</td><td>Midrand</td><td>South Africa</td><td>South African Grand Prix</td><td>1</td></tr><tr><td>Autódromo Hermanos Rodríguez</td><td>Mexico City</td><td>Mexico</td><td>Mexican Grand Prix</td><td>2</td></tr><tr><td>Autódromo José Carlos Pace</td><td>São Paulo</td><td>Brazil</td><td>Brazilian Grand Prix</td><td>3</td></tr><tr><td>Circuit de Barcelona-Catalunya</td><td>Montmeló</td><td>Spain</td><td>Spanish Grand Prix</td><td>4</td></tr><tr><td>Autodromo Enzo e Dino Ferrari</td><td>Imola</td><td>Italy</td><td>San Marino Grand Prix</td><td>5</td></tr><tr><td>Circuit de Monaco</td><td>Monte-Carlo</td><td>Monaco</td><td>Monaco Grand Prix</td><td>6</td></tr><tr><td>Circuit Gilles Villeneuve</td><td>Montreal</td><td>Canada</td><td>Canadian Grand Prix</td><td>7</td></tr><tr><td>Circuit de Nevers Magny-Cours</td><td>Magny Cours</td><td>France</td><td>French Grand Prix</td><td>8</td></tr><tr><td>Silverstone Circuit</td><td>Silverstone</td><td>UK</td><td>British Grand Prix</td><td>9</td></tr><tr><td>Hockenheimring</td><td>Hockenheim</td><td>Germany</td><td>German Grand Prix</td><td>10</td></tr><tr><td>Hungaroring</td><td>Budapest</td><td>Hungary</td><td>Hungarian Grand Prix</td><td>11</td></tr><tr><td>Circuit de Spa-Francorchamps</td><td>Spa</td><td>Belgium</td><td>Belgian Grand Prix</td><td>12</td></tr><tr><td>Autodromo Nazionale di Monza</td><td>Monza</td><td>Italy</td><td>Italian Grand Prix</td><td>13</td></tr><tr><td>Autódromo do Estoril</td><td>Estoril</td><td>Portugal</td><td>Portuguese Grand Prix</td><td>14</td></tr><tr><td>Suzuka Circuit</td><td>Suzuka</td><td>Japan</td><td>Japanese Grand Prix</td><td>15</td></tr><tr><td>Adelaide Street Circuit</td><td>Adelaide</td><td>Australia</td><td>Australian Grand Prix</td><td>16</td></tr><tr><td>Phoenix street circuit</td><td>Phoenix</td><td>USA</td><td>United States Grand Prix</td><td>1</td></tr><tr><td>Autódromo José Carlos Pace</td><td>São Paulo</td><td>Brazil</td><td>Brazilian Grand Prix</td><td>2</td></tr><tr><td>Autodromo Enzo e Dino Ferrari</td><td>Imola</td><td>Italy</td><td>San Marino Grand Prix</td><td>3</td></tr><tr><td>Circuit de Monaco</td><td>Monte-Carlo</td><td>Monaco</td><td>Monaco Grand Prix</td><td>4</td></tr><tr><td>Circuit Gilles Villeneuve</td><td>Montreal</td><td>Canada</td><td>Canadian Grand Prix</td><td>5</td></tr><tr><td>Autódromo Hermanos Rodríguez</td><td>Mexico City</td><td>Mexico</td><td>Mexican Grand Prix</td><td>6</td></tr><tr><td>Circuit de Nevers Magny-Cours</td><td>Magny Cours</td><td>France</td><td>French Grand Prix</td><td>7</td></tr><tr><td>Silverstone Circuit</td><td>Silverstone</td><td>UK</td><td>British Grand Prix</td><td>8</td></tr><tr><td>Hockenheimring</td><td>Hockenheim</td><td>Germany</td><td>German Grand Prix</td><td>9</td></tr><tr><td>Hungaroring</td><td>Budapest</td><td>Hungary</td><td>Hungarian Grand Prix</td><td>10</td></tr><tr><td>Circuit de Spa-Francorchamps</td><td>Spa</td><td>Belgium</td><td>Belgian Grand Prix</td><td>11</td></tr><tr><td>Autodromo Nazionale di Monza</td><td>Monza</td><td>Italy</td><td>Italian Grand Prix</td><td>12</td></tr><tr><td>Autódromo do Estoril</td><td>Estoril</td><td>Portugal</td><td>Portuguese Grand Prix</td><td>13</td></tr><tr><td>Circuit de Barcelona-Catalunya</td><td>Montmeló</td><td>Spain</td><td>Spanish Grand Prix</td><td>14</td></tr><tr><td>Suzuka Circuit</td><td>Suzuka</td><td>Japan</td><td>Japanese Grand Prix</td><td>15</td></tr><tr><td>Adelaide Street Circuit</td><td>Adelaide</td><td>Australia</td><td>Australian Grand Prix</td><td>16</td></tr><tr><td>Phoenix street circuit</td><td>Phoenix</td><td>USA</td><td>United States Grand Prix</td><td>1</td></tr><tr><td>Autódromo José Carlos Pace</td><td>São Paulo</td><td>Brazil</td><td>Brazilian Grand Prix</td><td>2</td></tr><tr><td>Autodromo Enzo e Dino Ferrari</td><td>Imola</td><td>Italy</td><td>San Marino Grand Prix</td><td>3</td></tr><tr><td>Circuit de Monaco</td><td>Monte-Carlo</td><td>Monaco</td><td>Monaco Grand Prix</td><td>4</td></tr><tr><td>Circuit Gilles Villeneuve</td><td>Montreal</td><td>Canada</td><td>Canadian Grand Prix</td><td>5</td></tr><tr><td>Autódromo Hermanos Rodríguez</td><td>Mexico City</td><td>Mexico</td><td>Mexican Grand Prix</td><td>6</td></tr><tr><td>Circuit Paul Ricard</td><td>Le Castellet</td><td>France</td><td>French Grand Prix</td><td>7</td></tr><tr><td>Silverstone Circuit</td><td>Silverstone</td><td>UK</td><td>British Grand Prix</td><td>8</td></tr><tr><td>Hockenheimring</td><td>Hockenheim</td><td>Germany</td><td>German Grand Prix</td><td>9</td></tr><tr><td>Hungaroring</td><td>Budapest</td><td>Hungary</td><td>Hungarian Grand Prix</td><td>10</td></tr><tr><td>Circuit de Spa-Francorchamps</td><td>Spa</td><td>Belgium</td><td>Belgian Grand Prix</td><td>11</td></tr><tr><td>Autodromo Nazionale di Monza</td><td>Monza</td><td>Italy</td><td>Italian Grand Prix</td><td>12</td></tr><tr><td>Autódromo do Estoril</td><td>Estoril</td><td>Portugal</td><td>Portuguese Grand Prix</td><td>13</td></tr><tr><td>Circuito de Jerez</td><td>Jerez de la Frontera</td><td>Spain</td><td>Spanish Grand Prix</td><td>14</td></tr><tr><td>Suzuka Circuit</td><td>Suzuka</td><td>Japan</td><td>Japanese Grand Prix</td><td>15</td></tr><tr><td>Adelaide Street Circuit</td><td>Adelaide</td><td>Australia</td><td>Australian Grand Prix</td><td>16</td></tr><tr><td>Bahrain International Circuit</td><td>Sakhir</td><td>Bahrain</td><td>Bahrain Grand Prix</td><td>1</td></tr><tr><td>Albert Park Grand Prix Circuit</td><td>Melbourne</td><td>Australia</td><td>Australian Grand Prix</td><td>2</td></tr><tr><td>Sepang International Circuit</td><td>Kuala Lumpur</td><td>Malaysia</td><td>Malaysian Grand Prix</td><td>3</td></tr><tr><td>Shanghai International Circuit</td><td>Shanghai</td><td>China</td><td>Chinese Grand Prix</td><td>4</td></tr><tr><td>Circuit de Barcelona-Catalunya</td><td>Montmeló</td><td>Spain</td><td>Spanish Grand Prix</td><td>5</td></tr><tr><td>Circuit de Monaco</td><td>Monte-Carlo</td><td>Monaco</td><td>Monaco Grand Prix</td><td>6</td></tr><tr><td>Istanbul Park</td><td>Istanbul</td><td>Turkey</td><td>Turkish Grand Prix</td><td>7</td></tr><tr><td>Circuit Gilles Villeneuve</td><td>Montreal</td><td>Canada</td><td>Canadian Grand Prix</td><td>8</td></tr><tr><td>Valencia Street Circuit</td><td>Valencia</td><td>Spain</td><td>European Grand Prix</td><td>9</td></tr><tr><td>Silverstone Circuit</td><td>Silverstone</td><td>UK</td><td>British Grand Prix</td><td>10</td></tr><tr><td>Hockenheimring</td><td>Hockenheim</td><td>Germany</td><td>German Grand Prix</td><td>11</td></tr><tr><td>Hungaroring</td><td>Budapest</td><td>Hungary</td><td>Hungarian Grand Prix</td><td>12</td></tr><tr><td>Circuit de Spa-Francorchamps</td><td>Spa</td><td>Belgium</td><td>Belgian Grand Prix</td><td>13</td></tr><tr><td>Autodromo Nazionale di Monza</td><td>Monza</td><td>Italy</td><td>Italian Grand Prix</td><td>14</td></tr><tr><td>Marina Bay Street Circuit</td><td>Marina Bay</td><td>Singapore</td><td>Singapore Grand Prix</td><td>15</td></tr><tr><td>Suzuka Circuit</td><td>Suzuka</td><td>Japan</td><td>Japanese Grand Prix</td><td>16</td></tr><tr><td>Korean International Circuit</td><td>Yeongam County</td><td>Korea</td><td>Korean Grand Prix</td><td>17</td></tr><tr><td>Autódromo José Carlos Pace</td><td>São Paulo</td><td>Brazil</td><td>Brazilian Grand Prix</td><td>18</td></tr><tr><td>Yas Marina Circuit</td><td>Abu Dhabi</td><td>UAE</td><td>Abu Dhabi Grand Prix</td><td>19</td></tr><tr><td>Autódromo Internacional Nelson Piquet</td><td>Rio de Janeiro</td><td>Brazil</td><td>Brazilian Grand Prix</td><td>1</td></tr><tr><td>Autodromo Enzo e Dino Ferrari</td><td>Imola</td><td>Italy</td><td>San Marino Grand Prix</td><td>2</td></tr><tr><td>Circuit de Monaco</td><td>Monte-Carlo</td><td>Monaco</td><td>Monaco Grand Prix</td><td>3</td></tr><tr><td>Autódromo Hermanos Rodríguez</td><td>Mexico City</td><td>Mexico</td><td>Mexican Grand Prix</td><td>4</td></tr><tr><td>Phoenix street circuit</td><td>Phoenix</td><td>USA</td><td>United States Grand Prix</td><td>5</td></tr><tr><td>Circuit Gilles Villeneuve</td><td>Montreal</td><td>Canada</td><td>Canadian Grand Prix</td><td>6</td></tr><tr><td>Circuit Paul Ricard</td><td>Le Castellet</td><td>France</td><td>French Grand Prix</td><td>7</td></tr><tr><td>Silverstone Circuit</td><td>Silverstone</td><td>UK</td><td>British Grand Prix</td><td>8</td></tr><tr><td>Hockenheimring</td><td>Hockenheim</td><td>Germany</td><td>German Grand Prix</td><td>9</td></tr><tr><td>Hungaroring</td><td>Budapest</td><td>Hungary</td><td>Hungarian Grand Prix</td><td>10</td></tr><tr><td>Circuit de Spa-Francorchamps</td><td>Spa</td><td>Belgium</td><td>Belgian Grand Prix</td><td>11</td></tr><tr><td>Autodromo Nazionale di Monza</td><td>Monza</td><td>Italy</td><td>Italian Grand Prix</td><td>12</td></tr><tr><td>Autódromo do Estoril</td><td>Estoril</td><td>Portugal</td><td>Portuguese Grand Prix</td><td>13</td></tr><tr><td>Circuito de Jerez</td><td>Jerez de la Frontera</td><td>Spain</td><td>Spanish Grand Prix</td><td>14</td></tr><tr><td>Suzuka Circuit</td><td>Suzuka</td><td>Japan</td><td>Japanese Grand Prix</td><td>15</td></tr><tr><td>Adelaide Street Circuit</td><td>Adelaide</td><td>Australia</td><td>Australian Grand Prix</td><td>16</td></tr><tr><td>Autódromo Internacional Nelson Piquet</td><td>Rio de Janeiro</td><td>Brazil</td><td>Brazilian Grand Prix</td><td>1</td></tr><tr><td>Autodromo Enzo e Dino Ferrari</td><td>Imola</td><td>Italy</td><td>San Marino Grand Prix</td><td>2</td></tr><tr><td>Circuit de Monaco</td><td>Monte-Carlo</td><td>Monaco</td><td>Monaco Grand Prix</td><td>3</td></tr><tr><td>Autódromo Hermanos Rodríguez</td><td>Mexico City</td><td>Mexico</td><td>Mexican Grand Prix</td><td>4</td></tr><tr><td>Circuit Gilles Villeneuve</td><td>Montreal</td><td>Canada</td><td>Canadian Grand Prix</td><td>5</td></tr><tr><td>Detroit Street Circuit</td><td>Detroit</td><td>USA</td><td>Detroit Grand Prix</td><td>6</td></tr><tr><td>Circuit Paul Ricard</td><td>Le Castellet</td><td>France</td><td>French Grand Prix</td><td>7</td></tr><tr><td>Silverstone Circuit</td><td>Silverstone</td><td>UK</td><td>British Grand Prix</td><td>8</td></tr><tr><td>Hockenheimring</td><td>Hockenheim</td><td>Germany</td><td>German Grand Prix</td><td>9</td></tr><tr><td>Hungaroring</td><td>Budapest</td><td>Hungary</td><td>Hungarian Grand Prix</td><td>10</td></tr><tr><td>Circuit de Spa-Francorchamps</td><td>Spa</td><td>Belgium</td><td>Belgian Grand Prix</td><td>11</td></tr><tr><td>Autodromo Nazionale di Monza</td><td>Monza</td><td>Italy</td><td>Italian Grand Prix</td><td>12</td></tr><tr><td>Autódromo do Estoril</td><td>Estoril</td><td>Portugal</td><td>Portuguese Grand Prix</td><td>13</td></tr><tr><td>Circuito de Jerez</td><td>Jerez de la Frontera</td><td>Spain</td><td>Spanish Grand Prix</td><td>14</td></tr><tr><td>Suzuka Circuit</td><td>Suzuka</td><td>Japan</td><td>Japanese Grand Prix</td><td>15</td></tr><tr><td>Adelaide Street Circuit</td><td>Adelaide</td><td>Australia</td><td>Australian Grand Prix</td><td>16</td></tr><tr><td>Autódromo Internacional Nelson Piquet</td><td>Rio de Janeiro</td><td>Brazil</td><td>Brazilian Grand Prix</td><td>1</td></tr><tr><td>Autodromo Enzo e Dino Ferrari</td><td>Imola</td><td>Italy</td><td>San Marino Grand Prix</td><td>2</td></tr><tr><td>Circuit de Spa-Francorchamps</td><td>Spa</td><td>Belgium</td><td>Belgian Grand Prix</td><td>3</td></tr><tr><td>Circuit de Monaco</td><td>Monte-Carlo</td><td>Monaco</td><td>Monaco Grand Prix</td><td>4</td></tr><tr><td>Detroit Street Circuit</td><td>Detroit</td><td>USA</td><td>Detroit Grand Prix</td><td>5</td></tr><tr><td>Circuit Paul Ricard</td><td>Le Castellet</td><td>France</td><td>French Grand Prix</td><td>6</td></tr><tr><td>Silverstone Circuit</td><td>Silverstone</td><td>UK</td><td>British Grand Prix</td><td>7</td></tr><tr><td>Hockenheimring</td><td>Hockenheim</td><td>Germany</td><td>German Grand Prix</td><td>8</td></tr><tr><td>Hungaroring</td><td>Budapest</td><td>Hungary</td><td>Hungarian Grand Prix</td><td>9</td></tr><tr><td>A1-Ring</td><td>Spielburg</td><td>Austria</td><td>Austrian Grand Prix</td><td>10</td></tr><tr><td>Autodromo Nazionale di Monza</td><td>Monza</td><td>Italy</td><td>Italian Grand Prix</td><td>11</td></tr><tr><td>Autódromo do Estoril</td><td>Estoril</td><td>Portugal</td><td>Portuguese Grand Prix</td><td>12</td></tr><tr><td>Circuito de Jerez</td><td>Jerez de la Frontera</td><td>Spain</td><td>Spanish Grand Prix</td><td>13</td></tr><tr><td>Autódromo Hermanos Rodríguez</td><td>Mexico City</td><td>Mexico</td><td>Mexican Grand Prix</td><td>14</td></tr><tr><td>Suzuka Circuit</td><td>Suzuka</td><td>Japan</td><td>Japanese Grand Prix</td><td>15</td></tr><tr><td>Adelaide Street Circuit</td><td>Adelaide</td><td>Australia</td><td>Australian Grand Prix</td><td>16</td></tr><tr><td>Autódromo Internacional Nelson Piquet</td><td>Rio de Janeiro</td><td>Brazil</td><td>Brazilian Grand Prix</td><td>1</td></tr><tr><td>Circuito de Jerez</td><td>Jerez de la Frontera</td><td>Spain</td><td>Spanish Grand Prix</td><td>2</td></tr><tr><td>Autodromo Enzo e Dino Ferrari</td><td>Imola</td><td>Italy</td><td>San Marino Grand Prix</td><td>3</td></tr><tr><td>Circuit de Monaco</td><td>Monte-Carlo</td><td>Monaco</td><td>Monaco Grand Prix</td><td>4</td></tr><tr><td>Circuit de Spa-Francorchamps</td><td>Spa</td><td>Belgium</td><td>Belgian Grand Prix</td><td>5</td></tr><tr><td>Circuit Gilles Villeneuve</td><td>Montreal</td><td>Canada</td><td>Canadian Grand Prix</td><td>6</td></tr><tr><td>Detroit Street Circuit</td><td>Detroit</td><td>USA</td><td>Detroit Grand Prix</td><td>7</td></tr><tr><td>Circuit Paul Ricard</td><td>Le Castellet</td><td>France</td><td>French Grand Prix</td><td>8</td></tr><tr><td>Brands Hatch</td><td>Kent</td><td>UK</td><td>British Grand Prix</td><td>9</td></tr><tr><td>Hockenheimring</td><td>Hockenheim</td><td>Germany</td><td>German Grand Prix</td><td>10</td></tr><tr><td>Hungaroring</td><td>Budapest</td><td>Hungary</td><td>Hungarian Grand Prix</td><td>11</td></tr><tr><td>A1-Ring</td><td>Spielburg</td><td>Austria</td><td>Austrian Grand Prix</td><td>12</td></tr><tr><td>Autodromo Nazionale di Monza</td><td>Monza</td><td>Italy</td><td>Italian Grand Prix</td><td>13</td></tr><tr><td>Autódromo do Estoril</td><td>Estoril</td><td>Portugal</td><td>Portuguese Grand Prix</td><td>14</td></tr><tr><td>Autódromo Hermanos Rodríguez</td><td>Mexico City</td><td>Mexico</td><td>Mexican Grand Prix</td><td>15</td></tr><tr><td>Adelaide Street Circuit</td><td>Adelaide</td><td>Australia</td><td>Australian Grand Prix</td><td>16</td></tr><tr><td>Autódromo Internacional Nelson Piquet</td><td>Rio de Janeiro</td><td>Brazil</td><td>Brazilian Grand Prix</td><td>1</td></tr><tr><td>Autódromo do Estoril</td><td>Estoril</td><td>Portugal</td><td>Portuguese Grand Prix</td><td>2</td></tr><tr><td>Autodromo Enzo e Dino Ferrari</td><td>Imola</td><td>Italy</td><td>San Marino Grand Prix</td><td>3</td></tr><tr><td>Circuit de Monaco</td><td>Monte-Carlo</td><td>Monaco</td><td>Monaco Grand Prix</td><td>4</td></tr><tr><td>Circuit Gilles Villeneuve</td><td>Montreal</td><td>Canada</td><td>Canadian Grand Prix</td><td>5</td></tr><tr><td>Detroit Street Circuit</td><td>Detroit</td><td>USA</td><td>Detroit Grand Prix</td><td>6</td></tr><tr><td>Circuit Paul Ricard</td><td>Le Castellet</td><td>France</td><td>French Grand Prix</td><td>7</td></tr><tr><td>Silverstone Circuit</td><td>Silverstone</td><td>UK</td><td>British Grand Prix</td><td>8</td></tr><tr><td>Nürburgring</td><td>Nürburg</td><td>Germany</td><td>German Grand Prix</td><td>9</td></tr><tr><td>A1-Ring</td><td>Spielburg</td><td>Austria</td><td>Austrian Grand Prix</td><td>10</td></tr><tr><td>Circuit Park Zandvoort</td><td>Zandvoort</td><td>Netherlands</td><td>Dutch Grand Prix</td><td>11</td></tr><tr><td>Autodromo Nazionale di Monza</td><td>Monza</td><td>Italy</td><td>Italian Grand Prix</td><td>12</td></tr><tr><td>Circuit de Spa-Francorchamps</td><td>Spa</td><td>Belgium</td><td>Belgian Grand Prix</td><td>13</td></tr><tr><td>Brands Hatch</td><td>Kent</td><td>UK</td><td>European Grand Prix</td><td>14</td></tr><tr><td>Kyalami</td><td>Midrand</td><td>South Africa</td><td>South African Grand Prix</td><td>15</td></tr><tr><td>Adelaide Street Circuit</td><td>Adelaide</td><td>Australia</td><td>Australian Grand Prix</td><td>16</td></tr><tr><td>Autódromo Internacional Nelson Piquet</td><td>Rio de Janeiro</td><td>Brazil</td><td>Brazilian Grand Prix</td><td>1</td></tr><tr><td>Kyalami</td><td>Midrand</td><td>South Africa</td><td>South African Grand Prix</td><td>2</td></tr><tr><td>Zolder</td><td>Heusden-Zolder</td><td>Belgium</td><td>Belgian Grand Prix</td><td>3</td></tr><tr><td>Autodromo Enzo e Dino Ferrari</td><td>Imola</td><td>Italy</td><td>San Marino Grand Prix</td><td>4</td></tr><tr><td>Dijon-Prenois</td><td>Dijon</td><td>France</td><td>French Grand Prix</td><td>5</td></tr><tr><td>Circuit de Monaco</td><td>Monte-Carlo</td><td>Monaco</td><td>Monaco Grand Prix</td><td>6</td></tr><tr><td>Circuit Gilles Villeneuve</td><td>Montreal</td><td>Canada</td><td>Canadian Grand Prix</td><td>7</td></tr><tr><td>Detroit Street Circuit</td><td>Detroit</td><td>USA</td><td>Detroit Grand Prix</td><td>8</td></tr><tr><td>Fair Park</td><td>Dallas</td><td>USA</td><td>Dallas Grand Prix</td><td>9</td></tr><tr><td>Brands Hatch</td><td>Kent</td><td>UK</td><td>British Grand Prix</td><td>10</td></tr><tr><td>Hockenheimring</td><td>Hockenheim</td><td>Germany</td><td>German Grand Prix</td><td>11</td></tr><tr><td>A1-Ring</td><td>Spielburg</td><td>Austria</td><td>Austrian Grand Prix</td><td>12</td></tr><tr><td>Circuit Park Zandvoort</td><td>Zandvoort</td><td>Netherlands</td><td>Dutch Grand Prix</td><td>13</td></tr><tr><td>Autodromo Nazionale di Monza</td><td>Monza</td><td>Italy</td><td>Italian Grand Prix</td><td>14</td></tr><tr><td>Nürburgring</td><td>Nürburg</td><td>Germany</td><td>European Grand Prix</td><td>15</td></tr><tr><td>Autódromo do Estoril</td><td>Estoril</td><td>Portugal</td><td>Portuguese Grand Prix</td><td>16</td></tr><tr><td>Autódromo Internacional Nelson Piquet</td><td>Rio de Janeiro</td><td>Brazil</td><td>Brazilian Grand Prix</td><td>1</td></tr><tr><td>Long Beach</td><td>California</td><td>USA</td><td>United States Grand Prix West</td><td>2</td></tr><tr><td>Circuit Paul Ricard</td><td>Le Castellet</td><td>France</td><td>French Grand Prix</td><td>3</td></tr><tr><td>Autodromo Enzo e Dino Ferrari</td><td>Imola</td><td>Italy</td><td>San Marino Grand Prix</td><td>4</td></tr><tr><td>Circuit de Monaco</td><td>Monte-Carlo</td><td>Monaco</td><td>Monaco Grand Prix</td><td>5</td></tr><tr><td>Circuit de Spa-Francorchamps</td><td>Spa</td><td>Belgium</td><td>Belgian Grand Prix</td><td>6</td></tr><tr><td>Detroit Street Circuit</td><td>Detroit</td><td>USA</td><td>Detroit Grand Prix</td><td>7</td></tr><tr><td>Circuit Gilles Villeneuve</td><td>Montreal</td><td>Canada</td><td>Canadian Grand Prix</td><td>8</td></tr><tr><td>Silverstone Circuit</td><td>Silverstone</td><td>UK</td><td>British Grand Prix</td><td>9</td></tr><tr><td>Hockenheimring</td><td>Hockenheim</td><td>Germany</td><td>German Grand Prix</td><td>10</td></tr><tr><td>A1-Ring</td><td>Spielburg</td><td>Austria</td><td>Austrian Grand Prix</td><td>11</td></tr><tr><td>Circuit Park Zandvoort</td><td>Zandvoort</td><td>Netherlands</td><td>Dutch Grand Prix</td><td>12</td></tr><tr><td>Autodromo Nazionale di Monza</td><td>Monza</td><td>Italy</td><td>Italian Grand Prix</td><td>13</td></tr><tr><td>Brands Hatch</td><td>Kent</td><td>UK</td><td>European Grand Prix</td><td>14</td></tr><tr><td>Kyalami</td><td>Midrand</td><td>South Africa</td><td>South African Grand Prix</td><td>15</td></tr><tr><td>Kyalami</td><td>Midrand</td><td>South Africa</td><td>South African Grand Prix</td><td>1</td></tr><tr><td>Autódromo Internacional Nelson Piquet</td><td>Rio de Janeiro</td><td>Brazil</td><td>Brazilian Grand Prix</td><td>2</td></tr><tr><td>Long Beach</td><td>California</td><td>USA</td><td>United States Grand Prix West</td><td>3</td></tr><tr><td>Autodromo Enzo e Dino Ferrari</td><td>Imola</td><td>Italy</td><td>San Marino Grand Prix</td><td>4</td></tr><tr><td>Zolder</td><td>Heusden-Zolder</td><td>Belgium</td><td>Belgian Grand Prix</td><td>5</td></tr><tr><td>Circuit de Monaco</td><td>Monte-Carlo</td><td>Monaco</td><td>Monaco Grand Prix</td><td>6</td></tr><tr><td>Detroit Street Circuit</td><td>Detroit</td><td>USA</td><td>Detroit Grand Prix</td><td>7</td></tr><tr><td>Circuit Gilles Villeneuve</td><td>Montreal</td><td>Canada</td><td>Canadian Grand Prix</td><td>8</td></tr><tr><td>Circuit Park Zandvoort</td><td>Zandvoort</td><td>Netherlands</td><td>Dutch Grand Prix</td><td>9</td></tr><tr><td>Brands Hatch</td><td>Kent</td><td>UK</td><td>British Grand Prix</td><td>10</td></tr><tr><td>Circuit Paul Ricard</td><td>Le Castellet</td><td>France</td><td>French Grand Prix</td><td>11</td></tr><tr><td>Hockenheimring</td><td>Hockenheim</td><td>Germany</td><td>German Grand Prix</td><td>12</td></tr><tr><td>A1-Ring</td><td>Spielburg</td><td>Austria</td><td>Austrian Grand Prix</td><td>13</td></tr><tr><td>Dijon-Prenois</td><td>Dijon</td><td>France</td><td>Swiss Grand Prix</td><td>14</td></tr><tr><td>Autodromo Nazionale di Monza</td><td>Monza</td><td>Italy</td><td>Italian Grand Prix</td><td>15</td></tr><tr><td>Las Vegas Street Circuit</td><td>Nevada</td><td>USA</td><td>Caesars Palace Grand Prix</td><td>16</td></tr><tr><td>Long Beach</td><td>California</td><td>USA</td><td>United States Grand Prix West</td><td>1</td></tr><tr><td>Autódromo Internacional Nelson Piquet</td><td>Rio de Janeiro</td><td>Brazil</td><td>Brazilian Grand Prix</td><td>2</td></tr><tr><td>Autódromo Juan y Oscar Gálvez</td><td>Buenos Aires</td><td>Argentina</td><td>Argentine Grand Prix</td><td>3</td></tr><tr><td>Autodromo Enzo e Dino Ferrari</td><td>Imola</td><td>Italy</td><td>San Marino Grand Prix</td><td>4</td></tr><tr><td>Zolder</td><td>Heusden-Zolder</td><td>Belgium</td><td>Belgian Grand Prix</td><td>5</td></tr><tr><td>Circuit de Monaco</td><td>Monte-Carlo</td><td>Monaco</td><td>Monaco Grand Prix</td><td>6</td></tr><tr><td>Jarama</td><td>Madrid</td><td>Spain</td><td>Spanish Grand Prix</td><td>7</td></tr><tr><td>Dijon-Prenois</td><td>Dijon</td><td>France</td><td>French Grand Prix</td><td>8</td></tr><tr><td>Silverstone Circuit</td><td>Silverstone</td><td>UK</td><td>British Grand Prix</td><td>9</td></tr><tr><td>Hockenheimring</td><td>Hockenheim</td><td>Germany</td><td>German Grand Prix</td><td>10</td></tr><tr><td>A1-Ring</td><td>Spielburg</td><td>Austria</td><td>Austrian Grand Prix</td><td>11</td></tr><tr><td>Circuit Park Zandvoort</td><td>Zandvoort</td><td>Netherlands</td><td>Dutch Grand Prix</td><td>12</td></tr><tr><td>Autodromo Nazionale di Monza</td><td>Monza</td><td>Italy</td><td>Italian Grand Prix</td><td>13</td></tr><tr><td>Circuit Gilles Villeneuve</td><td>Montreal</td><td>Canada</td><td>Canadian Grand Prix</td><td>14</td></tr><tr><td>Las Vegas Street Circuit</td><td>Nevada</td><td>USA</td><td>Caesars Palace Grand Prix</td><td>15</td></tr><tr><td>Autódromo Juan y Oscar Gálvez</td><td>Buenos Aires</td><td>Argentina</td><td>Argentine Grand Prix</td><td>1</td></tr><tr><td>Autódromo José Carlos Pace</td><td>São Paulo</td><td>Brazil</td><td>Brazilian Grand Prix</td><td>2</td></tr><tr><td>Kyalami</td><td>Midrand</td><td>South Africa</td><td>South African Grand Prix</td><td>3</td></tr><tr><td>Long Beach</td><td>California</td><td>USA</td><td>United States Grand Prix West</td><td>4</td></tr><tr><td>Zolder</td><td>Heusden-Zolder</td><td>Belgium</td><td>Belgian Grand Prix</td><td>5</td></tr><tr><td>Circuit de Monaco</td><td>Monte-Carlo</td><td>Monaco</td><td>Monaco Grand Prix</td><td>6</td></tr><tr><td>Circuit Paul Ricard</td><td>Le Castellet</td><td>France</td><td>French Grand Prix</td><td>7</td></tr><tr><td>Brands Hatch</td><td>Kent</td><td>UK</td><td>British Grand Prix</td><td>8</td></tr><tr><td>Hockenheimring</td><td>Hockenheim</td><td>Germany</td><td>German Grand Prix</td><td>9</td></tr><tr><td>A1-Ring</td><td>Spielburg</td><td>Austria</td><td>Austrian Grand Prix</td><td>10</td></tr><tr><td>Circuit Park Zandvoort</td><td>Zandvoort</td><td>Netherlands</td><td>Dutch Grand Prix</td><td>11</td></tr><tr><td>Autodromo Enzo e Dino Ferrari</td><td>Imola</td><td>Italy</td><td>Italian Grand Prix</td><td>12</td></tr><tr><td>Circuit Gilles Villeneuve</td><td>Montreal</td><td>Canada</td><td>Canadian Grand Prix</td><td>13</td></tr><tr><td>Watkins Glen</td><td>New York State</td><td>USA</td><td>United States Grand Prix</td><td>14</td></tr><tr><td>Autódromo Juan y Oscar Gálvez</td><td>Buenos Aires</td><td>Argentina</td><td>Argentine Grand Prix</td><td>1</td></tr><tr><td>Autódromo José Carlos Pace</td><td>São Paulo</td><td>Brazil</td><td>Brazilian Grand Prix</td><td>2</td></tr><tr><td>Kyalami</td><td>Midrand</td><td>South Africa</td><td>South African Grand Prix</td><td>3</td></tr><tr><td>Long Beach</td><td>California</td><td>USA</td><td>United States Grand Prix West</td><td>4</td></tr><tr><td>Jarama</td><td>Madrid</td><td>Spain</td><td>Spanish Grand Prix</td><td>5</td></tr><tr><td>Zolder</td><td>Heusden-Zolder</td><td>Belgium</td><td>Belgian Grand Prix</td><td>6</td></tr><tr><td>Circuit de Monaco</td><td>Monte-Carlo</td><td>Monaco</td><td>Monaco Grand Prix</td><td>7</td></tr><tr><td>Dijon-Prenois</td><td>Dijon</td><td>France</td><td>French Grand Prix</td><td>8</td></tr><tr><td>Silverstone Circuit</td><td>Silverstone</td><td>UK</td><td>British Grand Prix</td><td>9</td></tr><tr><td>Hockenheimring</td><td>Hockenheim</td><td>Germany</td><td>German Grand Prix</td><td>10</td></tr><tr><td>A1-Ring</td><td>Spielburg</td><td>Austria</td><td>Austrian Grand Prix</td><td>11</td></tr><tr><td>Circuit Park Zandvoort</td><td>Zandvoort</td><td>Netherlands</td><td>Dutch Grand Prix</td><td>12</td></tr><tr><td>Autodromo Nazionale di Monza</td><td>Monza</td><td>Italy</td><td>Italian Grand Prix</td><td>13</td></tr><tr><td>Circuit Gilles Villeneuve</td><td>Montreal</td><td>Canada</td><td>Canadian Grand Prix</td><td>14</td></tr><tr><td>Watkins Glen</td><td>New York State</td><td>USA</td><td>United States Grand Prix</td><td>15</td></tr><tr><td>Autódromo Juan y Oscar Gálvez</td><td>Buenos Aires</td><td>Argentina</td><td>Argentine Grand Prix</td><td>1</td></tr><tr><td>Autódromo Internacional Nelson Piquet</td><td>Rio de Janeiro</td><td>Brazil</td><td>Brazilian Grand Prix</td><td>2</td></tr><tr><td>Kyalami</td><td>Midrand</td><td>South Africa</td><td>South African Grand Prix</td><td>3</td></tr><tr><td>Long Beach</td><td>California</td><td>USA</td><td>United States Grand Prix West</td><td>4</td></tr><tr><td>Circuit de Monaco</td><td>Monte-Carlo</td><td>Monaco</td><td>Monaco Grand Prix</td><td>5</td></tr><tr><td>Zolder</td><td>Heusden-Zolder</td><td>Belgium</td><td>Belgian Grand Prix</td><td>6</td></tr><tr><td>Jarama</td><td>Madrid</td><td>Spain</td><td>Spanish Grand Prix</td><td>7</td></tr><tr><td>Scandinavian Raceway</td><td>Anderstorp</td><td>Sweden</td><td>Swedish Grand Prix</td><td>8</td></tr><tr><td>Circuit Paul Ricard</td><td>Le Castellet</td><td>France</td><td>French Grand Prix</td><td>9</td></tr><tr><td>Brands Hatch</td><td>Kent</td><td>UK</td><td>British Grand Prix</td><td>10</td></tr><tr><td>Hockenheimring</td><td>Hockenheim</td><td>Germany</td><td>German Grand Prix</td><td>11</td></tr><tr><td>A1-Ring</td><td>Spielburg</td><td>Austria</td><td>Austrian Grand Prix</td><td>12</td></tr><tr><td>Circuit Park Zandvoort</td><td>Zandvoort</td><td>Netherlands</td><td>Dutch Grand Prix</td><td>13</td></tr><tr><td>Autodromo Nazionale di Monza</td><td>Monza</td><td>Italy</td><td>Italian Grand Prix</td><td>14</td></tr><tr><td>Watkins Glen</td><td>New York State</td><td>USA</td><td>United States Grand Prix</td><td>15</td></tr><tr><td>Circuit Gilles Villeneuve</td><td>Montreal</td><td>Canada</td><td>Canadian Grand Prix</td><td>16</td></tr><tr><td>Autódromo Juan y Oscar Gálvez</td><td>Buenos Aires</td><td>Argentina</td><td>Argentine Grand Prix</td><td>1</td></tr><tr><td>Autódromo José Carlos Pace</td><td>São Paulo</td><td>Brazil</td><td>Brazilian Grand Prix</td><td>2</td></tr><tr><td>Kyalami</td><td>Midrand</td><td>South Africa</td><td>South African Grand Prix</td><td>3</td></tr><tr><td>Long Beach</td><td>California</td><td>USA</td><td>United States Grand Prix West</td><td>4</td></tr><tr><td>Jarama</td><td>Madrid</td><td>Spain</td><td>Spanish Grand Prix</td><td>5</td></tr><tr><td>Circuit de Monaco</td><td>Monte-Carlo</td><td>Monaco</td><td>Monaco Grand Prix</td><td>6</td></tr><tr><td>Zolder</td><td>Heusden-Zolder</td><td>Belgium</td><td>Belgian Grand Prix</td><td>7</td></tr><tr><td>Scandinavian Raceway</td><td>Anderstorp</td><td>Sweden</td><td>Swedish Grand Prix</td><td>8</td></tr><tr><td>Dijon-Prenois</td><td>Dijon</td><td>France</td><td>French Grand Prix</td><td>9</td></tr><tr><td>Silverstone Circuit</td><td>Silverstone</td><td>UK</td><td>British Grand Prix</td><td>10</td></tr><tr><td>Hockenheimring</td><td>Hockenheim</td><td>Germany</td><td>German Grand Prix</td><td>11</td></tr><tr><td>A1-Ring</td><td>Spielburg</td><td>Austria</td><td>Austrian Grand Prix</td><td>12</td></tr><tr><td>Circuit Park Zandvoort</td><td>Zandvoort</td><td>Netherlands</td><td>Dutch Grand Prix</td><td>13</td></tr><tr><td>Autodromo Nazionale di Monza</td><td>Monza</td><td>Italy</td><td>Italian Grand Prix</td><td>14</td></tr><tr><td>Watkins Glen</td><td>New York State</td><td>USA</td><td>United States Grand Prix</td><td>15</td></tr><tr><td>Mosport International Raceway</td><td>Ontario</td><td>Canada</td><td>Canadian Grand Prix</td><td>16</td></tr><tr><td>Fuji Speedway</td><td>Oyama</td><td>Japan</td><td>Japanese Grand Prix</td><td>17</td></tr><tr><td>Autódromo José Carlos Pace</td><td>São Paulo</td><td>Brazil</td><td>Brazilian Grand Prix</td><td>1</td></tr><tr><td>Kyalami</td><td>Midrand</td><td>South Africa</td><td>South African Grand Prix</td><td>2</td></tr><tr><td>Long Beach</td><td>California</td><td>USA</td><td>United States Grand Prix West</td><td>3</td></tr><tr><td>Jarama</td><td>Madrid</td><td>Spain</td><td>Spanish Grand Prix</td><td>4</td></tr><tr><td>Zolder</td><td>Heusden-Zolder</td><td>Belgium</td><td>Belgian Grand Prix</td><td>5</td></tr><tr><td>Circuit de Monaco</td><td>Monte-Carlo</td><td>Monaco</td><td>Monaco Grand Prix</td><td>6</td></tr><tr><td>Scandinavian Raceway</td><td>Anderstorp</td><td>Sweden</td><td>Swedish Grand Prix</td><td>7</td></tr><tr><td>Circuit Paul Ricard</td><td>Le Castellet</td><td>France</td><td>French Grand Prix</td><td>8</td></tr><tr><td>Brands Hatch</td><td>Kent</td><td>UK</td><td>British Grand Prix</td><td>9</td></tr><tr><td>Nürburgring</td><td>Nürburg</td><td>Germany</td><td>German Grand Prix</td><td>10</td></tr><tr><td>A1-Ring</td><td>Spielburg</td><td>Austria</td><td>Austrian Grand Prix</td><td>11</td></tr><tr><td>Circuit Park Zandvoort</td><td>Zandvoort</td><td>Netherlands</td><td>Dutch Grand Prix</td><td>12</td></tr><tr><td>Autodromo Nazionale di Monza</td><td>Monza</td><td>Italy</td><td>Italian Grand Prix</td><td>13</td></tr><tr><td>Mosport International Raceway</td><td>Ontario</td><td>Canada</td><td>Canadian Grand Prix</td><td>14</td></tr><tr><td>Watkins Glen</td><td>New York State</td><td>USA</td><td>United States Grand Prix</td><td>15</td></tr><tr><td>Fuji Speedway</td><td>Oyama</td><td>Japan</td><td>Japanese Grand Prix</td><td>16</td></tr><tr><td>Autódromo Juan y Oscar Gálvez</td><td>Buenos Aires</td><td>Argentina</td><td>Argentine Grand Prix</td><td>1</td></tr><tr><td>Autódromo José Carlos Pace</td><td>São Paulo</td><td>Brazil</td><td>Brazilian Grand Prix</td><td>2</td></tr><tr><td>Kyalami</td><td>Midrand</td><td>South Africa</td><td>South African Grand Prix</td><td>3</td></tr><tr><td>Montjuïc</td><td>Barcelona</td><td>Spain</td><td>Spanish Grand Prix</td><td>4</td></tr><tr><td>Circuit de Monaco</td><td>Monte-Carlo</td><td>Monaco</td><td>Monaco Grand Prix</td><td>5</td></tr><tr><td>Zolder</td><td>Heusden-Zolder</td><td>Belgium</td><td>Belgian Grand Prix</td><td>6</td></tr><tr><td>Scandinavian Raceway</td><td>Anderstorp</td><td>Sweden</td><td>Swedish Grand Prix</td><td>7</td></tr><tr><td>Circuit Park Zandvoort</td><td>Zandvoort</td><td>Netherlands</td><td>Dutch Grand Prix</td><td>8</td></tr><tr><td>Circuit Paul Ricard</td><td>Le Castellet</td><td>France</td><td>French Grand Prix</td><td>9</td></tr><tr><td>Silverstone Circuit</td><td>Silverstone</td><td>UK</td><td>British Grand Prix</td><td>10</td></tr><tr><td>Nürburgring</td><td>Nürburg</td><td>Germany</td><td>German Grand Prix</td><td>11</td></tr><tr><td>A1-Ring</td><td>Spielburg</td><td>Austria</td><td>Austrian Grand Prix</td><td>12</td></tr><tr><td>Autodromo Nazionale di Monza</td><td>Monza</td><td>Italy</td><td>Italian Grand Prix</td><td>13</td></tr><tr><td>Watkins Glen</td><td>New York State</td><td>USA</td><td>United States Grand Prix</td><td>14</td></tr><tr><td>Autódromo Juan y Oscar Gálvez</td><td>Buenos Aires</td><td>Argentina</td><td>Argentine Grand Prix</td><td>1</td></tr><tr><td>Autódromo José Carlos Pace</td><td>São Paulo</td><td>Brazil</td><td>Brazilian Grand Prix</td><td>2</td></tr><tr><td>Kyalami</td><td>Midrand</td><td>South Africa</td><td>South African Grand Prix</td><td>3</td></tr><tr><td>Jarama</td><td>Madrid</td><td>Spain</td><td>Spanish Grand Prix</td><td>4</td></tr><tr><td>Nivelles-Baulers</td><td>Brussels</td><td>Belgium</td><td>Belgian Grand Prix</td><td>5</td></tr><tr><td>Circuit de Monaco</td><td>Monte-Carlo</td><td>Monaco</td><td>Monaco Grand Prix</td><td>6</td></tr><tr><td>Scandinavian Raceway</td><td>Anderstorp</td><td>Sweden</td><td>Swedish Grand Prix</td><td>7</td></tr><tr><td>Circuit Park Zandvoort</td><td>Zandvoort</td><td>Netherlands</td><td>Dutch Grand Prix</td><td>8</td></tr><tr><td>Dijon-Prenois</td><td>Dijon</td><td>France</td><td>French Grand Prix</td><td>9</td></tr><tr><td>Brands Hatch</td><td>Kent</td><td>UK</td><td>British Grand Prix</td><td>10</td></tr><tr><td>Nürburgring</td><td>Nürburg</td><td>Germany</td><td>German Grand Prix</td><td>11</td></tr><tr><td>A1-Ring</td><td>Spielburg</td><td>Austria</td><td>Austrian Grand Prix</td><td>12</td></tr><tr><td>Autodromo Nazionale di Monza</td><td>Monza</td><td>Italy</td><td>Italian Grand Prix</td><td>13</td></tr><tr><td>Mosport International Raceway</td><td>Ontario</td><td>Canada</td><td>Canadian Grand Prix</td><td>14</td></tr><tr><td>Watkins Glen</td><td>New York State</td><td>USA</td><td>United States Grand Prix</td><td>15</td></tr><tr><td>Autódromo Juan y Oscar Gálvez</td><td>Buenos Aires</td><td>Argentina</td><td>Argentine Grand Prix</td><td>1</td></tr><tr><td>Autódromo José Carlos Pace</td><td>São Paulo</td><td>Brazil</td><td>Brazilian Grand Prix</td><td>2</td></tr><tr><td>Kyalami</td><td>Midrand</td><td>South Africa</td><td>South African Grand Prix</td><td>3</td></tr><tr><td>Montjuïc</td><td>Barcelona</td><td>Spain</td><td>Spanish Grand Prix</td><td>4</td></tr><tr><td>Zolder</td><td>Heusden-Zolder</td><td>Belgium</td><td>Belgian Grand Prix</td><td>5</td></tr><tr><td>Circuit de Monaco</td><td>Monte-Carlo</td><td>Monaco</td><td>Monaco Grand Prix</td><td>6</td></tr><tr><td>Scandinavian Raceway</td><td>Anderstorp</td><td>Sweden</td><td>Swedish Grand Prix</td><td>7</td></tr><tr><td>Circuit Paul Ricard</td><td>Le Castellet</td><td>France</td><td>French Grand Prix</td><td>8</td></tr><tr><td>Silverstone Circuit</td><td>Silverstone</td><td>UK</td><td>British Grand Prix</td><td>9</td></tr><tr><td>Circuit Park Zandvoort</td><td>Zandvoort</td><td>Netherlands</td><td>Dutch Grand Prix</td><td>10</td></tr><tr><td>Nürburgring</td><td>Nürburg</td><td>Germany</td><td>German Grand Prix</td><td>11</td></tr><tr><td>A1-Ring</td><td>Spielburg</td><td>Austria</td><td>Austrian Grand Prix</td><td>12</td></tr><tr><td>Autodromo Nazionale di Monza</td><td>Monza</td><td>Italy</td><td>Italian Grand Prix</td><td>13</td></tr><tr><td>Mosport International Raceway</td><td>Ontario</td><td>Canada</td><td>Canadian Grand Prix</td><td>14</td></tr><tr><td>Watkins Glen</td><td>New York State</td><td>USA</td><td>United States Grand Prix</td><td>15</td></tr><tr><td>Autódromo Juan y Oscar Gálvez</td><td>Buenos Aires</td><td>Argentina</td><td>Argentine Grand Prix</td><td>1</td></tr><tr><td>Kyalami</td><td>Midrand</td><td>South Africa</td><td>South African Grand Prix</td><td>2</td></tr><tr><td>Jarama</td><td>Madrid</td><td>Spain</td><td>Spanish Grand Prix</td><td>3</td></tr><tr><td>Circuit de Monaco</td><td>Monte-Carlo</td><td>Monaco</td><td>Monaco Grand Prix</td><td>4</td></tr><tr><td>Nivelles-Baulers</td><td>Brussels</td><td>Belgium</td><td>Belgian Grand Prix</td><td>5</td></tr><tr><td>Charade Circuit</td><td>Clermont-Ferrand</td><td>France</td><td>French Grand Prix</td><td>6</td></tr><tr><td>Brands Hatch</td><td>Kent</td><td>UK</td><td>British Grand Prix</td><td>7</td></tr><tr><td>Nürburgring</td><td>Nürburg</td><td>Germany</td><td>German Grand Prix</td><td>8</td></tr><tr><td>A1-Ring</td><td>Spielburg</td><td>Austria</td><td>Austrian Grand Prix</td><td>9</td></tr><tr><td>Autodromo Nazionale di Monza</td><td>Monza</td><td>Italy</td><td>Italian Grand Prix</td><td>10</td></tr><tr><td>Mosport International Raceway</td><td>Ontario</td><td>Canada</td><td>Canadian Grand Prix</td><td>11</td></tr><tr><td>Watkins Glen</td><td>New York State</td><td>USA</td><td>United States Grand Prix</td><td>12</td></tr><tr><td>Kyalami</td><td>Midrand</td><td>South Africa</td><td>South African Grand Prix</td><td>1</td></tr><tr><td>Montjuïc</td><td>Barcelona</td><td>Spain</td><td>Spanish Grand Prix</td><td>2</td></tr><tr><td>Circuit de Monaco</td><td>Monte-Carlo</td><td>Monaco</td><td>Monaco Grand Prix</td><td>3</td></tr><tr><td>Circuit Park Zandvoort</td><td>Zandvoort</td><td>Netherlands</td><td>Dutch Grand Prix</td><td>4</td></tr><tr><td>Circuit Paul Ricard</td><td>Le Castellet</td><td>France</td><td>French Grand Prix</td><td>5</td></tr><tr><td>Silverstone Circuit</td><td>Silverstone</td><td>UK</td><td>British Grand Prix</td><td>6</td></tr><tr><td>Nürburgring</td><td>Nürburg</td><td>Germany</td><td>German Grand Prix</td><td>7</td></tr><tr><td>A1-Ring</td><td>Spielburg</td><td>Austria</td><td>Austrian Grand Prix</td><td>8</td></tr><tr><td>Autodromo Nazionale di Monza</td><td>Monza</td><td>Italy</td><td>Italian Grand Prix</td><td>9</td></tr><tr><td>Mosport International Raceway</td><td>Ontario</td><td>Canada</td><td>Canadian Grand Prix</td><td>10</td></tr><tr><td>Watkins Glen</td><td>New York State</td><td>USA</td><td>United States Grand Prix</td><td>11</td></tr><tr><td>Kyalami</td><td>Midrand</td><td>South Africa</td><td>South African Grand Prix</td><td>1</td></tr><tr><td>Jarama</td><td>Madrid</td><td>Spain</td><td>Spanish Grand Prix</td><td>2</td></tr><tr><td>Circuit de Monaco</td><td>Monte-Carlo</td><td>Monaco</td><td>Monaco Grand Prix</td><td>3</td></tr><tr><td>Circuit de Spa-Francorchamps</td><td>Spa</td><td>Belgium</td><td>Belgian Grand Prix</td><td>4</td></tr><tr><td>Circuit Park Zandvoort</td><td>Zandvoort</td><td>Netherlands</td><td>Dutch Grand Prix</td><td>5</td></tr><tr><td>Charade Circuit</td><td>Clermont-Ferrand</td><td>France</td><td>French Grand Prix</td><td>6</td></tr><tr><td>Brands Hatch</td><td>Kent</td><td>UK</td><td>British Grand Prix</td><td>7</td></tr><tr><td>Hockenheimring</td><td>Hockenheim</td><td>Germany</td><td>German Grand Prix</td><td>8</td></tr><tr><td>A1-Ring</td><td>Spielburg</td><td>Austria</td><td>Austrian Grand Prix</td><td>9</td></tr><tr><td>Autodromo Nazionale di Monza</td><td>Monza</td><td>Italy</td><td>Italian Grand Prix</td><td>10</td></tr><tr><td>Circuit Mont-Tremblant</td><td>Quebec</td><td>Canada</td><td>Canadian Grand Prix</td><td>11</td></tr><tr><td>Watkins Glen</td><td>New York State</td><td>USA</td><td>United States Grand Prix</td><td>12</td></tr><tr><td>Autódromo Hermanos Rodríguez</td><td>Mexico City</td><td>Mexico</td><td>Mexican Grand Prix</td><td>13</td></tr><tr><td>Kyalami</td><td>Midrand</td><td>South Africa</td><td>South African Grand Prix</td><td>1</td></tr><tr><td>Montjuïc</td><td>Barcelona</td><td>Spain</td><td>Spanish Grand Prix</td><td>2</td></tr><tr><td>Circuit de Monaco</td><td>Monte-Carlo</td><td>Monaco</td><td>Monaco Grand Prix</td><td>3</td></tr><tr><td>Circuit Park Zandvoort</td><td>Zandvoort</td><td>Netherlands</td><td>Dutch Grand Prix</td><td>4</td></tr><tr><td>Charade Circuit</td><td>Clermont-Ferrand</td><td>France</td><td>French Grand Prix</td><td>5</td></tr><tr><td>Silverstone Circuit</td><td>Silverstone</td><td>UK</td><td>British Grand Prix</td><td>6</td></tr><tr><td>Nürburgring</td><td>Nürburg</td><td>Germany</td><td>German Grand Prix</td><td>7</td></tr><tr><td>Autodromo Nazionale di Monza</td><td>Monza</td><td>Italy</td><td>Italian Grand Prix</td><td>8</td></tr><tr><td>Mosport International Raceway</td><td>Ontario</td><td>Canada</td><td>Canadian Grand Prix</td><td>9</td></tr><tr><td>Watkins Glen</td><td>New York State</td><td>USA</td><td>United States Grand Prix</td><td>10</td></tr><tr><td>Autódromo Hermanos Rodríguez</td><td>Mexico City</td><td>Mexico</td><td>Mexican Grand Prix</td><td>11</td></tr><tr><td>Kyalami</td><td>Midrand</td><td>South Africa</td><td>South African Grand Prix</td><td>1</td></tr><tr><td>Jarama</td><td>Madrid</td><td>Spain</td><td>Spanish Grand Prix</td><td>2</td></tr><tr><td>Circuit de Monaco</td><td>Monte-Carlo</td><td>Monaco</td><td>Monaco Grand Prix</td><td>3</td></tr><tr><td>Circuit de Spa-Francorchamps</td><td>Spa</td><td>Belgium</td><td>Belgian Grand Prix</td><td>4</td></tr><tr><td>Circuit Park Zandvoort</td><td>Zandvoort</td><td>Netherlands</td><td>Dutch Grand Prix</td><td>5</td></tr><tr><td>Rouen-Les-Essarts</td><td>Rouen</td><td>France</td><td>French Grand Prix</td><td>6</td></tr><tr><td>Brands Hatch</td><td>Kent</td><td>UK</td><td>British Grand Prix</td><td>7</td></tr><tr><td>Nürburgring</td><td>Nürburg</td><td>Germany</td><td>German Grand Prix</td><td>8</td></tr><tr><td>Autodromo Nazionale di Monza</td><td>Monza</td><td>Italy</td><td>Italian Grand Prix</td><td>9</td></tr><tr><td>Circuit Mont-Tremblant</td><td>Quebec</td><td>Canada</td><td>Canadian Grand Prix</td><td>10</td></tr><tr><td>Watkins Glen</td><td>New York State</td><td>USA</td><td>United States Grand Prix</td><td>11</td></tr><tr><td>Autódromo Hermanos Rodríguez</td><td>Mexico City</td><td>Mexico</td><td>Mexican Grand Prix</td><td>12</td></tr><tr><td>Kyalami</td><td>Midrand</td><td>South Africa</td><td>South African Grand Prix</td><td>1</td></tr><tr><td>Circuit de Monaco</td><td>Monte-Carlo</td><td>Monaco</td><td>Monaco Grand Prix</td><td>2</td></tr><tr><td>Circuit Park Zandvoort</td><td>Zandvoort</td><td>Netherlands</td><td>Dutch Grand Prix</td><td>3</td></tr><tr><td>Circuit de Spa-Francorchamps</td><td>Spa</td><td>Belgium</td><td>Belgian Grand Prix</td><td>4</td></tr><tr><td>Le Mans</td><td>Le Mans</td><td>France</td><td>French Grand Prix</td><td>5</td></tr><tr><td>Silverstone Circuit</td><td>Silverstone</td><td>UK</td><td>British Grand Prix</td><td>6</td></tr><tr><td>Nürburgring</td><td>Nürburg</td><td>Germany</td><td>German Grand Prix</td><td>7</td></tr><tr><td>Mosport International Raceway</td><td>Ontario</td><td>Canada</td><td>Canadian Grand Prix</td><td>8</td></tr><tr><td>Autodromo Nazionale di Monza</td><td>Monza</td><td>Italy</td><td>Italian Grand Prix</td><td>9</td></tr><tr><td>Watkins Glen</td><td>New York State</td><td>USA</td><td>United States Grand Prix</td><td>10</td></tr><tr><td>Autódromo Hermanos Rodríguez</td><td>Mexico City</td><td>Mexico</td><td>Mexican Grand Prix</td><td>11</td></tr><tr><td>Circuit de Monaco</td><td>Monte-Carlo</td><td>Monaco</td><td>Monaco Grand Prix</td><td>1</td></tr><tr><td>Circuit de Spa-Francorchamps</td><td>Spa</td><td>Belgium</td><td>Belgian Grand Prix</td><td>2</td></tr><tr><td>Reims-Gueux</td><td>Reims</td><td>France</td><td>French Grand Prix</td><td>3</td></tr><tr><td>Brands Hatch</td><td>Kent</td><td>UK</td><td>British Grand Prix</td><td>4</td></tr><tr><td>Circuit Park Zandvoort</td><td>Zandvoort</td><td>Netherlands</td><td>Dutch Grand Prix</td><td>5</td></tr><tr><td>Nürburgring</td><td>Nürburg</td><td>Germany</td><td>German Grand Prix</td><td>6</td></tr><tr><td>Autodromo Nazionale di Monza</td><td>Monza</td><td>Italy</td><td>Italian Grand Prix</td><td>7</td></tr><tr><td>Watkins Glen</td><td>New York State</td><td>USA</td><td>United States Grand Prix</td><td>8</td></tr><tr><td>Autódromo Hermanos Rodríguez</td><td>Mexico City</td><td>Mexico</td><td>Mexican Grand Prix</td><td>9</td></tr><tr><td>Prince George Circuit</td><td>Eastern Cape Province</td><td>South Africa</td><td>South African Grand Prix</td><td>1</td></tr><tr><td>Circuit de Monaco</td><td>Monte-Carlo</td><td>Monaco</td><td>Monaco Grand Prix</td><td>2</td></tr><tr><td>Circuit de Spa-Francorchamps</td><td>Spa</td><td>Belgium</td><td>Belgian Grand Prix</td><td>3</td></tr><tr><td>Charade Circuit</td><td>Clermont-Ferrand</td><td>France</td><td>French Grand Prix</td><td>4</td></tr><tr><td>Silverstone Circuit</td><td>Silverstone</td><td>UK</td><td>British Grand Prix</td><td>5</td></tr><tr><td>Circuit Park Zandvoort</td><td>Zandvoort</td><td>Netherlands</td><td>Dutch Grand Prix</td><td>6</td></tr><tr><td>Nürburgring</td><td>Nürburg</td><td>Germany</td><td>German Grand Prix</td><td>7</td></tr><tr><td>Autodromo Nazionale di Monza</td><td>Monza</td><td>Italy</td><td>Italian Grand Prix</td><td>8</td></tr><tr><td>Watkins Glen</td><td>New York State</td><td>USA</td><td>United States Grand Prix</td><td>9</td></tr><tr><td>Autódromo Hermanos Rodríguez</td><td>Mexico City</td><td>Mexico</td><td>Mexican Grand Prix</td><td>10</td></tr><tr><td>Circuit de Monaco</td><td>Monte-Carlo</td><td>Monaco</td><td>Monaco Grand Prix</td><td>1</td></tr><tr><td>Circuit Park Zandvoort</td><td>Zandvoort</td><td>Netherlands</td><td>Dutch Grand Prix</td><td>2</td></tr><tr><td>Circuit de Spa-Francorchamps</td><td>Spa</td><td>Belgium</td><td>Belgian Grand Prix</td><td>3</td></tr><tr><td>Rouen-Les-Essarts</td><td>Rouen</td><td>France</td><td>French Grand Prix</td><td>4</td></tr><tr><td>Brands Hatch</td><td>Kent</td><td>UK</td><td>British Grand Prix</td><td>5</td></tr><tr><td>Nürburgring</td><td>Nürburg</td><td>Germany</td><td>German Grand Prix</td><td>6</td></tr><tr><td>Zeltweg</td><td>Styria</td><td>Austria</td><td>Austrian Grand Prix</td><td>7</td></tr><tr><td>Autodromo Nazionale di Monza</td><td>Monza</td><td>Italy</td><td>Italian Grand Prix</td><td>8</td></tr><tr><td>Watkins Glen</td><td>New York State</td><td>USA</td><td>United States Grand Prix</td><td>9</td></tr><tr><td>Autódromo Hermanos Rodríguez</td><td>Mexico City</td><td>Mexico</td><td>Mexican Grand Prix</td><td>10</td></tr><tr><td>Circuit de Monaco</td><td>Monte-Carlo</td><td>Monaco</td><td>Monaco Grand Prix</td><td>1</td></tr><tr><td>Circuit de Spa-Francorchamps</td><td>Spa</td><td>Belgium</td><td>Belgian Grand Prix</td><td>2</td></tr><tr><td>Circuit Park Zandvoort</td><td>Zandvoort</td><td>Netherlands</td><td>Dutch Grand Prix</td><td>3</td></tr><tr><td>Reims-Gueux</td><td>Reims</td><td>France</td><td>French Grand Prix</td><td>4</td></tr><tr><td>Silverstone Circuit</td><td>Silverstone</td><td>UK</td><td>British Grand Prix</td><td>5</td></tr><tr><td>Nürburgring</td><td>Nürburg</td><td>Germany</td><td>German Grand Prix</td><td>6</td></tr><tr><td>Autodromo Nazionale di Monza</td><td>Monza</td><td>Italy</td><td>Italian Grand Prix</td><td>7</td></tr><tr><td>Watkins Glen</td><td>New York State</td><td>USA</td><td>United States Grand Prix</td><td>8</td></tr><tr><td>Autódromo Hermanos Rodríguez</td><td>Mexico City</td><td>Mexico</td><td>Mexican Grand Prix</td><td>9</td></tr><tr><td>Prince George Circuit</td><td>Eastern Cape Province</td><td>South Africa</td><td>South African Grand Prix</td><td>10</td></tr><tr><td>Circuit Park Zandvoort</td><td>Zandvoort</td><td>Netherlands</td><td>Dutch Grand Prix</td><td>1</td></tr><tr><td>Circuit de Monaco</td><td>Monte-Carlo</td><td>Monaco</td><td>Monaco Grand Prix</td><td>2</td></tr><tr><td>Circuit de Spa-Francorchamps</td><td>Spa</td><td>Belgium</td><td>Belgian Grand Prix</td><td>3</td></tr><tr><td>Rouen-Les-Essarts</td><td>Rouen</td><td>France</td><td>French Grand Prix</td><td>4</td></tr><tr><td>Aintree</td><td>Liverpool</td><td>UK</td><td>British Grand Prix</td><td>5</td></tr><tr><td>Nürburgring</td><td>Nürburg</td><td>Germany</td><td>German Grand Prix</td><td>6</td></tr><tr><td>Autodromo Nazionale di Monza</td><td>Monza</td><td>Italy</td><td>Italian Grand Prix</td><td>7</td></tr><tr><td>Watkins Glen</td><td>New York State</td><td>USA</td><td>United States Grand Prix</td><td>8</td></tr><tr><td>Prince George Circuit</td><td>Eastern Cape Province</td><td>South Africa</td><td>South African Grand Prix</td><td>9</td></tr><tr><td>Circuit de Monaco</td><td>Monte-Carlo</td><td>Monaco</td><td>Monaco Grand Prix</td><td>1</td></tr><tr><td>Circuit Park Zandvoort</td><td>Zandvoort</td><td>Netherlands</td><td>Dutch Grand Prix</td><td>2</td></tr><tr><td>Circuit de Spa-Francorchamps</td><td>Spa</td><td>Belgium</td><td>Belgian Grand Prix</td><td>3</td></tr><tr><td>Reims-Gueux</td><td>Reims</td><td>France</td><td>French Grand Prix</td><td>4</td></tr><tr><td>Aintree</td><td>Liverpool</td><td>UK</td><td>British Grand Prix</td><td>5</td></tr><tr><td>Nürburgring</td><td>Nürburg</td><td>Germany</td><td>German Grand Prix</td><td>6</td></tr><tr><td>Autodromo Nazionale di Monza</td><td>Monza</td><td>Italy</td><td>Italian Grand Prix</td><td>7</td></tr><tr><td>Watkins Glen</td><td>New York State</td><td>USA</td><td>United States Grand Prix</td><td>8</td></tr><tr><td>Autódromo Juan y Oscar Gálvez</td><td>Buenos Aires</td><td>Argentina</td><td>Argentine Grand Prix</td><td>1</td></tr><tr><td>Circuit de Monaco</td><td>Monte-Carlo</td><td>Monaco</td><td>Monaco Grand Prix</td><td>2</td></tr><tr><td>Indianapolis Motor Speedway</td><td>Indianapolis</td><td>USA</td><td>Indianapolis 500</td><td>3</td></tr><tr><td>Circuit Park Zandvoort</td><td>Zandvoort</td><td>Netherlands</td><td>Dutch Grand Prix</td><td>4</td></tr><tr><td>Circuit de Spa-Francorchamps</td><td>Spa</td><td>Belgium</td><td>Belgian Grand Prix</td><td>5</td></tr><tr><td>Reims-Gueux</td><td>Reims</td><td>France</td><td>French Grand Prix</td><td>6</td></tr><tr><td>Silverstone Circuit</td><td>Silverstone</td><td>UK</td><td>British Grand Prix</td><td>7</td></tr><tr><td>Circuito da Boavista</td><td>Oporto</td><td>Portugal</td><td>Portuguese Grand Prix</td><td>8</td></tr><tr><td>Autodromo Nazionale di Monza</td><td>Monza</td><td>Italy</td><td>Italian Grand Prix</td><td>9</td></tr><tr><td>Riverside International Raceway</td><td>California</td><td>USA</td><td>United States Grand Prix</td><td>10</td></tr><tr><td>Circuit de Monaco</td><td>Monte-Carlo</td><td>Monaco</td><td>Monaco Grand Prix</td><td>1</td></tr><tr><td>Indianapolis Motor Speedway</td><td>Indianapolis</td><td>USA</td><td>Indianapolis 500</td><td>2</td></tr><tr><td>Circuit Park Zandvoort</td><td>Zandvoort</td><td>Netherlands</td><td>Dutch Grand Prix</td><td>3</td></tr><tr><td>Reims-Gueux</td><td>Reims</td><td>France</td><td>French Grand Prix</td><td>4</td></tr><tr><td>Aintree</td><td>Liverpool</td><td>UK</td><td>British Grand Prix</td><td>5</td></tr><tr><td>AVUS</td><td>Berlin</td><td>Germany</td><td>German Grand Prix</td><td>6</td></tr><tr><td>Monsanto Park Circuit</td><td>Lisbon</td><td>Portugal</td><td>Portuguese Grand Prix</td><td>7</td></tr><tr><td>Autodromo Nazionale di Monza</td><td>Monza</td><td>Italy</td><td>Italian Grand Prix</td><td>8</td></tr><tr><td>Sebring International Raceway</td><td>Florida</td><td>USA</td><td>United States Grand Prix</td><td>9</td></tr><tr><td>Autódromo Juan y Oscar Gálvez</td><td>Buenos Aires</td><td>Argentina</td><td>Argentine Grand Prix</td><td>1</td></tr><tr><td>Circuit de Monaco</td><td>Monte-Carlo</td><td>Monaco</td><td>Monaco Grand Prix</td><td>2</td></tr><tr><td>Circuit Park Zandvoort</td><td>Zandvoort</td><td>Netherlands</td><td>Dutch Grand Prix</td><td>3</td></tr><tr><td>Indianapolis Motor Speedway</td><td>Indianapolis</td><td>USA</td><td>Indianapolis 500</td><td>4</td></tr><tr><td>Circuit de Spa-Francorchamps</td><td>Spa</td><td>Belgium</td><td>Belgian Grand Prix</td><td>5</td></tr><tr><td>Reims-Gueux</td><td>Reims</td><td>France</td><td>French Grand Prix</td><td>6</td></tr><tr><td>Silverstone Circuit</td><td>Silverstone</td><td>UK</td><td>British Grand Prix</td><td>7</td></tr><tr><td>Nürburgring</td><td>Nürburg</td><td>Germany</td><td>German Grand Prix</td><td>8</td></tr><tr><td>Circuito da Boavista</td><td>Oporto</td><td>Portugal</td><td>Portuguese Grand Prix</td><td>9</td></tr><tr><td>Autodromo Nazionale di Monza</td><td>Monza</td><td>Italy</td><td>Italian Grand Prix</td><td>10</td></tr><tr><td>Ain Diab</td><td>Casablanca</td><td>Morocco</td><td>Moroccan Grand Prix</td><td>11</td></tr><tr><td>Autódromo Juan y Oscar Gálvez</td><td>Buenos Aires</td><td>Argentina</td><td>Argentine Grand Prix</td><td>1</td></tr><tr><td>Circuit de Monaco</td><td>Monte-Carlo</td><td>Monaco</td><td>Monaco Grand Prix</td><td>2</td></tr><tr><td>Indianapolis Motor Speedway</td><td>Indianapolis</td><td>USA</td><td>Indianapolis 500</td><td>3</td></tr><tr><td>Rouen-Les-Essarts</td><td>Rouen</td><td>France</td><td>French Grand Prix</td><td>4</td></tr><tr><td>Aintree</td><td>Liverpool</td><td>UK</td><td>British Grand Prix</td><td>5</td></tr><tr><td>Nürburgring</td><td>Nürburg</td><td>Germany</td><td>German Grand Prix</td><td>6</td></tr><tr><td>Pescara Circuit</td><td>Pescara</td><td>Italy</td><td>Pescara Grand Prix</td><td>7</td></tr><tr><td>Autodromo Nazionale di Monza</td><td>Monza</td><td>Italy</td><td>Italian Grand Prix</td><td>8</td></tr><tr><td>Autódromo Juan y Oscar Gálvez</td><td>Buenos Aires</td><td>Argentina</td><td>Argentine Grand Prix</td><td>1</td></tr><tr><td>Circuit de Monaco</td><td>Monte-Carlo</td><td>Monaco</td><td>Monaco Grand Prix</td><td>2</td></tr><tr><td>Indianapolis Motor Speedway</td><td>Indianapolis</td><td>USA</td><td>Indianapolis 500</td><td>3</td></tr><tr><td>Circuit de Spa-Francorchamps</td><td>Spa</td><td>Belgium</td><td>Belgian Grand Prix</td><td>4</td></tr><tr><td>Reims-Gueux</td><td>Reims</td><td>France</td><td>French Grand Prix</td><td>5</td></tr><tr><td>Silverstone Circuit</td><td>Silverstone</td><td>UK</td><td>British Grand Prix</td><td>6</td></tr><tr><td>Nürburgring</td><td>Nürburg</td><td>Germany</td><td>German Grand Prix</td><td>7</td></tr><tr><td>Autodromo Nazionale di Monza</td><td>Monza</td><td>Italy</td><td>Italian Grand Prix</td><td>8</td></tr><tr><td>Autódromo Juan y Oscar Gálvez</td><td>Buenos Aires</td><td>Argentina</td><td>Argentine Grand Prix</td><td>1</td></tr><tr><td>Circuit de Monaco</td><td>Monte-Carlo</td><td>Monaco</td><td>Monaco Grand Prix</td><td>2</td></tr><tr><td>Indianapolis Motor Speedway</td><td>Indianapolis</td><td>USA</td><td>Indianapolis 500</td><td>3</td></tr><tr><td>Circuit de Spa-Francorchamps</td><td>Spa</td><td>Belgium</td><td>Belgian Grand Prix</td><td>4</td></tr><tr><td>Circuit Park Zandvoort</td><td>Zandvoort</td><td>Netherlands</td><td>Dutch Grand Prix</td><td>5</td></tr><tr><td>Aintree</td><td>Liverpool</td><td>UK</td><td>British Grand Prix</td><td>6</td></tr><tr><td>Autodromo Nazionale di Monza</td><td>Monza</td><td>Italy</td><td>Italian Grand Prix</td><td>7</td></tr><tr><td>Autódromo Juan y Oscar Gálvez</td><td>Buenos Aires</td><td>Argentina</td><td>Argentine Grand Prix</td><td>1</td></tr><tr><td>Indianapolis Motor Speedway</td><td>Indianapolis</td><td>USA</td><td>Indianapolis 500</td><td>2</td></tr><tr><td>Circuit de Spa-Francorchamps</td><td>Spa</td><td>Belgium</td><td>Belgian Grand Prix</td><td>3</td></tr><tr><td>Reims-Gueux</td><td>Reims</td><td>France</td><td>French Grand Prix</td><td>4</td></tr><tr><td>Silverstone Circuit</td><td>Silverstone</td><td>UK</td><td>British Grand Prix</td><td>5</td></tr><tr><td>Nürburgring</td><td>Nürburg</td><td>Germany</td><td>German Grand Prix</td><td>6</td></tr><tr><td>Circuit Bremgarten</td><td>Bern</td><td>Switzerland</td><td>Swiss Grand Prix</td><td>7</td></tr><tr><td>Autodromo Nazionale di Monza</td><td>Monza</td><td>Italy</td><td>Italian Grand Prix</td><td>8</td></tr><tr><td>Circuit de Pedralbes</td><td>Barcelona</td><td>Spain</td><td>Spanish Grand Prix</td><td>9</td></tr><tr><td>Autódromo Juan y Oscar Gálvez</td><td>Buenos Aires</td><td>Argentina</td><td>Argentine Grand Prix</td><td>1</td></tr><tr><td>Indianapolis Motor Speedway</td><td>Indianapolis</td><td>USA</td><td>Indianapolis 500</td><td>2</td></tr><tr><td>Circuit Park Zandvoort</td><td>Zandvoort</td><td>Netherlands</td><td>Dutch Grand Prix</td><td>3</td></tr><tr><td>Circuit de Spa-Francorchamps</td><td>Spa</td><td>Belgium</td><td>Belgian Grand Prix</td><td>4</td></tr><tr><td>Reims-Gueux</td><td>Reims</td><td>France</td><td>French Grand Prix</td><td>5</td></tr><tr><td>Silverstone Circuit</td><td>Silverstone</td><td>UK</td><td>British Grand Prix</td><td>6</td></tr><tr><td>Nürburgring</td><td>Nürburg</td><td>Germany</td><td>German Grand Prix</td><td>7</td></tr><tr><td>Circuit Bremgarten</td><td>Bern</td><td>Switzerland</td><td>Swiss Grand Prix</td><td>8</td></tr><tr><td>Autodromo Nazionale di Monza</td><td>Monza</td><td>Italy</td><td>Italian Grand Prix</td><td>9</td></tr><tr><td>Circuit Bremgarten</td><td>Bern</td><td>Switzerland</td><td>Swiss Grand Prix</td><td>1</td></tr><tr><td>Indianapolis Motor Speedway</td><td>Indianapolis</td><td>USA</td><td>Indianapolis 500</td><td>2</td></tr><tr><td>Circuit de Spa-Francorchamps</td><td>Spa</td><td>Belgium</td><td>Belgian Grand Prix</td><td>3</td></tr><tr><td>Rouen-Les-Essarts</td><td>Rouen</td><td>France</td><td>French Grand Prix</td><td>4</td></tr><tr><td>Silverstone Circuit</td><td>Silverstone</td><td>UK</td><td>British Grand Prix</td><td>5</td></tr><tr><td>Nürburgring</td><td>Nürburg</td><td>Germany</td><td>German Grand Prix</td><td>6</td></tr><tr><td>Circuit Park Zandvoort</td><td>Zandvoort</td><td>Netherlands</td><td>Dutch Grand Prix</td><td>7</td></tr><tr><td>Autodromo Nazionale di Monza</td><td>Monza</td><td>Italy</td><td>Italian Grand Prix</td><td>8</td></tr><tr><td>Circuit Bremgarten</td><td>Bern</td><td>Switzerland</td><td>Swiss Grand Prix</td><td>1</td></tr><tr><td>Indianapolis Motor Speedway</td><td>Indianapolis</td><td>USA</td><td>Indianapolis 500</td><td>2</td></tr><tr><td>Circuit de Spa-Francorchamps</td><td>Spa</td><td>Belgium</td><td>Belgian Grand Prix</td><td>3</td></tr><tr><td>Reims-Gueux</td><td>Reims</td><td>France</td><td>French Grand Prix</td><td>4</td></tr><tr><td>Silverstone Circuit</td><td>Silverstone</td><td>UK</td><td>British Grand Prix</td><td>5</td></tr><tr><td>Nürburgring</td><td>Nürburg</td><td>Germany</td><td>German Grand Prix</td><td>6</td></tr><tr><td>Autodromo Nazionale di Monza</td><td>Monza</td><td>Italy</td><td>Italian Grand Prix</td><td>7</td></tr><tr><td>Circuit de Pedralbes</td><td>Barcelona</td><td>Spain</td><td>Spanish Grand Prix</td><td>8</td></tr><tr><td>Silverstone Circuit</td><td>Silverstone</td><td>UK</td><td>British Grand Prix</td><td>1</td></tr><tr><td>Circuit de Monaco</td><td>Monte-Carlo</td><td>Monaco</td><td>Monaco Grand Prix</td><td>2</td></tr><tr><td>Indianapolis Motor Speedway</td><td>Indianapolis</td><td>USA</td><td>Indianapolis 500</td><td>3</td></tr><tr><td>Circuit Bremgarten</td><td>Bern</td><td>Switzerland</td><td>Swiss Grand Prix</td><td>4</td></tr><tr><td>Circuit de Spa-Francorchamps</td><td>Spa</td><td>Belgium</td><td>Belgian Grand Prix</td><td>5</td></tr><tr><td>Reims-Gueux</td><td>Reims</td><td>France</td><td>French Grand Prix</td><td>6</td></tr><tr><td>Autodromo Nazionale di Monza</td><td>Monza</td><td>Italy</td><td>Italian Grand Prix</td><td>7</td></tr><tr><td>Albert Park Grand Prix Circuit</td><td>Melbourne</td><td>Australia</td><td>Australian Grand Prix</td><td>1</td></tr><tr><td>Sepang International Circuit</td><td>Kuala Lumpur</td><td>Malaysia</td><td>Malaysian Grand Prix</td><td>2</td></tr><tr><td>Shanghai International Circuit</td><td>Shanghai</td><td>China</td><td>Chinese Grand Prix</td><td>3</td></tr><tr><td>Istanbul Park</td><td>Istanbul</td><td>Turkey</td><td>Turkish Grand Prix</td><td>4</td></tr><tr><td>Circuit de Barcelona-Catalunya</td><td>Montmeló</td><td>Spain</td><td>Spanish Grand Prix</td><td>5</td></tr><tr><td>Circuit de Monaco</td><td>Monte-Carlo</td><td>Monaco</td><td>Monaco Grand Prix</td><td>6</td></tr><tr><td>Circuit Gilles Villeneuve</td><td>Montreal</td><td>Canada</td><td>Canadian Grand Prix</td><td>7</td></tr><tr><td>Valencia Street Circuit</td><td>Valencia</td><td>Spain</td><td>European Grand Prix</td><td>8</td></tr><tr><td>Silverstone Circuit</td><td>Silverstone</td><td>UK</td><td>British Grand Prix</td><td>9</td></tr><tr><td>Nürburgring</td><td>Nürburg</td><td>Germany</td><td>German Grand Prix</td><td>10</td></tr><tr><td>Hungaroring</td><td>Budapest</td><td>Hungary</td><td>Hungarian Grand Prix</td><td>11</td></tr><tr><td>Circuit de Spa-Francorchamps</td><td>Spa</td><td>Belgium</td><td>Belgian Grand Prix</td><td>12</td></tr><tr><td>Autodromo Nazionale di Monza</td><td>Monza</td><td>Italy</td><td>Italian Grand Prix</td><td>13</td></tr><tr><td>Marina Bay Street Circuit</td><td>Marina Bay</td><td>Singapore</td><td>Singapore Grand Prix</td><td>14</td></tr><tr><td>Suzuka Circuit</td><td>Suzuka</td><td>Japan</td><td>Japanese Grand Prix</td><td>15</td></tr><tr><td>Korean International Circuit</td><td>Yeongam County</td><td>Korea</td><td>Korean Grand Prix</td><td>16</td></tr><tr><td>Buddh International Circuit</td><td>Uttar Pradesh</td><td>India</td><td>Indian Grand Prix</td><td>17</td></tr><tr><td>Yas Marina Circuit</td><td>Abu Dhabi</td><td>UAE</td><td>Abu Dhabi Grand Prix</td><td>18</td></tr><tr><td>Autódromo José Carlos Pace</td><td>São Paulo</td><td>Brazil</td><td>Brazilian Grand Prix</td><td>19</td></tr><tr><td>Albert Park Grand Prix Circuit</td><td>Melbourne</td><td>Australia</td><td>Australian Grand Prix</td><td>1</td></tr><tr><td>Sepang International Circuit</td><td>Kuala Lumpur</td><td>Malaysia</td><td>Malaysian Grand Prix</td><td>2</td></tr><tr><td>Shanghai International Circuit</td><td>Shanghai</td><td>China</td><td>Chinese Grand Prix</td><td>3</td></tr><tr><td>Bahrain International Circuit</td><td>Sakhir</td><td>Bahrain</td><td>Bahrain Grand Prix</td><td>4</td></tr><tr><td>Circuit de Barcelona-Catalunya</td><td>Montmeló</td><td>Spain</td><td>Spanish Grand Prix</td><td>5</td></tr><tr><td>Circuit de Monaco</td><td>Monte-Carlo</td><td>Monaco</td><td>Monaco Grand Prix</td><td>6</td></tr><tr><td>Circuit Gilles Villeneuve</td><td>Montreal</td><td>Canada</td><td>Canadian Grand Prix</td><td>7</td></tr><tr><td>Valencia Street Circuit</td><td>Valencia</td><td>Spain</td><td>European Grand Prix</td><td>8</td></tr><tr><td>Silverstone Circuit</td><td>Silverstone</td><td>UK</td><td>British Grand Prix</td><td>9</td></tr><tr><td>Hockenheimring</td><td>Hockenheim</td><td>Germany</td><td>German Grand Prix</td><td>10</td></tr><tr><td>Hungaroring</td><td>Budapest</td><td>Hungary</td><td>Hungarian Grand Prix</td><td>11</td></tr><tr><td>Circuit de Spa-Francorchamps</td><td>Spa</td><td>Belgium</td><td>Belgian Grand Prix</td><td>12</td></tr><tr><td>Autodromo Nazionale di Monza</td><td>Monza</td><td>Italy</td><td>Italian Grand Prix</td><td>13</td></tr><tr><td>Marina Bay Street Circuit</td><td>Marina Bay</td><td>Singapore</td><td>Singapore Grand Prix</td><td>14</td></tr><tr><td>Suzuka Circuit</td><td>Suzuka</td><td>Japan</td><td>Japanese Grand Prix</td><td>15</td></tr><tr><td>Korean International Circuit</td><td>Yeongam County</td><td>Korea</td><td>Korean Grand Prix</td><td>16</td></tr><tr><td>Buddh International Circuit</td><td>Uttar Pradesh</td><td>India</td><td>Indian Grand Prix</td><td>17</td></tr><tr><td>Yas Marina Circuit</td><td>Abu Dhabi</td><td>UAE</td><td>Abu Dhabi Grand Prix</td><td>18</td></tr><tr><td>Circuit of the Americas</td><td>Austin</td><td>USA</td><td>United States Grand Prix</td><td>19</td></tr><tr><td>Autódromo José Carlos Pace</td><td>São Paulo</td><td>Brazil</td><td>Brazilian Grand Prix</td><td>20</td></tr><tr><td>Albert Park Grand Prix Circuit</td><td>Melbourne</td><td>Australia</td><td>Australian Grand Prix</td><td>1</td></tr><tr><td>Sepang International Circuit</td><td>Kuala Lumpur</td><td>Malaysia</td><td>Malaysian Grand Prix</td><td>2</td></tr><tr><td>Shanghai International Circuit</td><td>Shanghai</td><td>China</td><td>Chinese Grand Prix</td><td>3</td></tr><tr><td>Bahrain International Circuit</td><td>Sakhir</td><td>Bahrain</td><td>Bahrain Grand Prix</td><td>4</td></tr><tr><td>Circuit de Barcelona-Catalunya</td><td>Montmeló</td><td>Spain</td><td>Spanish Grand Prix</td><td>5</td></tr><tr><td>Circuit de Monaco</td><td>Monte-Carlo</td><td>Monaco</td><td>Monaco Grand Prix</td><td>6</td></tr><tr><td>Circuit Gilles Villeneuve</td><td>Montreal</td><td>Canada</td><td>Canadian Grand Prix</td><td>7</td></tr><tr><td>Silverstone Circuit</td><td>Silverstone</td><td>UK</td><td>British Grand Prix</td><td>8</td></tr><tr><td>Nürburgring</td><td>Nürburg</td><td>Germany</td><td>German Grand Prix</td><td>9</td></tr><tr><td>Hungaroring</td><td>Budapest</td><td>Hungary</td><td>Hungarian Grand Prix</td><td>10</td></tr><tr><td>Circuit de Spa-Francorchamps</td><td>Spa</td><td>Belgium</td><td>Belgian Grand Prix</td><td>11</td></tr><tr><td>Autodromo Nazionale di Monza</td><td>Monza</td><td>Italy</td><td>Italian Grand Prix</td><td>12</td></tr><tr><td>Marina Bay Street Circuit</td><td>Marina Bay</td><td>Singapore</td><td>Singapore Grand Prix</td><td>13</td></tr><tr><td>Korean International Circuit</td><td>Yeongam County</td><td>Korea</td><td>Korean Grand Prix</td><td>14</td></tr><tr><td>Suzuka Circuit</td><td>Suzuka</td><td>Japan</td><td>Japanese Grand Prix</td><td>15</td></tr><tr><td>Buddh International Circuit</td><td>Uttar Pradesh</td><td>India</td><td>Indian Grand Prix</td><td>16</td></tr><tr><td>Yas Marina Circuit</td><td>Abu Dhabi</td><td>UAE</td><td>Abu Dhabi Grand Prix</td><td>17</td></tr><tr><td>Circuit of the Americas</td><td>Austin</td><td>USA</td><td>United States Grand Prix</td><td>18</td></tr><tr><td>Autódromo José Carlos Pace</td><td>São Paulo</td><td>Brazil</td><td>Brazilian Grand Prix</td><td>19</td></tr><tr><td>Albert Park Grand Prix Circuit</td><td>Melbourne</td><td>Australia</td><td>Australian Grand Prix</td><td>1</td></tr><tr><td>Sepang International Circuit</td><td>Kuala Lumpur</td><td>Malaysia</td><td>Malaysian Grand Prix</td><td>2</td></tr><tr><td>Bahrain International Circuit</td><td>Sakhir</td><td>Bahrain</td><td>Bahrain Grand Prix</td><td>3</td></tr><tr><td>Shanghai International Circuit</td><td>Shanghai</td><td>China</td><td>Chinese Grand Prix</td><td>4</td></tr><tr><td>Circuit de Barcelona-Catalunya</td><td>Montmeló</td><td>Spain</td><td>Spanish Grand Prix</td><td>5</td></tr><tr><td>Circuit de Monaco</td><td>Monte-Carlo</td><td>Monaco</td><td>Monaco Grand Prix</td><td>6</td></tr><tr><td>Circuit Gilles Villeneuve</td><td>Montreal</td><td>Canada</td><td>Canadian Grand Prix</td><td>7</td></tr><tr><td>Red Bull Ring</td><td>Spielburg</td><td>Austria</td><td>Austrian Grand Prix</td><td>8</td></tr><tr><td>Silverstone Circuit</td><td>Silverstone</td><td>UK</td><td>British Grand Prix</td><td>9</td></tr><tr><td>Hockenheimring</td><td>Hockenheim</td><td>Germany</td><td>German Grand Prix</td><td>10</td></tr><tr><td>Hungaroring</td><td>Budapest</td><td>Hungary</td><td>Hungarian Grand Prix</td><td>11</td></tr><tr><td>Circuit de Spa-Francorchamps</td><td>Spa</td><td>Belgium</td><td>Belgian Grand Prix</td><td>12</td></tr><tr><td>Autodromo Nazionale di Monza</td><td>Monza</td><td>Italy</td><td>Italian Grand Prix</td><td>13</td></tr><tr><td>Marina Bay Street Circuit</td><td>Marina Bay</td><td>Singapore</td><td>Singapore Grand Prix</td><td>14</td></tr><tr><td>Suzuka Circuit</td><td>Suzuka</td><td>Japan</td><td>Japanese Grand Prix</td><td>15</td></tr><tr><td>Sochi Autodrom</td><td>Sochi</td><td>Russia</td><td>Russian Grand Prix</td><td>16</td></tr><tr><td>Circuit of the Americas</td><td>Austin</td><td>USA</td><td>United States Grand Prix</td><td>17</td></tr><tr><td>Autódromo José Carlos Pace</td><td>São Paulo</td><td>Brazil</td><td>Brazilian Grand Prix</td><td>18</td></tr><tr><td>Yas Marina Circuit</td><td>Abu Dhabi</td><td>UAE</td><td>Abu Dhabi Grand Prix</td><td>19</td></tr><tr><td>Circuit de Monaco</td><td>Monte-Carlo</td><td>Monaco</td><td>Monaco Grand Prix</td><td>6</td></tr><tr><td>Circuit Gilles Villeneuve</td><td>Montreal</td><td>Canada</td><td>Canadian Grand Prix</td><td>7</td></tr><tr><td>Bahrain International Circuit</td><td>Sakhir</td><td>Bahrain</td><td>Bahrain Grand Prix</td><td>4</td></tr><tr><td>Circuit de Barcelona-Catalunya</td><td>Montmeló</td><td>Spain</td><td>Spanish Grand Prix</td><td>5</td></tr><tr><td>Shanghai International Circuit</td><td>Shanghai</td><td>China</td><td>Chinese Grand Prix</td><td>3</td></tr><tr><td>Albert Park Grand Prix Circuit</td><td>Melbourne</td><td>Australia</td><td>Australian Grand Prix</td><td>1</td></tr><tr><td>Sepang International Circuit</td><td>Kuala Lumpur</td><td>Malaysia</td><td>Malaysian Grand Prix</td><td>2</td></tr><tr><td>Red Bull Ring</td><td>Spielburg</td><td>Austria</td><td>Austrian Grand Prix</td><td>8</td></tr><tr><td>Silverstone Circuit</td><td>Silverstone</td><td>UK</td><td>British Grand Prix</td><td>9</td></tr><tr><td>Hungaroring</td><td>Budapest</td><td>Hungary</td><td>Hungarian Grand Prix</td><td>10</td></tr><tr><td>Circuit de Spa-Francorchamps</td><td>Spa</td><td>Belgium</td><td>Belgian Grand Prix</td><td>11</td></tr><tr><td>Autodromo Nazionale di Monza</td><td>Monza</td><td>Italy</td><td>Italian Grand Prix</td><td>12</td></tr><tr><td>Marina Bay Street Circuit</td><td>Marina Bay</td><td>Singapore</td><td>Singapore Grand Prix</td><td>13</td></tr><tr><td>Suzuka Circuit</td><td>Suzuka</td><td>Japan</td><td>Japanese Grand Prix</td><td>14</td></tr><tr><td>Sochi Autodrom</td><td>Sochi</td><td>Russia</td><td>Russian Grand Prix</td><td>15</td></tr><tr><td>Circuit of the Americas</td><td>Austin</td><td>USA</td><td>United States Grand Prix</td><td>16</td></tr><tr><td>Autódromo Hermanos Rodríguez</td><td>Mexico City</td><td>Mexico</td><td>Mexican Grand Prix</td><td>17</td></tr><tr><td>Autódromo José Carlos Pace</td><td>São Paulo</td><td>Brazil</td><td>Brazilian Grand Prix</td><td>18</td></tr><tr><td>Yas Marina Circuit</td><td>Abu Dhabi</td><td>UAE</td><td>Abu Dhabi Grand Prix</td><td>19</td></tr><tr><td>Albert Park Grand Prix Circuit</td><td>Melbourne</td><td>Australia</td><td>Australian Grand Prix</td><td>1</td></tr><tr><td>Bahrain International Circuit</td><td>Sakhir</td><td>Bahrain</td><td>Bahrain Grand Prix</td><td>2</td></tr><tr><td>Shanghai International Circuit</td><td>Shanghai</td><td>China</td><td>Chinese Grand Prix</td><td>3</td></tr><tr><td>Sochi Autodrom</td><td>Sochi</td><td>Russia</td><td>Russian Grand Prix</td><td>4</td></tr><tr><td>Circuit de Barcelona-Catalunya</td><td>Montmeló</td><td>Spain</td><td>Spanish Grand Prix</td><td>5</td></tr><tr><td>Circuit de Monaco</td><td>Monte-Carlo</td><td>Monaco</td><td>Monaco Grand Prix</td><td>6</td></tr><tr><td>Circuit Gilles Villeneuve</td><td>Montreal</td><td>Canada</td><td>Canadian Grand Prix</td><td>7</td></tr><tr><td>Baku City Circuit</td><td>Baku</td><td>Azerbaijan</td><td>European Grand Prix</td><td>8</td></tr><tr><td>Red Bull Ring</td><td>Spielburg</td><td>Austria</td><td>Austrian Grand Prix</td><td>9</td></tr><tr><td>Silverstone Circuit</td><td>Silverstone</td><td>UK</td><td>British Grand Prix</td><td>10</td></tr><tr><td>Hungaroring</td><td>Budapest</td><td>Hungary</td><td>Hungarian Grand Prix</td><td>11</td></tr><tr><td>Hockenheimring</td><td>Hockenheim</td><td>Germany</td><td>German Grand Prix</td><td>12</td></tr><tr><td>Circuit de Spa-Francorchamps</td><td>Spa</td><td>Belgium</td><td>Belgian Grand Prix</td><td>13</td></tr><tr><td>Autodromo Nazionale di Monza</td><td>Monza</td><td>Italy</td><td>Italian Grand Prix</td><td>14</td></tr><tr><td>Marina Bay Street Circuit</td><td>Marina Bay</td><td>Singapore</td><td>Singapore Grand Prix</td><td>15</td></tr><tr><td>Sepang International Circuit</td><td>Kuala Lumpur</td><td>Malaysia</td><td>Malaysian Grand Prix</td><td>16</td></tr><tr><td>Suzuka Circuit</td><td>Suzuka</td><td>Japan</td><td>Japanese Grand Prix</td><td>17</td></tr><tr><td>Circuit of the Americas</td><td>Austin</td><td>USA</td><td>United States Grand Prix</td><td>18</td></tr><tr><td>Autódromo Hermanos Rodríguez</td><td>Mexico City</td><td>Mexico</td><td>Mexican Grand Prix</td><td>19</td></tr><tr><td>Autódromo José Carlos Pace</td><td>São Paulo</td><td>Brazil</td><td>Brazilian Grand Prix</td><td>20</td></tr><tr><td>Yas Marina Circuit</td><td>Abu Dhabi</td><td>UAE</td><td>Abu Dhabi Grand Prix</td><td>21</td></tr><tr><td>Albert Park Grand Prix Circuit</td><td>Melbourne</td><td>Australia</td><td>Australian Grand Prix</td><td>1</td></tr><tr><td>Shanghai International Circuit</td><td>Shanghai</td><td>China</td><td>Chinese Grand Prix</td><td>2</td></tr><tr><td>Bahrain International Circuit</td><td>Sakhir</td><td>Bahrain</td><td>Bahrain Grand Prix</td><td>3</td></tr><tr><td>Sochi Autodrom</td><td>Sochi</td><td>Russia</td><td>Russian Grand Prix</td><td>4</td></tr><tr><td>Circuit de Barcelona-Catalunya</td><td>Montmeló</td><td>Spain</td><td>Spanish Grand Prix</td><td>5</td></tr><tr><td>Circuit de Monaco</td><td>Monte-Carlo</td><td>Monaco</td><td>Monaco Grand Prix</td><td>6</td></tr><tr><td>Circuit Gilles Villeneuve</td><td>Montreal</td><td>Canada</td><td>Canadian Grand Prix</td><td>7</td></tr><tr><td>Baku City Circuit</td><td>Baku</td><td>Azerbaijan</td><td>Azerbaijan Grand Prix</td><td>8</td></tr><tr><td>Red Bull Ring</td><td>Spielburg</td><td>Austria</td><td>Austrian Grand Prix</td><td>9</td></tr><tr><td>Silverstone Circuit</td><td>Silverstone</td><td>UK</td><td>British Grand Prix</td><td>10</td></tr><tr><td>Hungaroring</td><td>Budapest</td><td>Hungary</td><td>Hungarian Grand Prix</td><td>11</td></tr><tr><td>Circuit de Spa-Francorchamps</td><td>Spa</td><td>Belgium</td><td>Belgian Grand Prix</td><td>12</td></tr><tr><td>Autodromo Nazionale di Monza</td><td>Monza</td><td>Italy</td><td>Italian Grand Prix</td><td>13</td></tr><tr><td>Marina Bay Street Circuit</td><td>Marina Bay</td><td>Singapore</td><td>Singapore Grand Prix</td><td>14</td></tr><tr><td>Sepang International Circuit</td><td>Kuala Lumpur</td><td>Malaysia</td><td>Malaysian Grand Prix</td><td>15</td></tr><tr><td>Suzuka Circuit</td><td>Suzuka</td><td>Japan</td><td>Japanese Grand Prix</td><td>16</td></tr><tr><td>Circuit of the Americas</td><td>Austin</td><td>USA</td><td>United States Grand Prix</td><td>17</td></tr><tr><td>Autódromo Hermanos Rodríguez</td><td>Mexico City</td><td>Mexico</td><td>Mexican Grand Prix</td><td>18</td></tr><tr><td>Autódromo José Carlos Pace</td><td>São Paulo</td><td>Brazil</td><td>Brazilian Grand Prix</td><td>19</td></tr><tr><td>Yas Marina Circuit</td><td>Abu Dhabi</td><td>UAE</td><td>Abu Dhabi Grand Prix</td><td>20</td></tr><tr><td>Albert Park Grand Prix Circuit</td><td>Melbourne</td><td>Australia</td><td>Australian Grand Prix</td><td>1</td></tr><tr><td>Bahrain International Circuit</td><td>Sakhir</td><td>Bahrain</td><td>Bahrain Grand Prix</td><td>2</td></tr><tr><td>Shanghai International Circuit</td><td>Shanghai</td><td>China</td><td>Chinese Grand Prix</td><td>3</td></tr><tr><td>Baku City Circuit</td><td>Baku</td><td>Azerbaijan</td><td>Azerbaijan Grand Prix</td><td>4</td></tr><tr><td>Circuit de Barcelona-Catalunya</td><td>Montmeló</td><td>Spain</td><td>Spanish Grand Prix</td><td>5</td></tr><tr><td>Circuit de Monaco</td><td>Monte-Carlo</td><td>Monaco</td><td>Monaco Grand Prix</td><td>6</td></tr><tr><td>Circuit Gilles Villeneuve</td><td>Montreal</td><td>Canada</td><td>Canadian Grand Prix</td><td>7</td></tr><tr><td>Circuit Paul Ricard</td><td>Le Castellet</td><td>France</td><td>French Grand Prix</td><td>8</td></tr><tr><td>Red Bull Ring</td><td>Spielburg</td><td>Austria</td><td>Austrian Grand Prix</td><td>9</td></tr><tr><td>Silverstone Circuit</td><td>Silverstone</td><td>UK</td><td>British Grand Prix</td><td>10</td></tr><tr><td>Hockenheimring</td><td>Hockenheim</td><td>Germany</td><td>German Grand Prix</td><td>11</td></tr><tr><td>Hungaroring</td><td>Budapest</td><td>Hungary</td><td>Hungarian Grand Prix</td><td>12</td></tr><tr><td>Circuit de Spa-Francorchamps</td><td>Spa</td><td>Belgium</td><td>Belgian Grand Prix</td><td>13</td></tr><tr><td>Autodromo Nazionale di Monza</td><td>Monza</td><td>Italy</td><td>Italian Grand Prix</td><td>14</td></tr><tr><td>Marina Bay Street Circuit</td><td>Marina Bay</td><td>Singapore</td><td>Singapore Grand Prix</td><td>15</td></tr><tr><td>Sochi Autodrom</td><td>Sochi</td><td>Russia</td><td>Russian Grand Prix</td><td>16</td></tr><tr><td>Suzuka Circuit</td><td>Suzuka</td><td>Japan</td><td>Japanese Grand Prix</td><td>17</td></tr><tr><td>Circuit of the Americas</td><td>Austin</td><td>USA</td><td>United States Grand Prix</td><td>18</td></tr><tr><td>Autódromo Hermanos Rodríguez</td><td>Mexico City</td><td>Mexico</td><td>Mexican Grand Prix</td><td>19</td></tr><tr><td>Autódromo José Carlos Pace</td><td>São Paulo</td><td>Brazil</td><td>Brazilian Grand Prix</td><td>20</td></tr><tr><td>Yas Marina Circuit</td><td>Abu Dhabi</td><td>UAE</td><td>Abu Dhabi Grand Prix</td><td>21</td></tr><tr><td>Albert Park Grand Prix Circuit</td><td>Melbourne</td><td>Australia</td><td>Australian Grand Prix</td><td>1</td></tr><tr><td>Bahrain International Circuit</td><td>Sakhir</td><td>Bahrain</td><td>Bahrain Grand Prix</td><td>2</td></tr><tr><td>Shanghai International Circuit</td><td>Shanghai</td><td>China</td><td>Chinese Grand Prix</td><td>3</td></tr><tr><td>Baku City Circuit</td><td>Baku</td><td>Azerbaijan</td><td>Azerbaijan Grand Prix</td><td>4</td></tr><tr><td>Circuit de Barcelona-Catalunya</td><td>Montmeló</td><td>Spain</td><td>Spanish Grand Prix</td><td>5</td></tr><tr><td>Circuit de Monaco</td><td>Monte-Carlo</td><td>Monaco</td><td>Monaco Grand Prix</td><td>6</td></tr><tr><td>Circuit Gilles Villeneuve</td><td>Montreal</td><td>Canada</td><td>Canadian Grand Prix</td><td>7</td></tr><tr><td>Circuit Paul Ricard</td><td>Le Castellet</td><td>France</td><td>French Grand Prix</td><td>8</td></tr><tr><td>Red Bull Ring</td><td>Spielburg</td><td>Austria</td><td>Austrian Grand Prix</td><td>9</td></tr><tr><td>Silverstone Circuit</td><td>Silverstone</td><td>UK</td><td>British Grand Prix</td><td>10</td></tr><tr><td>Hockenheimring</td><td>Hockenheim</td><td>Germany</td><td>German Grand Prix</td><td>11</td></tr><tr><td>Hungaroring</td><td>Budapest</td><td>Hungary</td><td>Hungarian Grand Prix</td><td>12</td></tr><tr><td>Circuit de Spa-Francorchamps</td><td>Spa</td><td>Belgium</td><td>Belgian Grand Prix</td><td>13</td></tr><tr><td>Autodromo Nazionale di Monza</td><td>Monza</td><td>Italy</td><td>Italian Grand Prix</td><td>14</td></tr><tr><td>Marina Bay Street Circuit</td><td>Marina Bay</td><td>Singapore</td><td>Singapore Grand Prix</td><td>15</td></tr><tr><td>Sochi Autodrom</td><td>Sochi</td><td>Russia</td><td>Russian Grand Prix</td><td>16</td></tr><tr><td>Suzuka Circuit</td><td>Suzuka</td><td>Japan</td><td>Japanese Grand Prix</td><td>17</td></tr><tr><td>Autódromo Hermanos Rodríguez</td><td>Mexico City</td><td>Mexico</td><td>Mexican Grand Prix</td><td>18</td></tr><tr><td>Circuit of the Americas</td><td>Austin</td><td>USA</td><td>United States Grand Prix</td><td>19</td></tr><tr><td>Autódromo José Carlos Pace</td><td>São Paulo</td><td>Brazil</td><td>Brazilian Grand Prix</td><td>20</td></tr><tr><td>Yas Marina Circuit</td><td>Abu Dhabi</td><td>UAE</td><td>Abu Dhabi Grand Prix</td><td>21</td></tr><tr><td>Red Bull Ring</td><td>Spielburg</td><td>Austria</td><td>Austrian Grand Prix</td><td>1</td></tr><tr><td>Red Bull Ring</td><td>Spielburg</td><td>Austria</td><td>Styrian Grand Prix</td><td>2</td></tr><tr><td>Hungaroring</td><td>Budapest</td><td>Hungary</td><td>Hungarian Grand Prix</td><td>3</td></tr><tr><td>Silverstone Circuit</td><td>Silverstone</td><td>UK</td><td>British Grand Prix</td><td>4</td></tr><tr><td>Silverstone Circuit</td><td>Silverstone</td><td>UK</td><td>70th Anniversary Grand Prix</td><td>5</td></tr><tr><td>Circuit de Barcelona-Catalunya</td><td>Montmeló</td><td>Spain</td><td>Spanish Grand Prix</td><td>6</td></tr><tr><td>Circuit de Spa-Francorchamps</td><td>Spa</td><td>Belgium</td><td>Belgian Grand Prix</td><td>7</td></tr><tr><td>Autodromo Nazionale di Monza</td><td>Monza</td><td>Italy</td><td>Italian Grand Prix</td><td>8</td></tr><tr><td>Autodromo Internazionale del Mugello</td><td>Mugello</td><td>Italy</td><td>Tuscan Grand Prix</td><td>9</td></tr><tr><td>Sochi Autodrom</td><td>Sochi</td><td>Russia</td><td>Russian Grand Prix</td><td>10</td></tr><tr><td>Nürburgring</td><td>Nürburg</td><td>Germany</td><td>Eifel Grand Prix</td><td>11</td></tr><tr><td>Autódromo Internacional do Algarve</td><td>Portimão</td><td>Portugal</td><td>Portuguese Grand Prix</td><td>12</td></tr><tr><td>Autodromo Enzo e Dino Ferrari</td><td>Imola</td><td>Italy</td><td>Emilia Romagna Grand Prix</td><td>13</td></tr><tr><td>Istanbul Park</td><td>Istanbul</td><td>Turkey</td><td>Turkish Grand Prix</td><td>14</td></tr><tr><td>Bahrain International Circuit</td><td>Sakhir</td><td>Bahrain</td><td>Bahrain Grand Prix</td><td>15</td></tr><tr><td>Bahrain International Circuit</td><td>Sakhir</td><td>Bahrain</td><td>Sakhir Grand Prix</td><td>16</td></tr><tr><td>Yas Marina Circuit</td><td>Abu Dhabi</td><td>UAE</td><td>Abu Dhabi Grand Prix</td><td>17</td></tr><tr><td>Autodromo Enzo e Dino Ferrari</td><td>Imola</td><td>Italy</td><td>Emilia Romagna Grand Prix</td><td>2</td></tr><tr><td>Bahrain International Circuit</td><td>Sakhir</td><td>Bahrain</td><td>Bahrain Grand Prix</td><td>1</td></tr><tr><td>Albert Park Grand Prix Circuit</td><td>Melbourne</td><td>Australia</td><td>Australian Grand Prix</td><td>21</td></tr><tr><td>Nürburgring</td><td>Nürburg</td><td>Germany</td><td>TBC</td><td>3</td></tr><tr><td>Circuit de Barcelona-Catalunya</td><td>Montmeló</td><td>Spain</td><td>Spanish Grand Prix</td><td>4</td></tr><tr><td>Circuit de Monaco</td><td>Monte-Carlo</td><td>Monaco</td><td>Monaco Grand Prix</td><td>5</td></tr><tr><td>Baku City Circuit</td><td>Baku</td><td>Azerbaijan</td><td>Azerbaijan Grand Prix</td><td>6</td></tr><tr><td>Circuit Gilles Villeneuve</td><td>Montreal</td><td>Canada</td><td>Canadian Grand Prix</td><td>7</td></tr><tr><td>Circuit Paul Ricard</td><td>Le Castellet</td><td>France</td><td>French Grand Prix</td><td>8</td></tr><tr><td>Red Bull Ring</td><td>Spielburg</td><td>Austria</td><td>Austrian Grand Prix</td><td>9</td></tr><tr><td>Silverstone Circuit</td><td>Silverstone</td><td>UK</td><td>British Grand Prix</td><td>10</td></tr><tr><td>Hungaroring</td><td>Budapest</td><td>Hungary</td><td>Hungarian Grand Prix</td><td>11</td></tr><tr><td>Circuit de Spa-Francorchamps</td><td>Spa</td><td>Belgium</td><td>Belgian Grand Prix</td><td>12</td></tr><tr><td>Circuit Park Zandvoort</td><td>Zandvoort</td><td>Netherlands</td><td>Dutch Grand Prix</td><td>13</td></tr><tr><td>Autodromo Nazionale di Monza</td><td>Monza</td><td>Italy</td><td>Italian Grand Prix</td><td>14</td></tr><tr><td>Sochi Autodrom</td><td>Sochi</td><td>Russia</td><td>Russian Grand Prix</td><td>15</td></tr><tr><td>Marina Bay Street Circuit</td><td>Marina Bay</td><td>Singapore</td><td>Singapore Grand Prix</td><td>16</td></tr><tr><td>Suzuka Circuit</td><td>Suzuka</td><td>Japan</td><td>Japanese Grand Prix</td><td>17</td></tr><tr><td>Circuit of the Americas</td><td>Austin</td><td>USA</td><td>United States Grand Prix</td><td>18</td></tr><tr><td>Autódromo Hermanos Rodríguez</td><td>Mexico City</td><td>Mexico</td><td>Mexico City Grand Prix</td><td>19</td></tr><tr><td>Autódromo José Carlos Pace</td><td>São Paulo</td><td>Brazil</td><td>Brazilian Grand Prix</td><td>20</td></tr><tr><td>Jeddah Street Circuit</td><td>Jeddah</td><td>Saudi Arabia</td><td>Saudi Arabian Grand Prix</td><td>22</td></tr><tr><td>Yas Marina Circuit</td><td>Abu Dhabi</td><td>UAE</td><td>Abu Dhabi Grand Prix</td><td>23</td></tr></tbody></table></div>"
      ]
     },
     "metadata": {
      "application/vnd.databricks.v1+output": {
       "addedWidgets": {},
       "aggData": [],
       "aggError": "",
       "aggOverflow": false,
       "aggSchema": [],
       "aggSeriesLimitReached": false,
       "aggType": "",
       "arguments": {},
       "columnCustomDisplayInfos": {},
       "data": [
        [
         "Albert Park Grand Prix Circuit",
         "Melbourne",
         "Australia",
         "Australian Grand Prix",
         1
        ],
        [
         "Sepang International Circuit",
         "Kuala Lumpur",
         "Malaysia",
         "Malaysian Grand Prix",
         2
        ],
        [
         "Shanghai International Circuit",
         "Shanghai",
         "China",
         "Chinese Grand Prix",
         3
        ],
        [
         "Bahrain International Circuit",
         "Sakhir",
         "Bahrain",
         "Bahrain Grand Prix",
         4
        ],
        [
         "Circuit de Barcelona-Catalunya",
         "Montmeló",
         "Spain",
         "Spanish Grand Prix",
         5
        ],
        [
         "Circuit de Monaco",
         "Monte-Carlo",
         "Monaco",
         "Monaco Grand Prix",
         6
        ],
        [
         "Istanbul Park",
         "Istanbul",
         "Turkey",
         "Turkish Grand Prix",
         7
        ],
        [
         "Silverstone Circuit",
         "Silverstone",
         "UK",
         "British Grand Prix",
         8
        ],
        [
         "Nürburgring",
         "Nürburg",
         "Germany",
         "German Grand Prix",
         9
        ],
        [
         "Hungaroring",
         "Budapest",
         "Hungary",
         "Hungarian Grand Prix",
         10
        ],
        [
         "Valencia Street Circuit",
         "Valencia",
         "Spain",
         "European Grand Prix",
         11
        ],
        [
         "Circuit de Spa-Francorchamps",
         "Spa",
         "Belgium",
         "Belgian Grand Prix",
         12
        ],
        [
         "Autodromo Nazionale di Monza",
         "Monza",
         "Italy",
         "Italian Grand Prix",
         13
        ],
        [
         "Marina Bay Street Circuit",
         "Marina Bay",
         "Singapore",
         "Singapore Grand Prix",
         14
        ],
        [
         "Suzuka Circuit",
         "Suzuka",
         "Japan",
         "Japanese Grand Prix",
         15
        ],
        [
         "Autódromo José Carlos Pace",
         "São Paulo",
         "Brazil",
         "Brazilian Grand Prix",
         16
        ],
        [
         "Yas Marina Circuit",
         "Abu Dhabi",
         "UAE",
         "Abu Dhabi Grand Prix",
         17
        ],
        [
         "Albert Park Grand Prix Circuit",
         "Melbourne",
         "Australia",
         "Australian Grand Prix",
         1
        ],
        [
         "Sepang International Circuit",
         "Kuala Lumpur",
         "Malaysia",
         "Malaysian Grand Prix",
         2
        ],
        [
         "Bahrain International Circuit",
         "Sakhir",
         "Bahrain",
         "Bahrain Grand Prix",
         3
        ],
        [
         "Circuit de Barcelona-Catalunya",
         "Montmeló",
         "Spain",
         "Spanish Grand Prix",
         4
        ],
        [
         "Istanbul Park",
         "Istanbul",
         "Turkey",
         "Turkish Grand Prix",
         5
        ],
        [
         "Circuit de Monaco",
         "Monte-Carlo",
         "Monaco",
         "Monaco Grand Prix",
         6
        ],
        [
         "Circuit Gilles Villeneuve",
         "Montreal",
         "Canada",
         "Canadian Grand Prix",
         7
        ],
        [
         "Circuit de Nevers Magny-Cours",
         "Magny Cours",
         "France",
         "French Grand Prix",
         8
        ],
        [
         "Silverstone Circuit",
         "Silverstone",
         "UK",
         "British Grand Prix",
         9
        ],
        [
         "Hockenheimring",
         "Hockenheim",
         "Germany",
         "German Grand Prix",
         10
        ],
        [
         "Hungaroring",
         "Budapest",
         "Hungary",
         "Hungarian Grand Prix",
         11
        ],
        [
         "Valencia Street Circuit",
         "Valencia",
         "Spain",
         "European Grand Prix",
         12
        ],
        [
         "Circuit de Spa-Francorchamps",
         "Spa",
         "Belgium",
         "Belgian Grand Prix",
         13
        ],
        [
         "Autodromo Nazionale di Monza",
         "Monza",
         "Italy",
         "Italian Grand Prix",
         14
        ],
        [
         "Marina Bay Street Circuit",
         "Marina Bay",
         "Singapore",
         "Singapore Grand Prix",
         15
        ],
        [
         "Fuji Speedway",
         "Oyama",
         "Japan",
         "Japanese Grand Prix",
         16
        ],
        [
         "Shanghai International Circuit",
         "Shanghai",
         "China",
         "Chinese Grand Prix",
         17
        ],
        [
         "Autódromo José Carlos Pace",
         "São Paulo",
         "Brazil",
         "Brazilian Grand Prix",
         18
        ],
        [
         "Albert Park Grand Prix Circuit",
         "Melbourne",
         "Australia",
         "Australian Grand Prix",
         1
        ],
        [
         "Sepang International Circuit",
         "Kuala Lumpur",
         "Malaysia",
         "Malaysian Grand Prix",
         2
        ],
        [
         "Bahrain International Circuit",
         "Sakhir",
         "Bahrain",
         "Bahrain Grand Prix",
         3
        ],
        [
         "Circuit de Barcelona-Catalunya",
         "Montmeló",
         "Spain",
         "Spanish Grand Prix",
         4
        ],
        [
         "Circuit de Monaco",
         "Monte-Carlo",
         "Monaco",
         "Monaco Grand Prix",
         5
        ],
        [
         "Circuit Gilles Villeneuve",
         "Montreal",
         "Canada",
         "Canadian Grand Prix",
         6
        ],
        [
         "Indianapolis Motor Speedway",
         "Indianapolis",
         "USA",
         "United States Grand Prix",
         7
        ],
        [
         "Circuit de Nevers Magny-Cours",
         "Magny Cours",
         "France",
         "French Grand Prix",
         8
        ],
        [
         "Silverstone Circuit",
         "Silverstone",
         "UK",
         "British Grand Prix",
         9
        ],
        [
         "Nürburgring",
         "Nürburg",
         "Germany",
         "European Grand Prix",
         10
        ],
        [
         "Hungaroring",
         "Budapest",
         "Hungary",
         "Hungarian Grand Prix",
         11
        ],
        [
         "Istanbul Park",
         "Istanbul",
         "Turkey",
         "Turkish Grand Prix",
         12
        ],
        [
         "Autodromo Nazionale di Monza",
         "Monza",
         "Italy",
         "Italian Grand Prix",
         13
        ],
        [
         "Circuit de Spa-Francorchamps",
         "Spa",
         "Belgium",
         "Belgian Grand Prix",
         14
        ],
        [
         "Fuji Speedway",
         "Oyama",
         "Japan",
         "Japanese Grand Prix",
         15
        ],
        [
         "Shanghai International Circuit",
         "Shanghai",
         "China",
         "Chinese Grand Prix",
         16
        ],
        [
         "Autódromo José Carlos Pace",
         "São Paulo",
         "Brazil",
         "Brazilian Grand Prix",
         17
        ],
        [
         "Bahrain International Circuit",
         "Sakhir",
         "Bahrain",
         "Bahrain Grand Prix",
         1
        ],
        [
         "Sepang International Circuit",
         "Kuala Lumpur",
         "Malaysia",
         "Malaysian Grand Prix",
         2
        ],
        [
         "Albert Park Grand Prix Circuit",
         "Melbourne",
         "Australia",
         "Australian Grand Prix",
         3
        ],
        [
         "Autodromo Enzo e Dino Ferrari",
         "Imola",
         "Italy",
         "San Marino Grand Prix",
         4
        ],
        [
         "Nürburgring",
         "Nürburg",
         "Germany",
         "European Grand Prix",
         5
        ],
        [
         "Circuit de Barcelona-Catalunya",
         "Montmeló",
         "Spain",
         "Spanish Grand Prix",
         6
        ],
        [
         "Circuit de Monaco",
         "Monte-Carlo",
         "Monaco",
         "Monaco Grand Prix",
         7
        ],
        [
         "Silverstone Circuit",
         "Silverstone",
         "UK",
         "British Grand Prix",
         8
        ],
        [
         "Circuit Gilles Villeneuve",
         "Montreal",
         "Canada",
         "Canadian Grand Prix",
         9
        ],
        [
         "Indianapolis Motor Speedway",
         "Indianapolis",
         "USA",
         "United States Grand Prix",
         10
        ],
        [
         "Circuit de Nevers Magny-Cours",
         "Magny Cours",
         "France",
         "French Grand Prix",
         11
        ],
        [
         "Hockenheimring",
         "Hockenheim",
         "Germany",
         "German Grand Prix",
         12
        ],
        [
         "Hungaroring",
         "Budapest",
         "Hungary",
         "Hungarian Grand Prix",
         13
        ],
        [
         "Istanbul Park",
         "Istanbul",
         "Turkey",
         "Turkish Grand Prix",
         14
        ],
        [
         "Autodromo Nazionale di Monza",
         "Monza",
         "Italy",
         "Italian Grand Prix",
         15
        ],
        [
         "Shanghai International Circuit",
         "Shanghai",
         "China",
         "Chinese Grand Prix",
         16
        ],
        [
         "Suzuka Circuit",
         "Suzuka",
         "Japan",
         "Japanese Grand Prix",
         17
        ],
        [
         "Autódromo José Carlos Pace",
         "São Paulo",
         "Brazil",
         "Brazilian Grand Prix",
         18
        ],
        [
         "Albert Park Grand Prix Circuit",
         "Melbourne",
         "Australia",
         "Australian Grand Prix",
         1
        ],
        [
         "Sepang International Circuit",
         "Kuala Lumpur",
         "Malaysia",
         "Malaysian Grand Prix",
         2
        ],
        [
         "Bahrain International Circuit",
         "Sakhir",
         "Bahrain",
         "Bahrain Grand Prix",
         3
        ],
        [
         "Autodromo Enzo e Dino Ferrari",
         "Imola",
         "Italy",
         "San Marino Grand Prix",
         4
        ],
        [
         "Circuit de Barcelona-Catalunya",
         "Montmeló",
         "Spain",
         "Spanish Grand Prix",
         5
        ],
        [
         "Circuit de Monaco",
         "Monte-Carlo",
         "Monaco",
         "Monaco Grand Prix",
         6
        ],
        [
         "Nürburgring",
         "Nürburg",
         "Germany",
         "European Grand Prix",
         7
        ],
        [
         "Circuit Gilles Villeneuve",
         "Montreal",
         "Canada",
         "Canadian Grand Prix",
         8
        ],
        [
         "Indianapolis Motor Speedway",
         "Indianapolis",
         "USA",
         "United States Grand Prix",
         9
        ],
        [
         "Circuit de Nevers Magny-Cours",
         "Magny Cours",
         "France",
         "French Grand Prix",
         10
        ],
        [
         "Silverstone Circuit",
         "Silverstone",
         "UK",
         "British Grand Prix",
         11
        ],
        [
         "Hockenheimring",
         "Hockenheim",
         "Germany",
         "German Grand Prix",
         12
        ],
        [
         "Hungaroring",
         "Budapest",
         "Hungary",
         "Hungarian Grand Prix",
         13
        ],
        [
         "Istanbul Park",
         "Istanbul",
         "Turkey",
         "Turkish Grand Prix",
         14
        ],
        [
         "Autodromo Nazionale di Monza",
         "Monza",
         "Italy",
         "Italian Grand Prix",
         15
        ],
        [
         "Circuit de Spa-Francorchamps",
         "Spa",
         "Belgium",
         "Belgian Grand Prix",
         16
        ],
        [
         "Autódromo José Carlos Pace",
         "São Paulo",
         "Brazil",
         "Brazilian Grand Prix",
         17
        ],
        [
         "Suzuka Circuit",
         "Suzuka",
         "Japan",
         "Japanese Grand Prix",
         18
        ],
        [
         "Shanghai International Circuit",
         "Shanghai",
         "China",
         "Chinese Grand Prix",
         19
        ],
        [
         "Albert Park Grand Prix Circuit",
         "Melbourne",
         "Australia",
         "Australian Grand Prix",
         1
        ],
        [
         "Sepang International Circuit",
         "Kuala Lumpur",
         "Malaysia",
         "Malaysian Grand Prix",
         2
        ],
        [
         "Bahrain International Circuit",
         "Sakhir",
         "Bahrain",
         "Bahrain Grand Prix",
         3
        ],
        [
         "Autodromo Enzo e Dino Ferrari",
         "Imola",
         "Italy",
         "San Marino Grand Prix",
         4
        ],
        [
         "Circuit de Barcelona-Catalunya",
         "Montmeló",
         "Spain",
         "Spanish Grand Prix",
         5
        ],
        [
         "Circuit de Monaco",
         "Monte-Carlo",
         "Monaco",
         "Monaco Grand Prix",
         6
        ],
        [
         "Nürburgring",
         "Nürburg",
         "Germany",
         "European Grand Prix",
         7
        ],
        [
         "Circuit Gilles Villeneuve",
         "Montreal",
         "Canada",
         "Canadian Grand Prix",
         8
        ],
        [
         "Indianapolis Motor Speedway",
         "Indianapolis",
         "USA",
         "United States Grand Prix",
         9
        ],
        [
         "Circuit de Nevers Magny-Cours",
         "Magny Cours",
         "France",
         "French Grand Prix",
         10
        ],
        [
         "Silverstone Circuit",
         "Silverstone",
         "UK",
         "British Grand Prix",
         11
        ],
        [
         "Hockenheimring",
         "Hockenheim",
         "Germany",
         "German Grand Prix",
         12
        ],
        [
         "Hungaroring",
         "Budapest",
         "Hungary",
         "Hungarian Grand Prix",
         13
        ],
        [
         "Circuit de Spa-Francorchamps",
         "Spa",
         "Belgium",
         "Belgian Grand Prix",
         14
        ],
        [
         "Autodromo Nazionale di Monza",
         "Monza",
         "Italy",
         "Italian Grand Prix",
         15
        ],
        [
         "Shanghai International Circuit",
         "Shanghai",
         "China",
         "Chinese Grand Prix",
         16
        ],
        [
         "Suzuka Circuit",
         "Suzuka",
         "Japan",
         "Japanese Grand Prix",
         17
        ],
        [
         "Autódromo José Carlos Pace",
         "São Paulo",
         "Brazil",
         "Brazilian Grand Prix",
         18
        ],
        [
         "Albert Park Grand Prix Circuit",
         "Melbourne",
         "Australia",
         "Australian Grand Prix",
         1
        ],
        [
         "Sepang International Circuit",
         "Kuala Lumpur",
         "Malaysia",
         "Malaysian Grand Prix",
         2
        ],
        [
         "Autódromo José Carlos Pace",
         "São Paulo",
         "Brazil",
         "Brazilian Grand Prix",
         3
        ],
        [
         "Autodromo Enzo e Dino Ferrari",
         "Imola",
         "Italy",
         "San Marino Grand Prix",
         4
        ],
        [
         "Circuit de Barcelona-Catalunya",
         "Montmeló",
         "Spain",
         "Spanish Grand Prix",
         5
        ],
        [
         "A1-Ring",
         "Spielburg",
         "Austria",
         "Austrian Grand Prix",
         6
        ],
        [
         "Circuit de Monaco",
         "Monte-Carlo",
         "Monaco",
         "Monaco Grand Prix",
         7
        ],
        [
         "Circuit Gilles Villeneuve",
         "Montreal",
         "Canada",
         "Canadian Grand Prix",
         8
        ],
        [
         "Nürburgring",
         "Nürburg",
         "Germany",
         "European Grand Prix",
         9
        ],
        [
         "Circuit de Nevers Magny-Cours",
         "Magny Cours",
         "France",
         "French Grand Prix",
         10
        ],
        [
         "Silverstone Circuit",
         "Silverstone",
         "UK",
         "British Grand Prix",
         11
        ],
        [
         "Hockenheimring",
         "Hockenheim",
         "Germany",
         "German Grand Prix",
         12
        ],
        [
         "Hungaroring",
         "Budapest",
         "Hungary",
         "Hungarian Grand Prix",
         13
        ],
        [
         "Autodromo Nazionale di Monza",
         "Monza",
         "Italy",
         "Italian Grand Prix",
         14
        ],
        [
         "Indianapolis Motor Speedway",
         "Indianapolis",
         "USA",
         "United States Grand Prix",
         15
        ],
        [
         "Suzuka Circuit",
         "Suzuka",
         "Japan",
         "Japanese Grand Prix",
         16
        ],
        [
         "Albert Park Grand Prix Circuit",
         "Melbourne",
         "Australia",
         "Australian Grand Prix",
         1
        ],
        [
         "Sepang International Circuit",
         "Kuala Lumpur",
         "Malaysia",
         "Malaysian Grand Prix",
         2
        ],
        [
         "Autódromo José Carlos Pace",
         "São Paulo",
         "Brazil",
         "Brazilian Grand Prix",
         3
        ],
        [
         "Autodromo Enzo e Dino Ferrari",
         "Imola",
         "Italy",
         "San Marino Grand Prix",
         4
        ],
        [
         "Circuit de Barcelona-Catalunya",
         "Montmeló",
         "Spain",
         "Spanish Grand Prix",
         5
        ],
        [
         "A1-Ring",
         "Spielburg",
         "Austria",
         "Austrian Grand Prix",
         6
        ],
        [
         "Circuit de Monaco",
         "Monte-Carlo",
         "Monaco",
         "Monaco Grand Prix",
         7
        ],
        [
         "Circuit Gilles Villeneuve",
         "Montreal",
         "Canada",
         "Canadian Grand Prix",
         8
        ],
        [
         "Nürburgring",
         "Nürburg",
         "Germany",
         "European Grand Prix",
         9
        ],
        [
         "Silverstone Circuit",
         "Silverstone",
         "UK",
         "British Grand Prix",
         10
        ],
        [
         "Circuit de Nevers Magny-Cours",
         "Magny Cours",
         "France",
         "French Grand Prix",
         11
        ],
        [
         "Hockenheimring",
         "Hockenheim",
         "Germany",
         "German Grand Prix",
         12
        ],
        [
         "Hungaroring",
         "Budapest",
         "Hungary",
         "Hungarian Grand Prix",
         13
        ],
        [
         "Circuit de Spa-Francorchamps",
         "Spa",
         "Belgium",
         "Belgian Grand Prix",
         14
        ],
        [
         "Autodromo Nazionale di Monza",
         "Monza",
         "Italy",
         "Italian Grand Prix",
         15
        ],
        [
         "Indianapolis Motor Speedway",
         "Indianapolis",
         "USA",
         "United States Grand Prix",
         16
        ],
        [
         "Suzuka Circuit",
         "Suzuka",
         "Japan",
         "Japanese Grand Prix",
         17
        ],
        [
         "Albert Park Grand Prix Circuit",
         "Melbourne",
         "Australia",
         "Australian Grand Prix",
         1
        ],
        [
         "Sepang International Circuit",
         "Kuala Lumpur",
         "Malaysia",
         "Malaysian Grand Prix",
         2
        ],
        [
         "Autódromo José Carlos Pace",
         "São Paulo",
         "Brazil",
         "Brazilian Grand Prix",
         3
        ],
        [
         "Autodromo Enzo e Dino Ferrari",
         "Imola",
         "Italy",
         "San Marino Grand Prix",
         4
        ],
        [
         "Circuit de Barcelona-Catalunya",
         "Montmeló",
         "Spain",
         "Spanish Grand Prix",
         5
        ],
        [
         "A1-Ring",
         "Spielburg",
         "Austria",
         "Austrian Grand Prix",
         6
        ],
        [
         "Circuit de Monaco",
         "Monte-Carlo",
         "Monaco",
         "Monaco Grand Prix",
         7
        ],
        [
         "Circuit Gilles Villeneuve",
         "Montreal",
         "Canada",
         "Canadian Grand Prix",
         8
        ],
        [
         "Nürburgring",
         "Nürburg",
         "Germany",
         "European Grand Prix",
         9
        ],
        [
         "Circuit de Nevers Magny-Cours",
         "Magny Cours",
         "France",
         "French Grand Prix",
         10
        ],
        [
         "Silverstone Circuit",
         "Silverstone",
         "UK",
         "British Grand Prix",
         11
        ],
        [
         "Hockenheimring",
         "Hockenheim",
         "Germany",
         "German Grand Prix",
         12
        ],
        [
         "Hungaroring",
         "Budapest",
         "Hungary",
         "Hungarian Grand Prix",
         13
        ],
        [
         "Circuit de Spa-Francorchamps",
         "Spa",
         "Belgium",
         "Belgian Grand Prix",
         14
        ],
        [
         "Autodromo Nazionale di Monza",
         "Monza",
         "Italy",
         "Italian Grand Prix",
         15
        ],
        [
         "Indianapolis Motor Speedway",
         "Indianapolis",
         "USA",
         "United States Grand Prix",
         16
        ],
        [
         "Suzuka Circuit",
         "Suzuka",
         "Japan",
         "Japanese Grand Prix",
         17
        ],
        [
         "Albert Park Grand Prix Circuit",
         "Melbourne",
         "Australia",
         "Australian Grand Prix",
         1
        ],
        [
         "Autódromo José Carlos Pace",
         "São Paulo",
         "Brazil",
         "Brazilian Grand Prix",
         2
        ],
        [
         "Autodromo Enzo e Dino Ferrari",
         "Imola",
         "Italy",
         "San Marino Grand Prix",
         3
        ],
        [
         "Silverstone Circuit",
         "Silverstone",
         "UK",
         "British Grand Prix",
         4
        ],
        [
         "Circuit de Barcelona-Catalunya",
         "Montmeló",
         "Spain",
         "Spanish Grand Prix",
         5
        ],
        [
         "Nürburgring",
         "Nürburg",
         "Germany",
         "European Grand Prix",
         6
        ],
        [
         "Circuit de Monaco",
         "Monte-Carlo",
         "Monaco",
         "Monaco Grand Prix",
         7
        ],
        [
         "Circuit Gilles Villeneuve",
         "Montreal",
         "Canada",
         "Canadian Grand Prix",
         8
        ],
        [
         "Circuit de Nevers Magny-Cours",
         "Magny Cours",
         "France",
         "French Grand Prix",
         9
        ],
        [
         "A1-Ring",
         "Spielburg",
         "Austria",
         "Austrian Grand Prix",
         10
        ],
        [
         "Hockenheimring",
         "Hockenheim",
         "Germany",
         "German Grand Prix",
         11
        ],
        [
         "Hungaroring",
         "Budapest",
         "Hungary",
         "Hungarian Grand Prix",
         12
        ],
        [
         "Circuit de Spa-Francorchamps",
         "Spa",
         "Belgium",
         "Belgian Grand Prix",
         13
        ],
        [
         "Autodromo Nazionale di Monza",
         "Monza",
         "Italy",
         "Italian Grand Prix",
         14
        ],
        [
         "Indianapolis Motor Speedway",
         "Indianapolis",
         "USA",
         "United States Grand Prix",
         15
        ],
        [
         "Suzuka Circuit",
         "Suzuka",
         "Japan",
         "Japanese Grand Prix",
         16
        ],
        [
         "Sepang International Circuit",
         "Kuala Lumpur",
         "Malaysia",
         "Malaysian Grand Prix",
         17
        ],
        [
         "Albert Park Grand Prix Circuit",
         "Melbourne",
         "Australia",
         "Australian Grand Prix",
         1
        ],
        [
         "Autódromo José Carlos Pace",
         "São Paulo",
         "Brazil",
         "Brazilian Grand Prix",
         2
        ],
        [
         "Autodromo Enzo e Dino Ferrari",
         "Imola",
         "Italy",
         "San Marino Grand Prix",
         3
        ],
        [
         "Circuit de Monaco",
         "Monte-Carlo",
         "Monaco",
         "Monaco Grand Prix",
         4
        ],
        [
         "Circuit de Barcelona-Catalunya",
         "Montmeló",
         "Spain",
         "Spanish Grand Prix",
         5
        ],
        [
         "Circuit Gilles Villeneuve",
         "Montreal",
         "Canada",
         "Canadian Grand Prix",
         6
        ],
        [
         "Circuit de Nevers Magny-Cours",
         "Magny Cours",
         "France",
         "French Grand Prix",
         7
        ],
        [
         "Silverstone Circuit",
         "Silverstone",
         "UK",
         "British Grand Prix",
         8
        ],
        [
         "A1-Ring",
         "Spielburg",
         "Austria",
         "Austrian Grand Prix",
         9
        ],
        [
         "Hockenheimring",
         "Hockenheim",
         "Germany",
         "German Grand Prix",
         10
        ],
        [
         "Hungaroring",
         "Budapest",
         "Hungary",
         "Hungarian Grand Prix",
         11
        ],
        [
         "Circuit de Spa-Francorchamps",
         "Spa",
         "Belgium",
         "Belgian Grand Prix",
         12
        ],
        [
         "Autodromo Nazionale di Monza",
         "Monza",
         "Italy",
         "Italian Grand Prix",
         13
        ],
        [
         "Nürburgring",
         "Nürburg",
         "Germany",
         "European Grand Prix",
         14
        ],
        [
         "Sepang International Circuit",
         "Kuala Lumpur",
         "Malaysia",
         "Malaysian Grand Prix",
         15
        ],
        [
         "Suzuka Circuit",
         "Suzuka",
         "Japan",
         "Japanese Grand Prix",
         16
        ],
        [
         "Albert Park Grand Prix Circuit",
         "Melbourne",
         "Australia",
         "Australian Grand Prix",
         1
        ],
        [
         "Autódromo José Carlos Pace",
         "São Paulo",
         "Brazil",
         "Brazilian Grand Prix",
         2
        ],
        [
         "Autódromo Juan y Oscar Gálvez",
         "Buenos Aires",
         "Argentina",
         "Argentine Grand Prix",
         3
        ],
        [
         "Autodromo Enzo e Dino Ferrari",
         "Imola",
         "Italy",
         "San Marino Grand Prix",
         4
        ],
        [
         "Circuit de Barcelona-Catalunya",
         "Montmeló",
         "Spain",
         "Spanish Grand Prix",
         5
        ],
        [
         "Circuit de Monaco",
         "Monte-Carlo",
         "Monaco",
         "Monaco Grand Prix",
         6
        ],
        [
         "Circuit Gilles Villeneuve",
         "Montreal",
         "Canada",
         "Canadian Grand Prix",
         7
        ],
        [
         "Circuit de Nevers Magny-Cours",
         "Magny Cours",
         "France",
         "French Grand Prix",
         8
        ],
        [
         "Silverstone Circuit",
         "Silverstone",
         "UK",
         "British Grand Prix",
         9
        ],
        [
         "A1-Ring",
         "Spielburg",
         "Austria",
         "Austrian Grand Prix",
         10
        ],
        [
         "Hockenheimring",
         "Hockenheim",
         "Germany",
         "German Grand Prix",
         11
        ],
        [
         "Hungaroring",
         "Budapest",
         "Hungary",
         "Hungarian Grand Prix",
         12
        ],
        [
         "Circuit de Spa-Francorchamps",
         "Spa",
         "Belgium",
         "Belgian Grand Prix",
         13
        ],
        [
         "Autodromo Nazionale di Monza",
         "Monza",
         "Italy",
         "Italian Grand Prix",
         14
        ],
        [
         "Nürburgring",
         "Nürburg",
         "Germany",
         "Luxembourg Grand Prix",
         15
        ],
        [
         "Suzuka Circuit",
         "Suzuka",
         "Japan",
         "Japanese Grand Prix",
         16
        ],
        [
         "Albert Park Grand Prix Circuit",
         "Melbourne",
         "Australia",
         "Australian Grand Prix",
         1
        ],
        [
         "Autódromo José Carlos Pace",
         "São Paulo",
         "Brazil",
         "Brazilian Grand Prix",
         2
        ],
        [
         "Autódromo Juan y Oscar Gálvez",
         "Buenos Aires",
         "Argentina",
         "Argentine Grand Prix",
         3
        ],
        [
         "Autodromo Enzo e Dino Ferrari",
         "Imola",
         "Italy",
         "San Marino Grand Prix",
         4
        ],
        [
         "Circuit de Monaco",
         "Monte-Carlo",
         "Monaco",
         "Monaco Grand Prix",
         5
        ],
        [
         "Circuit de Barcelona-Catalunya",
         "Montmeló",
         "Spain",
         "Spanish Grand Prix",
         6
        ],
        [
         "Circuit Gilles Villeneuve",
         "Montreal",
         "Canada",
         "Canadian Grand Prix",
         7
        ],
        [
         "Circuit de Nevers Magny-Cours",
         "Magny Cours",
         "France",
         "French Grand Prix",
         8
        ],
        [
         "Silverstone Circuit",
         "Silverstone",
         "UK",
         "British Grand Prix",
         9
        ],
        [
         "Hockenheimring",
         "Hockenheim",
         "Germany",
         "German Grand Prix",
         10
        ],
        [
         "Hungaroring",
         "Budapest",
         "Hungary",
         "Hungarian Grand Prix",
         11
        ],
        [
         "Circuit de Spa-Francorchamps",
         "Spa",
         "Belgium",
         "Belgian Grand Prix",
         12
        ],
        [
         "Autodromo Nazionale di Monza",
         "Monza",
         "Italy",
         "Italian Grand Prix",
         13
        ],
        [
         "A1-Ring",
         "Spielburg",
         "Austria",
         "Austrian Grand Prix",
         14
        ],
        [
         "Nürburgring",
         "Nürburg",
         "Germany",
         "Luxembourg Grand Prix",
         15
        ],
        [
         "Suzuka Circuit",
         "Suzuka",
         "Japan",
         "Japanese Grand Prix",
         16
        ],
        [
         "Circuito de Jerez",
         "Jerez de la Frontera",
         "Spain",
         "European Grand Prix",
         17
        ],
        [
         "Albert Park Grand Prix Circuit",
         "Melbourne",
         "Australia",
         "Australian Grand Prix",
         1
        ],
        [
         "Autódromo José Carlos Pace",
         "São Paulo",
         "Brazil",
         "Brazilian Grand Prix",
         2
        ],
        [
         "Autódromo Juan y Oscar Gálvez",
         "Buenos Aires",
         "Argentina",
         "Argentine Grand Prix",
         3
        ],
        [
         "Nürburgring",
         "Nürburg",
         "Germany",
         "European Grand Prix",
         4
        ],
        [
         "Autodromo Enzo e Dino Ferrari",
         "Imola",
         "Italy",
         "San Marino Grand Prix",
         5
        ],
        [
         "Circuit de Monaco",
         "Monte-Carlo",
         "Monaco",
         "Monaco Grand Prix",
         6
        ],
        [
         "Circuit de Barcelona-Catalunya",
         "Montmeló",
         "Spain",
         "Spanish Grand Prix",
         7
        ],
        [
         "Circuit Gilles Villeneuve",
         "Montreal",
         "Canada",
         "Canadian Grand Prix",
         8
        ],
        [
         "Circuit de Nevers Magny-Cours",
         "Magny Cours",
         "France",
         "French Grand Prix",
         9
        ],
        [
         "Silverstone Circuit",
         "Silverstone",
         "UK",
         "British Grand Prix",
         10
        ],
        [
         "Hockenheimring",
         "Hockenheim",
         "Germany",
         "German Grand Prix",
         11
        ],
        [
         "Hungaroring",
         "Budapest",
         "Hungary",
         "Hungarian Grand Prix",
         12
        ],
        [
         "Circuit de Spa-Francorchamps",
         "Spa",
         "Belgium",
         "Belgian Grand Prix",
         13
        ],
        [
         "Autodromo Nazionale di Monza",
         "Monza",
         "Italy",
         "Italian Grand Prix",
         14
        ],
        [
         "Autódromo do Estoril",
         "Estoril",
         "Portugal",
         "Portuguese Grand Prix",
         15
        ],
        [
         "Suzuka Circuit",
         "Suzuka",
         "Japan",
         "Japanese Grand Prix",
         16
        ],
        [
         "Autódromo José Carlos Pace",
         "São Paulo",
         "Brazil",
         "Brazilian Grand Prix",
         1
        ],
        [
         "Autódromo Juan y Oscar Gálvez",
         "Buenos Aires",
         "Argentina",
         "Argentine Grand Prix",
         2
        ],
        [
         "Autodromo Enzo e Dino Ferrari",
         "Imola",
         "Italy",
         "San Marino Grand Prix",
         3
        ],
        [
         "Circuit de Barcelona-Catalunya",
         "Montmeló",
         "Spain",
         "Spanish Grand Prix",
         4
        ],
        [
         "Circuit de Monaco",
         "Monte-Carlo",
         "Monaco",
         "Monaco Grand Prix",
         5
        ],
        [
         "Circuit Gilles Villeneuve",
         "Montreal",
         "Canada",
         "Canadian Grand Prix",
         6
        ],
        [
         "Circuit de Nevers Magny-Cours",
         "Magny Cours",
         "France",
         "French Grand Prix",
         7
        ],
        [
         "Silverstone Circuit",
         "Silverstone",
         "UK",
         "British Grand Prix",
         8
        ],
        [
         "Hockenheimring",
         "Hockenheim",
         "Germany",
         "German Grand Prix",
         9
        ],
        [
         "Hungaroring",
         "Budapest",
         "Hungary",
         "Hungarian Grand Prix",
         10
        ],
        [
         "Circuit de Spa-Francorchamps",
         "Spa",
         "Belgium",
         "Belgian Grand Prix",
         11
        ],
        [
         "Autodromo Nazionale di Monza",
         "Monza",
         "Italy",
         "Italian Grand Prix",
         12
        ],
        [
         "Autódromo do Estoril",
         "Estoril",
         "Portugal",
         "Portuguese Grand Prix",
         13
        ],
        [
         "Nürburgring",
         "Nürburg",
         "Germany",
         "European Grand Prix",
         14
        ],
        [
         "Okayama International Circuit",
         "Okayama",
         "Japan",
         "Pacific Grand Prix",
         15
        ],
        [
         "Suzuka Circuit",
         "Suzuka",
         "Japan",
         "Japanese Grand Prix",
         16
        ],
        [
         "Adelaide Street Circuit",
         "Adelaide",
         "Australia",
         "Australian Grand Prix",
         17
        ],
        [
         "Autódromo José Carlos Pace",
         "São Paulo",
         "Brazil",
         "Brazilian Grand Prix",
         1
        ],
        [
         "Okayama International Circuit",
         "Okayama",
         "Japan",
         "Pacific Grand Prix",
         2
        ],
        [
         "Autodromo Enzo e Dino Ferrari",
         "Imola",
         "Italy",
         "San Marino Grand Prix",
         3
        ],
        [
         "Circuit de Monaco",
         "Monte-Carlo",
         "Monaco",
         "Monaco Grand Prix",
         4
        ],
        [
         "Circuit de Barcelona-Catalunya",
         "Montmeló",
         "Spain",
         "Spanish Grand Prix",
         5
        ],
        [
         "Circuit Gilles Villeneuve",
         "Montreal",
         "Canada",
         "Canadian Grand Prix",
         6
        ],
        [
         "Circuit de Nevers Magny-Cours",
         "Magny Cours",
         "France",
         "French Grand Prix",
         7
        ],
        [
         "Silverstone Circuit",
         "Silverstone",
         "UK",
         "British Grand Prix",
         8
        ],
        [
         "Hockenheimring",
         "Hockenheim",
         "Germany",
         "German Grand Prix",
         9
        ],
        [
         "Hungaroring",
         "Budapest",
         "Hungary",
         "Hungarian Grand Prix",
         10
        ],
        [
         "Circuit de Spa-Francorchamps",
         "Spa",
         "Belgium",
         "Belgian Grand Prix",
         11
        ],
        [
         "Autodromo Nazionale di Monza",
         "Monza",
         "Italy",
         "Italian Grand Prix",
         12
        ],
        [
         "Autódromo do Estoril",
         "Estoril",
         "Portugal",
         "Portuguese Grand Prix",
         13
        ],
        [
         "Circuito de Jerez",
         "Jerez de la Frontera",
         "Spain",
         "European Grand Prix",
         14
        ],
        [
         "Suzuka Circuit",
         "Suzuka",
         "Japan",
         "Japanese Grand Prix",
         15
        ],
        [
         "Adelaide Street Circuit",
         "Adelaide",
         "Australia",
         "Australian Grand Prix",
         16
        ],
        [
         "Kyalami",
         "Midrand",
         "South Africa",
         "South African Grand Prix",
         1
        ],
        [
         "Autódromo José Carlos Pace",
         "São Paulo",
         "Brazil",
         "Brazilian Grand Prix",
         2
        ],
        [
         "Donington Park",
         "Castle Donington",
         "UK",
         "European Grand Prix",
         3
        ],
        [
         "Autodromo Enzo e Dino Ferrari",
         "Imola",
         "Italy",
         "San Marino Grand Prix",
         4
        ],
        [
         "Circuit de Barcelona-Catalunya",
         "Montmeló",
         "Spain",
         "Spanish Grand Prix",
         5
        ],
        [
         "Circuit de Monaco",
         "Monte-Carlo",
         "Monaco",
         "Monaco Grand Prix",
         6
        ],
        [
         "Circuit Gilles Villeneuve",
         "Montreal",
         "Canada",
         "Canadian Grand Prix",
         7
        ],
        [
         "Circuit de Nevers Magny-Cours",
         "Magny Cours",
         "France",
         "French Grand Prix",
         8
        ],
        [
         "Silverstone Circuit",
         "Silverstone",
         "UK",
         "British Grand Prix",
         9
        ],
        [
         "Hockenheimring",
         "Hockenheim",
         "Germany",
         "German Grand Prix",
         10
        ],
        [
         "Hungaroring",
         "Budapest",
         "Hungary",
         "Hungarian Grand Prix",
         11
        ],
        [
         "Circuit de Spa-Francorchamps",
         "Spa",
         "Belgium",
         "Belgian Grand Prix",
         12
        ],
        [
         "Autodromo Nazionale di Monza",
         "Monza",
         "Italy",
         "Italian Grand Prix",
         13
        ],
        [
         "Autódromo do Estoril",
         "Estoril",
         "Portugal",
         "Portuguese Grand Prix",
         14
        ],
        [
         "Suzuka Circuit",
         "Suzuka",
         "Japan",
         "Japanese Grand Prix",
         15
        ],
        [
         "Adelaide Street Circuit",
         "Adelaide",
         "Australia",
         "Australian Grand Prix",
         16
        ],
        [
         "Kyalami",
         "Midrand",
         "South Africa",
         "South African Grand Prix",
         1
        ],
        [
         "Autódromo Hermanos Rodríguez",
         "Mexico City",
         "Mexico",
         "Mexican Grand Prix",
         2
        ],
        [
         "Autódromo José Carlos Pace",
         "São Paulo",
         "Brazil",
         "Brazilian Grand Prix",
         3
        ],
        [
         "Circuit de Barcelona-Catalunya",
         "Montmeló",
         "Spain",
         "Spanish Grand Prix",
         4
        ],
        [
         "Autodromo Enzo e Dino Ferrari",
         "Imola",
         "Italy",
         "San Marino Grand Prix",
         5
        ],
        [
         "Circuit de Monaco",
         "Monte-Carlo",
         "Monaco",
         "Monaco Grand Prix",
         6
        ],
        [
         "Circuit Gilles Villeneuve",
         "Montreal",
         "Canada",
         "Canadian Grand Prix",
         7
        ],
        [
         "Circuit de Nevers Magny-Cours",
         "Magny Cours",
         "France",
         "French Grand Prix",
         8
        ],
        [
         "Silverstone Circuit",
         "Silverstone",
         "UK",
         "British Grand Prix",
         9
        ],
        [
         "Hockenheimring",
         "Hockenheim",
         "Germany",
         "German Grand Prix",
         10
        ],
        [
         "Hungaroring",
         "Budapest",
         "Hungary",
         "Hungarian Grand Prix",
         11
        ],
        [
         "Circuit de Spa-Francorchamps",
         "Spa",
         "Belgium",
         "Belgian Grand Prix",
         12
        ],
        [
         "Autodromo Nazionale di Monza",
         "Monza",
         "Italy",
         "Italian Grand Prix",
         13
        ],
        [
         "Autódromo do Estoril",
         "Estoril",
         "Portugal",
         "Portuguese Grand Prix",
         14
        ],
        [
         "Suzuka Circuit",
         "Suzuka",
         "Japan",
         "Japanese Grand Prix",
         15
        ],
        [
         "Adelaide Street Circuit",
         "Adelaide",
         "Australia",
         "Australian Grand Prix",
         16
        ],
        [
         "Phoenix street circuit",
         "Phoenix",
         "USA",
         "United States Grand Prix",
         1
        ],
        [
         "Autódromo José Carlos Pace",
         "São Paulo",
         "Brazil",
         "Brazilian Grand Prix",
         2
        ],
        [
         "Autodromo Enzo e Dino Ferrari",
         "Imola",
         "Italy",
         "San Marino Grand Prix",
         3
        ],
        [
         "Circuit de Monaco",
         "Monte-Carlo",
         "Monaco",
         "Monaco Grand Prix",
         4
        ],
        [
         "Circuit Gilles Villeneuve",
         "Montreal",
         "Canada",
         "Canadian Grand Prix",
         5
        ],
        [
         "Autódromo Hermanos Rodríguez",
         "Mexico City",
         "Mexico",
         "Mexican Grand Prix",
         6
        ],
        [
         "Circuit de Nevers Magny-Cours",
         "Magny Cours",
         "France",
         "French Grand Prix",
         7
        ],
        [
         "Silverstone Circuit",
         "Silverstone",
         "UK",
         "British Grand Prix",
         8
        ],
        [
         "Hockenheimring",
         "Hockenheim",
         "Germany",
         "German Grand Prix",
         9
        ],
        [
         "Hungaroring",
         "Budapest",
         "Hungary",
         "Hungarian Grand Prix",
         10
        ],
        [
         "Circuit de Spa-Francorchamps",
         "Spa",
         "Belgium",
         "Belgian Grand Prix",
         11
        ],
        [
         "Autodromo Nazionale di Monza",
         "Monza",
         "Italy",
         "Italian Grand Prix",
         12
        ],
        [
         "Autódromo do Estoril",
         "Estoril",
         "Portugal",
         "Portuguese Grand Prix",
         13
        ],
        [
         "Circuit de Barcelona-Catalunya",
         "Montmeló",
         "Spain",
         "Spanish Grand Prix",
         14
        ],
        [
         "Suzuka Circuit",
         "Suzuka",
         "Japan",
         "Japanese Grand Prix",
         15
        ],
        [
         "Adelaide Street Circuit",
         "Adelaide",
         "Australia",
         "Australian Grand Prix",
         16
        ],
        [
         "Phoenix street circuit",
         "Phoenix",
         "USA",
         "United States Grand Prix",
         1
        ],
        [
         "Autódromo José Carlos Pace",
         "São Paulo",
         "Brazil",
         "Brazilian Grand Prix",
         2
        ],
        [
         "Autodromo Enzo e Dino Ferrari",
         "Imola",
         "Italy",
         "San Marino Grand Prix",
         3
        ],
        [
         "Circuit de Monaco",
         "Monte-Carlo",
         "Monaco",
         "Monaco Grand Prix",
         4
        ],
        [
         "Circuit Gilles Villeneuve",
         "Montreal",
         "Canada",
         "Canadian Grand Prix",
         5
        ],
        [
         "Autódromo Hermanos Rodríguez",
         "Mexico City",
         "Mexico",
         "Mexican Grand Prix",
         6
        ],
        [
         "Circuit Paul Ricard",
         "Le Castellet",
         "France",
         "French Grand Prix",
         7
        ],
        [
         "Silverstone Circuit",
         "Silverstone",
         "UK",
         "British Grand Prix",
         8
        ],
        [
         "Hockenheimring",
         "Hockenheim",
         "Germany",
         "German Grand Prix",
         9
        ],
        [
         "Hungaroring",
         "Budapest",
         "Hungary",
         "Hungarian Grand Prix",
         10
        ],
        [
         "Circuit de Spa-Francorchamps",
         "Spa",
         "Belgium",
         "Belgian Grand Prix",
         11
        ],
        [
         "Autodromo Nazionale di Monza",
         "Monza",
         "Italy",
         "Italian Grand Prix",
         12
        ],
        [
         "Autódromo do Estoril",
         "Estoril",
         "Portugal",
         "Portuguese Grand Prix",
         13
        ],
        [
         "Circuito de Jerez",
         "Jerez de la Frontera",
         "Spain",
         "Spanish Grand Prix",
         14
        ],
        [
         "Suzuka Circuit",
         "Suzuka",
         "Japan",
         "Japanese Grand Prix",
         15
        ],
        [
         "Adelaide Street Circuit",
         "Adelaide",
         "Australia",
         "Australian Grand Prix",
         16
        ],
        [
         "Bahrain International Circuit",
         "Sakhir",
         "Bahrain",
         "Bahrain Grand Prix",
         1
        ],
        [
         "Albert Park Grand Prix Circuit",
         "Melbourne",
         "Australia",
         "Australian Grand Prix",
         2
        ],
        [
         "Sepang International Circuit",
         "Kuala Lumpur",
         "Malaysia",
         "Malaysian Grand Prix",
         3
        ],
        [
         "Shanghai International Circuit",
         "Shanghai",
         "China",
         "Chinese Grand Prix",
         4
        ],
        [
         "Circuit de Barcelona-Catalunya",
         "Montmeló",
         "Spain",
         "Spanish Grand Prix",
         5
        ],
        [
         "Circuit de Monaco",
         "Monte-Carlo",
         "Monaco",
         "Monaco Grand Prix",
         6
        ],
        [
         "Istanbul Park",
         "Istanbul",
         "Turkey",
         "Turkish Grand Prix",
         7
        ],
        [
         "Circuit Gilles Villeneuve",
         "Montreal",
         "Canada",
         "Canadian Grand Prix",
         8
        ],
        [
         "Valencia Street Circuit",
         "Valencia",
         "Spain",
         "European Grand Prix",
         9
        ],
        [
         "Silverstone Circuit",
         "Silverstone",
         "UK",
         "British Grand Prix",
         10
        ],
        [
         "Hockenheimring",
         "Hockenheim",
         "Germany",
         "German Grand Prix",
         11
        ],
        [
         "Hungaroring",
         "Budapest",
         "Hungary",
         "Hungarian Grand Prix",
         12
        ],
        [
         "Circuit de Spa-Francorchamps",
         "Spa",
         "Belgium",
         "Belgian Grand Prix",
         13
        ],
        [
         "Autodromo Nazionale di Monza",
         "Monza",
         "Italy",
         "Italian Grand Prix",
         14
        ],
        [
         "Marina Bay Street Circuit",
         "Marina Bay",
         "Singapore",
         "Singapore Grand Prix",
         15
        ],
        [
         "Suzuka Circuit",
         "Suzuka",
         "Japan",
         "Japanese Grand Prix",
         16
        ],
        [
         "Korean International Circuit",
         "Yeongam County",
         "Korea",
         "Korean Grand Prix",
         17
        ],
        [
         "Autódromo José Carlos Pace",
         "São Paulo",
         "Brazil",
         "Brazilian Grand Prix",
         18
        ],
        [
         "Yas Marina Circuit",
         "Abu Dhabi",
         "UAE",
         "Abu Dhabi Grand Prix",
         19
        ],
        [
         "Autódromo Internacional Nelson Piquet",
         "Rio de Janeiro",
         "Brazil",
         "Brazilian Grand Prix",
         1
        ],
        [
         "Autodromo Enzo e Dino Ferrari",
         "Imola",
         "Italy",
         "San Marino Grand Prix",
         2
        ],
        [
         "Circuit de Monaco",
         "Monte-Carlo",
         "Monaco",
         "Monaco Grand Prix",
         3
        ],
        [
         "Autódromo Hermanos Rodríguez",
         "Mexico City",
         "Mexico",
         "Mexican Grand Prix",
         4
        ],
        [
         "Phoenix street circuit",
         "Phoenix",
         "USA",
         "United States Grand Prix",
         5
        ],
        [
         "Circuit Gilles Villeneuve",
         "Montreal",
         "Canada",
         "Canadian Grand Prix",
         6
        ],
        [
         "Circuit Paul Ricard",
         "Le Castellet",
         "France",
         "French Grand Prix",
         7
        ],
        [
         "Silverstone Circuit",
         "Silverstone",
         "UK",
         "British Grand Prix",
         8
        ],
        [
         "Hockenheimring",
         "Hockenheim",
         "Germany",
         "German Grand Prix",
         9
        ],
        [
         "Hungaroring",
         "Budapest",
         "Hungary",
         "Hungarian Grand Prix",
         10
        ],
        [
         "Circuit de Spa-Francorchamps",
         "Spa",
         "Belgium",
         "Belgian Grand Prix",
         11
        ],
        [
         "Autodromo Nazionale di Monza",
         "Monza",
         "Italy",
         "Italian Grand Prix",
         12
        ],
        [
         "Autódromo do Estoril",
         "Estoril",
         "Portugal",
         "Portuguese Grand Prix",
         13
        ],
        [
         "Circuito de Jerez",
         "Jerez de la Frontera",
         "Spain",
         "Spanish Grand Prix",
         14
        ],
        [
         "Suzuka Circuit",
         "Suzuka",
         "Japan",
         "Japanese Grand Prix",
         15
        ],
        [
         "Adelaide Street Circuit",
         "Adelaide",
         "Australia",
         "Australian Grand Prix",
         16
        ],
        [
         "Autódromo Internacional Nelson Piquet",
         "Rio de Janeiro",
         "Brazil",
         "Brazilian Grand Prix",
         1
        ],
        [
         "Autodromo Enzo e Dino Ferrari",
         "Imola",
         "Italy",
         "San Marino Grand Prix",
         2
        ],
        [
         "Circuit de Monaco",
         "Monte-Carlo",
         "Monaco",
         "Monaco Grand Prix",
         3
        ],
        [
         "Autódromo Hermanos Rodríguez",
         "Mexico City",
         "Mexico",
         "Mexican Grand Prix",
         4
        ],
        [
         "Circuit Gilles Villeneuve",
         "Montreal",
         "Canada",
         "Canadian Grand Prix",
         5
        ],
        [
         "Detroit Street Circuit",
         "Detroit",
         "USA",
         "Detroit Grand Prix",
         6
        ],
        [
         "Circuit Paul Ricard",
         "Le Castellet",
         "France",
         "French Grand Prix",
         7
        ],
        [
         "Silverstone Circuit",
         "Silverstone",
         "UK",
         "British Grand Prix",
         8
        ],
        [
         "Hockenheimring",
         "Hockenheim",
         "Germany",
         "German Grand Prix",
         9
        ],
        [
         "Hungaroring",
         "Budapest",
         "Hungary",
         "Hungarian Grand Prix",
         10
        ],
        [
         "Circuit de Spa-Francorchamps",
         "Spa",
         "Belgium",
         "Belgian Grand Prix",
         11
        ],
        [
         "Autodromo Nazionale di Monza",
         "Monza",
         "Italy",
         "Italian Grand Prix",
         12
        ],
        [
         "Autódromo do Estoril",
         "Estoril",
         "Portugal",
         "Portuguese Grand Prix",
         13
        ],
        [
         "Circuito de Jerez",
         "Jerez de la Frontera",
         "Spain",
         "Spanish Grand Prix",
         14
        ],
        [
         "Suzuka Circuit",
         "Suzuka",
         "Japan",
         "Japanese Grand Prix",
         15
        ],
        [
         "Adelaide Street Circuit",
         "Adelaide",
         "Australia",
         "Australian Grand Prix",
         16
        ],
        [
         "Autódromo Internacional Nelson Piquet",
         "Rio de Janeiro",
         "Brazil",
         "Brazilian Grand Prix",
         1
        ],
        [
         "Autodromo Enzo e Dino Ferrari",
         "Imola",
         "Italy",
         "San Marino Grand Prix",
         2
        ],
        [
         "Circuit de Spa-Francorchamps",
         "Spa",
         "Belgium",
         "Belgian Grand Prix",
         3
        ],
        [
         "Circuit de Monaco",
         "Monte-Carlo",
         "Monaco",
         "Monaco Grand Prix",
         4
        ],
        [
         "Detroit Street Circuit",
         "Detroit",
         "USA",
         "Detroit Grand Prix",
         5
        ],
        [
         "Circuit Paul Ricard",
         "Le Castellet",
         "France",
         "French Grand Prix",
         6
        ],
        [
         "Silverstone Circuit",
         "Silverstone",
         "UK",
         "British Grand Prix",
         7
        ],
        [
         "Hockenheimring",
         "Hockenheim",
         "Germany",
         "German Grand Prix",
         8
        ],
        [
         "Hungaroring",
         "Budapest",
         "Hungary",
         "Hungarian Grand Prix",
         9
        ],
        [
         "A1-Ring",
         "Spielburg",
         "Austria",
         "Austrian Grand Prix",
         10
        ],
        [
         "Autodromo Nazionale di Monza",
         "Monza",
         "Italy",
         "Italian Grand Prix",
         11
        ],
        [
         "Autódromo do Estoril",
         "Estoril",
         "Portugal",
         "Portuguese Grand Prix",
         12
        ],
        [
         "Circuito de Jerez",
         "Jerez de la Frontera",
         "Spain",
         "Spanish Grand Prix",
         13
        ],
        [
         "Autódromo Hermanos Rodríguez",
         "Mexico City",
         "Mexico",
         "Mexican Grand Prix",
         14
        ],
        [
         "Suzuka Circuit",
         "Suzuka",
         "Japan",
         "Japanese Grand Prix",
         15
        ],
        [
         "Adelaide Street Circuit",
         "Adelaide",
         "Australia",
         "Australian Grand Prix",
         16
        ],
        [
         "Autódromo Internacional Nelson Piquet",
         "Rio de Janeiro",
         "Brazil",
         "Brazilian Grand Prix",
         1
        ],
        [
         "Circuito de Jerez",
         "Jerez de la Frontera",
         "Spain",
         "Spanish Grand Prix",
         2
        ],
        [
         "Autodromo Enzo e Dino Ferrari",
         "Imola",
         "Italy",
         "San Marino Grand Prix",
         3
        ],
        [
         "Circuit de Monaco",
         "Monte-Carlo",
         "Monaco",
         "Monaco Grand Prix",
         4
        ],
        [
         "Circuit de Spa-Francorchamps",
         "Spa",
         "Belgium",
         "Belgian Grand Prix",
         5
        ],
        [
         "Circuit Gilles Villeneuve",
         "Montreal",
         "Canada",
         "Canadian Grand Prix",
         6
        ],
        [
         "Detroit Street Circuit",
         "Detroit",
         "USA",
         "Detroit Grand Prix",
         7
        ],
        [
         "Circuit Paul Ricard",
         "Le Castellet",
         "France",
         "French Grand Prix",
         8
        ],
        [
         "Brands Hatch",
         "Kent",
         "UK",
         "British Grand Prix",
         9
        ],
        [
         "Hockenheimring",
         "Hockenheim",
         "Germany",
         "German Grand Prix",
         10
        ],
        [
         "Hungaroring",
         "Budapest",
         "Hungary",
         "Hungarian Grand Prix",
         11
        ],
        [
         "A1-Ring",
         "Spielburg",
         "Austria",
         "Austrian Grand Prix",
         12
        ],
        [
         "Autodromo Nazionale di Monza",
         "Monza",
         "Italy",
         "Italian Grand Prix",
         13
        ],
        [
         "Autódromo do Estoril",
         "Estoril",
         "Portugal",
         "Portuguese Grand Prix",
         14
        ],
        [
         "Autódromo Hermanos Rodríguez",
         "Mexico City",
         "Mexico",
         "Mexican Grand Prix",
         15
        ],
        [
         "Adelaide Street Circuit",
         "Adelaide",
         "Australia",
         "Australian Grand Prix",
         16
        ],
        [
         "Autódromo Internacional Nelson Piquet",
         "Rio de Janeiro",
         "Brazil",
         "Brazilian Grand Prix",
         1
        ],
        [
         "Autódromo do Estoril",
         "Estoril",
         "Portugal",
         "Portuguese Grand Prix",
         2
        ],
        [
         "Autodromo Enzo e Dino Ferrari",
         "Imola",
         "Italy",
         "San Marino Grand Prix",
         3
        ],
        [
         "Circuit de Monaco",
         "Monte-Carlo",
         "Monaco",
         "Monaco Grand Prix",
         4
        ],
        [
         "Circuit Gilles Villeneuve",
         "Montreal",
         "Canada",
         "Canadian Grand Prix",
         5
        ],
        [
         "Detroit Street Circuit",
         "Detroit",
         "USA",
         "Detroit Grand Prix",
         6
        ],
        [
         "Circuit Paul Ricard",
         "Le Castellet",
         "France",
         "French Grand Prix",
         7
        ],
        [
         "Silverstone Circuit",
         "Silverstone",
         "UK",
         "British Grand Prix",
         8
        ],
        [
         "Nürburgring",
         "Nürburg",
         "Germany",
         "German Grand Prix",
         9
        ],
        [
         "A1-Ring",
         "Spielburg",
         "Austria",
         "Austrian Grand Prix",
         10
        ],
        [
         "Circuit Park Zandvoort",
         "Zandvoort",
         "Netherlands",
         "Dutch Grand Prix",
         11
        ],
        [
         "Autodromo Nazionale di Monza",
         "Monza",
         "Italy",
         "Italian Grand Prix",
         12
        ],
        [
         "Circuit de Spa-Francorchamps",
         "Spa",
         "Belgium",
         "Belgian Grand Prix",
         13
        ],
        [
         "Brands Hatch",
         "Kent",
         "UK",
         "European Grand Prix",
         14
        ],
        [
         "Kyalami",
         "Midrand",
         "South Africa",
         "South African Grand Prix",
         15
        ],
        [
         "Adelaide Street Circuit",
         "Adelaide",
         "Australia",
         "Australian Grand Prix",
         16
        ],
        [
         "Autódromo Internacional Nelson Piquet",
         "Rio de Janeiro",
         "Brazil",
         "Brazilian Grand Prix",
         1
        ],
        [
         "Kyalami",
         "Midrand",
         "South Africa",
         "South African Grand Prix",
         2
        ],
        [
         "Zolder",
         "Heusden-Zolder",
         "Belgium",
         "Belgian Grand Prix",
         3
        ],
        [
         "Autodromo Enzo e Dino Ferrari",
         "Imola",
         "Italy",
         "San Marino Grand Prix",
         4
        ],
        [
         "Dijon-Prenois",
         "Dijon",
         "France",
         "French Grand Prix",
         5
        ],
        [
         "Circuit de Monaco",
         "Monte-Carlo",
         "Monaco",
         "Monaco Grand Prix",
         6
        ],
        [
         "Circuit Gilles Villeneuve",
         "Montreal",
         "Canada",
         "Canadian Grand Prix",
         7
        ],
        [
         "Detroit Street Circuit",
         "Detroit",
         "USA",
         "Detroit Grand Prix",
         8
        ],
        [
         "Fair Park",
         "Dallas",
         "USA",
         "Dallas Grand Prix",
         9
        ],
        [
         "Brands Hatch",
         "Kent",
         "UK",
         "British Grand Prix",
         10
        ],
        [
         "Hockenheimring",
         "Hockenheim",
         "Germany",
         "German Grand Prix",
         11
        ],
        [
         "A1-Ring",
         "Spielburg",
         "Austria",
         "Austrian Grand Prix",
         12
        ],
        [
         "Circuit Park Zandvoort",
         "Zandvoort",
         "Netherlands",
         "Dutch Grand Prix",
         13
        ],
        [
         "Autodromo Nazionale di Monza",
         "Monza",
         "Italy",
         "Italian Grand Prix",
         14
        ],
        [
         "Nürburgring",
         "Nürburg",
         "Germany",
         "European Grand Prix",
         15
        ],
        [
         "Autódromo do Estoril",
         "Estoril",
         "Portugal",
         "Portuguese Grand Prix",
         16
        ],
        [
         "Autódromo Internacional Nelson Piquet",
         "Rio de Janeiro",
         "Brazil",
         "Brazilian Grand Prix",
         1
        ],
        [
         "Long Beach",
         "California",
         "USA",
         "United States Grand Prix West",
         2
        ],
        [
         "Circuit Paul Ricard",
         "Le Castellet",
         "France",
         "French Grand Prix",
         3
        ],
        [
         "Autodromo Enzo e Dino Ferrari",
         "Imola",
         "Italy",
         "San Marino Grand Prix",
         4
        ],
        [
         "Circuit de Monaco",
         "Monte-Carlo",
         "Monaco",
         "Monaco Grand Prix",
         5
        ],
        [
         "Circuit de Spa-Francorchamps",
         "Spa",
         "Belgium",
         "Belgian Grand Prix",
         6
        ],
        [
         "Detroit Street Circuit",
         "Detroit",
         "USA",
         "Detroit Grand Prix",
         7
        ],
        [
         "Circuit Gilles Villeneuve",
         "Montreal",
         "Canada",
         "Canadian Grand Prix",
         8
        ],
        [
         "Silverstone Circuit",
         "Silverstone",
         "UK",
         "British Grand Prix",
         9
        ],
        [
         "Hockenheimring",
         "Hockenheim",
         "Germany",
         "German Grand Prix",
         10
        ],
        [
         "A1-Ring",
         "Spielburg",
         "Austria",
         "Austrian Grand Prix",
         11
        ],
        [
         "Circuit Park Zandvoort",
         "Zandvoort",
         "Netherlands",
         "Dutch Grand Prix",
         12
        ],
        [
         "Autodromo Nazionale di Monza",
         "Monza",
         "Italy",
         "Italian Grand Prix",
         13
        ],
        [
         "Brands Hatch",
         "Kent",
         "UK",
         "European Grand Prix",
         14
        ],
        [
         "Kyalami",
         "Midrand",
         "South Africa",
         "South African Grand Prix",
         15
        ],
        [
         "Kyalami",
         "Midrand",
         "South Africa",
         "South African Grand Prix",
         1
        ],
        [
         "Autódromo Internacional Nelson Piquet",
         "Rio de Janeiro",
         "Brazil",
         "Brazilian Grand Prix",
         2
        ],
        [
         "Long Beach",
         "California",
         "USA",
         "United States Grand Prix West",
         3
        ],
        [
         "Autodromo Enzo e Dino Ferrari",
         "Imola",
         "Italy",
         "San Marino Grand Prix",
         4
        ],
        [
         "Zolder",
         "Heusden-Zolder",
         "Belgium",
         "Belgian Grand Prix",
         5
        ],
        [
         "Circuit de Monaco",
         "Monte-Carlo",
         "Monaco",
         "Monaco Grand Prix",
         6
        ],
        [
         "Detroit Street Circuit",
         "Detroit",
         "USA",
         "Detroit Grand Prix",
         7
        ],
        [
         "Circuit Gilles Villeneuve",
         "Montreal",
         "Canada",
         "Canadian Grand Prix",
         8
        ],
        [
         "Circuit Park Zandvoort",
         "Zandvoort",
         "Netherlands",
         "Dutch Grand Prix",
         9
        ],
        [
         "Brands Hatch",
         "Kent",
         "UK",
         "British Grand Prix",
         10
        ],
        [
         "Circuit Paul Ricard",
         "Le Castellet",
         "France",
         "French Grand Prix",
         11
        ],
        [
         "Hockenheimring",
         "Hockenheim",
         "Germany",
         "German Grand Prix",
         12
        ],
        [
         "A1-Ring",
         "Spielburg",
         "Austria",
         "Austrian Grand Prix",
         13
        ],
        [
         "Dijon-Prenois",
         "Dijon",
         "France",
         "Swiss Grand Prix",
         14
        ],
        [
         "Autodromo Nazionale di Monza",
         "Monza",
         "Italy",
         "Italian Grand Prix",
         15
        ],
        [
         "Las Vegas Street Circuit",
         "Nevada",
         "USA",
         "Caesars Palace Grand Prix",
         16
        ],
        [
         "Long Beach",
         "California",
         "USA",
         "United States Grand Prix West",
         1
        ],
        [
         "Autódromo Internacional Nelson Piquet",
         "Rio de Janeiro",
         "Brazil",
         "Brazilian Grand Prix",
         2
        ],
        [
         "Autódromo Juan y Oscar Gálvez",
         "Buenos Aires",
         "Argentina",
         "Argentine Grand Prix",
         3
        ],
        [
         "Autodromo Enzo e Dino Ferrari",
         "Imola",
         "Italy",
         "San Marino Grand Prix",
         4
        ],
        [
         "Zolder",
         "Heusden-Zolder",
         "Belgium",
         "Belgian Grand Prix",
         5
        ],
        [
         "Circuit de Monaco",
         "Monte-Carlo",
         "Monaco",
         "Monaco Grand Prix",
         6
        ],
        [
         "Jarama",
         "Madrid",
         "Spain",
         "Spanish Grand Prix",
         7
        ],
        [
         "Dijon-Prenois",
         "Dijon",
         "France",
         "French Grand Prix",
         8
        ],
        [
         "Silverstone Circuit",
         "Silverstone",
         "UK",
         "British Grand Prix",
         9
        ],
        [
         "Hockenheimring",
         "Hockenheim",
         "Germany",
         "German Grand Prix",
         10
        ],
        [
         "A1-Ring",
         "Spielburg",
         "Austria",
         "Austrian Grand Prix",
         11
        ],
        [
         "Circuit Park Zandvoort",
         "Zandvoort",
         "Netherlands",
         "Dutch Grand Prix",
         12
        ],
        [
         "Autodromo Nazionale di Monza",
         "Monza",
         "Italy",
         "Italian Grand Prix",
         13
        ],
        [
         "Circuit Gilles Villeneuve",
         "Montreal",
         "Canada",
         "Canadian Grand Prix",
         14
        ],
        [
         "Las Vegas Street Circuit",
         "Nevada",
         "USA",
         "Caesars Palace Grand Prix",
         15
        ],
        [
         "Autódromo Juan y Oscar Gálvez",
         "Buenos Aires",
         "Argentina",
         "Argentine Grand Prix",
         1
        ],
        [
         "Autódromo José Carlos Pace",
         "São Paulo",
         "Brazil",
         "Brazilian Grand Prix",
         2
        ],
        [
         "Kyalami",
         "Midrand",
         "South Africa",
         "South African Grand Prix",
         3
        ],
        [
         "Long Beach",
         "California",
         "USA",
         "United States Grand Prix West",
         4
        ],
        [
         "Zolder",
         "Heusden-Zolder",
         "Belgium",
         "Belgian Grand Prix",
         5
        ],
        [
         "Circuit de Monaco",
         "Monte-Carlo",
         "Monaco",
         "Monaco Grand Prix",
         6
        ],
        [
         "Circuit Paul Ricard",
         "Le Castellet",
         "France",
         "French Grand Prix",
         7
        ],
        [
         "Brands Hatch",
         "Kent",
         "UK",
         "British Grand Prix",
         8
        ],
        [
         "Hockenheimring",
         "Hockenheim",
         "Germany",
         "German Grand Prix",
         9
        ],
        [
         "A1-Ring",
         "Spielburg",
         "Austria",
         "Austrian Grand Prix",
         10
        ],
        [
         "Circuit Park Zandvoort",
         "Zandvoort",
         "Netherlands",
         "Dutch Grand Prix",
         11
        ],
        [
         "Autodromo Enzo e Dino Ferrari",
         "Imola",
         "Italy",
         "Italian Grand Prix",
         12
        ],
        [
         "Circuit Gilles Villeneuve",
         "Montreal",
         "Canada",
         "Canadian Grand Prix",
         13
        ],
        [
         "Watkins Glen",
         "New York State",
         "USA",
         "United States Grand Prix",
         14
        ],
        [
         "Autódromo Juan y Oscar Gálvez",
         "Buenos Aires",
         "Argentina",
         "Argentine Grand Prix",
         1
        ],
        [
         "Autódromo José Carlos Pace",
         "São Paulo",
         "Brazil",
         "Brazilian Grand Prix",
         2
        ],
        [
         "Kyalami",
         "Midrand",
         "South Africa",
         "South African Grand Prix",
         3
        ],
        [
         "Long Beach",
         "California",
         "USA",
         "United States Grand Prix West",
         4
        ],
        [
         "Jarama",
         "Madrid",
         "Spain",
         "Spanish Grand Prix",
         5
        ],
        [
         "Zolder",
         "Heusden-Zolder",
         "Belgium",
         "Belgian Grand Prix",
         6
        ],
        [
         "Circuit de Monaco",
         "Monte-Carlo",
         "Monaco",
         "Monaco Grand Prix",
         7
        ],
        [
         "Dijon-Prenois",
         "Dijon",
         "France",
         "French Grand Prix",
         8
        ],
        [
         "Silverstone Circuit",
         "Silverstone",
         "UK",
         "British Grand Prix",
         9
        ],
        [
         "Hockenheimring",
         "Hockenheim",
         "Germany",
         "German Grand Prix",
         10
        ],
        [
         "A1-Ring",
         "Spielburg",
         "Austria",
         "Austrian Grand Prix",
         11
        ],
        [
         "Circuit Park Zandvoort",
         "Zandvoort",
         "Netherlands",
         "Dutch Grand Prix",
         12
        ],
        [
         "Autodromo Nazionale di Monza",
         "Monza",
         "Italy",
         "Italian Grand Prix",
         13
        ],
        [
         "Circuit Gilles Villeneuve",
         "Montreal",
         "Canada",
         "Canadian Grand Prix",
         14
        ],
        [
         "Watkins Glen",
         "New York State",
         "USA",
         "United States Grand Prix",
         15
        ],
        [
         "Autódromo Juan y Oscar Gálvez",
         "Buenos Aires",
         "Argentina",
         "Argentine Grand Prix",
         1
        ],
        [
         "Autódromo Internacional Nelson Piquet",
         "Rio de Janeiro",
         "Brazil",
         "Brazilian Grand Prix",
         2
        ],
        [
         "Kyalami",
         "Midrand",
         "South Africa",
         "South African Grand Prix",
         3
        ],
        [
         "Long Beach",
         "California",
         "USA",
         "United States Grand Prix West",
         4
        ],
        [
         "Circuit de Monaco",
         "Monte-Carlo",
         "Monaco",
         "Monaco Grand Prix",
         5
        ],
        [
         "Zolder",
         "Heusden-Zolder",
         "Belgium",
         "Belgian Grand Prix",
         6
        ],
        [
         "Jarama",
         "Madrid",
         "Spain",
         "Spanish Grand Prix",
         7
        ],
        [
         "Scandinavian Raceway",
         "Anderstorp",
         "Sweden",
         "Swedish Grand Prix",
         8
        ],
        [
         "Circuit Paul Ricard",
         "Le Castellet",
         "France",
         "French Grand Prix",
         9
        ],
        [
         "Brands Hatch",
         "Kent",
         "UK",
         "British Grand Prix",
         10
        ],
        [
         "Hockenheimring",
         "Hockenheim",
         "Germany",
         "German Grand Prix",
         11
        ],
        [
         "A1-Ring",
         "Spielburg",
         "Austria",
         "Austrian Grand Prix",
         12
        ],
        [
         "Circuit Park Zandvoort",
         "Zandvoort",
         "Netherlands",
         "Dutch Grand Prix",
         13
        ],
        [
         "Autodromo Nazionale di Monza",
         "Monza",
         "Italy",
         "Italian Grand Prix",
         14
        ],
        [
         "Watkins Glen",
         "New York State",
         "USA",
         "United States Grand Prix",
         15
        ],
        [
         "Circuit Gilles Villeneuve",
         "Montreal",
         "Canada",
         "Canadian Grand Prix",
         16
        ],
        [
         "Autódromo Juan y Oscar Gálvez",
         "Buenos Aires",
         "Argentina",
         "Argentine Grand Prix",
         1
        ],
        [
         "Autódromo José Carlos Pace",
         "São Paulo",
         "Brazil",
         "Brazilian Grand Prix",
         2
        ],
        [
         "Kyalami",
         "Midrand",
         "South Africa",
         "South African Grand Prix",
         3
        ],
        [
         "Long Beach",
         "California",
         "USA",
         "United States Grand Prix West",
         4
        ],
        [
         "Jarama",
         "Madrid",
         "Spain",
         "Spanish Grand Prix",
         5
        ],
        [
         "Circuit de Monaco",
         "Monte-Carlo",
         "Monaco",
         "Monaco Grand Prix",
         6
        ],
        [
         "Zolder",
         "Heusden-Zolder",
         "Belgium",
         "Belgian Grand Prix",
         7
        ],
        [
         "Scandinavian Raceway",
         "Anderstorp",
         "Sweden",
         "Swedish Grand Prix",
         8
        ],
        [
         "Dijon-Prenois",
         "Dijon",
         "France",
         "French Grand Prix",
         9
        ],
        [
         "Silverstone Circuit",
         "Silverstone",
         "UK",
         "British Grand Prix",
         10
        ],
        [
         "Hockenheimring",
         "Hockenheim",
         "Germany",
         "German Grand Prix",
         11
        ],
        [
         "A1-Ring",
         "Spielburg",
         "Austria",
         "Austrian Grand Prix",
         12
        ],
        [
         "Circuit Park Zandvoort",
         "Zandvoort",
         "Netherlands",
         "Dutch Grand Prix",
         13
        ],
        [
         "Autodromo Nazionale di Monza",
         "Monza",
         "Italy",
         "Italian Grand Prix",
         14
        ],
        [
         "Watkins Glen",
         "New York State",
         "USA",
         "United States Grand Prix",
         15
        ],
        [
         "Mosport International Raceway",
         "Ontario",
         "Canada",
         "Canadian Grand Prix",
         16
        ],
        [
         "Fuji Speedway",
         "Oyama",
         "Japan",
         "Japanese Grand Prix",
         17
        ],
        [
         "Autódromo José Carlos Pace",
         "São Paulo",
         "Brazil",
         "Brazilian Grand Prix",
         1
        ],
        [
         "Kyalami",
         "Midrand",
         "South Africa",
         "South African Grand Prix",
         2
        ],
        [
         "Long Beach",
         "California",
         "USA",
         "United States Grand Prix West",
         3
        ],
        [
         "Jarama",
         "Madrid",
         "Spain",
         "Spanish Grand Prix",
         4
        ],
        [
         "Zolder",
         "Heusden-Zolder",
         "Belgium",
         "Belgian Grand Prix",
         5
        ],
        [
         "Circuit de Monaco",
         "Monte-Carlo",
         "Monaco",
         "Monaco Grand Prix",
         6
        ],
        [
         "Scandinavian Raceway",
         "Anderstorp",
         "Sweden",
         "Swedish Grand Prix",
         7
        ],
        [
         "Circuit Paul Ricard",
         "Le Castellet",
         "France",
         "French Grand Prix",
         8
        ],
        [
         "Brands Hatch",
         "Kent",
         "UK",
         "British Grand Prix",
         9
        ],
        [
         "Nürburgring",
         "Nürburg",
         "Germany",
         "German Grand Prix",
         10
        ],
        [
         "A1-Ring",
         "Spielburg",
         "Austria",
         "Austrian Grand Prix",
         11
        ],
        [
         "Circuit Park Zandvoort",
         "Zandvoort",
         "Netherlands",
         "Dutch Grand Prix",
         12
        ],
        [
         "Autodromo Nazionale di Monza",
         "Monza",
         "Italy",
         "Italian Grand Prix",
         13
        ],
        [
         "Mosport International Raceway",
         "Ontario",
         "Canada",
         "Canadian Grand Prix",
         14
        ],
        [
         "Watkins Glen",
         "New York State",
         "USA",
         "United States Grand Prix",
         15
        ],
        [
         "Fuji Speedway",
         "Oyama",
         "Japan",
         "Japanese Grand Prix",
         16
        ],
        [
         "Autódromo Juan y Oscar Gálvez",
         "Buenos Aires",
         "Argentina",
         "Argentine Grand Prix",
         1
        ],
        [
         "Autódromo José Carlos Pace",
         "São Paulo",
         "Brazil",
         "Brazilian Grand Prix",
         2
        ],
        [
         "Kyalami",
         "Midrand",
         "South Africa",
         "South African Grand Prix",
         3
        ],
        [
         "Montjuïc",
         "Barcelona",
         "Spain",
         "Spanish Grand Prix",
         4
        ],
        [
         "Circuit de Monaco",
         "Monte-Carlo",
         "Monaco",
         "Monaco Grand Prix",
         5
        ],
        [
         "Zolder",
         "Heusden-Zolder",
         "Belgium",
         "Belgian Grand Prix",
         6
        ],
        [
         "Scandinavian Raceway",
         "Anderstorp",
         "Sweden",
         "Swedish Grand Prix",
         7
        ],
        [
         "Circuit Park Zandvoort",
         "Zandvoort",
         "Netherlands",
         "Dutch Grand Prix",
         8
        ],
        [
         "Circuit Paul Ricard",
         "Le Castellet",
         "France",
         "French Grand Prix",
         9
        ],
        [
         "Silverstone Circuit",
         "Silverstone",
         "UK",
         "British Grand Prix",
         10
        ],
        [
         "Nürburgring",
         "Nürburg",
         "Germany",
         "German Grand Prix",
         11
        ],
        [
         "A1-Ring",
         "Spielburg",
         "Austria",
         "Austrian Grand Prix",
         12
        ],
        [
         "Autodromo Nazionale di Monza",
         "Monza",
         "Italy",
         "Italian Grand Prix",
         13
        ],
        [
         "Watkins Glen",
         "New York State",
         "USA",
         "United States Grand Prix",
         14
        ],
        [
         "Autódromo Juan y Oscar Gálvez",
         "Buenos Aires",
         "Argentina",
         "Argentine Grand Prix",
         1
        ],
        [
         "Autódromo José Carlos Pace",
         "São Paulo",
         "Brazil",
         "Brazilian Grand Prix",
         2
        ],
        [
         "Kyalami",
         "Midrand",
         "South Africa",
         "South African Grand Prix",
         3
        ],
        [
         "Jarama",
         "Madrid",
         "Spain",
         "Spanish Grand Prix",
         4
        ],
        [
         "Nivelles-Baulers",
         "Brussels",
         "Belgium",
         "Belgian Grand Prix",
         5
        ],
        [
         "Circuit de Monaco",
         "Monte-Carlo",
         "Monaco",
         "Monaco Grand Prix",
         6
        ],
        [
         "Scandinavian Raceway",
         "Anderstorp",
         "Sweden",
         "Swedish Grand Prix",
         7
        ],
        [
         "Circuit Park Zandvoort",
         "Zandvoort",
         "Netherlands",
         "Dutch Grand Prix",
         8
        ],
        [
         "Dijon-Prenois",
         "Dijon",
         "France",
         "French Grand Prix",
         9
        ],
        [
         "Brands Hatch",
         "Kent",
         "UK",
         "British Grand Prix",
         10
        ],
        [
         "Nürburgring",
         "Nürburg",
         "Germany",
         "German Grand Prix",
         11
        ],
        [
         "A1-Ring",
         "Spielburg",
         "Austria",
         "Austrian Grand Prix",
         12
        ],
        [
         "Autodromo Nazionale di Monza",
         "Monza",
         "Italy",
         "Italian Grand Prix",
         13
        ],
        [
         "Mosport International Raceway",
         "Ontario",
         "Canada",
         "Canadian Grand Prix",
         14
        ],
        [
         "Watkins Glen",
         "New York State",
         "USA",
         "United States Grand Prix",
         15
        ],
        [
         "Autódromo Juan y Oscar Gálvez",
         "Buenos Aires",
         "Argentina",
         "Argentine Grand Prix",
         1
        ],
        [
         "Autódromo José Carlos Pace",
         "São Paulo",
         "Brazil",
         "Brazilian Grand Prix",
         2
        ],
        [
         "Kyalami",
         "Midrand",
         "South Africa",
         "South African Grand Prix",
         3
        ],
        [
         "Montjuïc",
         "Barcelona",
         "Spain",
         "Spanish Grand Prix",
         4
        ],
        [
         "Zolder",
         "Heusden-Zolder",
         "Belgium",
         "Belgian Grand Prix",
         5
        ],
        [
         "Circuit de Monaco",
         "Monte-Carlo",
         "Monaco",
         "Monaco Grand Prix",
         6
        ],
        [
         "Scandinavian Raceway",
         "Anderstorp",
         "Sweden",
         "Swedish Grand Prix",
         7
        ],
        [
         "Circuit Paul Ricard",
         "Le Castellet",
         "France",
         "French Grand Prix",
         8
        ],
        [
         "Silverstone Circuit",
         "Silverstone",
         "UK",
         "British Grand Prix",
         9
        ],
        [
         "Circuit Park Zandvoort",
         "Zandvoort",
         "Netherlands",
         "Dutch Grand Prix",
         10
        ],
        [
         "Nürburgring",
         "Nürburg",
         "Germany",
         "German Grand Prix",
         11
        ],
        [
         "A1-Ring",
         "Spielburg",
         "Austria",
         "Austrian Grand Prix",
         12
        ],
        [
         "Autodromo Nazionale di Monza",
         "Monza",
         "Italy",
         "Italian Grand Prix",
         13
        ],
        [
         "Mosport International Raceway",
         "Ontario",
         "Canada",
         "Canadian Grand Prix",
         14
        ],
        [
         "Watkins Glen",
         "New York State",
         "USA",
         "United States Grand Prix",
         15
        ],
        [
         "Autódromo Juan y Oscar Gálvez",
         "Buenos Aires",
         "Argentina",
         "Argentine Grand Prix",
         1
        ],
        [
         "Kyalami",
         "Midrand",
         "South Africa",
         "South African Grand Prix",
         2
        ],
        [
         "Jarama",
         "Madrid",
         "Spain",
         "Spanish Grand Prix",
         3
        ],
        [
         "Circuit de Monaco",
         "Monte-Carlo",
         "Monaco",
         "Monaco Grand Prix",
         4
        ],
        [
         "Nivelles-Baulers",
         "Brussels",
         "Belgium",
         "Belgian Grand Prix",
         5
        ],
        [
         "Charade Circuit",
         "Clermont-Ferrand",
         "France",
         "French Grand Prix",
         6
        ],
        [
         "Brands Hatch",
         "Kent",
         "UK",
         "British Grand Prix",
         7
        ],
        [
         "Nürburgring",
         "Nürburg",
         "Germany",
         "German Grand Prix",
         8
        ],
        [
         "A1-Ring",
         "Spielburg",
         "Austria",
         "Austrian Grand Prix",
         9
        ],
        [
         "Autodromo Nazionale di Monza",
         "Monza",
         "Italy",
         "Italian Grand Prix",
         10
        ],
        [
         "Mosport International Raceway",
         "Ontario",
         "Canada",
         "Canadian Grand Prix",
         11
        ],
        [
         "Watkins Glen",
         "New York State",
         "USA",
         "United States Grand Prix",
         12
        ],
        [
         "Kyalami",
         "Midrand",
         "South Africa",
         "South African Grand Prix",
         1
        ],
        [
         "Montjuïc",
         "Barcelona",
         "Spain",
         "Spanish Grand Prix",
         2
        ],
        [
         "Circuit de Monaco",
         "Monte-Carlo",
         "Monaco",
         "Monaco Grand Prix",
         3
        ],
        [
         "Circuit Park Zandvoort",
         "Zandvoort",
         "Netherlands",
         "Dutch Grand Prix",
         4
        ],
        [
         "Circuit Paul Ricard",
         "Le Castellet",
         "France",
         "French Grand Prix",
         5
        ],
        [
         "Silverstone Circuit",
         "Silverstone",
         "UK",
         "British Grand Prix",
         6
        ],
        [
         "Nürburgring",
         "Nürburg",
         "Germany",
         "German Grand Prix",
         7
        ],
        [
         "A1-Ring",
         "Spielburg",
         "Austria",
         "Austrian Grand Prix",
         8
        ],
        [
         "Autodromo Nazionale di Monza",
         "Monza",
         "Italy",
         "Italian Grand Prix",
         9
        ],
        [
         "Mosport International Raceway",
         "Ontario",
         "Canada",
         "Canadian Grand Prix",
         10
        ],
        [
         "Watkins Glen",
         "New York State",
         "USA",
         "United States Grand Prix",
         11
        ],
        [
         "Kyalami",
         "Midrand",
         "South Africa",
         "South African Grand Prix",
         1
        ],
        [
         "Jarama",
         "Madrid",
         "Spain",
         "Spanish Grand Prix",
         2
        ],
        [
         "Circuit de Monaco",
         "Monte-Carlo",
         "Monaco",
         "Monaco Grand Prix",
         3
        ],
        [
         "Circuit de Spa-Francorchamps",
         "Spa",
         "Belgium",
         "Belgian Grand Prix",
         4
        ],
        [
         "Circuit Park Zandvoort",
         "Zandvoort",
         "Netherlands",
         "Dutch Grand Prix",
         5
        ],
        [
         "Charade Circuit",
         "Clermont-Ferrand",
         "France",
         "French Grand Prix",
         6
        ],
        [
         "Brands Hatch",
         "Kent",
         "UK",
         "British Grand Prix",
         7
        ],
        [
         "Hockenheimring",
         "Hockenheim",
         "Germany",
         "German Grand Prix",
         8
        ],
        [
         "A1-Ring",
         "Spielburg",
         "Austria",
         "Austrian Grand Prix",
         9
        ],
        [
         "Autodromo Nazionale di Monza",
         "Monza",
         "Italy",
         "Italian Grand Prix",
         10
        ],
        [
         "Circuit Mont-Tremblant",
         "Quebec",
         "Canada",
         "Canadian Grand Prix",
         11
        ],
        [
         "Watkins Glen",
         "New York State",
         "USA",
         "United States Grand Prix",
         12
        ],
        [
         "Autódromo Hermanos Rodríguez",
         "Mexico City",
         "Mexico",
         "Mexican Grand Prix",
         13
        ],
        [
         "Kyalami",
         "Midrand",
         "South Africa",
         "South African Grand Prix",
         1
        ],
        [
         "Montjuïc",
         "Barcelona",
         "Spain",
         "Spanish Grand Prix",
         2
        ],
        [
         "Circuit de Monaco",
         "Monte-Carlo",
         "Monaco",
         "Monaco Grand Prix",
         3
        ],
        [
         "Circuit Park Zandvoort",
         "Zandvoort",
         "Netherlands",
         "Dutch Grand Prix",
         4
        ],
        [
         "Charade Circuit",
         "Clermont-Ferrand",
         "France",
         "French Grand Prix",
         5
        ],
        [
         "Silverstone Circuit",
         "Silverstone",
         "UK",
         "British Grand Prix",
         6
        ],
        [
         "Nürburgring",
         "Nürburg",
         "Germany",
         "German Grand Prix",
         7
        ],
        [
         "Autodromo Nazionale di Monza",
         "Monza",
         "Italy",
         "Italian Grand Prix",
         8
        ],
        [
         "Mosport International Raceway",
         "Ontario",
         "Canada",
         "Canadian Grand Prix",
         9
        ],
        [
         "Watkins Glen",
         "New York State",
         "USA",
         "United States Grand Prix",
         10
        ],
        [
         "Autódromo Hermanos Rodríguez",
         "Mexico City",
         "Mexico",
         "Mexican Grand Prix",
         11
        ],
        [
         "Kyalami",
         "Midrand",
         "South Africa",
         "South African Grand Prix",
         1
        ],
        [
         "Jarama",
         "Madrid",
         "Spain",
         "Spanish Grand Prix",
         2
        ],
        [
         "Circuit de Monaco",
         "Monte-Carlo",
         "Monaco",
         "Monaco Grand Prix",
         3
        ],
        [
         "Circuit de Spa-Francorchamps",
         "Spa",
         "Belgium",
         "Belgian Grand Prix",
         4
        ],
        [
         "Circuit Park Zandvoort",
         "Zandvoort",
         "Netherlands",
         "Dutch Grand Prix",
         5
        ],
        [
         "Rouen-Les-Essarts",
         "Rouen",
         "France",
         "French Grand Prix",
         6
        ],
        [
         "Brands Hatch",
         "Kent",
         "UK",
         "British Grand Prix",
         7
        ],
        [
         "Nürburgring",
         "Nürburg",
         "Germany",
         "German Grand Prix",
         8
        ],
        [
         "Autodromo Nazionale di Monza",
         "Monza",
         "Italy",
         "Italian Grand Prix",
         9
        ],
        [
         "Circuit Mont-Tremblant",
         "Quebec",
         "Canada",
         "Canadian Grand Prix",
         10
        ],
        [
         "Watkins Glen",
         "New York State",
         "USA",
         "United States Grand Prix",
         11
        ],
        [
         "Autódromo Hermanos Rodríguez",
         "Mexico City",
         "Mexico",
         "Mexican Grand Prix",
         12
        ],
        [
         "Kyalami",
         "Midrand",
         "South Africa",
         "South African Grand Prix",
         1
        ],
        [
         "Circuit de Monaco",
         "Monte-Carlo",
         "Monaco",
         "Monaco Grand Prix",
         2
        ],
        [
         "Circuit Park Zandvoort",
         "Zandvoort",
         "Netherlands",
         "Dutch Grand Prix",
         3
        ],
        [
         "Circuit de Spa-Francorchamps",
         "Spa",
         "Belgium",
         "Belgian Grand Prix",
         4
        ],
        [
         "Le Mans",
         "Le Mans",
         "France",
         "French Grand Prix",
         5
        ],
        [
         "Silverstone Circuit",
         "Silverstone",
         "UK",
         "British Grand Prix",
         6
        ],
        [
         "Nürburgring",
         "Nürburg",
         "Germany",
         "German Grand Prix",
         7
        ],
        [
         "Mosport International Raceway",
         "Ontario",
         "Canada",
         "Canadian Grand Prix",
         8
        ],
        [
         "Autodromo Nazionale di Monza",
         "Monza",
         "Italy",
         "Italian Grand Prix",
         9
        ],
        [
         "Watkins Glen",
         "New York State",
         "USA",
         "United States Grand Prix",
         10
        ],
        [
         "Autódromo Hermanos Rodríguez",
         "Mexico City",
         "Mexico",
         "Mexican Grand Prix",
         11
        ],
        [
         "Circuit de Monaco",
         "Monte-Carlo",
         "Monaco",
         "Monaco Grand Prix",
         1
        ],
        [
         "Circuit de Spa-Francorchamps",
         "Spa",
         "Belgium",
         "Belgian Grand Prix",
         2
        ],
        [
         "Reims-Gueux",
         "Reims",
         "France",
         "French Grand Prix",
         3
        ],
        [
         "Brands Hatch",
         "Kent",
         "UK",
         "British Grand Prix",
         4
        ],
        [
         "Circuit Park Zandvoort",
         "Zandvoort",
         "Netherlands",
         "Dutch Grand Prix",
         5
        ],
        [
         "Nürburgring",
         "Nürburg",
         "Germany",
         "German Grand Prix",
         6
        ],
        [
         "Autodromo Nazionale di Monza",
         "Monza",
         "Italy",
         "Italian Grand Prix",
         7
        ],
        [
         "Watkins Glen",
         "New York State",
         "USA",
         "United States Grand Prix",
         8
        ],
        [
         "Autódromo Hermanos Rodríguez",
         "Mexico City",
         "Mexico",
         "Mexican Grand Prix",
         9
        ],
        [
         "Prince George Circuit",
         "Eastern Cape Province",
         "South Africa",
         "South African Grand Prix",
         1
        ],
        [
         "Circuit de Monaco",
         "Monte-Carlo",
         "Monaco",
         "Monaco Grand Prix",
         2
        ],
        [
         "Circuit de Spa-Francorchamps",
         "Spa",
         "Belgium",
         "Belgian Grand Prix",
         3
        ],
        [
         "Charade Circuit",
         "Clermont-Ferrand",
         "France",
         "French Grand Prix",
         4
        ],
        [
         "Silverstone Circuit",
         "Silverstone",
         "UK",
         "British Grand Prix",
         5
        ],
        [
         "Circuit Park Zandvoort",
         "Zandvoort",
         "Netherlands",
         "Dutch Grand Prix",
         6
        ],
        [
         "Nürburgring",
         "Nürburg",
         "Germany",
         "German Grand Prix",
         7
        ],
        [
         "Autodromo Nazionale di Monza",
         "Monza",
         "Italy",
         "Italian Grand Prix",
         8
        ],
        [
         "Watkins Glen",
         "New York State",
         "USA",
         "United States Grand Prix",
         9
        ],
        [
         "Autódromo Hermanos Rodríguez",
         "Mexico City",
         "Mexico",
         "Mexican Grand Prix",
         10
        ],
        [
         "Circuit de Monaco",
         "Monte-Carlo",
         "Monaco",
         "Monaco Grand Prix",
         1
        ],
        [
         "Circuit Park Zandvoort",
         "Zandvoort",
         "Netherlands",
         "Dutch Grand Prix",
         2
        ],
        [
         "Circuit de Spa-Francorchamps",
         "Spa",
         "Belgium",
         "Belgian Grand Prix",
         3
        ],
        [
         "Rouen-Les-Essarts",
         "Rouen",
         "France",
         "French Grand Prix",
         4
        ],
        [
         "Brands Hatch",
         "Kent",
         "UK",
         "British Grand Prix",
         5
        ],
        [
         "Nürburgring",
         "Nürburg",
         "Germany",
         "German Grand Prix",
         6
        ],
        [
         "Zeltweg",
         "Styria",
         "Austria",
         "Austrian Grand Prix",
         7
        ],
        [
         "Autodromo Nazionale di Monza",
         "Monza",
         "Italy",
         "Italian Grand Prix",
         8
        ],
        [
         "Watkins Glen",
         "New York State",
         "USA",
         "United States Grand Prix",
         9
        ],
        [
         "Autódromo Hermanos Rodríguez",
         "Mexico City",
         "Mexico",
         "Mexican Grand Prix",
         10
        ],
        [
         "Circuit de Monaco",
         "Monte-Carlo",
         "Monaco",
         "Monaco Grand Prix",
         1
        ],
        [
         "Circuit de Spa-Francorchamps",
         "Spa",
         "Belgium",
         "Belgian Grand Prix",
         2
        ],
        [
         "Circuit Park Zandvoort",
         "Zandvoort",
         "Netherlands",
         "Dutch Grand Prix",
         3
        ],
        [
         "Reims-Gueux",
         "Reims",
         "France",
         "French Grand Prix",
         4
        ],
        [
         "Silverstone Circuit",
         "Silverstone",
         "UK",
         "British Grand Prix",
         5
        ],
        [
         "Nürburgring",
         "Nürburg",
         "Germany",
         "German Grand Prix",
         6
        ],
        [
         "Autodromo Nazionale di Monza",
         "Monza",
         "Italy",
         "Italian Grand Prix",
         7
        ],
        [
         "Watkins Glen",
         "New York State",
         "USA",
         "United States Grand Prix",
         8
        ],
        [
         "Autódromo Hermanos Rodríguez",
         "Mexico City",
         "Mexico",
         "Mexican Grand Prix",
         9
        ],
        [
         "Prince George Circuit",
         "Eastern Cape Province",
         "South Africa",
         "South African Grand Prix",
         10
        ],
        [
         "Circuit Park Zandvoort",
         "Zandvoort",
         "Netherlands",
         "Dutch Grand Prix",
         1
        ],
        [
         "Circuit de Monaco",
         "Monte-Carlo",
         "Monaco",
         "Monaco Grand Prix",
         2
        ],
        [
         "Circuit de Spa-Francorchamps",
         "Spa",
         "Belgium",
         "Belgian Grand Prix",
         3
        ],
        [
         "Rouen-Les-Essarts",
         "Rouen",
         "France",
         "French Grand Prix",
         4
        ],
        [
         "Aintree",
         "Liverpool",
         "UK",
         "British Grand Prix",
         5
        ],
        [
         "Nürburgring",
         "Nürburg",
         "Germany",
         "German Grand Prix",
         6
        ],
        [
         "Autodromo Nazionale di Monza",
         "Monza",
         "Italy",
         "Italian Grand Prix",
         7
        ],
        [
         "Watkins Glen",
         "New York State",
         "USA",
         "United States Grand Prix",
         8
        ],
        [
         "Prince George Circuit",
         "Eastern Cape Province",
         "South Africa",
         "South African Grand Prix",
         9
        ],
        [
         "Circuit de Monaco",
         "Monte-Carlo",
         "Monaco",
         "Monaco Grand Prix",
         1
        ],
        [
         "Circuit Park Zandvoort",
         "Zandvoort",
         "Netherlands",
         "Dutch Grand Prix",
         2
        ],
        [
         "Circuit de Spa-Francorchamps",
         "Spa",
         "Belgium",
         "Belgian Grand Prix",
         3
        ],
        [
         "Reims-Gueux",
         "Reims",
         "France",
         "French Grand Prix",
         4
        ],
        [
         "Aintree",
         "Liverpool",
         "UK",
         "British Grand Prix",
         5
        ],
        [
         "Nürburgring",
         "Nürburg",
         "Germany",
         "German Grand Prix",
         6
        ],
        [
         "Autodromo Nazionale di Monza",
         "Monza",
         "Italy",
         "Italian Grand Prix",
         7
        ],
        [
         "Watkins Glen",
         "New York State",
         "USA",
         "United States Grand Prix",
         8
        ],
        [
         "Autódromo Juan y Oscar Gálvez",
         "Buenos Aires",
         "Argentina",
         "Argentine Grand Prix",
         1
        ],
        [
         "Circuit de Monaco",
         "Monte-Carlo",
         "Monaco",
         "Monaco Grand Prix",
         2
        ],
        [
         "Indianapolis Motor Speedway",
         "Indianapolis",
         "USA",
         "Indianapolis 500",
         3
        ],
        [
         "Circuit Park Zandvoort",
         "Zandvoort",
         "Netherlands",
         "Dutch Grand Prix",
         4
        ],
        [
         "Circuit de Spa-Francorchamps",
         "Spa",
         "Belgium",
         "Belgian Grand Prix",
         5
        ],
        [
         "Reims-Gueux",
         "Reims",
         "France",
         "French Grand Prix",
         6
        ],
        [
         "Silverstone Circuit",
         "Silverstone",
         "UK",
         "British Grand Prix",
         7
        ],
        [
         "Circuito da Boavista",
         "Oporto",
         "Portugal",
         "Portuguese Grand Prix",
         8
        ],
        [
         "Autodromo Nazionale di Monza",
         "Monza",
         "Italy",
         "Italian Grand Prix",
         9
        ],
        [
         "Riverside International Raceway",
         "California",
         "USA",
         "United States Grand Prix",
         10
        ],
        [
         "Circuit de Monaco",
         "Monte-Carlo",
         "Monaco",
         "Monaco Grand Prix",
         1
        ],
        [
         "Indianapolis Motor Speedway",
         "Indianapolis",
         "USA",
         "Indianapolis 500",
         2
        ],
        [
         "Circuit Park Zandvoort",
         "Zandvoort",
         "Netherlands",
         "Dutch Grand Prix",
         3
        ],
        [
         "Reims-Gueux",
         "Reims",
         "France",
         "French Grand Prix",
         4
        ],
        [
         "Aintree",
         "Liverpool",
         "UK",
         "British Grand Prix",
         5
        ],
        [
         "AVUS",
         "Berlin",
         "Germany",
         "German Grand Prix",
         6
        ],
        [
         "Monsanto Park Circuit",
         "Lisbon",
         "Portugal",
         "Portuguese Grand Prix",
         7
        ],
        [
         "Autodromo Nazionale di Monza",
         "Monza",
         "Italy",
         "Italian Grand Prix",
         8
        ],
        [
         "Sebring International Raceway",
         "Florida",
         "USA",
         "United States Grand Prix",
         9
        ],
        [
         "Autódromo Juan y Oscar Gálvez",
         "Buenos Aires",
         "Argentina",
         "Argentine Grand Prix",
         1
        ],
        [
         "Circuit de Monaco",
         "Monte-Carlo",
         "Monaco",
         "Monaco Grand Prix",
         2
        ],
        [
         "Circuit Park Zandvoort",
         "Zandvoort",
         "Netherlands",
         "Dutch Grand Prix",
         3
        ],
        [
         "Indianapolis Motor Speedway",
         "Indianapolis",
         "USA",
         "Indianapolis 500",
         4
        ],
        [
         "Circuit de Spa-Francorchamps",
         "Spa",
         "Belgium",
         "Belgian Grand Prix",
         5
        ],
        [
         "Reims-Gueux",
         "Reims",
         "France",
         "French Grand Prix",
         6
        ],
        [
         "Silverstone Circuit",
         "Silverstone",
         "UK",
         "British Grand Prix",
         7
        ],
        [
         "Nürburgring",
         "Nürburg",
         "Germany",
         "German Grand Prix",
         8
        ],
        [
         "Circuito da Boavista",
         "Oporto",
         "Portugal",
         "Portuguese Grand Prix",
         9
        ],
        [
         "Autodromo Nazionale di Monza",
         "Monza",
         "Italy",
         "Italian Grand Prix",
         10
        ],
        [
         "Ain Diab",
         "Casablanca",
         "Morocco",
         "Moroccan Grand Prix",
         11
        ],
        [
         "Autódromo Juan y Oscar Gálvez",
         "Buenos Aires",
         "Argentina",
         "Argentine Grand Prix",
         1
        ],
        [
         "Circuit de Monaco",
         "Monte-Carlo",
         "Monaco",
         "Monaco Grand Prix",
         2
        ],
        [
         "Indianapolis Motor Speedway",
         "Indianapolis",
         "USA",
         "Indianapolis 500",
         3
        ],
        [
         "Rouen-Les-Essarts",
         "Rouen",
         "France",
         "French Grand Prix",
         4
        ],
        [
         "Aintree",
         "Liverpool",
         "UK",
         "British Grand Prix",
         5
        ],
        [
         "Nürburgring",
         "Nürburg",
         "Germany",
         "German Grand Prix",
         6
        ],
        [
         "Pescara Circuit",
         "Pescara",
         "Italy",
         "Pescara Grand Prix",
         7
        ],
        [
         "Autodromo Nazionale di Monza",
         "Monza",
         "Italy",
         "Italian Grand Prix",
         8
        ],
        [
         "Autódromo Juan y Oscar Gálvez",
         "Buenos Aires",
         "Argentina",
         "Argentine Grand Prix",
         1
        ],
        [
         "Circuit de Monaco",
         "Monte-Carlo",
         "Monaco",
         "Monaco Grand Prix",
         2
        ],
        [
         "Indianapolis Motor Speedway",
         "Indianapolis",
         "USA",
         "Indianapolis 500",
         3
        ],
        [
         "Circuit de Spa-Francorchamps",
         "Spa",
         "Belgium",
         "Belgian Grand Prix",
         4
        ],
        [
         "Reims-Gueux",
         "Reims",
         "France",
         "French Grand Prix",
         5
        ],
        [
         "Silverstone Circuit",
         "Silverstone",
         "UK",
         "British Grand Prix",
         6
        ],
        [
         "Nürburgring",
         "Nürburg",
         "Germany",
         "German Grand Prix",
         7
        ],
        [
         "Autodromo Nazionale di Monza",
         "Monza",
         "Italy",
         "Italian Grand Prix",
         8
        ],
        [
         "Autódromo Juan y Oscar Gálvez",
         "Buenos Aires",
         "Argentina",
         "Argentine Grand Prix",
         1
        ],
        [
         "Circuit de Monaco",
         "Monte-Carlo",
         "Monaco",
         "Monaco Grand Prix",
         2
        ],
        [
         "Indianapolis Motor Speedway",
         "Indianapolis",
         "USA",
         "Indianapolis 500",
         3
        ],
        [
         "Circuit de Spa-Francorchamps",
         "Spa",
         "Belgium",
         "Belgian Grand Prix",
         4
        ],
        [
         "Circuit Park Zandvoort",
         "Zandvoort",
         "Netherlands",
         "Dutch Grand Prix",
         5
        ],
        [
         "Aintree",
         "Liverpool",
         "UK",
         "British Grand Prix",
         6
        ],
        [
         "Autodromo Nazionale di Monza",
         "Monza",
         "Italy",
         "Italian Grand Prix",
         7
        ],
        [
         "Autódromo Juan y Oscar Gálvez",
         "Buenos Aires",
         "Argentina",
         "Argentine Grand Prix",
         1
        ],
        [
         "Indianapolis Motor Speedway",
         "Indianapolis",
         "USA",
         "Indianapolis 500",
         2
        ],
        [
         "Circuit de Spa-Francorchamps",
         "Spa",
         "Belgium",
         "Belgian Grand Prix",
         3
        ],
        [
         "Reims-Gueux",
         "Reims",
         "France",
         "French Grand Prix",
         4
        ],
        [
         "Silverstone Circuit",
         "Silverstone",
         "UK",
         "British Grand Prix",
         5
        ],
        [
         "Nürburgring",
         "Nürburg",
         "Germany",
         "German Grand Prix",
         6
        ],
        [
         "Circuit Bremgarten",
         "Bern",
         "Switzerland",
         "Swiss Grand Prix",
         7
        ],
        [
         "Autodromo Nazionale di Monza",
         "Monza",
         "Italy",
         "Italian Grand Prix",
         8
        ],
        [
         "Circuit de Pedralbes",
         "Barcelona",
         "Spain",
         "Spanish Grand Prix",
         9
        ],
        [
         "Autódromo Juan y Oscar Gálvez",
         "Buenos Aires",
         "Argentina",
         "Argentine Grand Prix",
         1
        ],
        [
         "Indianapolis Motor Speedway",
         "Indianapolis",
         "USA",
         "Indianapolis 500",
         2
        ],
        [
         "Circuit Park Zandvoort",
         "Zandvoort",
         "Netherlands",
         "Dutch Grand Prix",
         3
        ],
        [
         "Circuit de Spa-Francorchamps",
         "Spa",
         "Belgium",
         "Belgian Grand Prix",
         4
        ],
        [
         "Reims-Gueux",
         "Reims",
         "France",
         "French Grand Prix",
         5
        ],
        [
         "Silverstone Circuit",
         "Silverstone",
         "UK",
         "British Grand Prix",
         6
        ],
        [
         "Nürburgring",
         "Nürburg",
         "Germany",
         "German Grand Prix",
         7
        ],
        [
         "Circuit Bremgarten",
         "Bern",
         "Switzerland",
         "Swiss Grand Prix",
         8
        ],
        [
         "Autodromo Nazionale di Monza",
         "Monza",
         "Italy",
         "Italian Grand Prix",
         9
        ],
        [
         "Circuit Bremgarten",
         "Bern",
         "Switzerland",
         "Swiss Grand Prix",
         1
        ],
        [
         "Indianapolis Motor Speedway",
         "Indianapolis",
         "USA",
         "Indianapolis 500",
         2
        ],
        [
         "Circuit de Spa-Francorchamps",
         "Spa",
         "Belgium",
         "Belgian Grand Prix",
         3
        ],
        [
         "Rouen-Les-Essarts",
         "Rouen",
         "France",
         "French Grand Prix",
         4
        ],
        [
         "Silverstone Circuit",
         "Silverstone",
         "UK",
         "British Grand Prix",
         5
        ],
        [
         "Nürburgring",
         "Nürburg",
         "Germany",
         "German Grand Prix",
         6
        ],
        [
         "Circuit Park Zandvoort",
         "Zandvoort",
         "Netherlands",
         "Dutch Grand Prix",
         7
        ],
        [
         "Autodromo Nazionale di Monza",
         "Monza",
         "Italy",
         "Italian Grand Prix",
         8
        ],
        [
         "Circuit Bremgarten",
         "Bern",
         "Switzerland",
         "Swiss Grand Prix",
         1
        ],
        [
         "Indianapolis Motor Speedway",
         "Indianapolis",
         "USA",
         "Indianapolis 500",
         2
        ],
        [
         "Circuit de Spa-Francorchamps",
         "Spa",
         "Belgium",
         "Belgian Grand Prix",
         3
        ],
        [
         "Reims-Gueux",
         "Reims",
         "France",
         "French Grand Prix",
         4
        ],
        [
         "Silverstone Circuit",
         "Silverstone",
         "UK",
         "British Grand Prix",
         5
        ],
        [
         "Nürburgring",
         "Nürburg",
         "Germany",
         "German Grand Prix",
         6
        ],
        [
         "Autodromo Nazionale di Monza",
         "Monza",
         "Italy",
         "Italian Grand Prix",
         7
        ],
        [
         "Circuit de Pedralbes",
         "Barcelona",
         "Spain",
         "Spanish Grand Prix",
         8
        ],
        [
         "Silverstone Circuit",
         "Silverstone",
         "UK",
         "British Grand Prix",
         1
        ],
        [
         "Circuit de Monaco",
         "Monte-Carlo",
         "Monaco",
         "Monaco Grand Prix",
         2
        ],
        [
         "Indianapolis Motor Speedway",
         "Indianapolis",
         "USA",
         "Indianapolis 500",
         3
        ],
        [
         "Circuit Bremgarten",
         "Bern",
         "Switzerland",
         "Swiss Grand Prix",
         4
        ],
        [
         "Circuit de Spa-Francorchamps",
         "Spa",
         "Belgium",
         "Belgian Grand Prix",
         5
        ],
        [
         "Reims-Gueux",
         "Reims",
         "France",
         "French Grand Prix",
         6
        ],
        [
         "Autodromo Nazionale di Monza",
         "Monza",
         "Italy",
         "Italian Grand Prix",
         7
        ],
        [
         "Albert Park Grand Prix Circuit",
         "Melbourne",
         "Australia",
         "Australian Grand Prix",
         1
        ],
        [
         "Sepang International Circuit",
         "Kuala Lumpur",
         "Malaysia",
         "Malaysian Grand Prix",
         2
        ],
        [
         "Shanghai International Circuit",
         "Shanghai",
         "China",
         "Chinese Grand Prix",
         3
        ],
        [
         "Istanbul Park",
         "Istanbul",
         "Turkey",
         "Turkish Grand Prix",
         4
        ],
        [
         "Circuit de Barcelona-Catalunya",
         "Montmeló",
         "Spain",
         "Spanish Grand Prix",
         5
        ],
        [
         "Circuit de Monaco",
         "Monte-Carlo",
         "Monaco",
         "Monaco Grand Prix",
         6
        ],
        [
         "Circuit Gilles Villeneuve",
         "Montreal",
         "Canada",
         "Canadian Grand Prix",
         7
        ],
        [
         "Valencia Street Circuit",
         "Valencia",
         "Spain",
         "European Grand Prix",
         8
        ],
        [
         "Silverstone Circuit",
         "Silverstone",
         "UK",
         "British Grand Prix",
         9
        ],
        [
         "Nürburgring",
         "Nürburg",
         "Germany",
         "German Grand Prix",
         10
        ],
        [
         "Hungaroring",
         "Budapest",
         "Hungary",
         "Hungarian Grand Prix",
         11
        ],
        [
         "Circuit de Spa-Francorchamps",
         "Spa",
         "Belgium",
         "Belgian Grand Prix",
         12
        ],
        [
         "Autodromo Nazionale di Monza",
         "Monza",
         "Italy",
         "Italian Grand Prix",
         13
        ],
        [
         "Marina Bay Street Circuit",
         "Marina Bay",
         "Singapore",
         "Singapore Grand Prix",
         14
        ],
        [
         "Suzuka Circuit",
         "Suzuka",
         "Japan",
         "Japanese Grand Prix",
         15
        ],
        [
         "Korean International Circuit",
         "Yeongam County",
         "Korea",
         "Korean Grand Prix",
         16
        ],
        [
         "Buddh International Circuit",
         "Uttar Pradesh",
         "India",
         "Indian Grand Prix",
         17
        ],
        [
         "Yas Marina Circuit",
         "Abu Dhabi",
         "UAE",
         "Abu Dhabi Grand Prix",
         18
        ],
        [
         "Autódromo José Carlos Pace",
         "São Paulo",
         "Brazil",
         "Brazilian Grand Prix",
         19
        ],
        [
         "Albert Park Grand Prix Circuit",
         "Melbourne",
         "Australia",
         "Australian Grand Prix",
         1
        ],
        [
         "Sepang International Circuit",
         "Kuala Lumpur",
         "Malaysia",
         "Malaysian Grand Prix",
         2
        ],
        [
         "Shanghai International Circuit",
         "Shanghai",
         "China",
         "Chinese Grand Prix",
         3
        ],
        [
         "Bahrain International Circuit",
         "Sakhir",
         "Bahrain",
         "Bahrain Grand Prix",
         4
        ],
        [
         "Circuit de Barcelona-Catalunya",
         "Montmeló",
         "Spain",
         "Spanish Grand Prix",
         5
        ],
        [
         "Circuit de Monaco",
         "Monte-Carlo",
         "Monaco",
         "Monaco Grand Prix",
         6
        ],
        [
         "Circuit Gilles Villeneuve",
         "Montreal",
         "Canada",
         "Canadian Grand Prix",
         7
        ],
        [
         "Valencia Street Circuit",
         "Valencia",
         "Spain",
         "European Grand Prix",
         8
        ],
        [
         "Silverstone Circuit",
         "Silverstone",
         "UK",
         "British Grand Prix",
         9
        ],
        [
         "Hockenheimring",
         "Hockenheim",
         "Germany",
         "German Grand Prix",
         10
        ],
        [
         "Hungaroring",
         "Budapest",
         "Hungary",
         "Hungarian Grand Prix",
         11
        ],
        [
         "Circuit de Spa-Francorchamps",
         "Spa",
         "Belgium",
         "Belgian Grand Prix",
         12
        ],
        [
         "Autodromo Nazionale di Monza",
         "Monza",
         "Italy",
         "Italian Grand Prix",
         13
        ],
        [
         "Marina Bay Street Circuit",
         "Marina Bay",
         "Singapore",
         "Singapore Grand Prix",
         14
        ],
        [
         "Suzuka Circuit",
         "Suzuka",
         "Japan",
         "Japanese Grand Prix",
         15
        ],
        [
         "Korean International Circuit",
         "Yeongam County",
         "Korea",
         "Korean Grand Prix",
         16
        ],
        [
         "Buddh International Circuit",
         "Uttar Pradesh",
         "India",
         "Indian Grand Prix",
         17
        ],
        [
         "Yas Marina Circuit",
         "Abu Dhabi",
         "UAE",
         "Abu Dhabi Grand Prix",
         18
        ],
        [
         "Circuit of the Americas",
         "Austin",
         "USA",
         "United States Grand Prix",
         19
        ],
        [
         "Autódromo José Carlos Pace",
         "São Paulo",
         "Brazil",
         "Brazilian Grand Prix",
         20
        ],
        [
         "Albert Park Grand Prix Circuit",
         "Melbourne",
         "Australia",
         "Australian Grand Prix",
         1
        ],
        [
         "Sepang International Circuit",
         "Kuala Lumpur",
         "Malaysia",
         "Malaysian Grand Prix",
         2
        ],
        [
         "Shanghai International Circuit",
         "Shanghai",
         "China",
         "Chinese Grand Prix",
         3
        ],
        [
         "Bahrain International Circuit",
         "Sakhir",
         "Bahrain",
         "Bahrain Grand Prix",
         4
        ],
        [
         "Circuit de Barcelona-Catalunya",
         "Montmeló",
         "Spain",
         "Spanish Grand Prix",
         5
        ],
        [
         "Circuit de Monaco",
         "Monte-Carlo",
         "Monaco",
         "Monaco Grand Prix",
         6
        ],
        [
         "Circuit Gilles Villeneuve",
         "Montreal",
         "Canada",
         "Canadian Grand Prix",
         7
        ],
        [
         "Silverstone Circuit",
         "Silverstone",
         "UK",
         "British Grand Prix",
         8
        ],
        [
         "Nürburgring",
         "Nürburg",
         "Germany",
         "German Grand Prix",
         9
        ],
        [
         "Hungaroring",
         "Budapest",
         "Hungary",
         "Hungarian Grand Prix",
         10
        ],
        [
         "Circuit de Spa-Francorchamps",
         "Spa",
         "Belgium",
         "Belgian Grand Prix",
         11
        ],
        [
         "Autodromo Nazionale di Monza",
         "Monza",
         "Italy",
         "Italian Grand Prix",
         12
        ],
        [
         "Marina Bay Street Circuit",
         "Marina Bay",
         "Singapore",
         "Singapore Grand Prix",
         13
        ],
        [
         "Korean International Circuit",
         "Yeongam County",
         "Korea",
         "Korean Grand Prix",
         14
        ],
        [
         "Suzuka Circuit",
         "Suzuka",
         "Japan",
         "Japanese Grand Prix",
         15
        ],
        [
         "Buddh International Circuit",
         "Uttar Pradesh",
         "India",
         "Indian Grand Prix",
         16
        ],
        [
         "Yas Marina Circuit",
         "Abu Dhabi",
         "UAE",
         "Abu Dhabi Grand Prix",
         17
        ],
        [
         "Circuit of the Americas",
         "Austin",
         "USA",
         "United States Grand Prix",
         18
        ],
        [
         "Autódromo José Carlos Pace",
         "São Paulo",
         "Brazil",
         "Brazilian Grand Prix",
         19
        ],
        [
         "Albert Park Grand Prix Circuit",
         "Melbourne",
         "Australia",
         "Australian Grand Prix",
         1
        ],
        [
         "Sepang International Circuit",
         "Kuala Lumpur",
         "Malaysia",
         "Malaysian Grand Prix",
         2
        ],
        [
         "Bahrain International Circuit",
         "Sakhir",
         "Bahrain",
         "Bahrain Grand Prix",
         3
        ],
        [
         "Shanghai International Circuit",
         "Shanghai",
         "China",
         "Chinese Grand Prix",
         4
        ],
        [
         "Circuit de Barcelona-Catalunya",
         "Montmeló",
         "Spain",
         "Spanish Grand Prix",
         5
        ],
        [
         "Circuit de Monaco",
         "Monte-Carlo",
         "Monaco",
         "Monaco Grand Prix",
         6
        ],
        [
         "Circuit Gilles Villeneuve",
         "Montreal",
         "Canada",
         "Canadian Grand Prix",
         7
        ],
        [
         "Red Bull Ring",
         "Spielburg",
         "Austria",
         "Austrian Grand Prix",
         8
        ],
        [
         "Silverstone Circuit",
         "Silverstone",
         "UK",
         "British Grand Prix",
         9
        ],
        [
         "Hockenheimring",
         "Hockenheim",
         "Germany",
         "German Grand Prix",
         10
        ],
        [
         "Hungaroring",
         "Budapest",
         "Hungary",
         "Hungarian Grand Prix",
         11
        ],
        [
         "Circuit de Spa-Francorchamps",
         "Spa",
         "Belgium",
         "Belgian Grand Prix",
         12
        ],
        [
         "Autodromo Nazionale di Monza",
         "Monza",
         "Italy",
         "Italian Grand Prix",
         13
        ],
        [
         "Marina Bay Street Circuit",
         "Marina Bay",
         "Singapore",
         "Singapore Grand Prix",
         14
        ],
        [
         "Suzuka Circuit",
         "Suzuka",
         "Japan",
         "Japanese Grand Prix",
         15
        ],
        [
         "Sochi Autodrom",
         "Sochi",
         "Russia",
         "Russian Grand Prix",
         16
        ],
        [
         "Circuit of the Americas",
         "Austin",
         "USA",
         "United States Grand Prix",
         17
        ],
        [
         "Autódromo José Carlos Pace",
         "São Paulo",
         "Brazil",
         "Brazilian Grand Prix",
         18
        ],
        [
         "Yas Marina Circuit",
         "Abu Dhabi",
         "UAE",
         "Abu Dhabi Grand Prix",
         19
        ],
        [
         "Circuit de Monaco",
         "Monte-Carlo",
         "Monaco",
         "Monaco Grand Prix",
         6
        ],
        [
         "Circuit Gilles Villeneuve",
         "Montreal",
         "Canada",
         "Canadian Grand Prix",
         7
        ],
        [
         "Bahrain International Circuit",
         "Sakhir",
         "Bahrain",
         "Bahrain Grand Prix",
         4
        ],
        [
         "Circuit de Barcelona-Catalunya",
         "Montmeló",
         "Spain",
         "Spanish Grand Prix",
         5
        ],
        [
         "Shanghai International Circuit",
         "Shanghai",
         "China",
         "Chinese Grand Prix",
         3
        ],
        [
         "Albert Park Grand Prix Circuit",
         "Melbourne",
         "Australia",
         "Australian Grand Prix",
         1
        ],
        [
         "Sepang International Circuit",
         "Kuala Lumpur",
         "Malaysia",
         "Malaysian Grand Prix",
         2
        ],
        [
         "Red Bull Ring",
         "Spielburg",
         "Austria",
         "Austrian Grand Prix",
         8
        ],
        [
         "Silverstone Circuit",
         "Silverstone",
         "UK",
         "British Grand Prix",
         9
        ],
        [
         "Hungaroring",
         "Budapest",
         "Hungary",
         "Hungarian Grand Prix",
         10
        ],
        [
         "Circuit de Spa-Francorchamps",
         "Spa",
         "Belgium",
         "Belgian Grand Prix",
         11
        ],
        [
         "Autodromo Nazionale di Monza",
         "Monza",
         "Italy",
         "Italian Grand Prix",
         12
        ],
        [
         "Marina Bay Street Circuit",
         "Marina Bay",
         "Singapore",
         "Singapore Grand Prix",
         13
        ],
        [
         "Suzuka Circuit",
         "Suzuka",
         "Japan",
         "Japanese Grand Prix",
         14
        ],
        [
         "Sochi Autodrom",
         "Sochi",
         "Russia",
         "Russian Grand Prix",
         15
        ],
        [
         "Circuit of the Americas",
         "Austin",
         "USA",
         "United States Grand Prix",
         16
        ],
        [
         "Autódromo Hermanos Rodríguez",
         "Mexico City",
         "Mexico",
         "Mexican Grand Prix",
         17
        ],
        [
         "Autódromo José Carlos Pace",
         "São Paulo",
         "Brazil",
         "Brazilian Grand Prix",
         18
        ],
        [
         "Yas Marina Circuit",
         "Abu Dhabi",
         "UAE",
         "Abu Dhabi Grand Prix",
         19
        ],
        [
         "Albert Park Grand Prix Circuit",
         "Melbourne",
         "Australia",
         "Australian Grand Prix",
         1
        ],
        [
         "Bahrain International Circuit",
         "Sakhir",
         "Bahrain",
         "Bahrain Grand Prix",
         2
        ],
        [
         "Shanghai International Circuit",
         "Shanghai",
         "China",
         "Chinese Grand Prix",
         3
        ],
        [
         "Sochi Autodrom",
         "Sochi",
         "Russia",
         "Russian Grand Prix",
         4
        ],
        [
         "Circuit de Barcelona-Catalunya",
         "Montmeló",
         "Spain",
         "Spanish Grand Prix",
         5
        ],
        [
         "Circuit de Monaco",
         "Monte-Carlo",
         "Monaco",
         "Monaco Grand Prix",
         6
        ],
        [
         "Circuit Gilles Villeneuve",
         "Montreal",
         "Canada",
         "Canadian Grand Prix",
         7
        ],
        [
         "Baku City Circuit",
         "Baku",
         "Azerbaijan",
         "European Grand Prix",
         8
        ],
        [
         "Red Bull Ring",
         "Spielburg",
         "Austria",
         "Austrian Grand Prix",
         9
        ],
        [
         "Silverstone Circuit",
         "Silverstone",
         "UK",
         "British Grand Prix",
         10
        ],
        [
         "Hungaroring",
         "Budapest",
         "Hungary",
         "Hungarian Grand Prix",
         11
        ],
        [
         "Hockenheimring",
         "Hockenheim",
         "Germany",
         "German Grand Prix",
         12
        ],
        [
         "Circuit de Spa-Francorchamps",
         "Spa",
         "Belgium",
         "Belgian Grand Prix",
         13
        ],
        [
         "Autodromo Nazionale di Monza",
         "Monza",
         "Italy",
         "Italian Grand Prix",
         14
        ],
        [
         "Marina Bay Street Circuit",
         "Marina Bay",
         "Singapore",
         "Singapore Grand Prix",
         15
        ],
        [
         "Sepang International Circuit",
         "Kuala Lumpur",
         "Malaysia",
         "Malaysian Grand Prix",
         16
        ],
        [
         "Suzuka Circuit",
         "Suzuka",
         "Japan",
         "Japanese Grand Prix",
         17
        ],
        [
         "Circuit of the Americas",
         "Austin",
         "USA",
         "United States Grand Prix",
         18
        ],
        [
         "Autódromo Hermanos Rodríguez",
         "Mexico City",
         "Mexico",
         "Mexican Grand Prix",
         19
        ],
        [
         "Autódromo José Carlos Pace",
         "São Paulo",
         "Brazil",
         "Brazilian Grand Prix",
         20
        ],
        [
         "Yas Marina Circuit",
         "Abu Dhabi",
         "UAE",
         "Abu Dhabi Grand Prix",
         21
        ],
        [
         "Albert Park Grand Prix Circuit",
         "Melbourne",
         "Australia",
         "Australian Grand Prix",
         1
        ],
        [
         "Shanghai International Circuit",
         "Shanghai",
         "China",
         "Chinese Grand Prix",
         2
        ],
        [
         "Bahrain International Circuit",
         "Sakhir",
         "Bahrain",
         "Bahrain Grand Prix",
         3
        ],
        [
         "Sochi Autodrom",
         "Sochi",
         "Russia",
         "Russian Grand Prix",
         4
        ],
        [
         "Circuit de Barcelona-Catalunya",
         "Montmeló",
         "Spain",
         "Spanish Grand Prix",
         5
        ],
        [
         "Circuit de Monaco",
         "Monte-Carlo",
         "Monaco",
         "Monaco Grand Prix",
         6
        ],
        [
         "Circuit Gilles Villeneuve",
         "Montreal",
         "Canada",
         "Canadian Grand Prix",
         7
        ],
        [
         "Baku City Circuit",
         "Baku",
         "Azerbaijan",
         "Azerbaijan Grand Prix",
         8
        ],
        [
         "Red Bull Ring",
         "Spielburg",
         "Austria",
         "Austrian Grand Prix",
         9
        ],
        [
         "Silverstone Circuit",
         "Silverstone",
         "UK",
         "British Grand Prix",
         10
        ],
        [
         "Hungaroring",
         "Budapest",
         "Hungary",
         "Hungarian Grand Prix",
         11
        ],
        [
         "Circuit de Spa-Francorchamps",
         "Spa",
         "Belgium",
         "Belgian Grand Prix",
         12
        ],
        [
         "Autodromo Nazionale di Monza",
         "Monza",
         "Italy",
         "Italian Grand Prix",
         13
        ],
        [
         "Marina Bay Street Circuit",
         "Marina Bay",
         "Singapore",
         "Singapore Grand Prix",
         14
        ],
        [
         "Sepang International Circuit",
         "Kuala Lumpur",
         "Malaysia",
         "Malaysian Grand Prix",
         15
        ],
        [
         "Suzuka Circuit",
         "Suzuka",
         "Japan",
         "Japanese Grand Prix",
         16
        ],
        [
         "Circuit of the Americas",
         "Austin",
         "USA",
         "United States Grand Prix",
         17
        ],
        [
         "Autódromo Hermanos Rodríguez",
         "Mexico City",
         "Mexico",
         "Mexican Grand Prix",
         18
        ],
        [
         "Autódromo José Carlos Pace",
         "São Paulo",
         "Brazil",
         "Brazilian Grand Prix",
         19
        ],
        [
         "Yas Marina Circuit",
         "Abu Dhabi",
         "UAE",
         "Abu Dhabi Grand Prix",
         20
        ],
        [
         "Albert Park Grand Prix Circuit",
         "Melbourne",
         "Australia",
         "Australian Grand Prix",
         1
        ],
        [
         "Bahrain International Circuit",
         "Sakhir",
         "Bahrain",
         "Bahrain Grand Prix",
         2
        ],
        [
         "Shanghai International Circuit",
         "Shanghai",
         "China",
         "Chinese Grand Prix",
         3
        ],
        [
         "Baku City Circuit",
         "Baku",
         "Azerbaijan",
         "Azerbaijan Grand Prix",
         4
        ],
        [
         "Circuit de Barcelona-Catalunya",
         "Montmeló",
         "Spain",
         "Spanish Grand Prix",
         5
        ],
        [
         "Circuit de Monaco",
         "Monte-Carlo",
         "Monaco",
         "Monaco Grand Prix",
         6
        ],
        [
         "Circuit Gilles Villeneuve",
         "Montreal",
         "Canada",
         "Canadian Grand Prix",
         7
        ],
        [
         "Circuit Paul Ricard",
         "Le Castellet",
         "France",
         "French Grand Prix",
         8
        ],
        [
         "Red Bull Ring",
         "Spielburg",
         "Austria",
         "Austrian Grand Prix",
         9
        ],
        [
         "Silverstone Circuit",
         "Silverstone",
         "UK",
         "British Grand Prix",
         10
        ],
        [
         "Hockenheimring",
         "Hockenheim",
         "Germany",
         "German Grand Prix",
         11
        ],
        [
         "Hungaroring",
         "Budapest",
         "Hungary",
         "Hungarian Grand Prix",
         12
        ],
        [
         "Circuit de Spa-Francorchamps",
         "Spa",
         "Belgium",
         "Belgian Grand Prix",
         13
        ],
        [
         "Autodromo Nazionale di Monza",
         "Monza",
         "Italy",
         "Italian Grand Prix",
         14
        ],
        [
         "Marina Bay Street Circuit",
         "Marina Bay",
         "Singapore",
         "Singapore Grand Prix",
         15
        ],
        [
         "Sochi Autodrom",
         "Sochi",
         "Russia",
         "Russian Grand Prix",
         16
        ],
        [
         "Suzuka Circuit",
         "Suzuka",
         "Japan",
         "Japanese Grand Prix",
         17
        ],
        [
         "Circuit of the Americas",
         "Austin",
         "USA",
         "United States Grand Prix",
         18
        ],
        [
         "Autódromo Hermanos Rodríguez",
         "Mexico City",
         "Mexico",
         "Mexican Grand Prix",
         19
        ],
        [
         "Autódromo José Carlos Pace",
         "São Paulo",
         "Brazil",
         "Brazilian Grand Prix",
         20
        ],
        [
         "Yas Marina Circuit",
         "Abu Dhabi",
         "UAE",
         "Abu Dhabi Grand Prix",
         21
        ],
        [
         "Albert Park Grand Prix Circuit",
         "Melbourne",
         "Australia",
         "Australian Grand Prix",
         1
        ],
        [
         "Bahrain International Circuit",
         "Sakhir",
         "Bahrain",
         "Bahrain Grand Prix",
         2
        ],
        [
         "Shanghai International Circuit",
         "Shanghai",
         "China",
         "Chinese Grand Prix",
         3
        ],
        [
         "Baku City Circuit",
         "Baku",
         "Azerbaijan",
         "Azerbaijan Grand Prix",
         4
        ],
        [
         "Circuit de Barcelona-Catalunya",
         "Montmeló",
         "Spain",
         "Spanish Grand Prix",
         5
        ],
        [
         "Circuit de Monaco",
         "Monte-Carlo",
         "Monaco",
         "Monaco Grand Prix",
         6
        ],
        [
         "Circuit Gilles Villeneuve",
         "Montreal",
         "Canada",
         "Canadian Grand Prix",
         7
        ],
        [
         "Circuit Paul Ricard",
         "Le Castellet",
         "France",
         "French Grand Prix",
         8
        ],
        [
         "Red Bull Ring",
         "Spielburg",
         "Austria",
         "Austrian Grand Prix",
         9
        ],
        [
         "Silverstone Circuit",
         "Silverstone",
         "UK",
         "British Grand Prix",
         10
        ],
        [
         "Hockenheimring",
         "Hockenheim",
         "Germany",
         "German Grand Prix",
         11
        ],
        [
         "Hungaroring",
         "Budapest",
         "Hungary",
         "Hungarian Grand Prix",
         12
        ],
        [
         "Circuit de Spa-Francorchamps",
         "Spa",
         "Belgium",
         "Belgian Grand Prix",
         13
        ],
        [
         "Autodromo Nazionale di Monza",
         "Monza",
         "Italy",
         "Italian Grand Prix",
         14
        ],
        [
         "Marina Bay Street Circuit",
         "Marina Bay",
         "Singapore",
         "Singapore Grand Prix",
         15
        ],
        [
         "Sochi Autodrom",
         "Sochi",
         "Russia",
         "Russian Grand Prix",
         16
        ],
        [
         "Suzuka Circuit",
         "Suzuka",
         "Japan",
         "Japanese Grand Prix",
         17
        ],
        [
         "Autódromo Hermanos Rodríguez",
         "Mexico City",
         "Mexico",
         "Mexican Grand Prix",
         18
        ],
        [
         "Circuit of the Americas",
         "Austin",
         "USA",
         "United States Grand Prix",
         19
        ],
        [
         "Autódromo José Carlos Pace",
         "São Paulo",
         "Brazil",
         "Brazilian Grand Prix",
         20
        ],
        [
         "Yas Marina Circuit",
         "Abu Dhabi",
         "UAE",
         "Abu Dhabi Grand Prix",
         21
        ],
        [
         "Red Bull Ring",
         "Spielburg",
         "Austria",
         "Austrian Grand Prix",
         1
        ],
        [
         "Red Bull Ring",
         "Spielburg",
         "Austria",
         "Styrian Grand Prix",
         2
        ],
        [
         "Hungaroring",
         "Budapest",
         "Hungary",
         "Hungarian Grand Prix",
         3
        ],
        [
         "Silverstone Circuit",
         "Silverstone",
         "UK",
         "British Grand Prix",
         4
        ],
        [
         "Silverstone Circuit",
         "Silverstone",
         "UK",
         "70th Anniversary Grand Prix",
         5
        ],
        [
         "Circuit de Barcelona-Catalunya",
         "Montmeló",
         "Spain",
         "Spanish Grand Prix",
         6
        ],
        [
         "Circuit de Spa-Francorchamps",
         "Spa",
         "Belgium",
         "Belgian Grand Prix",
         7
        ],
        [
         "Autodromo Nazionale di Monza",
         "Monza",
         "Italy",
         "Italian Grand Prix",
         8
        ],
        [
         "Autodromo Internazionale del Mugello",
         "Mugello",
         "Italy",
         "Tuscan Grand Prix",
         9
        ],
        [
         "Sochi Autodrom",
         "Sochi",
         "Russia",
         "Russian Grand Prix",
         10
        ],
        [
         "Nürburgring",
         "Nürburg",
         "Germany",
         "Eifel Grand Prix",
         11
        ],
        [
         "Autódromo Internacional do Algarve",
         "Portimão",
         "Portugal",
         "Portuguese Grand Prix",
         12
        ],
        [
         "Autodromo Enzo e Dino Ferrari",
         "Imola",
         "Italy",
         "Emilia Romagna Grand Prix",
         13
        ],
        [
         "Istanbul Park",
         "Istanbul",
         "Turkey",
         "Turkish Grand Prix",
         14
        ],
        [
         "Bahrain International Circuit",
         "Sakhir",
         "Bahrain",
         "Bahrain Grand Prix",
         15
        ],
        [
         "Bahrain International Circuit",
         "Sakhir",
         "Bahrain",
         "Sakhir Grand Prix",
         16
        ],
        [
         "Yas Marina Circuit",
         "Abu Dhabi",
         "UAE",
         "Abu Dhabi Grand Prix",
         17
        ],
        [
         "Autodromo Enzo e Dino Ferrari",
         "Imola",
         "Italy",
         "Emilia Romagna Grand Prix",
         2
        ],
        [
         "Bahrain International Circuit",
         "Sakhir",
         "Bahrain",
         "Bahrain Grand Prix",
         1
        ],
        [
         "Albert Park Grand Prix Circuit",
         "Melbourne",
         "Australia",
         "Australian Grand Prix",
         21
        ],
        [
         "Nürburgring",
         "Nürburg",
         "Germany",
         "TBC",
         3
        ],
        [
         "Circuit de Barcelona-Catalunya",
         "Montmeló",
         "Spain",
         "Spanish Grand Prix",
         4
        ],
        [
         "Circuit de Monaco",
         "Monte-Carlo",
         "Monaco",
         "Monaco Grand Prix",
         5
        ],
        [
         "Baku City Circuit",
         "Baku",
         "Azerbaijan",
         "Azerbaijan Grand Prix",
         6
        ],
        [
         "Circuit Gilles Villeneuve",
         "Montreal",
         "Canada",
         "Canadian Grand Prix",
         7
        ],
        [
         "Circuit Paul Ricard",
         "Le Castellet",
         "France",
         "French Grand Prix",
         8
        ],
        [
         "Red Bull Ring",
         "Spielburg",
         "Austria",
         "Austrian Grand Prix",
         9
        ],
        [
         "Silverstone Circuit",
         "Silverstone",
         "UK",
         "British Grand Prix",
         10
        ],
        [
         "Hungaroring",
         "Budapest",
         "Hungary",
         "Hungarian Grand Prix",
         11
        ],
        [
         "Circuit de Spa-Francorchamps",
         "Spa",
         "Belgium",
         "Belgian Grand Prix",
         12
        ],
        [
         "Circuit Park Zandvoort",
         "Zandvoort",
         "Netherlands",
         "Dutch Grand Prix",
         13
        ],
        [
         "Autodromo Nazionale di Monza",
         "Monza",
         "Italy",
         "Italian Grand Prix",
         14
        ],
        [
         "Sochi Autodrom",
         "Sochi",
         "Russia",
         "Russian Grand Prix",
         15
        ],
        [
         "Marina Bay Street Circuit",
         "Marina Bay",
         "Singapore",
         "Singapore Grand Prix",
         16
        ],
        [
         "Suzuka Circuit",
         "Suzuka",
         "Japan",
         "Japanese Grand Prix",
         17
        ],
        [
         "Circuit of the Americas",
         "Austin",
         "USA",
         "United States Grand Prix",
         18
        ],
        [
         "Autódromo Hermanos Rodríguez",
         "Mexico City",
         "Mexico",
         "Mexico City Grand Prix",
         19
        ],
        [
         "Autódromo José Carlos Pace",
         "São Paulo",
         "Brazil",
         "Brazilian Grand Prix",
         20
        ],
        [
         "Jeddah Street Circuit",
         "Jeddah",
         "Saudi Arabia",
         "Saudi Arabian Grand Prix",
         22
        ],
        [
         "Yas Marina Circuit",
         "Abu Dhabi",
         "UAE",
         "Abu Dhabi Grand Prix",
         23
        ]
       ],
       "datasetInfos": [],
       "dbfsResultPath": null,
       "isJsonSchema": true,
       "metadata": {},
       "overflow": false,
       "plotOptions": {
        "customPlotOptions": {},
        "displayType": "table",
        "pivotAggregation": null,
        "pivotColumns": null,
        "xColumns": null,
        "yColumns": null
       },
       "removedWidgets": [],
       "schema": [
        {
         "metadata": "{}",
         "name": "circuit_name",
         "type": "\"string\""
        },
        {
         "metadata": "{}",
         "name": "circuit_location",
         "type": "\"string\""
        },
        {
         "metadata": "{}",
         "name": "circuit_country",
         "type": "\"string\""
        },
        {
         "metadata": "{}",
         "name": "race_name",
         "type": "\"string\""
        },
        {
         "metadata": "{}",
         "name": "race_round",
         "type": "\"integer\""
        }
       ],
       "type": "table"
      }
     },
     "output_type": "display_data"
    }
   ],
   "source": [
    "race_circuit_df.display()"
   ]
  },
  {
   "cell_type": "markdown",
   "metadata": {
    "application/vnd.databricks.v1+cell": {
     "cellMetadata": {},
     "inputWidgets": {},
     "nuid": "be159a59-4f1e-4791-99e5-93515ab35030",
     "showTitle": false,
     "title": ""
    }
   },
   "source": [
    "## c. Full Outer Join"
   ]
  },
  {
   "cell_type": "code",
   "execution_count": 0,
   "metadata": {
    "application/vnd.databricks.v1+cell": {
     "cellMetadata": {
      "byteLimit": 2048000,
      "rowLimit": 10000
     },
     "inputWidgets": {},
     "nuid": "3fe4dbbb-566d-4fad-9e18-e6b2ad1edac6",
     "showTitle": false,
     "title": ""
    }
   },
   "outputs": [
    {
     "output_type": "execute_result",
     "data": {
      "text/plain": [
       "1060"
      ]
     },
     "execution_count": 17,
     "metadata": {},
     "output_type": "execute_result"
    }
   ],
   "source": [
    "race_circuit_df = circuits_df\\\n",
    "    .join(races_df, on='circuit_id', how='full')\\\n",
    "    .select(\n",
    "        circuits_df.name.alias('circuit_name'),\n",
    "        circuits_df.location.alias('circuit_location'),\n",
    "        circuits_df.country.alias('circuit_country'),\n",
    "        races_df.name.alias('race_name'),\n",
    "        races_df.round.alias('race_round')\n",
    "    )\n",
    "race_circuit_df.count()"
   ]
  },
  {
   "cell_type": "code",
   "execution_count": 0,
   "metadata": {
    "application/vnd.databricks.v1+cell": {
     "cellMetadata": {
      "byteLimit": 2048000,
      "rowLimit": 10000
     },
     "inputWidgets": {},
     "nuid": "513830ca-e221-41aa-be82-a5e76e083b05",
     "showTitle": false,
     "title": ""
    }
   },
   "outputs": [
    {
     "output_type": "display_data",
     "data": {
      "text/html": [
       "<style scoped>\n",
       "  .table-result-container {\n",
       "    max-height: 300px;\n",
       "    overflow: auto;\n",
       "  }\n",
       "  table, th, td {\n",
       "    border: 1px solid black;\n",
       "    border-collapse: collapse;\n",
       "  }\n",
       "  th, td {\n",
       "    padding: 5px;\n",
       "  }\n",
       "  th {\n",
       "    text-align: left;\n",
       "  }\n",
       "</style><div class='table-result-container'><table class='table-result'><thead style='background-color: white'><tr><th>circuit_name</th><th>circuit_location</th><th>circuit_country</th><th>race_name</th><th>race_round</th></tr></thead><tbody><tr><td>Albert Park Grand Prix Circuit</td><td>Melbourne</td><td>Australia</td><td>Australian Grand Prix</td><td>1</td></tr><tr><td>Albert Park Grand Prix Circuit</td><td>Melbourne</td><td>Australia</td><td>Australian Grand Prix</td><td>1</td></tr><tr><td>Albert Park Grand Prix Circuit</td><td>Melbourne</td><td>Australia</td><td>Australian Grand Prix</td><td>1</td></tr><tr><td>Albert Park Grand Prix Circuit</td><td>Melbourne</td><td>Australia</td><td>Australian Grand Prix</td><td>3</td></tr><tr><td>Albert Park Grand Prix Circuit</td><td>Melbourne</td><td>Australia</td><td>Australian Grand Prix</td><td>1</td></tr><tr><td>Albert Park Grand Prix Circuit</td><td>Melbourne</td><td>Australia</td><td>Australian Grand Prix</td><td>1</td></tr><tr><td>Albert Park Grand Prix Circuit</td><td>Melbourne</td><td>Australia</td><td>Australian Grand Prix</td><td>1</td></tr><tr><td>Albert Park Grand Prix Circuit</td><td>Melbourne</td><td>Australia</td><td>Australian Grand Prix</td><td>1</td></tr><tr><td>Albert Park Grand Prix Circuit</td><td>Melbourne</td><td>Australia</td><td>Australian Grand Prix</td><td>1</td></tr><tr><td>Albert Park Grand Prix Circuit</td><td>Melbourne</td><td>Australia</td><td>Australian Grand Prix</td><td>1</td></tr><tr><td>Albert Park Grand Prix Circuit</td><td>Melbourne</td><td>Australia</td><td>Australian Grand Prix</td><td>1</td></tr><tr><td>Albert Park Grand Prix Circuit</td><td>Melbourne</td><td>Australia</td><td>Australian Grand Prix</td><td>1</td></tr><tr><td>Albert Park Grand Prix Circuit</td><td>Melbourne</td><td>Australia</td><td>Australian Grand Prix</td><td>1</td></tr><tr><td>Albert Park Grand Prix Circuit</td><td>Melbourne</td><td>Australia</td><td>Australian Grand Prix</td><td>1</td></tr><tr><td>Albert Park Grand Prix Circuit</td><td>Melbourne</td><td>Australia</td><td>Australian Grand Prix</td><td>2</td></tr><tr><td>Albert Park Grand Prix Circuit</td><td>Melbourne</td><td>Australia</td><td>Australian Grand Prix</td><td>1</td></tr><tr><td>Albert Park Grand Prix Circuit</td><td>Melbourne</td><td>Australia</td><td>Australian Grand Prix</td><td>1</td></tr><tr><td>Albert Park Grand Prix Circuit</td><td>Melbourne</td><td>Australia</td><td>Australian Grand Prix</td><td>1</td></tr><tr><td>Albert Park Grand Prix Circuit</td><td>Melbourne</td><td>Australia</td><td>Australian Grand Prix</td><td>1</td></tr><tr><td>Albert Park Grand Prix Circuit</td><td>Melbourne</td><td>Australia</td><td>Australian Grand Prix</td><td>1</td></tr><tr><td>Albert Park Grand Prix Circuit</td><td>Melbourne</td><td>Australia</td><td>Australian Grand Prix</td><td>1</td></tr><tr><td>Albert Park Grand Prix Circuit</td><td>Melbourne</td><td>Australia</td><td>Australian Grand Prix</td><td>1</td></tr><tr><td>Albert Park Grand Prix Circuit</td><td>Melbourne</td><td>Australia</td><td>Australian Grand Prix</td><td>1</td></tr><tr><td>Albert Park Grand Prix Circuit</td><td>Melbourne</td><td>Australia</td><td>Australian Grand Prix</td><td>1</td></tr><tr><td>Albert Park Grand Prix Circuit</td><td>Melbourne</td><td>Australia</td><td>Australian Grand Prix</td><td>21</td></tr><tr><td>Sepang International Circuit</td><td>Kuala Lumpur</td><td>Malaysia</td><td>Malaysian Grand Prix</td><td>2</td></tr><tr><td>Sepang International Circuit</td><td>Kuala Lumpur</td><td>Malaysia</td><td>Malaysian Grand Prix</td><td>2</td></tr><tr><td>Sepang International Circuit</td><td>Kuala Lumpur</td><td>Malaysia</td><td>Malaysian Grand Prix</td><td>2</td></tr><tr><td>Sepang International Circuit</td><td>Kuala Lumpur</td><td>Malaysia</td><td>Malaysian Grand Prix</td><td>2</td></tr><tr><td>Sepang International Circuit</td><td>Kuala Lumpur</td><td>Malaysia</td><td>Malaysian Grand Prix</td><td>2</td></tr><tr><td>Sepang International Circuit</td><td>Kuala Lumpur</td><td>Malaysia</td><td>Malaysian Grand Prix</td><td>2</td></tr><tr><td>Sepang International Circuit</td><td>Kuala Lumpur</td><td>Malaysia</td><td>Malaysian Grand Prix</td><td>2</td></tr><tr><td>Sepang International Circuit</td><td>Kuala Lumpur</td><td>Malaysia</td><td>Malaysian Grand Prix</td><td>2</td></tr><tr><td>Sepang International Circuit</td><td>Kuala Lumpur</td><td>Malaysia</td><td>Malaysian Grand Prix</td><td>2</td></tr><tr><td>Sepang International Circuit</td><td>Kuala Lumpur</td><td>Malaysia</td><td>Malaysian Grand Prix</td><td>17</td></tr><tr><td>Sepang International Circuit</td><td>Kuala Lumpur</td><td>Malaysia</td><td>Malaysian Grand Prix</td><td>15</td></tr><tr><td>Sepang International Circuit</td><td>Kuala Lumpur</td><td>Malaysia</td><td>Malaysian Grand Prix</td><td>3</td></tr><tr><td>Sepang International Circuit</td><td>Kuala Lumpur</td><td>Malaysia</td><td>Malaysian Grand Prix</td><td>2</td></tr><tr><td>Sepang International Circuit</td><td>Kuala Lumpur</td><td>Malaysia</td><td>Malaysian Grand Prix</td><td>2</td></tr><tr><td>Sepang International Circuit</td><td>Kuala Lumpur</td><td>Malaysia</td><td>Malaysian Grand Prix</td><td>2</td></tr><tr><td>Sepang International Circuit</td><td>Kuala Lumpur</td><td>Malaysia</td><td>Malaysian Grand Prix</td><td>2</td></tr><tr><td>Sepang International Circuit</td><td>Kuala Lumpur</td><td>Malaysia</td><td>Malaysian Grand Prix</td><td>2</td></tr><tr><td>Sepang International Circuit</td><td>Kuala Lumpur</td><td>Malaysia</td><td>Malaysian Grand Prix</td><td>16</td></tr><tr><td>Sepang International Circuit</td><td>Kuala Lumpur</td><td>Malaysia</td><td>Malaysian Grand Prix</td><td>15</td></tr><tr><td>Bahrain International Circuit</td><td>Sakhir</td><td>Bahrain</td><td>Bahrain Grand Prix</td><td>4</td></tr><tr><td>Bahrain International Circuit</td><td>Sakhir</td><td>Bahrain</td><td>Bahrain Grand Prix</td><td>3</td></tr><tr><td>Bahrain International Circuit</td><td>Sakhir</td><td>Bahrain</td><td>Bahrain Grand Prix</td><td>3</td></tr><tr><td>Bahrain International Circuit</td><td>Sakhir</td><td>Bahrain</td><td>Bahrain Grand Prix</td><td>1</td></tr><tr><td>Bahrain International Circuit</td><td>Sakhir</td><td>Bahrain</td><td>Bahrain Grand Prix</td><td>3</td></tr><tr><td>Bahrain International Circuit</td><td>Sakhir</td><td>Bahrain</td><td>Bahrain Grand Prix</td><td>3</td></tr><tr><td>Bahrain International Circuit</td><td>Sakhir</td><td>Bahrain</td><td>Bahrain Grand Prix</td><td>1</td></tr><tr><td>Bahrain International Circuit</td><td>Sakhir</td><td>Bahrain</td><td>Bahrain Grand Prix</td><td>4</td></tr><tr><td>Bahrain International Circuit</td><td>Sakhir</td><td>Bahrain</td><td>Bahrain Grand Prix</td><td>4</td></tr><tr><td>Bahrain International Circuit</td><td>Sakhir</td><td>Bahrain</td><td>Bahrain Grand Prix</td><td>3</td></tr><tr><td>Bahrain International Circuit</td><td>Sakhir</td><td>Bahrain</td><td>Bahrain Grand Prix</td><td>4</td></tr><tr><td>Bahrain International Circuit</td><td>Sakhir</td><td>Bahrain</td><td>Bahrain Grand Prix</td><td>2</td></tr><tr><td>Bahrain International Circuit</td><td>Sakhir</td><td>Bahrain</td><td>Bahrain Grand Prix</td><td>3</td></tr><tr><td>Bahrain International Circuit</td><td>Sakhir</td><td>Bahrain</td><td>Bahrain Grand Prix</td><td>2</td></tr><tr><td>Bahrain International Circuit</td><td>Sakhir</td><td>Bahrain</td><td>Bahrain Grand Prix</td><td>2</td></tr><tr><td>Bahrain International Circuit</td><td>Sakhir</td><td>Bahrain</td><td>Bahrain Grand Prix</td><td>15</td></tr><tr><td>Bahrain International Circuit</td><td>Sakhir</td><td>Bahrain</td><td>Sakhir Grand Prix</td><td>16</td></tr><tr><td>Bahrain International Circuit</td><td>Sakhir</td><td>Bahrain</td><td>Bahrain Grand Prix</td><td>1</td></tr><tr><td>Circuit de Barcelona-Catalunya</td><td>Montmeló</td><td>Spain</td><td>Spanish Grand Prix</td><td>5</td></tr><tr><td>Circuit de Barcelona-Catalunya</td><td>Montmeló</td><td>Spain</td><td>Spanish Grand Prix</td><td>4</td></tr><tr><td>Circuit de Barcelona-Catalunya</td><td>Montmeló</td><td>Spain</td><td>Spanish Grand Prix</td><td>4</td></tr><tr><td>Circuit de Barcelona-Catalunya</td><td>Montmeló</td><td>Spain</td><td>Spanish Grand Prix</td><td>6</td></tr><tr><td>Circuit de Barcelona-Catalunya</td><td>Montmeló</td><td>Spain</td><td>Spanish Grand Prix</td><td>5</td></tr><tr><td>Circuit de Barcelona-Catalunya</td><td>Montmeló</td><td>Spain</td><td>Spanish Grand Prix</td><td>5</td></tr><tr><td>Circuit de Barcelona-Catalunya</td><td>Montmeló</td><td>Spain</td><td>Spanish Grand Prix</td><td>5</td></tr><tr><td>Circuit de Barcelona-Catalunya</td><td>Montmeló</td><td>Spain</td><td>Spanish Grand Prix</td><td>5</td></tr><tr><td>Circuit de Barcelona-Catalunya</td><td>Montmeló</td><td>Spain</td><td>Spanish Grand Prix</td><td>5</td></tr><tr><td>Circuit de Barcelona-Catalunya</td><td>Montmeló</td><td>Spain</td><td>Spanish Grand Prix</td><td>5</td></tr><tr><td>Circuit de Barcelona-Catalunya</td><td>Montmeló</td><td>Spain</td><td>Spanish Grand Prix</td><td>5</td></tr><tr><td>Circuit de Barcelona-Catalunya</td><td>Montmeló</td><td>Spain</td><td>Spanish Grand Prix</td><td>5</td></tr><tr><td>Circuit de Barcelona-Catalunya</td><td>Montmeló</td><td>Spain</td><td>Spanish Grand Prix</td><td>6</td></tr><tr><td>Circuit de Barcelona-Catalunya</td><td>Montmeló</td><td>Spain</td><td>Spanish Grand Prix</td><td>7</td></tr><tr><td>Circuit de Barcelona-Catalunya</td><td>Montmeló</td><td>Spain</td><td>Spanish Grand Prix</td><td>4</td></tr><tr><td>Circuit de Barcelona-Catalunya</td><td>Montmeló</td><td>Spain</td><td>Spanish Grand Prix</td><td>5</td></tr><tr><td>Circuit de Barcelona-Catalunya</td><td>Montmeló</td><td>Spain</td><td>Spanish Grand Prix</td><td>5</td></tr><tr><td>Circuit de Barcelona-Catalunya</td><td>Montmeló</td><td>Spain</td><td>Spanish Grand Prix</td><td>4</td></tr><tr><td>Circuit de Barcelona-Catalunya</td><td>Montmeló</td><td>Spain</td><td>Spanish Grand Prix</td><td>14</td></tr><tr><td>Circuit de Barcelona-Catalunya</td><td>Montmeló</td><td>Spain</td><td>Spanish Grand Prix</td><td>5</td></tr><tr><td>Circuit de Barcelona-Catalunya</td><td>Montmeló</td><td>Spain</td><td>Spanish Grand Prix</td><td>5</td></tr><tr><td>Circuit de Barcelona-Catalunya</td><td>Montmeló</td><td>Spain</td><td>Spanish Grand Prix</td><td>5</td></tr><tr><td>Circuit de Barcelona-Catalunya</td><td>Montmeló</td><td>Spain</td><td>Spanish Grand Prix</td><td>5</td></tr><tr><td>Circuit de Barcelona-Catalunya</td><td>Montmeló</td><td>Spain</td><td>Spanish Grand Prix</td><td>5</td></tr><tr><td>Circuit de Barcelona-Catalunya</td><td>Montmeló</td><td>Spain</td><td>Spanish Grand Prix</td><td>5</td></tr><tr><td>Circuit de Barcelona-Catalunya</td><td>Montmeló</td><td>Spain</td><td>Spanish Grand Prix</td><td>5</td></tr><tr><td>Circuit de Barcelona-Catalunya</td><td>Montmeló</td><td>Spain</td><td>Spanish Grand Prix</td><td>5</td></tr><tr><td>Circuit de Barcelona-Catalunya</td><td>Montmeló</td><td>Spain</td><td>Spanish Grand Prix</td><td>5</td></tr><tr><td>Circuit de Barcelona-Catalunya</td><td>Montmeló</td><td>Spain</td><td>Spanish Grand Prix</td><td>5</td></tr><tr><td>Circuit de Barcelona-Catalunya</td><td>Montmeló</td><td>Spain</td><td>Spanish Grand Prix</td><td>6</td></tr><tr><td>Circuit de Barcelona-Catalunya</td><td>Montmeló</td><td>Spain</td><td>Spanish Grand Prix</td><td>4</td></tr><tr><td>Istanbul Park</td><td>Istanbul</td><td>Turkey</td><td>Turkish Grand Prix</td><td>7</td></tr><tr><td>Istanbul Park</td><td>Istanbul</td><td>Turkey</td><td>Turkish Grand Prix</td><td>5</td></tr><tr><td>Istanbul Park</td><td>Istanbul</td><td>Turkey</td><td>Turkish Grand Prix</td><td>12</td></tr><tr><td>Istanbul Park</td><td>Istanbul</td><td>Turkey</td><td>Turkish Grand Prix</td><td>14</td></tr><tr><td>Istanbul Park</td><td>Istanbul</td><td>Turkey</td><td>Turkish Grand Prix</td><td>14</td></tr><tr><td>Istanbul Park</td><td>Istanbul</td><td>Turkey</td><td>Turkish Grand Prix</td><td>7</td></tr><tr><td>Istanbul Park</td><td>Istanbul</td><td>Turkey</td><td>Turkish Grand Prix</td><td>4</td></tr><tr><td>Istanbul Park</td><td>Istanbul</td><td>Turkey</td><td>Turkish Grand Prix</td><td>14</td></tr><tr><td>Circuit de Monaco</td><td>Monte-Carlo</td><td>Monaco</td><td>Monaco Grand Prix</td><td>6</td></tr><tr><td>Circuit de Monaco</td><td>Monte-Carlo</td><td>Monaco</td><td>Monaco Grand Prix</td><td>6</td></tr><tr><td>Circuit de Monaco</td><td>Monte-Carlo</td><td>Monaco</td><td>Monaco Grand Prix</td><td>5</td></tr><tr><td>Circuit de Monaco</td><td>Monte-Carlo</td><td>Monaco</td><td>Monaco Grand Prix</td><td>7</td></tr><tr><td>Circuit de Monaco</td><td>Monte-Carlo</td><td>Monaco</td><td>Monaco Grand Prix</td><td>6</td></tr><tr><td>Circuit de Monaco</td><td>Monte-Carlo</td><td>Monaco</td><td>Monaco Grand Prix</td><td>6</td></tr><tr><td>Circuit de Monaco</td><td>Monte-Carlo</td><td>Monaco</td><td>Monaco Grand Prix</td><td>7</td></tr><tr><td>Circuit de Monaco</td><td>Monte-Carlo</td><td>Monaco</td><td>Monaco Grand Prix</td><td>7</td></tr><tr><td>Circuit de Monaco</td><td>Monte-Carlo</td><td>Monaco</td><td>Monaco Grand Prix</td><td>7</td></tr><tr><td>Circuit de Monaco</td><td>Monte-Carlo</td><td>Monaco</td><td>Monaco Grand Prix</td><td>7</td></tr><tr><td>Circuit de Monaco</td><td>Monte-Carlo</td><td>Monaco</td><td>Monaco Grand Prix</td><td>4</td></tr><tr><td>Circuit de Monaco</td><td>Monte-Carlo</td><td>Monaco</td><td>Monaco Grand Prix</td><td>6</td></tr><tr><td>Circuit de Monaco</td><td>Monte-Carlo</td><td>Monaco</td><td>Monaco Grand Prix</td><td>5</td></tr><tr><td>Circuit de Monaco</td><td>Monte-Carlo</td><td>Monaco</td><td>Monaco Grand Prix</td><td>6</td></tr><tr><td>Circuit de Monaco</td><td>Monte-Carlo</td><td>Monaco</td><td>Monaco Grand Prix</td><td>5</td></tr><tr><td>Circuit de Monaco</td><td>Monte-Carlo</td><td>Monaco</td><td>Monaco Grand Prix</td><td>4</td></tr><tr><td>Circuit de Monaco</td><td>Monte-Carlo</td><td>Monaco</td><td>Monaco Grand Prix</td><td>6</td></tr><tr><td>Circuit de Monaco</td><td>Monte-Carlo</td><td>Monaco</td><td>Monaco Grand Prix</td><td>6</td></tr><tr><td>Circuit de Monaco</td><td>Monte-Carlo</td><td>Monaco</td><td>Monaco Grand Prix</td><td>4</td></tr><tr><td>Circuit de Monaco</td><td>Monte-Carlo</td><td>Monaco</td><td>Monaco Grand Prix</td><td>4</td></tr><tr><td>Circuit de Monaco</td><td>Monte-Carlo</td><td>Monaco</td><td>Monaco Grand Prix</td><td>6</td></tr><tr><td>Circuit de Monaco</td><td>Monte-Carlo</td><td>Monaco</td><td>Monaco Grand Prix</td><td>3</td></tr><tr><td>Circuit de Monaco</td><td>Monte-Carlo</td><td>Monaco</td><td>Monaco Grand Prix</td><td>3</td></tr><tr><td>Circuit de Monaco</td><td>Monte-Carlo</td><td>Monaco</td><td>Monaco Grand Prix</td><td>4</td></tr><tr><td>Circuit de Monaco</td><td>Monte-Carlo</td><td>Monaco</td><td>Monaco Grand Prix</td><td>4</td></tr><tr><td>Circuit de Monaco</td><td>Monte-Carlo</td><td>Monaco</td><td>Monaco Grand Prix</td><td>4</td></tr><tr><td>Circuit de Monaco</td><td>Monte-Carlo</td><td>Monaco</td><td>Monaco Grand Prix</td><td>6</td></tr><tr><td>Circuit de Monaco</td><td>Monte-Carlo</td><td>Monaco</td><td>Monaco Grand Prix</td><td>5</td></tr><tr><td>Circuit de Monaco</td><td>Monte-Carlo</td><td>Monaco</td><td>Monaco Grand Prix</td><td>6</td></tr><tr><td>Circuit de Monaco</td><td>Monte-Carlo</td><td>Monaco</td><td>Monaco Grand Prix</td><td>6</td></tr><tr><td>Circuit de Monaco</td><td>Monte-Carlo</td><td>Monaco</td><td>Monaco Grand Prix</td><td>6</td></tr><tr><td>Circuit de Monaco</td><td>Monte-Carlo</td><td>Monaco</td><td>Monaco Grand Prix</td><td>7</td></tr><tr><td>Circuit de Monaco</td><td>Monte-Carlo</td><td>Monaco</td><td>Monaco Grand Prix</td><td>5</td></tr><tr><td>Circuit de Monaco</td><td>Monte-Carlo</td><td>Monaco</td><td>Monaco Grand Prix</td><td>6</td></tr><tr><td>Circuit de Monaco</td><td>Monte-Carlo</td><td>Monaco</td><td>Monaco Grand Prix</td><td>6</td></tr><tr><td>Circuit de Monaco</td><td>Monte-Carlo</td><td>Monaco</td><td>Monaco Grand Prix</td><td>5</td></tr><tr><td>Circuit de Monaco</td><td>Monte-Carlo</td><td>Monaco</td><td>Monaco Grand Prix</td><td>6</td></tr><tr><td>Circuit de Monaco</td><td>Monte-Carlo</td><td>Monaco</td><td>Monaco Grand Prix</td><td>6</td></tr><tr><td>Circuit de Monaco</td><td>Monte-Carlo</td><td>Monaco</td><td>Monaco Grand Prix</td><td>4</td></tr><tr><td>Circuit de Monaco</td><td>Monte-Carlo</td><td>Monaco</td><td>Monaco Grand Prix</td><td>3</td></tr><tr><td>Circuit de Monaco</td><td>Monte-Carlo</td><td>Monaco</td><td>Monaco Grand Prix</td><td>3</td></tr><tr><td>Circuit de Monaco</td><td>Monte-Carlo</td><td>Monaco</td><td>Monaco Grand Prix</td><td>3</td></tr><tr><td>Circuit de Monaco</td><td>Monte-Carlo</td><td>Monaco</td><td>Monaco Grand Prix</td><td>3</td></tr><tr><td>Circuit de Monaco</td><td>Monte-Carlo</td><td>Monaco</td><td>Monaco Grand Prix</td><td>2</td></tr><tr><td>Circuit de Monaco</td><td>Monte-Carlo</td><td>Monaco</td><td>Monaco Grand Prix</td><td>1</td></tr><tr><td>Circuit de Monaco</td><td>Monte-Carlo</td><td>Monaco</td><td>Monaco Grand Prix</td><td>2</td></tr><tr><td>Circuit de Monaco</td><td>Monte-Carlo</td><td>Monaco</td><td>Monaco Grand Prix</td><td>1</td></tr><tr><td>Circuit de Monaco</td><td>Monte-Carlo</td><td>Monaco</td><td>Monaco Grand Prix</td><td>1</td></tr><tr><td>Circuit de Monaco</td><td>Monte-Carlo</td><td>Monaco</td><td>Monaco Grand Prix</td><td>2</td></tr><tr><td>Circuit de Monaco</td><td>Monte-Carlo</td><td>Monaco</td><td>Monaco Grand Prix</td><td>1</td></tr><tr><td>Circuit de Monaco</td><td>Monte-Carlo</td><td>Monaco</td><td>Monaco Grand Prix</td><td>2</td></tr><tr><td>Circuit de Monaco</td><td>Monte-Carlo</td><td>Monaco</td><td>Monaco Grand Prix</td><td>1</td></tr><tr><td>Circuit de Monaco</td><td>Monte-Carlo</td><td>Monaco</td><td>Monaco Grand Prix</td><td>2</td></tr><tr><td>Circuit de Monaco</td><td>Monte-Carlo</td><td>Monaco</td><td>Monaco Grand Prix</td><td>2</td></tr><tr><td>Circuit de Monaco</td><td>Monte-Carlo</td><td>Monaco</td><td>Monaco Grand Prix</td><td>2</td></tr><tr><td>Circuit de Monaco</td><td>Monte-Carlo</td><td>Monaco</td><td>Monaco Grand Prix</td><td>2</td></tr><tr><td>Circuit de Monaco</td><td>Monte-Carlo</td><td>Monaco</td><td>Monaco Grand Prix</td><td>2</td></tr><tr><td>Circuit de Monaco</td><td>Monte-Carlo</td><td>Monaco</td><td>Monaco Grand Prix</td><td>6</td></tr><tr><td>Circuit de Monaco</td><td>Monte-Carlo</td><td>Monaco</td><td>Monaco Grand Prix</td><td>6</td></tr><tr><td>Circuit de Monaco</td><td>Monte-Carlo</td><td>Monaco</td><td>Monaco Grand Prix</td><td>6</td></tr><tr><td>Circuit de Monaco</td><td>Monte-Carlo</td><td>Monaco</td><td>Monaco Grand Prix</td><td>6</td></tr><tr><td>Circuit de Monaco</td><td>Monte-Carlo</td><td>Monaco</td><td>Monaco Grand Prix</td><td>6</td></tr><tr><td>Circuit de Monaco</td><td>Monte-Carlo</td><td>Monaco</td><td>Monaco Grand Prix</td><td>6</td></tr><tr><td>Circuit de Monaco</td><td>Monte-Carlo</td><td>Monaco</td><td>Monaco Grand Prix</td><td>6</td></tr><tr><td>Circuit de Monaco</td><td>Monte-Carlo</td><td>Monaco</td><td>Monaco Grand Prix</td><td>6</td></tr><tr><td>Circuit de Monaco</td><td>Monte-Carlo</td><td>Monaco</td><td>Monaco Grand Prix</td><td>6</td></tr><tr><td>Circuit de Monaco</td><td>Monte-Carlo</td><td>Monaco</td><td>Monaco Grand Prix</td><td>5</td></tr><tr><td>Circuit Gilles Villeneuve</td><td>Montreal</td><td>Canada</td><td>Canadian Grand Prix</td><td>7</td></tr><tr><td>Circuit Gilles Villeneuve</td><td>Montreal</td><td>Canada</td><td>Canadian Grand Prix</td><td>6</td></tr><tr><td>Circuit Gilles Villeneuve</td><td>Montreal</td><td>Canada</td><td>Canadian Grand Prix</td><td>9</td></tr><tr><td>Circuit Gilles Villeneuve</td><td>Montreal</td><td>Canada</td><td>Canadian Grand Prix</td><td>8</td></tr><tr><td>Circuit Gilles Villeneuve</td><td>Montreal</td><td>Canada</td><td>Canadian Grand Prix</td><td>8</td></tr><tr><td>Circuit Gilles Villeneuve</td><td>Montreal</td><td>Canada</td><td>Canadian Grand Prix</td><td>8</td></tr><tr><td>Circuit Gilles Villeneuve</td><td>Montreal</td><td>Canada</td><td>Canadian Grand Prix</td><td>8</td></tr><tr><td>Circuit Gilles Villeneuve</td><td>Montreal</td><td>Canada</td><td>Canadian Grand Prix</td><td>8</td></tr><tr><td>Circuit Gilles Villeneuve</td><td>Montreal</td><td>Canada</td><td>Canadian Grand Prix</td><td>8</td></tr><tr><td>Circuit Gilles Villeneuve</td><td>Montreal</td><td>Canada</td><td>Canadian Grand Prix</td><td>6</td></tr><tr><td>Circuit Gilles Villeneuve</td><td>Montreal</td><td>Canada</td><td>Canadian Grand Prix</td><td>7</td></tr><tr><td>Circuit Gilles Villeneuve</td><td>Montreal</td><td>Canada</td><td>Canadian Grand Prix</td><td>7</td></tr><tr><td>Circuit Gilles Villeneuve</td><td>Montreal</td><td>Canada</td><td>Canadian Grand Prix</td><td>8</td></tr><tr><td>Circuit Gilles Villeneuve</td><td>Montreal</td><td>Canada</td><td>Canadian Grand Prix</td><td>6</td></tr><tr><td>Circuit Gilles Villeneuve</td><td>Montreal</td><td>Canada</td><td>Canadian Grand Prix</td><td>6</td></tr><tr><td>Circuit Gilles Villeneuve</td><td>Montreal</td><td>Canada</td><td>Canadian Grand Prix</td><td>7</td></tr><tr><td>Circuit Gilles Villeneuve</td><td>Montreal</td><td>Canada</td><td>Canadian Grand Prix</td><td>7</td></tr><tr><td>Circuit Gilles Villeneuve</td><td>Montreal</td><td>Canada</td><td>Canadian Grand Prix</td><td>5</td></tr><tr><td>Circuit Gilles Villeneuve</td><td>Montreal</td><td>Canada</td><td>Canadian Grand Prix</td><td>5</td></tr><tr><td>Circuit Gilles Villeneuve</td><td>Montreal</td><td>Canada</td><td>Canadian Grand Prix</td><td>8</td></tr><tr><td>Circuit Gilles Villeneuve</td><td>Montreal</td><td>Canada</td><td>Canadian Grand Prix</td><td>6</td></tr><tr><td>Circuit Gilles Villeneuve</td><td>Montreal</td><td>Canada</td><td>Canadian Grand Prix</td><td>5</td></tr><tr><td>Circuit Gilles Villeneuve</td><td>Montreal</td><td>Canada</td><td>Canadian Grand Prix</td><td>6</td></tr><tr><td>Circuit Gilles Villeneuve</td><td>Montreal</td><td>Canada</td><td>Canadian Grand Prix</td><td>5</td></tr><tr><td>Circuit Gilles Villeneuve</td><td>Montreal</td><td>Canada</td><td>Canadian Grand Prix</td><td>7</td></tr><tr><td>Circuit Gilles Villeneuve</td><td>Montreal</td><td>Canada</td><td>Canadian Grand Prix</td><td>8</td></tr><tr><td>Circuit Gilles Villeneuve</td><td>Montreal</td><td>Canada</td><td>Canadian Grand Prix</td><td>8</td></tr><tr><td>Circuit Gilles Villeneuve</td><td>Montreal</td><td>Canada</td><td>Canadian Grand Prix</td><td>14</td></tr><tr><td>Circuit Gilles Villeneuve</td><td>Montreal</td><td>Canada</td><td>Canadian Grand Prix</td><td>13</td></tr><tr><td>Circuit Gilles Villeneuve</td><td>Montreal</td><td>Canada</td><td>Canadian Grand Prix</td><td>14</td></tr><tr><td>Circuit Gilles Villeneuve</td><td>Montreal</td><td>Canada</td><td>Canadian Grand Prix</td><td>16</td></tr><tr><td>Circuit Gilles Villeneuve</td><td>Montreal</td><td>Canada</td><td>Canadian Grand Prix</td><td>7</td></tr><tr><td>Circuit Gilles Villeneuve</td><td>Montreal</td><td>Canada</td><td>Canadian Grand Prix</td><td>7</td></tr><tr><td>Circuit Gilles Villeneuve</td><td>Montreal</td><td>Canada</td><td>Canadian Grand Prix</td><td>7</td></tr><tr><td>Circuit Gilles Villeneuve</td><td>Montreal</td><td>Canada</td><td>Canadian Grand Prix</td><td>7</td></tr><tr><td>Circuit Gilles Villeneuve</td><td>Montreal</td><td>Canada</td><td>Canadian Grand Prix</td><td>7</td></tr><tr><td>Circuit Gilles Villeneuve</td><td>Montreal</td><td>Canada</td><td>Canadian Grand Prix</td><td>7</td></tr><tr><td>Circuit Gilles Villeneuve</td><td>Montreal</td><td>Canada</td><td>Canadian Grand Prix</td><td>7</td></tr><tr><td>Circuit Gilles Villeneuve</td><td>Montreal</td><td>Canada</td><td>Canadian Grand Prix</td><td>7</td></tr><tr><td>Circuit Gilles Villeneuve</td><td>Montreal</td><td>Canada</td><td>Canadian Grand Prix</td><td>7</td></tr><tr><td>Circuit Gilles Villeneuve</td><td>Montreal</td><td>Canada</td><td>Canadian Grand Prix</td><td>7</td></tr><tr><td>Circuit de Nevers Magny-Cours</td><td>Magny Cours</td><td>France</td><td>French Grand Prix</td><td>8</td></tr><tr><td>Circuit de Nevers Magny-Cours</td><td>Magny Cours</td><td>France</td><td>French Grand Prix</td><td>8</td></tr><tr><td>Circuit de Nevers Magny-Cours</td><td>Magny Cours</td><td>France</td><td>French Grand Prix</td><td>11</td></tr><tr><td>Circuit de Nevers Magny-Cours</td><td>Magny Cours</td><td>France</td><td>French Grand Prix</td><td>10</td></tr><tr><td>Circuit de Nevers Magny-Cours</td><td>Magny Cours</td><td>France</td><td>French Grand Prix</td><td>10</td></tr><tr><td>Circuit de Nevers Magny-Cours</td><td>Magny Cours</td><td>France</td><td>French Grand Prix</td><td>10</td></tr><tr><td>Circuit de Nevers Magny-Cours</td><td>Magny Cours</td><td>France</td><td>French Grand Prix</td><td>11</td></tr><tr><td>Circuit de Nevers Magny-Cours</td><td>Magny Cours</td><td>France</td><td>French Grand Prix</td><td>10</td></tr><tr><td>Circuit de Nevers Magny-Cours</td><td>Magny Cours</td><td>France</td><td>French Grand Prix</td><td>9</td></tr><tr><td>Circuit de Nevers Magny-Cours</td><td>Magny Cours</td><td>France</td><td>French Grand Prix</td><td>7</td></tr><tr><td>Circuit de Nevers Magny-Cours</td><td>Magny Cours</td><td>France</td><td>French Grand Prix</td><td>8</td></tr><tr><td>Circuit de Nevers Magny-Cours</td><td>Magny Cours</td><td>France</td><td>French Grand Prix</td><td>8</td></tr><tr><td>Circuit de Nevers Magny-Cours</td><td>Magny Cours</td><td>France</td><td>French Grand Prix</td><td>9</td></tr><tr><td>Circuit de Nevers Magny-Cours</td><td>Magny Cours</td><td>France</td><td>French Grand Prix</td><td>7</td></tr><tr><td>Circuit de Nevers Magny-Cours</td><td>Magny Cours</td><td>France</td><td>French Grand Prix</td><td>7</td></tr><tr><td>Circuit de Nevers Magny-Cours</td><td>Magny Cours</td><td>France</td><td>French Grand Prix</td><td>8</td></tr><tr><td>Circuit de Nevers Magny-Cours</td><td>Magny Cours</td><td>France</td><td>French Grand Prix</td><td>8</td></tr><tr><td>Circuit de Nevers Magny-Cours</td><td>Magny Cours</td><td>France</td><td>French Grand Prix</td><td>7</td></tr><tr><td>Silverstone Circuit</td><td>Silverstone</td><td>UK</td><td>British Grand Prix</td><td>8</td></tr><tr><td>Silverstone Circuit</td><td>Silverstone</td><td>UK</td><td>British Grand Prix</td><td>9</td></tr><tr><td>Silverstone Circuit</td><td>Silverstone</td><td>UK</td><td>British Grand Prix</td><td>9</td></tr><tr><td>Silverstone Circuit</td><td>Silverstone</td><td>UK</td><td>British Grand Prix</td><td>8</td></tr><tr><td>Silverstone Circuit</td><td>Silverstone</td><td>UK</td><td>British Grand Prix</td><td>11</td></tr><tr><td>Silverstone Circuit</td><td>Silverstone</td><td>UK</td><td>British Grand Prix</td><td>11</td></tr><tr><td>Silverstone Circuit</td><td>Silverstone</td><td>UK</td><td>British Grand Prix</td><td>11</td></tr><tr><td>Silverstone Circuit</td><td>Silverstone</td><td>UK</td><td>British Grand Prix</td><td>10</td></tr><tr><td>Silverstone Circuit</td><td>Silverstone</td><td>UK</td><td>British Grand Prix</td><td>11</td></tr><tr><td>Silverstone Circuit</td><td>Silverstone</td><td>UK</td><td>British Grand Prix</td><td>4</td></tr><tr><td>Silverstone Circuit</td><td>Silverstone</td><td>UK</td><td>British Grand Prix</td><td>8</td></tr><tr><td>Silverstone Circuit</td><td>Silverstone</td><td>UK</td><td>British Grand Prix</td><td>9</td></tr><tr><td>Silverstone Circuit</td><td>Silverstone</td><td>UK</td><td>British Grand Prix</td><td>9</td></tr><tr><td>Silverstone Circuit</td><td>Silverstone</td><td>UK</td><td>British Grand Prix</td><td>10</td></tr><tr><td>Silverstone Circuit</td><td>Silverstone</td><td>UK</td><td>British Grand Prix</td><td>8</td></tr><tr><td>Silverstone Circuit</td><td>Silverstone</td><td>UK</td><td>British Grand Prix</td><td>8</td></tr><tr><td>Silverstone Circuit</td><td>Silverstone</td><td>UK</td><td>British Grand Prix</td><td>9</td></tr><tr><td>Silverstone Circuit</td><td>Silverstone</td><td>UK</td><td>British Grand Prix</td><td>9</td></tr><tr><td>Silverstone Circuit</td><td>Silverstone</td><td>UK</td><td>British Grand Prix</td><td>8</td></tr><tr><td>Silverstone Circuit</td><td>Silverstone</td><td>UK</td><td>British Grand Prix</td><td>8</td></tr><tr><td>Silverstone Circuit</td><td>Silverstone</td><td>UK</td><td>British Grand Prix</td><td>10</td></tr><tr><td>Silverstone Circuit</td><td>Silverstone</td><td>UK</td><td>British Grand Prix</td><td>8</td></tr><tr><td>Silverstone Circuit</td><td>Silverstone</td><td>UK</td><td>British Grand Prix</td><td>8</td></tr><tr><td>Silverstone Circuit</td><td>Silverstone</td><td>UK</td><td>British Grand Prix</td><td>7</td></tr><tr><td>Silverstone Circuit</td><td>Silverstone</td><td>UK</td><td>British Grand Prix</td><td>8</td></tr><tr><td>Silverstone Circuit</td><td>Silverstone</td><td>UK</td><td>British Grand Prix</td><td>9</td></tr><tr><td>Silverstone Circuit</td><td>Silverstone</td><td>UK</td><td>British Grand Prix</td><td>9</td></tr><tr><td>Silverstone Circuit</td><td>Silverstone</td><td>UK</td><td>British Grand Prix</td><td>9</td></tr><tr><td>Silverstone Circuit</td><td>Silverstone</td><td>UK</td><td>British Grand Prix</td><td>10</td></tr><tr><td>Silverstone Circuit</td><td>Silverstone</td><td>UK</td><td>British Grand Prix</td><td>10</td></tr><tr><td>Silverstone Circuit</td><td>Silverstone</td><td>UK</td><td>British Grand Prix</td><td>9</td></tr><tr><td>Silverstone Circuit</td><td>Silverstone</td><td>UK</td><td>British Grand Prix</td><td>6</td></tr><tr><td>Silverstone Circuit</td><td>Silverstone</td><td>UK</td><td>British Grand Prix</td><td>6</td></tr><tr><td>Silverstone Circuit</td><td>Silverstone</td><td>UK</td><td>British Grand Prix</td><td>6</td></tr><tr><td>Silverstone Circuit</td><td>Silverstone</td><td>UK</td><td>British Grand Prix</td><td>5</td></tr><tr><td>Silverstone Circuit</td><td>Silverstone</td><td>UK</td><td>British Grand Prix</td><td>5</td></tr><tr><td>Silverstone Circuit</td><td>Silverstone</td><td>UK</td><td>British Grand Prix</td><td>7</td></tr><tr><td>Silverstone Circuit</td><td>Silverstone</td><td>UK</td><td>British Grand Prix</td><td>7</td></tr><tr><td>Silverstone Circuit</td><td>Silverstone</td><td>UK</td><td>British Grand Prix</td><td>6</td></tr><tr><td>Silverstone Circuit</td><td>Silverstone</td><td>UK</td><td>British Grand Prix</td><td>5</td></tr><tr><td>Silverstone Circuit</td><td>Silverstone</td><td>UK</td><td>British Grand Prix</td><td>6</td></tr><tr><td>Silverstone Circuit</td><td>Silverstone</td><td>UK</td><td>British Grand Prix</td><td>5</td></tr><tr><td>Silverstone Circuit</td><td>Silverstone</td><td>UK</td><td>British Grand Prix</td><td>5</td></tr><tr><td>Silverstone Circuit</td><td>Silverstone</td><td>UK</td><td>British Grand Prix</td><td>1</td></tr><tr><td>Silverstone Circuit</td><td>Silverstone</td><td>UK</td><td>British Grand Prix</td><td>9</td></tr><tr><td>Silverstone Circuit</td><td>Silverstone</td><td>UK</td><td>British Grand Prix</td><td>9</td></tr><tr><td>Silverstone Circuit</td><td>Silverstone</td><td>UK</td><td>British Grand Prix</td><td>8</td></tr><tr><td>Silverstone Circuit</td><td>Silverstone</td><td>UK</td><td>British Grand Prix</td><td>9</td></tr><tr><td>Silverstone Circuit</td><td>Silverstone</td><td>UK</td><td>British Grand Prix</td><td>9</td></tr><tr><td>Silverstone Circuit</td><td>Silverstone</td><td>UK</td><td>British Grand Prix</td><td>10</td></tr><tr><td>Silverstone Circuit</td><td>Silverstone</td><td>UK</td><td>British Grand Prix</td><td>10</td></tr><tr><td>Silverstone Circuit</td><td>Silverstone</td><td>UK</td><td>British Grand Prix</td><td>10</td></tr><tr><td>Silverstone Circuit</td><td>Silverstone</td><td>UK</td><td>British Grand Prix</td><td>10</td></tr><tr><td>Silverstone Circuit</td><td>Silverstone</td><td>UK</td><td>British Grand Prix</td><td>4</td></tr><tr><td>Silverstone Circuit</td><td>Silverstone</td><td>UK</td><td>70th Anniversary Grand Prix</td><td>5</td></tr><tr><td>Silverstone Circuit</td><td>Silverstone</td><td>UK</td><td>British Grand Prix</td><td>10</td></tr><tr><td>Hockenheimring</td><td>Hockenheim</td><td>Germany</td><td>German Grand Prix</td><td>10</td></tr><tr><td>Hockenheimring</td><td>Hockenheim</td><td>Germany</td><td>German Grand Prix</td><td>12</td></tr><tr><td>Hockenheimring</td><td>Hockenheim</td><td>Germany</td><td>German Grand Prix</td><td>12</td></tr><tr><td>Hockenheimring</td><td>Hockenheim</td><td>Germany</td><td>German Grand Prix</td><td>12</td></tr><tr><td>Hockenheimring</td><td>Hockenheim</td><td>Germany</td><td>German Grand Prix</td><td>12</td></tr><tr><td>Hockenheimring</td><td>Hockenheim</td><td>Germany</td><td>German Grand Prix</td><td>12</td></tr><tr><td>Hockenheimring</td><td>Hockenheim</td><td>Germany</td><td>German Grand Prix</td><td>12</td></tr><tr><td>Hockenheimring</td><td>Hockenheim</td><td>Germany</td><td>German Grand Prix</td><td>11</td></tr><tr><td>Hockenheimring</td><td>Hockenheim</td><td>Germany</td><td>German Grand Prix</td><td>10</td></tr><tr><td>Hockenheimring</td><td>Hockenheim</td><td>Germany</td><td>German Grand Prix</td><td>11</td></tr><tr><td>Hockenheimring</td><td>Hockenheim</td><td>Germany</td><td>German Grand Prix</td><td>10</td></tr><tr><td>Hockenheimring</td><td>Hockenheim</td><td>Germany</td><td>German Grand Prix</td><td>11</td></tr><tr><td>Hockenheimring</td><td>Hockenheim</td><td>Germany</td><td>German Grand Prix</td><td>9</td></tr><tr><td>Hockenheimring</td><td>Hockenheim</td><td>Germany</td><td>German Grand Prix</td><td>9</td></tr><tr><td>Hockenheimring</td><td>Hockenheim</td><td>Germany</td><td>German Grand Prix</td><td>10</td></tr><tr><td>Hockenheimring</td><td>Hockenheim</td><td>Germany</td><td>German Grand Prix</td><td>10</td></tr><tr><td>Hockenheimring</td><td>Hockenheim</td><td>Germany</td><td>German Grand Prix</td><td>9</td></tr><tr><td>Hockenheimring</td><td>Hockenheim</td><td>Germany</td><td>German Grand Prix</td><td>9</td></tr><tr><td>Hockenheimring</td><td>Hockenheim</td><td>Germany</td><td>German Grand Prix</td><td>11</td></tr><tr><td>Hockenheimring</td><td>Hockenheim</td><td>Germany</td><td>German Grand Prix</td><td>9</td></tr><tr><td>Hockenheimring</td><td>Hockenheim</td><td>Germany</td><td>German Grand Prix</td><td>9</td></tr><tr><td>Hockenheimring</td><td>Hockenheim</td><td>Germany</td><td>German Grand Prix</td><td>8</td></tr><tr><td>Hockenheimring</td><td>Hockenheim</td><td>Germany</td><td>German Grand Prix</td><td>10</td></tr><tr><td>Hockenheimring</td><td>Hockenheim</td><td>Germany</td><td>German Grand Prix</td><td>11</td></tr><tr><td>Hockenheimring</td><td>Hockenheim</td><td>Germany</td><td>German Grand Prix</td><td>10</td></tr><tr><td>Hockenheimring</td><td>Hockenheim</td><td>Germany</td><td>German Grand Prix</td><td>12</td></tr><tr><td>Hockenheimring</td><td>Hockenheim</td><td>Germany</td><td>German Grand Prix</td><td>10</td></tr><tr><td>Hockenheimring</td><td>Hockenheim</td><td>Germany</td><td>German Grand Prix</td><td>9</td></tr><tr><td>Hockenheimring</td><td>Hockenheim</td><td>Germany</td><td>German Grand Prix</td><td>10</td></tr><tr><td>Hockenheimring</td><td>Hockenheim</td><td>Germany</td><td>German Grand Prix</td><td>11</td></tr><tr><td>Hockenheimring</td><td>Hockenheim</td><td>Germany</td><td>German Grand Prix</td><td>11</td></tr><tr><td>Hockenheimring</td><td>Hockenheim</td><td>Germany</td><td>German Grand Prix</td><td>8</td></tr><tr><td>Hockenheimring</td><td>Hockenheim</td><td>Germany</td><td>German Grand Prix</td><td>10</td></tr><tr><td>Hockenheimring</td><td>Hockenheim</td><td>Germany</td><td>German Grand Prix</td><td>10</td></tr><tr><td>Hockenheimring</td><td>Hockenheim</td><td>Germany</td><td>German Grand Prix</td><td>12</td></tr><tr><td>Hockenheimring</td><td>Hockenheim</td><td>Germany</td><td>German Grand Prix</td><td>11</td></tr><tr><td>Hockenheimring</td><td>Hockenheim</td><td>Germany</td><td>German Grand Prix</td><td>11</td></tr><tr><td>Hungaroring</td><td>Budapest</td><td>Hungary</td><td>Hungarian Grand Prix</td><td>10</td></tr><tr><td>Hungaroring</td><td>Budapest</td><td>Hungary</td><td>Hungarian Grand Prix</td><td>11</td></tr><tr><td>Hungaroring</td><td>Budapest</td><td>Hungary</td><td>Hungarian Grand Prix</td><td>11</td></tr><tr><td>Hungaroring</td><td>Budapest</td><td>Hungary</td><td>Hungarian Grand Prix</td><td>13</td></tr><tr><td>Hungaroring</td><td>Budapest</td><td>Hungary</td><td>Hungarian Grand Prix</td><td>13</td></tr><tr><td>Hungaroring</td><td>Budapest</td><td>Hungary</td><td>Hungarian Grand Prix</td><td>13</td></tr><tr><td>Hungaroring</td><td>Budapest</td><td>Hungary</td><td>Hungarian Grand Prix</td><td>13</td></tr><tr><td>Hungaroring</td><td>Budapest</td><td>Hungary</td><td>Hungarian Grand Prix</td><td>13</td></tr><tr><td>Hungaroring</td><td>Budapest</td><td>Hungary</td><td>Hungarian Grand Prix</td><td>13</td></tr><tr><td>Hungaroring</td><td>Budapest</td><td>Hungary</td><td>Hungarian Grand Prix</td><td>12</td></tr><tr><td>Hungaroring</td><td>Budapest</td><td>Hungary</td><td>Hungarian Grand Prix</td><td>11</td></tr><tr><td>Hungaroring</td><td>Budapest</td><td>Hungary</td><td>Hungarian Grand Prix</td><td>12</td></tr><tr><td>Hungaroring</td><td>Budapest</td><td>Hungary</td><td>Hungarian Grand Prix</td><td>11</td></tr><tr><td>Hungaroring</td><td>Budapest</td><td>Hungary</td><td>Hungarian Grand Prix</td><td>12</td></tr><tr><td>Hungaroring</td><td>Budapest</td><td>Hungary</td><td>Hungarian Grand Prix</td><td>10</td></tr><tr><td>Hungaroring</td><td>Budapest</td><td>Hungary</td><td>Hungarian Grand Prix</td><td>10</td></tr><tr><td>Hungaroring</td><td>Budapest</td><td>Hungary</td><td>Hungarian Grand Prix</td><td>11</td></tr><tr><td>Hungaroring</td><td>Budapest</td><td>Hungary</td><td>Hungarian Grand Prix</td><td>11</td></tr><tr><td>Hungaroring</td><td>Budapest</td><td>Hungary</td><td>Hungarian Grand Prix</td><td>10</td></tr><tr><td>Hungaroring</td><td>Budapest</td><td>Hungary</td><td>Hungarian Grand Prix</td><td>10</td></tr><tr><td>Hungaroring</td><td>Budapest</td><td>Hungary</td><td>Hungarian Grand Prix</td><td>12</td></tr><tr><td>Hungaroring</td><td>Budapest</td><td>Hungary</td><td>Hungarian Grand Prix</td><td>10</td></tr><tr><td>Hungaroring</td><td>Budapest</td><td>Hungary</td><td>Hungarian Grand Prix</td><td>10</td></tr><tr><td>Hungaroring</td><td>Budapest</td><td>Hungary</td><td>Hungarian Grand Prix</td><td>9</td></tr><tr><td>Hungaroring</td><td>Budapest</td><td>Hungary</td><td>Hungarian Grand Prix</td><td>11</td></tr><tr><td>Hungaroring</td><td>Budapest</td><td>Hungary</td><td>Hungarian Grand Prix</td><td>11</td></tr><tr><td>Hungaroring</td><td>Budapest</td><td>Hungary</td><td>Hungarian Grand Prix</td><td>11</td></tr><tr><td>Hungaroring</td><td>Budapest</td><td>Hungary</td><td>Hungarian Grand Prix</td><td>10</td></tr><tr><td>Hungaroring</td><td>Budapest</td><td>Hungary</td><td>Hungarian Grand Prix</td><td>11</td></tr><tr><td>Hungaroring</td><td>Budapest</td><td>Hungary</td><td>Hungarian Grand Prix</td><td>10</td></tr><tr><td>Hungaroring</td><td>Budapest</td><td>Hungary</td><td>Hungarian Grand Prix</td><td>11</td></tr><tr><td>Hungaroring</td><td>Budapest</td><td>Hungary</td><td>Hungarian Grand Prix</td><td>11</td></tr><tr><td>Hungaroring</td><td>Budapest</td><td>Hungary</td><td>Hungarian Grand Prix</td><td>12</td></tr><tr><td>Hungaroring</td><td>Budapest</td><td>Hungary</td><td>Hungarian Grand Prix</td><td>12</td></tr><tr><td>Hungaroring</td><td>Budapest</td><td>Hungary</td><td>Hungarian Grand Prix</td><td>3</td></tr><tr><td>Hungaroring</td><td>Budapest</td><td>Hungary</td><td>Hungarian Grand Prix</td><td>11</td></tr><tr><td>Valencia Street Circuit</td><td>Valencia</td><td>Spain</td><td>European Grand Prix</td><td>11</td></tr><tr><td>Valencia Street Circuit</td><td>Valencia</td><td>Spain</td><td>European Grand Prix</td><td>12</td></tr><tr><td>Valencia Street Circuit</td><td>Valencia</td><td>Spain</td><td>European Grand Prix</td><td>9</td></tr><tr><td>Valencia Street Circuit</td><td>Valencia</td><td>Spain</td><td>European Grand Prix</td><td>8</td></tr><tr><td>Valencia Street Circuit</td><td>Valencia</td><td>Spain</td><td>European Grand Prix</td><td>8</td></tr><tr><td>Circuit de Spa-Francorchamps</td><td>Spa</td><td>Belgium</td><td>Belgian Grand Prix</td><td>12</td></tr><tr><td>Circuit de Spa-Francorchamps</td><td>Spa</td><td>Belgium</td><td>Belgian Grand Prix</td><td>13</td></tr><tr><td>Circuit de Spa-Francorchamps</td><td>Spa</td><td>Belgium</td><td>Belgian Grand Prix</td><td>14</td></tr><tr><td>Circuit de Spa-Francorchamps</td><td>Spa</td><td>Belgium</td><td>Belgian Grand Prix</td><td>16</td></tr><tr><td>Circuit de Spa-Francorchamps</td><td>Spa</td><td>Belgium</td><td>Belgian Grand Prix</td><td>14</td></tr><tr><td>Circuit de Spa-Francorchamps</td><td>Spa</td><td>Belgium</td><td>Belgian Grand Prix</td><td>14</td></tr><tr><td>Circuit de Spa-Francorchamps</td><td>Spa</td><td>Belgium</td><td>Belgian Grand Prix</td><td>14</td></tr><tr><td>Circuit de Spa-Francorchamps</td><td>Spa</td><td>Belgium</td><td>Belgian Grand Prix</td><td>13</td></tr><tr><td>Circuit de Spa-Francorchamps</td><td>Spa</td><td>Belgium</td><td>Belgian Grand Prix</td><td>12</td></tr><tr><td>Circuit de Spa-Francorchamps</td><td>Spa</td><td>Belgium</td><td>Belgian Grand Prix</td><td>13</td></tr><tr><td>Circuit de Spa-Francorchamps</td><td>Spa</td><td>Belgium</td><td>Belgian Grand Prix</td><td>12</td></tr><tr><td>Circuit de Spa-Francorchamps</td><td>Spa</td><td>Belgium</td><td>Belgian Grand Prix</td><td>13</td></tr><tr><td>Circuit de Spa-Francorchamps</td><td>Spa</td><td>Belgium</td><td>Belgian Grand Prix</td><td>11</td></tr><tr><td>Circuit de Spa-Francorchamps</td><td>Spa</td><td>Belgium</td><td>Belgian Grand Prix</td><td>11</td></tr><tr><td>Circuit de Spa-Francorchamps</td><td>Spa</td><td>Belgium</td><td>Belgian Grand Prix</td><td>12</td></tr><tr><td>Circuit de Spa-Francorchamps</td><td>Spa</td><td>Belgium</td><td>Belgian Grand Prix</td><td>12</td></tr><tr><td>Circuit de Spa-Francorchamps</td><td>Spa</td><td>Belgium</td><td>Belgian Grand Prix</td><td>11</td></tr><tr><td>Circuit de Spa-Francorchamps</td><td>Spa</td><td>Belgium</td><td>Belgian Grand Prix</td><td>11</td></tr><tr><td>Circuit de Spa-Francorchamps</td><td>Spa</td><td>Belgium</td><td>Belgian Grand Prix</td><td>13</td></tr><tr><td>Circuit de Spa-Francorchamps</td><td>Spa</td><td>Belgium</td><td>Belgian Grand Prix</td><td>11</td></tr><tr><td>Circuit de Spa-Francorchamps</td><td>Spa</td><td>Belgium</td><td>Belgian Grand Prix</td><td>11</td></tr><tr><td>Circuit de Spa-Francorchamps</td><td>Spa</td><td>Belgium</td><td>Belgian Grand Prix</td><td>3</td></tr><tr><td>Circuit de Spa-Francorchamps</td><td>Spa</td><td>Belgium</td><td>Belgian Grand Prix</td><td>5</td></tr><tr><td>Circuit de Spa-Francorchamps</td><td>Spa</td><td>Belgium</td><td>Belgian Grand Prix</td><td>13</td></tr><tr><td>Circuit de Spa-Francorchamps</td><td>Spa</td><td>Belgium</td><td>Belgian Grand Prix</td><td>6</td></tr><tr><td>Circuit de Spa-Francorchamps</td><td>Spa</td><td>Belgium</td><td>Belgian Grand Prix</td><td>4</td></tr><tr><td>Circuit de Spa-Francorchamps</td><td>Spa</td><td>Belgium</td><td>Belgian Grand Prix</td><td>4</td></tr><tr><td>Circuit de Spa-Francorchamps</td><td>Spa</td><td>Belgium</td><td>Belgian Grand Prix</td><td>4</td></tr><tr><td>Circuit de Spa-Francorchamps</td><td>Spa</td><td>Belgium</td><td>Belgian Grand Prix</td><td>2</td></tr><tr><td>Circuit de Spa-Francorchamps</td><td>Spa</td><td>Belgium</td><td>Belgian Grand Prix</td><td>3</td></tr><tr><td>Circuit de Spa-Francorchamps</td><td>Spa</td><td>Belgium</td><td>Belgian Grand Prix</td><td>3</td></tr><tr><td>Circuit de Spa-Francorchamps</td><td>Spa</td><td>Belgium</td><td>Belgian Grand Prix</td><td>2</td></tr><tr><td>Circuit de Spa-Francorchamps</td><td>Spa</td><td>Belgium</td><td>Belgian Grand Prix</td><td>3</td></tr><tr><td>Circuit de Spa-Francorchamps</td><td>Spa</td><td>Belgium</td><td>Belgian Grand Prix</td><td>3</td></tr><tr><td>Circuit de Spa-Francorchamps</td><td>Spa</td><td>Belgium</td><td>Belgian Grand Prix</td><td>5</td></tr><tr><td>Circuit de Spa-Francorchamps</td><td>Spa</td><td>Belgium</td><td>Belgian Grand Prix</td><td>5</td></tr><tr><td>Circuit de Spa-Francorchamps</td><td>Spa</td><td>Belgium</td><td>Belgian Grand Prix</td><td>4</td></tr><tr><td>Circuit de Spa-Francorchamps</td><td>Spa</td><td>Belgium</td><td>Belgian Grand Prix</td><td>4</td></tr><tr><td>Circuit de Spa-Francorchamps</td><td>Spa</td><td>Belgium</td><td>Belgian Grand Prix</td><td>3</td></tr><tr><td>Circuit de Spa-Francorchamps</td><td>Spa</td><td>Belgium</td><td>Belgian Grand Prix</td><td>4</td></tr><tr><td>Circuit de Spa-Francorchamps</td><td>Spa</td><td>Belgium</td><td>Belgian Grand Prix</td><td>3</td></tr><tr><td>Circuit de Spa-Francorchamps</td><td>Spa</td><td>Belgium</td><td>Belgian Grand Prix</td><td>3</td></tr><tr><td>Circuit de Spa-Francorchamps</td><td>Spa</td><td>Belgium</td><td>Belgian Grand Prix</td><td>5</td></tr><tr><td>Circuit de Spa-Francorchamps</td><td>Spa</td><td>Belgium</td><td>Belgian Grand Prix</td><td>12</td></tr><tr><td>Circuit de Spa-Francorchamps</td><td>Spa</td><td>Belgium</td><td>Belgian Grand Prix</td><td>12</td></tr><tr><td>Circuit de Spa-Francorchamps</td><td>Spa</td><td>Belgium</td><td>Belgian Grand Prix</td><td>11</td></tr><tr><td>Circuit de Spa-Francorchamps</td><td>Spa</td><td>Belgium</td><td>Belgian Grand Prix</td><td>12</td></tr><tr><td>Circuit de Spa-Francorchamps</td><td>Spa</td><td>Belgium</td><td>Belgian Grand Prix</td><td>11</td></tr><tr><td>Circuit de Spa-Francorchamps</td><td>Spa</td><td>Belgium</td><td>Belgian Grand Prix</td><td>13</td></tr><tr><td>Circuit de Spa-Francorchamps</td><td>Spa</td><td>Belgium</td><td>Belgian Grand Prix</td><td>12</td></tr><tr><td>Circuit de Spa-Francorchamps</td><td>Spa</td><td>Belgium</td><td>Belgian Grand Prix</td><td>13</td></tr><tr><td>Circuit de Spa-Francorchamps</td><td>Spa</td><td>Belgium</td><td>Belgian Grand Prix</td><td>13</td></tr><tr><td>Circuit de Spa-Francorchamps</td><td>Spa</td><td>Belgium</td><td>Belgian Grand Prix</td><td>7</td></tr><tr><td>Circuit de Spa-Francorchamps</td><td>Spa</td><td>Belgium</td><td>Belgian Grand Prix</td><td>12</td></tr><tr><td>Autodromo Nazionale di Monza</td><td>Monza</td><td>Italy</td><td>Italian Grand Prix</td><td>13</td></tr><tr><td>Autodromo Nazionale di Monza</td><td>Monza</td><td>Italy</td><td>Italian Grand Prix</td><td>14</td></tr><tr><td>Autodromo Nazionale di Monza</td><td>Monza</td><td>Italy</td><td>Italian Grand Prix</td><td>13</td></tr><tr><td>Autodromo Nazionale di Monza</td><td>Monza</td><td>Italy</td><td>Italian Grand Prix</td><td>15</td></tr><tr><td>Autodromo Nazionale di Monza</td><td>Monza</td><td>Italy</td><td>Italian Grand Prix</td><td>15</td></tr><tr><td>Autodromo Nazionale di Monza</td><td>Monza</td><td>Italy</td><td>Italian Grand Prix</td><td>15</td></tr><tr><td>Autodromo Nazionale di Monza</td><td>Monza</td><td>Italy</td><td>Italian Grand Prix</td><td>14</td></tr><tr><td>Autodromo Nazionale di Monza</td><td>Monza</td><td>Italy</td><td>Italian Grand Prix</td><td>15</td></tr><tr><td>Autodromo Nazionale di Monza</td><td>Monza</td><td>Italy</td><td>Italian Grand Prix</td><td>15</td></tr><tr><td>Autodromo Nazionale di Monza</td><td>Monza</td><td>Italy</td><td>Italian Grand Prix</td><td>14</td></tr><tr><td>Autodromo Nazionale di Monza</td><td>Monza</td><td>Italy</td><td>Italian Grand Prix</td><td>13</td></tr><tr><td>Autodromo Nazionale di Monza</td><td>Monza</td><td>Italy</td><td>Italian Grand Prix</td><td>14</td></tr><tr><td>Autodromo Nazionale di Monza</td><td>Monza</td><td>Italy</td><td>Italian Grand Prix</td><td>13</td></tr><tr><td>Autodromo Nazionale di Monza</td><td>Monza</td><td>Italy</td><td>Italian Grand Prix</td><td>14</td></tr><tr><td>Autodromo Nazionale di Monza</td><td>Monza</td><td>Italy</td><td>Italian Grand Prix</td><td>12</td></tr><tr><td>Autodromo Nazionale di Monza</td><td>Monza</td><td>Italy</td><td>Italian Grand Prix</td><td>12</td></tr><tr><td>Autodromo Nazionale di Monza</td><td>Monza</td><td>Italy</td><td>Italian Grand Prix</td><td>13</td></tr><tr><td>Autodromo Nazionale di Monza</td><td>Monza</td><td>Italy</td><td>Italian Grand Prix</td><td>13</td></tr><tr><td>Autodromo Nazionale di Monza</td><td>Monza</td><td>Italy</td><td>Italian Grand Prix</td><td>12</td></tr><tr><td>Autodromo Nazionale di Monza</td><td>Monza</td><td>Italy</td><td>Italian Grand Prix</td><td>12</td></tr><tr><td>Autodromo Nazionale di Monza</td><td>Monza</td><td>Italy</td><td>Italian Grand Prix</td><td>14</td></tr><tr><td>Autodromo Nazionale di Monza</td><td>Monza</td><td>Italy</td><td>Italian Grand Prix</td><td>12</td></tr><tr><td>Autodromo Nazionale di Monza</td><td>Monza</td><td>Italy</td><td>Italian Grand Prix</td><td>12</td></tr><tr><td>Autodromo Nazionale di Monza</td><td>Monza</td><td>Italy</td><td>Italian Grand Prix</td><td>11</td></tr><tr><td>Autodromo Nazionale di Monza</td><td>Monza</td><td>Italy</td><td>Italian Grand Prix</td><td>13</td></tr><tr><td>Autodromo Nazionale di Monza</td><td>Monza</td><td>Italy</td><td>Italian Grand Prix</td><td>12</td></tr><tr><td>Autodromo Nazionale di Monza</td><td>Monza</td><td>Italy</td><td>Italian Grand Prix</td><td>14</td></tr><tr><td>Autodromo Nazionale di Monza</td><td>Monza</td><td>Italy</td><td>Italian Grand Prix</td><td>13</td></tr><tr><td>Autodromo Nazionale di Monza</td><td>Monza</td><td>Italy</td><td>Italian Grand Prix</td><td>15</td></tr><tr><td>Autodromo Nazionale di Monza</td><td>Monza</td><td>Italy</td><td>Italian Grand Prix</td><td>13</td></tr><tr><td>Autodromo Nazionale di Monza</td><td>Monza</td><td>Italy</td><td>Italian Grand Prix</td><td>13</td></tr><tr><td>Autodromo Nazionale di Monza</td><td>Monza</td><td>Italy</td><td>Italian Grand Prix</td><td>14</td></tr><tr><td>Autodromo Nazionale di Monza</td><td>Monza</td><td>Italy</td><td>Italian Grand Prix</td><td>14</td></tr><tr><td>Autodromo Nazionale di Monza</td><td>Monza</td><td>Italy</td><td>Italian Grand Prix</td><td>13</td></tr><tr><td>Autodromo Nazionale di Monza</td><td>Monza</td><td>Italy</td><td>Italian Grand Prix</td><td>13</td></tr><tr><td>Autodromo Nazionale di Monza</td><td>Monza</td><td>Italy</td><td>Italian Grand Prix</td><td>13</td></tr><tr><td>Autodromo Nazionale di Monza</td><td>Monza</td><td>Italy</td><td>Italian Grand Prix</td><td>13</td></tr><tr><td>Autodromo Nazionale di Monza</td><td>Monza</td><td>Italy</td><td>Italian Grand Prix</td><td>10</td></tr><tr><td>Autodromo Nazionale di Monza</td><td>Monza</td><td>Italy</td><td>Italian Grand Prix</td><td>9</td></tr><tr><td>Autodromo Nazionale di Monza</td><td>Monza</td><td>Italy</td><td>Italian Grand Prix</td><td>10</td></tr><tr><td>Autodromo Nazionale di Monza</td><td>Monza</td><td>Italy</td><td>Italian Grand Prix</td><td>8</td></tr><tr><td>Autodromo Nazionale di Monza</td><td>Monza</td><td>Italy</td><td>Italian Grand Prix</td><td>9</td></tr><tr><td>Autodromo Nazionale di Monza</td><td>Monza</td><td>Italy</td><td>Italian Grand Prix</td><td>9</td></tr><tr><td>Autodromo Nazionale di Monza</td><td>Monza</td><td>Italy</td><td>Italian Grand Prix</td><td>7</td></tr><tr><td>Autodromo Nazionale di Monza</td><td>Monza</td><td>Italy</td><td>Italian Grand Prix</td><td>8</td></tr><tr><td>Autodromo Nazionale di Monza</td><td>Monza</td><td>Italy</td><td>Italian Grand Prix</td><td>8</td></tr><tr><td>Autodromo Nazionale di Monza</td><td>Monza</td><td>Italy</td><td>Italian Grand Prix</td><td>7</td></tr><tr><td>Autodromo Nazionale di Monza</td><td>Monza</td><td>Italy</td><td>Italian Grand Prix</td><td>7</td></tr><tr><td>Autodromo Nazionale di Monza</td><td>Monza</td><td>Italy</td><td>Italian Grand Prix</td><td>7</td></tr><tr><td>Autodromo Nazionale di Monza</td><td>Monza</td><td>Italy</td><td>Italian Grand Prix</td><td>9</td></tr><tr><td>Autodromo Nazionale di Monza</td><td>Monza</td><td>Italy</td><td>Italian Grand Prix</td><td>8</td></tr><tr><td>Autodromo Nazionale di Monza</td><td>Monza</td><td>Italy</td><td>Italian Grand Prix</td><td>10</td></tr><tr><td>Autodromo Nazionale di Monza</td><td>Monza</td><td>Italy</td><td>Italian Grand Prix</td><td>8</td></tr><tr><td>Autodromo Nazionale di Monza</td><td>Monza</td><td>Italy</td><td>Italian Grand Prix</td><td>8</td></tr><tr><td>Autodromo Nazionale di Monza</td><td>Monza</td><td>Italy</td><td>Italian Grand Prix</td><td>7</td></tr><tr><td>Autodromo Nazionale di Monza</td><td>Monza</td><td>Italy</td><td>Italian Grand Prix</td><td>8</td></tr><tr><td>Autodromo Nazionale di Monza</td><td>Monza</td><td>Italy</td><td>Italian Grand Prix</td><td>9</td></tr><tr><td>Autodromo Nazionale di Monza</td><td>Monza</td><td>Italy</td><td>Italian Grand Prix</td><td>8</td></tr><tr><td>Autodromo Nazionale di Monza</td><td>Monza</td><td>Italy</td><td>Italian Grand Prix</td><td>7</td></tr><tr><td>Autodromo Nazionale di Monza</td><td>Monza</td><td>Italy</td><td>Italian Grand Prix</td><td>7</td></tr><tr><td>Autodromo Nazionale di Monza</td><td>Monza</td><td>Italy</td><td>Italian Grand Prix</td><td>13</td></tr><tr><td>Autodromo Nazionale di Monza</td><td>Monza</td><td>Italy</td><td>Italian Grand Prix</td><td>13</td></tr><tr><td>Autodromo Nazionale di Monza</td><td>Monza</td><td>Italy</td><td>Italian Grand Prix</td><td>12</td></tr><tr><td>Autodromo Nazionale di Monza</td><td>Monza</td><td>Italy</td><td>Italian Grand Prix</td><td>13</td></tr><tr><td>Autodromo Nazionale di Monza</td><td>Monza</td><td>Italy</td><td>Italian Grand Prix</td><td>12</td></tr><tr><td>Autodromo Nazionale di Monza</td><td>Monza</td><td>Italy</td><td>Italian Grand Prix</td><td>14</td></tr><tr><td>Autodromo Nazionale di Monza</td><td>Monza</td><td>Italy</td><td>Italian Grand Prix</td><td>13</td></tr><tr><td>Autodromo Nazionale di Monza</td><td>Monza</td><td>Italy</td><td>Italian Grand Prix</td><td>14</td></tr><tr><td>Autodromo Nazionale di Monza</td><td>Monza</td><td>Italy</td><td>Italian Grand Prix</td><td>14</td></tr><tr><td>Autodromo Nazionale di Monza</td><td>Monza</td><td>Italy</td><td>Italian Grand Prix</td><td>8</td></tr><tr><td>Autodromo Nazionale di Monza</td><td>Monza</td><td>Italy</td><td>Italian Grand Prix</td><td>14</td></tr><tr><td>Marina Bay Street Circuit</td><td>Marina Bay</td><td>Singapore</td><td>Singapore Grand Prix</td><td>14</td></tr><tr><td>Marina Bay Street Circuit</td><td>Marina Bay</td><td>Singapore</td><td>Singapore Grand Prix</td><td>15</td></tr><tr><td>Marina Bay Street Circuit</td><td>Marina Bay</td><td>Singapore</td><td>Singapore Grand Prix</td><td>15</td></tr><tr><td>Marina Bay Street Circuit</td><td>Marina Bay</td><td>Singapore</td><td>Singapore Grand Prix</td><td>14</td></tr><tr><td>Marina Bay Street Circuit</td><td>Marina Bay</td><td>Singapore</td><td>Singapore Grand Prix</td><td>14</td></tr><tr><td>Marina Bay Street Circuit</td><td>Marina Bay</td><td>Singapore</td><td>Singapore Grand Prix</td><td>13</td></tr><tr><td>Marina Bay Street Circuit</td><td>Marina Bay</td><td>Singapore</td><td>Singapore Grand Prix</td><td>14</td></tr><tr><td>Marina Bay Street Circuit</td><td>Marina Bay</td><td>Singapore</td><td>Singapore Grand Prix</td><td>13</td></tr><tr><td>Marina Bay Street Circuit</td><td>Marina Bay</td><td>Singapore</td><td>Singapore Grand Prix</td><td>15</td></tr><tr><td>Marina Bay Street Circuit</td><td>Marina Bay</td><td>Singapore</td><td>Singapore Grand Prix</td><td>14</td></tr><tr><td>Marina Bay Street Circuit</td><td>Marina Bay</td><td>Singapore</td><td>Singapore Grand Prix</td><td>15</td></tr><tr><td>Marina Bay Street Circuit</td><td>Marina Bay</td><td>Singapore</td><td>Singapore Grand Prix</td><td>15</td></tr><tr><td>Marina Bay Street Circuit</td><td>Marina Bay</td><td>Singapore</td><td>Singapore Grand Prix</td><td>16</td></tr><tr><td>Fuji Speedway</td><td>Oyama</td><td>Japan</td><td>Japanese Grand Prix</td><td>16</td></tr><tr><td>Fuji Speedway</td><td>Oyama</td><td>Japan</td><td>Japanese Grand Prix</td><td>15</td></tr><tr><td>Fuji Speedway</td><td>Oyama</td><td>Japan</td><td>Japanese Grand Prix</td><td>17</td></tr><tr><td>Fuji Speedway</td><td>Oyama</td><td>Japan</td><td>Japanese Grand Prix</td><td>16</td></tr><tr><td>Shanghai International Circuit</td><td>Shanghai</td><td>China</td><td>Chinese Grand Prix</td><td>3</td></tr><tr><td>Shanghai International Circuit</td><td>Shanghai</td><td>China</td><td>Chinese Grand Prix</td><td>17</td></tr><tr><td>Shanghai International Circuit</td><td>Shanghai</td><td>China</td><td>Chinese Grand Prix</td><td>16</td></tr><tr><td>Shanghai International Circuit</td><td>Shanghai</td><td>China</td><td>Chinese Grand Prix</td><td>16</td></tr><tr><td>Shanghai International Circuit</td><td>Shanghai</td><td>China</td><td>Chinese Grand Prix</td><td>19</td></tr><tr><td>Shanghai International Circuit</td><td>Shanghai</td><td>China</td><td>Chinese Grand Prix</td><td>16</td></tr><tr><td>Shanghai International Circuit</td><td>Shanghai</td><td>China</td><td>Chinese Grand Prix</td><td>4</td></tr><tr><td>Shanghai International Circuit</td><td>Shanghai</td><td>China</td><td>Chinese Grand Prix</td><td>3</td></tr><tr><td>Shanghai International Circuit</td><td>Shanghai</td><td>China</td><td>Chinese Grand Prix</td><td>3</td></tr><tr><td>Shanghai International Circuit</td><td>Shanghai</td><td>China</td><td>Chinese Grand Prix</td><td>3</td></tr><tr><td>Shanghai International Circuit</td><td>Shanghai</td><td>China</td><td>Chinese Grand Prix</td><td>4</td></tr><tr><td>Shanghai International Circuit</td><td>Shanghai</td><td>China</td><td>Chinese Grand Prix</td><td>3</td></tr><tr><td>Shanghai International Circuit</td><td>Shanghai</td><td>China</td><td>Chinese Grand Prix</td><td>3</td></tr><tr><td>Shanghai International Circuit</td><td>Shanghai</td><td>China</td><td>Chinese Grand Prix</td><td>2</td></tr><tr><td>Shanghai International Circuit</td><td>Shanghai</td><td>China</td><td>Chinese Grand Prix</td><td>3</td></tr><tr><td>Shanghai International Circuit</td><td>Shanghai</td><td>China</td><td>Chinese Grand Prix</td><td>3</td></tr><tr><td>Autódromo José Carlos Pace</td><td>São Paulo</td><td>Brazil</td><td>Brazilian Grand Prix</td><td>16</td></tr><tr><td>Autódromo José Carlos Pace</td><td>São Paulo</td><td>Brazil</td><td>Brazilian Grand Prix</td><td>18</td></tr><tr><td>Autódromo José Carlos Pace</td><td>São Paulo</td><td>Brazil</td><td>Brazilian Grand Prix</td><td>17</td></tr><tr><td>Autódromo José Carlos Pace</td><td>São Paulo</td><td>Brazil</td><td>Brazilian Grand Prix</td><td>18</td></tr><tr><td>Autódromo José Carlos Pace</td><td>São Paulo</td><td>Brazil</td><td>Brazilian Grand Prix</td><td>17</td></tr><tr><td>Autódromo José Carlos Pace</td><td>São Paulo</td><td>Brazil</td><td>Brazilian Grand Prix</td><td>18</td></tr><tr><td>Autódromo José Carlos Pace</td><td>São Paulo</td><td>Brazil</td><td>Brazilian Grand Prix</td><td>3</td></tr><tr><td>Autódromo José Carlos Pace</td><td>São Paulo</td><td>Brazil</td><td>Brazilian Grand Prix</td><td>3</td></tr><tr><td>Autódromo José Carlos Pace</td><td>São Paulo</td><td>Brazil</td><td>Brazilian Grand Prix</td><td>3</td></tr><tr><td>Autódromo José Carlos Pace</td><td>São Paulo</td><td>Brazil</td><td>Brazilian Grand Prix</td><td>2</td></tr><tr><td>Autódromo José Carlos Pace</td><td>São Paulo</td><td>Brazil</td><td>Brazilian Grand Prix</td><td>2</td></tr><tr><td>Autódromo José Carlos Pace</td><td>São Paulo</td><td>Brazil</td><td>Brazilian Grand Prix</td><td>2</td></tr><tr><td>Autódromo José Carlos Pace</td><td>São Paulo</td><td>Brazil</td><td>Brazilian Grand Prix</td><td>2</td></tr><tr><td>Autódromo José Carlos Pace</td><td>São Paulo</td><td>Brazil</td><td>Brazilian Grand Prix</td><td>2</td></tr><tr><td>Autódromo José Carlos Pace</td><td>São Paulo</td><td>Brazil</td><td>Brazilian Grand Prix</td><td>1</td></tr><tr><td>Autódromo José Carlos Pace</td><td>São Paulo</td><td>Brazil</td><td>Brazilian Grand Prix</td><td>1</td></tr><tr><td>Autódromo José Carlos Pace</td><td>São Paulo</td><td>Brazil</td><td>Brazilian Grand Prix</td><td>2</td></tr><tr><td>Autódromo José Carlos Pace</td><td>São Paulo</td><td>Brazil</td><td>Brazilian Grand Prix</td><td>3</td></tr><tr><td>Autódromo José Carlos Pace</td><td>São Paulo</td><td>Brazil</td><td>Brazilian Grand Prix</td><td>2</td></tr><tr><td>Autódromo José Carlos Pace</td><td>São Paulo</td><td>Brazil</td><td>Brazilian Grand Prix</td><td>2</td></tr><tr><td>Autódromo José Carlos Pace</td><td>São Paulo</td><td>Brazil</td><td>Brazilian Grand Prix</td><td>18</td></tr><tr><td>Autódromo José Carlos Pace</td><td>São Paulo</td><td>Brazil</td><td>Brazilian Grand Prix</td><td>2</td></tr><tr><td>Autódromo José Carlos Pace</td><td>São Paulo</td><td>Brazil</td><td>Brazilian Grand Prix</td><td>2</td></tr><tr><td>Autódromo José Carlos Pace</td><td>São Paulo</td><td>Brazil</td><td>Brazilian Grand Prix</td><td>2</td></tr><tr><td>Autódromo José Carlos Pace</td><td>São Paulo</td><td>Brazil</td><td>Brazilian Grand Prix</td><td>1</td></tr><tr><td>Autódromo José Carlos Pace</td><td>São Paulo</td><td>Brazil</td><td>Brazilian Grand Prix</td><td>2</td></tr><tr><td>Autódromo José Carlos Pace</td><td>São Paulo</td><td>Brazil</td><td>Brazilian Grand Prix</td><td>2</td></tr><tr><td>Autódromo José Carlos Pace</td><td>São Paulo</td><td>Brazil</td><td>Brazilian Grand Prix</td><td>2</td></tr><tr><td>Autódromo José Carlos Pace</td><td>São Paulo</td><td>Brazil</td><td>Brazilian Grand Prix</td><td>19</td></tr><tr><td>Autódromo José Carlos Pace</td><td>São Paulo</td><td>Brazil</td><td>Brazilian Grand Prix</td><td>20</td></tr><tr><td>Autódromo José Carlos Pace</td><td>São Paulo</td><td>Brazil</td><td>Brazilian Grand Prix</td><td>19</td></tr><tr><td>Autódromo José Carlos Pace</td><td>São Paulo</td><td>Brazil</td><td>Brazilian Grand Prix</td><td>18</td></tr><tr><td>Autódromo José Carlos Pace</td><td>São Paulo</td><td>Brazil</td><td>Brazilian Grand Prix</td><td>18</td></tr><tr><td>Autódromo José Carlos Pace</td><td>São Paulo</td><td>Brazil</td><td>Brazilian Grand Prix</td><td>20</td></tr><tr><td>Autódromo José Carlos Pace</td><td>São Paulo</td><td>Brazil</td><td>Brazilian Grand Prix</td><td>19</td></tr><tr><td>Autódromo José Carlos Pace</td><td>São Paulo</td><td>Brazil</td><td>Brazilian Grand Prix</td><td>20</td></tr><tr><td>Autódromo José Carlos Pace</td><td>São Paulo</td><td>Brazil</td><td>Brazilian Grand Prix</td><td>20</td></tr><tr><td>Autódromo José Carlos Pace</td><td>São Paulo</td><td>Brazil</td><td>Brazilian Grand Prix</td><td>20</td></tr><tr><td>Indianapolis Motor Speedway</td><td>Indianapolis</td><td>USA</td><td>United States Grand Prix</td><td>7</td></tr><tr><td>Indianapolis Motor Speedway</td><td>Indianapolis</td><td>USA</td><td>United States Grand Prix</td><td>10</td></tr><tr><td>Indianapolis Motor Speedway</td><td>Indianapolis</td><td>USA</td><td>United States Grand Prix</td><td>9</td></tr><tr><td>Indianapolis Motor Speedway</td><td>Indianapolis</td><td>USA</td><td>United States Grand Prix</td><td>9</td></tr><tr><td>Indianapolis Motor Speedway</td><td>Indianapolis</td><td>USA</td><td>United States Grand Prix</td><td>15</td></tr><tr><td>Indianapolis Motor Speedway</td><td>Indianapolis</td><td>USA</td><td>United States Grand Prix</td><td>16</td></tr><tr><td>Indianapolis Motor Speedway</td><td>Indianapolis</td><td>USA</td><td>United States Grand Prix</td><td>16</td></tr><tr><td>Indianapolis Motor Speedway</td><td>Indianapolis</td><td>USA</td><td>United States Grand Prix</td><td>15</td></tr><tr><td>Indianapolis Motor Speedway</td><td>Indianapolis</td><td>USA</td><td>Indianapolis 500</td><td>3</td></tr><tr><td>Indianapolis Motor Speedway</td><td>Indianapolis</td><td>USA</td><td>Indianapolis 500</td><td>2</td></tr><tr><td>Indianapolis Motor Speedway</td><td>Indianapolis</td><td>USA</td><td>Indianapolis 500</td><td>4</td></tr><tr><td>Indianapolis Motor Speedway</td><td>Indianapolis</td><td>USA</td><td>Indianapolis 500</td><td>3</td></tr><tr><td>Indianapolis Motor Speedway</td><td>Indianapolis</td><td>USA</td><td>Indianapolis 500</td><td>3</td></tr><tr><td>Indianapolis Motor Speedway</td><td>Indianapolis</td><td>USA</td><td>Indianapolis 500</td><td>3</td></tr><tr><td>Indianapolis Motor Speedway</td><td>Indianapolis</td><td>USA</td><td>Indianapolis 500</td><td>2</td></tr><tr><td>Indianapolis Motor Speedway</td><td>Indianapolis</td><td>USA</td><td>Indianapolis 500</td><td>2</td></tr><tr><td>Indianapolis Motor Speedway</td><td>Indianapolis</td><td>USA</td><td>Indianapolis 500</td><td>2</td></tr><tr><td>Indianapolis Motor Speedway</td><td>Indianapolis</td><td>USA</td><td>Indianapolis 500</td><td>2</td></tr><tr><td>Indianapolis Motor Speedway</td><td>Indianapolis</td><td>USA</td><td>Indianapolis 500</td><td>3</td></tr><tr><td>Nürburgring</td><td>Nürburg</td><td>Germany</td><td>German Grand Prix</td><td>9</td></tr><tr><td>Nürburgring</td><td>Nürburg</td><td>Germany</td><td>European Grand Prix</td><td>10</td></tr><tr><td>Nürburgring</td><td>Nürburg</td><td>Germany</td><td>European Grand Prix</td><td>5</td></tr><tr><td>Nürburgring</td><td>Nürburg</td><td>Germany</td><td>European Grand Prix</td><td>7</td></tr><tr><td>Nürburgring</td><td>Nürburg</td><td>Germany</td><td>European Grand Prix</td><td>7</td></tr><tr><td>Nürburgring</td><td>Nürburg</td><td>Germany</td><td>European Grand Prix</td><td>9</td></tr><tr><td>Nürburgring</td><td>Nürburg</td><td>Germany</td><td>European Grand Prix</td><td>9</td></tr><tr><td>Nürburgring</td><td>Nürburg</td><td>Germany</td><td>European Grand Prix</td><td>9</td></tr><tr><td>Nürburgring</td><td>Nürburg</td><td>Germany</td><td>European Grand Prix</td><td>6</td></tr><tr><td>Nürburgring</td><td>Nürburg</td><td>Germany</td><td>European Grand Prix</td><td>14</td></tr><tr><td>Nürburgring</td><td>Nürburg</td><td>Germany</td><td>Luxembourg Grand Prix</td><td>15</td></tr><tr><td>Nürburgring</td><td>Nürburg</td><td>Germany</td><td>Luxembourg Grand Prix</td><td>15</td></tr><tr><td>Nürburgring</td><td>Nürburg</td><td>Germany</td><td>European Grand Prix</td><td>4</td></tr><tr><td>Nürburgring</td><td>Nürburg</td><td>Germany</td><td>European Grand Prix</td><td>14</td></tr><tr><td>Nürburgring</td><td>Nürburg</td><td>Germany</td><td>German Grand Prix</td><td>9</td></tr><tr><td>Nürburgring</td><td>Nürburg</td><td>Germany</td><td>European Grand Prix</td><td>15</td></tr><tr><td>Nürburgring</td><td>Nürburg</td><td>Germany</td><td>German Grand Prix</td><td>10</td></tr><tr><td>Nürburgring</td><td>Nürburg</td><td>Germany</td><td>German Grand Prix</td><td>11</td></tr><tr><td>Nürburgring</td><td>Nürburg</td><td>Germany</td><td>German Grand Prix</td><td>11</td></tr><tr><td>Nürburgring</td><td>Nürburg</td><td>Germany</td><td>German Grand Prix</td><td>11</td></tr><tr><td>Nürburgring</td><td>Nürburg</td><td>Germany</td><td>German Grand Prix</td><td>8</td></tr><tr><td>Nürburgring</td><td>Nürburg</td><td>Germany</td><td>German Grand Prix</td><td>7</td></tr><tr><td>Nürburgring</td><td>Nürburg</td><td>Germany</td><td>German Grand Prix</td><td>7</td></tr><tr><td>Nürburgring</td><td>Nürburg</td><td>Germany</td><td>German Grand Prix</td><td>8</td></tr><tr><td>Nürburgring</td><td>Nürburg</td><td>Germany</td><td>German Grand Prix</td><td>7</td></tr><tr><td>Nürburgring</td><td>Nürburg</td><td>Germany</td><td>German Grand Prix</td><td>6</td></tr><tr><td>Nürburgring</td><td>Nürburg</td><td>Germany</td><td>German Grand Prix</td><td>7</td></tr><tr><td>Nürburgring</td><td>Nürburg</td><td>Germany</td><td>German Grand Prix</td><td>6</td></tr><tr><td>Nürburgring</td><td>Nürburg</td><td>Germany</td><td>German Grand Prix</td><td>6</td></tr><tr><td>Nürburgring</td><td>Nürburg</td><td>Germany</td><td>German Grand Prix</td><td>6</td></tr><tr><td>Nürburgring</td><td>Nürburg</td><td>Germany</td><td>German Grand Prix</td><td>6</td></tr><tr><td>Nürburgring</td><td>Nürburg</td><td>Germany</td><td>German Grand Prix</td><td>8</td></tr><tr><td>Nürburgring</td><td>Nürburg</td><td>Germany</td><td>German Grand Prix</td><td>6</td></tr><tr><td>Nürburgring</td><td>Nürburg</td><td>Germany</td><td>German Grand Prix</td><td>7</td></tr><tr><td>Nürburgring</td><td>Nürburg</td><td>Germany</td><td>German Grand Prix</td><td>6</td></tr><tr><td>Nürburgring</td><td>Nürburg</td><td>Germany</td><td>German Grand Prix</td><td>7</td></tr><tr><td>Nürburgring</td><td>Nürburg</td><td>Germany</td><td>German Grand Prix</td><td>6</td></tr><tr><td>Nürburgring</td><td>Nürburg</td><td>Germany</td><td>German Grand Prix</td><td>6</td></tr><tr><td>Nürburgring</td><td>Nürburg</td><td>Germany</td><td>German Grand Prix</td><td>10</td></tr><tr><td>Nürburgring</td><td>Nürburg</td><td>Germany</td><td>German Grand Prix</td><td>9</td></tr><tr><td>Nürburgring</td><td>Nürburg</td><td>Germany</td><td>Eifel Grand Prix</td><td>11</td></tr><tr><td>Nürburgring</td><td>Nürburg</td><td>Germany</td><td>TBC</td><td>3</td></tr><tr><td>Autodromo Enzo e Dino Ferrari</td><td>Imola</td><td>Italy</td><td>San Marino Grand Prix</td><td>4</td></tr><tr><td>Autodromo Enzo e Dino Ferrari</td><td>Imola</td><td>Italy</td><td>San Marino Grand Prix</td><td>4</td></tr><tr><td>Autodromo Enzo e Dino Ferrari</td><td>Imola</td><td>Italy</td><td>San Marino Grand Prix</td><td>4</td></tr><tr><td>Autodromo Enzo e Dino Ferrari</td><td>Imola</td><td>Italy</td><td>San Marino Grand Prix</td><td>4</td></tr><tr><td>Autodromo Enzo e Dino Ferrari</td><td>Imola</td><td>Italy</td><td>San Marino Grand Prix</td><td>4</td></tr><tr><td>Autodromo Enzo e Dino Ferrari</td><td>Imola</td><td>Italy</td><td>San Marino Grand Prix</td><td>4</td></tr><tr><td>Autodromo Enzo e Dino Ferrari</td><td>Imola</td><td>Italy</td><td>San Marino Grand Prix</td><td>3</td></tr><tr><td>Autodromo Enzo e Dino Ferrari</td><td>Imola</td><td>Italy</td><td>San Marino Grand Prix</td><td>3</td></tr><tr><td>Autodromo Enzo e Dino Ferrari</td><td>Imola</td><td>Italy</td><td>San Marino Grand Prix</td><td>4</td></tr><tr><td>Autodromo Enzo e Dino Ferrari</td><td>Imola</td><td>Italy</td><td>San Marino Grand Prix</td><td>4</td></tr><tr><td>Autodromo Enzo e Dino Ferrari</td><td>Imola</td><td>Italy</td><td>San Marino Grand Prix</td><td>5</td></tr><tr><td>Autodromo Enzo e Dino Ferrari</td><td>Imola</td><td>Italy</td><td>San Marino Grand Prix</td><td>3</td></tr><tr><td>Autodromo Enzo e Dino Ferrari</td><td>Imola</td><td>Italy</td><td>San Marino Grand Prix</td><td>3</td></tr><tr><td>Autodromo Enzo e Dino Ferrari</td><td>Imola</td><td>Italy</td><td>San Marino Grand Prix</td><td>4</td></tr><tr><td>Autodromo Enzo e Dino Ferrari</td><td>Imola</td><td>Italy</td><td>San Marino Grand Prix</td><td>5</td></tr><tr><td>Autodromo Enzo e Dino Ferrari</td><td>Imola</td><td>Italy</td><td>San Marino Grand Prix</td><td>3</td></tr><tr><td>Autodromo Enzo e Dino Ferrari</td><td>Imola</td><td>Italy</td><td>San Marino Grand Prix</td><td>3</td></tr><tr><td>Autodromo Enzo e Dino Ferrari</td><td>Imola</td><td>Italy</td><td>San Marino Grand Prix</td><td>2</td></tr><tr><td>Autodromo Enzo e Dino Ferrari</td><td>Imola</td><td>Italy</td><td>San Marino Grand Prix</td><td>2</td></tr><tr><td>Autodromo Enzo e Dino Ferrari</td><td>Imola</td><td>Italy</td><td>San Marino Grand Prix</td><td>2</td></tr><tr><td>Autodromo Enzo e Dino Ferrari</td><td>Imola</td><td>Italy</td><td>San Marino Grand Prix</td><td>3</td></tr><tr><td>Autodromo Enzo e Dino Ferrari</td><td>Imola</td><td>Italy</td><td>San Marino Grand Prix</td><td>3</td></tr><tr><td>Autodromo Enzo e Dino Ferrari</td><td>Imola</td><td>Italy</td><td>San Marino Grand Prix</td><td>4</td></tr><tr><td>Autodromo Enzo e Dino Ferrari</td><td>Imola</td><td>Italy</td><td>San Marino Grand Prix</td><td>4</td></tr><tr><td>Autodromo Enzo e Dino Ferrari</td><td>Imola</td><td>Italy</td><td>San Marino Grand Prix</td><td>4</td></tr><tr><td>Autodromo Enzo e Dino Ferrari</td><td>Imola</td><td>Italy</td><td>San Marino Grand Prix</td><td>4</td></tr><tr><td>Autodromo Enzo e Dino Ferrari</td><td>Imola</td><td>Italy</td><td>Italian Grand Prix</td><td>12</td></tr><tr><td>Autodromo Enzo e Dino Ferrari</td><td>Imola</td><td>Italy</td><td>Emilia Romagna Grand Prix</td><td>13</td></tr><tr><td>Autodromo Enzo e Dino Ferrari</td><td>Imola</td><td>Italy</td><td>Emilia Romagna Grand Prix</td><td>2</td></tr><tr><td>Suzuka Circuit</td><td>Suzuka</td><td>Japan</td><td>Japanese Grand Prix</td><td>15</td></tr><tr><td>Suzuka Circuit</td><td>Suzuka</td><td>Japan</td><td>Japanese Grand Prix</td><td>17</td></tr><tr><td>Suzuka Circuit</td><td>Suzuka</td><td>Japan</td><td>Japanese Grand Prix</td><td>18</td></tr><tr><td>Suzuka Circuit</td><td>Suzuka</td><td>Japan</td><td>Japanese Grand Prix</td><td>17</td></tr><tr><td>Suzuka Circuit</td><td>Suzuka</td><td>Japan</td><td>Japanese Grand Prix</td><td>16</td></tr><tr><td>Suzuka Circuit</td><td>Suzuka</td><td>Japan</td><td>Japanese Grand Prix</td><td>17</td></tr><tr><td>Suzuka Circuit</td><td>Suzuka</td><td>Japan</td><td>Japanese Grand Prix</td><td>17</td></tr><tr><td>Suzuka Circuit</td><td>Suzuka</td><td>Japan</td><td>Japanese Grand Prix</td><td>16</td></tr><tr><td>Suzuka Circuit</td><td>Suzuka</td><td>Japan</td><td>Japanese Grand Prix</td><td>16</td></tr><tr><td>Suzuka Circuit</td><td>Suzuka</td><td>Japan</td><td>Japanese Grand Prix</td><td>16</td></tr><tr><td>Suzuka Circuit</td><td>Suzuka</td><td>Japan</td><td>Japanese Grand Prix</td><td>16</td></tr><tr><td>Suzuka Circuit</td><td>Suzuka</td><td>Japan</td><td>Japanese Grand Prix</td><td>16</td></tr><tr><td>Suzuka Circuit</td><td>Suzuka</td><td>Japan</td><td>Japanese Grand Prix</td><td>16</td></tr><tr><td>Suzuka Circuit</td><td>Suzuka</td><td>Japan</td><td>Japanese Grand Prix</td><td>15</td></tr><tr><td>Suzuka Circuit</td><td>Suzuka</td><td>Japan</td><td>Japanese Grand Prix</td><td>15</td></tr><tr><td>Suzuka Circuit</td><td>Suzuka</td><td>Japan</td><td>Japanese Grand Prix</td><td>15</td></tr><tr><td>Suzuka Circuit</td><td>Suzuka</td><td>Japan</td><td>Japanese Grand Prix</td><td>15</td></tr><tr><td>Suzuka Circuit</td><td>Suzuka</td><td>Japan</td><td>Japanese Grand Prix</td><td>15</td></tr><tr><td>Suzuka Circuit</td><td>Suzuka</td><td>Japan</td><td>Japanese Grand Prix</td><td>16</td></tr><tr><td>Suzuka Circuit</td><td>Suzuka</td><td>Japan</td><td>Japanese Grand Prix</td><td>15</td></tr><tr><td>Suzuka Circuit</td><td>Suzuka</td><td>Japan</td><td>Japanese Grand Prix</td><td>15</td></tr><tr><td>Suzuka Circuit</td><td>Suzuka</td><td>Japan</td><td>Japanese Grand Prix</td><td>15</td></tr><tr><td>Suzuka Circuit</td><td>Suzuka</td><td>Japan</td><td>Japanese Grand Prix</td><td>15</td></tr><tr><td>Suzuka Circuit</td><td>Suzuka</td><td>Japan</td><td>Japanese Grand Prix</td><td>15</td></tr><tr><td>Suzuka Circuit</td><td>Suzuka</td><td>Japan</td><td>Japanese Grand Prix</td><td>15</td></tr><tr><td>Suzuka Circuit</td><td>Suzuka</td><td>Japan</td><td>Japanese Grand Prix</td><td>15</td></tr><tr><td>Suzuka Circuit</td><td>Suzuka</td><td>Japan</td><td>Japanese Grand Prix</td><td>14</td></tr><tr><td>Suzuka Circuit</td><td>Suzuka</td><td>Japan</td><td>Japanese Grand Prix</td><td>17</td></tr><tr><td>Suzuka Circuit</td><td>Suzuka</td><td>Japan</td><td>Japanese Grand Prix</td><td>16</td></tr><tr><td>Suzuka Circuit</td><td>Suzuka</td><td>Japan</td><td>Japanese Grand Prix</td><td>17</td></tr><tr><td>Suzuka Circuit</td><td>Suzuka</td><td>Japan</td><td>Japanese Grand Prix</td><td>17</td></tr><tr><td>Suzuka Circuit</td><td>Suzuka</td><td>Japan</td><td>Japanese Grand Prix</td><td>17</td></tr><tr><td>A1-Ring</td><td>Spielburg</td><td>Austria</td><td>Austrian Grand Prix</td><td>6</td></tr><tr><td>A1-Ring</td><td>Spielburg</td><td>Austria</td><td>Austrian Grand Prix</td><td>6</td></tr><tr><td>A1-Ring</td><td>Spielburg</td><td>Austria</td><td>Austrian Grand Prix</td><td>6</td></tr><tr><td>A1-Ring</td><td>Spielburg</td><td>Austria</td><td>Austrian Grand Prix</td><td>10</td></tr><tr><td>A1-Ring</td><td>Spielburg</td><td>Austria</td><td>Austrian Grand Prix</td><td>9</td></tr><tr><td>A1-Ring</td><td>Spielburg</td><td>Austria</td><td>Austrian Grand Prix</td><td>10</td></tr><tr><td>A1-Ring</td><td>Spielburg</td><td>Austria</td><td>Austrian Grand Prix</td><td>14</td></tr><tr><td>A1-Ring</td><td>Spielburg</td><td>Austria</td><td>Austrian Grand Prix</td><td>10</td></tr><tr><td>A1-Ring</td><td>Spielburg</td><td>Austria</td><td>Austrian Grand Prix</td><td>12</td></tr><tr><td>A1-Ring</td><td>Spielburg</td><td>Austria</td><td>Austrian Grand Prix</td><td>10</td></tr><tr><td>A1-Ring</td><td>Spielburg</td><td>Austria</td><td>Austrian Grand Prix</td><td>12</td></tr><tr><td>A1-Ring</td><td>Spielburg</td><td>Austria</td><td>Austrian Grand Prix</td><td>11</td></tr><tr><td>A1-Ring</td><td>Spielburg</td><td>Austria</td><td>Austrian Grand Prix</td><td>13</td></tr><tr><td>A1-Ring</td><td>Spielburg</td><td>Austria</td><td>Austrian Grand Prix</td><td>11</td></tr><tr><td>A1-Ring</td><td>Spielburg</td><td>Austria</td><td>Austrian Grand Prix</td><td>10</td></tr><tr><td>A1-Ring</td><td>Spielburg</td><td>Austria</td><td>Austrian Grand Prix</td><td>11</td></tr><tr><td>A1-Ring</td><td>Spielburg</td><td>Austria</td><td>Austrian Grand Prix</td><td>12</td></tr><tr><td>A1-Ring</td><td>Spielburg</td><td>Austria</td><td>Austrian Grand Prix</td><td>12</td></tr><tr><td>A1-Ring</td><td>Spielburg</td><td>Austria</td><td>Austrian Grand Prix</td><td>11</td></tr><tr><td>A1-Ring</td><td>Spielburg</td><td>Austria</td><td>Austrian Grand Prix</td><td>12</td></tr><tr><td>A1-Ring</td><td>Spielburg</td><td>Austria</td><td>Austrian Grand Prix</td><td>12</td></tr><tr><td>A1-Ring</td><td>Spielburg</td><td>Austria</td><td>Austrian Grand Prix</td><td>12</td></tr><tr><td>A1-Ring</td><td>Spielburg</td><td>Austria</td><td>Austrian Grand Prix</td><td>9</td></tr><tr><td>A1-Ring</td><td>Spielburg</td><td>Austria</td><td>Austrian Grand Prix</td><td>8</td></tr><tr><td>A1-Ring</td><td>Spielburg</td><td>Austria</td><td>Austrian Grand Prix</td><td>9</td></tr><tr><td>Yas Marina Circuit</td><td>Abu Dhabi</td><td>UAE</td><td>Abu Dhabi Grand Prix</td><td>17</td></tr><tr><td>Yas Marina Circuit</td><td>Abu Dhabi</td><td>UAE</td><td>Abu Dhabi Grand Prix</td><td>19</td></tr><tr><td>Yas Marina Circuit</td><td>Abu Dhabi</td><td>UAE</td><td>Abu Dhabi Grand Prix</td><td>18</td></tr><tr><td>Yas Marina Circuit</td><td>Abu Dhabi</td><td>UAE</td><td>Abu Dhabi Grand Prix</td><td>18</td></tr><tr><td>Yas Marina Circuit</td><td>Abu Dhabi</td><td>UAE</td><td>Abu Dhabi Grand Prix</td><td>17</td></tr><tr><td>Yas Marina Circuit</td><td>Abu Dhabi</td><td>UAE</td><td>Abu Dhabi Grand Prix</td><td>19</td></tr><tr><td>Yas Marina Circuit</td><td>Abu Dhabi</td><td>UAE</td><td>Abu Dhabi Grand Prix</td><td>19</td></tr><tr><td>Yas Marina Circuit</td><td>Abu Dhabi</td><td>UAE</td><td>Abu Dhabi Grand Prix</td><td>21</td></tr><tr><td>Yas Marina Circuit</td><td>Abu Dhabi</td><td>UAE</td><td>Abu Dhabi Grand Prix</td><td>20</td></tr><tr><td>Yas Marina Circuit</td><td>Abu Dhabi</td><td>UAE</td><td>Abu Dhabi Grand Prix</td><td>21</td></tr><tr><td>Yas Marina Circuit</td><td>Abu Dhabi</td><td>UAE</td><td>Abu Dhabi Grand Prix</td><td>21</td></tr><tr><td>Yas Marina Circuit</td><td>Abu Dhabi</td><td>UAE</td><td>Abu Dhabi Grand Prix</td><td>17</td></tr><tr><td>Yas Marina Circuit</td><td>Abu Dhabi</td><td>UAE</td><td>Abu Dhabi Grand Prix</td><td>23</td></tr><tr><td>Autódromo Juan y Oscar Gálvez</td><td>Buenos Aires</td><td>Argentina</td><td>Argentine Grand Prix</td><td>3</td></tr><tr><td>Autódromo Juan y Oscar Gálvez</td><td>Buenos Aires</td><td>Argentina</td><td>Argentine Grand Prix</td><td>3</td></tr><tr><td>Autódromo Juan y Oscar Gálvez</td><td>Buenos Aires</td><td>Argentina</td><td>Argentine Grand Prix</td><td>3</td></tr><tr><td>Autódromo Juan y Oscar Gálvez</td><td>Buenos Aires</td><td>Argentina</td><td>Argentine Grand Prix</td><td>2</td></tr><tr><td>Autódromo Juan y Oscar Gálvez</td><td>Buenos Aires</td><td>Argentina</td><td>Argentine Grand Prix</td><td>3</td></tr><tr><td>Autódromo Juan y Oscar Gálvez</td><td>Buenos Aires</td><td>Argentina</td><td>Argentine Grand Prix</td><td>1</td></tr><tr><td>Autódromo Juan y Oscar Gálvez</td><td>Buenos Aires</td><td>Argentina</td><td>Argentine Grand Prix</td><td>1</td></tr><tr><td>Autódromo Juan y Oscar Gálvez</td><td>Buenos Aires</td><td>Argentina</td><td>Argentine Grand Prix</td><td>1</td></tr><tr><td>Autódromo Juan y Oscar Gálvez</td><td>Buenos Aires</td><td>Argentina</td><td>Argentine Grand Prix</td><td>1</td></tr><tr><td>Autódromo Juan y Oscar Gálvez</td><td>Buenos Aires</td><td>Argentina</td><td>Argentine Grand Prix</td><td>1</td></tr><tr><td>Autódromo Juan y Oscar Gálvez</td><td>Buenos Aires</td><td>Argentina</td><td>Argentine Grand Prix</td><td>1</td></tr><tr><td>Autódromo Juan y Oscar Gálvez</td><td>Buenos Aires</td><td>Argentina</td><td>Argentine Grand Prix</td><td>1</td></tr><tr><td>Autódromo Juan y Oscar Gálvez</td><td>Buenos Aires</td><td>Argentina</td><td>Argentine Grand Prix</td><td>1</td></tr><tr><td>Autódromo Juan y Oscar Gálvez</td><td>Buenos Aires</td><td>Argentina</td><td>Argentine Grand Prix</td><td>1</td></tr><tr><td>Autódromo Juan y Oscar Gálvez</td><td>Buenos Aires</td><td>Argentina</td><td>Argentine Grand Prix</td><td>1</td></tr><tr><td>Autódromo Juan y Oscar Gálvez</td><td>Buenos Aires</td><td>Argentina</td><td>Argentine Grand Prix</td><td>1</td></tr><tr><td>Autódromo Juan y Oscar Gálvez</td><td>Buenos Aires</td><td>Argentina</td><td>Argentine Grand Prix</td><td>1</td></tr><tr><td>Autódromo Juan y Oscar Gálvez</td><td>Buenos Aires</td><td>Argentina</td><td>Argentine Grand Prix</td><td>1</td></tr><tr><td>Autódromo Juan y Oscar Gálvez</td><td>Buenos Aires</td><td>Argentina</td><td>Argentine Grand Prix</td><td>1</td></tr><tr><td>Autódromo Juan y Oscar Gálvez</td><td>Buenos Aires</td><td>Argentina</td><td>Argentine Grand Prix</td><td>1</td></tr><tr><td>Circuito de Jerez</td><td>Jerez de la Frontera</td><td>Spain</td><td>European Grand Prix</td><td>17</td></tr><tr><td>Circuito de Jerez</td><td>Jerez de la Frontera</td><td>Spain</td><td>European Grand Prix</td><td>14</td></tr><tr><td>Circuito de Jerez</td><td>Jerez de la Frontera</td><td>Spain</td><td>Spanish Grand Prix</td><td>14</td></tr><tr><td>Circuito de Jerez</td><td>Jerez de la Frontera</td><td>Spain</td><td>Spanish Grand Prix</td><td>14</td></tr><tr><td>Circuito de Jerez</td><td>Jerez de la Frontera</td><td>Spain</td><td>Spanish Grand Prix</td><td>14</td></tr><tr><td>Circuito de Jerez</td><td>Jerez de la Frontera</td><td>Spain</td><td>Spanish Grand Prix</td><td>13</td></tr><tr><td>Circuito de Jerez</td><td>Jerez de la Frontera</td><td>Spain</td><td>Spanish Grand Prix</td><td>2</td></tr><tr><td>Autódromo do Estoril</td><td>Estoril</td><td>Portugal</td><td>Portuguese Grand Prix</td><td>15</td></tr><tr><td>Autódromo do Estoril</td><td>Estoril</td><td>Portugal</td><td>Portuguese Grand Prix</td><td>13</td></tr><tr><td>Autódromo do Estoril</td><td>Estoril</td><td>Portugal</td><td>Portuguese Grand Prix</td><td>13</td></tr><tr><td>Autódromo do Estoril</td><td>Estoril</td><td>Portugal</td><td>Portuguese Grand Prix</td><td>14</td></tr><tr><td>Autódromo do Estoril</td><td>Estoril</td><td>Portugal</td><td>Portuguese Grand Prix</td><td>14</td></tr><tr><td>Autódromo do Estoril</td><td>Estoril</td><td>Portugal</td><td>Portuguese Grand Prix</td><td>13</td></tr><tr><td>Autódromo do Estoril</td><td>Estoril</td><td>Portugal</td><td>Portuguese Grand Prix</td><td>13</td></tr><tr><td>Autódromo do Estoril</td><td>Estoril</td><td>Portugal</td><td>Portuguese Grand Prix</td><td>13</td></tr><tr><td>Autódromo do Estoril</td><td>Estoril</td><td>Portugal</td><td>Portuguese Grand Prix</td><td>13</td></tr><tr><td>Autódromo do Estoril</td><td>Estoril</td><td>Portugal</td><td>Portuguese Grand Prix</td><td>12</td></tr><tr><td>Autódromo do Estoril</td><td>Estoril</td><td>Portugal</td><td>Portuguese Grand Prix</td><td>14</td></tr><tr><td>Autódromo do Estoril</td><td>Estoril</td><td>Portugal</td><td>Portuguese Grand Prix</td><td>2</td></tr><tr><td>Autódromo do Estoril</td><td>Estoril</td><td>Portugal</td><td>Portuguese Grand Prix</td><td>16</td></tr><tr><td>Okayama International Circuit</td><td>Okayama</td><td>Japan</td><td>Pacific Grand Prix</td><td>15</td></tr><tr><td>Okayama International Circuit</td><td>Okayama</td><td>Japan</td><td>Pacific Grand Prix</td><td>2</td></tr><tr><td>Adelaide Street Circuit</td><td>Adelaide</td><td>Australia</td><td>Australian Grand Prix</td><td>17</td></tr><tr><td>Adelaide Street Circuit</td><td>Adelaide</td><td>Australia</td><td>Australian Grand Prix</td><td>16</td></tr><tr><td>Adelaide Street Circuit</td><td>Adelaide</td><td>Australia</td><td>Australian Grand Prix</td><td>16</td></tr><tr><td>Adelaide Street Circuit</td><td>Adelaide</td><td>Australia</td><td>Australian Grand Prix</td><td>16</td></tr><tr><td>Adelaide Street Circuit</td><td>Adelaide</td><td>Australia</td><td>Australian Grand Prix</td><td>16</td></tr><tr><td>Adelaide Street Circuit</td><td>Adelaide</td><td>Australia</td><td>Australian Grand Prix</td><td>16</td></tr><tr><td>Adelaide Street Circuit</td><td>Adelaide</td><td>Australia</td><td>Australian Grand Prix</td><td>16</td></tr><tr><td>Adelaide Street Circuit</td><td>Adelaide</td><td>Australia</td><td>Australian Grand Prix</td><td>16</td></tr><tr><td>Adelaide Street Circuit</td><td>Adelaide</td><td>Australia</td><td>Australian Grand Prix</td><td>16</td></tr><tr><td>Adelaide Street Circuit</td><td>Adelaide</td><td>Australia</td><td>Australian Grand Prix</td><td>16</td></tr><tr><td>Adelaide Street Circuit</td><td>Adelaide</td><td>Australia</td><td>Australian Grand Prix</td><td>16</td></tr><tr><td>Kyalami</td><td>Midrand</td><td>South Africa</td><td>South African Grand Prix</td><td>1</td></tr><tr><td>Kyalami</td><td>Midrand</td><td>South Africa</td><td>South African Grand Prix</td><td>1</td></tr><tr><td>Kyalami</td><td>Midrand</td><td>South Africa</td><td>South African Grand Prix</td><td>15</td></tr><tr><td>Kyalami</td><td>Midrand</td><td>South Africa</td><td>South African Grand Prix</td><td>2</td></tr><tr><td>Kyalami</td><td>Midrand</td><td>South Africa</td><td>South African Grand Prix</td><td>15</td></tr><tr><td>Kyalami</td><td>Midrand</td><td>South Africa</td><td>South African Grand Prix</td><td>1</td></tr><tr><td>Kyalami</td><td>Midrand</td><td>South Africa</td><td>South African Grand Prix</td><td>3</td></tr><tr><td>Kyalami</td><td>Midrand</td><td>South Africa</td><td>South African Grand Prix</td><td>3</td></tr><tr><td>Kyalami</td><td>Midrand</td><td>South Africa</td><td>South African Grand Prix</td><td>3</td></tr><tr><td>Kyalami</td><td>Midrand</td><td>South Africa</td><td>South African Grand Prix</td><td>3</td></tr><tr><td>Kyalami</td><td>Midrand</td><td>South Africa</td><td>South African Grand Prix</td><td>2</td></tr><tr><td>Kyalami</td><td>Midrand</td><td>South Africa</td><td>South African Grand Prix</td><td>3</td></tr><tr><td>Kyalami</td><td>Midrand</td><td>South Africa</td><td>South African Grand Prix</td><td>3</td></tr><tr><td>Kyalami</td><td>Midrand</td><td>South Africa</td><td>South African Grand Prix</td><td>3</td></tr><tr><td>Kyalami</td><td>Midrand</td><td>South Africa</td><td>South African Grand Prix</td><td>2</td></tr><tr><td>Kyalami</td><td>Midrand</td><td>South Africa</td><td>South African Grand Prix</td><td>1</td></tr><tr><td>Kyalami</td><td>Midrand</td><td>South Africa</td><td>South African Grand Prix</td><td>1</td></tr><tr><td>Kyalami</td><td>Midrand</td><td>South Africa</td><td>South African Grand Prix</td><td>1</td></tr><tr><td>Kyalami</td><td>Midrand</td><td>South Africa</td><td>South African Grand Prix</td><td>1</td></tr><tr><td>Kyalami</td><td>Midrand</td><td>South Africa</td><td>South African Grand Prix</td><td>1</td></tr><tr><td>Donington Park</td><td>Castle Donington</td><td>UK</td><td>European Grand Prix</td><td>3</td></tr><tr><td>Autódromo Hermanos Rodríguez</td><td>Mexico City</td><td>Mexico</td><td>Mexican Grand Prix</td><td>2</td></tr><tr><td>Autódromo Hermanos Rodríguez</td><td>Mexico City</td><td>Mexico</td><td>Mexican Grand Prix</td><td>6</td></tr><tr><td>Autódromo Hermanos Rodríguez</td><td>Mexico City</td><td>Mexico</td><td>Mexican Grand Prix</td><td>6</td></tr><tr><td>Autódromo Hermanos Rodríguez</td><td>Mexico City</td><td>Mexico</td><td>Mexican Grand Prix</td><td>4</td></tr><tr><td>Autódromo Hermanos Rodríguez</td><td>Mexico City</td><td>Mexico</td><td>Mexican Grand Prix</td><td>4</td></tr><tr><td>Autódromo Hermanos Rodríguez</td><td>Mexico City</td><td>Mexico</td><td>Mexican Grand Prix</td><td>14</td></tr><tr><td>Autódromo Hermanos Rodríguez</td><td>Mexico City</td><td>Mexico</td><td>Mexican Grand Prix</td><td>15</td></tr><tr><td>Autódromo Hermanos Rodríguez</td><td>Mexico City</td><td>Mexico</td><td>Mexican Grand Prix</td><td>13</td></tr><tr><td>Autódromo Hermanos Rodríguez</td><td>Mexico City</td><td>Mexico</td><td>Mexican Grand Prix</td><td>11</td></tr><tr><td>Autódromo Hermanos Rodríguez</td><td>Mexico City</td><td>Mexico</td><td>Mexican Grand Prix</td><td>12</td></tr><tr><td>Autódromo Hermanos Rodríguez</td><td>Mexico City</td><td>Mexico</td><td>Mexican Grand Prix</td><td>11</td></tr><tr><td>Autódromo Hermanos Rodríguez</td><td>Mexico City</td><td>Mexico</td><td>Mexican Grand Prix</td><td>9</td></tr><tr><td>Autódromo Hermanos Rodríguez</td><td>Mexico City</td><td>Mexico</td><td>Mexican Grand Prix</td><td>10</td></tr><tr><td>Autódromo Hermanos Rodríguez</td><td>Mexico City</td><td>Mexico</td><td>Mexican Grand Prix</td><td>10</td></tr><tr><td>Autódromo Hermanos Rodríguez</td><td>Mexico City</td><td>Mexico</td><td>Mexican Grand Prix</td><td>9</td></tr><tr><td>Autódromo Hermanos Rodríguez</td><td>Mexico City</td><td>Mexico</td><td>Mexican Grand Prix</td><td>17</td></tr><tr><td>Autódromo Hermanos Rodríguez</td><td>Mexico City</td><td>Mexico</td><td>Mexican Grand Prix</td><td>19</td></tr><tr><td>Autódromo Hermanos Rodríguez</td><td>Mexico City</td><td>Mexico</td><td>Mexican Grand Prix</td><td>18</td></tr><tr><td>Autódromo Hermanos Rodríguez</td><td>Mexico City</td><td>Mexico</td><td>Mexican Grand Prix</td><td>19</td></tr><tr><td>Autódromo Hermanos Rodríguez</td><td>Mexico City</td><td>Mexico</td><td>Mexican Grand Prix</td><td>18</td></tr><tr><td>Autódromo Hermanos Rodríguez</td><td>Mexico City</td><td>Mexico</td><td>Mexico City Grand Prix</td><td>19</td></tr><tr><td>Phoenix street circuit</td><td>Phoenix</td><td>USA</td><td>United States Grand Prix</td><td>1</td></tr><tr><td>Phoenix street circuit</td><td>Phoenix</td><td>USA</td><td>United States Grand Prix</td><td>1</td></tr><tr><td>Phoenix street circuit</td><td>Phoenix</td><td>USA</td><td>United States Grand Prix</td><td>5</td></tr><tr><td>Circuit Paul Ricard</td><td>Le Castellet</td><td>France</td><td>French Grand Prix</td><td>7</td></tr><tr><td>Circuit Paul Ricard</td><td>Le Castellet</td><td>France</td><td>French Grand Prix</td><td>7</td></tr><tr><td>Circuit Paul Ricard</td><td>Le Castellet</td><td>France</td><td>French Grand Prix</td><td>7</td></tr><tr><td>Circuit Paul Ricard</td><td>Le Castellet</td><td>France</td><td>French Grand Prix</td><td>6</td></tr><tr><td>Circuit Paul Ricard</td><td>Le Castellet</td><td>France</td><td>French Grand Prix</td><td>8</td></tr><tr><td>Circuit Paul Ricard</td><td>Le Castellet</td><td>France</td><td>French Grand Prix</td><td>7</td></tr><tr><td>Circuit Paul Ricard</td><td>Le Castellet</td><td>France</td><td>French Grand Prix</td><td>3</td></tr><tr><td>Circuit Paul Ricard</td><td>Le Castellet</td><td>France</td><td>French Grand Prix</td><td>11</td></tr><tr><td>Circuit Paul Ricard</td><td>Le Castellet</td><td>France</td><td>French Grand Prix</td><td>7</td></tr><tr><td>Circuit Paul Ricard</td><td>Le Castellet</td><td>France</td><td>French Grand Prix</td><td>9</td></tr><tr><td>Circuit Paul Ricard</td><td>Le Castellet</td><td>France</td><td>French Grand Prix</td><td>8</td></tr><tr><td>Circuit Paul Ricard</td><td>Le Castellet</td><td>France</td><td>French Grand Prix</td><td>9</td></tr><tr><td>Circuit Paul Ricard</td><td>Le Castellet</td><td>France</td><td>French Grand Prix</td><td>8</td></tr><tr><td>Circuit Paul Ricard</td><td>Le Castellet</td><td>France</td><td>French Grand Prix</td><td>5</td></tr><tr><td>Circuit Paul Ricard</td><td>Le Castellet</td><td>France</td><td>French Grand Prix</td><td>8</td></tr><tr><td>Circuit Paul Ricard</td><td>Le Castellet</td><td>France</td><td>French Grand Prix</td><td>8</td></tr><tr><td>Circuit Paul Ricard</td><td>Le Castellet</td><td>France</td><td>French Grand Prix</td><td>8</td></tr><tr><td>Korean International Circuit</td><td>Yeongam County</td><td>Korea</td><td>Korean Grand Prix</td><td>17</td></tr><tr><td>Korean International Circuit</td><td>Yeongam County</td><td>Korea</td><td>Korean Grand Prix</td><td>16</td></tr><tr><td>Korean International Circuit</td><td>Yeongam County</td><td>Korea</td><td>Korean Grand Prix</td><td>16</td></tr><tr><td>Korean International Circuit</td><td>Yeongam County</td><td>Korea</td><td>Korean Grand Prix</td><td>14</td></tr><tr><td>Autódromo Internacional Nelson Piquet</td><td>Rio de Janeiro</td><td>Brazil</td><td>Brazilian Grand Prix</td><td>1</td></tr><tr><td>Autódromo Internacional Nelson Piquet</td><td>Rio de Janeiro</td><td>Brazil</td><td>Brazilian Grand Prix</td><td>1</td></tr><tr><td>Autódromo Internacional Nelson Piquet</td><td>Rio de Janeiro</td><td>Brazil</td><td>Brazilian Grand Prix</td><td>1</td></tr><tr><td>Autódromo Internacional Nelson Piquet</td><td>Rio de Janeiro</td><td>Brazil</td><td>Brazilian Grand Prix</td><td>1</td></tr><tr><td>Autódromo Internacional Nelson Piquet</td><td>Rio de Janeiro</td><td>Brazil</td><td>Brazilian Grand Prix</td><td>1</td></tr><tr><td>Autódromo Internacional Nelson Piquet</td><td>Rio de Janeiro</td><td>Brazil</td><td>Brazilian Grand Prix</td><td>1</td></tr><tr><td>Autódromo Internacional Nelson Piquet</td><td>Rio de Janeiro</td><td>Brazil</td><td>Brazilian Grand Prix</td><td>1</td></tr><tr><td>Autódromo Internacional Nelson Piquet</td><td>Rio de Janeiro</td><td>Brazil</td><td>Brazilian Grand Prix</td><td>2</td></tr><tr><td>Autódromo Internacional Nelson Piquet</td><td>Rio de Janeiro</td><td>Brazil</td><td>Brazilian Grand Prix</td><td>2</td></tr><tr><td>Autódromo Internacional Nelson Piquet</td><td>Rio de Janeiro</td><td>Brazil</td><td>Brazilian Grand Prix</td><td>2</td></tr><tr><td>Detroit Street Circuit</td><td>Detroit</td><td>USA</td><td>Detroit Grand Prix</td><td>6</td></tr><tr><td>Detroit Street Circuit</td><td>Detroit</td><td>USA</td><td>Detroit Grand Prix</td><td>5</td></tr><tr><td>Detroit Street Circuit</td><td>Detroit</td><td>USA</td><td>Detroit Grand Prix</td><td>7</td></tr><tr><td>Detroit Street Circuit</td><td>Detroit</td><td>USA</td><td>Detroit Grand Prix</td><td>6</td></tr><tr><td>Detroit Street Circuit</td><td>Detroit</td><td>USA</td><td>Detroit Grand Prix</td><td>8</td></tr><tr><td>Detroit Street Circuit</td><td>Detroit</td><td>USA</td><td>Detroit Grand Prix</td><td>7</td></tr><tr><td>Detroit Street Circuit</td><td>Detroit</td><td>USA</td><td>Detroit Grand Prix</td><td>7</td></tr><tr><td>Brands Hatch</td><td>Kent</td><td>UK</td><td>British Grand Prix</td><td>9</td></tr><tr><td>Brands Hatch</td><td>Kent</td><td>UK</td><td>European Grand Prix</td><td>14</td></tr><tr><td>Brands Hatch</td><td>Kent</td><td>UK</td><td>British Grand Prix</td><td>10</td></tr><tr><td>Brands Hatch</td><td>Kent</td><td>UK</td><td>European Grand Prix</td><td>14</td></tr><tr><td>Brands Hatch</td><td>Kent</td><td>UK</td><td>British Grand Prix</td><td>10</td></tr><tr><td>Brands Hatch</td><td>Kent</td><td>UK</td><td>British Grand Prix</td><td>8</td></tr><tr><td>Brands Hatch</td><td>Kent</td><td>UK</td><td>British Grand Prix</td><td>10</td></tr><tr><td>Brands Hatch</td><td>Kent</td><td>UK</td><td>British Grand Prix</td><td>9</td></tr><tr><td>Brands Hatch</td><td>Kent</td><td>UK</td><td>British Grand Prix</td><td>10</td></tr><tr><td>Brands Hatch</td><td>Kent</td><td>UK</td><td>British Grand Prix</td><td>7</td></tr><tr><td>Brands Hatch</td><td>Kent</td><td>UK</td><td>British Grand Prix</td><td>7</td></tr><tr><td>Brands Hatch</td><td>Kent</td><td>UK</td><td>British Grand Prix</td><td>7</td></tr><tr><td>Brands Hatch</td><td>Kent</td><td>UK</td><td>British Grand Prix</td><td>4</td></tr><tr><td>Brands Hatch</td><td>Kent</td><td>UK</td><td>British Grand Prix</td><td>5</td></tr><tr><td>Circuit Park Zandvoort</td><td>Zandvoort</td><td>Netherlands</td><td>Dutch Grand Prix</td><td>11</td></tr><tr><td>Circuit Park Zandvoort</td><td>Zandvoort</td><td>Netherlands</td><td>Dutch Grand Prix</td><td>13</td></tr><tr><td>Circuit Park Zandvoort</td><td>Zandvoort</td><td>Netherlands</td><td>Dutch Grand Prix</td><td>12</td></tr><tr><td>Circuit Park Zandvoort</td><td>Zandvoort</td><td>Netherlands</td><td>Dutch Grand Prix</td><td>9</td></tr><tr><td>Circuit Park Zandvoort</td><td>Zandvoort</td><td>Netherlands</td><td>Dutch Grand Prix</td><td>12</td></tr><tr><td>Circuit Park Zandvoort</td><td>Zandvoort</td><td>Netherlands</td><td>Dutch Grand Prix</td><td>11</td></tr><tr><td>Circuit Park Zandvoort</td><td>Zandvoort</td><td>Netherlands</td><td>Dutch Grand Prix</td><td>12</td></tr><tr><td>Circuit Park Zandvoort</td><td>Zandvoort</td><td>Netherlands</td><td>Dutch Grand Prix</td><td>13</td></tr><tr><td>Circuit Park Zandvoort</td><td>Zandvoort</td><td>Netherlands</td><td>Dutch Grand Prix</td><td>13</td></tr><tr><td>Circuit Park Zandvoort</td><td>Zandvoort</td><td>Netherlands</td><td>Dutch Grand Prix</td><td>12</td></tr><tr><td>Circuit Park Zandvoort</td><td>Zandvoort</td><td>Netherlands</td><td>Dutch Grand Prix</td><td>8</td></tr><tr><td>Circuit Park Zandvoort</td><td>Zandvoort</td><td>Netherlands</td><td>Dutch Grand Prix</td><td>8</td></tr><tr><td>Circuit Park Zandvoort</td><td>Zandvoort</td><td>Netherlands</td><td>Dutch Grand Prix</td><td>10</td></tr><tr><td>Circuit Park Zandvoort</td><td>Zandvoort</td><td>Netherlands</td><td>Dutch Grand Prix</td><td>4</td></tr><tr><td>Circuit Park Zandvoort</td><td>Zandvoort</td><td>Netherlands</td><td>Dutch Grand Prix</td><td>5</td></tr><tr><td>Circuit Park Zandvoort</td><td>Zandvoort</td><td>Netherlands</td><td>Dutch Grand Prix</td><td>4</td></tr><tr><td>Circuit Park Zandvoort</td><td>Zandvoort</td><td>Netherlands</td><td>Dutch Grand Prix</td><td>5</td></tr><tr><td>Circuit Park Zandvoort</td><td>Zandvoort</td><td>Netherlands</td><td>Dutch Grand Prix</td><td>3</td></tr><tr><td>Circuit Park Zandvoort</td><td>Zandvoort</td><td>Netherlands</td><td>Dutch Grand Prix</td><td>5</td></tr><tr><td>Circuit Park Zandvoort</td><td>Zandvoort</td><td>Netherlands</td><td>Dutch Grand Prix</td><td>6</td></tr><tr><td>Circuit Park Zandvoort</td><td>Zandvoort</td><td>Netherlands</td><td>Dutch Grand Prix</td><td>2</td></tr><tr><td>Circuit Park Zandvoort</td><td>Zandvoort</td><td>Netherlands</td><td>Dutch Grand Prix</td><td>3</td></tr><tr><td>Circuit Park Zandvoort</td><td>Zandvoort</td><td>Netherlands</td><td>Dutch Grand Prix</td><td>1</td></tr><tr><td>Circuit Park Zandvoort</td><td>Zandvoort</td><td>Netherlands</td><td>Dutch Grand Prix</td><td>2</td></tr><tr><td>Circuit Park Zandvoort</td><td>Zandvoort</td><td>Netherlands</td><td>Dutch Grand Prix</td><td>4</td></tr><tr><td>Circuit Park Zandvoort</td><td>Zandvoort</td><td>Netherlands</td><td>Dutch Grand Prix</td><td>3</td></tr><tr><td>Circuit Park Zandvoort</td><td>Zandvoort</td><td>Netherlands</td><td>Dutch Grand Prix</td><td>3</td></tr><tr><td>Circuit Park Zandvoort</td><td>Zandvoort</td><td>Netherlands</td><td>Dutch Grand Prix</td><td>5</td></tr><tr><td>Circuit Park Zandvoort</td><td>Zandvoort</td><td>Netherlands</td><td>Dutch Grand Prix</td><td>3</td></tr><tr><td>Circuit Park Zandvoort</td><td>Zandvoort</td><td>Netherlands</td><td>Dutch Grand Prix</td><td>7</td></tr><tr><td>Circuit Park Zandvoort</td><td>Zandvoort</td><td>Netherlands</td><td>Dutch Grand Prix</td><td>13</td></tr><tr><td>Zolder</td><td>Heusden-Zolder</td><td>Belgium</td><td>Belgian Grand Prix</td><td>3</td></tr><tr><td>Zolder</td><td>Heusden-Zolder</td><td>Belgium</td><td>Belgian Grand Prix</td><td>5</td></tr><tr><td>Zolder</td><td>Heusden-Zolder</td><td>Belgium</td><td>Belgian Grand Prix</td><td>5</td></tr><tr><td>Zolder</td><td>Heusden-Zolder</td><td>Belgium</td><td>Belgian Grand Prix</td><td>5</td></tr><tr><td>Zolder</td><td>Heusden-Zolder</td><td>Belgium</td><td>Belgian Grand Prix</td><td>6</td></tr><tr><td>Zolder</td><td>Heusden-Zolder</td><td>Belgium</td><td>Belgian Grand Prix</td><td>6</td></tr><tr><td>Zolder</td><td>Heusden-Zolder</td><td>Belgium</td><td>Belgian Grand Prix</td><td>7</td></tr><tr><td>Zolder</td><td>Heusden-Zolder</td><td>Belgium</td><td>Belgian Grand Prix</td><td>5</td></tr><tr><td>Zolder</td><td>Heusden-Zolder</td><td>Belgium</td><td>Belgian Grand Prix</td><td>6</td></tr><tr><td>Zolder</td><td>Heusden-Zolder</td><td>Belgium</td><td>Belgian Grand Prix</td><td>5</td></tr><tr><td>Dijon-Prenois</td><td>Dijon</td><td>France</td><td>French Grand Prix</td><td>5</td></tr><tr><td>Dijon-Prenois</td><td>Dijon</td><td>France</td><td>Swiss Grand Prix</td><td>14</td></tr><tr><td>Dijon-Prenois</td><td>Dijon</td><td>France</td><td>French Grand Prix</td><td>8</td></tr><tr><td>Dijon-Prenois</td><td>Dijon</td><td>France</td><td>French Grand Prix</td><td>8</td></tr><tr><td>Dijon-Prenois</td><td>Dijon</td><td>France</td><td>French Grand Prix</td><td>9</td></tr><tr><td>Dijon-Prenois</td><td>Dijon</td><td>France</td><td>French Grand Prix</td><td>9</td></tr><tr><td>Fair Park</td><td>Dallas</td><td>USA</td><td>Dallas Grand Prix</td><td>9</td></tr><tr><td>Long Beach</td><td>California</td><td>USA</td><td>United States Grand Prix West</td><td>2</td></tr><tr><td>Long Beach</td><td>California</td><td>USA</td><td>United States Grand Prix West</td><td>3</td></tr><tr><td>Long Beach</td><td>California</td><td>USA</td><td>United States Grand Prix West</td><td>1</td></tr><tr><td>Long Beach</td><td>California</td><td>USA</td><td>United States Grand Prix West</td><td>4</td></tr><tr><td>Long Beach</td><td>California</td><td>USA</td><td>United States Grand Prix West</td><td>4</td></tr><tr><td>Long Beach</td><td>California</td><td>USA</td><td>United States Grand Prix West</td><td>4</td></tr><tr><td>Long Beach</td><td>California</td><td>USA</td><td>United States Grand Prix West</td><td>4</td></tr><tr><td>Long Beach</td><td>California</td><td>USA</td><td>United States Grand Prix West</td><td>3</td></tr><tr><td>Las Vegas Street Circuit</td><td>Nevada</td><td>USA</td><td>Caesars Palace Grand Prix</td><td>16</td></tr><tr><td>Las Vegas Street Circuit</td><td>Nevada</td><td>USA</td><td>Caesars Palace Grand Prix</td><td>15</td></tr><tr><td>Jarama</td><td>Madrid</td><td>Spain</td><td>Spanish Grand Prix</td><td>7</td></tr><tr><td>Jarama</td><td>Madrid</td><td>Spain</td><td>Spanish Grand Prix</td><td>5</td></tr><tr><td>Jarama</td><td>Madrid</td><td>Spain</td><td>Spanish Grand Prix</td><td>7</td></tr><tr><td>Jarama</td><td>Madrid</td><td>Spain</td><td>Spanish Grand Prix</td><td>5</td></tr><tr><td>Jarama</td><td>Madrid</td><td>Spain</td><td>Spanish Grand Prix</td><td>4</td></tr><tr><td>Jarama</td><td>Madrid</td><td>Spain</td><td>Spanish Grand Prix</td><td>4</td></tr><tr><td>Jarama</td><td>Madrid</td><td>Spain</td><td>Spanish Grand Prix</td><td>3</td></tr><tr><td>Jarama</td><td>Madrid</td><td>Spain</td><td>Spanish Grand Prix</td><td>2</td></tr><tr><td>Jarama</td><td>Madrid</td><td>Spain</td><td>Spanish Grand Prix</td><td>2</td></tr><tr><td>Watkins Glen</td><td>New York State</td><td>USA</td><td>United States Grand Prix</td><td>14</td></tr><tr><td>Watkins Glen</td><td>New York State</td><td>USA</td><td>United States Grand Prix</td><td>15</td></tr><tr><td>Watkins Glen</td><td>New York State</td><td>USA</td><td>United States Grand Prix</td><td>15</td></tr><tr><td>Watkins Glen</td><td>New York State</td><td>USA</td><td>United States Grand Prix</td><td>15</td></tr><tr><td>Watkins Glen</td><td>New York State</td><td>USA</td><td>United States Grand Prix</td><td>15</td></tr><tr><td>Watkins Glen</td><td>New York State</td><td>USA</td><td>United States Grand Prix</td><td>14</td></tr><tr><td>Watkins Glen</td><td>New York State</td><td>USA</td><td>United States Grand Prix</td><td>15</td></tr><tr><td>Watkins Glen</td><td>New York State</td><td>USA</td><td>United States Grand Prix</td><td>15</td></tr><tr><td>Watkins Glen</td><td>New York State</td><td>USA</td><td>United States Grand Prix</td><td>12</td></tr><tr><td>Watkins Glen</td><td>New York State</td><td>USA</td><td>United States Grand Prix</td><td>11</td></tr><tr><td>Watkins Glen</td><td>New York State</td><td>USA</td><td>United States Grand Prix</td><td>12</td></tr><tr><td>Watkins Glen</td><td>New York State</td><td>USA</td><td>United States Grand Prix</td><td>10</td></tr><tr><td>Watkins Glen</td><td>New York State</td><td>USA</td><td>United States Grand Prix</td><td>11</td></tr><tr><td>Watkins Glen</td><td>New York State</td><td>USA</td><td>United States Grand Prix</td><td>10</td></tr><tr><td>Watkins Glen</td><td>New York State</td><td>USA</td><td>United States Grand Prix</td><td>8</td></tr><tr><td>Watkins Glen</td><td>New York State</td><td>USA</td><td>United States Grand Prix</td><td>9</td></tr><tr><td>Watkins Glen</td><td>New York State</td><td>USA</td><td>United States Grand Prix</td><td>9</td></tr><tr><td>Watkins Glen</td><td>New York State</td><td>USA</td><td>United States Grand Prix</td><td>8</td></tr><tr><td>Watkins Glen</td><td>New York State</td><td>USA</td><td>United States Grand Prix</td><td>8</td></tr><tr><td>Watkins Glen</td><td>New York State</td><td>USA</td><td>United States Grand Prix</td><td>8</td></tr><tr><td>Scandinavian Raceway</td><td>Anderstorp</td><td>Sweden</td><td>Swedish Grand Prix</td><td>8</td></tr><tr><td>Scandinavian Raceway</td><td>Anderstorp</td><td>Sweden</td><td>Swedish Grand Prix</td><td>8</td></tr><tr><td>Scandinavian Raceway</td><td>Anderstorp</td><td>Sweden</td><td>Swedish Grand Prix</td><td>7</td></tr><tr><td>Scandinavian Raceway</td><td>Anderstorp</td><td>Sweden</td><td>Swedish Grand Prix</td><td>7</td></tr><tr><td>Scandinavian Raceway</td><td>Anderstorp</td><td>Sweden</td><td>Swedish Grand Prix</td><td>7</td></tr><tr><td>Scandinavian Raceway</td><td>Anderstorp</td><td>Sweden</td><td>Swedish Grand Prix</td><td>7</td></tr><tr><td>Mosport International Raceway</td><td>Ontario</td><td>Canada</td><td>Canadian Grand Prix</td><td>16</td></tr><tr><td>Mosport International Raceway</td><td>Ontario</td><td>Canada</td><td>Canadian Grand Prix</td><td>14</td></tr><tr><td>Mosport International Raceway</td><td>Ontario</td><td>Canada</td><td>Canadian Grand Prix</td><td>14</td></tr><tr><td>Mosport International Raceway</td><td>Ontario</td><td>Canada</td><td>Canadian Grand Prix</td><td>14</td></tr><tr><td>Mosport International Raceway</td><td>Ontario</td><td>Canada</td><td>Canadian Grand Prix</td><td>11</td></tr><tr><td>Mosport International Raceway</td><td>Ontario</td><td>Canada</td><td>Canadian Grand Prix</td><td>10</td></tr><tr><td>Mosport International Raceway</td><td>Ontario</td><td>Canada</td><td>Canadian Grand Prix</td><td>9</td></tr><tr><td>Mosport International Raceway</td><td>Ontario</td><td>Canada</td><td>Canadian Grand Prix</td><td>8</td></tr><tr><td>Montjuïc</td><td>Barcelona</td><td>Spain</td><td>Spanish Grand Prix</td><td>4</td></tr><tr><td>Montjuïc</td><td>Barcelona</td><td>Spain</td><td>Spanish Grand Prix</td><td>4</td></tr><tr><td>Montjuïc</td><td>Barcelona</td><td>Spain</td><td>Spanish Grand Prix</td><td>2</td></tr><tr><td>Montjuïc</td><td>Barcelona</td><td>Spain</td><td>Spanish Grand Prix</td><td>2</td></tr><tr><td>Nivelles-Baulers</td><td>Brussels</td><td>Belgium</td><td>Belgian Grand Prix</td><td>5</td></tr><tr><td>Nivelles-Baulers</td><td>Brussels</td><td>Belgium</td><td>Belgian Grand Prix</td><td>5</td></tr><tr><td>Charade Circuit</td><td>Clermont-Ferrand</td><td>France</td><td>French Grand Prix</td><td>6</td></tr><tr><td>Charade Circuit</td><td>Clermont-Ferrand</td><td>France</td><td>French Grand Prix</td><td>6</td></tr><tr><td>Charade Circuit</td><td>Clermont-Ferrand</td><td>France</td><td>French Grand Prix</td><td>5</td></tr><tr><td>Charade Circuit</td><td>Clermont-Ferrand</td><td>France</td><td>French Grand Prix</td><td>4</td></tr><tr><td>Circuit Mont-Tremblant</td><td>Quebec</td><td>Canada</td><td>Canadian Grand Prix</td><td>11</td></tr><tr><td>Circuit Mont-Tremblant</td><td>Quebec</td><td>Canada</td><td>Canadian Grand Prix</td><td>10</td></tr><tr><td>Rouen-Les-Essarts</td><td>Rouen</td><td>France</td><td>French Grand Prix</td><td>6</td></tr><tr><td>Rouen-Les-Essarts</td><td>Rouen</td><td>France</td><td>French Grand Prix</td><td>4</td></tr><tr><td>Rouen-Les-Essarts</td><td>Rouen</td><td>France</td><td>French Grand Prix</td><td>4</td></tr><tr><td>Rouen-Les-Essarts</td><td>Rouen</td><td>France</td><td>French Grand Prix</td><td>4</td></tr><tr><td>Rouen-Les-Essarts</td><td>Rouen</td><td>France</td><td>French Grand Prix</td><td>4</td></tr><tr><td>Le Mans</td><td>Le Mans</td><td>France</td><td>French Grand Prix</td><td>5</td></tr><tr><td>Reims-Gueux</td><td>Reims</td><td>France</td><td>French Grand Prix</td><td>3</td></tr><tr><td>Reims-Gueux</td><td>Reims</td><td>France</td><td>French Grand Prix</td><td>4</td></tr><tr><td>Reims-Gueux</td><td>Reims</td><td>France</td><td>French Grand Prix</td><td>4</td></tr><tr><td>Reims-Gueux</td><td>Reims</td><td>France</td><td>French Grand Prix</td><td>6</td></tr><tr><td>Reims-Gueux</td><td>Reims</td><td>France</td><td>French Grand Prix</td><td>4</td></tr><tr><td>Reims-Gueux</td><td>Reims</td><td>France</td><td>French Grand Prix</td><td>6</td></tr><tr><td>Reims-Gueux</td><td>Reims</td><td>France</td><td>French Grand Prix</td><td>5</td></tr><tr><td>Reims-Gueux</td><td>Reims</td><td>France</td><td>French Grand Prix</td><td>4</td></tr><tr><td>Reims-Gueux</td><td>Reims</td><td>France</td><td>French Grand Prix</td><td>5</td></tr><tr><td>Reims-Gueux</td><td>Reims</td><td>France</td><td>French Grand Prix</td><td>4</td></tr><tr><td>Reims-Gueux</td><td>Reims</td><td>France</td><td>French Grand Prix</td><td>6</td></tr><tr><td>Prince George Circuit</td><td>Eastern Cape Province</td><td>South Africa</td><td>South African Grand Prix</td><td>1</td></tr><tr><td>Prince George Circuit</td><td>Eastern Cape Province</td><td>South Africa</td><td>South African Grand Prix</td><td>10</td></tr><tr><td>Prince George Circuit</td><td>Eastern Cape Province</td><td>South Africa</td><td>South African Grand Prix</td><td>9</td></tr><tr><td>Zeltweg</td><td>Styria</td><td>Austria</td><td>Austrian Grand Prix</td><td>7</td></tr><tr><td>Aintree</td><td>Liverpool</td><td>UK</td><td>British Grand Prix</td><td>5</td></tr><tr><td>Aintree</td><td>Liverpool</td><td>UK</td><td>British Grand Prix</td><td>5</td></tr><tr><td>Aintree</td><td>Liverpool</td><td>UK</td><td>British Grand Prix</td><td>5</td></tr><tr><td>Aintree</td><td>Liverpool</td><td>UK</td><td>British Grand Prix</td><td>5</td></tr><tr><td>Aintree</td><td>Liverpool</td><td>UK</td><td>British Grand Prix</td><td>6</td></tr><tr><td>Circuito da Boavista</td><td>Oporto</td><td>Portugal</td><td>Portuguese Grand Prix</td><td>8</td></tr><tr><td>Circuito da Boavista</td><td>Oporto</td><td>Portugal</td><td>Portuguese Grand Prix</td><td>9</td></tr><tr><td>Riverside International Raceway</td><td>California</td><td>USA</td><td>United States Grand Prix</td><td>10</td></tr><tr><td>AVUS</td><td>Berlin</td><td>Germany</td><td>German Grand Prix</td><td>6</td></tr><tr><td>Monsanto Park Circuit</td><td>Lisbon</td><td>Portugal</td><td>Portuguese Grand Prix</td><td>7</td></tr><tr><td>Sebring International Raceway</td><td>Florida</td><td>USA</td><td>United States Grand Prix</td><td>9</td></tr><tr><td>Ain Diab</td><td>Casablanca</td><td>Morocco</td><td>Moroccan Grand Prix</td><td>11</td></tr><tr><td>Pescara Circuit</td><td>Pescara</td><td>Italy</td><td>Pescara Grand Prix</td><td>7</td></tr><tr><td>Circuit Bremgarten</td><td>Bern</td><td>Switzerland</td><td>Swiss Grand Prix</td><td>7</td></tr><tr><td>Circuit Bremgarten</td><td>Bern</td><td>Switzerland</td><td>Swiss Grand Prix</td><td>8</td></tr><tr><td>Circuit Bremgarten</td><td>Bern</td><td>Switzerland</td><td>Swiss Grand Prix</td><td>1</td></tr><tr><td>Circuit Bremgarten</td><td>Bern</td><td>Switzerland</td><td>Swiss Grand Prix</td><td>1</td></tr><tr><td>Circuit Bremgarten</td><td>Bern</td><td>Switzerland</td><td>Swiss Grand Prix</td><td>4</td></tr><tr><td>Circuit de Pedralbes</td><td>Barcelona</td><td>Spain</td><td>Spanish Grand Prix</td><td>9</td></tr><tr><td>Circuit de Pedralbes</td><td>Barcelona</td><td>Spain</td><td>Spanish Grand Prix</td><td>8</td></tr><tr><td>Buddh International Circuit</td><td>Uttar Pradesh</td><td>India</td><td>Indian Grand Prix</td><td>17</td></tr><tr><td>Buddh International Circuit</td><td>Uttar Pradesh</td><td>India</td><td>Indian Grand Prix</td><td>17</td></tr><tr><td>Buddh International Circuit</td><td>Uttar Pradesh</td><td>India</td><td>Indian Grand Prix</td><td>16</td></tr><tr><td>Circuit of the Americas</td><td>Austin</td><td>USA</td><td>United States Grand Prix</td><td>19</td></tr><tr><td>Circuit of the Americas</td><td>Austin</td><td>USA</td><td>United States Grand Prix</td><td>18</td></tr><tr><td>Circuit of the Americas</td><td>Austin</td><td>USA</td><td>United States Grand Prix</td><td>17</td></tr><tr><td>Circuit of the Americas</td><td>Austin</td><td>USA</td><td>United States Grand Prix</td><td>16</td></tr><tr><td>Circuit of the Americas</td><td>Austin</td><td>USA</td><td>United States Grand Prix</td><td>18</td></tr><tr><td>Circuit of the Americas</td><td>Austin</td><td>USA</td><td>United States Grand Prix</td><td>17</td></tr><tr><td>Circuit of the Americas</td><td>Austin</td><td>USA</td><td>United States Grand Prix</td><td>18</td></tr><tr><td>Circuit of the Americas</td><td>Austin</td><td>USA</td><td>United States Grand Prix</td><td>19</td></tr><tr><td>Circuit of the Americas</td><td>Austin</td><td>USA</td><td>United States Grand Prix</td><td>18</td></tr><tr><td>Red Bull Ring</td><td>Spielburg</td><td>Austria</td><td>Austrian Grand Prix</td><td>8</td></tr><tr><td>Red Bull Ring</td><td>Spielburg</td><td>Austria</td><td>Austrian Grand Prix</td><td>8</td></tr><tr><td>Red Bull Ring</td><td>Spielburg</td><td>Austria</td><td>Austrian Grand Prix</td><td>9</td></tr><tr><td>Red Bull Ring</td><td>Spielburg</td><td>Austria</td><td>Austrian Grand Prix</td><td>9</td></tr><tr><td>Red Bull Ring</td><td>Spielburg</td><td>Austria</td><td>Austrian Grand Prix</td><td>9</td></tr><tr><td>Red Bull Ring</td><td>Spielburg</td><td>Austria</td><td>Austrian Grand Prix</td><td>9</td></tr><tr><td>Red Bull Ring</td><td>Spielburg</td><td>Austria</td><td>Austrian Grand Prix</td><td>1</td></tr><tr><td>Red Bull Ring</td><td>Spielburg</td><td>Austria</td><td>Styrian Grand Prix</td><td>2</td></tr><tr><td>Red Bull Ring</td><td>Spielburg</td><td>Austria</td><td>Austrian Grand Prix</td><td>9</td></tr><tr><td>Sochi Autodrom</td><td>Sochi</td><td>Russia</td><td>Russian Grand Prix</td><td>16</td></tr><tr><td>Sochi Autodrom</td><td>Sochi</td><td>Russia</td><td>Russian Grand Prix</td><td>15</td></tr><tr><td>Sochi Autodrom</td><td>Sochi</td><td>Russia</td><td>Russian Grand Prix</td><td>4</td></tr><tr><td>Sochi Autodrom</td><td>Sochi</td><td>Russia</td><td>Russian Grand Prix</td><td>4</td></tr><tr><td>Sochi Autodrom</td><td>Sochi</td><td>Russia</td><td>Russian Grand Prix</td><td>16</td></tr><tr><td>Sochi Autodrom</td><td>Sochi</td><td>Russia</td><td>Russian Grand Prix</td><td>16</td></tr><tr><td>Sochi Autodrom</td><td>Sochi</td><td>Russia</td><td>Russian Grand Prix</td><td>10</td></tr><tr><td>Sochi Autodrom</td><td>Sochi</td><td>Russia</td><td>Russian Grand Prix</td><td>15</td></tr><tr><td>Port Imperial Street Circuit</td><td>New Jersey</td><td>USA</td><td>null</td><td>null</td></tr><tr><td>Baku City Circuit</td><td>Baku</td><td>Azerbaijan</td><td>European Grand Prix</td><td>8</td></tr><tr><td>Baku City Circuit</td><td>Baku</td><td>Azerbaijan</td><td>Azerbaijan Grand Prix</td><td>8</td></tr><tr><td>Baku City Circuit</td><td>Baku</td><td>Azerbaijan</td><td>Azerbaijan Grand Prix</td><td>4</td></tr><tr><td>Baku City Circuit</td><td>Baku</td><td>Azerbaijan</td><td>Azerbaijan Grand Prix</td><td>4</td></tr><tr><td>Baku City Circuit</td><td>Baku</td><td>Azerbaijan</td><td>Azerbaijan Grand Prix</td><td>6</td></tr><tr><td>Hanoi Street Circuit</td><td>Hanoi</td><td>Vietnam</td><td>null</td><td>null</td></tr><tr><td>Autódromo Internacional do Algarve</td><td>Portimão</td><td>Portugal</td><td>Portuguese Grand Prix</td><td>12</td></tr><tr><td>Autodromo Internazionale del Mugello</td><td>Mugello</td><td>Italy</td><td>Tuscan Grand Prix</td><td>9</td></tr><tr><td>Jeddah Street Circuit</td><td>Jeddah</td><td>Saudi Arabia</td><td>Saudi Arabian Grand Prix</td><td>22</td></tr></tbody></table></div>"
      ]
     },
     "metadata": {
      "application/vnd.databricks.v1+output": {
       "addedWidgets": {},
       "aggData": [],
       "aggError": "",
       "aggOverflow": false,
       "aggSchema": [],
       "aggSeriesLimitReached": false,
       "aggType": "",
       "arguments": {},
       "columnCustomDisplayInfos": {},
       "data": [
        [
         "Albert Park Grand Prix Circuit",
         "Melbourne",
         "Australia",
         "Australian Grand Prix",
         1
        ],
        [
         "Albert Park Grand Prix Circuit",
         "Melbourne",
         "Australia",
         "Australian Grand Prix",
         1
        ],
        [
         "Albert Park Grand Prix Circuit",
         "Melbourne",
         "Australia",
         "Australian Grand Prix",
         1
        ],
        [
         "Albert Park Grand Prix Circuit",
         "Melbourne",
         "Australia",
         "Australian Grand Prix",
         3
        ],
        [
         "Albert Park Grand Prix Circuit",
         "Melbourne",
         "Australia",
         "Australian Grand Prix",
         1
        ],
        [
         "Albert Park Grand Prix Circuit",
         "Melbourne",
         "Australia",
         "Australian Grand Prix",
         1
        ],
        [
         "Albert Park Grand Prix Circuit",
         "Melbourne",
         "Australia",
         "Australian Grand Prix",
         1
        ],
        [
         "Albert Park Grand Prix Circuit",
         "Melbourne",
         "Australia",
         "Australian Grand Prix",
         1
        ],
        [
         "Albert Park Grand Prix Circuit",
         "Melbourne",
         "Australia",
         "Australian Grand Prix",
         1
        ],
        [
         "Albert Park Grand Prix Circuit",
         "Melbourne",
         "Australia",
         "Australian Grand Prix",
         1
        ],
        [
         "Albert Park Grand Prix Circuit",
         "Melbourne",
         "Australia",
         "Australian Grand Prix",
         1
        ],
        [
         "Albert Park Grand Prix Circuit",
         "Melbourne",
         "Australia",
         "Australian Grand Prix",
         1
        ],
        [
         "Albert Park Grand Prix Circuit",
         "Melbourne",
         "Australia",
         "Australian Grand Prix",
         1
        ],
        [
         "Albert Park Grand Prix Circuit",
         "Melbourne",
         "Australia",
         "Australian Grand Prix",
         1
        ],
        [
         "Albert Park Grand Prix Circuit",
         "Melbourne",
         "Australia",
         "Australian Grand Prix",
         2
        ],
        [
         "Albert Park Grand Prix Circuit",
         "Melbourne",
         "Australia",
         "Australian Grand Prix",
         1
        ],
        [
         "Albert Park Grand Prix Circuit",
         "Melbourne",
         "Australia",
         "Australian Grand Prix",
         1
        ],
        [
         "Albert Park Grand Prix Circuit",
         "Melbourne",
         "Australia",
         "Australian Grand Prix",
         1
        ],
        [
         "Albert Park Grand Prix Circuit",
         "Melbourne",
         "Australia",
         "Australian Grand Prix",
         1
        ],
        [
         "Albert Park Grand Prix Circuit",
         "Melbourne",
         "Australia",
         "Australian Grand Prix",
         1
        ],
        [
         "Albert Park Grand Prix Circuit",
         "Melbourne",
         "Australia",
         "Australian Grand Prix",
         1
        ],
        [
         "Albert Park Grand Prix Circuit",
         "Melbourne",
         "Australia",
         "Australian Grand Prix",
         1
        ],
        [
         "Albert Park Grand Prix Circuit",
         "Melbourne",
         "Australia",
         "Australian Grand Prix",
         1
        ],
        [
         "Albert Park Grand Prix Circuit",
         "Melbourne",
         "Australia",
         "Australian Grand Prix",
         1
        ],
        [
         "Albert Park Grand Prix Circuit",
         "Melbourne",
         "Australia",
         "Australian Grand Prix",
         21
        ],
        [
         "Sepang International Circuit",
         "Kuala Lumpur",
         "Malaysia",
         "Malaysian Grand Prix",
         2
        ],
        [
         "Sepang International Circuit",
         "Kuala Lumpur",
         "Malaysia",
         "Malaysian Grand Prix",
         2
        ],
        [
         "Sepang International Circuit",
         "Kuala Lumpur",
         "Malaysia",
         "Malaysian Grand Prix",
         2
        ],
        [
         "Sepang International Circuit",
         "Kuala Lumpur",
         "Malaysia",
         "Malaysian Grand Prix",
         2
        ],
        [
         "Sepang International Circuit",
         "Kuala Lumpur",
         "Malaysia",
         "Malaysian Grand Prix",
         2
        ],
        [
         "Sepang International Circuit",
         "Kuala Lumpur",
         "Malaysia",
         "Malaysian Grand Prix",
         2
        ],
        [
         "Sepang International Circuit",
         "Kuala Lumpur",
         "Malaysia",
         "Malaysian Grand Prix",
         2
        ],
        [
         "Sepang International Circuit",
         "Kuala Lumpur",
         "Malaysia",
         "Malaysian Grand Prix",
         2
        ],
        [
         "Sepang International Circuit",
         "Kuala Lumpur",
         "Malaysia",
         "Malaysian Grand Prix",
         2
        ],
        [
         "Sepang International Circuit",
         "Kuala Lumpur",
         "Malaysia",
         "Malaysian Grand Prix",
         17
        ],
        [
         "Sepang International Circuit",
         "Kuala Lumpur",
         "Malaysia",
         "Malaysian Grand Prix",
         15
        ],
        [
         "Sepang International Circuit",
         "Kuala Lumpur",
         "Malaysia",
         "Malaysian Grand Prix",
         3
        ],
        [
         "Sepang International Circuit",
         "Kuala Lumpur",
         "Malaysia",
         "Malaysian Grand Prix",
         2
        ],
        [
         "Sepang International Circuit",
         "Kuala Lumpur",
         "Malaysia",
         "Malaysian Grand Prix",
         2
        ],
        [
         "Sepang International Circuit",
         "Kuala Lumpur",
         "Malaysia",
         "Malaysian Grand Prix",
         2
        ],
        [
         "Sepang International Circuit",
         "Kuala Lumpur",
         "Malaysia",
         "Malaysian Grand Prix",
         2
        ],
        [
         "Sepang International Circuit",
         "Kuala Lumpur",
         "Malaysia",
         "Malaysian Grand Prix",
         2
        ],
        [
         "Sepang International Circuit",
         "Kuala Lumpur",
         "Malaysia",
         "Malaysian Grand Prix",
         16
        ],
        [
         "Sepang International Circuit",
         "Kuala Lumpur",
         "Malaysia",
         "Malaysian Grand Prix",
         15
        ],
        [
         "Bahrain International Circuit",
         "Sakhir",
         "Bahrain",
         "Bahrain Grand Prix",
         4
        ],
        [
         "Bahrain International Circuit",
         "Sakhir",
         "Bahrain",
         "Bahrain Grand Prix",
         3
        ],
        [
         "Bahrain International Circuit",
         "Sakhir",
         "Bahrain",
         "Bahrain Grand Prix",
         3
        ],
        [
         "Bahrain International Circuit",
         "Sakhir",
         "Bahrain",
         "Bahrain Grand Prix",
         1
        ],
        [
         "Bahrain International Circuit",
         "Sakhir",
         "Bahrain",
         "Bahrain Grand Prix",
         3
        ],
        [
         "Bahrain International Circuit",
         "Sakhir",
         "Bahrain",
         "Bahrain Grand Prix",
         3
        ],
        [
         "Bahrain International Circuit",
         "Sakhir",
         "Bahrain",
         "Bahrain Grand Prix",
         1
        ],
        [
         "Bahrain International Circuit",
         "Sakhir",
         "Bahrain",
         "Bahrain Grand Prix",
         4
        ],
        [
         "Bahrain International Circuit",
         "Sakhir",
         "Bahrain",
         "Bahrain Grand Prix",
         4
        ],
        [
         "Bahrain International Circuit",
         "Sakhir",
         "Bahrain",
         "Bahrain Grand Prix",
         3
        ],
        [
         "Bahrain International Circuit",
         "Sakhir",
         "Bahrain",
         "Bahrain Grand Prix",
         4
        ],
        [
         "Bahrain International Circuit",
         "Sakhir",
         "Bahrain",
         "Bahrain Grand Prix",
         2
        ],
        [
         "Bahrain International Circuit",
         "Sakhir",
         "Bahrain",
         "Bahrain Grand Prix",
         3
        ],
        [
         "Bahrain International Circuit",
         "Sakhir",
         "Bahrain",
         "Bahrain Grand Prix",
         2
        ],
        [
         "Bahrain International Circuit",
         "Sakhir",
         "Bahrain",
         "Bahrain Grand Prix",
         2
        ],
        [
         "Bahrain International Circuit",
         "Sakhir",
         "Bahrain",
         "Bahrain Grand Prix",
         15
        ],
        [
         "Bahrain International Circuit",
         "Sakhir",
         "Bahrain",
         "Sakhir Grand Prix",
         16
        ],
        [
         "Bahrain International Circuit",
         "Sakhir",
         "Bahrain",
         "Bahrain Grand Prix",
         1
        ],
        [
         "Circuit de Barcelona-Catalunya",
         "Montmeló",
         "Spain",
         "Spanish Grand Prix",
         5
        ],
        [
         "Circuit de Barcelona-Catalunya",
         "Montmeló",
         "Spain",
         "Spanish Grand Prix",
         4
        ],
        [
         "Circuit de Barcelona-Catalunya",
         "Montmeló",
         "Spain",
         "Spanish Grand Prix",
         4
        ],
        [
         "Circuit de Barcelona-Catalunya",
         "Montmeló",
         "Spain",
         "Spanish Grand Prix",
         6
        ],
        [
         "Circuit de Barcelona-Catalunya",
         "Montmeló",
         "Spain",
         "Spanish Grand Prix",
         5
        ],
        [
         "Circuit de Barcelona-Catalunya",
         "Montmeló",
         "Spain",
         "Spanish Grand Prix",
         5
        ],
        [
         "Circuit de Barcelona-Catalunya",
         "Montmeló",
         "Spain",
         "Spanish Grand Prix",
         5
        ],
        [
         "Circuit de Barcelona-Catalunya",
         "Montmeló",
         "Spain",
         "Spanish Grand Prix",
         5
        ],
        [
         "Circuit de Barcelona-Catalunya",
         "Montmeló",
         "Spain",
         "Spanish Grand Prix",
         5
        ],
        [
         "Circuit de Barcelona-Catalunya",
         "Montmeló",
         "Spain",
         "Spanish Grand Prix",
         5
        ],
        [
         "Circuit de Barcelona-Catalunya",
         "Montmeló",
         "Spain",
         "Spanish Grand Prix",
         5
        ],
        [
         "Circuit de Barcelona-Catalunya",
         "Montmeló",
         "Spain",
         "Spanish Grand Prix",
         5
        ],
        [
         "Circuit de Barcelona-Catalunya",
         "Montmeló",
         "Spain",
         "Spanish Grand Prix",
         6
        ],
        [
         "Circuit de Barcelona-Catalunya",
         "Montmeló",
         "Spain",
         "Spanish Grand Prix",
         7
        ],
        [
         "Circuit de Barcelona-Catalunya",
         "Montmeló",
         "Spain",
         "Spanish Grand Prix",
         4
        ],
        [
         "Circuit de Barcelona-Catalunya",
         "Montmeló",
         "Spain",
         "Spanish Grand Prix",
         5
        ],
        [
         "Circuit de Barcelona-Catalunya",
         "Montmeló",
         "Spain",
         "Spanish Grand Prix",
         5
        ],
        [
         "Circuit de Barcelona-Catalunya",
         "Montmeló",
         "Spain",
         "Spanish Grand Prix",
         4
        ],
        [
         "Circuit de Barcelona-Catalunya",
         "Montmeló",
         "Spain",
         "Spanish Grand Prix",
         14
        ],
        [
         "Circuit de Barcelona-Catalunya",
         "Montmeló",
         "Spain",
         "Spanish Grand Prix",
         5
        ],
        [
         "Circuit de Barcelona-Catalunya",
         "Montmeló",
         "Spain",
         "Spanish Grand Prix",
         5
        ],
        [
         "Circuit de Barcelona-Catalunya",
         "Montmeló",
         "Spain",
         "Spanish Grand Prix",
         5
        ],
        [
         "Circuit de Barcelona-Catalunya",
         "Montmeló",
         "Spain",
         "Spanish Grand Prix",
         5
        ],
        [
         "Circuit de Barcelona-Catalunya",
         "Montmeló",
         "Spain",
         "Spanish Grand Prix",
         5
        ],
        [
         "Circuit de Barcelona-Catalunya",
         "Montmeló",
         "Spain",
         "Spanish Grand Prix",
         5
        ],
        [
         "Circuit de Barcelona-Catalunya",
         "Montmeló",
         "Spain",
         "Spanish Grand Prix",
         5
        ],
        [
         "Circuit de Barcelona-Catalunya",
         "Montmeló",
         "Spain",
         "Spanish Grand Prix",
         5
        ],
        [
         "Circuit de Barcelona-Catalunya",
         "Montmeló",
         "Spain",
         "Spanish Grand Prix",
         5
        ],
        [
         "Circuit de Barcelona-Catalunya",
         "Montmeló",
         "Spain",
         "Spanish Grand Prix",
         5
        ],
        [
         "Circuit de Barcelona-Catalunya",
         "Montmeló",
         "Spain",
         "Spanish Grand Prix",
         6
        ],
        [
         "Circuit de Barcelona-Catalunya",
         "Montmeló",
         "Spain",
         "Spanish Grand Prix",
         4
        ],
        [
         "Istanbul Park",
         "Istanbul",
         "Turkey",
         "Turkish Grand Prix",
         7
        ],
        [
         "Istanbul Park",
         "Istanbul",
         "Turkey",
         "Turkish Grand Prix",
         5
        ],
        [
         "Istanbul Park",
         "Istanbul",
         "Turkey",
         "Turkish Grand Prix",
         12
        ],
        [
         "Istanbul Park",
         "Istanbul",
         "Turkey",
         "Turkish Grand Prix",
         14
        ],
        [
         "Istanbul Park",
         "Istanbul",
         "Turkey",
         "Turkish Grand Prix",
         14
        ],
        [
         "Istanbul Park",
         "Istanbul",
         "Turkey",
         "Turkish Grand Prix",
         7
        ],
        [
         "Istanbul Park",
         "Istanbul",
         "Turkey",
         "Turkish Grand Prix",
         4
        ],
        [
         "Istanbul Park",
         "Istanbul",
         "Turkey",
         "Turkish Grand Prix",
         14
        ],
        [
         "Circuit de Monaco",
         "Monte-Carlo",
         "Monaco",
         "Monaco Grand Prix",
         6
        ],
        [
         "Circuit de Monaco",
         "Monte-Carlo",
         "Monaco",
         "Monaco Grand Prix",
         6
        ],
        [
         "Circuit de Monaco",
         "Monte-Carlo",
         "Monaco",
         "Monaco Grand Prix",
         5
        ],
        [
         "Circuit de Monaco",
         "Monte-Carlo",
         "Monaco",
         "Monaco Grand Prix",
         7
        ],
        [
         "Circuit de Monaco",
         "Monte-Carlo",
         "Monaco",
         "Monaco Grand Prix",
         6
        ],
        [
         "Circuit de Monaco",
         "Monte-Carlo",
         "Monaco",
         "Monaco Grand Prix",
         6
        ],
        [
         "Circuit de Monaco",
         "Monte-Carlo",
         "Monaco",
         "Monaco Grand Prix",
         7
        ],
        [
         "Circuit de Monaco",
         "Monte-Carlo",
         "Monaco",
         "Monaco Grand Prix",
         7
        ],
        [
         "Circuit de Monaco",
         "Monte-Carlo",
         "Monaco",
         "Monaco Grand Prix",
         7
        ],
        [
         "Circuit de Monaco",
         "Monte-Carlo",
         "Monaco",
         "Monaco Grand Prix",
         7
        ],
        [
         "Circuit de Monaco",
         "Monte-Carlo",
         "Monaco",
         "Monaco Grand Prix",
         4
        ],
        [
         "Circuit de Monaco",
         "Monte-Carlo",
         "Monaco",
         "Monaco Grand Prix",
         6
        ],
        [
         "Circuit de Monaco",
         "Monte-Carlo",
         "Monaco",
         "Monaco Grand Prix",
         5
        ],
        [
         "Circuit de Monaco",
         "Monte-Carlo",
         "Monaco",
         "Monaco Grand Prix",
         6
        ],
        [
         "Circuit de Monaco",
         "Monte-Carlo",
         "Monaco",
         "Monaco Grand Prix",
         5
        ],
        [
         "Circuit de Monaco",
         "Monte-Carlo",
         "Monaco",
         "Monaco Grand Prix",
         4
        ],
        [
         "Circuit de Monaco",
         "Monte-Carlo",
         "Monaco",
         "Monaco Grand Prix",
         6
        ],
        [
         "Circuit de Monaco",
         "Monte-Carlo",
         "Monaco",
         "Monaco Grand Prix",
         6
        ],
        [
         "Circuit de Monaco",
         "Monte-Carlo",
         "Monaco",
         "Monaco Grand Prix",
         4
        ],
        [
         "Circuit de Monaco",
         "Monte-Carlo",
         "Monaco",
         "Monaco Grand Prix",
         4
        ],
        [
         "Circuit de Monaco",
         "Monte-Carlo",
         "Monaco",
         "Monaco Grand Prix",
         6
        ],
        [
         "Circuit de Monaco",
         "Monte-Carlo",
         "Monaco",
         "Monaco Grand Prix",
         3
        ],
        [
         "Circuit de Monaco",
         "Monte-Carlo",
         "Monaco",
         "Monaco Grand Prix",
         3
        ],
        [
         "Circuit de Monaco",
         "Monte-Carlo",
         "Monaco",
         "Monaco Grand Prix",
         4
        ],
        [
         "Circuit de Monaco",
         "Monte-Carlo",
         "Monaco",
         "Monaco Grand Prix",
         4
        ],
        [
         "Circuit de Monaco",
         "Monte-Carlo",
         "Monaco",
         "Monaco Grand Prix",
         4
        ],
        [
         "Circuit de Monaco",
         "Monte-Carlo",
         "Monaco",
         "Monaco Grand Prix",
         6
        ],
        [
         "Circuit de Monaco",
         "Monte-Carlo",
         "Monaco",
         "Monaco Grand Prix",
         5
        ],
        [
         "Circuit de Monaco",
         "Monte-Carlo",
         "Monaco",
         "Monaco Grand Prix",
         6
        ],
        [
         "Circuit de Monaco",
         "Monte-Carlo",
         "Monaco",
         "Monaco Grand Prix",
         6
        ],
        [
         "Circuit de Monaco",
         "Monte-Carlo",
         "Monaco",
         "Monaco Grand Prix",
         6
        ],
        [
         "Circuit de Monaco",
         "Monte-Carlo",
         "Monaco",
         "Monaco Grand Prix",
         7
        ],
        [
         "Circuit de Monaco",
         "Monte-Carlo",
         "Monaco",
         "Monaco Grand Prix",
         5
        ],
        [
         "Circuit de Monaco",
         "Monte-Carlo",
         "Monaco",
         "Monaco Grand Prix",
         6
        ],
        [
         "Circuit de Monaco",
         "Monte-Carlo",
         "Monaco",
         "Monaco Grand Prix",
         6
        ],
        [
         "Circuit de Monaco",
         "Monte-Carlo",
         "Monaco",
         "Monaco Grand Prix",
         5
        ],
        [
         "Circuit de Monaco",
         "Monte-Carlo",
         "Monaco",
         "Monaco Grand Prix",
         6
        ],
        [
         "Circuit de Monaco",
         "Monte-Carlo",
         "Monaco",
         "Monaco Grand Prix",
         6
        ],
        [
         "Circuit de Monaco",
         "Monte-Carlo",
         "Monaco",
         "Monaco Grand Prix",
         4
        ],
        [
         "Circuit de Monaco",
         "Monte-Carlo",
         "Monaco",
         "Monaco Grand Prix",
         3
        ],
        [
         "Circuit de Monaco",
         "Monte-Carlo",
         "Monaco",
         "Monaco Grand Prix",
         3
        ],
        [
         "Circuit de Monaco",
         "Monte-Carlo",
         "Monaco",
         "Monaco Grand Prix",
         3
        ],
        [
         "Circuit de Monaco",
         "Monte-Carlo",
         "Monaco",
         "Monaco Grand Prix",
         3
        ],
        [
         "Circuit de Monaco",
         "Monte-Carlo",
         "Monaco",
         "Monaco Grand Prix",
         2
        ],
        [
         "Circuit de Monaco",
         "Monte-Carlo",
         "Monaco",
         "Monaco Grand Prix",
         1
        ],
        [
         "Circuit de Monaco",
         "Monte-Carlo",
         "Monaco",
         "Monaco Grand Prix",
         2
        ],
        [
         "Circuit de Monaco",
         "Monte-Carlo",
         "Monaco",
         "Monaco Grand Prix",
         1
        ],
        [
         "Circuit de Monaco",
         "Monte-Carlo",
         "Monaco",
         "Monaco Grand Prix",
         1
        ],
        [
         "Circuit de Monaco",
         "Monte-Carlo",
         "Monaco",
         "Monaco Grand Prix",
         2
        ],
        [
         "Circuit de Monaco",
         "Monte-Carlo",
         "Monaco",
         "Monaco Grand Prix",
         1
        ],
        [
         "Circuit de Monaco",
         "Monte-Carlo",
         "Monaco",
         "Monaco Grand Prix",
         2
        ],
        [
         "Circuit de Monaco",
         "Monte-Carlo",
         "Monaco",
         "Monaco Grand Prix",
         1
        ],
        [
         "Circuit de Monaco",
         "Monte-Carlo",
         "Monaco",
         "Monaco Grand Prix",
         2
        ],
        [
         "Circuit de Monaco",
         "Monte-Carlo",
         "Monaco",
         "Monaco Grand Prix",
         2
        ],
        [
         "Circuit de Monaco",
         "Monte-Carlo",
         "Monaco",
         "Monaco Grand Prix",
         2
        ],
        [
         "Circuit de Monaco",
         "Monte-Carlo",
         "Monaco",
         "Monaco Grand Prix",
         2
        ],
        [
         "Circuit de Monaco",
         "Monte-Carlo",
         "Monaco",
         "Monaco Grand Prix",
         2
        ],
        [
         "Circuit de Monaco",
         "Monte-Carlo",
         "Monaco",
         "Monaco Grand Prix",
         6
        ],
        [
         "Circuit de Monaco",
         "Monte-Carlo",
         "Monaco",
         "Monaco Grand Prix",
         6
        ],
        [
         "Circuit de Monaco",
         "Monte-Carlo",
         "Monaco",
         "Monaco Grand Prix",
         6
        ],
        [
         "Circuit de Monaco",
         "Monte-Carlo",
         "Monaco",
         "Monaco Grand Prix",
         6
        ],
        [
         "Circuit de Monaco",
         "Monte-Carlo",
         "Monaco",
         "Monaco Grand Prix",
         6
        ],
        [
         "Circuit de Monaco",
         "Monte-Carlo",
         "Monaco",
         "Monaco Grand Prix",
         6
        ],
        [
         "Circuit de Monaco",
         "Monte-Carlo",
         "Monaco",
         "Monaco Grand Prix",
         6
        ],
        [
         "Circuit de Monaco",
         "Monte-Carlo",
         "Monaco",
         "Monaco Grand Prix",
         6
        ],
        [
         "Circuit de Monaco",
         "Monte-Carlo",
         "Monaco",
         "Monaco Grand Prix",
         6
        ],
        [
         "Circuit de Monaco",
         "Monte-Carlo",
         "Monaco",
         "Monaco Grand Prix",
         5
        ],
        [
         "Circuit Gilles Villeneuve",
         "Montreal",
         "Canada",
         "Canadian Grand Prix",
         7
        ],
        [
         "Circuit Gilles Villeneuve",
         "Montreal",
         "Canada",
         "Canadian Grand Prix",
         6
        ],
        [
         "Circuit Gilles Villeneuve",
         "Montreal",
         "Canada",
         "Canadian Grand Prix",
         9
        ],
        [
         "Circuit Gilles Villeneuve",
         "Montreal",
         "Canada",
         "Canadian Grand Prix",
         8
        ],
        [
         "Circuit Gilles Villeneuve",
         "Montreal",
         "Canada",
         "Canadian Grand Prix",
         8
        ],
        [
         "Circuit Gilles Villeneuve",
         "Montreal",
         "Canada",
         "Canadian Grand Prix",
         8
        ],
        [
         "Circuit Gilles Villeneuve",
         "Montreal",
         "Canada",
         "Canadian Grand Prix",
         8
        ],
        [
         "Circuit Gilles Villeneuve",
         "Montreal",
         "Canada",
         "Canadian Grand Prix",
         8
        ],
        [
         "Circuit Gilles Villeneuve",
         "Montreal",
         "Canada",
         "Canadian Grand Prix",
         8
        ],
        [
         "Circuit Gilles Villeneuve",
         "Montreal",
         "Canada",
         "Canadian Grand Prix",
         6
        ],
        [
         "Circuit Gilles Villeneuve",
         "Montreal",
         "Canada",
         "Canadian Grand Prix",
         7
        ],
        [
         "Circuit Gilles Villeneuve",
         "Montreal",
         "Canada",
         "Canadian Grand Prix",
         7
        ],
        [
         "Circuit Gilles Villeneuve",
         "Montreal",
         "Canada",
         "Canadian Grand Prix",
         8
        ],
        [
         "Circuit Gilles Villeneuve",
         "Montreal",
         "Canada",
         "Canadian Grand Prix",
         6
        ],
        [
         "Circuit Gilles Villeneuve",
         "Montreal",
         "Canada",
         "Canadian Grand Prix",
         6
        ],
        [
         "Circuit Gilles Villeneuve",
         "Montreal",
         "Canada",
         "Canadian Grand Prix",
         7
        ],
        [
         "Circuit Gilles Villeneuve",
         "Montreal",
         "Canada",
         "Canadian Grand Prix",
         7
        ],
        [
         "Circuit Gilles Villeneuve",
         "Montreal",
         "Canada",
         "Canadian Grand Prix",
         5
        ],
        [
         "Circuit Gilles Villeneuve",
         "Montreal",
         "Canada",
         "Canadian Grand Prix",
         5
        ],
        [
         "Circuit Gilles Villeneuve",
         "Montreal",
         "Canada",
         "Canadian Grand Prix",
         8
        ],
        [
         "Circuit Gilles Villeneuve",
         "Montreal",
         "Canada",
         "Canadian Grand Prix",
         6
        ],
        [
         "Circuit Gilles Villeneuve",
         "Montreal",
         "Canada",
         "Canadian Grand Prix",
         5
        ],
        [
         "Circuit Gilles Villeneuve",
         "Montreal",
         "Canada",
         "Canadian Grand Prix",
         6
        ],
        [
         "Circuit Gilles Villeneuve",
         "Montreal",
         "Canada",
         "Canadian Grand Prix",
         5
        ],
        [
         "Circuit Gilles Villeneuve",
         "Montreal",
         "Canada",
         "Canadian Grand Prix",
         7
        ],
        [
         "Circuit Gilles Villeneuve",
         "Montreal",
         "Canada",
         "Canadian Grand Prix",
         8
        ],
        [
         "Circuit Gilles Villeneuve",
         "Montreal",
         "Canada",
         "Canadian Grand Prix",
         8
        ],
        [
         "Circuit Gilles Villeneuve",
         "Montreal",
         "Canada",
         "Canadian Grand Prix",
         14
        ],
        [
         "Circuit Gilles Villeneuve",
         "Montreal",
         "Canada",
         "Canadian Grand Prix",
         13
        ],
        [
         "Circuit Gilles Villeneuve",
         "Montreal",
         "Canada",
         "Canadian Grand Prix",
         14
        ],
        [
         "Circuit Gilles Villeneuve",
         "Montreal",
         "Canada",
         "Canadian Grand Prix",
         16
        ],
        [
         "Circuit Gilles Villeneuve",
         "Montreal",
         "Canada",
         "Canadian Grand Prix",
         7
        ],
        [
         "Circuit Gilles Villeneuve",
         "Montreal",
         "Canada",
         "Canadian Grand Prix",
         7
        ],
        [
         "Circuit Gilles Villeneuve",
         "Montreal",
         "Canada",
         "Canadian Grand Prix",
         7
        ],
        [
         "Circuit Gilles Villeneuve",
         "Montreal",
         "Canada",
         "Canadian Grand Prix",
         7
        ],
        [
         "Circuit Gilles Villeneuve",
         "Montreal",
         "Canada",
         "Canadian Grand Prix",
         7
        ],
        [
         "Circuit Gilles Villeneuve",
         "Montreal",
         "Canada",
         "Canadian Grand Prix",
         7
        ],
        [
         "Circuit Gilles Villeneuve",
         "Montreal",
         "Canada",
         "Canadian Grand Prix",
         7
        ],
        [
         "Circuit Gilles Villeneuve",
         "Montreal",
         "Canada",
         "Canadian Grand Prix",
         7
        ],
        [
         "Circuit Gilles Villeneuve",
         "Montreal",
         "Canada",
         "Canadian Grand Prix",
         7
        ],
        [
         "Circuit Gilles Villeneuve",
         "Montreal",
         "Canada",
         "Canadian Grand Prix",
         7
        ],
        [
         "Circuit de Nevers Magny-Cours",
         "Magny Cours",
         "France",
         "French Grand Prix",
         8
        ],
        [
         "Circuit de Nevers Magny-Cours",
         "Magny Cours",
         "France",
         "French Grand Prix",
         8
        ],
        [
         "Circuit de Nevers Magny-Cours",
         "Magny Cours",
         "France",
         "French Grand Prix",
         11
        ],
        [
         "Circuit de Nevers Magny-Cours",
         "Magny Cours",
         "France",
         "French Grand Prix",
         10
        ],
        [
         "Circuit de Nevers Magny-Cours",
         "Magny Cours",
         "France",
         "French Grand Prix",
         10
        ],
        [
         "Circuit de Nevers Magny-Cours",
         "Magny Cours",
         "France",
         "French Grand Prix",
         10
        ],
        [
         "Circuit de Nevers Magny-Cours",
         "Magny Cours",
         "France",
         "French Grand Prix",
         11
        ],
        [
         "Circuit de Nevers Magny-Cours",
         "Magny Cours",
         "France",
         "French Grand Prix",
         10
        ],
        [
         "Circuit de Nevers Magny-Cours",
         "Magny Cours",
         "France",
         "French Grand Prix",
         9
        ],
        [
         "Circuit de Nevers Magny-Cours",
         "Magny Cours",
         "France",
         "French Grand Prix",
         7
        ],
        [
         "Circuit de Nevers Magny-Cours",
         "Magny Cours",
         "France",
         "French Grand Prix",
         8
        ],
        [
         "Circuit de Nevers Magny-Cours",
         "Magny Cours",
         "France",
         "French Grand Prix",
         8
        ],
        [
         "Circuit de Nevers Magny-Cours",
         "Magny Cours",
         "France",
         "French Grand Prix",
         9
        ],
        [
         "Circuit de Nevers Magny-Cours",
         "Magny Cours",
         "France",
         "French Grand Prix",
         7
        ],
        [
         "Circuit de Nevers Magny-Cours",
         "Magny Cours",
         "France",
         "French Grand Prix",
         7
        ],
        [
         "Circuit de Nevers Magny-Cours",
         "Magny Cours",
         "France",
         "French Grand Prix",
         8
        ],
        [
         "Circuit de Nevers Magny-Cours",
         "Magny Cours",
         "France",
         "French Grand Prix",
         8
        ],
        [
         "Circuit de Nevers Magny-Cours",
         "Magny Cours",
         "France",
         "French Grand Prix",
         7
        ],
        [
         "Silverstone Circuit",
         "Silverstone",
         "UK",
         "British Grand Prix",
         8
        ],
        [
         "Silverstone Circuit",
         "Silverstone",
         "UK",
         "British Grand Prix",
         9
        ],
        [
         "Silverstone Circuit",
         "Silverstone",
         "UK",
         "British Grand Prix",
         9
        ],
        [
         "Silverstone Circuit",
         "Silverstone",
         "UK",
         "British Grand Prix",
         8
        ],
        [
         "Silverstone Circuit",
         "Silverstone",
         "UK",
         "British Grand Prix",
         11
        ],
        [
         "Silverstone Circuit",
         "Silverstone",
         "UK",
         "British Grand Prix",
         11
        ],
        [
         "Silverstone Circuit",
         "Silverstone",
         "UK",
         "British Grand Prix",
         11
        ],
        [
         "Silverstone Circuit",
         "Silverstone",
         "UK",
         "British Grand Prix",
         10
        ],
        [
         "Silverstone Circuit",
         "Silverstone",
         "UK",
         "British Grand Prix",
         11
        ],
        [
         "Silverstone Circuit",
         "Silverstone",
         "UK",
         "British Grand Prix",
         4
        ],
        [
         "Silverstone Circuit",
         "Silverstone",
         "UK",
         "British Grand Prix",
         8
        ],
        [
         "Silverstone Circuit",
         "Silverstone",
         "UK",
         "British Grand Prix",
         9
        ],
        [
         "Silverstone Circuit",
         "Silverstone",
         "UK",
         "British Grand Prix",
         9
        ],
        [
         "Silverstone Circuit",
         "Silverstone",
         "UK",
         "British Grand Prix",
         10
        ],
        [
         "Silverstone Circuit",
         "Silverstone",
         "UK",
         "British Grand Prix",
         8
        ],
        [
         "Silverstone Circuit",
         "Silverstone",
         "UK",
         "British Grand Prix",
         8
        ],
        [
         "Silverstone Circuit",
         "Silverstone",
         "UK",
         "British Grand Prix",
         9
        ],
        [
         "Silverstone Circuit",
         "Silverstone",
         "UK",
         "British Grand Prix",
         9
        ],
        [
         "Silverstone Circuit",
         "Silverstone",
         "UK",
         "British Grand Prix",
         8
        ],
        [
         "Silverstone Circuit",
         "Silverstone",
         "UK",
         "British Grand Prix",
         8
        ],
        [
         "Silverstone Circuit",
         "Silverstone",
         "UK",
         "British Grand Prix",
         10
        ],
        [
         "Silverstone Circuit",
         "Silverstone",
         "UK",
         "British Grand Prix",
         8
        ],
        [
         "Silverstone Circuit",
         "Silverstone",
         "UK",
         "British Grand Prix",
         8
        ],
        [
         "Silverstone Circuit",
         "Silverstone",
         "UK",
         "British Grand Prix",
         7
        ],
        [
         "Silverstone Circuit",
         "Silverstone",
         "UK",
         "British Grand Prix",
         8
        ],
        [
         "Silverstone Circuit",
         "Silverstone",
         "UK",
         "British Grand Prix",
         9
        ],
        [
         "Silverstone Circuit",
         "Silverstone",
         "UK",
         "British Grand Prix",
         9
        ],
        [
         "Silverstone Circuit",
         "Silverstone",
         "UK",
         "British Grand Prix",
         9
        ],
        [
         "Silverstone Circuit",
         "Silverstone",
         "UK",
         "British Grand Prix",
         10
        ],
        [
         "Silverstone Circuit",
         "Silverstone",
         "UK",
         "British Grand Prix",
         10
        ],
        [
         "Silverstone Circuit",
         "Silverstone",
         "UK",
         "British Grand Prix",
         9
        ],
        [
         "Silverstone Circuit",
         "Silverstone",
         "UK",
         "British Grand Prix",
         6
        ],
        [
         "Silverstone Circuit",
         "Silverstone",
         "UK",
         "British Grand Prix",
         6
        ],
        [
         "Silverstone Circuit",
         "Silverstone",
         "UK",
         "British Grand Prix",
         6
        ],
        [
         "Silverstone Circuit",
         "Silverstone",
         "UK",
         "British Grand Prix",
         5
        ],
        [
         "Silverstone Circuit",
         "Silverstone",
         "UK",
         "British Grand Prix",
         5
        ],
        [
         "Silverstone Circuit",
         "Silverstone",
         "UK",
         "British Grand Prix",
         7
        ],
        [
         "Silverstone Circuit",
         "Silverstone",
         "UK",
         "British Grand Prix",
         7
        ],
        [
         "Silverstone Circuit",
         "Silverstone",
         "UK",
         "British Grand Prix",
         6
        ],
        [
         "Silverstone Circuit",
         "Silverstone",
         "UK",
         "British Grand Prix",
         5
        ],
        [
         "Silverstone Circuit",
         "Silverstone",
         "UK",
         "British Grand Prix",
         6
        ],
        [
         "Silverstone Circuit",
         "Silverstone",
         "UK",
         "British Grand Prix",
         5
        ],
        [
         "Silverstone Circuit",
         "Silverstone",
         "UK",
         "British Grand Prix",
         5
        ],
        [
         "Silverstone Circuit",
         "Silverstone",
         "UK",
         "British Grand Prix",
         1
        ],
        [
         "Silverstone Circuit",
         "Silverstone",
         "UK",
         "British Grand Prix",
         9
        ],
        [
         "Silverstone Circuit",
         "Silverstone",
         "UK",
         "British Grand Prix",
         9
        ],
        [
         "Silverstone Circuit",
         "Silverstone",
         "UK",
         "British Grand Prix",
         8
        ],
        [
         "Silverstone Circuit",
         "Silverstone",
         "UK",
         "British Grand Prix",
         9
        ],
        [
         "Silverstone Circuit",
         "Silverstone",
         "UK",
         "British Grand Prix",
         9
        ],
        [
         "Silverstone Circuit",
         "Silverstone",
         "UK",
         "British Grand Prix",
         10
        ],
        [
         "Silverstone Circuit",
         "Silverstone",
         "UK",
         "British Grand Prix",
         10
        ],
        [
         "Silverstone Circuit",
         "Silverstone",
         "UK",
         "British Grand Prix",
         10
        ],
        [
         "Silverstone Circuit",
         "Silverstone",
         "UK",
         "British Grand Prix",
         10
        ],
        [
         "Silverstone Circuit",
         "Silverstone",
         "UK",
         "British Grand Prix",
         4
        ],
        [
         "Silverstone Circuit",
         "Silverstone",
         "UK",
         "70th Anniversary Grand Prix",
         5
        ],
        [
         "Silverstone Circuit",
         "Silverstone",
         "UK",
         "British Grand Prix",
         10
        ],
        [
         "Hockenheimring",
         "Hockenheim",
         "Germany",
         "German Grand Prix",
         10
        ],
        [
         "Hockenheimring",
         "Hockenheim",
         "Germany",
         "German Grand Prix",
         12
        ],
        [
         "Hockenheimring",
         "Hockenheim",
         "Germany",
         "German Grand Prix",
         12
        ],
        [
         "Hockenheimring",
         "Hockenheim",
         "Germany",
         "German Grand Prix",
         12
        ],
        [
         "Hockenheimring",
         "Hockenheim",
         "Germany",
         "German Grand Prix",
         12
        ],
        [
         "Hockenheimring",
         "Hockenheim",
         "Germany",
         "German Grand Prix",
         12
        ],
        [
         "Hockenheimring",
         "Hockenheim",
         "Germany",
         "German Grand Prix",
         12
        ],
        [
         "Hockenheimring",
         "Hockenheim",
         "Germany",
         "German Grand Prix",
         11
        ],
        [
         "Hockenheimring",
         "Hockenheim",
         "Germany",
         "German Grand Prix",
         10
        ],
        [
         "Hockenheimring",
         "Hockenheim",
         "Germany",
         "German Grand Prix",
         11
        ],
        [
         "Hockenheimring",
         "Hockenheim",
         "Germany",
         "German Grand Prix",
         10
        ],
        [
         "Hockenheimring",
         "Hockenheim",
         "Germany",
         "German Grand Prix",
         11
        ],
        [
         "Hockenheimring",
         "Hockenheim",
         "Germany",
         "German Grand Prix",
         9
        ],
        [
         "Hockenheimring",
         "Hockenheim",
         "Germany",
         "German Grand Prix",
         9
        ],
        [
         "Hockenheimring",
         "Hockenheim",
         "Germany",
         "German Grand Prix",
         10
        ],
        [
         "Hockenheimring",
         "Hockenheim",
         "Germany",
         "German Grand Prix",
         10
        ],
        [
         "Hockenheimring",
         "Hockenheim",
         "Germany",
         "German Grand Prix",
         9
        ],
        [
         "Hockenheimring",
         "Hockenheim",
         "Germany",
         "German Grand Prix",
         9
        ],
        [
         "Hockenheimring",
         "Hockenheim",
         "Germany",
         "German Grand Prix",
         11
        ],
        [
         "Hockenheimring",
         "Hockenheim",
         "Germany",
         "German Grand Prix",
         9
        ],
        [
         "Hockenheimring",
         "Hockenheim",
         "Germany",
         "German Grand Prix",
         9
        ],
        [
         "Hockenheimring",
         "Hockenheim",
         "Germany",
         "German Grand Prix",
         8
        ],
        [
         "Hockenheimring",
         "Hockenheim",
         "Germany",
         "German Grand Prix",
         10
        ],
        [
         "Hockenheimring",
         "Hockenheim",
         "Germany",
         "German Grand Prix",
         11
        ],
        [
         "Hockenheimring",
         "Hockenheim",
         "Germany",
         "German Grand Prix",
         10
        ],
        [
         "Hockenheimring",
         "Hockenheim",
         "Germany",
         "German Grand Prix",
         12
        ],
        [
         "Hockenheimring",
         "Hockenheim",
         "Germany",
         "German Grand Prix",
         10
        ],
        [
         "Hockenheimring",
         "Hockenheim",
         "Germany",
         "German Grand Prix",
         9
        ],
        [
         "Hockenheimring",
         "Hockenheim",
         "Germany",
         "German Grand Prix",
         10
        ],
        [
         "Hockenheimring",
         "Hockenheim",
         "Germany",
         "German Grand Prix",
         11
        ],
        [
         "Hockenheimring",
         "Hockenheim",
         "Germany",
         "German Grand Prix",
         11
        ],
        [
         "Hockenheimring",
         "Hockenheim",
         "Germany",
         "German Grand Prix",
         8
        ],
        [
         "Hockenheimring",
         "Hockenheim",
         "Germany",
         "German Grand Prix",
         10
        ],
        [
         "Hockenheimring",
         "Hockenheim",
         "Germany",
         "German Grand Prix",
         10
        ],
        [
         "Hockenheimring",
         "Hockenheim",
         "Germany",
         "German Grand Prix",
         12
        ],
        [
         "Hockenheimring",
         "Hockenheim",
         "Germany",
         "German Grand Prix",
         11
        ],
        [
         "Hockenheimring",
         "Hockenheim",
         "Germany",
         "German Grand Prix",
         11
        ],
        [
         "Hungaroring",
         "Budapest",
         "Hungary",
         "Hungarian Grand Prix",
         10
        ],
        [
         "Hungaroring",
         "Budapest",
         "Hungary",
         "Hungarian Grand Prix",
         11
        ],
        [
         "Hungaroring",
         "Budapest",
         "Hungary",
         "Hungarian Grand Prix",
         11
        ],
        [
         "Hungaroring",
         "Budapest",
         "Hungary",
         "Hungarian Grand Prix",
         13
        ],
        [
         "Hungaroring",
         "Budapest",
         "Hungary",
         "Hungarian Grand Prix",
         13
        ],
        [
         "Hungaroring",
         "Budapest",
         "Hungary",
         "Hungarian Grand Prix",
         13
        ],
        [
         "Hungaroring",
         "Budapest",
         "Hungary",
         "Hungarian Grand Prix",
         13
        ],
        [
         "Hungaroring",
         "Budapest",
         "Hungary",
         "Hungarian Grand Prix",
         13
        ],
        [
         "Hungaroring",
         "Budapest",
         "Hungary",
         "Hungarian Grand Prix",
         13
        ],
        [
         "Hungaroring",
         "Budapest",
         "Hungary",
         "Hungarian Grand Prix",
         12
        ],
        [
         "Hungaroring",
         "Budapest",
         "Hungary",
         "Hungarian Grand Prix",
         11
        ],
        [
         "Hungaroring",
         "Budapest",
         "Hungary",
         "Hungarian Grand Prix",
         12
        ],
        [
         "Hungaroring",
         "Budapest",
         "Hungary",
         "Hungarian Grand Prix",
         11
        ],
        [
         "Hungaroring",
         "Budapest",
         "Hungary",
         "Hungarian Grand Prix",
         12
        ],
        [
         "Hungaroring",
         "Budapest",
         "Hungary",
         "Hungarian Grand Prix",
         10
        ],
        [
         "Hungaroring",
         "Budapest",
         "Hungary",
         "Hungarian Grand Prix",
         10
        ],
        [
         "Hungaroring",
         "Budapest",
         "Hungary",
         "Hungarian Grand Prix",
         11
        ],
        [
         "Hungaroring",
         "Budapest",
         "Hungary",
         "Hungarian Grand Prix",
         11
        ],
        [
         "Hungaroring",
         "Budapest",
         "Hungary",
         "Hungarian Grand Prix",
         10
        ],
        [
         "Hungaroring",
         "Budapest",
         "Hungary",
         "Hungarian Grand Prix",
         10
        ],
        [
         "Hungaroring",
         "Budapest",
         "Hungary",
         "Hungarian Grand Prix",
         12
        ],
        [
         "Hungaroring",
         "Budapest",
         "Hungary",
         "Hungarian Grand Prix",
         10
        ],
        [
         "Hungaroring",
         "Budapest",
         "Hungary",
         "Hungarian Grand Prix",
         10
        ],
        [
         "Hungaroring",
         "Budapest",
         "Hungary",
         "Hungarian Grand Prix",
         9
        ],
        [
         "Hungaroring",
         "Budapest",
         "Hungary",
         "Hungarian Grand Prix",
         11
        ],
        [
         "Hungaroring",
         "Budapest",
         "Hungary",
         "Hungarian Grand Prix",
         11
        ],
        [
         "Hungaroring",
         "Budapest",
         "Hungary",
         "Hungarian Grand Prix",
         11
        ],
        [
         "Hungaroring",
         "Budapest",
         "Hungary",
         "Hungarian Grand Prix",
         10
        ],
        [
         "Hungaroring",
         "Budapest",
         "Hungary",
         "Hungarian Grand Prix",
         11
        ],
        [
         "Hungaroring",
         "Budapest",
         "Hungary",
         "Hungarian Grand Prix",
         10
        ],
        [
         "Hungaroring",
         "Budapest",
         "Hungary",
         "Hungarian Grand Prix",
         11
        ],
        [
         "Hungaroring",
         "Budapest",
         "Hungary",
         "Hungarian Grand Prix",
         11
        ],
        [
         "Hungaroring",
         "Budapest",
         "Hungary",
         "Hungarian Grand Prix",
         12
        ],
        [
         "Hungaroring",
         "Budapest",
         "Hungary",
         "Hungarian Grand Prix",
         12
        ],
        [
         "Hungaroring",
         "Budapest",
         "Hungary",
         "Hungarian Grand Prix",
         3
        ],
        [
         "Hungaroring",
         "Budapest",
         "Hungary",
         "Hungarian Grand Prix",
         11
        ],
        [
         "Valencia Street Circuit",
         "Valencia",
         "Spain",
         "European Grand Prix",
         11
        ],
        [
         "Valencia Street Circuit",
         "Valencia",
         "Spain",
         "European Grand Prix",
         12
        ],
        [
         "Valencia Street Circuit",
         "Valencia",
         "Spain",
         "European Grand Prix",
         9
        ],
        [
         "Valencia Street Circuit",
         "Valencia",
         "Spain",
         "European Grand Prix",
         8
        ],
        [
         "Valencia Street Circuit",
         "Valencia",
         "Spain",
         "European Grand Prix",
         8
        ],
        [
         "Circuit de Spa-Francorchamps",
         "Spa",
         "Belgium",
         "Belgian Grand Prix",
         12
        ],
        [
         "Circuit de Spa-Francorchamps",
         "Spa",
         "Belgium",
         "Belgian Grand Prix",
         13
        ],
        [
         "Circuit de Spa-Francorchamps",
         "Spa",
         "Belgium",
         "Belgian Grand Prix",
         14
        ],
        [
         "Circuit de Spa-Francorchamps",
         "Spa",
         "Belgium",
         "Belgian Grand Prix",
         16
        ],
        [
         "Circuit de Spa-Francorchamps",
         "Spa",
         "Belgium",
         "Belgian Grand Prix",
         14
        ],
        [
         "Circuit de Spa-Francorchamps",
         "Spa",
         "Belgium",
         "Belgian Grand Prix",
         14
        ],
        [
         "Circuit de Spa-Francorchamps",
         "Spa",
         "Belgium",
         "Belgian Grand Prix",
         14
        ],
        [
         "Circuit de Spa-Francorchamps",
         "Spa",
         "Belgium",
         "Belgian Grand Prix",
         13
        ],
        [
         "Circuit de Spa-Francorchamps",
         "Spa",
         "Belgium",
         "Belgian Grand Prix",
         12
        ],
        [
         "Circuit de Spa-Francorchamps",
         "Spa",
         "Belgium",
         "Belgian Grand Prix",
         13
        ],
        [
         "Circuit de Spa-Francorchamps",
         "Spa",
         "Belgium",
         "Belgian Grand Prix",
         12
        ],
        [
         "Circuit de Spa-Francorchamps",
         "Spa",
         "Belgium",
         "Belgian Grand Prix",
         13
        ],
        [
         "Circuit de Spa-Francorchamps",
         "Spa",
         "Belgium",
         "Belgian Grand Prix",
         11
        ],
        [
         "Circuit de Spa-Francorchamps",
         "Spa",
         "Belgium",
         "Belgian Grand Prix",
         11
        ],
        [
         "Circuit de Spa-Francorchamps",
         "Spa",
         "Belgium",
         "Belgian Grand Prix",
         12
        ],
        [
         "Circuit de Spa-Francorchamps",
         "Spa",
         "Belgium",
         "Belgian Grand Prix",
         12
        ],
        [
         "Circuit de Spa-Francorchamps",
         "Spa",
         "Belgium",
         "Belgian Grand Prix",
         11
        ],
        [
         "Circuit de Spa-Francorchamps",
         "Spa",
         "Belgium",
         "Belgian Grand Prix",
         11
        ],
        [
         "Circuit de Spa-Francorchamps",
         "Spa",
         "Belgium",
         "Belgian Grand Prix",
         13
        ],
        [
         "Circuit de Spa-Francorchamps",
         "Spa",
         "Belgium",
         "Belgian Grand Prix",
         11
        ],
        [
         "Circuit de Spa-Francorchamps",
         "Spa",
         "Belgium",
         "Belgian Grand Prix",
         11
        ],
        [
         "Circuit de Spa-Francorchamps",
         "Spa",
         "Belgium",
         "Belgian Grand Prix",
         3
        ],
        [
         "Circuit de Spa-Francorchamps",
         "Spa",
         "Belgium",
         "Belgian Grand Prix",
         5
        ],
        [
         "Circuit de Spa-Francorchamps",
         "Spa",
         "Belgium",
         "Belgian Grand Prix",
         13
        ],
        [
         "Circuit de Spa-Francorchamps",
         "Spa",
         "Belgium",
         "Belgian Grand Prix",
         6
        ],
        [
         "Circuit de Spa-Francorchamps",
         "Spa",
         "Belgium",
         "Belgian Grand Prix",
         4
        ],
        [
         "Circuit de Spa-Francorchamps",
         "Spa",
         "Belgium",
         "Belgian Grand Prix",
         4
        ],
        [
         "Circuit de Spa-Francorchamps",
         "Spa",
         "Belgium",
         "Belgian Grand Prix",
         4
        ],
        [
         "Circuit de Spa-Francorchamps",
         "Spa",
         "Belgium",
         "Belgian Grand Prix",
         2
        ],
        [
         "Circuit de Spa-Francorchamps",
         "Spa",
         "Belgium",
         "Belgian Grand Prix",
         3
        ],
        [
         "Circuit de Spa-Francorchamps",
         "Spa",
         "Belgium",
         "Belgian Grand Prix",
         3
        ],
        [
         "Circuit de Spa-Francorchamps",
         "Spa",
         "Belgium",
         "Belgian Grand Prix",
         2
        ],
        [
         "Circuit de Spa-Francorchamps",
         "Spa",
         "Belgium",
         "Belgian Grand Prix",
         3
        ],
        [
         "Circuit de Spa-Francorchamps",
         "Spa",
         "Belgium",
         "Belgian Grand Prix",
         3
        ],
        [
         "Circuit de Spa-Francorchamps",
         "Spa",
         "Belgium",
         "Belgian Grand Prix",
         5
        ],
        [
         "Circuit de Spa-Francorchamps",
         "Spa",
         "Belgium",
         "Belgian Grand Prix",
         5
        ],
        [
         "Circuit de Spa-Francorchamps",
         "Spa",
         "Belgium",
         "Belgian Grand Prix",
         4
        ],
        [
         "Circuit de Spa-Francorchamps",
         "Spa",
         "Belgium",
         "Belgian Grand Prix",
         4
        ],
        [
         "Circuit de Spa-Francorchamps",
         "Spa",
         "Belgium",
         "Belgian Grand Prix",
         3
        ],
        [
         "Circuit de Spa-Francorchamps",
         "Spa",
         "Belgium",
         "Belgian Grand Prix",
         4
        ],
        [
         "Circuit de Spa-Francorchamps",
         "Spa",
         "Belgium",
         "Belgian Grand Prix",
         3
        ],
        [
         "Circuit de Spa-Francorchamps",
         "Spa",
         "Belgium",
         "Belgian Grand Prix",
         3
        ],
        [
         "Circuit de Spa-Francorchamps",
         "Spa",
         "Belgium",
         "Belgian Grand Prix",
         5
        ],
        [
         "Circuit de Spa-Francorchamps",
         "Spa",
         "Belgium",
         "Belgian Grand Prix",
         12
        ],
        [
         "Circuit de Spa-Francorchamps",
         "Spa",
         "Belgium",
         "Belgian Grand Prix",
         12
        ],
        [
         "Circuit de Spa-Francorchamps",
         "Spa",
         "Belgium",
         "Belgian Grand Prix",
         11
        ],
        [
         "Circuit de Spa-Francorchamps",
         "Spa",
         "Belgium",
         "Belgian Grand Prix",
         12
        ],
        [
         "Circuit de Spa-Francorchamps",
         "Spa",
         "Belgium",
         "Belgian Grand Prix",
         11
        ],
        [
         "Circuit de Spa-Francorchamps",
         "Spa",
         "Belgium",
         "Belgian Grand Prix",
         13
        ],
        [
         "Circuit de Spa-Francorchamps",
         "Spa",
         "Belgium",
         "Belgian Grand Prix",
         12
        ],
        [
         "Circuit de Spa-Francorchamps",
         "Spa",
         "Belgium",
         "Belgian Grand Prix",
         13
        ],
        [
         "Circuit de Spa-Francorchamps",
         "Spa",
         "Belgium",
         "Belgian Grand Prix",
         13
        ],
        [
         "Circuit de Spa-Francorchamps",
         "Spa",
         "Belgium",
         "Belgian Grand Prix",
         7
        ],
        [
         "Circuit de Spa-Francorchamps",
         "Spa",
         "Belgium",
         "Belgian Grand Prix",
         12
        ],
        [
         "Autodromo Nazionale di Monza",
         "Monza",
         "Italy",
         "Italian Grand Prix",
         13
        ],
        [
         "Autodromo Nazionale di Monza",
         "Monza",
         "Italy",
         "Italian Grand Prix",
         14
        ],
        [
         "Autodromo Nazionale di Monza",
         "Monza",
         "Italy",
         "Italian Grand Prix",
         13
        ],
        [
         "Autodromo Nazionale di Monza",
         "Monza",
         "Italy",
         "Italian Grand Prix",
         15
        ],
        [
         "Autodromo Nazionale di Monza",
         "Monza",
         "Italy",
         "Italian Grand Prix",
         15
        ],
        [
         "Autodromo Nazionale di Monza",
         "Monza",
         "Italy",
         "Italian Grand Prix",
         15
        ],
        [
         "Autodromo Nazionale di Monza",
         "Monza",
         "Italy",
         "Italian Grand Prix",
         14
        ],
        [
         "Autodromo Nazionale di Monza",
         "Monza",
         "Italy",
         "Italian Grand Prix",
         15
        ],
        [
         "Autodromo Nazionale di Monza",
         "Monza",
         "Italy",
         "Italian Grand Prix",
         15
        ],
        [
         "Autodromo Nazionale di Monza",
         "Monza",
         "Italy",
         "Italian Grand Prix",
         14
        ],
        [
         "Autodromo Nazionale di Monza",
         "Monza",
         "Italy",
         "Italian Grand Prix",
         13
        ],
        [
         "Autodromo Nazionale di Monza",
         "Monza",
         "Italy",
         "Italian Grand Prix",
         14
        ],
        [
         "Autodromo Nazionale di Monza",
         "Monza",
         "Italy",
         "Italian Grand Prix",
         13
        ],
        [
         "Autodromo Nazionale di Monza",
         "Monza",
         "Italy",
         "Italian Grand Prix",
         14
        ],
        [
         "Autodromo Nazionale di Monza",
         "Monza",
         "Italy",
         "Italian Grand Prix",
         12
        ],
        [
         "Autodromo Nazionale di Monza",
         "Monza",
         "Italy",
         "Italian Grand Prix",
         12
        ],
        [
         "Autodromo Nazionale di Monza",
         "Monza",
         "Italy",
         "Italian Grand Prix",
         13
        ],
        [
         "Autodromo Nazionale di Monza",
         "Monza",
         "Italy",
         "Italian Grand Prix",
         13
        ],
        [
         "Autodromo Nazionale di Monza",
         "Monza",
         "Italy",
         "Italian Grand Prix",
         12
        ],
        [
         "Autodromo Nazionale di Monza",
         "Monza",
         "Italy",
         "Italian Grand Prix",
         12
        ],
        [
         "Autodromo Nazionale di Monza",
         "Monza",
         "Italy",
         "Italian Grand Prix",
         14
        ],
        [
         "Autodromo Nazionale di Monza",
         "Monza",
         "Italy",
         "Italian Grand Prix",
         12
        ],
        [
         "Autodromo Nazionale di Monza",
         "Monza",
         "Italy",
         "Italian Grand Prix",
         12
        ],
        [
         "Autodromo Nazionale di Monza",
         "Monza",
         "Italy",
         "Italian Grand Prix",
         11
        ],
        [
         "Autodromo Nazionale di Monza",
         "Monza",
         "Italy",
         "Italian Grand Prix",
         13
        ],
        [
         "Autodromo Nazionale di Monza",
         "Monza",
         "Italy",
         "Italian Grand Prix",
         12
        ],
        [
         "Autodromo Nazionale di Monza",
         "Monza",
         "Italy",
         "Italian Grand Prix",
         14
        ],
        [
         "Autodromo Nazionale di Monza",
         "Monza",
         "Italy",
         "Italian Grand Prix",
         13
        ],
        [
         "Autodromo Nazionale di Monza",
         "Monza",
         "Italy",
         "Italian Grand Prix",
         15
        ],
        [
         "Autodromo Nazionale di Monza",
         "Monza",
         "Italy",
         "Italian Grand Prix",
         13
        ],
        [
         "Autodromo Nazionale di Monza",
         "Monza",
         "Italy",
         "Italian Grand Prix",
         13
        ],
        [
         "Autodromo Nazionale di Monza",
         "Monza",
         "Italy",
         "Italian Grand Prix",
         14
        ],
        [
         "Autodromo Nazionale di Monza",
         "Monza",
         "Italy",
         "Italian Grand Prix",
         14
        ],
        [
         "Autodromo Nazionale di Monza",
         "Monza",
         "Italy",
         "Italian Grand Prix",
         13
        ],
        [
         "Autodromo Nazionale di Monza",
         "Monza",
         "Italy",
         "Italian Grand Prix",
         13
        ],
        [
         "Autodromo Nazionale di Monza",
         "Monza",
         "Italy",
         "Italian Grand Prix",
         13
        ],
        [
         "Autodromo Nazionale di Monza",
         "Monza",
         "Italy",
         "Italian Grand Prix",
         13
        ],
        [
         "Autodromo Nazionale di Monza",
         "Monza",
         "Italy",
         "Italian Grand Prix",
         10
        ],
        [
         "Autodromo Nazionale di Monza",
         "Monza",
         "Italy",
         "Italian Grand Prix",
         9
        ],
        [
         "Autodromo Nazionale di Monza",
         "Monza",
         "Italy",
         "Italian Grand Prix",
         10
        ],
        [
         "Autodromo Nazionale di Monza",
         "Monza",
         "Italy",
         "Italian Grand Prix",
         8
        ],
        [
         "Autodromo Nazionale di Monza",
         "Monza",
         "Italy",
         "Italian Grand Prix",
         9
        ],
        [
         "Autodromo Nazionale di Monza",
         "Monza",
         "Italy",
         "Italian Grand Prix",
         9
        ],
        [
         "Autodromo Nazionale di Monza",
         "Monza",
         "Italy",
         "Italian Grand Prix",
         7
        ],
        [
         "Autodromo Nazionale di Monza",
         "Monza",
         "Italy",
         "Italian Grand Prix",
         8
        ],
        [
         "Autodromo Nazionale di Monza",
         "Monza",
         "Italy",
         "Italian Grand Prix",
         8
        ],
        [
         "Autodromo Nazionale di Monza",
         "Monza",
         "Italy",
         "Italian Grand Prix",
         7
        ],
        [
         "Autodromo Nazionale di Monza",
         "Monza",
         "Italy",
         "Italian Grand Prix",
         7
        ],
        [
         "Autodromo Nazionale di Monza",
         "Monza",
         "Italy",
         "Italian Grand Prix",
         7
        ],
        [
         "Autodromo Nazionale di Monza",
         "Monza",
         "Italy",
         "Italian Grand Prix",
         9
        ],
        [
         "Autodromo Nazionale di Monza",
         "Monza",
         "Italy",
         "Italian Grand Prix",
         8
        ],
        [
         "Autodromo Nazionale di Monza",
         "Monza",
         "Italy",
         "Italian Grand Prix",
         10
        ],
        [
         "Autodromo Nazionale di Monza",
         "Monza",
         "Italy",
         "Italian Grand Prix",
         8
        ],
        [
         "Autodromo Nazionale di Monza",
         "Monza",
         "Italy",
         "Italian Grand Prix",
         8
        ],
        [
         "Autodromo Nazionale di Monza",
         "Monza",
         "Italy",
         "Italian Grand Prix",
         7
        ],
        [
         "Autodromo Nazionale di Monza",
         "Monza",
         "Italy",
         "Italian Grand Prix",
         8
        ],
        [
         "Autodromo Nazionale di Monza",
         "Monza",
         "Italy",
         "Italian Grand Prix",
         9
        ],
        [
         "Autodromo Nazionale di Monza",
         "Monza",
         "Italy",
         "Italian Grand Prix",
         8
        ],
        [
         "Autodromo Nazionale di Monza",
         "Monza",
         "Italy",
         "Italian Grand Prix",
         7
        ],
        [
         "Autodromo Nazionale di Monza",
         "Monza",
         "Italy",
         "Italian Grand Prix",
         7
        ],
        [
         "Autodromo Nazionale di Monza",
         "Monza",
         "Italy",
         "Italian Grand Prix",
         13
        ],
        [
         "Autodromo Nazionale di Monza",
         "Monza",
         "Italy",
         "Italian Grand Prix",
         13
        ],
        [
         "Autodromo Nazionale di Monza",
         "Monza",
         "Italy",
         "Italian Grand Prix",
         12
        ],
        [
         "Autodromo Nazionale di Monza",
         "Monza",
         "Italy",
         "Italian Grand Prix",
         13
        ],
        [
         "Autodromo Nazionale di Monza",
         "Monza",
         "Italy",
         "Italian Grand Prix",
         12
        ],
        [
         "Autodromo Nazionale di Monza",
         "Monza",
         "Italy",
         "Italian Grand Prix",
         14
        ],
        [
         "Autodromo Nazionale di Monza",
         "Monza",
         "Italy",
         "Italian Grand Prix",
         13
        ],
        [
         "Autodromo Nazionale di Monza",
         "Monza",
         "Italy",
         "Italian Grand Prix",
         14
        ],
        [
         "Autodromo Nazionale di Monza",
         "Monza",
         "Italy",
         "Italian Grand Prix",
         14
        ],
        [
         "Autodromo Nazionale di Monza",
         "Monza",
         "Italy",
         "Italian Grand Prix",
         8
        ],
        [
         "Autodromo Nazionale di Monza",
         "Monza",
         "Italy",
         "Italian Grand Prix",
         14
        ],
        [
         "Marina Bay Street Circuit",
         "Marina Bay",
         "Singapore",
         "Singapore Grand Prix",
         14
        ],
        [
         "Marina Bay Street Circuit",
         "Marina Bay",
         "Singapore",
         "Singapore Grand Prix",
         15
        ],
        [
         "Marina Bay Street Circuit",
         "Marina Bay",
         "Singapore",
         "Singapore Grand Prix",
         15
        ],
        [
         "Marina Bay Street Circuit",
         "Marina Bay",
         "Singapore",
         "Singapore Grand Prix",
         14
        ],
        [
         "Marina Bay Street Circuit",
         "Marina Bay",
         "Singapore",
         "Singapore Grand Prix",
         14
        ],
        [
         "Marina Bay Street Circuit",
         "Marina Bay",
         "Singapore",
         "Singapore Grand Prix",
         13
        ],
        [
         "Marina Bay Street Circuit",
         "Marina Bay",
         "Singapore",
         "Singapore Grand Prix",
         14
        ],
        [
         "Marina Bay Street Circuit",
         "Marina Bay",
         "Singapore",
         "Singapore Grand Prix",
         13
        ],
        [
         "Marina Bay Street Circuit",
         "Marina Bay",
         "Singapore",
         "Singapore Grand Prix",
         15
        ],
        [
         "Marina Bay Street Circuit",
         "Marina Bay",
         "Singapore",
         "Singapore Grand Prix",
         14
        ],
        [
         "Marina Bay Street Circuit",
         "Marina Bay",
         "Singapore",
         "Singapore Grand Prix",
         15
        ],
        [
         "Marina Bay Street Circuit",
         "Marina Bay",
         "Singapore",
         "Singapore Grand Prix",
         15
        ],
        [
         "Marina Bay Street Circuit",
         "Marina Bay",
         "Singapore",
         "Singapore Grand Prix",
         16
        ],
        [
         "Fuji Speedway",
         "Oyama",
         "Japan",
         "Japanese Grand Prix",
         16
        ],
        [
         "Fuji Speedway",
         "Oyama",
         "Japan",
         "Japanese Grand Prix",
         15
        ],
        [
         "Fuji Speedway",
         "Oyama",
         "Japan",
         "Japanese Grand Prix",
         17
        ],
        [
         "Fuji Speedway",
         "Oyama",
         "Japan",
         "Japanese Grand Prix",
         16
        ],
        [
         "Shanghai International Circuit",
         "Shanghai",
         "China",
         "Chinese Grand Prix",
         3
        ],
        [
         "Shanghai International Circuit",
         "Shanghai",
         "China",
         "Chinese Grand Prix",
         17
        ],
        [
         "Shanghai International Circuit",
         "Shanghai",
         "China",
         "Chinese Grand Prix",
         16
        ],
        [
         "Shanghai International Circuit",
         "Shanghai",
         "China",
         "Chinese Grand Prix",
         16
        ],
        [
         "Shanghai International Circuit",
         "Shanghai",
         "China",
         "Chinese Grand Prix",
         19
        ],
        [
         "Shanghai International Circuit",
         "Shanghai",
         "China",
         "Chinese Grand Prix",
         16
        ],
        [
         "Shanghai International Circuit",
         "Shanghai",
         "China",
         "Chinese Grand Prix",
         4
        ],
        [
         "Shanghai International Circuit",
         "Shanghai",
         "China",
         "Chinese Grand Prix",
         3
        ],
        [
         "Shanghai International Circuit",
         "Shanghai",
         "China",
         "Chinese Grand Prix",
         3
        ],
        [
         "Shanghai International Circuit",
         "Shanghai",
         "China",
         "Chinese Grand Prix",
         3
        ],
        [
         "Shanghai International Circuit",
         "Shanghai",
         "China",
         "Chinese Grand Prix",
         4
        ],
        [
         "Shanghai International Circuit",
         "Shanghai",
         "China",
         "Chinese Grand Prix",
         3
        ],
        [
         "Shanghai International Circuit",
         "Shanghai",
         "China",
         "Chinese Grand Prix",
         3
        ],
        [
         "Shanghai International Circuit",
         "Shanghai",
         "China",
         "Chinese Grand Prix",
         2
        ],
        [
         "Shanghai International Circuit",
         "Shanghai",
         "China",
         "Chinese Grand Prix",
         3
        ],
        [
         "Shanghai International Circuit",
         "Shanghai",
         "China",
         "Chinese Grand Prix",
         3
        ],
        [
         "Autódromo José Carlos Pace",
         "São Paulo",
         "Brazil",
         "Brazilian Grand Prix",
         16
        ],
        [
         "Autódromo José Carlos Pace",
         "São Paulo",
         "Brazil",
         "Brazilian Grand Prix",
         18
        ],
        [
         "Autódromo José Carlos Pace",
         "São Paulo",
         "Brazil",
         "Brazilian Grand Prix",
         17
        ],
        [
         "Autódromo José Carlos Pace",
         "São Paulo",
         "Brazil",
         "Brazilian Grand Prix",
         18
        ],
        [
         "Autódromo José Carlos Pace",
         "São Paulo",
         "Brazil",
         "Brazilian Grand Prix",
         17
        ],
        [
         "Autódromo José Carlos Pace",
         "São Paulo",
         "Brazil",
         "Brazilian Grand Prix",
         18
        ],
        [
         "Autódromo José Carlos Pace",
         "São Paulo",
         "Brazil",
         "Brazilian Grand Prix",
         3
        ],
        [
         "Autódromo José Carlos Pace",
         "São Paulo",
         "Brazil",
         "Brazilian Grand Prix",
         3
        ],
        [
         "Autódromo José Carlos Pace",
         "São Paulo",
         "Brazil",
         "Brazilian Grand Prix",
         3
        ],
        [
         "Autódromo José Carlos Pace",
         "São Paulo",
         "Brazil",
         "Brazilian Grand Prix",
         2
        ],
        [
         "Autódromo José Carlos Pace",
         "São Paulo",
         "Brazil",
         "Brazilian Grand Prix",
         2
        ],
        [
         "Autódromo José Carlos Pace",
         "São Paulo",
         "Brazil",
         "Brazilian Grand Prix",
         2
        ],
        [
         "Autódromo José Carlos Pace",
         "São Paulo",
         "Brazil",
         "Brazilian Grand Prix",
         2
        ],
        [
         "Autódromo José Carlos Pace",
         "São Paulo",
         "Brazil",
         "Brazilian Grand Prix",
         2
        ],
        [
         "Autódromo José Carlos Pace",
         "São Paulo",
         "Brazil",
         "Brazilian Grand Prix",
         1
        ],
        [
         "Autódromo José Carlos Pace",
         "São Paulo",
         "Brazil",
         "Brazilian Grand Prix",
         1
        ],
        [
         "Autódromo José Carlos Pace",
         "São Paulo",
         "Brazil",
         "Brazilian Grand Prix",
         2
        ],
        [
         "Autódromo José Carlos Pace",
         "São Paulo",
         "Brazil",
         "Brazilian Grand Prix",
         3
        ],
        [
         "Autódromo José Carlos Pace",
         "São Paulo",
         "Brazil",
         "Brazilian Grand Prix",
         2
        ],
        [
         "Autódromo José Carlos Pace",
         "São Paulo",
         "Brazil",
         "Brazilian Grand Prix",
         2
        ],
        [
         "Autódromo José Carlos Pace",
         "São Paulo",
         "Brazil",
         "Brazilian Grand Prix",
         18
        ],
        [
         "Autódromo José Carlos Pace",
         "São Paulo",
         "Brazil",
         "Brazilian Grand Prix",
         2
        ],
        [
         "Autódromo José Carlos Pace",
         "São Paulo",
         "Brazil",
         "Brazilian Grand Prix",
         2
        ],
        [
         "Autódromo José Carlos Pace",
         "São Paulo",
         "Brazil",
         "Brazilian Grand Prix",
         2
        ],
        [
         "Autódromo José Carlos Pace",
         "São Paulo",
         "Brazil",
         "Brazilian Grand Prix",
         1
        ],
        [
         "Autódromo José Carlos Pace",
         "São Paulo",
         "Brazil",
         "Brazilian Grand Prix",
         2
        ],
        [
         "Autódromo José Carlos Pace",
         "São Paulo",
         "Brazil",
         "Brazilian Grand Prix",
         2
        ],
        [
         "Autódromo José Carlos Pace",
         "São Paulo",
         "Brazil",
         "Brazilian Grand Prix",
         2
        ],
        [
         "Autódromo José Carlos Pace",
         "São Paulo",
         "Brazil",
         "Brazilian Grand Prix",
         19
        ],
        [
         "Autódromo José Carlos Pace",
         "São Paulo",
         "Brazil",
         "Brazilian Grand Prix",
         20
        ],
        [
         "Autódromo José Carlos Pace",
         "São Paulo",
         "Brazil",
         "Brazilian Grand Prix",
         19
        ],
        [
         "Autódromo José Carlos Pace",
         "São Paulo",
         "Brazil",
         "Brazilian Grand Prix",
         18
        ],
        [
         "Autódromo José Carlos Pace",
         "São Paulo",
         "Brazil",
         "Brazilian Grand Prix",
         18
        ],
        [
         "Autódromo José Carlos Pace",
         "São Paulo",
         "Brazil",
         "Brazilian Grand Prix",
         20
        ],
        [
         "Autódromo José Carlos Pace",
         "São Paulo",
         "Brazil",
         "Brazilian Grand Prix",
         19
        ],
        [
         "Autódromo José Carlos Pace",
         "São Paulo",
         "Brazil",
         "Brazilian Grand Prix",
         20
        ],
        [
         "Autódromo José Carlos Pace",
         "São Paulo",
         "Brazil",
         "Brazilian Grand Prix",
         20
        ],
        [
         "Autódromo José Carlos Pace",
         "São Paulo",
         "Brazil",
         "Brazilian Grand Prix",
         20
        ],
        [
         "Indianapolis Motor Speedway",
         "Indianapolis",
         "USA",
         "United States Grand Prix",
         7
        ],
        [
         "Indianapolis Motor Speedway",
         "Indianapolis",
         "USA",
         "United States Grand Prix",
         10
        ],
        [
         "Indianapolis Motor Speedway",
         "Indianapolis",
         "USA",
         "United States Grand Prix",
         9
        ],
        [
         "Indianapolis Motor Speedway",
         "Indianapolis",
         "USA",
         "United States Grand Prix",
         9
        ],
        [
         "Indianapolis Motor Speedway",
         "Indianapolis",
         "USA",
         "United States Grand Prix",
         15
        ],
        [
         "Indianapolis Motor Speedway",
         "Indianapolis",
         "USA",
         "United States Grand Prix",
         16
        ],
        [
         "Indianapolis Motor Speedway",
         "Indianapolis",
         "USA",
         "United States Grand Prix",
         16
        ],
        [
         "Indianapolis Motor Speedway",
         "Indianapolis",
         "USA",
         "United States Grand Prix",
         15
        ],
        [
         "Indianapolis Motor Speedway",
         "Indianapolis",
         "USA",
         "Indianapolis 500",
         3
        ],
        [
         "Indianapolis Motor Speedway",
         "Indianapolis",
         "USA",
         "Indianapolis 500",
         2
        ],
        [
         "Indianapolis Motor Speedway",
         "Indianapolis",
         "USA",
         "Indianapolis 500",
         4
        ],
        [
         "Indianapolis Motor Speedway",
         "Indianapolis",
         "USA",
         "Indianapolis 500",
         3
        ],
        [
         "Indianapolis Motor Speedway",
         "Indianapolis",
         "USA",
         "Indianapolis 500",
         3
        ],
        [
         "Indianapolis Motor Speedway",
         "Indianapolis",
         "USA",
         "Indianapolis 500",
         3
        ],
        [
         "Indianapolis Motor Speedway",
         "Indianapolis",
         "USA",
         "Indianapolis 500",
         2
        ],
        [
         "Indianapolis Motor Speedway",
         "Indianapolis",
         "USA",
         "Indianapolis 500",
         2
        ],
        [
         "Indianapolis Motor Speedway",
         "Indianapolis",
         "USA",
         "Indianapolis 500",
         2
        ],
        [
         "Indianapolis Motor Speedway",
         "Indianapolis",
         "USA",
         "Indianapolis 500",
         2
        ],
        [
         "Indianapolis Motor Speedway",
         "Indianapolis",
         "USA",
         "Indianapolis 500",
         3
        ],
        [
         "Nürburgring",
         "Nürburg",
         "Germany",
         "German Grand Prix",
         9
        ],
        [
         "Nürburgring",
         "Nürburg",
         "Germany",
         "European Grand Prix",
         10
        ],
        [
         "Nürburgring",
         "Nürburg",
         "Germany",
         "European Grand Prix",
         5
        ],
        [
         "Nürburgring",
         "Nürburg",
         "Germany",
         "European Grand Prix",
         7
        ],
        [
         "Nürburgring",
         "Nürburg",
         "Germany",
         "European Grand Prix",
         7
        ],
        [
         "Nürburgring",
         "Nürburg",
         "Germany",
         "European Grand Prix",
         9
        ],
        [
         "Nürburgring",
         "Nürburg",
         "Germany",
         "European Grand Prix",
         9
        ],
        [
         "Nürburgring",
         "Nürburg",
         "Germany",
         "European Grand Prix",
         9
        ],
        [
         "Nürburgring",
         "Nürburg",
         "Germany",
         "European Grand Prix",
         6
        ],
        [
         "Nürburgring",
         "Nürburg",
         "Germany",
         "European Grand Prix",
         14
        ],
        [
         "Nürburgring",
         "Nürburg",
         "Germany",
         "Luxembourg Grand Prix",
         15
        ],
        [
         "Nürburgring",
         "Nürburg",
         "Germany",
         "Luxembourg Grand Prix",
         15
        ],
        [
         "Nürburgring",
         "Nürburg",
         "Germany",
         "European Grand Prix",
         4
        ],
        [
         "Nürburgring",
         "Nürburg",
         "Germany",
         "European Grand Prix",
         14
        ],
        [
         "Nürburgring",
         "Nürburg",
         "Germany",
         "German Grand Prix",
         9
        ],
        [
         "Nürburgring",
         "Nürburg",
         "Germany",
         "European Grand Prix",
         15
        ],
        [
         "Nürburgring",
         "Nürburg",
         "Germany",
         "German Grand Prix",
         10
        ],
        [
         "Nürburgring",
         "Nürburg",
         "Germany",
         "German Grand Prix",
         11
        ],
        [
         "Nürburgring",
         "Nürburg",
         "Germany",
         "German Grand Prix",
         11
        ],
        [
         "Nürburgring",
         "Nürburg",
         "Germany",
         "German Grand Prix",
         11
        ],
        [
         "Nürburgring",
         "Nürburg",
         "Germany",
         "German Grand Prix",
         8
        ],
        [
         "Nürburgring",
         "Nürburg",
         "Germany",
         "German Grand Prix",
         7
        ],
        [
         "Nürburgring",
         "Nürburg",
         "Germany",
         "German Grand Prix",
         7
        ],
        [
         "Nürburgring",
         "Nürburg",
         "Germany",
         "German Grand Prix",
         8
        ],
        [
         "Nürburgring",
         "Nürburg",
         "Germany",
         "German Grand Prix",
         7
        ],
        [
         "Nürburgring",
         "Nürburg",
         "Germany",
         "German Grand Prix",
         6
        ],
        [
         "Nürburgring",
         "Nürburg",
         "Germany",
         "German Grand Prix",
         7
        ],
        [
         "Nürburgring",
         "Nürburg",
         "Germany",
         "German Grand Prix",
         6
        ],
        [
         "Nürburgring",
         "Nürburg",
         "Germany",
         "German Grand Prix",
         6
        ],
        [
         "Nürburgring",
         "Nürburg",
         "Germany",
         "German Grand Prix",
         6
        ],
        [
         "Nürburgring",
         "Nürburg",
         "Germany",
         "German Grand Prix",
         6
        ],
        [
         "Nürburgring",
         "Nürburg",
         "Germany",
         "German Grand Prix",
         8
        ],
        [
         "Nürburgring",
         "Nürburg",
         "Germany",
         "German Grand Prix",
         6
        ],
        [
         "Nürburgring",
         "Nürburg",
         "Germany",
         "German Grand Prix",
         7
        ],
        [
         "Nürburgring",
         "Nürburg",
         "Germany",
         "German Grand Prix",
         6
        ],
        [
         "Nürburgring",
         "Nürburg",
         "Germany",
         "German Grand Prix",
         7
        ],
        [
         "Nürburgring",
         "Nürburg",
         "Germany",
         "German Grand Prix",
         6
        ],
        [
         "Nürburgring",
         "Nürburg",
         "Germany",
         "German Grand Prix",
         6
        ],
        [
         "Nürburgring",
         "Nürburg",
         "Germany",
         "German Grand Prix",
         10
        ],
        [
         "Nürburgring",
         "Nürburg",
         "Germany",
         "German Grand Prix",
         9
        ],
        [
         "Nürburgring",
         "Nürburg",
         "Germany",
         "Eifel Grand Prix",
         11
        ],
        [
         "Nürburgring",
         "Nürburg",
         "Germany",
         "TBC",
         3
        ],
        [
         "Autodromo Enzo e Dino Ferrari",
         "Imola",
         "Italy",
         "San Marino Grand Prix",
         4
        ],
        [
         "Autodromo Enzo e Dino Ferrari",
         "Imola",
         "Italy",
         "San Marino Grand Prix",
         4
        ],
        [
         "Autodromo Enzo e Dino Ferrari",
         "Imola",
         "Italy",
         "San Marino Grand Prix",
         4
        ],
        [
         "Autodromo Enzo e Dino Ferrari",
         "Imola",
         "Italy",
         "San Marino Grand Prix",
         4
        ],
        [
         "Autodromo Enzo e Dino Ferrari",
         "Imola",
         "Italy",
         "San Marino Grand Prix",
         4
        ],
        [
         "Autodromo Enzo e Dino Ferrari",
         "Imola",
         "Italy",
         "San Marino Grand Prix",
         4
        ],
        [
         "Autodromo Enzo e Dino Ferrari",
         "Imola",
         "Italy",
         "San Marino Grand Prix",
         3
        ],
        [
         "Autodromo Enzo e Dino Ferrari",
         "Imola",
         "Italy",
         "San Marino Grand Prix",
         3
        ],
        [
         "Autodromo Enzo e Dino Ferrari",
         "Imola",
         "Italy",
         "San Marino Grand Prix",
         4
        ],
        [
         "Autodromo Enzo e Dino Ferrari",
         "Imola",
         "Italy",
         "San Marino Grand Prix",
         4
        ],
        [
         "Autodromo Enzo e Dino Ferrari",
         "Imola",
         "Italy",
         "San Marino Grand Prix",
         5
        ],
        [
         "Autodromo Enzo e Dino Ferrari",
         "Imola",
         "Italy",
         "San Marino Grand Prix",
         3
        ],
        [
         "Autodromo Enzo e Dino Ferrari",
         "Imola",
         "Italy",
         "San Marino Grand Prix",
         3
        ],
        [
         "Autodromo Enzo e Dino Ferrari",
         "Imola",
         "Italy",
         "San Marino Grand Prix",
         4
        ],
        [
         "Autodromo Enzo e Dino Ferrari",
         "Imola",
         "Italy",
         "San Marino Grand Prix",
         5
        ],
        [
         "Autodromo Enzo e Dino Ferrari",
         "Imola",
         "Italy",
         "San Marino Grand Prix",
         3
        ],
        [
         "Autodromo Enzo e Dino Ferrari",
         "Imola",
         "Italy",
         "San Marino Grand Prix",
         3
        ],
        [
         "Autodromo Enzo e Dino Ferrari",
         "Imola",
         "Italy",
         "San Marino Grand Prix",
         2
        ],
        [
         "Autodromo Enzo e Dino Ferrari",
         "Imola",
         "Italy",
         "San Marino Grand Prix",
         2
        ],
        [
         "Autodromo Enzo e Dino Ferrari",
         "Imola",
         "Italy",
         "San Marino Grand Prix",
         2
        ],
        [
         "Autodromo Enzo e Dino Ferrari",
         "Imola",
         "Italy",
         "San Marino Grand Prix",
         3
        ],
        [
         "Autodromo Enzo e Dino Ferrari",
         "Imola",
         "Italy",
         "San Marino Grand Prix",
         3
        ],
        [
         "Autodromo Enzo e Dino Ferrari",
         "Imola",
         "Italy",
         "San Marino Grand Prix",
         4
        ],
        [
         "Autodromo Enzo e Dino Ferrari",
         "Imola",
         "Italy",
         "San Marino Grand Prix",
         4
        ],
        [
         "Autodromo Enzo e Dino Ferrari",
         "Imola",
         "Italy",
         "San Marino Grand Prix",
         4
        ],
        [
         "Autodromo Enzo e Dino Ferrari",
         "Imola",
         "Italy",
         "San Marino Grand Prix",
         4
        ],
        [
         "Autodromo Enzo e Dino Ferrari",
         "Imola",
         "Italy",
         "Italian Grand Prix",
         12
        ],
        [
         "Autodromo Enzo e Dino Ferrari",
         "Imola",
         "Italy",
         "Emilia Romagna Grand Prix",
         13
        ],
        [
         "Autodromo Enzo e Dino Ferrari",
         "Imola",
         "Italy",
         "Emilia Romagna Grand Prix",
         2
        ],
        [
         "Suzuka Circuit",
         "Suzuka",
         "Japan",
         "Japanese Grand Prix",
         15
        ],
        [
         "Suzuka Circuit",
         "Suzuka",
         "Japan",
         "Japanese Grand Prix",
         17
        ],
        [
         "Suzuka Circuit",
         "Suzuka",
         "Japan",
         "Japanese Grand Prix",
         18
        ],
        [
         "Suzuka Circuit",
         "Suzuka",
         "Japan",
         "Japanese Grand Prix",
         17
        ],
        [
         "Suzuka Circuit",
         "Suzuka",
         "Japan",
         "Japanese Grand Prix",
         16
        ],
        [
         "Suzuka Circuit",
         "Suzuka",
         "Japan",
         "Japanese Grand Prix",
         17
        ],
        [
         "Suzuka Circuit",
         "Suzuka",
         "Japan",
         "Japanese Grand Prix",
         17
        ],
        [
         "Suzuka Circuit",
         "Suzuka",
         "Japan",
         "Japanese Grand Prix",
         16
        ],
        [
         "Suzuka Circuit",
         "Suzuka",
         "Japan",
         "Japanese Grand Prix",
         16
        ],
        [
         "Suzuka Circuit",
         "Suzuka",
         "Japan",
         "Japanese Grand Prix",
         16
        ],
        [
         "Suzuka Circuit",
         "Suzuka",
         "Japan",
         "Japanese Grand Prix",
         16
        ],
        [
         "Suzuka Circuit",
         "Suzuka",
         "Japan",
         "Japanese Grand Prix",
         16
        ],
        [
         "Suzuka Circuit",
         "Suzuka",
         "Japan",
         "Japanese Grand Prix",
         16
        ],
        [
         "Suzuka Circuit",
         "Suzuka",
         "Japan",
         "Japanese Grand Prix",
         15
        ],
        [
         "Suzuka Circuit",
         "Suzuka",
         "Japan",
         "Japanese Grand Prix",
         15
        ],
        [
         "Suzuka Circuit",
         "Suzuka",
         "Japan",
         "Japanese Grand Prix",
         15
        ],
        [
         "Suzuka Circuit",
         "Suzuka",
         "Japan",
         "Japanese Grand Prix",
         15
        ],
        [
         "Suzuka Circuit",
         "Suzuka",
         "Japan",
         "Japanese Grand Prix",
         15
        ],
        [
         "Suzuka Circuit",
         "Suzuka",
         "Japan",
         "Japanese Grand Prix",
         16
        ],
        [
         "Suzuka Circuit",
         "Suzuka",
         "Japan",
         "Japanese Grand Prix",
         15
        ],
        [
         "Suzuka Circuit",
         "Suzuka",
         "Japan",
         "Japanese Grand Prix",
         15
        ],
        [
         "Suzuka Circuit",
         "Suzuka",
         "Japan",
         "Japanese Grand Prix",
         15
        ],
        [
         "Suzuka Circuit",
         "Suzuka",
         "Japan",
         "Japanese Grand Prix",
         15
        ],
        [
         "Suzuka Circuit",
         "Suzuka",
         "Japan",
         "Japanese Grand Prix",
         15
        ],
        [
         "Suzuka Circuit",
         "Suzuka",
         "Japan",
         "Japanese Grand Prix",
         15
        ],
        [
         "Suzuka Circuit",
         "Suzuka",
         "Japan",
         "Japanese Grand Prix",
         15
        ],
        [
         "Suzuka Circuit",
         "Suzuka",
         "Japan",
         "Japanese Grand Prix",
         14
        ],
        [
         "Suzuka Circuit",
         "Suzuka",
         "Japan",
         "Japanese Grand Prix",
         17
        ],
        [
         "Suzuka Circuit",
         "Suzuka",
         "Japan",
         "Japanese Grand Prix",
         16
        ],
        [
         "Suzuka Circuit",
         "Suzuka",
         "Japan",
         "Japanese Grand Prix",
         17
        ],
        [
         "Suzuka Circuit",
         "Suzuka",
         "Japan",
         "Japanese Grand Prix",
         17
        ],
        [
         "Suzuka Circuit",
         "Suzuka",
         "Japan",
         "Japanese Grand Prix",
         17
        ],
        [
         "A1-Ring",
         "Spielburg",
         "Austria",
         "Austrian Grand Prix",
         6
        ],
        [
         "A1-Ring",
         "Spielburg",
         "Austria",
         "Austrian Grand Prix",
         6
        ],
        [
         "A1-Ring",
         "Spielburg",
         "Austria",
         "Austrian Grand Prix",
         6
        ],
        [
         "A1-Ring",
         "Spielburg",
         "Austria",
         "Austrian Grand Prix",
         10
        ],
        [
         "A1-Ring",
         "Spielburg",
         "Austria",
         "Austrian Grand Prix",
         9
        ],
        [
         "A1-Ring",
         "Spielburg",
         "Austria",
         "Austrian Grand Prix",
         10
        ],
        [
         "A1-Ring",
         "Spielburg",
         "Austria",
         "Austrian Grand Prix",
         14
        ],
        [
         "A1-Ring",
         "Spielburg",
         "Austria",
         "Austrian Grand Prix",
         10
        ],
        [
         "A1-Ring",
         "Spielburg",
         "Austria",
         "Austrian Grand Prix",
         12
        ],
        [
         "A1-Ring",
         "Spielburg",
         "Austria",
         "Austrian Grand Prix",
         10
        ],
        [
         "A1-Ring",
         "Spielburg",
         "Austria",
         "Austrian Grand Prix",
         12
        ],
        [
         "A1-Ring",
         "Spielburg",
         "Austria",
         "Austrian Grand Prix",
         11
        ],
        [
         "A1-Ring",
         "Spielburg",
         "Austria",
         "Austrian Grand Prix",
         13
        ],
        [
         "A1-Ring",
         "Spielburg",
         "Austria",
         "Austrian Grand Prix",
         11
        ],
        [
         "A1-Ring",
         "Spielburg",
         "Austria",
         "Austrian Grand Prix",
         10
        ],
        [
         "A1-Ring",
         "Spielburg",
         "Austria",
         "Austrian Grand Prix",
         11
        ],
        [
         "A1-Ring",
         "Spielburg",
         "Austria",
         "Austrian Grand Prix",
         12
        ],
        [
         "A1-Ring",
         "Spielburg",
         "Austria",
         "Austrian Grand Prix",
         12
        ],
        [
         "A1-Ring",
         "Spielburg",
         "Austria",
         "Austrian Grand Prix",
         11
        ],
        [
         "A1-Ring",
         "Spielburg",
         "Austria",
         "Austrian Grand Prix",
         12
        ],
        [
         "A1-Ring",
         "Spielburg",
         "Austria",
         "Austrian Grand Prix",
         12
        ],
        [
         "A1-Ring",
         "Spielburg",
         "Austria",
         "Austrian Grand Prix",
         12
        ],
        [
         "A1-Ring",
         "Spielburg",
         "Austria",
         "Austrian Grand Prix",
         9
        ],
        [
         "A1-Ring",
         "Spielburg",
         "Austria",
         "Austrian Grand Prix",
         8
        ],
        [
         "A1-Ring",
         "Spielburg",
         "Austria",
         "Austrian Grand Prix",
         9
        ],
        [
         "Yas Marina Circuit",
         "Abu Dhabi",
         "UAE",
         "Abu Dhabi Grand Prix",
         17
        ],
        [
         "Yas Marina Circuit",
         "Abu Dhabi",
         "UAE",
         "Abu Dhabi Grand Prix",
         19
        ],
        [
         "Yas Marina Circuit",
         "Abu Dhabi",
         "UAE",
         "Abu Dhabi Grand Prix",
         18
        ],
        [
         "Yas Marina Circuit",
         "Abu Dhabi",
         "UAE",
         "Abu Dhabi Grand Prix",
         18
        ],
        [
         "Yas Marina Circuit",
         "Abu Dhabi",
         "UAE",
         "Abu Dhabi Grand Prix",
         17
        ],
        [
         "Yas Marina Circuit",
         "Abu Dhabi",
         "UAE",
         "Abu Dhabi Grand Prix",
         19
        ],
        [
         "Yas Marina Circuit",
         "Abu Dhabi",
         "UAE",
         "Abu Dhabi Grand Prix",
         19
        ],
        [
         "Yas Marina Circuit",
         "Abu Dhabi",
         "UAE",
         "Abu Dhabi Grand Prix",
         21
        ],
        [
         "Yas Marina Circuit",
         "Abu Dhabi",
         "UAE",
         "Abu Dhabi Grand Prix",
         20
        ],
        [
         "Yas Marina Circuit",
         "Abu Dhabi",
         "UAE",
         "Abu Dhabi Grand Prix",
         21
        ],
        [
         "Yas Marina Circuit",
         "Abu Dhabi",
         "UAE",
         "Abu Dhabi Grand Prix",
         21
        ],
        [
         "Yas Marina Circuit",
         "Abu Dhabi",
         "UAE",
         "Abu Dhabi Grand Prix",
         17
        ],
        [
         "Yas Marina Circuit",
         "Abu Dhabi",
         "UAE",
         "Abu Dhabi Grand Prix",
         23
        ],
        [
         "Autódromo Juan y Oscar Gálvez",
         "Buenos Aires",
         "Argentina",
         "Argentine Grand Prix",
         3
        ],
        [
         "Autódromo Juan y Oscar Gálvez",
         "Buenos Aires",
         "Argentina",
         "Argentine Grand Prix",
         3
        ],
        [
         "Autódromo Juan y Oscar Gálvez",
         "Buenos Aires",
         "Argentina",
         "Argentine Grand Prix",
         3
        ],
        [
         "Autódromo Juan y Oscar Gálvez",
         "Buenos Aires",
         "Argentina",
         "Argentine Grand Prix",
         2
        ],
        [
         "Autódromo Juan y Oscar Gálvez",
         "Buenos Aires",
         "Argentina",
         "Argentine Grand Prix",
         3
        ],
        [
         "Autódromo Juan y Oscar Gálvez",
         "Buenos Aires",
         "Argentina",
         "Argentine Grand Prix",
         1
        ],
        [
         "Autódromo Juan y Oscar Gálvez",
         "Buenos Aires",
         "Argentina",
         "Argentine Grand Prix",
         1
        ],
        [
         "Autódromo Juan y Oscar Gálvez",
         "Buenos Aires",
         "Argentina",
         "Argentine Grand Prix",
         1
        ],
        [
         "Autódromo Juan y Oscar Gálvez",
         "Buenos Aires",
         "Argentina",
         "Argentine Grand Prix",
         1
        ],
        [
         "Autódromo Juan y Oscar Gálvez",
         "Buenos Aires",
         "Argentina",
         "Argentine Grand Prix",
         1
        ],
        [
         "Autódromo Juan y Oscar Gálvez",
         "Buenos Aires",
         "Argentina",
         "Argentine Grand Prix",
         1
        ],
        [
         "Autódromo Juan y Oscar Gálvez",
         "Buenos Aires",
         "Argentina",
         "Argentine Grand Prix",
         1
        ],
        [
         "Autódromo Juan y Oscar Gálvez",
         "Buenos Aires",
         "Argentina",
         "Argentine Grand Prix",
         1
        ],
        [
         "Autódromo Juan y Oscar Gálvez",
         "Buenos Aires",
         "Argentina",
         "Argentine Grand Prix",
         1
        ],
        [
         "Autódromo Juan y Oscar Gálvez",
         "Buenos Aires",
         "Argentina",
         "Argentine Grand Prix",
         1
        ],
        [
         "Autódromo Juan y Oscar Gálvez",
         "Buenos Aires",
         "Argentina",
         "Argentine Grand Prix",
         1
        ],
        [
         "Autódromo Juan y Oscar Gálvez",
         "Buenos Aires",
         "Argentina",
         "Argentine Grand Prix",
         1
        ],
        [
         "Autódromo Juan y Oscar Gálvez",
         "Buenos Aires",
         "Argentina",
         "Argentine Grand Prix",
         1
        ],
        [
         "Autódromo Juan y Oscar Gálvez",
         "Buenos Aires",
         "Argentina",
         "Argentine Grand Prix",
         1
        ],
        [
         "Autódromo Juan y Oscar Gálvez",
         "Buenos Aires",
         "Argentina",
         "Argentine Grand Prix",
         1
        ],
        [
         "Circuito de Jerez",
         "Jerez de la Frontera",
         "Spain",
         "European Grand Prix",
         17
        ],
        [
         "Circuito de Jerez",
         "Jerez de la Frontera",
         "Spain",
         "European Grand Prix",
         14
        ],
        [
         "Circuito de Jerez",
         "Jerez de la Frontera",
         "Spain",
         "Spanish Grand Prix",
         14
        ],
        [
         "Circuito de Jerez",
         "Jerez de la Frontera",
         "Spain",
         "Spanish Grand Prix",
         14
        ],
        [
         "Circuito de Jerez",
         "Jerez de la Frontera",
         "Spain",
         "Spanish Grand Prix",
         14
        ],
        [
         "Circuito de Jerez",
         "Jerez de la Frontera",
         "Spain",
         "Spanish Grand Prix",
         13
        ],
        [
         "Circuito de Jerez",
         "Jerez de la Frontera",
         "Spain",
         "Spanish Grand Prix",
         2
        ],
        [
         "Autódromo do Estoril",
         "Estoril",
         "Portugal",
         "Portuguese Grand Prix",
         15
        ],
        [
         "Autódromo do Estoril",
         "Estoril",
         "Portugal",
         "Portuguese Grand Prix",
         13
        ],
        [
         "Autódromo do Estoril",
         "Estoril",
         "Portugal",
         "Portuguese Grand Prix",
         13
        ],
        [
         "Autódromo do Estoril",
         "Estoril",
         "Portugal",
         "Portuguese Grand Prix",
         14
        ],
        [
         "Autódromo do Estoril",
         "Estoril",
         "Portugal",
         "Portuguese Grand Prix",
         14
        ],
        [
         "Autódromo do Estoril",
         "Estoril",
         "Portugal",
         "Portuguese Grand Prix",
         13
        ],
        [
         "Autódromo do Estoril",
         "Estoril",
         "Portugal",
         "Portuguese Grand Prix",
         13
        ],
        [
         "Autódromo do Estoril",
         "Estoril",
         "Portugal",
         "Portuguese Grand Prix",
         13
        ],
        [
         "Autódromo do Estoril",
         "Estoril",
         "Portugal",
         "Portuguese Grand Prix",
         13
        ],
        [
         "Autódromo do Estoril",
         "Estoril",
         "Portugal",
         "Portuguese Grand Prix",
         12
        ],
        [
         "Autódromo do Estoril",
         "Estoril",
         "Portugal",
         "Portuguese Grand Prix",
         14
        ],
        [
         "Autódromo do Estoril",
         "Estoril",
         "Portugal",
         "Portuguese Grand Prix",
         2
        ],
        [
         "Autódromo do Estoril",
         "Estoril",
         "Portugal",
         "Portuguese Grand Prix",
         16
        ],
        [
         "Okayama International Circuit",
         "Okayama",
         "Japan",
         "Pacific Grand Prix",
         15
        ],
        [
         "Okayama International Circuit",
         "Okayama",
         "Japan",
         "Pacific Grand Prix",
         2
        ],
        [
         "Adelaide Street Circuit",
         "Adelaide",
         "Australia",
         "Australian Grand Prix",
         17
        ],
        [
         "Adelaide Street Circuit",
         "Adelaide",
         "Australia",
         "Australian Grand Prix",
         16
        ],
        [
         "Adelaide Street Circuit",
         "Adelaide",
         "Australia",
         "Australian Grand Prix",
         16
        ],
        [
         "Adelaide Street Circuit",
         "Adelaide",
         "Australia",
         "Australian Grand Prix",
         16
        ],
        [
         "Adelaide Street Circuit",
         "Adelaide",
         "Australia",
         "Australian Grand Prix",
         16
        ],
        [
         "Adelaide Street Circuit",
         "Adelaide",
         "Australia",
         "Australian Grand Prix",
         16
        ],
        [
         "Adelaide Street Circuit",
         "Adelaide",
         "Australia",
         "Australian Grand Prix",
         16
        ],
        [
         "Adelaide Street Circuit",
         "Adelaide",
         "Australia",
         "Australian Grand Prix",
         16
        ],
        [
         "Adelaide Street Circuit",
         "Adelaide",
         "Australia",
         "Australian Grand Prix",
         16
        ],
        [
         "Adelaide Street Circuit",
         "Adelaide",
         "Australia",
         "Australian Grand Prix",
         16
        ],
        [
         "Adelaide Street Circuit",
         "Adelaide",
         "Australia",
         "Australian Grand Prix",
         16
        ],
        [
         "Kyalami",
         "Midrand",
         "South Africa",
         "South African Grand Prix",
         1
        ],
        [
         "Kyalami",
         "Midrand",
         "South Africa",
         "South African Grand Prix",
         1
        ],
        [
         "Kyalami",
         "Midrand",
         "South Africa",
         "South African Grand Prix",
         15
        ],
        [
         "Kyalami",
         "Midrand",
         "South Africa",
         "South African Grand Prix",
         2
        ],
        [
         "Kyalami",
         "Midrand",
         "South Africa",
         "South African Grand Prix",
         15
        ],
        [
         "Kyalami",
         "Midrand",
         "South Africa",
         "South African Grand Prix",
         1
        ],
        [
         "Kyalami",
         "Midrand",
         "South Africa",
         "South African Grand Prix",
         3
        ],
        [
         "Kyalami",
         "Midrand",
         "South Africa",
         "South African Grand Prix",
         3
        ],
        [
         "Kyalami",
         "Midrand",
         "South Africa",
         "South African Grand Prix",
         3
        ],
        [
         "Kyalami",
         "Midrand",
         "South Africa",
         "South African Grand Prix",
         3
        ],
        [
         "Kyalami",
         "Midrand",
         "South Africa",
         "South African Grand Prix",
         2
        ],
        [
         "Kyalami",
         "Midrand",
         "South Africa",
         "South African Grand Prix",
         3
        ],
        [
         "Kyalami",
         "Midrand",
         "South Africa",
         "South African Grand Prix",
         3
        ],
        [
         "Kyalami",
         "Midrand",
         "South Africa",
         "South African Grand Prix",
         3
        ],
        [
         "Kyalami",
         "Midrand",
         "South Africa",
         "South African Grand Prix",
         2
        ],
        [
         "Kyalami",
         "Midrand",
         "South Africa",
         "South African Grand Prix",
         1
        ],
        [
         "Kyalami",
         "Midrand",
         "South Africa",
         "South African Grand Prix",
         1
        ],
        [
         "Kyalami",
         "Midrand",
         "South Africa",
         "South African Grand Prix",
         1
        ],
        [
         "Kyalami",
         "Midrand",
         "South Africa",
         "South African Grand Prix",
         1
        ],
        [
         "Kyalami",
         "Midrand",
         "South Africa",
         "South African Grand Prix",
         1
        ],
        [
         "Donington Park",
         "Castle Donington",
         "UK",
         "European Grand Prix",
         3
        ],
        [
         "Autódromo Hermanos Rodríguez",
         "Mexico City",
         "Mexico",
         "Mexican Grand Prix",
         2
        ],
        [
         "Autódromo Hermanos Rodríguez",
         "Mexico City",
         "Mexico",
         "Mexican Grand Prix",
         6
        ],
        [
         "Autódromo Hermanos Rodríguez",
         "Mexico City",
         "Mexico",
         "Mexican Grand Prix",
         6
        ],
        [
         "Autódromo Hermanos Rodríguez",
         "Mexico City",
         "Mexico",
         "Mexican Grand Prix",
         4
        ],
        [
         "Autódromo Hermanos Rodríguez",
         "Mexico City",
         "Mexico",
         "Mexican Grand Prix",
         4
        ],
        [
         "Autódromo Hermanos Rodríguez",
         "Mexico City",
         "Mexico",
         "Mexican Grand Prix",
         14
        ],
        [
         "Autódromo Hermanos Rodríguez",
         "Mexico City",
         "Mexico",
         "Mexican Grand Prix",
         15
        ],
        [
         "Autódromo Hermanos Rodríguez",
         "Mexico City",
         "Mexico",
         "Mexican Grand Prix",
         13
        ],
        [
         "Autódromo Hermanos Rodríguez",
         "Mexico City",
         "Mexico",
         "Mexican Grand Prix",
         11
        ],
        [
         "Autódromo Hermanos Rodríguez",
         "Mexico City",
         "Mexico",
         "Mexican Grand Prix",
         12
        ],
        [
         "Autódromo Hermanos Rodríguez",
         "Mexico City",
         "Mexico",
         "Mexican Grand Prix",
         11
        ],
        [
         "Autódromo Hermanos Rodríguez",
         "Mexico City",
         "Mexico",
         "Mexican Grand Prix",
         9
        ],
        [
         "Autódromo Hermanos Rodríguez",
         "Mexico City",
         "Mexico",
         "Mexican Grand Prix",
         10
        ],
        [
         "Autódromo Hermanos Rodríguez",
         "Mexico City",
         "Mexico",
         "Mexican Grand Prix",
         10
        ],
        [
         "Autódromo Hermanos Rodríguez",
         "Mexico City",
         "Mexico",
         "Mexican Grand Prix",
         9
        ],
        [
         "Autódromo Hermanos Rodríguez",
         "Mexico City",
         "Mexico",
         "Mexican Grand Prix",
         17
        ],
        [
         "Autódromo Hermanos Rodríguez",
         "Mexico City",
         "Mexico",
         "Mexican Grand Prix",
         19
        ],
        [
         "Autódromo Hermanos Rodríguez",
         "Mexico City",
         "Mexico",
         "Mexican Grand Prix",
         18
        ],
        [
         "Autódromo Hermanos Rodríguez",
         "Mexico City",
         "Mexico",
         "Mexican Grand Prix",
         19
        ],
        [
         "Autódromo Hermanos Rodríguez",
         "Mexico City",
         "Mexico",
         "Mexican Grand Prix",
         18
        ],
        [
         "Autódromo Hermanos Rodríguez",
         "Mexico City",
         "Mexico",
         "Mexico City Grand Prix",
         19
        ],
        [
         "Phoenix street circuit",
         "Phoenix",
         "USA",
         "United States Grand Prix",
         1
        ],
        [
         "Phoenix street circuit",
         "Phoenix",
         "USA",
         "United States Grand Prix",
         1
        ],
        [
         "Phoenix street circuit",
         "Phoenix",
         "USA",
         "United States Grand Prix",
         5
        ],
        [
         "Circuit Paul Ricard",
         "Le Castellet",
         "France",
         "French Grand Prix",
         7
        ],
        [
         "Circuit Paul Ricard",
         "Le Castellet",
         "France",
         "French Grand Prix",
         7
        ],
        [
         "Circuit Paul Ricard",
         "Le Castellet",
         "France",
         "French Grand Prix",
         7
        ],
        [
         "Circuit Paul Ricard",
         "Le Castellet",
         "France",
         "French Grand Prix",
         6
        ],
        [
         "Circuit Paul Ricard",
         "Le Castellet",
         "France",
         "French Grand Prix",
         8
        ],
        [
         "Circuit Paul Ricard",
         "Le Castellet",
         "France",
         "French Grand Prix",
         7
        ],
        [
         "Circuit Paul Ricard",
         "Le Castellet",
         "France",
         "French Grand Prix",
         3
        ],
        [
         "Circuit Paul Ricard",
         "Le Castellet",
         "France",
         "French Grand Prix",
         11
        ],
        [
         "Circuit Paul Ricard",
         "Le Castellet",
         "France",
         "French Grand Prix",
         7
        ],
        [
         "Circuit Paul Ricard",
         "Le Castellet",
         "France",
         "French Grand Prix",
         9
        ],
        [
         "Circuit Paul Ricard",
         "Le Castellet",
         "France",
         "French Grand Prix",
         8
        ],
        [
         "Circuit Paul Ricard",
         "Le Castellet",
         "France",
         "French Grand Prix",
         9
        ],
        [
         "Circuit Paul Ricard",
         "Le Castellet",
         "France",
         "French Grand Prix",
         8
        ],
        [
         "Circuit Paul Ricard",
         "Le Castellet",
         "France",
         "French Grand Prix",
         5
        ],
        [
         "Circuit Paul Ricard",
         "Le Castellet",
         "France",
         "French Grand Prix",
         8
        ],
        [
         "Circuit Paul Ricard",
         "Le Castellet",
         "France",
         "French Grand Prix",
         8
        ],
        [
         "Circuit Paul Ricard",
         "Le Castellet",
         "France",
         "French Grand Prix",
         8
        ],
        [
         "Korean International Circuit",
         "Yeongam County",
         "Korea",
         "Korean Grand Prix",
         17
        ],
        [
         "Korean International Circuit",
         "Yeongam County",
         "Korea",
         "Korean Grand Prix",
         16
        ],
        [
         "Korean International Circuit",
         "Yeongam County",
         "Korea",
         "Korean Grand Prix",
         16
        ],
        [
         "Korean International Circuit",
         "Yeongam County",
         "Korea",
         "Korean Grand Prix",
         14
        ],
        [
         "Autódromo Internacional Nelson Piquet",
         "Rio de Janeiro",
         "Brazil",
         "Brazilian Grand Prix",
         1
        ],
        [
         "Autódromo Internacional Nelson Piquet",
         "Rio de Janeiro",
         "Brazil",
         "Brazilian Grand Prix",
         1
        ],
        [
         "Autódromo Internacional Nelson Piquet",
         "Rio de Janeiro",
         "Brazil",
         "Brazilian Grand Prix",
         1
        ],
        [
         "Autódromo Internacional Nelson Piquet",
         "Rio de Janeiro",
         "Brazil",
         "Brazilian Grand Prix",
         1
        ],
        [
         "Autódromo Internacional Nelson Piquet",
         "Rio de Janeiro",
         "Brazil",
         "Brazilian Grand Prix",
         1
        ],
        [
         "Autódromo Internacional Nelson Piquet",
         "Rio de Janeiro",
         "Brazil",
         "Brazilian Grand Prix",
         1
        ],
        [
         "Autódromo Internacional Nelson Piquet",
         "Rio de Janeiro",
         "Brazil",
         "Brazilian Grand Prix",
         1
        ],
        [
         "Autódromo Internacional Nelson Piquet",
         "Rio de Janeiro",
         "Brazil",
         "Brazilian Grand Prix",
         2
        ],
        [
         "Autódromo Internacional Nelson Piquet",
         "Rio de Janeiro",
         "Brazil",
         "Brazilian Grand Prix",
         2
        ],
        [
         "Autódromo Internacional Nelson Piquet",
         "Rio de Janeiro",
         "Brazil",
         "Brazilian Grand Prix",
         2
        ],
        [
         "Detroit Street Circuit",
         "Detroit",
         "USA",
         "Detroit Grand Prix",
         6
        ],
        [
         "Detroit Street Circuit",
         "Detroit",
         "USA",
         "Detroit Grand Prix",
         5
        ],
        [
         "Detroit Street Circuit",
         "Detroit",
         "USA",
         "Detroit Grand Prix",
         7
        ],
        [
         "Detroit Street Circuit",
         "Detroit",
         "USA",
         "Detroit Grand Prix",
         6
        ],
        [
         "Detroit Street Circuit",
         "Detroit",
         "USA",
         "Detroit Grand Prix",
         8
        ],
        [
         "Detroit Street Circuit",
         "Detroit",
         "USA",
         "Detroit Grand Prix",
         7
        ],
        [
         "Detroit Street Circuit",
         "Detroit",
         "USA",
         "Detroit Grand Prix",
         7
        ],
        [
         "Brands Hatch",
         "Kent",
         "UK",
         "British Grand Prix",
         9
        ],
        [
         "Brands Hatch",
         "Kent",
         "UK",
         "European Grand Prix",
         14
        ],
        [
         "Brands Hatch",
         "Kent",
         "UK",
         "British Grand Prix",
         10
        ],
        [
         "Brands Hatch",
         "Kent",
         "UK",
         "European Grand Prix",
         14
        ],
        [
         "Brands Hatch",
         "Kent",
         "UK",
         "British Grand Prix",
         10
        ],
        [
         "Brands Hatch",
         "Kent",
         "UK",
         "British Grand Prix",
         8
        ],
        [
         "Brands Hatch",
         "Kent",
         "UK",
         "British Grand Prix",
         10
        ],
        [
         "Brands Hatch",
         "Kent",
         "UK",
         "British Grand Prix",
         9
        ],
        [
         "Brands Hatch",
         "Kent",
         "UK",
         "British Grand Prix",
         10
        ],
        [
         "Brands Hatch",
         "Kent",
         "UK",
         "British Grand Prix",
         7
        ],
        [
         "Brands Hatch",
         "Kent",
         "UK",
         "British Grand Prix",
         7
        ],
        [
         "Brands Hatch",
         "Kent",
         "UK",
         "British Grand Prix",
         7
        ],
        [
         "Brands Hatch",
         "Kent",
         "UK",
         "British Grand Prix",
         4
        ],
        [
         "Brands Hatch",
         "Kent",
         "UK",
         "British Grand Prix",
         5
        ],
        [
         "Circuit Park Zandvoort",
         "Zandvoort",
         "Netherlands",
         "Dutch Grand Prix",
         11
        ],
        [
         "Circuit Park Zandvoort",
         "Zandvoort",
         "Netherlands",
         "Dutch Grand Prix",
         13
        ],
        [
         "Circuit Park Zandvoort",
         "Zandvoort",
         "Netherlands",
         "Dutch Grand Prix",
         12
        ],
        [
         "Circuit Park Zandvoort",
         "Zandvoort",
         "Netherlands",
         "Dutch Grand Prix",
         9
        ],
        [
         "Circuit Park Zandvoort",
         "Zandvoort",
         "Netherlands",
         "Dutch Grand Prix",
         12
        ],
        [
         "Circuit Park Zandvoort",
         "Zandvoort",
         "Netherlands",
         "Dutch Grand Prix",
         11
        ],
        [
         "Circuit Park Zandvoort",
         "Zandvoort",
         "Netherlands",
         "Dutch Grand Prix",
         12
        ],
        [
         "Circuit Park Zandvoort",
         "Zandvoort",
         "Netherlands",
         "Dutch Grand Prix",
         13
        ],
        [
         "Circuit Park Zandvoort",
         "Zandvoort",
         "Netherlands",
         "Dutch Grand Prix",
         13
        ],
        [
         "Circuit Park Zandvoort",
         "Zandvoort",
         "Netherlands",
         "Dutch Grand Prix",
         12
        ],
        [
         "Circuit Park Zandvoort",
         "Zandvoort",
         "Netherlands",
         "Dutch Grand Prix",
         8
        ],
        [
         "Circuit Park Zandvoort",
         "Zandvoort",
         "Netherlands",
         "Dutch Grand Prix",
         8
        ],
        [
         "Circuit Park Zandvoort",
         "Zandvoort",
         "Netherlands",
         "Dutch Grand Prix",
         10
        ],
        [
         "Circuit Park Zandvoort",
         "Zandvoort",
         "Netherlands",
         "Dutch Grand Prix",
         4
        ],
        [
         "Circuit Park Zandvoort",
         "Zandvoort",
         "Netherlands",
         "Dutch Grand Prix",
         5
        ],
        [
         "Circuit Park Zandvoort",
         "Zandvoort",
         "Netherlands",
         "Dutch Grand Prix",
         4
        ],
        [
         "Circuit Park Zandvoort",
         "Zandvoort",
         "Netherlands",
         "Dutch Grand Prix",
         5
        ],
        [
         "Circuit Park Zandvoort",
         "Zandvoort",
         "Netherlands",
         "Dutch Grand Prix",
         3
        ],
        [
         "Circuit Park Zandvoort",
         "Zandvoort",
         "Netherlands",
         "Dutch Grand Prix",
         5
        ],
        [
         "Circuit Park Zandvoort",
         "Zandvoort",
         "Netherlands",
         "Dutch Grand Prix",
         6
        ],
        [
         "Circuit Park Zandvoort",
         "Zandvoort",
         "Netherlands",
         "Dutch Grand Prix",
         2
        ],
        [
         "Circuit Park Zandvoort",
         "Zandvoort",
         "Netherlands",
         "Dutch Grand Prix",
         3
        ],
        [
         "Circuit Park Zandvoort",
         "Zandvoort",
         "Netherlands",
         "Dutch Grand Prix",
         1
        ],
        [
         "Circuit Park Zandvoort",
         "Zandvoort",
         "Netherlands",
         "Dutch Grand Prix",
         2
        ],
        [
         "Circuit Park Zandvoort",
         "Zandvoort",
         "Netherlands",
         "Dutch Grand Prix",
         4
        ],
        [
         "Circuit Park Zandvoort",
         "Zandvoort",
         "Netherlands",
         "Dutch Grand Prix",
         3
        ],
        [
         "Circuit Park Zandvoort",
         "Zandvoort",
         "Netherlands",
         "Dutch Grand Prix",
         3
        ],
        [
         "Circuit Park Zandvoort",
         "Zandvoort",
         "Netherlands",
         "Dutch Grand Prix",
         5
        ],
        [
         "Circuit Park Zandvoort",
         "Zandvoort",
         "Netherlands",
         "Dutch Grand Prix",
         3
        ],
        [
         "Circuit Park Zandvoort",
         "Zandvoort",
         "Netherlands",
         "Dutch Grand Prix",
         7
        ],
        [
         "Circuit Park Zandvoort",
         "Zandvoort",
         "Netherlands",
         "Dutch Grand Prix",
         13
        ],
        [
         "Zolder",
         "Heusden-Zolder",
         "Belgium",
         "Belgian Grand Prix",
         3
        ],
        [
         "Zolder",
         "Heusden-Zolder",
         "Belgium",
         "Belgian Grand Prix",
         5
        ],
        [
         "Zolder",
         "Heusden-Zolder",
         "Belgium",
         "Belgian Grand Prix",
         5
        ],
        [
         "Zolder",
         "Heusden-Zolder",
         "Belgium",
         "Belgian Grand Prix",
         5
        ],
        [
         "Zolder",
         "Heusden-Zolder",
         "Belgium",
         "Belgian Grand Prix",
         6
        ],
        [
         "Zolder",
         "Heusden-Zolder",
         "Belgium",
         "Belgian Grand Prix",
         6
        ],
        [
         "Zolder",
         "Heusden-Zolder",
         "Belgium",
         "Belgian Grand Prix",
         7
        ],
        [
         "Zolder",
         "Heusden-Zolder",
         "Belgium",
         "Belgian Grand Prix",
         5
        ],
        [
         "Zolder",
         "Heusden-Zolder",
         "Belgium",
         "Belgian Grand Prix",
         6
        ],
        [
         "Zolder",
         "Heusden-Zolder",
         "Belgium",
         "Belgian Grand Prix",
         5
        ],
        [
         "Dijon-Prenois",
         "Dijon",
         "France",
         "French Grand Prix",
         5
        ],
        [
         "Dijon-Prenois",
         "Dijon",
         "France",
         "Swiss Grand Prix",
         14
        ],
        [
         "Dijon-Prenois",
         "Dijon",
         "France",
         "French Grand Prix",
         8
        ],
        [
         "Dijon-Prenois",
         "Dijon",
         "France",
         "French Grand Prix",
         8
        ],
        [
         "Dijon-Prenois",
         "Dijon",
         "France",
         "French Grand Prix",
         9
        ],
        [
         "Dijon-Prenois",
         "Dijon",
         "France",
         "French Grand Prix",
         9
        ],
        [
         "Fair Park",
         "Dallas",
         "USA",
         "Dallas Grand Prix",
         9
        ],
        [
         "Long Beach",
         "California",
         "USA",
         "United States Grand Prix West",
         2
        ],
        [
         "Long Beach",
         "California",
         "USA",
         "United States Grand Prix West",
         3
        ],
        [
         "Long Beach",
         "California",
         "USA",
         "United States Grand Prix West",
         1
        ],
        [
         "Long Beach",
         "California",
         "USA",
         "United States Grand Prix West",
         4
        ],
        [
         "Long Beach",
         "California",
         "USA",
         "United States Grand Prix West",
         4
        ],
        [
         "Long Beach",
         "California",
         "USA",
         "United States Grand Prix West",
         4
        ],
        [
         "Long Beach",
         "California",
         "USA",
         "United States Grand Prix West",
         4
        ],
        [
         "Long Beach",
         "California",
         "USA",
         "United States Grand Prix West",
         3
        ],
        [
         "Las Vegas Street Circuit",
         "Nevada",
         "USA",
         "Caesars Palace Grand Prix",
         16
        ],
        [
         "Las Vegas Street Circuit",
         "Nevada",
         "USA",
         "Caesars Palace Grand Prix",
         15
        ],
        [
         "Jarama",
         "Madrid",
         "Spain",
         "Spanish Grand Prix",
         7
        ],
        [
         "Jarama",
         "Madrid",
         "Spain",
         "Spanish Grand Prix",
         5
        ],
        [
         "Jarama",
         "Madrid",
         "Spain",
         "Spanish Grand Prix",
         7
        ],
        [
         "Jarama",
         "Madrid",
         "Spain",
         "Spanish Grand Prix",
         5
        ],
        [
         "Jarama",
         "Madrid",
         "Spain",
         "Spanish Grand Prix",
         4
        ],
        [
         "Jarama",
         "Madrid",
         "Spain",
         "Spanish Grand Prix",
         4
        ],
        [
         "Jarama",
         "Madrid",
         "Spain",
         "Spanish Grand Prix",
         3
        ],
        [
         "Jarama",
         "Madrid",
         "Spain",
         "Spanish Grand Prix",
         2
        ],
        [
         "Jarama",
         "Madrid",
         "Spain",
         "Spanish Grand Prix",
         2
        ],
        [
         "Watkins Glen",
         "New York State",
         "USA",
         "United States Grand Prix",
         14
        ],
        [
         "Watkins Glen",
         "New York State",
         "USA",
         "United States Grand Prix",
         15
        ],
        [
         "Watkins Glen",
         "New York State",
         "USA",
         "United States Grand Prix",
         15
        ],
        [
         "Watkins Glen",
         "New York State",
         "USA",
         "United States Grand Prix",
         15
        ],
        [
         "Watkins Glen",
         "New York State",
         "USA",
         "United States Grand Prix",
         15
        ],
        [
         "Watkins Glen",
         "New York State",
         "USA",
         "United States Grand Prix",
         14
        ],
        [
         "Watkins Glen",
         "New York State",
         "USA",
         "United States Grand Prix",
         15
        ],
        [
         "Watkins Glen",
         "New York State",
         "USA",
         "United States Grand Prix",
         15
        ],
        [
         "Watkins Glen",
         "New York State",
         "USA",
         "United States Grand Prix",
         12
        ],
        [
         "Watkins Glen",
         "New York State",
         "USA",
         "United States Grand Prix",
         11
        ],
        [
         "Watkins Glen",
         "New York State",
         "USA",
         "United States Grand Prix",
         12
        ],
        [
         "Watkins Glen",
         "New York State",
         "USA",
         "United States Grand Prix",
         10
        ],
        [
         "Watkins Glen",
         "New York State",
         "USA",
         "United States Grand Prix",
         11
        ],
        [
         "Watkins Glen",
         "New York State",
         "USA",
         "United States Grand Prix",
         10
        ],
        [
         "Watkins Glen",
         "New York State",
         "USA",
         "United States Grand Prix",
         8
        ],
        [
         "Watkins Glen",
         "New York State",
         "USA",
         "United States Grand Prix",
         9
        ],
        [
         "Watkins Glen",
         "New York State",
         "USA",
         "United States Grand Prix",
         9
        ],
        [
         "Watkins Glen",
         "New York State",
         "USA",
         "United States Grand Prix",
         8
        ],
        [
         "Watkins Glen",
         "New York State",
         "USA",
         "United States Grand Prix",
         8
        ],
        [
         "Watkins Glen",
         "New York State",
         "USA",
         "United States Grand Prix",
         8
        ],
        [
         "Scandinavian Raceway",
         "Anderstorp",
         "Sweden",
         "Swedish Grand Prix",
         8
        ],
        [
         "Scandinavian Raceway",
         "Anderstorp",
         "Sweden",
         "Swedish Grand Prix",
         8
        ],
        [
         "Scandinavian Raceway",
         "Anderstorp",
         "Sweden",
         "Swedish Grand Prix",
         7
        ],
        [
         "Scandinavian Raceway",
         "Anderstorp",
         "Sweden",
         "Swedish Grand Prix",
         7
        ],
        [
         "Scandinavian Raceway",
         "Anderstorp",
         "Sweden",
         "Swedish Grand Prix",
         7
        ],
        [
         "Scandinavian Raceway",
         "Anderstorp",
         "Sweden",
         "Swedish Grand Prix",
         7
        ],
        [
         "Mosport International Raceway",
         "Ontario",
         "Canada",
         "Canadian Grand Prix",
         16
        ],
        [
         "Mosport International Raceway",
         "Ontario",
         "Canada",
         "Canadian Grand Prix",
         14
        ],
        [
         "Mosport International Raceway",
         "Ontario",
         "Canada",
         "Canadian Grand Prix",
         14
        ],
        [
         "Mosport International Raceway",
         "Ontario",
         "Canada",
         "Canadian Grand Prix",
         14
        ],
        [
         "Mosport International Raceway",
         "Ontario",
         "Canada",
         "Canadian Grand Prix",
         11
        ],
        [
         "Mosport International Raceway",
         "Ontario",
         "Canada",
         "Canadian Grand Prix",
         10
        ],
        [
         "Mosport International Raceway",
         "Ontario",
         "Canada",
         "Canadian Grand Prix",
         9
        ],
        [
         "Mosport International Raceway",
         "Ontario",
         "Canada",
         "Canadian Grand Prix",
         8
        ],
        [
         "Montjuïc",
         "Barcelona",
         "Spain",
         "Spanish Grand Prix",
         4
        ],
        [
         "Montjuïc",
         "Barcelona",
         "Spain",
         "Spanish Grand Prix",
         4
        ],
        [
         "Montjuïc",
         "Barcelona",
         "Spain",
         "Spanish Grand Prix",
         2
        ],
        [
         "Montjuïc",
         "Barcelona",
         "Spain",
         "Spanish Grand Prix",
         2
        ],
        [
         "Nivelles-Baulers",
         "Brussels",
         "Belgium",
         "Belgian Grand Prix",
         5
        ],
        [
         "Nivelles-Baulers",
         "Brussels",
         "Belgium",
         "Belgian Grand Prix",
         5
        ],
        [
         "Charade Circuit",
         "Clermont-Ferrand",
         "France",
         "French Grand Prix",
         6
        ],
        [
         "Charade Circuit",
         "Clermont-Ferrand",
         "France",
         "French Grand Prix",
         6
        ],
        [
         "Charade Circuit",
         "Clermont-Ferrand",
         "France",
         "French Grand Prix",
         5
        ],
        [
         "Charade Circuit",
         "Clermont-Ferrand",
         "France",
         "French Grand Prix",
         4
        ],
        [
         "Circuit Mont-Tremblant",
         "Quebec",
         "Canada",
         "Canadian Grand Prix",
         11
        ],
        [
         "Circuit Mont-Tremblant",
         "Quebec",
         "Canada",
         "Canadian Grand Prix",
         10
        ],
        [
         "Rouen-Les-Essarts",
         "Rouen",
         "France",
         "French Grand Prix",
         6
        ],
        [
         "Rouen-Les-Essarts",
         "Rouen",
         "France",
         "French Grand Prix",
         4
        ],
        [
         "Rouen-Les-Essarts",
         "Rouen",
         "France",
         "French Grand Prix",
         4
        ],
        [
         "Rouen-Les-Essarts",
         "Rouen",
         "France",
         "French Grand Prix",
         4
        ],
        [
         "Rouen-Les-Essarts",
         "Rouen",
         "France",
         "French Grand Prix",
         4
        ],
        [
         "Le Mans",
         "Le Mans",
         "France",
         "French Grand Prix",
         5
        ],
        [
         "Reims-Gueux",
         "Reims",
         "France",
         "French Grand Prix",
         3
        ],
        [
         "Reims-Gueux",
         "Reims",
         "France",
         "French Grand Prix",
         4
        ],
        [
         "Reims-Gueux",
         "Reims",
         "France",
         "French Grand Prix",
         4
        ],
        [
         "Reims-Gueux",
         "Reims",
         "France",
         "French Grand Prix",
         6
        ],
        [
         "Reims-Gueux",
         "Reims",
         "France",
         "French Grand Prix",
         4
        ],
        [
         "Reims-Gueux",
         "Reims",
         "France",
         "French Grand Prix",
         6
        ],
        [
         "Reims-Gueux",
         "Reims",
         "France",
         "French Grand Prix",
         5
        ],
        [
         "Reims-Gueux",
         "Reims",
         "France",
         "French Grand Prix",
         4
        ],
        [
         "Reims-Gueux",
         "Reims",
         "France",
         "French Grand Prix",
         5
        ],
        [
         "Reims-Gueux",
         "Reims",
         "France",
         "French Grand Prix",
         4
        ],
        [
         "Reims-Gueux",
         "Reims",
         "France",
         "French Grand Prix",
         6
        ],
        [
         "Prince George Circuit",
         "Eastern Cape Province",
         "South Africa",
         "South African Grand Prix",
         1
        ],
        [
         "Prince George Circuit",
         "Eastern Cape Province",
         "South Africa",
         "South African Grand Prix",
         10
        ],
        [
         "Prince George Circuit",
         "Eastern Cape Province",
         "South Africa",
         "South African Grand Prix",
         9
        ],
        [
         "Zeltweg",
         "Styria",
         "Austria",
         "Austrian Grand Prix",
         7
        ],
        [
         "Aintree",
         "Liverpool",
         "UK",
         "British Grand Prix",
         5
        ],
        [
         "Aintree",
         "Liverpool",
         "UK",
         "British Grand Prix",
         5
        ],
        [
         "Aintree",
         "Liverpool",
         "UK",
         "British Grand Prix",
         5
        ],
        [
         "Aintree",
         "Liverpool",
         "UK",
         "British Grand Prix",
         5
        ],
        [
         "Aintree",
         "Liverpool",
         "UK",
         "British Grand Prix",
         6
        ],
        [
         "Circuito da Boavista",
         "Oporto",
         "Portugal",
         "Portuguese Grand Prix",
         8
        ],
        [
         "Circuito da Boavista",
         "Oporto",
         "Portugal",
         "Portuguese Grand Prix",
         9
        ],
        [
         "Riverside International Raceway",
         "California",
         "USA",
         "United States Grand Prix",
         10
        ],
        [
         "AVUS",
         "Berlin",
         "Germany",
         "German Grand Prix",
         6
        ],
        [
         "Monsanto Park Circuit",
         "Lisbon",
         "Portugal",
         "Portuguese Grand Prix",
         7
        ],
        [
         "Sebring International Raceway",
         "Florida",
         "USA",
         "United States Grand Prix",
         9
        ],
        [
         "Ain Diab",
         "Casablanca",
         "Morocco",
         "Moroccan Grand Prix",
         11
        ],
        [
         "Pescara Circuit",
         "Pescara",
         "Italy",
         "Pescara Grand Prix",
         7
        ],
        [
         "Circuit Bremgarten",
         "Bern",
         "Switzerland",
         "Swiss Grand Prix",
         7
        ],
        [
         "Circuit Bremgarten",
         "Bern",
         "Switzerland",
         "Swiss Grand Prix",
         8
        ],
        [
         "Circuit Bremgarten",
         "Bern",
         "Switzerland",
         "Swiss Grand Prix",
         1
        ],
        [
         "Circuit Bremgarten",
         "Bern",
         "Switzerland",
         "Swiss Grand Prix",
         1
        ],
        [
         "Circuit Bremgarten",
         "Bern",
         "Switzerland",
         "Swiss Grand Prix",
         4
        ],
        [
         "Circuit de Pedralbes",
         "Barcelona",
         "Spain",
         "Spanish Grand Prix",
         9
        ],
        [
         "Circuit de Pedralbes",
         "Barcelona",
         "Spain",
         "Spanish Grand Prix",
         8
        ],
        [
         "Buddh International Circuit",
         "Uttar Pradesh",
         "India",
         "Indian Grand Prix",
         17
        ],
        [
         "Buddh International Circuit",
         "Uttar Pradesh",
         "India",
         "Indian Grand Prix",
         17
        ],
        [
         "Buddh International Circuit",
         "Uttar Pradesh",
         "India",
         "Indian Grand Prix",
         16
        ],
        [
         "Circuit of the Americas",
         "Austin",
         "USA",
         "United States Grand Prix",
         19
        ],
        [
         "Circuit of the Americas",
         "Austin",
         "USA",
         "United States Grand Prix",
         18
        ],
        [
         "Circuit of the Americas",
         "Austin",
         "USA",
         "United States Grand Prix",
         17
        ],
        [
         "Circuit of the Americas",
         "Austin",
         "USA",
         "United States Grand Prix",
         16
        ],
        [
         "Circuit of the Americas",
         "Austin",
         "USA",
         "United States Grand Prix",
         18
        ],
        [
         "Circuit of the Americas",
         "Austin",
         "USA",
         "United States Grand Prix",
         17
        ],
        [
         "Circuit of the Americas",
         "Austin",
         "USA",
         "United States Grand Prix",
         18
        ],
        [
         "Circuit of the Americas",
         "Austin",
         "USA",
         "United States Grand Prix",
         19
        ],
        [
         "Circuit of the Americas",
         "Austin",
         "USA",
         "United States Grand Prix",
         18
        ],
        [
         "Red Bull Ring",
         "Spielburg",
         "Austria",
         "Austrian Grand Prix",
         8
        ],
        [
         "Red Bull Ring",
         "Spielburg",
         "Austria",
         "Austrian Grand Prix",
         8
        ],
        [
         "Red Bull Ring",
         "Spielburg",
         "Austria",
         "Austrian Grand Prix",
         9
        ],
        [
         "Red Bull Ring",
         "Spielburg",
         "Austria",
         "Austrian Grand Prix",
         9
        ],
        [
         "Red Bull Ring",
         "Spielburg",
         "Austria",
         "Austrian Grand Prix",
         9
        ],
        [
         "Red Bull Ring",
         "Spielburg",
         "Austria",
         "Austrian Grand Prix",
         9
        ],
        [
         "Red Bull Ring",
         "Spielburg",
         "Austria",
         "Austrian Grand Prix",
         1
        ],
        [
         "Red Bull Ring",
         "Spielburg",
         "Austria",
         "Styrian Grand Prix",
         2
        ],
        [
         "Red Bull Ring",
         "Spielburg",
         "Austria",
         "Austrian Grand Prix",
         9
        ],
        [
         "Sochi Autodrom",
         "Sochi",
         "Russia",
         "Russian Grand Prix",
         16
        ],
        [
         "Sochi Autodrom",
         "Sochi",
         "Russia",
         "Russian Grand Prix",
         15
        ],
        [
         "Sochi Autodrom",
         "Sochi",
         "Russia",
         "Russian Grand Prix",
         4
        ],
        [
         "Sochi Autodrom",
         "Sochi",
         "Russia",
         "Russian Grand Prix",
         4
        ],
        [
         "Sochi Autodrom",
         "Sochi",
         "Russia",
         "Russian Grand Prix",
         16
        ],
        [
         "Sochi Autodrom",
         "Sochi",
         "Russia",
         "Russian Grand Prix",
         16
        ],
        [
         "Sochi Autodrom",
         "Sochi",
         "Russia",
         "Russian Grand Prix",
         10
        ],
        [
         "Sochi Autodrom",
         "Sochi",
         "Russia",
         "Russian Grand Prix",
         15
        ],
        [
         "Port Imperial Street Circuit",
         "New Jersey",
         "USA",
         null,
         null
        ],
        [
         "Baku City Circuit",
         "Baku",
         "Azerbaijan",
         "European Grand Prix",
         8
        ],
        [
         "Baku City Circuit",
         "Baku",
         "Azerbaijan",
         "Azerbaijan Grand Prix",
         8
        ],
        [
         "Baku City Circuit",
         "Baku",
         "Azerbaijan",
         "Azerbaijan Grand Prix",
         4
        ],
        [
         "Baku City Circuit",
         "Baku",
         "Azerbaijan",
         "Azerbaijan Grand Prix",
         4
        ],
        [
         "Baku City Circuit",
         "Baku",
         "Azerbaijan",
         "Azerbaijan Grand Prix",
         6
        ],
        [
         "Hanoi Street Circuit",
         "Hanoi",
         "Vietnam",
         null,
         null
        ],
        [
         "Autódromo Internacional do Algarve",
         "Portimão",
         "Portugal",
         "Portuguese Grand Prix",
         12
        ],
        [
         "Autodromo Internazionale del Mugello",
         "Mugello",
         "Italy",
         "Tuscan Grand Prix",
         9
        ],
        [
         "Jeddah Street Circuit",
         "Jeddah",
         "Saudi Arabia",
         "Saudi Arabian Grand Prix",
         22
        ]
       ],
       "datasetInfos": [],
       "dbfsResultPath": null,
       "isJsonSchema": true,
       "metadata": {},
       "overflow": false,
       "plotOptions": {
        "customPlotOptions": {},
        "displayType": "table",
        "pivotAggregation": null,
        "pivotColumns": null,
        "xColumns": null,
        "yColumns": null
       },
       "removedWidgets": [],
       "schema": [
        {
         "metadata": "{}",
         "name": "circuit_name",
         "type": "\"string\""
        },
        {
         "metadata": "{}",
         "name": "circuit_location",
         "type": "\"string\""
        },
        {
         "metadata": "{}",
         "name": "circuit_country",
         "type": "\"string\""
        },
        {
         "metadata": "{}",
         "name": "race_name",
         "type": "\"string\""
        },
        {
         "metadata": "{}",
         "name": "race_round",
         "type": "\"integer\""
        }
       ],
       "type": "table"
      }
     },
     "output_type": "display_data"
    }
   ],
   "source": [
    "race_circuit_df.display()"
   ]
  },
  {
   "cell_type": "markdown",
   "metadata": {
    "application/vnd.databricks.v1+cell": {
     "cellMetadata": {},
     "inputWidgets": {},
     "nuid": "a84091b9-9a16-4fa8-baa5-647bcb9bc29a",
     "showTitle": false,
     "title": ""
    }
   },
   "source": [
    "# 3. Semi Join"
   ]
  },
  {
   "cell_type": "code",
   "execution_count": 0,
   "metadata": {
    "application/vnd.databricks.v1+cell": {
     "cellMetadata": {
      "byteLimit": 2048000,
      "rowLimit": 10000
     },
     "inputWidgets": {},
     "nuid": "d7718516-d0ac-467f-902e-c606e551b496",
     "showTitle": false,
     "title": ""
    }
   },
   "outputs": [
    {
     "output_type": "execute_result",
     "data": {
      "text/plain": [
       "75"
      ]
     },
     "execution_count": 20,
     "metadata": {},
     "output_type": "execute_result"
    }
   ],
   "source": [
    "race_circuit_df = circuits_df\\\n",
    "    .join(races_df, on='circuit_id', how='semi')\\\n",
    "    .select(\n",
    "        circuits_df.name.alias('circuit_name'),\n",
    "        circuits_df.location.alias('circuit_location'),\n",
    "        circuits_df.country.alias('circuit_country'),\n",
    "    )\n",
    "race_circuit_df.count()"
   ]
  },
  {
   "cell_type": "code",
   "execution_count": 0,
   "metadata": {
    "application/vnd.databricks.v1+cell": {
     "cellMetadata": {
      "byteLimit": 2048000,
      "rowLimit": 10000
     },
     "inputWidgets": {},
     "nuid": "a880f6aa-e80d-4746-9e1d-e334a4fd5dad",
     "showTitle": false,
     "title": ""
    }
   },
   "outputs": [
    {
     "output_type": "display_data",
     "data": {
      "text/html": [
       "<style scoped>\n",
       "  .table-result-container {\n",
       "    max-height: 300px;\n",
       "    overflow: auto;\n",
       "  }\n",
       "  table, th, td {\n",
       "    border: 1px solid black;\n",
       "    border-collapse: collapse;\n",
       "  }\n",
       "  th, td {\n",
       "    padding: 5px;\n",
       "  }\n",
       "  th {\n",
       "    text-align: left;\n",
       "  }\n",
       "</style><div class='table-result-container'><table class='table-result'><thead style='background-color: white'><tr><th>circuit_name</th><th>circuit_location</th><th>circuit_country</th></tr></thead><tbody><tr><td>Albert Park Grand Prix Circuit</td><td>Melbourne</td><td>Australia</td></tr><tr><td>Sepang International Circuit</td><td>Kuala Lumpur</td><td>Malaysia</td></tr><tr><td>Bahrain International Circuit</td><td>Sakhir</td><td>Bahrain</td></tr><tr><td>Circuit de Barcelona-Catalunya</td><td>Montmeló</td><td>Spain</td></tr><tr><td>Istanbul Park</td><td>Istanbul</td><td>Turkey</td></tr><tr><td>Circuit de Monaco</td><td>Monte-Carlo</td><td>Monaco</td></tr><tr><td>Circuit Gilles Villeneuve</td><td>Montreal</td><td>Canada</td></tr><tr><td>Circuit de Nevers Magny-Cours</td><td>Magny Cours</td><td>France</td></tr><tr><td>Silverstone Circuit</td><td>Silverstone</td><td>UK</td></tr><tr><td>Hockenheimring</td><td>Hockenheim</td><td>Germany</td></tr><tr><td>Hungaroring</td><td>Budapest</td><td>Hungary</td></tr><tr><td>Valencia Street Circuit</td><td>Valencia</td><td>Spain</td></tr><tr><td>Circuit de Spa-Francorchamps</td><td>Spa</td><td>Belgium</td></tr><tr><td>Autodromo Nazionale di Monza</td><td>Monza</td><td>Italy</td></tr><tr><td>Marina Bay Street Circuit</td><td>Marina Bay</td><td>Singapore</td></tr><tr><td>Fuji Speedway</td><td>Oyama</td><td>Japan</td></tr><tr><td>Shanghai International Circuit</td><td>Shanghai</td><td>China</td></tr><tr><td>Autódromo José Carlos Pace</td><td>São Paulo</td><td>Brazil</td></tr><tr><td>Indianapolis Motor Speedway</td><td>Indianapolis</td><td>USA</td></tr><tr><td>Nürburgring</td><td>Nürburg</td><td>Germany</td></tr><tr><td>Autodromo Enzo e Dino Ferrari</td><td>Imola</td><td>Italy</td></tr><tr><td>Suzuka Circuit</td><td>Suzuka</td><td>Japan</td></tr><tr><td>A1-Ring</td><td>Spielburg</td><td>Austria</td></tr><tr><td>Yas Marina Circuit</td><td>Abu Dhabi</td><td>UAE</td></tr><tr><td>Autódromo Juan y Oscar Gálvez</td><td>Buenos Aires</td><td>Argentina</td></tr><tr><td>Circuito de Jerez</td><td>Jerez de la Frontera</td><td>Spain</td></tr><tr><td>Autódromo do Estoril</td><td>Estoril</td><td>Portugal</td></tr><tr><td>Okayama International Circuit</td><td>Okayama</td><td>Japan</td></tr><tr><td>Adelaide Street Circuit</td><td>Adelaide</td><td>Australia</td></tr><tr><td>Kyalami</td><td>Midrand</td><td>South Africa</td></tr><tr><td>Donington Park</td><td>Castle Donington</td><td>UK</td></tr><tr><td>Autódromo Hermanos Rodríguez</td><td>Mexico City</td><td>Mexico</td></tr><tr><td>Phoenix street circuit</td><td>Phoenix</td><td>USA</td></tr><tr><td>Circuit Paul Ricard</td><td>Le Castellet</td><td>France</td></tr><tr><td>Korean International Circuit</td><td>Yeongam County</td><td>Korea</td></tr><tr><td>Autódromo Internacional Nelson Piquet</td><td>Rio de Janeiro</td><td>Brazil</td></tr><tr><td>Detroit Street Circuit</td><td>Detroit</td><td>USA</td></tr><tr><td>Brands Hatch</td><td>Kent</td><td>UK</td></tr><tr><td>Circuit Park Zandvoort</td><td>Zandvoort</td><td>Netherlands</td></tr><tr><td>Zolder</td><td>Heusden-Zolder</td><td>Belgium</td></tr><tr><td>Dijon-Prenois</td><td>Dijon</td><td>France</td></tr><tr><td>Fair Park</td><td>Dallas</td><td>USA</td></tr><tr><td>Long Beach</td><td>California</td><td>USA</td></tr><tr><td>Las Vegas Street Circuit</td><td>Nevada</td><td>USA</td></tr><tr><td>Jarama</td><td>Madrid</td><td>Spain</td></tr><tr><td>Watkins Glen</td><td>New York State</td><td>USA</td></tr><tr><td>Scandinavian Raceway</td><td>Anderstorp</td><td>Sweden</td></tr><tr><td>Mosport International Raceway</td><td>Ontario</td><td>Canada</td></tr><tr><td>Montjuïc</td><td>Barcelona</td><td>Spain</td></tr><tr><td>Nivelles-Baulers</td><td>Brussels</td><td>Belgium</td></tr><tr><td>Charade Circuit</td><td>Clermont-Ferrand</td><td>France</td></tr><tr><td>Circuit Mont-Tremblant</td><td>Quebec</td><td>Canada</td></tr><tr><td>Rouen-Les-Essarts</td><td>Rouen</td><td>France</td></tr><tr><td>Le Mans</td><td>Le Mans</td><td>France</td></tr><tr><td>Reims-Gueux</td><td>Reims</td><td>France</td></tr><tr><td>Prince George Circuit</td><td>Eastern Cape Province</td><td>South Africa</td></tr><tr><td>Zeltweg</td><td>Styria</td><td>Austria</td></tr><tr><td>Aintree</td><td>Liverpool</td><td>UK</td></tr><tr><td>Circuito da Boavista</td><td>Oporto</td><td>Portugal</td></tr><tr><td>Riverside International Raceway</td><td>California</td><td>USA</td></tr><tr><td>AVUS</td><td>Berlin</td><td>Germany</td></tr><tr><td>Monsanto Park Circuit</td><td>Lisbon</td><td>Portugal</td></tr><tr><td>Sebring International Raceway</td><td>Florida</td><td>USA</td></tr><tr><td>Ain Diab</td><td>Casablanca</td><td>Morocco</td></tr><tr><td>Pescara Circuit</td><td>Pescara</td><td>Italy</td></tr><tr><td>Circuit Bremgarten</td><td>Bern</td><td>Switzerland</td></tr><tr><td>Circuit de Pedralbes</td><td>Barcelona</td><td>Spain</td></tr><tr><td>Buddh International Circuit</td><td>Uttar Pradesh</td><td>India</td></tr><tr><td>Circuit of the Americas</td><td>Austin</td><td>USA</td></tr><tr><td>Red Bull Ring</td><td>Spielburg</td><td>Austria</td></tr><tr><td>Sochi Autodrom</td><td>Sochi</td><td>Russia</td></tr><tr><td>Baku City Circuit</td><td>Baku</td><td>Azerbaijan</td></tr><tr><td>Autódromo Internacional do Algarve</td><td>Portimão</td><td>Portugal</td></tr><tr><td>Autodromo Internazionale del Mugello</td><td>Mugello</td><td>Italy</td></tr><tr><td>Jeddah Street Circuit</td><td>Jeddah</td><td>Saudi Arabia</td></tr></tbody></table></div>"
      ]
     },
     "metadata": {
      "application/vnd.databricks.v1+output": {
       "addedWidgets": {},
       "aggData": [],
       "aggError": "",
       "aggOverflow": false,
       "aggSchema": [],
       "aggSeriesLimitReached": false,
       "aggType": "",
       "arguments": {},
       "columnCustomDisplayInfos": {},
       "data": [
        [
         "Albert Park Grand Prix Circuit",
         "Melbourne",
         "Australia"
        ],
        [
         "Sepang International Circuit",
         "Kuala Lumpur",
         "Malaysia"
        ],
        [
         "Bahrain International Circuit",
         "Sakhir",
         "Bahrain"
        ],
        [
         "Circuit de Barcelona-Catalunya",
         "Montmeló",
         "Spain"
        ],
        [
         "Istanbul Park",
         "Istanbul",
         "Turkey"
        ],
        [
         "Circuit de Monaco",
         "Monte-Carlo",
         "Monaco"
        ],
        [
         "Circuit Gilles Villeneuve",
         "Montreal",
         "Canada"
        ],
        [
         "Circuit de Nevers Magny-Cours",
         "Magny Cours",
         "France"
        ],
        [
         "Silverstone Circuit",
         "Silverstone",
         "UK"
        ],
        [
         "Hockenheimring",
         "Hockenheim",
         "Germany"
        ],
        [
         "Hungaroring",
         "Budapest",
         "Hungary"
        ],
        [
         "Valencia Street Circuit",
         "Valencia",
         "Spain"
        ],
        [
         "Circuit de Spa-Francorchamps",
         "Spa",
         "Belgium"
        ],
        [
         "Autodromo Nazionale di Monza",
         "Monza",
         "Italy"
        ],
        [
         "Marina Bay Street Circuit",
         "Marina Bay",
         "Singapore"
        ],
        [
         "Fuji Speedway",
         "Oyama",
         "Japan"
        ],
        [
         "Shanghai International Circuit",
         "Shanghai",
         "China"
        ],
        [
         "Autódromo José Carlos Pace",
         "São Paulo",
         "Brazil"
        ],
        [
         "Indianapolis Motor Speedway",
         "Indianapolis",
         "USA"
        ],
        [
         "Nürburgring",
         "Nürburg",
         "Germany"
        ],
        [
         "Autodromo Enzo e Dino Ferrari",
         "Imola",
         "Italy"
        ],
        [
         "Suzuka Circuit",
         "Suzuka",
         "Japan"
        ],
        [
         "A1-Ring",
         "Spielburg",
         "Austria"
        ],
        [
         "Yas Marina Circuit",
         "Abu Dhabi",
         "UAE"
        ],
        [
         "Autódromo Juan y Oscar Gálvez",
         "Buenos Aires",
         "Argentina"
        ],
        [
         "Circuito de Jerez",
         "Jerez de la Frontera",
         "Spain"
        ],
        [
         "Autódromo do Estoril",
         "Estoril",
         "Portugal"
        ],
        [
         "Okayama International Circuit",
         "Okayama",
         "Japan"
        ],
        [
         "Adelaide Street Circuit",
         "Adelaide",
         "Australia"
        ],
        [
         "Kyalami",
         "Midrand",
         "South Africa"
        ],
        [
         "Donington Park",
         "Castle Donington",
         "UK"
        ],
        [
         "Autódromo Hermanos Rodríguez",
         "Mexico City",
         "Mexico"
        ],
        [
         "Phoenix street circuit",
         "Phoenix",
         "USA"
        ],
        [
         "Circuit Paul Ricard",
         "Le Castellet",
         "France"
        ],
        [
         "Korean International Circuit",
         "Yeongam County",
         "Korea"
        ],
        [
         "Autódromo Internacional Nelson Piquet",
         "Rio de Janeiro",
         "Brazil"
        ],
        [
         "Detroit Street Circuit",
         "Detroit",
         "USA"
        ],
        [
         "Brands Hatch",
         "Kent",
         "UK"
        ],
        [
         "Circuit Park Zandvoort",
         "Zandvoort",
         "Netherlands"
        ],
        [
         "Zolder",
         "Heusden-Zolder",
         "Belgium"
        ],
        [
         "Dijon-Prenois",
         "Dijon",
         "France"
        ],
        [
         "Fair Park",
         "Dallas",
         "USA"
        ],
        [
         "Long Beach",
         "California",
         "USA"
        ],
        [
         "Las Vegas Street Circuit",
         "Nevada",
         "USA"
        ],
        [
         "Jarama",
         "Madrid",
         "Spain"
        ],
        [
         "Watkins Glen",
         "New York State",
         "USA"
        ],
        [
         "Scandinavian Raceway",
         "Anderstorp",
         "Sweden"
        ],
        [
         "Mosport International Raceway",
         "Ontario",
         "Canada"
        ],
        [
         "Montjuïc",
         "Barcelona",
         "Spain"
        ],
        [
         "Nivelles-Baulers",
         "Brussels",
         "Belgium"
        ],
        [
         "Charade Circuit",
         "Clermont-Ferrand",
         "France"
        ],
        [
         "Circuit Mont-Tremblant",
         "Quebec",
         "Canada"
        ],
        [
         "Rouen-Les-Essarts",
         "Rouen",
         "France"
        ],
        [
         "Le Mans",
         "Le Mans",
         "France"
        ],
        [
         "Reims-Gueux",
         "Reims",
         "France"
        ],
        [
         "Prince George Circuit",
         "Eastern Cape Province",
         "South Africa"
        ],
        [
         "Zeltweg",
         "Styria",
         "Austria"
        ],
        [
         "Aintree",
         "Liverpool",
         "UK"
        ],
        [
         "Circuito da Boavista",
         "Oporto",
         "Portugal"
        ],
        [
         "Riverside International Raceway",
         "California",
         "USA"
        ],
        [
         "AVUS",
         "Berlin",
         "Germany"
        ],
        [
         "Monsanto Park Circuit",
         "Lisbon",
         "Portugal"
        ],
        [
         "Sebring International Raceway",
         "Florida",
         "USA"
        ],
        [
         "Ain Diab",
         "Casablanca",
         "Morocco"
        ],
        [
         "Pescara Circuit",
         "Pescara",
         "Italy"
        ],
        [
         "Circuit Bremgarten",
         "Bern",
         "Switzerland"
        ],
        [
         "Circuit de Pedralbes",
         "Barcelona",
         "Spain"
        ],
        [
         "Buddh International Circuit",
         "Uttar Pradesh",
         "India"
        ],
        [
         "Circuit of the Americas",
         "Austin",
         "USA"
        ],
        [
         "Red Bull Ring",
         "Spielburg",
         "Austria"
        ],
        [
         "Sochi Autodrom",
         "Sochi",
         "Russia"
        ],
        [
         "Baku City Circuit",
         "Baku",
         "Azerbaijan"
        ],
        [
         "Autódromo Internacional do Algarve",
         "Portimão",
         "Portugal"
        ],
        [
         "Autodromo Internazionale del Mugello",
         "Mugello",
         "Italy"
        ],
        [
         "Jeddah Street Circuit",
         "Jeddah",
         "Saudi Arabia"
        ]
       ],
       "datasetInfos": [],
       "dbfsResultPath": null,
       "isJsonSchema": true,
       "metadata": {},
       "overflow": false,
       "plotOptions": {
        "customPlotOptions": {},
        "displayType": "table",
        "pivotAggregation": null,
        "pivotColumns": null,
        "xColumns": null,
        "yColumns": null
       },
       "removedWidgets": [],
       "schema": [
        {
         "metadata": "{}",
         "name": "circuit_name",
         "type": "\"string\""
        },
        {
         "metadata": "{}",
         "name": "circuit_location",
         "type": "\"string\""
        },
        {
         "metadata": "{}",
         "name": "circuit_country",
         "type": "\"string\""
        }
       ],
       "type": "table"
      }
     },
     "output_type": "display_data"
    }
   ],
   "source": [
    "race_circuit_df.display()"
   ]
  },
  {
   "cell_type": "markdown",
   "metadata": {
    "application/vnd.databricks.v1+cell": {
     "cellMetadata": {},
     "inputWidgets": {},
     "nuid": "c5ac0000-1869-490b-a648-6a2c31a67cf3",
     "showTitle": false,
     "title": ""
    }
   },
   "source": [
    "# 4. Anti Join"
   ]
  },
  {
   "cell_type": "code",
   "execution_count": 0,
   "metadata": {
    "application/vnd.databricks.v1+cell": {
     "cellMetadata": {
      "byteLimit": 2048000,
      "rowLimit": 10000
     },
     "inputWidgets": {},
     "nuid": "9b012111-c7e0-44e0-974c-8c80c61071bb",
     "showTitle": false,
     "title": ""
    }
   },
   "outputs": [
    {
     "output_type": "execute_result",
     "data": {
      "text/plain": [
       "2"
      ]
     },
     "execution_count": 22,
     "metadata": {},
     "output_type": "execute_result"
    }
   ],
   "source": [
    "race_circuit_df = circuits_df\\\n",
    "    .join(races_df, on='circuit_id', how='anti')\\\n",
    "    .select(\n",
    "        circuits_df.name.alias('circuit_name'),\n",
    "        circuits_df.location.alias('circuit_location'),\n",
    "        circuits_df.country.alias('circuit_country'),\n",
    "    )\n",
    "race_circuit_df.count()"
   ]
  },
  {
   "cell_type": "code",
   "execution_count": 0,
   "metadata": {
    "application/vnd.databricks.v1+cell": {
     "cellMetadata": {
      "byteLimit": 2048000,
      "rowLimit": 10000
     },
     "inputWidgets": {},
     "nuid": "38a9a846-08ed-4a5f-9046-5f8a6b79c6bb",
     "showTitle": false,
     "title": ""
    }
   },
   "outputs": [
    {
     "output_type": "display_data",
     "data": {
      "text/html": [
       "<style scoped>\n",
       "  .table-result-container {\n",
       "    max-height: 300px;\n",
       "    overflow: auto;\n",
       "  }\n",
       "  table, th, td {\n",
       "    border: 1px solid black;\n",
       "    border-collapse: collapse;\n",
       "  }\n",
       "  th, td {\n",
       "    padding: 5px;\n",
       "  }\n",
       "  th {\n",
       "    text-align: left;\n",
       "  }\n",
       "</style><div class='table-result-container'><table class='table-result'><thead style='background-color: white'><tr><th>circuit_name</th><th>circuit_location</th><th>circuit_country</th></tr></thead><tbody><tr><td>Port Imperial Street Circuit</td><td>New Jersey</td><td>USA</td></tr><tr><td>Hanoi Street Circuit</td><td>Hanoi</td><td>Vietnam</td></tr></tbody></table></div>"
      ]
     },
     "metadata": {
      "application/vnd.databricks.v1+output": {
       "addedWidgets": {},
       "aggData": [],
       "aggError": "",
       "aggOverflow": false,
       "aggSchema": [],
       "aggSeriesLimitReached": false,
       "aggType": "",
       "arguments": {},
       "columnCustomDisplayInfos": {},
       "data": [
        [
         "Port Imperial Street Circuit",
         "New Jersey",
         "USA"
        ],
        [
         "Hanoi Street Circuit",
         "Hanoi",
         "Vietnam"
        ]
       ],
       "datasetInfos": [],
       "dbfsResultPath": null,
       "isJsonSchema": true,
       "metadata": {},
       "overflow": false,
       "plotOptions": {
        "customPlotOptions": {},
        "displayType": "table",
        "pivotAggregation": null,
        "pivotColumns": null,
        "xColumns": null,
        "yColumns": null
       },
       "removedWidgets": [],
       "schema": [
        {
         "metadata": "{}",
         "name": "circuit_name",
         "type": "\"string\""
        },
        {
         "metadata": "{}",
         "name": "circuit_location",
         "type": "\"string\""
        },
        {
         "metadata": "{}",
         "name": "circuit_country",
         "type": "\"string\""
        }
       ],
       "type": "table"
      }
     },
     "output_type": "display_data"
    }
   ],
   "source": [
    "race_circuit_df.display()"
   ]
  },
  {
   "cell_type": "markdown",
   "metadata": {
    "application/vnd.databricks.v1+cell": {
     "cellMetadata": {},
     "inputWidgets": {},
     "nuid": "63a86dbd-bd22-49d8-a273-ad3148c12692",
     "showTitle": false,
     "title": ""
    }
   },
   "source": [
    "# 5. Cross Join"
   ]
  },
  {
   "cell_type": "code",
   "execution_count": 0,
   "metadata": {
    "application/vnd.databricks.v1+cell": {
     "cellMetadata": {
      "byteLimit": 2048000,
      "rowLimit": 10000
     },
     "inputWidgets": {},
     "nuid": "811c0a3e-90c3-458c-ae33-6e0789a34374",
     "showTitle": false,
     "title": ""
    }
   },
   "outputs": [
    {
     "output_type": "execute_result",
     "data": {
      "text/plain": [
       "81466"
      ]
     },
     "execution_count": 24,
     "metadata": {},
     "output_type": "execute_result"
    }
   ],
   "source": [
    "race_circuit_df = circuits_df.crossJoin(races_df)\n",
    "race_circuit_df.count()"
   ]
  },
  {
   "cell_type": "code",
   "execution_count": 0,
   "metadata": {
    "application/vnd.databricks.v1+cell": {
     "cellMetadata": {
      "byteLimit": 2048000,
      "rowLimit": 10000
     },
     "inputWidgets": {},
     "nuid": "a523c815-94e2-4dc2-b056-1767e28e217d",
     "showTitle": false,
     "title": ""
    }
   },
   "outputs": [
    {
     "output_type": "execute_result",
     "data": {
      "text/plain": [
       "1058"
      ]
     },
     "execution_count": 25,
     "metadata": {},
     "output_type": "execute_result"
    }
   ],
   "source": [
    "races_df.count()"
   ]
  },
  {
   "cell_type": "code",
   "execution_count": 0,
   "metadata": {
    "application/vnd.databricks.v1+cell": {
     "cellMetadata": {
      "byteLimit": 2048000,
      "rowLimit": 10000
     },
     "inputWidgets": {},
     "nuid": "028f5bcc-063a-46fd-b389-013525a05789",
     "showTitle": false,
     "title": ""
    }
   },
   "outputs": [
    {
     "output_type": "execute_result",
     "data": {
      "text/plain": [
       "77"
      ]
     },
     "execution_count": 26,
     "metadata": {},
     "output_type": "execute_result"
    }
   ],
   "source": [
    "circuits_df.count()"
   ]
  },
  {
   "cell_type": "code",
   "execution_count": 0,
   "metadata": {
    "application/vnd.databricks.v1+cell": {
     "cellMetadata": {},
     "inputWidgets": {},
     "nuid": "77ff0c04-191f-4a0a-b975-bb8c1c736851",
     "showTitle": false,
     "title": ""
    }
   },
   "outputs": [],
   "source": []
  }
 ],
 "metadata": {
  "application/vnd.databricks.v1+notebook": {
   "dashboards": [],
   "environmentMetadata": {
    "base_environment": "",
    "client": "1"
   },
   "language": "python",
   "notebookMetadata": {
    "pythonIndentUnit": 4
   },
   "notebookName": "2_join",
   "widgets": {}
  }
 },
 "nbformat": 4,
 "nbformat_minor": 0
}
