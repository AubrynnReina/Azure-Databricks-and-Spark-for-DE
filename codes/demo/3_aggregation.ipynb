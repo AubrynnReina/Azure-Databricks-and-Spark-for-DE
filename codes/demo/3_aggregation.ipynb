{
 "cells": [
  {
   "cell_type": "markdown",
   "metadata": {
    "application/vnd.databricks.v1+cell": {
     "cellMetadata": {},
     "inputWidgets": {},
     "nuid": "9a912b0b-e504-41e5-b9cc-17c727b9a6c0",
     "showTitle": false,
     "title": ""
    }
   },
   "source": [
    "# 0. Setting up"
   ]
  },
  {
   "cell_type": "code",
   "execution_count": 0,
   "metadata": {
    "application/vnd.databricks.v1+cell": {
     "cellMetadata": {
      "byteLimit": 2048000,
      "rowLimit": 10000
     },
     "inputWidgets": {},
     "nuid": "4c987f9e-a96c-4604-bfc3-f0171cfc61d6",
     "showTitle": false,
     "title": ""
    }
   },
   "outputs": [],
   "source": [
    "%run \"../includes/configuration\""
   ]
  },
  {
   "cell_type": "code",
   "execution_count": 0,
   "metadata": {
    "application/vnd.databricks.v1+cell": {
     "cellMetadata": {
      "byteLimit": 2048000,
      "rowLimit": 10000
     },
     "inputWidgets": {},
     "nuid": "1800003f-d0c2-43af-8d48-bbd73b6af9f8",
     "showTitle": false,
     "title": ""
    }
   },
   "outputs": [
    {
     "output_type": "display_data",
     "data": {
      "text/html": [
       "<style scoped>\n",
       "  .table-result-container {\n",
       "    max-height: 300px;\n",
       "    overflow: auto;\n",
       "  }\n",
       "  table, th, td {\n",
       "    border: 1px solid black;\n",
       "    border-collapse: collapse;\n",
       "  }\n",
       "  th, td {\n",
       "    padding: 5px;\n",
       "  }\n",
       "  th {\n",
       "    text-align: left;\n",
       "  }\n",
       "</style><div class='table-result-container'><table class='table-result'><thead style='background-color: white'><tr><th>race_year</th><th>race_name</th><th>race_date</th><th>circuit_location</th><th>driver_name</th><th>driver_number</th><th>driver_nationality</th><th>team</th><th>grid</th><th>fastest_lap</th><th>race_time</th><th>points</th><th>created_date</th></tr></thead><tbody><tr><td>1954</td><td>Indianapolis 500</td><td>null</td><td>Indianapolis</td><td>Bill Vukovich</td><td>null</td><td>American</td><td>Kurtis Kraft</td><td>19</td><td>null</td><td>3:49:17.27</td><td>8.0</td><td>2024-09-04T09:58:42.937Z</td></tr><tr><td>1954</td><td>Indianapolis 500</td><td>null</td><td>Indianapolis</td><td>Jimmy Bryan</td><td>null</td><td>American</td><td>Kuzma</td><td>3</td><td>null</td><td>+1:09.95</td><td>6.0</td><td>2024-09-04T09:58:42.937Z</td></tr><tr><td>1954</td><td>Indianapolis 500</td><td>null</td><td>Indianapolis</td><td>Jack McGrath</td><td>null</td><td>American</td><td>Kurtis Kraft</td><td>1</td><td>null</td><td>+1:19.73</td><td>5.0</td><td>2024-09-04T09:58:42.937Z</td></tr><tr><td>1954</td><td>Indianapolis 500</td><td>null</td><td>Indianapolis</td><td>Troy Ruttman</td><td>null</td><td>American</td><td>Kurtis Kraft</td><td>11</td><td>null</td><td>+2:52.68</td><td>1.5</td><td>2024-09-04T09:58:42.937Z</td></tr><tr><td>1954</td><td>Indianapolis 500</td><td>null</td><td>Indianapolis</td><td>Mike Nazaruk</td><td>null</td><td>American</td><td>Kurtis Kraft</td><td>14</td><td>null</td><td>+3:24.55</td><td>2.0</td><td>2024-09-04T09:58:42.937Z</td></tr><tr><td>1954</td><td>Indianapolis 500</td><td>null</td><td>Indianapolis</td><td>Fred Agabashian</td><td>null</td><td>American</td><td>Kurtis Kraft</td><td>24</td><td>null</td><td>+3:47.55</td><td>0.0</td><td>2024-09-04T09:58:42.937Z</td></tr><tr><td>1954</td><td>Indianapolis 500</td><td>null</td><td>Indianapolis</td><td>Don Freeland</td><td>null</td><td>American</td><td>Phillips</td><td>6</td><td>null</td><td>+4:13.35</td><td>0.0</td><td>2024-09-04T09:58:42.937Z</td></tr><tr><td>1954</td><td>Indianapolis 500</td><td>null</td><td>Indianapolis</td><td>Paul Russo</td><td>null</td><td>American</td><td>Kurtis Kraft</td><td>32</td><td>null</td><td>+5:01.17</td><td>0.0</td><td>2024-09-04T09:58:42.937Z</td></tr><tr><td>1954</td><td>Indianapolis 500</td><td>null</td><td>Indianapolis</td><td>Larry Crockett</td><td>null</td><td>American</td><td>Kurtis Kraft</td><td>25</td><td>null</td><td>+7:07.24</td><td>0.0</td><td>2024-09-04T09:58:42.937Z</td></tr><tr><td>1954</td><td>Indianapolis 500</td><td>null</td><td>Indianapolis</td><td>Cal Niday</td><td>null</td><td>American</td><td>Stevens</td><td>13</td><td>null</td><td>+7:07.69</td><td>0.0</td><td>2024-09-04T09:58:42.937Z</td></tr></tbody></table></div>"
      ]
     },
     "metadata": {
      "application/vnd.databricks.v1+output": {
       "addedWidgets": {},
       "aggData": [],
       "aggError": "",
       "aggOverflow": false,
       "aggSchema": [],
       "aggSeriesLimitReached": false,
       "aggType": "",
       "arguments": {},
       "columnCustomDisplayInfos": {},
       "data": [
        [
         1954,
         "Indianapolis 500",
         null,
         "Indianapolis",
         "Bill Vukovich",
         null,
         "American",
         "Kurtis Kraft",
         19,
         null,
         "3:49:17.27",
         8.0,
         "2024-09-04T09:58:42.937Z"
        ],
        [
         1954,
         "Indianapolis 500",
         null,
         "Indianapolis",
         "Jimmy Bryan",
         null,
         "American",
         "Kuzma",
         3,
         null,
         "+1:09.95",
         6.0,
         "2024-09-04T09:58:42.937Z"
        ],
        [
         1954,
         "Indianapolis 500",
         null,
         "Indianapolis",
         "Jack McGrath",
         null,
         "American",
         "Kurtis Kraft",
         1,
         null,
         "+1:19.73",
         5.0,
         "2024-09-04T09:58:42.937Z"
        ],
        [
         1954,
         "Indianapolis 500",
         null,
         "Indianapolis",
         "Troy Ruttman",
         null,
         "American",
         "Kurtis Kraft",
         11,
         null,
         "+2:52.68",
         1.5,
         "2024-09-04T09:58:42.937Z"
        ],
        [
         1954,
         "Indianapolis 500",
         null,
         "Indianapolis",
         "Mike Nazaruk",
         null,
         "American",
         "Kurtis Kraft",
         14,
         null,
         "+3:24.55",
         2.0,
         "2024-09-04T09:58:42.937Z"
        ],
        [
         1954,
         "Indianapolis 500",
         null,
         "Indianapolis",
         "Fred Agabashian",
         null,
         "American",
         "Kurtis Kraft",
         24,
         null,
         "+3:47.55",
         0.0,
         "2024-09-04T09:58:42.937Z"
        ],
        [
         1954,
         "Indianapolis 500",
         null,
         "Indianapolis",
         "Don Freeland",
         null,
         "American",
         "Phillips",
         6,
         null,
         "+4:13.35",
         0.0,
         "2024-09-04T09:58:42.937Z"
        ],
        [
         1954,
         "Indianapolis 500",
         null,
         "Indianapolis",
         "Paul Russo",
         null,
         "American",
         "Kurtis Kraft",
         32,
         null,
         "+5:01.17",
         0.0,
         "2024-09-04T09:58:42.937Z"
        ],
        [
         1954,
         "Indianapolis 500",
         null,
         "Indianapolis",
         "Larry Crockett",
         null,
         "American",
         "Kurtis Kraft",
         25,
         null,
         "+7:07.24",
         0.0,
         "2024-09-04T09:58:42.937Z"
        ],
        [
         1954,
         "Indianapolis 500",
         null,
         "Indianapolis",
         "Cal Niday",
         null,
         "American",
         "Stevens",
         13,
         null,
         "+7:07.69",
         0.0,
         "2024-09-04T09:58:42.937Z"
        ]
       ],
       "datasetInfos": [],
       "dbfsResultPath": null,
       "isJsonSchema": true,
       "metadata": {},
       "overflow": false,
       "plotOptions": {
        "customPlotOptions": {},
        "displayType": "table",
        "pivotAggregation": null,
        "pivotColumns": null,
        "xColumns": null,
        "yColumns": null
       },
       "removedWidgets": [],
       "schema": [
        {
         "metadata": "{}",
         "name": "race_year",
         "type": "\"integer\""
        },
        {
         "metadata": "{}",
         "name": "race_name",
         "type": "\"string\""
        },
        {
         "metadata": "{}",
         "name": "race_date",
         "type": "\"timestamp\""
        },
        {
         "metadata": "{}",
         "name": "circuit_location",
         "type": "\"string\""
        },
        {
         "metadata": "{}",
         "name": "driver_name",
         "type": "\"string\""
        },
        {
         "metadata": "{}",
         "name": "driver_number",
         "type": "\"integer\""
        },
        {
         "metadata": "{}",
         "name": "driver_nationality",
         "type": "\"string\""
        },
        {
         "metadata": "{}",
         "name": "team",
         "type": "\"string\""
        },
        {
         "metadata": "{}",
         "name": "grid",
         "type": "\"integer\""
        },
        {
         "metadata": "{}",
         "name": "fastest_lap",
         "type": "\"integer\""
        },
        {
         "metadata": "{}",
         "name": "race_time",
         "type": "\"string\""
        },
        {
         "metadata": "{}",
         "name": "points",
         "type": "\"float\""
        },
        {
         "metadata": "{}",
         "name": "created_date",
         "type": "\"timestamp\""
        }
       ],
       "type": "table"
      }
     },
     "output_type": "display_data"
    }
   ],
   "source": [
    "race_results_df = spark.read.parquet(f'{presentation_folder_path}/race_results')\n",
    "race_results_df.limit(10).display()"
   ]
  },
  {
   "cell_type": "code",
   "execution_count": 0,
   "metadata": {
    "application/vnd.databricks.v1+cell": {
     "cellMetadata": {
      "byteLimit": 2048000,
      "rowLimit": 10000
     },
     "inputWidgets": {},
     "nuid": "1e435270-c1ef-4dfd-abbe-7a32213110cd",
     "showTitle": false,
     "title": ""
    }
   },
   "outputs": [
    {
     "output_type": "display_data",
     "data": {
      "text/html": [
       "<style scoped>\n",
       "  .table-result-container {\n",
       "    max-height: 300px;\n",
       "    overflow: auto;\n",
       "  }\n",
       "  table, th, td {\n",
       "    border: 1px solid black;\n",
       "    border-collapse: collapse;\n",
       "  }\n",
       "  th, td {\n",
       "    padding: 5px;\n",
       "  }\n",
       "  th {\n",
       "    text-align: left;\n",
       "  }\n",
       "</style><div class='table-result-container'><table class='table-result'><thead style='background-color: white'><tr><th>race_year</th><th>race_name</th><th>race_date</th><th>circuit_location</th><th>driver_name</th><th>driver_number</th><th>driver_nationality</th><th>team</th><th>grid</th><th>fastest_lap</th><th>race_time</th><th>points</th><th>created_date</th></tr></thead><tbody><tr><td>2020</td><td>Eifel Grand Prix</td><td>2020-10-11T13:10:00Z</td><td>Nürburg</td><td>Lewis Hamilton</td><td>44</td><td>British</td><td>Mercedes</td><td>2</td><td>58</td><td>1:35:49.641</td><td>25.0</td><td>2024-09-04T09:58:42.937Z</td></tr><tr><td>2020</td><td>Eifel Grand Prix</td><td>2020-10-11T13:10:00Z</td><td>Nürburg</td><td>Max Verstappen</td><td>33</td><td>Dutch</td><td>Red Bull</td><td>3</td><td>60</td><td>+4.470</td><td>19.0</td><td>2024-09-04T09:58:42.937Z</td></tr><tr><td>2020</td><td>Eifel Grand Prix</td><td>2020-10-11T13:10:00Z</td><td>Nürburg</td><td>Daniel Ricciardo</td><td>3</td><td>Australian</td><td>Renault</td><td>6</td><td>53</td><td>+14.613</td><td>15.0</td><td>2024-09-04T09:58:42.937Z</td></tr><tr><td>2020</td><td>Eifel Grand Prix</td><td>2020-10-11T13:10:00Z</td><td>Nürburg</td><td>Sergio Pérez</td><td>11</td><td>Mexican</td><td>Racing Point</td><td>9</td><td>58</td><td>+16.070</td><td>12.0</td><td>2024-09-04T09:58:42.937Z</td></tr><tr><td>2020</td><td>Eifel Grand Prix</td><td>2020-10-11T13:10:00Z</td><td>Nürburg</td><td>Carlos Sainz</td><td>55</td><td>Spanish</td><td>McLaren</td><td>10</td><td>53</td><td>+21.905</td><td>10.0</td><td>2024-09-04T09:58:42.937Z</td></tr><tr><td>2020</td><td>Eifel Grand Prix</td><td>2020-10-11T13:10:00Z</td><td>Nürburg</td><td>Pierre Gasly</td><td>10</td><td>French</td><td>AlphaTauri</td><td>12</td><td>53</td><td>+22.766</td><td>8.0</td><td>2024-09-04T09:58:42.937Z</td></tr><tr><td>2020</td><td>Eifel Grand Prix</td><td>2020-10-11T13:10:00Z</td><td>Nürburg</td><td>Charles Leclerc</td><td>16</td><td>Monegasque</td><td>Ferrari</td><td>4</td><td>54</td><td>+30.814</td><td>6.0</td><td>2024-09-04T09:58:42.937Z</td></tr><tr><td>2020</td><td>Eifel Grand Prix</td><td>2020-10-11T13:10:00Z</td><td>Nürburg</td><td>Nico Hülkenberg</td><td>27</td><td>German</td><td>Racing Point</td><td>20</td><td>58</td><td>+32.596</td><td>4.0</td><td>2024-09-04T09:58:42.937Z</td></tr><tr><td>2020</td><td>Eifel Grand Prix</td><td>2020-10-11T13:10:00Z</td><td>Nürburg</td><td>Romain Grosjean</td><td>8</td><td>French</td><td>Haas F1 Team</td><td>16</td><td>54</td><td>+39.081</td><td>2.0</td><td>2024-09-04T09:58:42.937Z</td></tr><tr><td>2020</td><td>Eifel Grand Prix</td><td>2020-10-11T13:10:00Z</td><td>Nürburg</td><td>Antonio Giovinazzi</td><td>99</td><td>Italian</td><td>Alfa Romeo</td><td>14</td><td>38</td><td>+40.035</td><td>1.0</td><td>2024-09-04T09:58:42.937Z</td></tr></tbody></table></div>"
      ]
     },
     "metadata": {
      "application/vnd.databricks.v1+output": {
       "addedWidgets": {},
       "aggData": [],
       "aggError": "",
       "aggOverflow": false,
       "aggSchema": [],
       "aggSeriesLimitReached": false,
       "aggType": "",
       "arguments": {},
       "columnCustomDisplayInfos": {},
       "data": [
        [
         2020,
         "Eifel Grand Prix",
         "2020-10-11T13:10:00Z",
         "Nürburg",
         "Lewis Hamilton",
         44,
         "British",
         "Mercedes",
         2,
         58,
         "1:35:49.641",
         25.0,
         "2024-09-04T09:58:42.937Z"
        ],
        [
         2020,
         "Eifel Grand Prix",
         "2020-10-11T13:10:00Z",
         "Nürburg",
         "Max Verstappen",
         33,
         "Dutch",
         "Red Bull",
         3,
         60,
         "+4.470",
         19.0,
         "2024-09-04T09:58:42.937Z"
        ],
        [
         2020,
         "Eifel Grand Prix",
         "2020-10-11T13:10:00Z",
         "Nürburg",
         "Daniel Ricciardo",
         3,
         "Australian",
         "Renault",
         6,
         53,
         "+14.613",
         15.0,
         "2024-09-04T09:58:42.937Z"
        ],
        [
         2020,
         "Eifel Grand Prix",
         "2020-10-11T13:10:00Z",
         "Nürburg",
         "Sergio Pérez",
         11,
         "Mexican",
         "Racing Point",
         9,
         58,
         "+16.070",
         12.0,
         "2024-09-04T09:58:42.937Z"
        ],
        [
         2020,
         "Eifel Grand Prix",
         "2020-10-11T13:10:00Z",
         "Nürburg",
         "Carlos Sainz",
         55,
         "Spanish",
         "McLaren",
         10,
         53,
         "+21.905",
         10.0,
         "2024-09-04T09:58:42.937Z"
        ],
        [
         2020,
         "Eifel Grand Prix",
         "2020-10-11T13:10:00Z",
         "Nürburg",
         "Pierre Gasly",
         10,
         "French",
         "AlphaTauri",
         12,
         53,
         "+22.766",
         8.0,
         "2024-09-04T09:58:42.937Z"
        ],
        [
         2020,
         "Eifel Grand Prix",
         "2020-10-11T13:10:00Z",
         "Nürburg",
         "Charles Leclerc",
         16,
         "Monegasque",
         "Ferrari",
         4,
         54,
         "+30.814",
         6.0,
         "2024-09-04T09:58:42.937Z"
        ],
        [
         2020,
         "Eifel Grand Prix",
         "2020-10-11T13:10:00Z",
         "Nürburg",
         "Nico Hülkenberg",
         27,
         "German",
         "Racing Point",
         20,
         58,
         "+32.596",
         4.0,
         "2024-09-04T09:58:42.937Z"
        ],
        [
         2020,
         "Eifel Grand Prix",
         "2020-10-11T13:10:00Z",
         "Nürburg",
         "Romain Grosjean",
         8,
         "French",
         "Haas F1 Team",
         16,
         54,
         "+39.081",
         2.0,
         "2024-09-04T09:58:42.937Z"
        ],
        [
         2020,
         "Eifel Grand Prix",
         "2020-10-11T13:10:00Z",
         "Nürburg",
         "Antonio Giovinazzi",
         99,
         "Italian",
         "Alfa Romeo",
         14,
         38,
         "+40.035",
         1.0,
         "2024-09-04T09:58:42.937Z"
        ]
       ],
       "datasetInfos": [],
       "dbfsResultPath": null,
       "isJsonSchema": true,
       "metadata": {},
       "overflow": false,
       "plotOptions": {
        "customPlotOptions": {},
        "displayType": "table",
        "pivotAggregation": null,
        "pivotColumns": null,
        "xColumns": null,
        "yColumns": null
       },
       "removedWidgets": [],
       "schema": [
        {
         "metadata": "{}",
         "name": "race_year",
         "type": "\"integer\""
        },
        {
         "metadata": "{}",
         "name": "race_name",
         "type": "\"string\""
        },
        {
         "metadata": "{}",
         "name": "race_date",
         "type": "\"timestamp\""
        },
        {
         "metadata": "{}",
         "name": "circuit_location",
         "type": "\"string\""
        },
        {
         "metadata": "{}",
         "name": "driver_name",
         "type": "\"string\""
        },
        {
         "metadata": "{}",
         "name": "driver_number",
         "type": "\"integer\""
        },
        {
         "metadata": "{}",
         "name": "driver_nationality",
         "type": "\"string\""
        },
        {
         "metadata": "{}",
         "name": "team",
         "type": "\"string\""
        },
        {
         "metadata": "{}",
         "name": "grid",
         "type": "\"integer\""
        },
        {
         "metadata": "{}",
         "name": "fastest_lap",
         "type": "\"integer\""
        },
        {
         "metadata": "{}",
         "name": "race_time",
         "type": "\"string\""
        },
        {
         "metadata": "{}",
         "name": "points",
         "type": "\"float\""
        },
        {
         "metadata": "{}",
         "name": "created_date",
         "type": "\"timestamp\""
        }
       ],
       "type": "table"
      }
     },
     "output_type": "display_data"
    }
   ],
   "source": [
    "demo_df = race_results_df.filter('race_year = 2020')\n",
    "demo_df.limit(10).display()"
   ]
  },
  {
   "cell_type": "markdown",
   "metadata": {
    "application/vnd.databricks.v1+cell": {
     "cellMetadata": {},
     "inputWidgets": {},
     "nuid": "36de8b3c-418f-4097-8039-cc9e2992d4d9",
     "showTitle": false,
     "title": ""
    }
   },
   "source": [
    "# 1. Simple aggregations"
   ]
  },
  {
   "cell_type": "code",
   "execution_count": 0,
   "metadata": {
    "application/vnd.databricks.v1+cell": {
     "cellMetadata": {
      "byteLimit": 2048000,
      "rowLimit": 10000
     },
     "inputWidgets": {},
     "nuid": "9ed51424-5670-4bcb-9ce4-ede2b71d1167",
     "showTitle": false,
     "title": ""
    }
   },
   "outputs": [],
   "source": [
    "from pyspark.sql.functions import sum, count, countDistinct"
   ]
  },
  {
   "cell_type": "code",
   "execution_count": 0,
   "metadata": {
    "application/vnd.databricks.v1+cell": {
     "cellMetadata": {
      "byteLimit": 2048000,
      "rowLimit": 10000
     },
     "inputWidgets": {},
     "nuid": "2fa73a42-076e-48c0-966d-72a1ed6e9b40",
     "showTitle": false,
     "title": ""
    }
   },
   "outputs": [
    {
     "output_type": "display_data",
     "data": {
      "text/html": [
       "<style scoped>\n",
       "  .table-result-container {\n",
       "    max-height: 300px;\n",
       "    overflow: auto;\n",
       "  }\n",
       "  table, th, td {\n",
       "    border: 1px solid black;\n",
       "    border-collapse: collapse;\n",
       "  }\n",
       "  th, td {\n",
       "    padding: 5px;\n",
       "  }\n",
       "  th {\n",
       "    text-align: left;\n",
       "  }\n",
       "</style><div class='table-result-container'><table class='table-result'><thead style='background-color: white'><tr><th>count(1)</th></tr></thead><tbody><tr><td>340</td></tr></tbody></table></div>"
      ]
     },
     "metadata": {
      "application/vnd.databricks.v1+output": {
       "addedWidgets": {},
       "aggData": [],
       "aggError": "",
       "aggOverflow": false,
       "aggSchema": [],
       "aggSeriesLimitReached": false,
       "aggType": "",
       "arguments": {},
       "columnCustomDisplayInfos": {},
       "data": [
        [
         340
        ]
       ],
       "datasetInfos": [],
       "dbfsResultPath": null,
       "isJsonSchema": true,
       "metadata": {},
       "overflow": false,
       "plotOptions": {
        "customPlotOptions": {},
        "displayType": "table",
        "pivotAggregation": null,
        "pivotColumns": null,
        "xColumns": null,
        "yColumns": null
       },
       "removedWidgets": [],
       "schema": [
        {
         "metadata": "{}",
         "name": "count(1)",
         "type": "\"long\""
        }
       ],
       "type": "table"
      }
     },
     "output_type": "display_data"
    }
   ],
   "source": [
    "demo_df.select(count('*')).display()"
   ]
  },
  {
   "cell_type": "code",
   "execution_count": 0,
   "metadata": {
    "application/vnd.databricks.v1+cell": {
     "cellMetadata": {
      "byteLimit": 2048000,
      "rowLimit": 10000
     },
     "inputWidgets": {},
     "nuid": "10a6e180-8e35-4377-81fc-3bab2273573f",
     "showTitle": false,
     "title": ""
    }
   },
   "outputs": [
    {
     "output_type": "display_data",
     "data": {
      "text/html": [
       "<style scoped>\n",
       "  .table-result-container {\n",
       "    max-height: 300px;\n",
       "    overflow: auto;\n",
       "  }\n",
       "  table, th, td {\n",
       "    border: 1px solid black;\n",
       "    border-collapse: collapse;\n",
       "  }\n",
       "  th, td {\n",
       "    padding: 5px;\n",
       "  }\n",
       "  th {\n",
       "    text-align: left;\n",
       "  }\n",
       "</style><div class='table-result-container'><table class='table-result'><thead style='background-color: white'><tr><th>count(DISTINCT race_name)</th></tr></thead><tbody><tr><td>17</td></tr></tbody></table></div>"
      ]
     },
     "metadata": {
      "application/vnd.databricks.v1+output": {
       "addedWidgets": {},
       "aggData": [],
       "aggError": "",
       "aggOverflow": false,
       "aggSchema": [],
       "aggSeriesLimitReached": false,
       "aggType": "",
       "arguments": {},
       "columnCustomDisplayInfos": {},
       "data": [
        [
         17
        ]
       ],
       "datasetInfos": [],
       "dbfsResultPath": null,
       "isJsonSchema": true,
       "metadata": {},
       "overflow": false,
       "plotOptions": {
        "customPlotOptions": {},
        "displayType": "table",
        "pivotAggregation": null,
        "pivotColumns": null,
        "xColumns": null,
        "yColumns": null
       },
       "removedWidgets": [],
       "schema": [
        {
         "metadata": "{}",
         "name": "count(DISTINCT race_name)",
         "type": "\"long\""
        }
       ],
       "type": "table"
      }
     },
     "output_type": "display_data"
    }
   ],
   "source": [
    "demo_df.select(countDistinct('race_name')).display()"
   ]
  },
  {
   "cell_type": "code",
   "execution_count": 0,
   "metadata": {
    "application/vnd.databricks.v1+cell": {
     "cellMetadata": {
      "byteLimit": 2048000,
      "rowLimit": 10000
     },
     "inputWidgets": {},
     "nuid": "5eba3d09-7504-4c41-b7ef-a95f9c5b264d",
     "showTitle": false,
     "title": ""
    }
   },
   "outputs": [
    {
     "output_type": "display_data",
     "data": {
      "text/html": [
       "<style scoped>\n",
       "  .table-result-container {\n",
       "    max-height: 300px;\n",
       "    overflow: auto;\n",
       "  }\n",
       "  table, th, td {\n",
       "    border: 1px solid black;\n",
       "    border-collapse: collapse;\n",
       "  }\n",
       "  th, td {\n",
       "    padding: 5px;\n",
       "  }\n",
       "  th {\n",
       "    text-align: left;\n",
       "  }\n",
       "</style><div class='table-result-container'><table class='table-result'><thead style='background-color: white'><tr><th>total_points</th><th>races_attended</th></tr></thead><tbody><tr><td>347.0</td><td>16</td></tr></tbody></table></div>"
      ]
     },
     "metadata": {
      "application/vnd.databricks.v1+output": {
       "addedWidgets": {},
       "aggData": [],
       "aggError": "",
       "aggOverflow": false,
       "aggSchema": [],
       "aggSeriesLimitReached": false,
       "aggType": "",
       "arguments": {},
       "columnCustomDisplayInfos": {},
       "data": [
        [
         347.0,
         16
        ]
       ],
       "datasetInfos": [],
       "dbfsResultPath": null,
       "isJsonSchema": true,
       "metadata": {},
       "overflow": false,
       "plotOptions": {
        "customPlotOptions": {},
        "displayType": "table",
        "pivotAggregation": null,
        "pivotColumns": null,
        "xColumns": null,
        "yColumns": null
       },
       "removedWidgets": [],
       "schema": [
        {
         "metadata": "{}",
         "name": "total_points",
         "type": "\"double\""
        },
        {
         "metadata": "{}",
         "name": "races_attended",
         "type": "\"long\""
        }
       ],
       "type": "table"
      }
     },
     "output_type": "display_data"
    }
   ],
   "source": [
    "demo_df\\\n",
    "    .filter(demo_df.driver_name == 'Lewis Hamilton')\\\n",
    "    .select(sum('points'), countDistinct('race_name'))\\\n",
    "    .withColumnRenamed('sum(points)', 'total_points')\\\n",
    "    .withColumnRenamed('count(DISTINCT race_name)', 'races_attended')\\\n",
    "    .display()"
   ]
  },
  {
   "cell_type": "markdown",
   "metadata": {
    "application/vnd.databricks.v1+cell": {
     "cellMetadata": {},
     "inputWidgets": {},
     "nuid": "354bc00d-22ff-469d-b71c-ede242dde63b",
     "showTitle": false,
     "title": ""
    }
   },
   "source": [
    "# 2. Now with Group By"
   ]
  },
  {
   "cell_type": "code",
   "execution_count": 0,
   "metadata": {
    "application/vnd.databricks.v1+cell": {
     "cellMetadata": {
      "byteLimit": 2048000,
      "rowLimit": 10000
     },
     "inputWidgets": {},
     "nuid": "906e9432-b30c-4996-8a6f-543fc6fe2e6e",
     "showTitle": false,
     "title": ""
    }
   },
   "outputs": [
    {
     "output_type": "display_data",
     "data": {
      "text/html": [
       "<style scoped>\n",
       "  .table-result-container {\n",
       "    max-height: 300px;\n",
       "    overflow: auto;\n",
       "  }\n",
       "  table, th, td {\n",
       "    border: 1px solid black;\n",
       "    border-collapse: collapse;\n",
       "  }\n",
       "  th, td {\n",
       "    padding: 5px;\n",
       "  }\n",
       "  th {\n",
       "    text-align: left;\n",
       "  }\n",
       "</style><div class='table-result-container'><table class='table-result'><thead style='background-color: white'><tr><th>driver_name</th><th>total_points</th><th>races_attended</th></tr></thead><tbody><tr><td>Jack Aitken</td><td>0.0</td><td>1</td></tr><tr><td>Daniil Kvyat</td><td>32.0</td><td>17</td></tr><tr><td>Kevin Magnussen</td><td>1.0</td><td>17</td></tr><tr><td>Sergio Pérez</td><td>125.0</td><td>15</td></tr><tr><td>Carlos Sainz</td><td>105.0</td><td>17</td></tr><tr><td>Kimi Räikkönen</td><td>4.0</td><td>17</td></tr><tr><td>Romain Grosjean</td><td>2.0</td><td>15</td></tr><tr><td>Charles Leclerc</td><td>98.0</td><td>17</td></tr><tr><td>Alexander Albon</td><td>105.0</td><td>17</td></tr><tr><td>Lance Stroll</td><td>75.0</td><td>16</td></tr><tr><td>Pierre Gasly</td><td>75.0</td><td>17</td></tr><tr><td>Lewis Hamilton</td><td>347.0</td><td>16</td></tr><tr><td>Nico Hülkenberg</td><td>10.0</td><td>3</td></tr><tr><td>Daniel Ricciardo</td><td>119.0</td><td>17</td></tr><tr><td>Valtteri Bottas</td><td>223.0</td><td>17</td></tr><tr><td>Antonio Giovinazzi</td><td>4.0</td><td>17</td></tr><tr><td>Lando Norris</td><td>97.0</td><td>17</td></tr><tr><td>Max Verstappen</td><td>214.0</td><td>17</td></tr><tr><td>George Russell</td><td>3.0</td><td>17</td></tr><tr><td>Sebastian Vettel</td><td>33.0</td><td>17</td></tr><tr><td>Esteban Ocon</td><td>62.0</td><td>17</td></tr><tr><td>Nicholas Latifi</td><td>0.0</td><td>17</td></tr><tr><td>Pietro Fittipaldi</td><td>0.0</td><td>2</td></tr></tbody></table></div>"
      ]
     },
     "metadata": {
      "application/vnd.databricks.v1+output": {
       "addedWidgets": {},
       "aggData": [],
       "aggError": "",
       "aggOverflow": false,
       "aggSchema": [],
       "aggSeriesLimitReached": false,
       "aggType": "",
       "arguments": {},
       "columnCustomDisplayInfos": {},
       "data": [
        [
         "Jack Aitken",
         0.0,
         1
        ],
        [
         "Daniil Kvyat",
         32.0,
         17
        ],
        [
         "Kevin Magnussen",
         1.0,
         17
        ],
        [
         "Sergio Pérez",
         125.0,
         15
        ],
        [
         "Carlos Sainz",
         105.0,
         17
        ],
        [
         "Kimi Räikkönen",
         4.0,
         17
        ],
        [
         "Romain Grosjean",
         2.0,
         15
        ],
        [
         "Charles Leclerc",
         98.0,
         17
        ],
        [
         "Alexander Albon",
         105.0,
         17
        ],
        [
         "Lance Stroll",
         75.0,
         16
        ],
        [
         "Pierre Gasly",
         75.0,
         17
        ],
        [
         "Lewis Hamilton",
         347.0,
         16
        ],
        [
         "Nico Hülkenberg",
         10.0,
         3
        ],
        [
         "Daniel Ricciardo",
         119.0,
         17
        ],
        [
         "Valtteri Bottas",
         223.0,
         17
        ],
        [
         "Antonio Giovinazzi",
         4.0,
         17
        ],
        [
         "Lando Norris",
         97.0,
         17
        ],
        [
         "Max Verstappen",
         214.0,
         17
        ],
        [
         "George Russell",
         3.0,
         17
        ],
        [
         "Sebastian Vettel",
         33.0,
         17
        ],
        [
         "Esteban Ocon",
         62.0,
         17
        ],
        [
         "Nicholas Latifi",
         0.0,
         17
        ],
        [
         "Pietro Fittipaldi",
         0.0,
         2
        ]
       ],
       "datasetInfos": [],
       "dbfsResultPath": null,
       "isJsonSchema": true,
       "metadata": {},
       "overflow": false,
       "plotOptions": {
        "customPlotOptions": {},
        "displayType": "table",
        "pivotAggregation": null,
        "pivotColumns": null,
        "xColumns": null,
        "yColumns": null
       },
       "removedWidgets": [],
       "schema": [
        {
         "metadata": "{}",
         "name": "driver_name",
         "type": "\"string\""
        },
        {
         "metadata": "{}",
         "name": "total_points",
         "type": "\"double\""
        },
        {
         "metadata": "{}",
         "name": "races_attended",
         "type": "\"long\""
        }
       ],
       "type": "table"
      }
     },
     "output_type": "display_data"
    }
   ],
   "source": [
    "demo_df\\\n",
    "    .groupBy('driver_name')\\\n",
    "    .agg(sum('points'), countDistinct('race_name'))\\\n",
    "    .withColumnRenamed('sum(points)', 'total_points')\\\n",
    "    .withColumnRenamed('count(DISTINCT race_name)', 'races_attended')\\\n",
    "    .display()"
   ]
  },
  {
   "cell_type": "markdown",
   "metadata": {
    "application/vnd.databricks.v1+cell": {
     "cellMetadata": {},
     "inputWidgets": {},
     "nuid": "0760d424-6432-4087-a611-03794ae9bf24",
     "showTitle": false,
     "title": ""
    }
   },
   "source": [
    "# 3. Window Functions"
   ]
  },
  {
   "cell_type": "code",
   "execution_count": 0,
   "metadata": {
    "application/vnd.databricks.v1+cell": {
     "cellMetadata": {
      "byteLimit": 2048000,
      "rowLimit": 10000
     },
     "inputWidgets": {},
     "nuid": "ec3ad33e-26ad-4815-81b0-02f32a61a565",
     "showTitle": false,
     "title": ""
    }
   },
   "outputs": [
    {
     "output_type": "display_data",
     "data": {
      "text/html": [
       "<style scoped>\n",
       "  .table-result-container {\n",
       "    max-height: 300px;\n",
       "    overflow: auto;\n",
       "  }\n",
       "  table, th, td {\n",
       "    border: 1px solid black;\n",
       "    border-collapse: collapse;\n",
       "  }\n",
       "  th, td {\n",
       "    padding: 5px;\n",
       "  }\n",
       "  th {\n",
       "    text-align: left;\n",
       "  }\n",
       "</style><div class='table-result-container'><table class='table-result'><thead style='background-color: white'><tr><th>race_year</th><th>race_name</th><th>race_date</th><th>circuit_location</th><th>driver_name</th><th>driver_number</th><th>driver_nationality</th><th>team</th><th>grid</th><th>fastest_lap</th><th>race_time</th><th>points</th><th>created_date</th></tr></thead><tbody><tr><td>2020</td><td>Eifel Grand Prix</td><td>2020-10-11T13:10:00Z</td><td>Nürburg</td><td>Lewis Hamilton</td><td>44</td><td>British</td><td>Mercedes</td><td>2</td><td>58</td><td>1:35:49.641</td><td>25.0</td><td>2024-09-04T09:58:42.937Z</td></tr><tr><td>2020</td><td>Eifel Grand Prix</td><td>2020-10-11T13:10:00Z</td><td>Nürburg</td><td>Max Verstappen</td><td>33</td><td>Dutch</td><td>Red Bull</td><td>3</td><td>60</td><td>+4.470</td><td>19.0</td><td>2024-09-04T09:58:42.937Z</td></tr><tr><td>2020</td><td>Eifel Grand Prix</td><td>2020-10-11T13:10:00Z</td><td>Nürburg</td><td>Daniel Ricciardo</td><td>3</td><td>Australian</td><td>Renault</td><td>6</td><td>53</td><td>+14.613</td><td>15.0</td><td>2024-09-04T09:58:42.937Z</td></tr><tr><td>2020</td><td>Eifel Grand Prix</td><td>2020-10-11T13:10:00Z</td><td>Nürburg</td><td>Sergio Pérez</td><td>11</td><td>Mexican</td><td>Racing Point</td><td>9</td><td>58</td><td>+16.070</td><td>12.0</td><td>2024-09-04T09:58:42.937Z</td></tr><tr><td>2020</td><td>Eifel Grand Prix</td><td>2020-10-11T13:10:00Z</td><td>Nürburg</td><td>Carlos Sainz</td><td>55</td><td>Spanish</td><td>McLaren</td><td>10</td><td>53</td><td>+21.905</td><td>10.0</td><td>2024-09-04T09:58:42.937Z</td></tr><tr><td>2020</td><td>Eifel Grand Prix</td><td>2020-10-11T13:10:00Z</td><td>Nürburg</td><td>Pierre Gasly</td><td>10</td><td>French</td><td>AlphaTauri</td><td>12</td><td>53</td><td>+22.766</td><td>8.0</td><td>2024-09-04T09:58:42.937Z</td></tr><tr><td>2020</td><td>Eifel Grand Prix</td><td>2020-10-11T13:10:00Z</td><td>Nürburg</td><td>Charles Leclerc</td><td>16</td><td>Monegasque</td><td>Ferrari</td><td>4</td><td>54</td><td>+30.814</td><td>6.0</td><td>2024-09-04T09:58:42.937Z</td></tr><tr><td>2020</td><td>Eifel Grand Prix</td><td>2020-10-11T13:10:00Z</td><td>Nürburg</td><td>Nico Hülkenberg</td><td>27</td><td>German</td><td>Racing Point</td><td>20</td><td>58</td><td>+32.596</td><td>4.0</td><td>2024-09-04T09:58:42.937Z</td></tr><tr><td>2020</td><td>Eifel Grand Prix</td><td>2020-10-11T13:10:00Z</td><td>Nürburg</td><td>Romain Grosjean</td><td>8</td><td>French</td><td>Haas F1 Team</td><td>16</td><td>54</td><td>+39.081</td><td>2.0</td><td>2024-09-04T09:58:42.937Z</td></tr><tr><td>2020</td><td>Eifel Grand Prix</td><td>2020-10-11T13:10:00Z</td><td>Nürburg</td><td>Antonio Giovinazzi</td><td>99</td><td>Italian</td><td>Alfa Romeo</td><td>14</td><td>38</td><td>+40.035</td><td>1.0</td><td>2024-09-04T09:58:42.937Z</td></tr></tbody></table></div>"
      ]
     },
     "metadata": {
      "application/vnd.databricks.v1+output": {
       "addedWidgets": {},
       "aggData": [],
       "aggError": "",
       "aggOverflow": false,
       "aggSchema": [],
       "aggSeriesLimitReached": false,
       "aggType": "",
       "arguments": {},
       "columnCustomDisplayInfos": {},
       "data": [
        [
         2020,
         "Eifel Grand Prix",
         "2020-10-11T13:10:00Z",
         "Nürburg",
         "Lewis Hamilton",
         44,
         "British",
         "Mercedes",
         2,
         58,
         "1:35:49.641",
         25.0,
         "2024-09-04T09:58:42.937Z"
        ],
        [
         2020,
         "Eifel Grand Prix",
         "2020-10-11T13:10:00Z",
         "Nürburg",
         "Max Verstappen",
         33,
         "Dutch",
         "Red Bull",
         3,
         60,
         "+4.470",
         19.0,
         "2024-09-04T09:58:42.937Z"
        ],
        [
         2020,
         "Eifel Grand Prix",
         "2020-10-11T13:10:00Z",
         "Nürburg",
         "Daniel Ricciardo",
         3,
         "Australian",
         "Renault",
         6,
         53,
         "+14.613",
         15.0,
         "2024-09-04T09:58:42.937Z"
        ],
        [
         2020,
         "Eifel Grand Prix",
         "2020-10-11T13:10:00Z",
         "Nürburg",
         "Sergio Pérez",
         11,
         "Mexican",
         "Racing Point",
         9,
         58,
         "+16.070",
         12.0,
         "2024-09-04T09:58:42.937Z"
        ],
        [
         2020,
         "Eifel Grand Prix",
         "2020-10-11T13:10:00Z",
         "Nürburg",
         "Carlos Sainz",
         55,
         "Spanish",
         "McLaren",
         10,
         53,
         "+21.905",
         10.0,
         "2024-09-04T09:58:42.937Z"
        ],
        [
         2020,
         "Eifel Grand Prix",
         "2020-10-11T13:10:00Z",
         "Nürburg",
         "Pierre Gasly",
         10,
         "French",
         "AlphaTauri",
         12,
         53,
         "+22.766",
         8.0,
         "2024-09-04T09:58:42.937Z"
        ],
        [
         2020,
         "Eifel Grand Prix",
         "2020-10-11T13:10:00Z",
         "Nürburg",
         "Charles Leclerc",
         16,
         "Monegasque",
         "Ferrari",
         4,
         54,
         "+30.814",
         6.0,
         "2024-09-04T09:58:42.937Z"
        ],
        [
         2020,
         "Eifel Grand Prix",
         "2020-10-11T13:10:00Z",
         "Nürburg",
         "Nico Hülkenberg",
         27,
         "German",
         "Racing Point",
         20,
         58,
         "+32.596",
         4.0,
         "2024-09-04T09:58:42.937Z"
        ],
        [
         2020,
         "Eifel Grand Prix",
         "2020-10-11T13:10:00Z",
         "Nürburg",
         "Romain Grosjean",
         8,
         "French",
         "Haas F1 Team",
         16,
         54,
         "+39.081",
         2.0,
         "2024-09-04T09:58:42.937Z"
        ],
        [
         2020,
         "Eifel Grand Prix",
         "2020-10-11T13:10:00Z",
         "Nürburg",
         "Antonio Giovinazzi",
         99,
         "Italian",
         "Alfa Romeo",
         14,
         38,
         "+40.035",
         1.0,
         "2024-09-04T09:58:42.937Z"
        ]
       ],
       "datasetInfos": [],
       "dbfsResultPath": null,
       "isJsonSchema": true,
       "metadata": {},
       "overflow": false,
       "plotOptions": {
        "customPlotOptions": {},
        "displayType": "table",
        "pivotAggregation": null,
        "pivotColumns": null,
        "xColumns": null,
        "yColumns": null
       },
       "removedWidgets": [],
       "schema": [
        {
         "metadata": "{}",
         "name": "race_year",
         "type": "\"integer\""
        },
        {
         "metadata": "{}",
         "name": "race_name",
         "type": "\"string\""
        },
        {
         "metadata": "{}",
         "name": "race_date",
         "type": "\"timestamp\""
        },
        {
         "metadata": "{}",
         "name": "circuit_location",
         "type": "\"string\""
        },
        {
         "metadata": "{}",
         "name": "driver_name",
         "type": "\"string\""
        },
        {
         "metadata": "{}",
         "name": "driver_number",
         "type": "\"integer\""
        },
        {
         "metadata": "{}",
         "name": "driver_nationality",
         "type": "\"string\""
        },
        {
         "metadata": "{}",
         "name": "team",
         "type": "\"string\""
        },
        {
         "metadata": "{}",
         "name": "grid",
         "type": "\"integer\""
        },
        {
         "metadata": "{}",
         "name": "fastest_lap",
         "type": "\"integer\""
        },
        {
         "metadata": "{}",
         "name": "race_time",
         "type": "\"string\""
        },
        {
         "metadata": "{}",
         "name": "points",
         "type": "\"float\""
        },
        {
         "metadata": "{}",
         "name": "created_date",
         "type": "\"timestamp\""
        }
       ],
       "type": "table"
      }
     },
     "output_type": "display_data"
    }
   ],
   "source": [
    "demo_df = race_results_df.filter('race_year in (2019, 2020)')\n",
    "demo_df.limit(10).display()"
   ]
  },
  {
   "cell_type": "code",
   "execution_count": 0,
   "metadata": {
    "application/vnd.databricks.v1+cell": {
     "cellMetadata": {
      "byteLimit": 2048000,
      "rowLimit": 10000
     },
     "inputWidgets": {},
     "nuid": "79060b3f-bd41-4fa4-abba-5e6502c182af",
     "showTitle": false,
     "title": ""
    }
   },
   "outputs": [
    {
     "output_type": "display_data",
     "data": {
      "text/html": [
       "<style scoped>\n",
       "  .table-result-container {\n",
       "    max-height: 300px;\n",
       "    overflow: auto;\n",
       "  }\n",
       "  table, th, td {\n",
       "    border: 1px solid black;\n",
       "    border-collapse: collapse;\n",
       "  }\n",
       "  th, td {\n",
       "    padding: 5px;\n",
       "  }\n",
       "  th {\n",
       "    text-align: left;\n",
       "  }\n",
       "</style><div class='table-result-container'><table class='table-result'><thead style='background-color: white'><tr><th>race_year</th><th>driver_name</th><th>total_points</th><th>races_attended</th></tr></thead><tbody><tr><td>2019</td><td>Kevin Magnussen</td><td>20.0</td><td>21</td></tr><tr><td>2019</td><td>Robert Kubica</td><td>1.0</td><td>21</td></tr><tr><td>2019</td><td>Lance Stroll</td><td>21.0</td><td>21</td></tr><tr><td>2019</td><td>Lando Norris</td><td>49.0</td><td>21</td></tr><tr><td>2019</td><td>Sebastian Vettel</td><td>240.0</td><td>21</td></tr><tr><td>2019</td><td>George Russell</td><td>0.0</td><td>21</td></tr><tr><td>2019</td><td>Carlos Sainz</td><td>96.0</td><td>21</td></tr><tr><td>2019</td><td>Max Verstappen</td><td>278.0</td><td>21</td></tr><tr><td>2019</td><td>Valtteri Bottas</td><td>326.0</td><td>21</td></tr><tr><td>2019</td><td>Charles Leclerc</td><td>264.0</td><td>21</td></tr><tr><td>2019</td><td>Daniel Ricciardo</td><td>54.0</td><td>21</td></tr><tr><td>2019</td><td>Lewis Hamilton</td><td>413.0</td><td>21</td></tr><tr><td>2019</td><td>Antonio Giovinazzi</td><td>14.0</td><td>21</td></tr><tr><td>2019</td><td>Nico Hülkenberg</td><td>37.0</td><td>21</td></tr><tr><td>2019</td><td>Kimi Räikkönen</td><td>43.0</td><td>21</td></tr><tr><td>2019</td><td>Alexander Albon</td><td>92.0</td><td>21</td></tr><tr><td>2019</td><td>Pierre Gasly</td><td>95.0</td><td>21</td></tr><tr><td>2019</td><td>Daniil Kvyat</td><td>37.0</td><td>21</td></tr><tr><td>2019</td><td>Sergio Pérez</td><td>52.0</td><td>21</td></tr><tr><td>2019</td><td>Romain Grosjean</td><td>8.0</td><td>21</td></tr><tr><td>2020</td><td>Daniil Kvyat</td><td>32.0</td><td>17</td></tr><tr><td>2020</td><td>Kevin Magnussen</td><td>1.0</td><td>17</td></tr><tr><td>2020</td><td>Antonio Giovinazzi</td><td>4.0</td><td>17</td></tr><tr><td>2020</td><td>Nico Hülkenberg</td><td>10.0</td><td>3</td></tr><tr><td>2020</td><td>Romain Grosjean</td><td>2.0</td><td>15</td></tr><tr><td>2020</td><td>Charles Leclerc</td><td>98.0</td><td>17</td></tr><tr><td>2020</td><td>Esteban Ocon</td><td>62.0</td><td>17</td></tr><tr><td>2020</td><td>Pietro Fittipaldi</td><td>0.0</td><td>2</td></tr><tr><td>2020</td><td>Sebastian Vettel</td><td>33.0</td><td>17</td></tr><tr><td>2020</td><td>Daniel Ricciardo</td><td>119.0</td><td>17</td></tr><tr><td>2020</td><td>Kimi Räikkönen</td><td>4.0</td><td>17</td></tr><tr><td>2020</td><td>George Russell</td><td>3.0</td><td>17</td></tr><tr><td>2020</td><td>Max Verstappen</td><td>214.0</td><td>17</td></tr><tr><td>2020</td><td>Valtteri Bottas</td><td>223.0</td><td>17</td></tr><tr><td>2020</td><td>Pierre Gasly</td><td>75.0</td><td>17</td></tr><tr><td>2020</td><td>Lewis Hamilton</td><td>347.0</td><td>16</td></tr><tr><td>2020</td><td>Jack Aitken</td><td>0.0</td><td>1</td></tr><tr><td>2020</td><td>Lance Stroll</td><td>75.0</td><td>16</td></tr><tr><td>2020</td><td>Nicholas Latifi</td><td>0.0</td><td>17</td></tr><tr><td>2020</td><td>Carlos Sainz</td><td>105.0</td><td>17</td></tr><tr><td>2020</td><td>Lando Norris</td><td>97.0</td><td>17</td></tr><tr><td>2020</td><td>Alexander Albon</td><td>105.0</td><td>17</td></tr><tr><td>2020</td><td>Sergio Pérez</td><td>125.0</td><td>15</td></tr></tbody></table></div>"
      ]
     },
     "metadata": {
      "application/vnd.databricks.v1+output": {
       "addedWidgets": {},
       "aggData": [],
       "aggError": "",
       "aggOverflow": false,
       "aggSchema": [],
       "aggSeriesLimitReached": false,
       "aggType": "",
       "arguments": {},
       "columnCustomDisplayInfos": {},
       "data": [
        [
         2019,
         "Kevin Magnussen",
         20.0,
         21
        ],
        [
         2019,
         "Robert Kubica",
         1.0,
         21
        ],
        [
         2019,
         "Lance Stroll",
         21.0,
         21
        ],
        [
         2019,
         "Lando Norris",
         49.0,
         21
        ],
        [
         2019,
         "Sebastian Vettel",
         240.0,
         21
        ],
        [
         2019,
         "George Russell",
         0.0,
         21
        ],
        [
         2019,
         "Carlos Sainz",
         96.0,
         21
        ],
        [
         2019,
         "Max Verstappen",
         278.0,
         21
        ],
        [
         2019,
         "Valtteri Bottas",
         326.0,
         21
        ],
        [
         2019,
         "Charles Leclerc",
         264.0,
         21
        ],
        [
         2019,
         "Daniel Ricciardo",
         54.0,
         21
        ],
        [
         2019,
         "Lewis Hamilton",
         413.0,
         21
        ],
        [
         2019,
         "Antonio Giovinazzi",
         14.0,
         21
        ],
        [
         2019,
         "Nico Hülkenberg",
         37.0,
         21
        ],
        [
         2019,
         "Kimi Räikkönen",
         43.0,
         21
        ],
        [
         2019,
         "Alexander Albon",
         92.0,
         21
        ],
        [
         2019,
         "Pierre Gasly",
         95.0,
         21
        ],
        [
         2019,
         "Daniil Kvyat",
         37.0,
         21
        ],
        [
         2019,
         "Sergio Pérez",
         52.0,
         21
        ],
        [
         2019,
         "Romain Grosjean",
         8.0,
         21
        ],
        [
         2020,
         "Daniil Kvyat",
         32.0,
         17
        ],
        [
         2020,
         "Kevin Magnussen",
         1.0,
         17
        ],
        [
         2020,
         "Antonio Giovinazzi",
         4.0,
         17
        ],
        [
         2020,
         "Nico Hülkenberg",
         10.0,
         3
        ],
        [
         2020,
         "Romain Grosjean",
         2.0,
         15
        ],
        [
         2020,
         "Charles Leclerc",
         98.0,
         17
        ],
        [
         2020,
         "Esteban Ocon",
         62.0,
         17
        ],
        [
         2020,
         "Pietro Fittipaldi",
         0.0,
         2
        ],
        [
         2020,
         "Sebastian Vettel",
         33.0,
         17
        ],
        [
         2020,
         "Daniel Ricciardo",
         119.0,
         17
        ],
        [
         2020,
         "Kimi Räikkönen",
         4.0,
         17
        ],
        [
         2020,
         "George Russell",
         3.0,
         17
        ],
        [
         2020,
         "Max Verstappen",
         214.0,
         17
        ],
        [
         2020,
         "Valtteri Bottas",
         223.0,
         17
        ],
        [
         2020,
         "Pierre Gasly",
         75.0,
         17
        ],
        [
         2020,
         "Lewis Hamilton",
         347.0,
         16
        ],
        [
         2020,
         "Jack Aitken",
         0.0,
         1
        ],
        [
         2020,
         "Lance Stroll",
         75.0,
         16
        ],
        [
         2020,
         "Nicholas Latifi",
         0.0,
         17
        ],
        [
         2020,
         "Carlos Sainz",
         105.0,
         17
        ],
        [
         2020,
         "Lando Norris",
         97.0,
         17
        ],
        [
         2020,
         "Alexander Albon",
         105.0,
         17
        ],
        [
         2020,
         "Sergio Pérez",
         125.0,
         15
        ]
       ],
       "datasetInfos": [],
       "dbfsResultPath": null,
       "isJsonSchema": true,
       "metadata": {},
       "overflow": false,
       "plotOptions": {
        "customPlotOptions": {},
        "displayType": "table",
        "pivotAggregation": null,
        "pivotColumns": null,
        "xColumns": null,
        "yColumns": null
       },
       "removedWidgets": [],
       "schema": [
        {
         "metadata": "{}",
         "name": "race_year",
         "type": "\"integer\""
        },
        {
         "metadata": "{}",
         "name": "driver_name",
         "type": "\"string\""
        },
        {
         "metadata": "{}",
         "name": "total_points",
         "type": "\"double\""
        },
        {
         "metadata": "{}",
         "name": "races_attended",
         "type": "\"long\""
        }
       ],
       "type": "table"
      }
     },
     "output_type": "display_data"
    }
   ],
   "source": [
    "grouped_demo_df = demo_df\\\n",
    "    .groupBy('race_year', 'driver_name')\\\n",
    "    .agg(sum('points').alias('total_points'), countDistinct('race_name').alias('races_attended'))\\\n",
    "    .orderBy('race_year')\\\n",
    "    .select('*')\n",
    "\n",
    "grouped_demo_df.display()"
   ]
  },
  {
   "cell_type": "code",
   "execution_count": 0,
   "metadata": {
    "application/vnd.databricks.v1+cell": {
     "cellMetadata": {
      "byteLimit": 2048000,
      "rowLimit": 10000
     },
     "inputWidgets": {},
     "nuid": "aac60852-e62e-4810-bc57-47ae968e6fb8",
     "showTitle": false,
     "title": ""
    }
   },
   "outputs": [],
   "source": [
    "from pyspark.sql.window import Window\n",
    "from pyspark.sql.functions import desc, rank"
   ]
  },
  {
   "cell_type": "code",
   "execution_count": 0,
   "metadata": {
    "application/vnd.databricks.v1+cell": {
     "cellMetadata": {
      "byteLimit": 2048000,
      "rowLimit": 10000
     },
     "inputWidgets": {},
     "nuid": "c26537b6-7384-4ed3-8fff-86bc838e3709",
     "showTitle": false,
     "title": ""
    }
   },
   "outputs": [
    {
     "output_type": "display_data",
     "data": {
      "text/html": [
       "<style scoped>\n",
       "  .table-result-container {\n",
       "    max-height: 300px;\n",
       "    overflow: auto;\n",
       "  }\n",
       "  table, th, td {\n",
       "    border: 1px solid black;\n",
       "    border-collapse: collapse;\n",
       "  }\n",
       "  th, td {\n",
       "    padding: 5px;\n",
       "  }\n",
       "  th {\n",
       "    text-align: left;\n",
       "  }\n",
       "</style><div class='table-result-container'><table class='table-result'><thead style='background-color: white'><tr><th>race_year</th><th>driver_name</th><th>total_points</th><th>races_attended</th><th>rank</th></tr></thead><tbody><tr><td>2019</td><td>Lewis Hamilton</td><td>413.0</td><td>21</td><td>1</td></tr><tr><td>2019</td><td>Valtteri Bottas</td><td>326.0</td><td>21</td><td>2</td></tr><tr><td>2019</td><td>Max Verstappen</td><td>278.0</td><td>21</td><td>3</td></tr><tr><td>2019</td><td>Charles Leclerc</td><td>264.0</td><td>21</td><td>4</td></tr><tr><td>2019</td><td>Sebastian Vettel</td><td>240.0</td><td>21</td><td>5</td></tr><tr><td>2019</td><td>Carlos Sainz</td><td>96.0</td><td>21</td><td>6</td></tr><tr><td>2019</td><td>Pierre Gasly</td><td>95.0</td><td>21</td><td>7</td></tr><tr><td>2019</td><td>Alexander Albon</td><td>92.0</td><td>21</td><td>8</td></tr><tr><td>2019</td><td>Daniel Ricciardo</td><td>54.0</td><td>21</td><td>9</td></tr><tr><td>2019</td><td>Sergio Pérez</td><td>52.0</td><td>21</td><td>10</td></tr><tr><td>2019</td><td>Lando Norris</td><td>49.0</td><td>21</td><td>11</td></tr><tr><td>2019</td><td>Kimi Räikkönen</td><td>43.0</td><td>21</td><td>12</td></tr><tr><td>2019</td><td>Nico Hülkenberg</td><td>37.0</td><td>21</td><td>13</td></tr><tr><td>2019</td><td>Daniil Kvyat</td><td>37.0</td><td>21</td><td>13</td></tr><tr><td>2019</td><td>Lance Stroll</td><td>21.0</td><td>21</td><td>15</td></tr><tr><td>2019</td><td>Kevin Magnussen</td><td>20.0</td><td>21</td><td>16</td></tr><tr><td>2019</td><td>Antonio Giovinazzi</td><td>14.0</td><td>21</td><td>17</td></tr><tr><td>2019</td><td>Romain Grosjean</td><td>8.0</td><td>21</td><td>18</td></tr><tr><td>2019</td><td>Robert Kubica</td><td>1.0</td><td>21</td><td>19</td></tr><tr><td>2019</td><td>George Russell</td><td>0.0</td><td>21</td><td>20</td></tr><tr><td>2020</td><td>Lewis Hamilton</td><td>347.0</td><td>16</td><td>1</td></tr><tr><td>2020</td><td>Valtteri Bottas</td><td>223.0</td><td>17</td><td>2</td></tr><tr><td>2020</td><td>Max Verstappen</td><td>214.0</td><td>17</td><td>3</td></tr><tr><td>2020</td><td>Sergio Pérez</td><td>125.0</td><td>15</td><td>4</td></tr><tr><td>2020</td><td>Daniel Ricciardo</td><td>119.0</td><td>17</td><td>5</td></tr><tr><td>2020</td><td>Carlos Sainz</td><td>105.0</td><td>17</td><td>6</td></tr><tr><td>2020</td><td>Alexander Albon</td><td>105.0</td><td>17</td><td>6</td></tr><tr><td>2020</td><td>Charles Leclerc</td><td>98.0</td><td>17</td><td>8</td></tr><tr><td>2020</td><td>Lando Norris</td><td>97.0</td><td>17</td><td>9</td></tr><tr><td>2020</td><td>Pierre Gasly</td><td>75.0</td><td>17</td><td>10</td></tr><tr><td>2020</td><td>Lance Stroll</td><td>75.0</td><td>16</td><td>10</td></tr><tr><td>2020</td><td>Esteban Ocon</td><td>62.0</td><td>17</td><td>12</td></tr><tr><td>2020</td><td>Sebastian Vettel</td><td>33.0</td><td>17</td><td>13</td></tr><tr><td>2020</td><td>Daniil Kvyat</td><td>32.0</td><td>17</td><td>14</td></tr><tr><td>2020</td><td>Nico Hülkenberg</td><td>10.0</td><td>3</td><td>15</td></tr><tr><td>2020</td><td>Antonio Giovinazzi</td><td>4.0</td><td>17</td><td>16</td></tr><tr><td>2020</td><td>Kimi Räikkönen</td><td>4.0</td><td>17</td><td>16</td></tr><tr><td>2020</td><td>George Russell</td><td>3.0</td><td>17</td><td>18</td></tr><tr><td>2020</td><td>Romain Grosjean</td><td>2.0</td><td>15</td><td>19</td></tr><tr><td>2020</td><td>Kevin Magnussen</td><td>1.0</td><td>17</td><td>20</td></tr><tr><td>2020</td><td>Pietro Fittipaldi</td><td>0.0</td><td>2</td><td>21</td></tr><tr><td>2020</td><td>Jack Aitken</td><td>0.0</td><td>1</td><td>21</td></tr><tr><td>2020</td><td>Nicholas Latifi</td><td>0.0</td><td>17</td><td>21</td></tr></tbody></table></div>"
      ]
     },
     "metadata": {
      "application/vnd.databricks.v1+output": {
       "addedWidgets": {},
       "aggData": [],
       "aggError": "",
       "aggOverflow": false,
       "aggSchema": [],
       "aggSeriesLimitReached": false,
       "aggType": "",
       "arguments": {},
       "columnCustomDisplayInfos": {},
       "data": [
        [
         2019,
         "Lewis Hamilton",
         413.0,
         21,
         1
        ],
        [
         2019,
         "Valtteri Bottas",
         326.0,
         21,
         2
        ],
        [
         2019,
         "Max Verstappen",
         278.0,
         21,
         3
        ],
        [
         2019,
         "Charles Leclerc",
         264.0,
         21,
         4
        ],
        [
         2019,
         "Sebastian Vettel",
         240.0,
         21,
         5
        ],
        [
         2019,
         "Carlos Sainz",
         96.0,
         21,
         6
        ],
        [
         2019,
         "Pierre Gasly",
         95.0,
         21,
         7
        ],
        [
         2019,
         "Alexander Albon",
         92.0,
         21,
         8
        ],
        [
         2019,
         "Daniel Ricciardo",
         54.0,
         21,
         9
        ],
        [
         2019,
         "Sergio Pérez",
         52.0,
         21,
         10
        ],
        [
         2019,
         "Lando Norris",
         49.0,
         21,
         11
        ],
        [
         2019,
         "Kimi Räikkönen",
         43.0,
         21,
         12
        ],
        [
         2019,
         "Nico Hülkenberg",
         37.0,
         21,
         13
        ],
        [
         2019,
         "Daniil Kvyat",
         37.0,
         21,
         13
        ],
        [
         2019,
         "Lance Stroll",
         21.0,
         21,
         15
        ],
        [
         2019,
         "Kevin Magnussen",
         20.0,
         21,
         16
        ],
        [
         2019,
         "Antonio Giovinazzi",
         14.0,
         21,
         17
        ],
        [
         2019,
         "Romain Grosjean",
         8.0,
         21,
         18
        ],
        [
         2019,
         "Robert Kubica",
         1.0,
         21,
         19
        ],
        [
         2019,
         "George Russell",
         0.0,
         21,
         20
        ],
        [
         2020,
         "Lewis Hamilton",
         347.0,
         16,
         1
        ],
        [
         2020,
         "Valtteri Bottas",
         223.0,
         17,
         2
        ],
        [
         2020,
         "Max Verstappen",
         214.0,
         17,
         3
        ],
        [
         2020,
         "Sergio Pérez",
         125.0,
         15,
         4
        ],
        [
         2020,
         "Daniel Ricciardo",
         119.0,
         17,
         5
        ],
        [
         2020,
         "Carlos Sainz",
         105.0,
         17,
         6
        ],
        [
         2020,
         "Alexander Albon",
         105.0,
         17,
         6
        ],
        [
         2020,
         "Charles Leclerc",
         98.0,
         17,
         8
        ],
        [
         2020,
         "Lando Norris",
         97.0,
         17,
         9
        ],
        [
         2020,
         "Pierre Gasly",
         75.0,
         17,
         10
        ],
        [
         2020,
         "Lance Stroll",
         75.0,
         16,
         10
        ],
        [
         2020,
         "Esteban Ocon",
         62.0,
         17,
         12
        ],
        [
         2020,
         "Sebastian Vettel",
         33.0,
         17,
         13
        ],
        [
         2020,
         "Daniil Kvyat",
         32.0,
         17,
         14
        ],
        [
         2020,
         "Nico Hülkenberg",
         10.0,
         3,
         15
        ],
        [
         2020,
         "Antonio Giovinazzi",
         4.0,
         17,
         16
        ],
        [
         2020,
         "Kimi Räikkönen",
         4.0,
         17,
         16
        ],
        [
         2020,
         "George Russell",
         3.0,
         17,
         18
        ],
        [
         2020,
         "Romain Grosjean",
         2.0,
         15,
         19
        ],
        [
         2020,
         "Kevin Magnussen",
         1.0,
         17,
         20
        ],
        [
         2020,
         "Pietro Fittipaldi",
         0.0,
         2,
         21
        ],
        [
         2020,
         "Jack Aitken",
         0.0,
         1,
         21
        ],
        [
         2020,
         "Nicholas Latifi",
         0.0,
         17,
         21
        ]
       ],
       "datasetInfos": [],
       "dbfsResultPath": null,
       "isJsonSchema": true,
       "metadata": {},
       "overflow": false,
       "plotOptions": {
        "customPlotOptions": {},
        "displayType": "table",
        "pivotAggregation": null,
        "pivotColumns": null,
        "xColumns": null,
        "yColumns": null
       },
       "removedWidgets": [],
       "schema": [
        {
         "metadata": "{}",
         "name": "race_year",
         "type": "\"integer\""
        },
        {
         "metadata": "{}",
         "name": "driver_name",
         "type": "\"string\""
        },
        {
         "metadata": "{}",
         "name": "total_points",
         "type": "\"double\""
        },
        {
         "metadata": "{}",
         "name": "races_attended",
         "type": "\"long\""
        },
        {
         "metadata": "{}",
         "name": "rank",
         "type": "\"integer\""
        }
       ],
       "type": "table"
      }
     },
     "output_type": "display_data"
    }
   ],
   "source": [
    "driver_rank_spec = Window.partitionBy('race_year').orderBy(desc('total_points'))\n",
    "grouped_demo_df = grouped_demo_df.withColumn('rank', rank().over(driver_rank_spec))\n",
    "\n",
    "grouped_demo_df.display()"
   ]
  },
  {
   "cell_type": "code",
   "execution_count": 0,
   "metadata": {
    "application/vnd.databricks.v1+cell": {
     "cellMetadata": {},
     "inputWidgets": {},
     "nuid": "05e13cb1-09d1-4c65-8e51-4c325fe0f365",
     "showTitle": false,
     "title": ""
    }
   },
   "outputs": [],
   "source": []
  }
 ],
 "metadata": {
  "application/vnd.databricks.v1+notebook": {
   "dashboards": [],
   "environmentMetadata": {
    "base_environment": "",
    "client": "1"
   },
   "language": "python",
   "notebookMetadata": {
    "pythonIndentUnit": 4
   },
   "notebookName": "3_aggregation",
   "widgets": {}
  }
 },
 "nbformat": 4,
 "nbformat_minor": 0
}
