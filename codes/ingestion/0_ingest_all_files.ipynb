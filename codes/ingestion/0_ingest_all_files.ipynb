{
 "cells": [
  {
   "cell_type": "code",
   "execution_count": 0,
   "metadata": {
    "application/vnd.databricks.v1+cell": {
     "cellMetadata": {
      "byteLimit": 2048000,
      "rowLimit": 10000
     },
     "inputWidgets": {},
     "nuid": "d17d2d61-ca5e-4ad9-9800-c6349f0e8140",
     "showTitle": false,
     "title": ""
    }
   },
   "outputs": [
    {
     "output_type": "display_data",
     "data": {
      "text/html": [
       "<div class = \"ansiout\">\n",
       "The notebook module.\n",
       "  <h3></h3><b>exit(value: String): void</b> -> This method lets you exit a notebook with a value<br /><b>run(path: String, timeoutSeconds: int, arguments: Map): String</b> -> This method runs a notebook and returns its exit value<br /><br /></div>"
      ]
     },
     "metadata": {},
     "output_type": "display_data"
    }
   ],
   "source": [
    "dbutils.notebook.help()"
   ]
  },
  {
   "cell_type": "code",
   "execution_count": 0,
   "metadata": {
    "application/vnd.databricks.v1+cell": {
     "cellMetadata": {
      "byteLimit": 2048000,
      "rowLimit": 10000
     },
     "inputWidgets": {},
     "nuid": "be12dc73-7898-4e5d-b0b6-fbcd684d4315",
     "showTitle": false,
     "title": ""
    }
   },
   "outputs": [],
   "source": [
    "arguments = {'p_data_source': 'Ergast API'}"
   ]
  },
  {
   "cell_type": "code",
   "execution_count": 0,
   "metadata": {
    "application/vnd.databricks.v1+cell": {
     "cellMetadata": {
      "byteLimit": 2048000,
      "rowLimit": 10000
     },
     "inputWidgets": {},
     "nuid": "e0f5f03d-e46f-4fc4-8f78-3dc2f3975be9",
     "showTitle": false,
     "title": ""
    }
   },
   "outputs": [],
   "source": [
    "run_result = dbutils.notebook.run(\n",
    "    path='./1_ingest_circuits_file',\n",
    "    timeout_seconds=0,\n",
    "    arguments=arguments   \n",
    ")"
   ]
  },
  {
   "cell_type": "code",
   "execution_count": 0,
   "metadata": {
    "application/vnd.databricks.v1+cell": {
     "cellMetadata": {
      "byteLimit": 2048000,
      "rowLimit": 10000
     },
     "inputWidgets": {},
     "nuid": "c3e3c9b1-a65f-4693-a119-e58168bc5afa",
     "showTitle": false,
     "title": ""
    }
   },
   "outputs": [],
   "source": [
    "run_result = dbutils.notebook.run(\n",
    "    path='./2_ingest_races_file',\n",
    "    timeout_seconds=0,\n",
    "    arguments=arguments  \n",
    ")"
   ]
  },
  {
   "cell_type": "code",
   "execution_count": 0,
   "metadata": {
    "application/vnd.databricks.v1+cell": {
     "cellMetadata": {
      "byteLimit": 2048000,
      "rowLimit": 10000
     },
     "inputWidgets": {},
     "nuid": "f883866d-d5f1-4369-a614-9780970669ef",
     "showTitle": false,
     "title": ""
    }
   },
   "outputs": [],
   "source": [
    "run_result = dbutils.notebook.run(\n",
    "    path='./3_ingest_constructors_file',\n",
    "    timeout_seconds=0,\n",
    "    arguments=arguments    \n",
    ")"
   ]
  },
  {
   "cell_type": "code",
   "execution_count": 0,
   "metadata": {
    "application/vnd.databricks.v1+cell": {
     "cellMetadata": {
      "byteLimit": 2048000,
      "rowLimit": 10000
     },
     "inputWidgets": {},
     "nuid": "efc3207e-0605-4096-b38a-431c10f24a75",
     "showTitle": false,
     "title": ""
    }
   },
   "outputs": [],
   "source": [
    "run_result = dbutils.notebook.run(\n",
    "    path='./4_ingest_drivers_file',\n",
    "    timeout_seconds=0,\n",
    "    arguments=arguments    \n",
    ")"
   ]
  },
  {
   "cell_type": "code",
   "execution_count": 0,
   "metadata": {
    "application/vnd.databricks.v1+cell": {
     "cellMetadata": {
      "byteLimit": 2048000,
      "rowLimit": 10000
     },
     "inputWidgets": {},
     "nuid": "dfd31bed-6d95-4e87-850d-d14a342290ad",
     "showTitle": false,
     "title": ""
    }
   },
   "outputs": [],
   "source": [
    "run_result = dbutils.notebook.run(\n",
    "    path='./5_ingest_results_file',\n",
    "    timeout_seconds=0,\n",
    "    arguments=arguments    \n",
    ")"
   ]
  },
  {
   "cell_type": "code",
   "execution_count": 0,
   "metadata": {
    "application/vnd.databricks.v1+cell": {
     "cellMetadata": {
      "byteLimit": 2048000,
      "rowLimit": 10000
     },
     "inputWidgets": {},
     "nuid": "22ad6561-09e3-43ca-9ca9-d91baf911ac0",
     "showTitle": false,
     "title": ""
    }
   },
   "outputs": [],
   "source": [
    "run_result = dbutils.notebook.run(\n",
    "    path='./6_ingest_pit_stops_file',\n",
    "    timeout_seconds=0,\n",
    "    arguments=arguments    \n",
    ")"
   ]
  },
  {
   "cell_type": "code",
   "execution_count": 0,
   "metadata": {
    "application/vnd.databricks.v1+cell": {
     "cellMetadata": {
      "byteLimit": 2048000,
      "rowLimit": 10000
     },
     "inputWidgets": {},
     "nuid": "cc6a9603-0070-4a04-b86f-a19f173f0711",
     "showTitle": false,
     "title": ""
    }
   },
   "outputs": [],
   "source": [
    "run_result = dbutils.notebook.run(\n",
    "    path='./7_ingest_lap_times_folder',\n",
    "    timeout_seconds=0,\n",
    "    arguments=arguments    \n",
    ")"
   ]
  },
  {
   "cell_type": "code",
   "execution_count": 0,
   "metadata": {
    "application/vnd.databricks.v1+cell": {
     "cellMetadata": {
      "byteLimit": 2048000,
      "rowLimit": 10000
     },
     "inputWidgets": {},
     "nuid": "3175d7d7-1de2-46d1-9096-3b5d5611d98f",
     "showTitle": false,
     "title": ""
    }
   },
   "outputs": [],
   "source": [
    "run_result = dbutils.notebook.run(\n",
    "    path='./8_ingest_qualifying_folder',\n",
    "    timeout_seconds=0,\n",
    "    arguments=arguments  \n",
    ")"
   ]
  }
 ],
 "metadata": {
  "application/vnd.databricks.v1+notebook": {
   "dashboards": [],
   "environmentMetadata": {
    "base_environment": "",
    "client": "1"
   },
   "language": "python",
   "notebookMetadata": {
    "pythonIndentUnit": 4
   },
   "notebookName": "0_ingest_all_files",
   "widgets": {}
  }
 },
 "nbformat": 4,
 "nbformat_minor": 0
}
