{
 "cells": [
  {
   "cell_type": "markdown",
   "metadata": {
    "application/vnd.databricks.v1+cell": {
     "cellMetadata": {
      "byteLimit": 2048000,
      "rowLimit": 10000
     },
     "inputWidgets": {},
     "nuid": "67960185-e7a2-4a7f-9116-e0c0e0befe60",
     "showTitle": false,
     "title": ""
    }
   },
   "source": [
    "# 0. Get configuration parameters and functions"
   ]
  },
  {
   "cell_type": "code",
   "execution_count": 0,
   "metadata": {
    "application/vnd.databricks.v1+cell": {
     "cellMetadata": {
      "byteLimit": 2048000,
      "rowLimit": 10000
     },
     "inputWidgets": {},
     "nuid": "3af94131-9779-47b5-9369-e2096017ce07",
     "showTitle": false,
     "title": ""
    }
   },
   "outputs": [],
   "source": [
    "%run \"../includes/configuration\""
   ]
  },
  {
   "cell_type": "code",
   "execution_count": 0,
   "metadata": {
    "application/vnd.databricks.v1+cell": {
     "cellMetadata": {
      "byteLimit": 2048000,
      "rowLimit": 10000
     },
     "inputWidgets": {},
     "nuid": "fb250764-e7ab-4e62-8e73-2b07e9441ea7",
     "showTitle": false,
     "title": ""
    }
   },
   "outputs": [
    {
     "output_type": "execute_result",
     "data": {
      "text/plain": [
       "'abfss://raw@aubdbcourse.dfs.core.windows.net'"
      ]
     },
     "execution_count": 82,
     "metadata": {},
     "output_type": "execute_result"
    }
   ],
   "source": [
    "raw_folder_path"
   ]
  },
  {
   "cell_type": "code",
   "execution_count": 0,
   "metadata": {
    "application/vnd.databricks.v1+cell": {
     "cellMetadata": {
      "byteLimit": 2048000,
      "rowLimit": 10000
     },
     "inputWidgets": {},
     "nuid": "a36bb4cb-ae8b-4d58-8e97-cec94ef28751",
     "showTitle": false,
     "title": ""
    }
   },
   "outputs": [],
   "source": [
    "%run \"../includes/common_functions\""
   ]
  },
  {
   "cell_type": "code",
   "execution_count": 0,
   "metadata": {
    "application/vnd.databricks.v1+cell": {
     "cellMetadata": {
      "byteLimit": 2048000,
      "rowLimit": 10000
     },
     "inputWidgets": {},
     "nuid": "13e96602-8a08-4901-80c0-ecea569b78dc",
     "showTitle": false,
     "title": ""
    }
   },
   "outputs": [],
   "source": [
    "dbutils.widgets.text('p_data_source', '')\n",
    "param_data_source = dbutils.widgets.get('p_data_source')"
   ]
  },
  {
   "cell_type": "code",
   "execution_count": 0,
   "metadata": {
    "application/vnd.databricks.v1+cell": {
     "cellMetadata": {
      "byteLimit": 2048000,
      "rowLimit": 10000
     },
     "inputWidgets": {},
     "nuid": "ccbd5250-3ffa-4863-8520-0fba9cd1fcee",
     "showTitle": false,
     "title": ""
    }
   },
   "outputs": [],
   "source": [
    "dbutils.widgets.text('p_file_date', '2021-03-21')\n",
    "param_file_date = dbutils.widgets.get('p_file_date')"
   ]
  },
  {
   "cell_type": "markdown",
   "metadata": {
    "application/vnd.databricks.v1+cell": {
     "cellMetadata": {
      "byteLimit": 2048000,
      "rowLimit": 10000
     },
     "inputWidgets": {},
     "nuid": "43ee2a59-48f8-4594-ba6e-7d7aeb6c5ef9",
     "showTitle": false,
     "title": ""
    }
   },
   "source": [
    "# 1. Read data from results.json"
   ]
  },
  {
   "cell_type": "code",
   "execution_count": 0,
   "metadata": {
    "application/vnd.databricks.v1+cell": {
     "cellMetadata": {
      "byteLimit": 2048000,
      "rowLimit": 10000
     },
     "inputWidgets": {},
     "nuid": "92d852a8-dd46-41f5-b8c0-51067ebe7b7c",
     "showTitle": false,
     "title": ""
    }
   },
   "outputs": [],
   "source": [
    "from pyspark.sql.types import StructType, StructField, StringType, IntegerType, FloatType"
   ]
  },
  {
   "cell_type": "code",
   "execution_count": 0,
   "metadata": {
    "application/vnd.databricks.v1+cell": {
     "cellMetadata": {
      "byteLimit": 2048000,
      "rowLimit": 10000
     },
     "inputWidgets": {},
     "nuid": "4074e736-e6e4-4feb-bd86-d0860fdfca80",
     "showTitle": false,
     "title": ""
    }
   },
   "outputs": [],
   "source": [
    "results_schema = StructType([\n",
    "    StructField('resultId', IntegerType(), False),\n",
    "    StructField('raceId', IntegerType(), False),\n",
    "    StructField('driverId', IntegerType(), False),\n",
    "    StructField('constructorId', IntegerType(), False),\n",
    "    StructField('number', IntegerType(), True),\n",
    "    StructField('grid', IntegerType(), False),\n",
    "    StructField('position', IntegerType(), True),\n",
    "    StructField('positionText', StringType(), False),\n",
    "    StructField('positionOrder', IntegerType(), False),\n",
    "    StructField('points', FloatType(), False),\n",
    "    StructField('laps', IntegerType(), False),\n",
    "    StructField('time', StringType(), True),\n",
    "    StructField('milliseconds', IntegerType(), True),\n",
    "    StructField('fastestLap', IntegerType(), True),\n",
    "    StructField('rank', IntegerType(), True),\n",
    "    StructField('fastestLapTime', StringType(), True),\n",
    "    StructField('fastestLapSpeed', StringType(), True),\n",
    "    StructField('statusId', StringType(), False)\n",
    "])"
   ]
  },
  {
   "cell_type": "code",
   "execution_count": 0,
   "metadata": {
    "application/vnd.databricks.v1+cell": {
     "cellMetadata": {
      "byteLimit": 2048000,
      "rowLimit": 10000
     },
     "inputWidgets": {},
     "nuid": "a4331ba5-034f-4bb5-b323-31790680dda6",
     "showTitle": false,
     "title": ""
    }
   },
   "outputs": [],
   "source": [
    "results_df = spark.read \\\n",
    "    .option('inferSchema', 'false') \\\n",
    "    .schema(results_schema) \\\n",
    "    .json(f'{raw_folder_path}/{param_file_date}/results.json')"
   ]
  },
  {
   "cell_type": "code",
   "execution_count": 0,
   "metadata": {
    "application/vnd.databricks.v1+cell": {
     "cellMetadata": {
      "byteLimit": 2048000,
      "rowLimit": 10000
     },
     "inputWidgets": {},
     "nuid": "061a96f0-37b4-4d1f-9013-d240630cae49",
     "showTitle": false,
     "title": ""
    }
   },
   "outputs": [
    {
     "output_type": "stream",
     "name": "stdout",
     "output_type": "stream",
     "text": [
      "root\n |-- resultId: integer (nullable = true)\n |-- raceId: integer (nullable = true)\n |-- driverId: integer (nullable = true)\n |-- constructorId: integer (nullable = true)\n |-- number: integer (nullable = true)\n |-- grid: integer (nullable = true)\n |-- position: integer (nullable = true)\n |-- positionText: string (nullable = true)\n |-- positionOrder: integer (nullable = true)\n |-- points: float (nullable = true)\n |-- laps: integer (nullable = true)\n |-- time: string (nullable = true)\n |-- milliseconds: integer (nullable = true)\n |-- fastestLap: integer (nullable = true)\n |-- rank: integer (nullable = true)\n |-- fastestLapTime: string (nullable = true)\n |-- fastestLapSpeed: string (nullable = true)\n |-- statusId: string (nullable = true)\n\n"
     ]
    }
   ],
   "source": [
    "results_df.printSchema()"
   ]
  },
  {
   "cell_type": "code",
   "execution_count": 0,
   "metadata": {
    "application/vnd.databricks.v1+cell": {
     "cellMetadata": {
      "byteLimit": 2048000,
      "rowLimit": 10000
     },
     "inputWidgets": {},
     "nuid": "128a929c-e337-4050-bb63-901fc82440d0",
     "showTitle": false,
     "title": ""
    }
   },
   "outputs": [
    {
     "output_type": "display_data",
     "data": {
      "text/html": [
       "<style scoped>\n",
       "  .table-result-container {\n",
       "    max-height: 300px;\n",
       "    overflow: auto;\n",
       "  }\n",
       "  table, th, td {\n",
       "    border: 1px solid black;\n",
       "    border-collapse: collapse;\n",
       "  }\n",
       "  th, td {\n",
       "    padding: 5px;\n",
       "  }\n",
       "  th {\n",
       "    text-align: left;\n",
       "  }\n",
       "</style><div class='table-result-container'><table class='table-result'><thead style='background-color: white'><tr><th>resultId</th><th>raceId</th><th>driverId</th><th>constructorId</th><th>number</th><th>grid</th><th>position</th><th>positionText</th><th>positionOrder</th><th>points</th><th>laps</th><th>time</th><th>milliseconds</th><th>fastestLap</th><th>rank</th><th>fastestLapTime</th><th>fastestLapSpeed</th><th>statusId</th></tr></thead><tbody><tr><td>24986</td><td>1053</td><td>830</td><td>9</td><td>33</td><td>3</td><td>1</td><td>1</td><td>1</td><td>25.0</td><td>63</td><td>2:02:34.598</td><td>7354598</td><td>60</td><td>2</td><td>1:17.524</td><td>227.96</td><td>1</td></tr><tr><td>24987</td><td>1053</td><td>1</td><td>131</td><td>44</td><td>1</td><td>2</td><td>2</td><td>2</td><td>19.0</td><td>63</td><td>+22.000</td><td>7376598</td><td>60</td><td>1</td><td>1:16.702</td><td>230.403</td><td>1</td></tr><tr><td>24988</td><td>1053</td><td>846</td><td>1</td><td>4</td><td>7</td><td>3</td><td>3</td><td>3</td><td>15.0</td><td>63</td><td>+23.702</td><td>7378300</td><td>63</td><td>3</td><td>1:18.259</td><td>225.819</td><td>1</td></tr><tr><td>24989</td><td>1053</td><td>844</td><td>6</td><td>16</td><td>4</td><td>4</td><td>4</td><td>4</td><td>12.0</td><td>63</td><td>+25.579</td><td>7380177</td><td>60</td><td>6</td><td>1:18.379</td><td>225.473</td><td>1</td></tr><tr><td>24990</td><td>1053</td><td>832</td><td>6</td><td>55</td><td>11</td><td>5</td><td>5</td><td>5</td><td>10.0</td><td>63</td><td>+27.036</td><td>7381634</td><td>60</td><td>7</td><td>1:18.490</td><td>225.154</td><td>1</td></tr><tr><td>24991</td><td>1053</td><td>817</td><td>1</td><td>3</td><td>6</td><td>6</td><td>6</td><td>6</td><td>8.0</td><td>63</td><td>+51.220</td><td>7405818</td><td>54</td><td>12</td><td>1:19.341</td><td>222.739</td><td>1</td></tr><tr><td>24992</td><td>1053</td><td>842</td><td>213</td><td>10</td><td>5</td><td>7</td><td>7</td><td>7</td><td>6.0</td><td>63</td><td>+52.818</td><td>7407416</td><td>52</td><td>9</td><td>1:18.994</td><td>223.718</td><td>1</td></tr><tr><td>24993</td><td>1053</td><td>840</td><td>117</td><td>18</td><td>10</td><td>8</td><td>8</td><td>8</td><td>4.0</td><td>63</td><td>+56.909</td><td>7411507</td><td>59</td><td>8</td><td>1:18.782</td><td>224.32</td><td>1</td></tr><tr><td>24994</td><td>1053</td><td>839</td><td>214</td><td>31</td><td>9</td><td>9</td><td>9</td><td>9</td><td>2.0</td><td>63</td><td>+65.704</td><td>7420302</td><td>62</td><td>15</td><td>1:19.422</td><td>222.512</td><td>1</td></tr><tr><td>24995</td><td>1053</td><td>4</td><td>214</td><td>14</td><td>15</td><td>10</td><td>10</td><td>10</td><td>1.0</td><td>63</td><td>+66.561</td><td>7421159</td><td>62</td><td>14</td><td>1:19.417</td><td>222.526</td><td>1</td></tr></tbody></table></div>"
      ]
     },
     "metadata": {
      "application/vnd.databricks.v1+output": {
       "addedWidgets": {},
       "aggData": [],
       "aggError": "",
       "aggOverflow": false,
       "aggSchema": [],
       "aggSeriesLimitReached": false,
       "aggType": "",
       "arguments": {},
       "columnCustomDisplayInfos": {},
       "data": [
        [
         24986,
         1053,
         830,
         9,
         33,
         3,
         1,
         "1",
         1,
         25.0,
         63,
         "2:02:34.598",
         7354598,
         60,
         2,
         "1:17.524",
         "227.96",
         "1"
        ],
        [
         24987,
         1053,
         1,
         131,
         44,
         1,
         2,
         "2",
         2,
         19.0,
         63,
         "+22.000",
         7376598,
         60,
         1,
         "1:16.702",
         "230.403",
         "1"
        ],
        [
         24988,
         1053,
         846,
         1,
         4,
         7,
         3,
         "3",
         3,
         15.0,
         63,
         "+23.702",
         7378300,
         63,
         3,
         "1:18.259",
         "225.819",
         "1"
        ],
        [
         24989,
         1053,
         844,
         6,
         16,
         4,
         4,
         "4",
         4,
         12.0,
         63,
         "+25.579",
         7380177,
         60,
         6,
         "1:18.379",
         "225.473",
         "1"
        ],
        [
         24990,
         1053,
         832,
         6,
         55,
         11,
         5,
         "5",
         5,
         10.0,
         63,
         "+27.036",
         7381634,
         60,
         7,
         "1:18.490",
         "225.154",
         "1"
        ],
        [
         24991,
         1053,
         817,
         1,
         3,
         6,
         6,
         "6",
         6,
         8.0,
         63,
         "+51.220",
         7405818,
         54,
         12,
         "1:19.341",
         "222.739",
         "1"
        ],
        [
         24992,
         1053,
         842,
         213,
         10,
         5,
         7,
         "7",
         7,
         6.0,
         63,
         "+52.818",
         7407416,
         52,
         9,
         "1:18.994",
         "223.718",
         "1"
        ],
        [
         24993,
         1053,
         840,
         117,
         18,
         10,
         8,
         "8",
         8,
         4.0,
         63,
         "+56.909",
         7411507,
         59,
         8,
         "1:18.782",
         "224.32",
         "1"
        ],
        [
         24994,
         1053,
         839,
         214,
         31,
         9,
         9,
         "9",
         9,
         2.0,
         63,
         "+65.704",
         7420302,
         62,
         15,
         "1:19.422",
         "222.512",
         "1"
        ],
        [
         24995,
         1053,
         4,
         214,
         14,
         15,
         10,
         "10",
         10,
         1.0,
         63,
         "+66.561",
         7421159,
         62,
         14,
         "1:19.417",
         "222.526",
         "1"
        ]
       ],
       "datasetInfos": [],
       "dbfsResultPath": null,
       "isJsonSchema": true,
       "metadata": {},
       "overflow": false,
       "plotOptions": {
        "customPlotOptions": {},
        "displayType": "table",
        "pivotAggregation": null,
        "pivotColumns": null,
        "xColumns": null,
        "yColumns": null
       },
       "removedWidgets": [],
       "schema": [
        {
         "metadata": "{}",
         "name": "resultId",
         "type": "\"integer\""
        },
        {
         "metadata": "{}",
         "name": "raceId",
         "type": "\"integer\""
        },
        {
         "metadata": "{}",
         "name": "driverId",
         "type": "\"integer\""
        },
        {
         "metadata": "{}",
         "name": "constructorId",
         "type": "\"integer\""
        },
        {
         "metadata": "{}",
         "name": "number",
         "type": "\"integer\""
        },
        {
         "metadata": "{}",
         "name": "grid",
         "type": "\"integer\""
        },
        {
         "metadata": "{}",
         "name": "position",
         "type": "\"integer\""
        },
        {
         "metadata": "{}",
         "name": "positionText",
         "type": "\"string\""
        },
        {
         "metadata": "{}",
         "name": "positionOrder",
         "type": "\"integer\""
        },
        {
         "metadata": "{}",
         "name": "points",
         "type": "\"float\""
        },
        {
         "metadata": "{}",
         "name": "laps",
         "type": "\"integer\""
        },
        {
         "metadata": "{}",
         "name": "time",
         "type": "\"string\""
        },
        {
         "metadata": "{}",
         "name": "milliseconds",
         "type": "\"integer\""
        },
        {
         "metadata": "{}",
         "name": "fastestLap",
         "type": "\"integer\""
        },
        {
         "metadata": "{}",
         "name": "rank",
         "type": "\"integer\""
        },
        {
         "metadata": "{}",
         "name": "fastestLapTime",
         "type": "\"string\""
        },
        {
         "metadata": "{}",
         "name": "fastestLapSpeed",
         "type": "\"string\""
        },
        {
         "metadata": "{}",
         "name": "statusId",
         "type": "\"string\""
        }
       ],
       "type": "table"
      }
     },
     "output_type": "display_data"
    }
   ],
   "source": [
    "display(results_df.limit(10))"
   ]
  },
  {
   "cell_type": "markdown",
   "metadata": {
    "application/vnd.databricks.v1+cell": {
     "cellMetadata": {
      "byteLimit": 2048000,
      "rowLimit": 10000
     },
     "inputWidgets": {},
     "nuid": "c4e19a54-0af0-4e62-841a-39ee31ec372a",
     "showTitle": false,
     "title": ""
    }
   },
   "source": [
    "# 2. Reform the schema:\n",
    "- rename ids, position and lap attributes to snake_case convention\n",
    "- add ingestion date\n",
    "- get rid of status column"
   ]
  },
  {
   "cell_type": "code",
   "execution_count": 0,
   "metadata": {
    "application/vnd.databricks.v1+cell": {
     "cellMetadata": {
      "byteLimit": 2048000,
      "rowLimit": 10000
     },
     "inputWidgets": {},
     "nuid": "697011e9-c544-4581-ba62-a8e68dc3127d",
     "showTitle": false,
     "title": ""
    }
   },
   "outputs": [],
   "source": [
    "from pyspark.sql.functions import current_timestamp, lit, desc"
   ]
  },
  {
   "cell_type": "code",
   "execution_count": 0,
   "metadata": {
    "application/vnd.databricks.v1+cell": {
     "cellMetadata": {
      "byteLimit": 2048000,
      "rowLimit": 10000
     },
     "inputWidgets": {},
     "nuid": "590b8097-9eaa-4f1b-b231-2bb5fb0b224b",
     "showTitle": false,
     "title": ""
    }
   },
   "outputs": [],
   "source": [
    "results_df = results_df \\\n",
    "  .withColumnRenamed('resultId', 'result_id') \\\n",
    "  .withColumnRenamed('raceId', 'race_id') \\\n",
    "  .withColumnRenamed('driverId', 'driver_id') \\\n",
    "  .withColumnRenamed('constructorId', 'constructor_id') \\\n",
    "  .withColumnRenamed('positionText', 'position_text') \\\n",
    "  .withColumnRenamed('positionOrder', 'position_order') \\\n",
    "  .withColumnRenamed('fastestLap', 'fastest_lap') \\\n",
    "  .withColumnRenamed('fastestLapTime', 'fastest_lap_time') \\\n",
    "  .withColumnRenamed('fastestLapSpeed', 'fastest_lap_speed') \\\n",
    "  .withColumn('data_source', lit(param_data_source)) \\\n",
    "  .withColumn('file_date', lit(param_file_date))\\\n",
    "  .withColumn('ingestion_date', current_timestamp()) \\\n",
    "  .dropDuplicates(['race_id', 'driver_id'])\\\n",
    "  .drop('statusId')"
   ]
  },
  {
   "cell_type": "code",
   "execution_count": 0,
   "metadata": {
    "application/vnd.databricks.v1+cell": {
     "cellMetadata": {
      "byteLimit": 2048000,
      "rowLimit": 10000
     },
     "inputWidgets": {},
     "nuid": "5f330067-aec4-423d-abe5-6bb9dcdfb67b",
     "showTitle": false,
     "title": ""
    }
   },
   "outputs": [
    {
     "output_type": "display_data",
     "data": {
      "text/html": [
       "<style scoped>\n",
       "  .table-result-container {\n",
       "    max-height: 300px;\n",
       "    overflow: auto;\n",
       "  }\n",
       "  table, th, td {\n",
       "    border: 1px solid black;\n",
       "    border-collapse: collapse;\n",
       "  }\n",
       "  th, td {\n",
       "    padding: 5px;\n",
       "  }\n",
       "  th {\n",
       "    text-align: left;\n",
       "  }\n",
       "</style><div class='table-result-container'><table class='table-result'><thead style='background-color: white'><tr><th>result_id</th><th>race_id</th><th>driver_id</th><th>constructor_id</th><th>number</th><th>grid</th><th>position</th><th>position_text</th><th>position_order</th><th>points</th><th>laps</th><th>time</th><th>milliseconds</th><th>fastest_lap</th><th>rank</th><th>fastest_lap_time</th><th>fastest_lap_speed</th><th>data_source</th><th>file_date</th><th>ingestion_date</th></tr></thead><tbody><tr><td>24987</td><td>1053</td><td>1</td><td>131</td><td>44</td><td>1</td><td>2</td><td>2</td><td>2</td><td>19.0</td><td>63</td><td>+22.000</td><td>7376598</td><td>60</td><td>1</td><td>1:16.702</td><td>230.403</td><td></td><td>2021-04-18</td><td>2024-09-06T08:25:50.69Z</td></tr><tr><td>24995</td><td>1053</td><td>4</td><td>214</td><td>14</td><td>15</td><td>10</td><td>10</td><td>10</td><td>1.0</td><td>63</td><td>+66.561</td><td>7421159</td><td>62</td><td>14</td><td>1:19.417</td><td>222.526</td><td></td><td>2021-04-18</td><td>2024-09-06T08:25:50.69Z</td></tr><tr><td>24998</td><td>1053</td><td>8</td><td>51</td><td>7</td><td>16</td><td>13</td><td>13</td><td>13</td><td>0.0</td><td>63</td><td>+94.773</td><td>7449371</td><td>62</td><td>5</td><td>1:18.353</td><td>225.548</td><td></td><td>2021-04-18</td><td>2024-09-06T08:25:50.69Z</td></tr><tr><td>25000</td><td>1053</td><td>20</td><td>117</td><td>5</td><td>0</td><td>15</td><td>15</td><td>15</td><td>0.0</td><td>61</td><td>\\N</td><td>null</td><td>59</td><td>10</td><td>1:19.074</td><td>223.491</td><td></td><td>2021-04-18</td><td>2024-09-06T08:25:50.69Z</td></tr><tr><td>24996</td><td>1053</td><td>815</td><td>9</td><td>11</td><td>2</td><td>11</td><td>11</td><td>11</td><td>0.0</td><td>63</td><td>+67.151</td><td>7421749</td><td>62</td><td>13</td><td>1:19.396</td><td>222.585</td><td></td><td>2021-04-18</td><td>2024-09-06T08:25:50.69Z</td></tr><tr><td>24991</td><td>1053</td><td>817</td><td>1</td><td>3</td><td>6</td><td>6</td><td>6</td><td>6</td><td>8.0</td><td>63</td><td>+51.220</td><td>7405818</td><td>54</td><td>12</td><td>1:19.341</td><td>222.739</td><td></td><td>2021-04-18</td><td>2024-09-06T08:25:50.69Z</td></tr><tr><td>25003</td><td>1053</td><td>822</td><td>131</td><td>77</td><td>8</td><td>null</td><td>R</td><td>18</td><td>0.0</td><td>30</td><td>\\N</td><td>null</td><td>30</td><td>19</td><td>1:28.485</td><td>199.721</td><td></td><td>2021-04-18</td><td>2024-09-06T08:25:50.69Z</td></tr><tr><td>24986</td><td>1053</td><td>830</td><td>9</td><td>33</td><td>3</td><td>1</td><td>1</td><td>1</td><td>25.0</td><td>63</td><td>2:02:34.598</td><td>7354598</td><td>60</td><td>2</td><td>1:17.524</td><td>227.96</td><td></td><td>2021-04-18</td><td>2024-09-06T08:25:50.69Z</td></tr><tr><td>24990</td><td>1053</td><td>832</td><td>6</td><td>55</td><td>11</td><td>5</td><td>5</td><td>5</td><td>10.0</td><td>63</td><td>+27.036</td><td>7381634</td><td>60</td><td>7</td><td>1:18.490</td><td>225.154</td><td></td><td>2021-04-18</td><td>2024-09-06T08:25:50.69Z</td></tr><tr><td>24994</td><td>1053</td><td>839</td><td>214</td><td>31</td><td>9</td><td>9</td><td>9</td><td>9</td><td>2.0</td><td>63</td><td>+65.704</td><td>7420302</td><td>62</td><td>15</td><td>1:19.422</td><td>222.512</td><td></td><td>2021-04-18</td><td>2024-09-06T08:25:50.69Z</td></tr></tbody></table></div>"
      ]
     },
     "metadata": {
      "application/vnd.databricks.v1+output": {
       "addedWidgets": {},
       "aggData": [],
       "aggError": "",
       "aggOverflow": false,
       "aggSchema": [],
       "aggSeriesLimitReached": false,
       "aggType": "",
       "arguments": {},
       "columnCustomDisplayInfos": {},
       "data": [
        [
         24987,
         1053,
         1,
         131,
         44,
         1,
         2,
         "2",
         2,
         19.0,
         63,
         "+22.000",
         7376598,
         60,
         1,
         "1:16.702",
         "230.403",
         "",
         "2021-04-18",
         "2024-09-06T08:25:50.69Z"
        ],
        [
         24995,
         1053,
         4,
         214,
         14,
         15,
         10,
         "10",
         10,
         1.0,
         63,
         "+66.561",
         7421159,
         62,
         14,
         "1:19.417",
         "222.526",
         "",
         "2021-04-18",
         "2024-09-06T08:25:50.69Z"
        ],
        [
         24998,
         1053,
         8,
         51,
         7,
         16,
         13,
         "13",
         13,
         0.0,
         63,
         "+94.773",
         7449371,
         62,
         5,
         "1:18.353",
         "225.548",
         "",
         "2021-04-18",
         "2024-09-06T08:25:50.69Z"
        ],
        [
         25000,
         1053,
         20,
         117,
         5,
         0,
         15,
         "15",
         15,
         0.0,
         61,
         "\\N",
         null,
         59,
         10,
         "1:19.074",
         "223.491",
         "",
         "2021-04-18",
         "2024-09-06T08:25:50.69Z"
        ],
        [
         24996,
         1053,
         815,
         9,
         11,
         2,
         11,
         "11",
         11,
         0.0,
         63,
         "+67.151",
         7421749,
         62,
         13,
         "1:19.396",
         "222.585",
         "",
         "2021-04-18",
         "2024-09-06T08:25:50.69Z"
        ],
        [
         24991,
         1053,
         817,
         1,
         3,
         6,
         6,
         "6",
         6,
         8.0,
         63,
         "+51.220",
         7405818,
         54,
         12,
         "1:19.341",
         "222.739",
         "",
         "2021-04-18",
         "2024-09-06T08:25:50.69Z"
        ],
        [
         25003,
         1053,
         822,
         131,
         77,
         8,
         null,
         "R",
         18,
         0.0,
         30,
         "\\N",
         null,
         30,
         19,
         "1:28.485",
         "199.721",
         "",
         "2021-04-18",
         "2024-09-06T08:25:50.69Z"
        ],
        [
         24986,
         1053,
         830,
         9,
         33,
         3,
         1,
         "1",
         1,
         25.0,
         63,
         "2:02:34.598",
         7354598,
         60,
         2,
         "1:17.524",
         "227.96",
         "",
         "2021-04-18",
         "2024-09-06T08:25:50.69Z"
        ],
        [
         24990,
         1053,
         832,
         6,
         55,
         11,
         5,
         "5",
         5,
         10.0,
         63,
         "+27.036",
         7381634,
         60,
         7,
         "1:18.490",
         "225.154",
         "",
         "2021-04-18",
         "2024-09-06T08:25:50.69Z"
        ],
        [
         24994,
         1053,
         839,
         214,
         31,
         9,
         9,
         "9",
         9,
         2.0,
         63,
         "+65.704",
         7420302,
         62,
         15,
         "1:19.422",
         "222.512",
         "",
         "2021-04-18",
         "2024-09-06T08:25:50.69Z"
        ]
       ],
       "datasetInfos": [],
       "dbfsResultPath": null,
       "isJsonSchema": true,
       "metadata": {},
       "overflow": false,
       "plotOptions": {
        "customPlotOptions": {},
        "displayType": "table",
        "pivotAggregation": null,
        "pivotColumns": null,
        "xColumns": null,
        "yColumns": null
       },
       "removedWidgets": [],
       "schema": [
        {
         "metadata": "{}",
         "name": "result_id",
         "type": "\"integer\""
        },
        {
         "metadata": "{}",
         "name": "race_id",
         "type": "\"integer\""
        },
        {
         "metadata": "{}",
         "name": "driver_id",
         "type": "\"integer\""
        },
        {
         "metadata": "{}",
         "name": "constructor_id",
         "type": "\"integer\""
        },
        {
         "metadata": "{}",
         "name": "number",
         "type": "\"integer\""
        },
        {
         "metadata": "{}",
         "name": "grid",
         "type": "\"integer\""
        },
        {
         "metadata": "{}",
         "name": "position",
         "type": "\"integer\""
        },
        {
         "metadata": "{}",
         "name": "position_text",
         "type": "\"string\""
        },
        {
         "metadata": "{}",
         "name": "position_order",
         "type": "\"integer\""
        },
        {
         "metadata": "{}",
         "name": "points",
         "type": "\"float\""
        },
        {
         "metadata": "{}",
         "name": "laps",
         "type": "\"integer\""
        },
        {
         "metadata": "{}",
         "name": "time",
         "type": "\"string\""
        },
        {
         "metadata": "{}",
         "name": "milliseconds",
         "type": "\"integer\""
        },
        {
         "metadata": "{}",
         "name": "fastest_lap",
         "type": "\"integer\""
        },
        {
         "metadata": "{}",
         "name": "rank",
         "type": "\"integer\""
        },
        {
         "metadata": "{}",
         "name": "fastest_lap_time",
         "type": "\"string\""
        },
        {
         "metadata": "{}",
         "name": "fastest_lap_speed",
         "type": "\"string\""
        },
        {
         "metadata": "{}",
         "name": "data_source",
         "type": "\"string\""
        },
        {
         "metadata": "{}",
         "name": "file_date",
         "type": "\"string\""
        },
        {
         "metadata": "{}",
         "name": "ingestion_date",
         "type": "\"timestamp\""
        }
       ],
       "type": "table"
      }
     },
     "output_type": "display_data"
    }
   ],
   "source": [
    "display(results_df.limit(10))"
   ]
  },
  {
   "cell_type": "markdown",
   "metadata": {
    "application/vnd.databricks.v1+cell": {
     "cellMetadata": {
      "byteLimit": 2048000,
      "rowLimit": 10000
     },
     "inputWidgets": {},
     "nuid": "03a34c0e-e180-4e75-9ca7-be023533581f",
     "showTitle": false,
     "title": ""
    }
   },
   "source": [
    "# 3. Save and read from parquet"
   ]
  },
  {
   "cell_type": "code",
   "execution_count": 0,
   "metadata": {
    "application/vnd.databricks.v1+cell": {
     "cellMetadata": {
      "byteLimit": 2048000,
      "rowLimit": 10000
     },
     "inputWidgets": {},
     "nuid": "f627fd6b-1901-4cd0-8e06-b2ea8178e310",
     "showTitle": false,
     "title": ""
    }
   },
   "outputs": [],
   "source": [
    "merge_condition = 'target.result_id = source.result_id and target.race_id = source.race_id'\n",
    "upsert_to_delta_table('f1_processed', 'results', processed_folder_path, results_df, merge_condition, 'race_id')"
   ]
  },
  {
   "cell_type": "code",
   "execution_count": 0,
   "metadata": {
    "application/vnd.databricks.v1+cell": {
     "cellMetadata": {
      "byteLimit": 2048000,
      "rowLimit": 10000
     },
     "inputWidgets": {},
     "nuid": "58096aa7-7bfb-42d8-b286-7116f81d5781",
     "showTitle": false,
     "title": ""
    }
   },
   "outputs": [
    {
     "output_type": "display_data",
     "data": {
      "text/html": [
       "<style scoped>\n",
       "  .table-result-container {\n",
       "    max-height: 300px;\n",
       "    overflow: auto;\n",
       "  }\n",
       "  table, th, td {\n",
       "    border: 1px solid black;\n",
       "    border-collapse: collapse;\n",
       "  }\n",
       "  th, td {\n",
       "    padding: 5px;\n",
       "  }\n",
       "  th {\n",
       "    text-align: left;\n",
       "  }\n",
       "</style><div class='table-result-container'><table class='table-result'><thead style='background-color: white'><tr><th>race_id</th><th>count</th></tr></thead><tbody><tr><td>1053</td><td>20</td></tr></tbody></table></div>"
      ]
     },
     "metadata": {
      "application/vnd.databricks.v1+output": {
       "addedWidgets": {},
       "aggData": [],
       "aggError": "",
       "aggOverflow": false,
       "aggSchema": [],
       "aggSeriesLimitReached": false,
       "aggType": "",
       "arguments": {},
       "columnCustomDisplayInfos": {},
       "data": [
        [
         1053,
         20
        ]
       ],
       "datasetInfos": [],
       "dbfsResultPath": null,
       "isJsonSchema": true,
       "metadata": {},
       "overflow": false,
       "plotOptions": {
        "customPlotOptions": {},
        "displayType": "table",
        "pivotAggregation": null,
        "pivotColumns": null,
        "xColumns": null,
        "yColumns": null
       },
       "removedWidgets": [],
       "schema": [
        {
         "metadata": "{}",
         "name": "race_id",
         "type": "\"integer\""
        },
        {
         "metadata": "{}",
         "name": "count",
         "type": "\"long\""
        }
       ],
       "type": "table"
      }
     },
     "output_type": "display_data"
    }
   ],
   "source": [
    "results_df = spark.read.table('f1_processed.results')\n",
    "display(results_df.groupBy('race_id').count().orderBy(desc('race_id')))"
   ]
  },
  {
   "cell_type": "code",
   "execution_count": 0,
   "metadata": {
    "application/vnd.databricks.v1+cell": {
     "cellMetadata": {
      "byteLimit": 2048000,
      "rowLimit": 10000
     },
     "inputWidgets": {},
     "nuid": "1fdaa4cb-01c0-4de8-a2b4-cd6f59692cf2",
     "showTitle": false,
     "title": ""
    }
   },
   "outputs": [],
   "source": [
    "dbutils.notebook.exit('success')"
   ]
  }
 ],
 "metadata": {
  "application/vnd.databricks.v1+notebook": {
   "dashboards": [],
   "environmentMetadata": {
    "base_environment": "",
    "client": "1"
   },
   "language": "python",
   "notebookMetadata": {
    "mostRecentlyExecutedCommandWithImplicitDF": {
     "commandId": 3337447124708744,
     "dataframes": [
      "_sqldf"
     ]
    },
    "pythonIndentUnit": 4
   },
   "notebookName": "5_ingest_results_file",
   "widgets": {
    "p_data_source": {
     "currentValue": "",
     "nuid": "5276cd42-53fa-4f3f-98a0-af6c59318252",
     "typedWidgetInfo": {
      "autoCreated": false,
      "defaultValue": "",
      "label": null,
      "name": "p_data_source",
      "options": {
       "widgetDisplayType": "Text",
       "validationRegex": null
      },
      "parameterDataType": "String"
     },
     "widgetInfo": {
      "widgetType": "text",
      "defaultValue": "",
      "label": null,
      "name": "p_data_source",
      "options": {
       "widgetType": "text",
       "autoCreated": null,
       "validationRegex": null
      }
     }
    },
    "p_file_date": {
     "currentValue": "2021-04-18",
     "nuid": "866d7103-3357-44c5-8bc0-e26f6fab8f7b",
     "typedWidgetInfo": {
      "autoCreated": false,
      "defaultValue": "2021-03-21",
      "label": null,
      "name": "p_file_date",
      "options": {
       "widgetDisplayType": "Text",
       "validationRegex": null
      },
      "parameterDataType": "String"
     },
     "widgetInfo": {
      "widgetType": "text",
      "defaultValue": "2021-03-21",
      "label": null,
      "name": "p_file_date",
      "options": {
       "widgetType": "text",
       "autoCreated": null,
       "validationRegex": null
      }
     }
    }
   }
  }
 },
 "nbformat": 4,
 "nbformat_minor": 0
}
