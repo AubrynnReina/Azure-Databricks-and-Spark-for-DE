{
 "cells": [
  {
   "cell_type": "markdown",
   "metadata": {
    "application/vnd.databricks.v1+cell": {
     "cellMetadata": {
      "byteLimit": 2048000,
      "rowLimit": 10000
     },
     "inputWidgets": {},
     "nuid": "67960185-e7a2-4a7f-9116-e0c0e0befe60",
     "showTitle": false,
     "title": ""
    }
   },
   "source": [
    "# 0. Get configuration parameters and functions"
   ]
  },
  {
   "cell_type": "code",
   "execution_count": 0,
   "metadata": {
    "application/vnd.databricks.v1+cell": {
     "cellMetadata": {
      "byteLimit": 2048000,
      "rowLimit": 10000
     },
     "inputWidgets": {},
     "nuid": "3af94131-9779-47b5-9369-e2096017ce07",
     "showTitle": false,
     "title": ""
    }
   },
   "outputs": [],
   "source": [
    "%run \"../includes/configuration\""
   ]
  },
  {
   "cell_type": "code",
   "execution_count": 0,
   "metadata": {
    "application/vnd.databricks.v1+cell": {
     "cellMetadata": {
      "byteLimit": 2048000,
      "rowLimit": 10000
     },
     "inputWidgets": {},
     "nuid": "fb250764-e7ab-4e62-8e73-2b07e9441ea7",
     "showTitle": false,
     "title": ""
    }
   },
   "outputs": [
    {
     "output_type": "execute_result",
     "data": {
      "text/plain": [
       "'abfss://raw@aubdbcourse.dfs.core.windows.net'"
      ]
     },
     "execution_count": 21,
     "metadata": {},
     "output_type": "execute_result"
    }
   ],
   "source": [
    "raw_folder_path"
   ]
  },
  {
   "cell_type": "code",
   "execution_count": 0,
   "metadata": {
    "application/vnd.databricks.v1+cell": {
     "cellMetadata": {
      "byteLimit": 2048000,
      "rowLimit": 10000
     },
     "inputWidgets": {},
     "nuid": "a36bb4cb-ae8b-4d58-8e97-cec94ef28751",
     "showTitle": false,
     "title": ""
    }
   },
   "outputs": [],
   "source": [
    "%run \"../includes/common_functions\""
   ]
  },
  {
   "cell_type": "code",
   "execution_count": 0,
   "metadata": {
    "application/vnd.databricks.v1+cell": {
     "cellMetadata": {},
     "inputWidgets": {},
     "nuid": "13e96602-8a08-4901-80c0-ecea569b78dc",
     "showTitle": false,
     "title": ""
    }
   },
   "outputs": [
    {
     "output_type": "display_data",
     "data": {
      "text/html": [
       "<style scoped>\n",
       "  .ansiout {\n",
       "    display: block;\n",
       "    unicode-bidi: embed;\n",
       "    white-space: pre-wrap;\n",
       "    word-wrap: break-word;\n",
       "    word-break: break-all;\n",
       "    font-family: \"Menlo\", \"Monaco\", \"Consolas\", \"Ubuntu Mono\", \"Source Code Pro\", monospace;\n",
       "    font-size: 13px;\n",
       "    color: #555;\n",
       "    margin-left: 4px;\n",
       "    line-height: 19px;\n",
       "  }\n",
       "</style>\n",
       "\u001B[0;31m---------------------------------------------------------------------------\u001B[0m\n",
       "\u001B[0;31mAttributeError\u001B[0m                            Traceback (most recent call last)\n",
       "File \u001B[0;32m<command-607396171754180>, line 1\u001B[0m\n",
       "\u001B[0;32m----> 1\u001B[0m dbutils\u001B[38;5;241m.\u001B[39mwidget\u001B[38;5;241m.\u001B[39mtext(\u001B[38;5;124m'\u001B[39m\u001B[38;5;124mp_data_source\u001B[39m\u001B[38;5;124m'\u001B[39m, \u001B[38;5;124m'\u001B[39m\u001B[38;5;124m'\u001B[39m)\n",
       "\u001B[1;32m      2\u001B[0m param_data_source \u001B[38;5;241m=\u001B[39m dbutils\u001B[38;5;241m.\u001B[39mwidget\u001B[38;5;241m.\u001B[39mget(\u001B[38;5;124m'\u001B[39m\u001B[38;5;124mp_data_source\u001B[39m\u001B[38;5;124m'\u001B[39m)\n",
       "\n",
       "File \u001B[0;32m/databricks/python_shell/dbruntime/dbutils.py:601\u001B[0m, in \u001B[0;36mDBUtils.__getattr__\u001B[0;34m(self, item)\u001B[0m\n",
       "\u001B[1;32m    598\u001B[0m     \u001B[38;5;28mself\u001B[39m\u001B[38;5;241m.\u001B[39mdata \u001B[38;5;241m=\u001B[39m DataHandler(\u001B[38;5;28mself\u001B[39m\u001B[38;5;241m.\u001B[39mentry_point, \u001B[38;5;28mself\u001B[39m\u001B[38;5;241m.\u001B[39mdisplayHTML, \u001B[38;5;28mself\u001B[39m\u001B[38;5;241m.\u001B[39msqlContext)\n",
       "\u001B[1;32m    599\u001B[0m     \u001B[38;5;28;01mreturn\u001B[39;00m \u001B[38;5;28mself\u001B[39m\u001B[38;5;241m.\u001B[39mdata\n",
       "\u001B[0;32m--> 601\u001B[0m \u001B[38;5;28;01mraise\u001B[39;00m \u001B[38;5;167;01mAttributeError\u001B[39;00m\n",
       "\n",
       "\u001B[0;31mAttributeError\u001B[0m:"
      ]
     },
     "metadata": {
      "application/vnd.databricks.v1+output": {
       "arguments": {},
       "data": "\u001B[0;31m---------------------------------------------------------------------------\u001B[0m\n\u001B[0;31mAttributeError\u001B[0m                            Traceback (most recent call last)\nFile \u001B[0;32m<command-607396171754180>, line 1\u001B[0m\n\u001B[0;32m----> 1\u001B[0m dbutils\u001B[38;5;241m.\u001B[39mwidget\u001B[38;5;241m.\u001B[39mtext(\u001B[38;5;124m'\u001B[39m\u001B[38;5;124mp_data_source\u001B[39m\u001B[38;5;124m'\u001B[39m, \u001B[38;5;124m'\u001B[39m\u001B[38;5;124m'\u001B[39m)\n\u001B[1;32m      2\u001B[0m param_data_source \u001B[38;5;241m=\u001B[39m dbutils\u001B[38;5;241m.\u001B[39mwidget\u001B[38;5;241m.\u001B[39mget(\u001B[38;5;124m'\u001B[39m\u001B[38;5;124mp_data_source\u001B[39m\u001B[38;5;124m'\u001B[39m)\n\nFile \u001B[0;32m/databricks/python_shell/dbruntime/dbutils.py:601\u001B[0m, in \u001B[0;36mDBUtils.__getattr__\u001B[0;34m(self, item)\u001B[0m\n\u001B[1;32m    598\u001B[0m     \u001B[38;5;28mself\u001B[39m\u001B[38;5;241m.\u001B[39mdata \u001B[38;5;241m=\u001B[39m DataHandler(\u001B[38;5;28mself\u001B[39m\u001B[38;5;241m.\u001B[39mentry_point, \u001B[38;5;28mself\u001B[39m\u001B[38;5;241m.\u001B[39mdisplayHTML, \u001B[38;5;28mself\u001B[39m\u001B[38;5;241m.\u001B[39msqlContext)\n\u001B[1;32m    599\u001B[0m     \u001B[38;5;28;01mreturn\u001B[39;00m \u001B[38;5;28mself\u001B[39m\u001B[38;5;241m.\u001B[39mdata\n\u001B[0;32m--> 601\u001B[0m \u001B[38;5;28;01mraise\u001B[39;00m \u001B[38;5;167;01mAttributeError\u001B[39;00m\n\n\u001B[0;31mAttributeError\u001B[0m: ",
       "errorSummary": "<span class='ansi-red-fg'>AttributeError</span>: ",
       "errorTraceType": null,
       "metadata": {},
       "type": "ipynbError"
      }
     },
     "output_type": "display_data"
    }
   ],
   "source": [
    "dbutils.widgets.text('p_data_source', '')\n",
    "param_data_source = dbutils.widgets.get('p_data_source')"
   ]
  },
  {
   "cell_type": "markdown",
   "metadata": {
    "application/vnd.databricks.v1+cell": {
     "cellMetadata": {
      "byteLimit": 2048000,
      "rowLimit": 10000
     },
     "inputWidgets": {},
     "nuid": "43ee2a59-48f8-4594-ba6e-7d7aeb6c5ef9",
     "showTitle": false,
     "title": ""
    }
   },
   "source": [
    "# 1. Read data from results.json"
   ]
  },
  {
   "cell_type": "code",
   "execution_count": 0,
   "metadata": {
    "application/vnd.databricks.v1+cell": {
     "cellMetadata": {
      "byteLimit": 2048000,
      "rowLimit": 10000
     },
     "inputWidgets": {},
     "nuid": "92d852a8-dd46-41f5-b8c0-51067ebe7b7c",
     "showTitle": false,
     "title": ""
    }
   },
   "outputs": [],
   "source": [
    "from pyspark.sql.types import StructType, StructField, StringType, IntegerType, FloatType"
   ]
  },
  {
   "cell_type": "code",
   "execution_count": 0,
   "metadata": {
    "application/vnd.databricks.v1+cell": {
     "cellMetadata": {
      "byteLimit": 2048000,
      "rowLimit": 10000
     },
     "inputWidgets": {},
     "nuid": "4074e736-e6e4-4feb-bd86-d0860fdfca80",
     "showTitle": false,
     "title": ""
    }
   },
   "outputs": [],
   "source": [
    "results_schema = StructType([\n",
    "    StructField('resultId', IntegerType(), False),\n",
    "    StructField('raceId', IntegerType(), False),\n",
    "    StructField('driverId', IntegerType(), False),\n",
    "    StructField('constructorId', IntegerType(), False),\n",
    "    StructField('number', IntegerType(), True),\n",
    "    StructField('grid', IntegerType(), False),\n",
    "    StructField('position', IntegerType(), True),\n",
    "    StructField('positionText', StringType(), False),\n",
    "    StructField('positionOrder', IntegerType(), False),\n",
    "    StructField('points', FloatType(), False),\n",
    "    StructField('laps', IntegerType(), False),\n",
    "    StructField('time', StringType(), True),\n",
    "    StructField('milliseconds', IntegerType(), True),\n",
    "    StructField('fastestLap', IntegerType(), True),\n",
    "    StructField('rank', IntegerType(), True),\n",
    "    StructField('fastestLapTime', StringType(), True),\n",
    "    StructField('fastestLapSpeed', StringType(), True),\n",
    "    StructField('statusId', StringType(), False)\n",
    "])"
   ]
  },
  {
   "cell_type": "code",
   "execution_count": 0,
   "metadata": {
    "application/vnd.databricks.v1+cell": {
     "cellMetadata": {
      "byteLimit": 2048000,
      "rowLimit": 10000
     },
     "inputWidgets": {},
     "nuid": "a4331ba5-034f-4bb5-b323-31790680dda6",
     "showTitle": false,
     "title": ""
    }
   },
   "outputs": [],
   "source": [
    "results_df = spark.read \\\n",
    "    .option('inferSchema', 'false') \\\n",
    "    .schema(results_schema) \\\n",
    "    .json(f'{raw_folder_path}/results.json')"
   ]
  },
  {
   "cell_type": "code",
   "execution_count": 0,
   "metadata": {
    "application/vnd.databricks.v1+cell": {
     "cellMetadata": {
      "byteLimit": 2048000,
      "rowLimit": 10000
     },
     "inputWidgets": {},
     "nuid": "061a96f0-37b4-4d1f-9013-d240630cae49",
     "showTitle": false,
     "title": ""
    }
   },
   "outputs": [
    {
     "output_type": "stream",
     "name": "stdout",
     "output_type": "stream",
     "text": [
      "root\n |-- resultId: integer (nullable = true)\n |-- raceId: integer (nullable = true)\n |-- driverId: integer (nullable = true)\n |-- constructorId: integer (nullable = true)\n |-- number: integer (nullable = true)\n |-- grid: integer (nullable = true)\n |-- position: integer (nullable = true)\n |-- positionText: string (nullable = true)\n |-- positionOrder: integer (nullable = true)\n |-- points: float (nullable = true)\n |-- laps: integer (nullable = true)\n |-- time: string (nullable = true)\n |-- milliseconds: integer (nullable = true)\n |-- fastestLap: integer (nullable = true)\n |-- rank: integer (nullable = true)\n |-- fastestLapTime: string (nullable = true)\n |-- fastestLapSpeed: string (nullable = true)\n |-- statusId: string (nullable = true)\n\n"
     ]
    }
   ],
   "source": [
    "results_df.printSchema()"
   ]
  },
  {
   "cell_type": "code",
   "execution_count": 0,
   "metadata": {
    "application/vnd.databricks.v1+cell": {
     "cellMetadata": {
      "byteLimit": 2048000,
      "rowLimit": 10000
     },
     "inputWidgets": {},
     "nuid": "128a929c-e337-4050-bb63-901fc82440d0",
     "showTitle": false,
     "title": ""
    }
   },
   "outputs": [
    {
     "output_type": "display_data",
     "data": {
      "text/html": [
       "<style scoped>\n",
       "  .table-result-container {\n",
       "    max-height: 300px;\n",
       "    overflow: auto;\n",
       "  }\n",
       "  table, th, td {\n",
       "    border: 1px solid black;\n",
       "    border-collapse: collapse;\n",
       "  }\n",
       "  th, td {\n",
       "    padding: 5px;\n",
       "  }\n",
       "  th {\n",
       "    text-align: left;\n",
       "  }\n",
       "</style><div class='table-result-container'><table class='table-result'><thead style='background-color: white'><tr><th>resultId</th><th>raceId</th><th>driverId</th><th>constructorId</th><th>number</th><th>grid</th><th>position</th><th>positionText</th><th>positionOrder</th><th>points</th><th>laps</th><th>time</th><th>milliseconds</th><th>fastestLap</th><th>rank</th><th>fastestLapTime</th><th>fastestLapSpeed</th><th>statusId</th></tr></thead><tbody><tr><td>1</td><td>18</td><td>1</td><td>1</td><td>22</td><td>1</td><td>1</td><td>1</td><td>1</td><td>10.0</td><td>58</td><td>1:34:50.616</td><td>5690616</td><td>39</td><td>2</td><td>1:27.452</td><td>218.3</td><td>1</td></tr><tr><td>2</td><td>18</td><td>2</td><td>2</td><td>3</td><td>5</td><td>2</td><td>2</td><td>2</td><td>8.0</td><td>58</td><td>+5.478</td><td>5696094</td><td>41</td><td>3</td><td>1:27.739</td><td>217.586</td><td>1</td></tr><tr><td>3</td><td>18</td><td>3</td><td>3</td><td>7</td><td>7</td><td>3</td><td>3</td><td>3</td><td>6.0</td><td>58</td><td>+8.163</td><td>5698779</td><td>41</td><td>5</td><td>1:28.090</td><td>216.719</td><td>1</td></tr><tr><td>4</td><td>18</td><td>4</td><td>4</td><td>5</td><td>11</td><td>4</td><td>4</td><td>4</td><td>5.0</td><td>58</td><td>+17.181</td><td>5707797</td><td>58</td><td>7</td><td>1:28.603</td><td>215.464</td><td>1</td></tr><tr><td>5</td><td>18</td><td>5</td><td>1</td><td>23</td><td>3</td><td>5</td><td>5</td><td>5</td><td>4.0</td><td>58</td><td>+18.014</td><td>5708630</td><td>43</td><td>1</td><td>1:27.418</td><td>218.385</td><td>1</td></tr><tr><td>6</td><td>18</td><td>6</td><td>3</td><td>8</td><td>13</td><td>6</td><td>6</td><td>6</td><td>3.0</td><td>57</td><td>\\N</td><td>null</td><td>50</td><td>14</td><td>1:29.639</td><td>212.974</td><td>11</td></tr><tr><td>7</td><td>18</td><td>7</td><td>5</td><td>14</td><td>17</td><td>7</td><td>7</td><td>7</td><td>2.0</td><td>55</td><td>\\N</td><td>null</td><td>22</td><td>12</td><td>1:29.534</td><td>213.224</td><td>5</td></tr><tr><td>8</td><td>18</td><td>8</td><td>6</td><td>1</td><td>15</td><td>8</td><td>8</td><td>8</td><td>1.0</td><td>53</td><td>\\N</td><td>null</td><td>20</td><td>4</td><td>1:27.903</td><td>217.18</td><td>5</td></tr><tr><td>9</td><td>18</td><td>9</td><td>2</td><td>4</td><td>2</td><td>null</td><td>R</td><td>9</td><td>0.0</td><td>47</td><td>\\N</td><td>null</td><td>15</td><td>9</td><td>1:28.753</td><td>215.1</td><td>4</td></tr><tr><td>10</td><td>18</td><td>10</td><td>7</td><td>12</td><td>18</td><td>null</td><td>R</td><td>10</td><td>0.0</td><td>43</td><td>\\N</td><td>null</td><td>23</td><td>13</td><td>1:29.558</td><td>213.166</td><td>3</td></tr></tbody></table></div>"
      ]
     },
     "metadata": {
      "application/vnd.databricks.v1+output": {
       "addedWidgets": {},
       "aggData": [],
       "aggError": "",
       "aggOverflow": false,
       "aggSchema": [],
       "aggSeriesLimitReached": false,
       "aggType": "",
       "arguments": {},
       "columnCustomDisplayInfos": {},
       "data": [
        [
         1,
         18,
         1,
         1,
         22,
         1,
         1,
         "1",
         1,
         10.0,
         58,
         "1:34:50.616",
         5690616,
         39,
         2,
         "1:27.452",
         "218.3",
         "1"
        ],
        [
         2,
         18,
         2,
         2,
         3,
         5,
         2,
         "2",
         2,
         8.0,
         58,
         "+5.478",
         5696094,
         41,
         3,
         "1:27.739",
         "217.586",
         "1"
        ],
        [
         3,
         18,
         3,
         3,
         7,
         7,
         3,
         "3",
         3,
         6.0,
         58,
         "+8.163",
         5698779,
         41,
         5,
         "1:28.090",
         "216.719",
         "1"
        ],
        [
         4,
         18,
         4,
         4,
         5,
         11,
         4,
         "4",
         4,
         5.0,
         58,
         "+17.181",
         5707797,
         58,
         7,
         "1:28.603",
         "215.464",
         "1"
        ],
        [
         5,
         18,
         5,
         1,
         23,
         3,
         5,
         "5",
         5,
         4.0,
         58,
         "+18.014",
         5708630,
         43,
         1,
         "1:27.418",
         "218.385",
         "1"
        ],
        [
         6,
         18,
         6,
         3,
         8,
         13,
         6,
         "6",
         6,
         3.0,
         57,
         "\\N",
         null,
         50,
         14,
         "1:29.639",
         "212.974",
         "11"
        ],
        [
         7,
         18,
         7,
         5,
         14,
         17,
         7,
         "7",
         7,
         2.0,
         55,
         "\\N",
         null,
         22,
         12,
         "1:29.534",
         "213.224",
         "5"
        ],
        [
         8,
         18,
         8,
         6,
         1,
         15,
         8,
         "8",
         8,
         1.0,
         53,
         "\\N",
         null,
         20,
         4,
         "1:27.903",
         "217.18",
         "5"
        ],
        [
         9,
         18,
         9,
         2,
         4,
         2,
         null,
         "R",
         9,
         0.0,
         47,
         "\\N",
         null,
         15,
         9,
         "1:28.753",
         "215.1",
         "4"
        ],
        [
         10,
         18,
         10,
         7,
         12,
         18,
         null,
         "R",
         10,
         0.0,
         43,
         "\\N",
         null,
         23,
         13,
         "1:29.558",
         "213.166",
         "3"
        ]
       ],
       "datasetInfos": [],
       "dbfsResultPath": null,
       "isJsonSchema": true,
       "metadata": {},
       "overflow": false,
       "plotOptions": {
        "customPlotOptions": {},
        "displayType": "table",
        "pivotAggregation": null,
        "pivotColumns": null,
        "xColumns": null,
        "yColumns": null
       },
       "removedWidgets": [],
       "schema": [
        {
         "metadata": "{}",
         "name": "resultId",
         "type": "\"integer\""
        },
        {
         "metadata": "{}",
         "name": "raceId",
         "type": "\"integer\""
        },
        {
         "metadata": "{}",
         "name": "driverId",
         "type": "\"integer\""
        },
        {
         "metadata": "{}",
         "name": "constructorId",
         "type": "\"integer\""
        },
        {
         "metadata": "{}",
         "name": "number",
         "type": "\"integer\""
        },
        {
         "metadata": "{}",
         "name": "grid",
         "type": "\"integer\""
        },
        {
         "metadata": "{}",
         "name": "position",
         "type": "\"integer\""
        },
        {
         "metadata": "{}",
         "name": "positionText",
         "type": "\"string\""
        },
        {
         "metadata": "{}",
         "name": "positionOrder",
         "type": "\"integer\""
        },
        {
         "metadata": "{}",
         "name": "points",
         "type": "\"float\""
        },
        {
         "metadata": "{}",
         "name": "laps",
         "type": "\"integer\""
        },
        {
         "metadata": "{}",
         "name": "time",
         "type": "\"string\""
        },
        {
         "metadata": "{}",
         "name": "milliseconds",
         "type": "\"integer\""
        },
        {
         "metadata": "{}",
         "name": "fastestLap",
         "type": "\"integer\""
        },
        {
         "metadata": "{}",
         "name": "rank",
         "type": "\"integer\""
        },
        {
         "metadata": "{}",
         "name": "fastestLapTime",
         "type": "\"string\""
        },
        {
         "metadata": "{}",
         "name": "fastestLapSpeed",
         "type": "\"string\""
        },
        {
         "metadata": "{}",
         "name": "statusId",
         "type": "\"string\""
        }
       ],
       "type": "table"
      }
     },
     "output_type": "display_data"
    }
   ],
   "source": [
    "display(results_df.limit(10))"
   ]
  },
  {
   "cell_type": "markdown",
   "metadata": {
    "application/vnd.databricks.v1+cell": {
     "cellMetadata": {
      "byteLimit": 2048000,
      "rowLimit": 10000
     },
     "inputWidgets": {},
     "nuid": "c4e19a54-0af0-4e62-841a-39ee31ec372a",
     "showTitle": false,
     "title": ""
    }
   },
   "source": [
    "# 2. Reform the schema:\n",
    "- rename ids, position and lap attributes to snake_case convention\n",
    "- add ingestion date\n",
    "- get rid of status column"
   ]
  },
  {
   "cell_type": "code",
   "execution_count": 0,
   "metadata": {
    "application/vnd.databricks.v1+cell": {
     "cellMetadata": {
      "byteLimit": 2048000,
      "rowLimit": 10000
     },
     "inputWidgets": {},
     "nuid": "697011e9-c544-4581-ba62-a8e68dc3127d",
     "showTitle": false,
     "title": ""
    }
   },
   "outputs": [],
   "source": [
    "from pyspark.sql.functions import current_timestamp, lit"
   ]
  },
  {
   "cell_type": "code",
   "execution_count": 0,
   "metadata": {
    "application/vnd.databricks.v1+cell": {
     "cellMetadata": {
      "byteLimit": 2048000,
      "rowLimit": 10000
     },
     "inputWidgets": {},
     "nuid": "590b8097-9eaa-4f1b-b231-2bb5fb0b224b",
     "showTitle": false,
     "title": ""
    }
   },
   "outputs": [],
   "source": [
    "results_df = results_df \\\n",
    "  .withColumnRenamed('resultId', 'result_id') \\\n",
    "  .withColumnRenamed('raceId', 'race_id') \\\n",
    "  .withColumnRenamed('driverId', 'driver_id') \\\n",
    "  .withColumnRenamed('constructorId', 'constructor_id') \\\n",
    "  .withColumnRenamed('positionText', 'position_text') \\\n",
    "  .withColumnRenamed('positionOrder', 'position_order') \\\n",
    "  .withColumnRenamed('fastestLap', 'fastest_lap') \\\n",
    "  .withColumnRenamed('fastestLapTime', 'fastest_lap_time') \\\n",
    "  .withColumnRenamed('fastestLapSpeed', 'fastest_lap_speed') \\\n",
    "  .withColumn('data_source', lit(param_data_source)) \\\n",
    "  .withColumn('ingestion_date', current_timestamp()) \\\n",
    "  .drop('statusId')"
   ]
  },
  {
   "cell_type": "code",
   "execution_count": 0,
   "metadata": {
    "application/vnd.databricks.v1+cell": {
     "cellMetadata": {
      "byteLimit": 2048000,
      "rowLimit": 10000
     },
     "inputWidgets": {},
     "nuid": "5f330067-aec4-423d-abe5-6bb9dcdfb67b",
     "showTitle": false,
     "title": ""
    }
   },
   "outputs": [
    {
     "output_type": "display_data",
     "data": {
      "text/html": [
       "<style scoped>\n",
       "  .table-result-container {\n",
       "    max-height: 300px;\n",
       "    overflow: auto;\n",
       "  }\n",
       "  table, th, td {\n",
       "    border: 1px solid black;\n",
       "    border-collapse: collapse;\n",
       "  }\n",
       "  th, td {\n",
       "    padding: 5px;\n",
       "  }\n",
       "  th {\n",
       "    text-align: left;\n",
       "  }\n",
       "</style><div class='table-result-container'><table class='table-result'><thead style='background-color: white'><tr><th>result_id</th><th>race_id</th><th>driver_id</th><th>constructor_id</th><th>number</th><th>grid</th><th>position</th><th>position_text</th><th>position_order</th><th>points</th><th>laps</th><th>time</th><th>milliseconds</th><th>fastest_lap</th><th>rank</th><th>fastest_lap_time</th><th>fastest_lap_speed</th><th>ingestion_date</th></tr></thead><tbody><tr><td>1</td><td>18</td><td>1</td><td>1</td><td>22</td><td>1</td><td>1</td><td>1</td><td>1</td><td>10.0</td><td>58</td><td>1:34:50.616</td><td>5690616</td><td>39</td><td>2</td><td>1:27.452</td><td>218.3</td><td>2024-09-04T06:15:05.84Z</td></tr><tr><td>2</td><td>18</td><td>2</td><td>2</td><td>3</td><td>5</td><td>2</td><td>2</td><td>2</td><td>8.0</td><td>58</td><td>+5.478</td><td>5696094</td><td>41</td><td>3</td><td>1:27.739</td><td>217.586</td><td>2024-09-04T06:15:05.84Z</td></tr><tr><td>3</td><td>18</td><td>3</td><td>3</td><td>7</td><td>7</td><td>3</td><td>3</td><td>3</td><td>6.0</td><td>58</td><td>+8.163</td><td>5698779</td><td>41</td><td>5</td><td>1:28.090</td><td>216.719</td><td>2024-09-04T06:15:05.84Z</td></tr><tr><td>4</td><td>18</td><td>4</td><td>4</td><td>5</td><td>11</td><td>4</td><td>4</td><td>4</td><td>5.0</td><td>58</td><td>+17.181</td><td>5707797</td><td>58</td><td>7</td><td>1:28.603</td><td>215.464</td><td>2024-09-04T06:15:05.84Z</td></tr><tr><td>5</td><td>18</td><td>5</td><td>1</td><td>23</td><td>3</td><td>5</td><td>5</td><td>5</td><td>4.0</td><td>58</td><td>+18.014</td><td>5708630</td><td>43</td><td>1</td><td>1:27.418</td><td>218.385</td><td>2024-09-04T06:15:05.84Z</td></tr><tr><td>6</td><td>18</td><td>6</td><td>3</td><td>8</td><td>13</td><td>6</td><td>6</td><td>6</td><td>3.0</td><td>57</td><td>\\N</td><td>null</td><td>50</td><td>14</td><td>1:29.639</td><td>212.974</td><td>2024-09-04T06:15:05.84Z</td></tr><tr><td>7</td><td>18</td><td>7</td><td>5</td><td>14</td><td>17</td><td>7</td><td>7</td><td>7</td><td>2.0</td><td>55</td><td>\\N</td><td>null</td><td>22</td><td>12</td><td>1:29.534</td><td>213.224</td><td>2024-09-04T06:15:05.84Z</td></tr><tr><td>8</td><td>18</td><td>8</td><td>6</td><td>1</td><td>15</td><td>8</td><td>8</td><td>8</td><td>1.0</td><td>53</td><td>\\N</td><td>null</td><td>20</td><td>4</td><td>1:27.903</td><td>217.18</td><td>2024-09-04T06:15:05.84Z</td></tr><tr><td>9</td><td>18</td><td>9</td><td>2</td><td>4</td><td>2</td><td>null</td><td>R</td><td>9</td><td>0.0</td><td>47</td><td>\\N</td><td>null</td><td>15</td><td>9</td><td>1:28.753</td><td>215.1</td><td>2024-09-04T06:15:05.84Z</td></tr><tr><td>10</td><td>18</td><td>10</td><td>7</td><td>12</td><td>18</td><td>null</td><td>R</td><td>10</td><td>0.0</td><td>43</td><td>\\N</td><td>null</td><td>23</td><td>13</td><td>1:29.558</td><td>213.166</td><td>2024-09-04T06:15:05.84Z</td></tr></tbody></table></div>"
      ]
     },
     "metadata": {
      "application/vnd.databricks.v1+output": {
       "addedWidgets": {},
       "aggData": [],
       "aggError": "",
       "aggOverflow": false,
       "aggSchema": [],
       "aggSeriesLimitReached": false,
       "aggType": "",
       "arguments": {},
       "columnCustomDisplayInfos": {},
       "data": [
        [
         1,
         18,
         1,
         1,
         22,
         1,
         1,
         "1",
         1,
         10.0,
         58,
         "1:34:50.616",
         5690616,
         39,
         2,
         "1:27.452",
         "218.3",
         "2024-09-04T06:15:05.84Z"
        ],
        [
         2,
         18,
         2,
         2,
         3,
         5,
         2,
         "2",
         2,
         8.0,
         58,
         "+5.478",
         5696094,
         41,
         3,
         "1:27.739",
         "217.586",
         "2024-09-04T06:15:05.84Z"
        ],
        [
         3,
         18,
         3,
         3,
         7,
         7,
         3,
         "3",
         3,
         6.0,
         58,
         "+8.163",
         5698779,
         41,
         5,
         "1:28.090",
         "216.719",
         "2024-09-04T06:15:05.84Z"
        ],
        [
         4,
         18,
         4,
         4,
         5,
         11,
         4,
         "4",
         4,
         5.0,
         58,
         "+17.181",
         5707797,
         58,
         7,
         "1:28.603",
         "215.464",
         "2024-09-04T06:15:05.84Z"
        ],
        [
         5,
         18,
         5,
         1,
         23,
         3,
         5,
         "5",
         5,
         4.0,
         58,
         "+18.014",
         5708630,
         43,
         1,
         "1:27.418",
         "218.385",
         "2024-09-04T06:15:05.84Z"
        ],
        [
         6,
         18,
         6,
         3,
         8,
         13,
         6,
         "6",
         6,
         3.0,
         57,
         "\\N",
         null,
         50,
         14,
         "1:29.639",
         "212.974",
         "2024-09-04T06:15:05.84Z"
        ],
        [
         7,
         18,
         7,
         5,
         14,
         17,
         7,
         "7",
         7,
         2.0,
         55,
         "\\N",
         null,
         22,
         12,
         "1:29.534",
         "213.224",
         "2024-09-04T06:15:05.84Z"
        ],
        [
         8,
         18,
         8,
         6,
         1,
         15,
         8,
         "8",
         8,
         1.0,
         53,
         "\\N",
         null,
         20,
         4,
         "1:27.903",
         "217.18",
         "2024-09-04T06:15:05.84Z"
        ],
        [
         9,
         18,
         9,
         2,
         4,
         2,
         null,
         "R",
         9,
         0.0,
         47,
         "\\N",
         null,
         15,
         9,
         "1:28.753",
         "215.1",
         "2024-09-04T06:15:05.84Z"
        ],
        [
         10,
         18,
         10,
         7,
         12,
         18,
         null,
         "R",
         10,
         0.0,
         43,
         "\\N",
         null,
         23,
         13,
         "1:29.558",
         "213.166",
         "2024-09-04T06:15:05.84Z"
        ]
       ],
       "datasetInfos": [],
       "dbfsResultPath": null,
       "isJsonSchema": true,
       "metadata": {},
       "overflow": false,
       "plotOptions": {
        "customPlotOptions": {},
        "displayType": "table",
        "pivotAggregation": null,
        "pivotColumns": null,
        "xColumns": null,
        "yColumns": null
       },
       "removedWidgets": [],
       "schema": [
        {
         "metadata": "{}",
         "name": "result_id",
         "type": "\"integer\""
        },
        {
         "metadata": "{}",
         "name": "race_id",
         "type": "\"integer\""
        },
        {
         "metadata": "{}",
         "name": "driver_id",
         "type": "\"integer\""
        },
        {
         "metadata": "{}",
         "name": "constructor_id",
         "type": "\"integer\""
        },
        {
         "metadata": "{}",
         "name": "number",
         "type": "\"integer\""
        },
        {
         "metadata": "{}",
         "name": "grid",
         "type": "\"integer\""
        },
        {
         "metadata": "{}",
         "name": "position",
         "type": "\"integer\""
        },
        {
         "metadata": "{}",
         "name": "position_text",
         "type": "\"string\""
        },
        {
         "metadata": "{}",
         "name": "position_order",
         "type": "\"integer\""
        },
        {
         "metadata": "{}",
         "name": "points",
         "type": "\"float\""
        },
        {
         "metadata": "{}",
         "name": "laps",
         "type": "\"integer\""
        },
        {
         "metadata": "{}",
         "name": "time",
         "type": "\"string\""
        },
        {
         "metadata": "{}",
         "name": "milliseconds",
         "type": "\"integer\""
        },
        {
         "metadata": "{}",
         "name": "fastest_lap",
         "type": "\"integer\""
        },
        {
         "metadata": "{}",
         "name": "rank",
         "type": "\"integer\""
        },
        {
         "metadata": "{}",
         "name": "fastest_lap_time",
         "type": "\"string\""
        },
        {
         "metadata": "{}",
         "name": "fastest_lap_speed",
         "type": "\"string\""
        },
        {
         "metadata": "{}",
         "name": "ingestion_date",
         "type": "\"timestamp\""
        }
       ],
       "type": "table"
      }
     },
     "output_type": "display_data"
    }
   ],
   "source": [
    "display(results_df.limit(10))"
   ]
  },
  {
   "cell_type": "markdown",
   "metadata": {
    "application/vnd.databricks.v1+cell": {
     "cellMetadata": {
      "byteLimit": 2048000,
      "rowLimit": 10000
     },
     "inputWidgets": {},
     "nuid": "03a34c0e-e180-4e75-9ca7-be023533581f",
     "showTitle": false,
     "title": ""
    }
   },
   "source": [
    "# 3. Save and read from parquet"
   ]
  },
  {
   "cell_type": "code",
   "execution_count": 0,
   "metadata": {
    "application/vnd.databricks.v1+cell": {
     "cellMetadata": {
      "byteLimit": 2048000,
      "rowLimit": 10000
     },
     "inputWidgets": {},
     "nuid": "d1d77307-b4cd-4f2f-bd17-4cbb95ab9a1f",
     "showTitle": false,
     "title": ""
    }
   },
   "outputs": [],
   "source": [
    "results_df.write.mode('overwrite').partitionBy('race_id').parquet(f'{processed_folder_path}/results')"
   ]
  },
  {
   "cell_type": "code",
   "execution_count": 0,
   "metadata": {
    "application/vnd.databricks.v1+cell": {
     "cellMetadata": {
      "byteLimit": 2048000,
      "rowLimit": 10000
     },
     "inputWidgets": {},
     "nuid": "58096aa7-7bfb-42d8-b286-7116f81d5781",
     "showTitle": false,
     "title": ""
    }
   },
   "outputs": [
    {
     "output_type": "display_data",
     "data": {
      "text/html": [
       "<style scoped>\n",
       "  .table-result-container {\n",
       "    max-height: 300px;\n",
       "    overflow: auto;\n",
       "  }\n",
       "  table, th, td {\n",
       "    border: 1px solid black;\n",
       "    border-collapse: collapse;\n",
       "  }\n",
       "  th, td {\n",
       "    padding: 5px;\n",
       "  }\n",
       "  th {\n",
       "    text-align: left;\n",
       "  }\n",
       "</style><div class='table-result-container'><table class='table-result'><thead style='background-color: white'><tr><th>result_id</th><th>driver_id</th><th>constructor_id</th><th>number</th><th>grid</th><th>position</th><th>position_text</th><th>position_order</th><th>points</th><th>laps</th><th>time</th><th>milliseconds</th><th>fastest_lap</th><th>rank</th><th>fastest_lap_time</th><th>fastest_lap_speed</th><th>ingestion_date</th><th>race_id</th></tr></thead><tbody><tr><td>19232</td><td>657</td><td>113</td><td>14</td><td>19</td><td>1</td><td>1</td><td>1</td><td>8.0</td><td>200</td><td>3:49:17.27</td><td>13757270</td><td>null</td><td>null</td><td>\\N</td><td>\\N</td><td>2024-09-04T06:15:06.293Z</td><td>800</td></tr><tr><td>19233</td><td>525</td><td>114</td><td>9</td><td>3</td><td>2</td><td>2</td><td>2</td><td>6.0</td><td>200</td><td>+1:09.95</td><td>13827220</td><td>null</td><td>null</td><td>\\N</td><td>\\N</td><td>2024-09-04T06:15:06.293Z</td><td>800</td></tr><tr><td>19234</td><td>658</td><td>113</td><td>2</td><td>1</td><td>3</td><td>3</td><td>3</td><td>5.0</td><td>200</td><td>+1:19.73</td><td>13837000</td><td>null</td><td>null</td><td>\\N</td><td>\\N</td><td>2024-09-04T06:15:06.293Z</td><td>800</td></tr><tr><td>19235</td><td>526</td><td>113</td><td>34</td><td>11</td><td>4</td><td>4</td><td>4</td><td>1.5</td><td>200</td><td>+2:52.68</td><td>13929950</td><td>null</td><td>null</td><td>\\N</td><td>\\N</td><td>2024-09-04T06:15:06.293Z</td><td>800</td></tr><tr><td>19236</td><td>673</td><td>113</td><td>73</td><td>14</td><td>5</td><td>5</td><td>5</td><td>2.0</td><td>200</td><td>+3:24.55</td><td>13961820</td><td>null</td><td>null</td><td>\\N</td><td>\\N</td><td>2024-09-04T06:15:06.293Z</td><td>800</td></tr><tr><td>19237</td><td>615</td><td>113</td><td>77</td><td>24</td><td>6</td><td>6</td><td>6</td><td>0.0</td><td>200</td><td>+3:47.55</td><td>13984820</td><td>null</td><td>null</td><td>\\N</td><td>\\N</td><td>2024-09-04T06:15:06.293Z</td><td>800</td></tr><tr><td>19238</td><td>528</td><td>109</td><td>7</td><td>6</td><td>7</td><td>7</td><td>7</td><td>0.0</td><td>200</td><td>+4:13.35</td><td>14010620</td><td>null</td><td>null</td><td>\\N</td><td>\\N</td><td>2024-09-04T06:15:06.293Z</td><td>800</td></tr><tr><td>19239</td><td>555</td><td>113</td><td>5</td><td>32</td><td>8</td><td>8</td><td>8</td><td>0.0</td><td>200</td><td>+5:01.17</td><td>14058440</td><td>null</td><td>null</td><td>\\N</td><td>\\N</td><td>2024-09-04T06:15:06.293Z</td><td>800</td></tr><tr><td>19240</td><td>674</td><td>113</td><td>28</td><td>25</td><td>9</td><td>9</td><td>9</td><td>0.0</td><td>200</td><td>+7:07.24</td><td>14184510</td><td>null</td><td>null</td><td>\\N</td><td>\\N</td><td>2024-09-04T06:15:06.293Z</td><td>800</td></tr><tr><td>19241</td><td>655</td><td>129</td><td>24</td><td>13</td><td>10</td><td>10</td><td>10</td><td>0.0</td><td>200</td><td>+7:07.69</td><td>14184960</td><td>null</td><td>null</td><td>\\N</td><td>\\N</td><td>2024-09-04T06:15:06.293Z</td><td>800</td></tr></tbody></table></div>"
      ]
     },
     "metadata": {
      "application/vnd.databricks.v1+output": {
       "addedWidgets": {},
       "aggData": [],
       "aggError": "",
       "aggOverflow": false,
       "aggSchema": [],
       "aggSeriesLimitReached": false,
       "aggType": "",
       "arguments": {},
       "columnCustomDisplayInfos": {},
       "data": [
        [
         19232,
         657,
         113,
         14,
         19,
         1,
         "1",
         1,
         8.0,
         200,
         "3:49:17.27",
         13757270,
         null,
         null,
         "\\N",
         "\\N",
         "2024-09-04T06:15:06.293Z",
         800
        ],
        [
         19233,
         525,
         114,
         9,
         3,
         2,
         "2",
         2,
         6.0,
         200,
         "+1:09.95",
         13827220,
         null,
         null,
         "\\N",
         "\\N",
         "2024-09-04T06:15:06.293Z",
         800
        ],
        [
         19234,
         658,
         113,
         2,
         1,
         3,
         "3",
         3,
         5.0,
         200,
         "+1:19.73",
         13837000,
         null,
         null,
         "\\N",
         "\\N",
         "2024-09-04T06:15:06.293Z",
         800
        ],
        [
         19235,
         526,
         113,
         34,
         11,
         4,
         "4",
         4,
         1.5,
         200,
         "+2:52.68",
         13929950,
         null,
         null,
         "\\N",
         "\\N",
         "2024-09-04T06:15:06.293Z",
         800
        ],
        [
         19236,
         673,
         113,
         73,
         14,
         5,
         "5",
         5,
         2.0,
         200,
         "+3:24.55",
         13961820,
         null,
         null,
         "\\N",
         "\\N",
         "2024-09-04T06:15:06.293Z",
         800
        ],
        [
         19237,
         615,
         113,
         77,
         24,
         6,
         "6",
         6,
         0.0,
         200,
         "+3:47.55",
         13984820,
         null,
         null,
         "\\N",
         "\\N",
         "2024-09-04T06:15:06.293Z",
         800
        ],
        [
         19238,
         528,
         109,
         7,
         6,
         7,
         "7",
         7,
         0.0,
         200,
         "+4:13.35",
         14010620,
         null,
         null,
         "\\N",
         "\\N",
         "2024-09-04T06:15:06.293Z",
         800
        ],
        [
         19239,
         555,
         113,
         5,
         32,
         8,
         "8",
         8,
         0.0,
         200,
         "+5:01.17",
         14058440,
         null,
         null,
         "\\N",
         "\\N",
         "2024-09-04T06:15:06.293Z",
         800
        ],
        [
         19240,
         674,
         113,
         28,
         25,
         9,
         "9",
         9,
         0.0,
         200,
         "+7:07.24",
         14184510,
         null,
         null,
         "\\N",
         "\\N",
         "2024-09-04T06:15:06.293Z",
         800
        ],
        [
         19241,
         655,
         129,
         24,
         13,
         10,
         "10",
         10,
         0.0,
         200,
         "+7:07.69",
         14184960,
         null,
         null,
         "\\N",
         "\\N",
         "2024-09-04T06:15:06.293Z",
         800
        ]
       ],
       "datasetInfos": [],
       "dbfsResultPath": null,
       "isJsonSchema": true,
       "metadata": {},
       "overflow": false,
       "plotOptions": {
        "customPlotOptions": {},
        "displayType": "table",
        "pivotAggregation": null,
        "pivotColumns": null,
        "xColumns": null,
        "yColumns": null
       },
       "removedWidgets": [],
       "schema": [
        {
         "metadata": "{}",
         "name": "result_id",
         "type": "\"integer\""
        },
        {
         "metadata": "{}",
         "name": "driver_id",
         "type": "\"integer\""
        },
        {
         "metadata": "{}",
         "name": "constructor_id",
         "type": "\"integer\""
        },
        {
         "metadata": "{}",
         "name": "number",
         "type": "\"integer\""
        },
        {
         "metadata": "{}",
         "name": "grid",
         "type": "\"integer\""
        },
        {
         "metadata": "{}",
         "name": "position",
         "type": "\"integer\""
        },
        {
         "metadata": "{}",
         "name": "position_text",
         "type": "\"string\""
        },
        {
         "metadata": "{}",
         "name": "position_order",
         "type": "\"integer\""
        },
        {
         "metadata": "{}",
         "name": "points",
         "type": "\"float\""
        },
        {
         "metadata": "{}",
         "name": "laps",
         "type": "\"integer\""
        },
        {
         "metadata": "{}",
         "name": "time",
         "type": "\"string\""
        },
        {
         "metadata": "{}",
         "name": "milliseconds",
         "type": "\"integer\""
        },
        {
         "metadata": "{}",
         "name": "fastest_lap",
         "type": "\"integer\""
        },
        {
         "metadata": "{}",
         "name": "rank",
         "type": "\"integer\""
        },
        {
         "metadata": "{}",
         "name": "fastest_lap_time",
         "type": "\"string\""
        },
        {
         "metadata": "{}",
         "name": "fastest_lap_speed",
         "type": "\"string\""
        },
        {
         "metadata": "{}",
         "name": "ingestion_date",
         "type": "\"timestamp\""
        },
        {
         "metadata": "{}",
         "name": "race_id",
         "type": "\"integer\""
        }
       ],
       "type": "table"
      }
     },
     "output_type": "display_data"
    }
   ],
   "source": [
    "results_df = spark.read.parquet(f'{processed_folder_path}/results')\n",
    "display(results_df.limit(10))"
   ]
  },
  {
   "cell_type": "code",
   "execution_count": 0,
   "metadata": {
    "application/vnd.databricks.v1+cell": {
     "cellMetadata": {},
     "inputWidgets": {},
     "nuid": "1fdaa4cb-01c0-4de8-a2b4-cd6f59692cf2",
     "showTitle": false,
     "title": ""
    }
   },
   "outputs": [],
   "source": [
    "dbutils.notebook.exit('success')"
   ]
  }
 ],
 "metadata": {
  "application/vnd.databricks.v1+notebook": {
   "dashboards": [],
   "environmentMetadata": {
    "base_environment": "",
    "client": "1"
   },
   "language": "python",
   "notebookMetadata": {
    "pythonIndentUnit": 4
   },
   "notebookName": "5_ingest_results_file",
   "widgets": {}
  }
 },
 "nbformat": 4,
 "nbformat_minor": 0
}
